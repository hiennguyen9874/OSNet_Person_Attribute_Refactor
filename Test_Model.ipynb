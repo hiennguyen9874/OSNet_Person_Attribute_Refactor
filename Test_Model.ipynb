{
 "cells": [
  {
   "cell_type": "markdown",
   "metadata": {
    "colab_type": "text",
    "id": "VN3mQjdoM8ut"
   },
   "source": [
    "# Clone code từ github"
   ]
  },
  {
   "cell_type": "code",
   "execution_count": null,
   "metadata": {
    "colab": {
     "base_uri": "https://localhost:8080/",
     "height": 121
    },
    "colab_type": "code",
    "id": "kZbSHfhHU1OE",
    "outputId": "4b7b37a4-5eba-495f-8392-96c811d75b07"
   },
   "outputs": [
    {
     "name": "stdout",
     "output_type": "stream",
     "text": [
      "Go to this URL in a browser: https://accounts.google.com/o/oauth2/auth?client_id=947318989803-6bn6qk8qdgf4n4g3pfee6491hc0brc4i.apps.googleusercontent.com&redirect_uri=urn%3aietf%3awg%3aoauth%3a2.0%3aoob&scope=email%20https%3a%2f%2fwww.googleapis.com%2fauth%2fdocs.test%20https%3a%2f%2fwww.googleapis.com%2fauth%2fdrive%20https%3a%2f%2fwww.googleapis.com%2fauth%2fdrive.photos.readonly%20https%3a%2f%2fwww.googleapis.com%2fauth%2fpeopleapi.readonly&response_type=code\n",
      "\n",
      "Enter your authorization code:\n",
      "4/4AE0KaCADaV4rukUKtu44D-r409EhisyhFgUA98kXTDr1mk4v7iiaxM\n",
      "Mounted at /content/drive\n"
     ]
    }
   ],
   "source": [
    "from google.colab import drive\n",
    "drive.mount('/content/drive')"
   ]
  },
  {
   "cell_type": "code",
   "execution_count": null,
   "metadata": {
    "colab": {
     "base_uri": "https://localhost:8080/",
     "height": 134
    },
    "colab_type": "code",
    "id": "mpPNLNWUqKgI",
    "outputId": "2f8adb91-1361-49c6-cedf-4c8cfd10cc88"
   },
   "outputs": [
    {
     "name": "stdout",
     "output_type": "stream",
     "text": [
      "Cloning into 'person_attribute_recognition'...\n",
      "remote: Enumerating objects: 543, done.\u001b[K\n",
      "remote: Counting objects: 100% (543/543), done.\u001b[K\n",
      "remote: Compressing objects: 100% (361/361), done.\u001b[K\n",
      "remote: Total 3041 (delta 334), reused 360 (delta 178), pack-reused 2498\u001b[K\n",
      "Receiving objects: 100% (3041/3041), 22.75 MiB | 30.49 MiB/s, done.\n",
      "Resolving deltas: 100% (2069/2069), done.\n"
     ]
    }
   ],
   "source": [
    "!git clone https://github.com/hiennguyen9874/person_attribute_recognition.git\n",
    "!\\cp -r /content/person_attribute_recognition/* /content/\n",
    "!rm -rf sample_data\n",
    "!rm -rf person_attribute_recognition\n"
   ]
  },
  {
   "cell_type": "code",
   "execution_count": null,
   "metadata": {
    "colab": {
     "base_uri": "https://localhost:8080/",
     "height": 843
    },
    "colab_type": "code",
    "id": "MFyRuyjD27qg",
    "outputId": "4e8711b4-ba34-4ba3-beef-3252fceac020"
   },
   "outputs": [
    {
     "name": "stdout",
     "output_type": "stream",
     "text": [
      "Collecting efficientnet_pytorch\n",
      "  Downloading https://files.pythonhosted.org/packages/4e/83/f9c5f44060f996279e474185ebcbd8dbd91179593bffb9abe3afa55d085b/efficientnet_pytorch-0.7.0.tar.gz\n",
      "Requirement already satisfied, skipping upgrade: torch in /usr/local/lib/python3.6/dist-packages (from efficientnet_pytorch) (1.6.0+cu101)\n",
      "Requirement already satisfied, skipping upgrade: numpy in /usr/local/lib/python3.6/dist-packages (from torch->efficientnet_pytorch) (1.18.5)\n",
      "Requirement already satisfied, skipping upgrade: future in /usr/local/lib/python3.6/dist-packages (from torch->efficientnet_pytorch) (0.16.0)\n",
      "Building wheels for collected packages: efficientnet-pytorch\n",
      "  Building wheel for efficientnet-pytorch (setup.py) ... \u001b[?25l\u001b[?25hdone\n",
      "  Created wheel for efficientnet-pytorch: filename=efficientnet_pytorch-0.7.0-cp36-none-any.whl size=16031 sha256=0ab87584ef92248e06d74014b9d6a49a3145bf14c59b3afe8ea8c9058058997c\n",
      "  Stored in directory: /root/.cache/pip/wheels/e9/c6/e1/7a808b26406239712cfce4b5ceeb67d9513ae32aa4b31445c6\n",
      "Successfully built efficientnet-pytorch\n",
      "Installing collected packages: efficientnet-pytorch\n",
      "Successfully installed efficientnet-pytorch-0.7.0\n",
      "Collecting albumentations==0.4.6\n",
      "\u001b[?25l  Downloading https://files.pythonhosted.org/packages/92/33/1c459c2c9a4028ec75527eff88bc4e2d256555189f42af4baf4d7bd89233/albumentations-0.4.6.tar.gz (117kB)\n",
      "\u001b[K     |████████████████████████████████| 122kB 4.4MB/s \n",
      "\u001b[?25hRequirement already satisfied, skipping upgrade: numpy>=1.11.1 in /usr/local/lib/python3.6/dist-packages (from albumentations==0.4.6) (1.18.5)\n",
      "Requirement already satisfied, skipping upgrade: scipy in /usr/local/lib/python3.6/dist-packages (from albumentations==0.4.6) (1.4.1)\n",
      "Collecting imgaug>=0.4.0\n",
      "\u001b[?25l  Downloading https://files.pythonhosted.org/packages/66/b1/af3142c4a85cba6da9f4ebb5ff4e21e2616309552caca5e8acefe9840622/imgaug-0.4.0-py2.py3-none-any.whl (948kB)\n",
      "\u001b[K     |████████████████████████████████| 952kB 8.7MB/s \n",
      "\u001b[?25hRequirement already satisfied, skipping upgrade: PyYAML in /usr/local/lib/python3.6/dist-packages (from albumentations==0.4.6) (3.13)\n",
      "Requirement already satisfied, skipping upgrade: opencv-python>=4.1.1 in /usr/local/lib/python3.6/dist-packages (from albumentations==0.4.6) (4.1.2.30)\n",
      "Requirement already satisfied, skipping upgrade: six in /usr/local/lib/python3.6/dist-packages (from imgaug>=0.4.0->albumentations==0.4.6) (1.15.0)\n",
      "Requirement already satisfied, skipping upgrade: Shapely in /usr/local/lib/python3.6/dist-packages (from imgaug>=0.4.0->albumentations==0.4.6) (1.7.1)\n",
      "Requirement already satisfied, skipping upgrade: matplotlib in /usr/local/lib/python3.6/dist-packages (from imgaug>=0.4.0->albumentations==0.4.6) (3.2.2)\n",
      "Requirement already satisfied, skipping upgrade: imageio in /usr/local/lib/python3.6/dist-packages (from imgaug>=0.4.0->albumentations==0.4.6) (2.4.1)\n",
      "Requirement already satisfied, skipping upgrade: Pillow in /usr/local/lib/python3.6/dist-packages (from imgaug>=0.4.0->albumentations==0.4.6) (7.0.0)\n",
      "Requirement already satisfied, skipping upgrade: scikit-image>=0.14.2 in /usr/local/lib/python3.6/dist-packages (from imgaug>=0.4.0->albumentations==0.4.6) (0.16.2)\n",
      "Requirement already satisfied, skipping upgrade: cycler>=0.10 in /usr/local/lib/python3.6/dist-packages (from matplotlib->imgaug>=0.4.0->albumentations==0.4.6) (0.10.0)\n",
      "Requirement already satisfied, skipping upgrade: python-dateutil>=2.1 in /usr/local/lib/python3.6/dist-packages (from matplotlib->imgaug>=0.4.0->albumentations==0.4.6) (2.8.1)\n",
      "Requirement already satisfied, skipping upgrade: kiwisolver>=1.0.1 in /usr/local/lib/python3.6/dist-packages (from matplotlib->imgaug>=0.4.0->albumentations==0.4.6) (1.2.0)\n",
      "Requirement already satisfied, skipping upgrade: pyparsing!=2.0.4,!=2.1.2,!=2.1.6,>=2.0.1 in /usr/local/lib/python3.6/dist-packages (from matplotlib->imgaug>=0.4.0->albumentations==0.4.6) (2.4.7)\n",
      "Requirement already satisfied, skipping upgrade: PyWavelets>=0.4.0 in /usr/local/lib/python3.6/dist-packages (from scikit-image>=0.14.2->imgaug>=0.4.0->albumentations==0.4.6) (1.1.1)\n",
      "Requirement already satisfied, skipping upgrade: networkx>=2.0 in /usr/local/lib/python3.6/dist-packages (from scikit-image>=0.14.2->imgaug>=0.4.0->albumentations==0.4.6) (2.5)\n",
      "Requirement already satisfied, skipping upgrade: decorator>=4.3.0 in /usr/local/lib/python3.6/dist-packages (from networkx>=2.0->scikit-image>=0.14.2->imgaug>=0.4.0->albumentations==0.4.6) (4.4.2)\n",
      "Building wheels for collected packages: albumentations\n",
      "  Building wheel for albumentations (setup.py) ... \u001b[?25l\u001b[?25hdone\n",
      "  Created wheel for albumentations: filename=albumentations-0.4.6-cp36-none-any.whl size=65165 sha256=0ada37653acecc7fbc2bce35a86bae44d636e161cbfba4657934afc250877171\n",
      "  Stored in directory: /root/.cache/pip/wheels/c7/f4/89/56d1bee5c421c36c1a951eeb4adcc32fbb82f5344c086efa14\n",
      "Successfully built albumentations\n",
      "Installing collected packages: imgaug, albumentations\n",
      "  Found existing installation: imgaug 0.2.9\n",
      "    Uninstalling imgaug-0.2.9:\n",
      "      Successfully uninstalled imgaug-0.2.9\n",
      "  Found existing installation: albumentations 0.1.12\n",
      "    Uninstalling albumentations-0.1.12:\n",
      "      Successfully uninstalled albumentations-0.1.12\n",
      "Successfully installed albumentations-0.4.6 imgaug-0.4.0\n"
     ]
    }
   ],
   "source": [
    "!pip3 install --upgrade efficientnet_pytorch\n",
    "!pip3 install --upgrade albumentations==0.4.6"
   ]
  },
  {
   "cell_type": "code",
   "execution_count": null,
   "metadata": {
    "colab": {
     "base_uri": "https://localhost:8080/",
     "height": 1000
    },
    "colab_type": "code",
    "id": "rVESPHHqupdC",
    "outputId": "66f87470-6ee9-4929-bb42-17ffd062f2d7"
   },
   "outputs": [
    {
     "name": "stdout",
     "output_type": "stream",
     "text": [
      "Reading package lists... Done\n",
      "Building dependency tree       \n",
      "Reading state information... Done\n",
      "The following package was automatically installed and is no longer required:\n",
      "  libnvidia-common-440\n",
      "Use 'sudo apt autoremove' to remove it.\n",
      "The following additional packages will be installed:\n",
      "  fonts-droid-fallback fonts-lmodern fonts-noto-mono libcupsfilters1\n",
      "  libcupsimage2 libgs9 libgs9-common libijs-0.35 libjbig2dec0 libkpathsea6\n",
      "  libpotrace0 libptexenc1 libsynctex1 libtexlua52 libtexluajit2 libzzip-0-13\n",
      "  lmodern poppler-data t1utils tex-common texlive-base texlive-binaries\n",
      "  texlive-latex-base\n",
      "Suggested packages:\n",
      "  fonts-noto poppler-utils ghostscript fonts-japanese-mincho\n",
      "  | fonts-ipafont-mincho fonts-japanese-gothic | fonts-ipafont-gothic\n",
      "  fonts-arphic-ukai fonts-arphic-uming fonts-nanum debhelper gv\n",
      "  | postscript-viewer perl-tk xpdf-reader | pdf-viewer texlive-latex-base-doc\n",
      "  texlive-latex-recommended-doc texlive-pstricks\n",
      "The following NEW packages will be installed:\n",
      "  fonts-droid-fallback fonts-lmodern fonts-noto-mono libcupsfilters1\n",
      "  libcupsimage2 libgs9 libgs9-common libijs-0.35 libjbig2dec0 libkpathsea6\n",
      "  libpotrace0 libptexenc1 libsynctex1 libtexlua52 libtexluajit2 libzzip-0-13\n",
      "  lmodern poppler-data t1utils tex-common texlive-base texlive-binaries\n",
      "  texlive-latex-base texlive-latex-recommended\n",
      "0 upgraded, 24 newly installed, 0 to remove and 39 not upgraded.\n",
      "Need to get 68.4 MB of archives.\n",
      "After this operation, 223 MB of additional disk space will be used.\n",
      "Get:1 http://archive.ubuntu.com/ubuntu bionic/main amd64 fonts-droid-fallback all 1:6.0.1r16-1.1 [1,805 kB]\n",
      "Get:2 http://archive.ubuntu.com/ubuntu bionic/main amd64 poppler-data all 0.4.8-2 [1,479 kB]\n",
      "Get:3 http://archive.ubuntu.com/ubuntu bionic/main amd64 tex-common all 6.09 [33.0 kB]\n",
      "Get:4 http://archive.ubuntu.com/ubuntu bionic/main amd64 fonts-lmodern all 2.004.5-3 [4,551 kB]\n",
      "Get:5 http://archive.ubuntu.com/ubuntu bionic/main amd64 fonts-noto-mono all 20171026-2 [75.5 kB]\n",
      "Get:6 http://archive.ubuntu.com/ubuntu bionic-updates/main amd64 libcupsfilters1 amd64 1.20.2-0ubuntu3.1 [108 kB]\n",
      "Get:7 http://archive.ubuntu.com/ubuntu bionic-updates/main amd64 libcupsimage2 amd64 2.2.7-1ubuntu2.8 [18.6 kB]\n",
      "Get:8 http://archive.ubuntu.com/ubuntu bionic/main amd64 libijs-0.35 amd64 0.35-13 [15.5 kB]\n",
      "Get:9 http://archive.ubuntu.com/ubuntu bionic/main amd64 libjbig2dec0 amd64 0.13-6 [55.9 kB]\n",
      "Get:10 http://archive.ubuntu.com/ubuntu bionic-updates/main amd64 libgs9-common all 9.26~dfsg+0-0ubuntu0.18.04.13 [5,092 kB]\n",
      "Get:11 http://archive.ubuntu.com/ubuntu bionic-updates/main amd64 libgs9 amd64 9.26~dfsg+0-0ubuntu0.18.04.13 [2,263 kB]\n",
      "Get:12 http://archive.ubuntu.com/ubuntu bionic-updates/main amd64 libkpathsea6 amd64 2017.20170613.44572-8ubuntu0.1 [54.9 kB]\n",
      "Get:13 http://archive.ubuntu.com/ubuntu bionic/main amd64 libpotrace0 amd64 1.14-2 [17.4 kB]\n",
      "Get:14 http://archive.ubuntu.com/ubuntu bionic-updates/main amd64 libptexenc1 amd64 2017.20170613.44572-8ubuntu0.1 [34.5 kB]\n",
      "Get:15 http://archive.ubuntu.com/ubuntu bionic-updates/main amd64 libsynctex1 amd64 2017.20170613.44572-8ubuntu0.1 [41.4 kB]\n",
      "Get:16 http://archive.ubuntu.com/ubuntu bionic-updates/main amd64 libtexlua52 amd64 2017.20170613.44572-8ubuntu0.1 [91.2 kB]\n",
      "Get:17 http://archive.ubuntu.com/ubuntu bionic-updates/main amd64 libtexluajit2 amd64 2017.20170613.44572-8ubuntu0.1 [230 kB]\n",
      "Get:18 http://archive.ubuntu.com/ubuntu bionic-updates/main amd64 libzzip-0-13 amd64 0.13.62-3.1ubuntu0.18.04.1 [26.0 kB]\n",
      "Get:19 http://archive.ubuntu.com/ubuntu bionic/main amd64 lmodern all 2.004.5-3 [9,631 kB]\n",
      "Get:20 http://archive.ubuntu.com/ubuntu bionic/main amd64 t1utils amd64 1.41-2 [56.0 kB]\n",
      "Get:21 http://archive.ubuntu.com/ubuntu bionic-updates/main amd64 texlive-binaries amd64 2017.20170613.44572-8ubuntu0.1 [8,179 kB]\n",
      "Get:22 http://archive.ubuntu.com/ubuntu bionic/main amd64 texlive-base all 2017.20180305-1 [18.7 MB]\n",
      "Get:23 http://archive.ubuntu.com/ubuntu bionic/main amd64 texlive-latex-base all 2017.20180305-1 [951 kB]\n",
      "Get:24 http://archive.ubuntu.com/ubuntu bionic/main amd64 texlive-latex-recommended all 2017.20180305-1 [14.9 MB]\n",
      "Fetched 68.4 MB in 5s (14.0 MB/s)\n",
      "debconf: unable to initialize frontend: Dialog\n",
      "debconf: (No usable dialog-like program is installed, so the dialog based frontend cannot be used. at /usr/share/perl5/Debconf/FrontEnd/Dialog.pm line 76, <> line 24.)\n",
      "debconf: falling back to frontend: Readline\n",
      "debconf: unable to initialize frontend: Readline\n",
      "debconf: (This frontend requires a controlling tty.)\n",
      "debconf: falling back to frontend: Teletype\n",
      "dpkg-preconfigure: unable to re-open stdin: \n",
      "Selecting previously unselected package fonts-droid-fallback.\n",
      "(Reading database ... 144579 files and directories currently installed.)\n",
      "Preparing to unpack .../00-fonts-droid-fallback_1%3a6.0.1r16-1.1_all.deb ...\n",
      "Unpacking fonts-droid-fallback (1:6.0.1r16-1.1) ...\n",
      "Selecting previously unselected package poppler-data.\n",
      "Preparing to unpack .../01-poppler-data_0.4.8-2_all.deb ...\n",
      "Unpacking poppler-data (0.4.8-2) ...\n",
      "Selecting previously unselected package tex-common.\n",
      "Preparing to unpack .../02-tex-common_6.09_all.deb ...\n",
      "Unpacking tex-common (6.09) ...\n",
      "Selecting previously unselected package fonts-lmodern.\n",
      "Preparing to unpack .../03-fonts-lmodern_2.004.5-3_all.deb ...\n",
      "Unpacking fonts-lmodern (2.004.5-3) ...\n",
      "Selecting previously unselected package fonts-noto-mono.\n",
      "Preparing to unpack .../04-fonts-noto-mono_20171026-2_all.deb ...\n",
      "Unpacking fonts-noto-mono (20171026-2) ...\n",
      "Selecting previously unselected package libcupsfilters1:amd64.\n",
      "Preparing to unpack .../05-libcupsfilters1_1.20.2-0ubuntu3.1_amd64.deb ...\n",
      "Unpacking libcupsfilters1:amd64 (1.20.2-0ubuntu3.1) ...\n",
      "Selecting previously unselected package libcupsimage2:amd64.\n",
      "Preparing to unpack .../06-libcupsimage2_2.2.7-1ubuntu2.8_amd64.deb ...\n",
      "Unpacking libcupsimage2:amd64 (2.2.7-1ubuntu2.8) ...\n",
      "Selecting previously unselected package libijs-0.35:amd64.\n",
      "Preparing to unpack .../07-libijs-0.35_0.35-13_amd64.deb ...\n",
      "Unpacking libijs-0.35:amd64 (0.35-13) ...\n",
      "Selecting previously unselected package libjbig2dec0:amd64.\n",
      "Preparing to unpack .../08-libjbig2dec0_0.13-6_amd64.deb ...\n",
      "Unpacking libjbig2dec0:amd64 (0.13-6) ...\n",
      "Selecting previously unselected package libgs9-common.\n",
      "Preparing to unpack .../09-libgs9-common_9.26~dfsg+0-0ubuntu0.18.04.13_all.deb ...\n",
      "Unpacking libgs9-common (9.26~dfsg+0-0ubuntu0.18.04.13) ...\n",
      "Selecting previously unselected package libgs9:amd64.\n",
      "Preparing to unpack .../10-libgs9_9.26~dfsg+0-0ubuntu0.18.04.13_amd64.deb ...\n",
      "Unpacking libgs9:amd64 (9.26~dfsg+0-0ubuntu0.18.04.13) ...\n",
      "Selecting previously unselected package libkpathsea6:amd64.\n",
      "Preparing to unpack .../11-libkpathsea6_2017.20170613.44572-8ubuntu0.1_amd64.deb ...\n",
      "Unpacking libkpathsea6:amd64 (2017.20170613.44572-8ubuntu0.1) ...\n",
      "Selecting previously unselected package libpotrace0.\n",
      "Preparing to unpack .../12-libpotrace0_1.14-2_amd64.deb ...\n",
      "Unpacking libpotrace0 (1.14-2) ...\n",
      "Selecting previously unselected package libptexenc1:amd64.\n",
      "Preparing to unpack .../13-libptexenc1_2017.20170613.44572-8ubuntu0.1_amd64.deb ...\n",
      "Unpacking libptexenc1:amd64 (2017.20170613.44572-8ubuntu0.1) ...\n",
      "Selecting previously unselected package libsynctex1:amd64.\n",
      "Preparing to unpack .../14-libsynctex1_2017.20170613.44572-8ubuntu0.1_amd64.deb ...\n",
      "Unpacking libsynctex1:amd64 (2017.20170613.44572-8ubuntu0.1) ...\n",
      "Selecting previously unselected package libtexlua52:amd64.\n",
      "Preparing to unpack .../15-libtexlua52_2017.20170613.44572-8ubuntu0.1_amd64.deb ...\n",
      "Unpacking libtexlua52:amd64 (2017.20170613.44572-8ubuntu0.1) ...\n",
      "Selecting previously unselected package libtexluajit2:amd64.\n",
      "Preparing to unpack .../16-libtexluajit2_2017.20170613.44572-8ubuntu0.1_amd64.deb ...\n",
      "Unpacking libtexluajit2:amd64 (2017.20170613.44572-8ubuntu0.1) ...\n",
      "Selecting previously unselected package libzzip-0-13:amd64.\n",
      "Preparing to unpack .../17-libzzip-0-13_0.13.62-3.1ubuntu0.18.04.1_amd64.deb ...\n",
      "Unpacking libzzip-0-13:amd64 (0.13.62-3.1ubuntu0.18.04.1) ...\n",
      "Selecting previously unselected package lmodern.\n",
      "Preparing to unpack .../18-lmodern_2.004.5-3_all.deb ...\n",
      "Unpacking lmodern (2.004.5-3) ...\n",
      "Selecting previously unselected package t1utils.\n",
      "Preparing to unpack .../19-t1utils_1.41-2_amd64.deb ...\n",
      "Unpacking t1utils (1.41-2) ...\n",
      "Selecting previously unselected package texlive-binaries.\n",
      "Preparing to unpack .../20-texlive-binaries_2017.20170613.44572-8ubuntu0.1_amd64.deb ...\n",
      "Unpacking texlive-binaries (2017.20170613.44572-8ubuntu0.1) ...\n",
      "Selecting previously unselected package texlive-base.\n",
      "Preparing to unpack .../21-texlive-base_2017.20180305-1_all.deb ...\n",
      "Unpacking texlive-base (2017.20180305-1) ...\n",
      "Selecting previously unselected package texlive-latex-base.\n",
      "Preparing to unpack .../22-texlive-latex-base_2017.20180305-1_all.deb ...\n",
      "Unpacking texlive-latex-base (2017.20180305-1) ...\n",
      "Selecting previously unselected package texlive-latex-recommended.\n",
      "Preparing to unpack .../23-texlive-latex-recommended_2017.20180305-1_all.deb ...\n",
      "Unpacking texlive-latex-recommended (2017.20180305-1) ...\n",
      "Setting up libgs9-common (9.26~dfsg+0-0ubuntu0.18.04.13) ...\n",
      "Setting up libkpathsea6:amd64 (2017.20170613.44572-8ubuntu0.1) ...\n",
      "Setting up libtexlua52:amd64 (2017.20170613.44572-8ubuntu0.1) ...\n",
      "Setting up fonts-droid-fallback (1:6.0.1r16-1.1) ...\n",
      "Setting up libsynctex1:amd64 (2017.20170613.44572-8ubuntu0.1) ...\n",
      "Setting up libptexenc1:amd64 (2017.20170613.44572-8ubuntu0.1) ...\n",
      "Setting up tex-common (6.09) ...\n",
      "debconf: unable to initialize frontend: Dialog\n",
      "debconf: (No usable dialog-like program is installed, so the dialog based frontend cannot be used. at /usr/share/perl5/Debconf/FrontEnd/Dialog.pm line 76.)\n",
      "debconf: falling back to frontend: Readline\n",
      "update-language: texlive-base not installed and configured, doing nothing!\n",
      "Setting up poppler-data (0.4.8-2) ...\n",
      "Setting up fonts-noto-mono (20171026-2) ...\n",
      "Setting up libcupsfilters1:amd64 (1.20.2-0ubuntu3.1) ...\n",
      "Setting up libcupsimage2:amd64 (2.2.7-1ubuntu2.8) ...\n",
      "Setting up libjbig2dec0:amd64 (0.13-6) ...\n",
      "Setting up t1utils (1.41-2) ...\n",
      "Setting up libijs-0.35:amd64 (0.35-13) ...\n",
      "Setting up libpotrace0 (1.14-2) ...\n",
      "Setting up libzzip-0-13:amd64 (0.13.62-3.1ubuntu0.18.04.1) ...\n",
      "Setting up libgs9:amd64 (9.26~dfsg+0-0ubuntu0.18.04.13) ...\n",
      "Setting up libtexluajit2:amd64 (2017.20170613.44572-8ubuntu0.1) ...\n",
      "Setting up fonts-lmodern (2.004.5-3) ...\n",
      "Setting up texlive-binaries (2017.20170613.44572-8ubuntu0.1) ...\n",
      "update-alternatives: using /usr/bin/xdvi-xaw to provide /usr/bin/xdvi.bin (xdvi.bin) in auto mode\n",
      "update-alternatives: using /usr/bin/bibtex.original to provide /usr/bin/bibtex (bibtex) in auto mode\n",
      "Setting up texlive-base (2017.20180305-1) ...\n",
      "mktexlsr: Updating /var/lib/texmf/ls-R-TEXLIVEDIST... \n",
      "mktexlsr: Updating /var/lib/texmf/ls-R-TEXMFMAIN... \n",
      "mktexlsr: Updating /var/lib/texmf/ls-R... \n",
      "mktexlsr: Done.\n",
      "tl-paper: setting paper size for dvips to a4: /var/lib/texmf/dvips/config/config-paper.ps\n",
      "tl-paper: setting paper size for dvipdfmx to a4: /var/lib/texmf/dvipdfmx/dvipdfmx-paper.cfg\n",
      "tl-paper: setting paper size for xdvi to a4: /var/lib/texmf/xdvi/XDvi-paper\n",
      "tl-paper: setting paper size for pdftex to a4: /var/lib/texmf/tex/generic/config/pdftexconfig.tex\n",
      "debconf: unable to initialize frontend: Dialog\n",
      "debconf: (No usable dialog-like program is installed, so the dialog based frontend cannot be used. at /usr/share/perl5/Debconf/FrontEnd/Dialog.pm line 76.)\n",
      "debconf: falling back to frontend: Readline\n",
      "Setting up texlive-latex-base (2017.20180305-1) ...\n",
      "Setting up lmodern (2.004.5-3) ...\n",
      "Setting up texlive-latex-recommended (2017.20180305-1) ...\n",
      "Processing triggers for libc-bin (2.27-3ubuntu1) ...\n",
      "/sbin/ldconfig.real: /usr/local/lib/python3.6/dist-packages/ideep4py/lib/libmkldnn.so.0 is not a symbolic link\n",
      "\n",
      "Processing triggers for man-db (2.8.3-2ubuntu0.1) ...\n",
      "Processing triggers for fontconfig (2.12.6-0ubuntu2) ...\n",
      "Processing triggers for mime-support (3.60ubuntu1) ...\n",
      "Processing triggers for tex-common (6.09) ...\n",
      "debconf: unable to initialize frontend: Dialog\n",
      "debconf: (No usable dialog-like program is installed, so the dialog based frontend cannot be used. at /usr/share/perl5/Debconf/FrontEnd/Dialog.pm line 76.)\n",
      "debconf: falling back to frontend: Readline\n",
      "Running updmap-sys. This may take some time... done.\n",
      "Running mktexlsr /var/lib/texmf ... done.\n",
      "Building format(s) --all.\n",
      "\tThis may take some time... done.\n",
      "Reading package lists... Done\n",
      "Building dependency tree       \n",
      "Reading state information... Done\n",
      "The following package was automatically installed and is no longer required:\n",
      "  libnvidia-common-440\n",
      "Use 'sudo apt autoremove' to remove it.\n",
      "The following additional packages will be installed:\n",
      "  fonts-lato fonts-texgyre ghostscript gsfonts javascript-common libjs-jquery\n",
      "  libruby2.5 preview-latex-style rake ruby ruby-did-you-mean ruby-minitest\n",
      "  ruby-net-telnet ruby-power-assert ruby-test-unit ruby2.5\n",
      "  rubygems-integration tex-gyre texlive-pictures texlive-plain-generic tipa\n",
      "Suggested packages:\n",
      "  ghostscript-x apache2 | lighttpd | httpd ri ruby-dev bundler\n",
      "  texlive-fonts-recommended-doc python-pygments icc-profiles\n",
      "  libfile-which-perl libspreadsheet-parseexcel-perl texlive-latex-extra-doc\n",
      "  dot2tex prerex ruby-tcltk | libtcltk-ruby texlive-pictures-doc vprerex\n",
      "The following NEW packages will be installed:\n",
      "  dvipng fonts-lato fonts-texgyre ghostscript gsfonts javascript-common\n",
      "  libjs-jquery libruby2.5 preview-latex-style rake ruby ruby-did-you-mean\n",
      "  ruby-minitest ruby-net-telnet ruby-power-assert ruby-test-unit ruby2.5\n",
      "  rubygems-integration tex-gyre texlive-fonts-recommended texlive-latex-extra\n",
      "  texlive-pictures texlive-plain-generic tipa\n",
      "0 upgraded, 24 newly installed, 0 to remove and 39 not upgraded.\n",
      "Need to get 69.8 MB of archives.\n",
      "After this operation, 221 MB of additional disk space will be used.\n",
      "Get:1 http://archive.ubuntu.com/ubuntu bionic/main amd64 fonts-lato all 2.0-2 [2,698 kB]\n",
      "Get:2 http://archive.ubuntu.com/ubuntu bionic-updates/main amd64 ghostscript amd64 9.26~dfsg+0-0ubuntu0.18.04.13 [51.0 kB]\n",
      "Get:3 http://archive.ubuntu.com/ubuntu bionic/universe amd64 dvipng amd64 1.15-1 [78.2 kB]\n",
      "Get:4 http://archive.ubuntu.com/ubuntu bionic/universe amd64 fonts-texgyre all 20160520-1 [8,761 kB]\n",
      "Get:5 http://archive.ubuntu.com/ubuntu bionic/main amd64 gsfonts all 1:8.11+urwcyr1.0.7~pre44-4.4 [3,120 kB]\n",
      "Get:6 http://archive.ubuntu.com/ubuntu bionic/main amd64 javascript-common all 11 [6,066 B]\n",
      "Get:7 http://archive.ubuntu.com/ubuntu bionic/main amd64 libjs-jquery all 3.2.1-1 [152 kB]\n",
      "Get:8 http://archive.ubuntu.com/ubuntu bionic/main amd64 rubygems-integration all 1.11 [4,994 B]\n",
      "Get:9 http://archive.ubuntu.com/ubuntu bionic-updates/main amd64 ruby2.5 amd64 2.5.1-1ubuntu1.6 [48.6 kB]\n",
      "Get:10 http://archive.ubuntu.com/ubuntu bionic/main amd64 ruby amd64 1:2.5.1 [5,712 B]\n",
      "Get:11 http://archive.ubuntu.com/ubuntu bionic-updates/main amd64 rake all 12.3.1-1ubuntu0.1 [44.9 kB]\n",
      "Get:12 http://archive.ubuntu.com/ubuntu bionic/main amd64 ruby-did-you-mean all 1.2.0-2 [9,700 B]\n",
      "Get:13 http://archive.ubuntu.com/ubuntu bionic/main amd64 ruby-minitest all 5.10.3-1 [38.6 kB]\n",
      "Get:14 http://archive.ubuntu.com/ubuntu bionic/main amd64 ruby-net-telnet all 0.1.1-2 [12.6 kB]\n",
      "Get:15 http://archive.ubuntu.com/ubuntu bionic/main amd64 ruby-power-assert all 0.3.0-1 [7,952 B]\n",
      "Get:16 http://archive.ubuntu.com/ubuntu bionic/main amd64 ruby-test-unit all 3.2.5-1 [61.1 kB]\n",
      "Get:17 http://archive.ubuntu.com/ubuntu bionic-updates/main amd64 libruby2.5 amd64 2.5.1-1ubuntu1.6 [3,069 kB]\n",
      "Get:18 http://archive.ubuntu.com/ubuntu bionic/main amd64 preview-latex-style all 11.91-1ubuntu1 [185 kB]\n",
      "Get:19 http://archive.ubuntu.com/ubuntu bionic/universe amd64 tex-gyre all 20160520-1 [4,998 kB]\n",
      "Get:20 http://archive.ubuntu.com/ubuntu bionic/universe amd64 texlive-fonts-recommended all 2017.20180305-1 [5,262 kB]\n",
      "Get:21 http://archive.ubuntu.com/ubuntu bionic/universe amd64 texlive-pictures all 2017.20180305-1 [4,026 kB]\n",
      "Get:22 http://archive.ubuntu.com/ubuntu bionic/universe amd64 texlive-latex-extra all 2017.20180305-2 [10.6 MB]\n",
      "Get:23 http://archive.ubuntu.com/ubuntu bionic/universe amd64 texlive-plain-generic all 2017.20180305-2 [23.6 MB]\n",
      "Get:24 http://archive.ubuntu.com/ubuntu bionic/universe amd64 tipa all 2:1.3-20 [2,978 kB]\n",
      "Fetched 69.8 MB in 5s (15.0 MB/s)\n",
      "debconf: unable to initialize frontend: Dialog\n",
      "debconf: (No usable dialog-like program is installed, so the dialog based frontend cannot be used. at /usr/share/perl5/Debconf/FrontEnd/Dialog.pm line 76, <> line 24.)\n",
      "debconf: falling back to frontend: Readline\n",
      "debconf: unable to initialize frontend: Readline\n",
      "debconf: (This frontend requires a controlling tty.)\n",
      "debconf: falling back to frontend: Teletype\n",
      "dpkg-preconfigure: unable to re-open stdin: \n",
      "Selecting previously unselected package fonts-lato.\n",
      "(Reading database ... 151913 files and directories currently installed.)\n",
      "Preparing to unpack .../00-fonts-lato_2.0-2_all.deb ...\n",
      "Unpacking fonts-lato (2.0-2) ...\n",
      "Selecting previously unselected package ghostscript.\n",
      "Preparing to unpack .../01-ghostscript_9.26~dfsg+0-0ubuntu0.18.04.13_amd64.deb ...\n",
      "Unpacking ghostscript (9.26~dfsg+0-0ubuntu0.18.04.13) ...\n",
      "Selecting previously unselected package dvipng.\n",
      "Preparing to unpack .../02-dvipng_1.15-1_amd64.deb ...\n",
      "Unpacking dvipng (1.15-1) ...\n",
      "Selecting previously unselected package fonts-texgyre.\n",
      "Preparing to unpack .../03-fonts-texgyre_20160520-1_all.deb ...\n",
      "Unpacking fonts-texgyre (20160520-1) ...\n",
      "Selecting previously unselected package gsfonts.\n",
      "Preparing to unpack .../04-gsfonts_1%3a8.11+urwcyr1.0.7~pre44-4.4_all.deb ...\n",
      "Unpacking gsfonts (1:8.11+urwcyr1.0.7~pre44-4.4) ...\n",
      "Selecting previously unselected package javascript-common.\n",
      "Preparing to unpack .../05-javascript-common_11_all.deb ...\n",
      "Unpacking javascript-common (11) ...\n",
      "Selecting previously unselected package libjs-jquery.\n",
      "Preparing to unpack .../06-libjs-jquery_3.2.1-1_all.deb ...\n",
      "Unpacking libjs-jquery (3.2.1-1) ...\n",
      "Selecting previously unselected package rubygems-integration.\n",
      "Preparing to unpack .../07-rubygems-integration_1.11_all.deb ...\n",
      "Unpacking rubygems-integration (1.11) ...\n",
      "Selecting previously unselected package ruby2.5.\n",
      "Preparing to unpack .../08-ruby2.5_2.5.1-1ubuntu1.6_amd64.deb ...\n",
      "Unpacking ruby2.5 (2.5.1-1ubuntu1.6) ...\n",
      "Selecting previously unselected package ruby.\n",
      "Preparing to unpack .../09-ruby_1%3a2.5.1_amd64.deb ...\n",
      "Unpacking ruby (1:2.5.1) ...\n",
      "Selecting previously unselected package rake.\n",
      "Preparing to unpack .../10-rake_12.3.1-1ubuntu0.1_all.deb ...\n",
      "Unpacking rake (12.3.1-1ubuntu0.1) ...\n",
      "Selecting previously unselected package ruby-did-you-mean.\n",
      "Preparing to unpack .../11-ruby-did-you-mean_1.2.0-2_all.deb ...\n",
      "Unpacking ruby-did-you-mean (1.2.0-2) ...\n",
      "Selecting previously unselected package ruby-minitest.\n",
      "Preparing to unpack .../12-ruby-minitest_5.10.3-1_all.deb ...\n",
      "Unpacking ruby-minitest (5.10.3-1) ...\n",
      "Selecting previously unselected package ruby-net-telnet.\n",
      "Preparing to unpack .../13-ruby-net-telnet_0.1.1-2_all.deb ...\n",
      "Unpacking ruby-net-telnet (0.1.1-2) ...\n",
      "Selecting previously unselected package ruby-power-assert.\n",
      "Preparing to unpack .../14-ruby-power-assert_0.3.0-1_all.deb ...\n",
      "Unpacking ruby-power-assert (0.3.0-1) ...\n",
      "Selecting previously unselected package ruby-test-unit.\n",
      "Preparing to unpack .../15-ruby-test-unit_3.2.5-1_all.deb ...\n",
      "Unpacking ruby-test-unit (3.2.5-1) ...\n",
      "Selecting previously unselected package libruby2.5:amd64.\n",
      "Preparing to unpack .../16-libruby2.5_2.5.1-1ubuntu1.6_amd64.deb ...\n",
      "Unpacking libruby2.5:amd64 (2.5.1-1ubuntu1.6) ...\n",
      "Selecting previously unselected package preview-latex-style.\n",
      "Preparing to unpack .../17-preview-latex-style_11.91-1ubuntu1_all.deb ...\n",
      "Unpacking preview-latex-style (11.91-1ubuntu1) ...\n",
      "Selecting previously unselected package tex-gyre.\n",
      "Preparing to unpack .../18-tex-gyre_20160520-1_all.deb ...\n",
      "Unpacking tex-gyre (20160520-1) ...\n",
      "Selecting previously unselected package texlive-fonts-recommended.\n",
      "Preparing to unpack .../19-texlive-fonts-recommended_2017.20180305-1_all.deb ...\n",
      "Unpacking texlive-fonts-recommended (2017.20180305-1) ...\n",
      "Selecting previously unselected package texlive-pictures.\n",
      "Preparing to unpack .../20-texlive-pictures_2017.20180305-1_all.deb ...\n",
      "Unpacking texlive-pictures (2017.20180305-1) ...\n",
      "Selecting previously unselected package texlive-latex-extra.\n",
      "Preparing to unpack .../21-texlive-latex-extra_2017.20180305-2_all.deb ...\n",
      "Unpacking texlive-latex-extra (2017.20180305-2) ...\n",
      "Selecting previously unselected package texlive-plain-generic.\n",
      "Preparing to unpack .../22-texlive-plain-generic_2017.20180305-2_all.deb ...\n",
      "Unpacking texlive-plain-generic (2017.20180305-2) ...\n",
      "Selecting previously unselected package tipa.\n",
      "Preparing to unpack .../23-tipa_2%3a1.3-20_all.deb ...\n",
      "Unpacking tipa (2:1.3-20) ...\n",
      "Setting up libjs-jquery (3.2.1-1) ...\n",
      "Setting up gsfonts (1:8.11+urwcyr1.0.7~pre44-4.4) ...\n",
      "Setting up texlive-pictures (2017.20180305-1) ...\n",
      "Setting up tex-gyre (20160520-1) ...\n",
      "Setting up tipa (2:1.3-20) ...\n",
      "Regenerating '/var/lib/texmf/fmtutil.cnf-DEBIAN'... done.\n",
      "Regenerating '/var/lib/texmf/fmtutil.cnf-TEXLIVEDIST'... done.\n",
      "update-fmtutil has updated the following file(s):\n",
      "\t/var/lib/texmf/fmtutil.cnf-DEBIAN\n",
      "\t/var/lib/texmf/fmtutil.cnf-TEXLIVEDIST\n",
      "If you want to activate the changes in the above file(s),\n",
      "you should run fmtutil-sys or fmtutil.\n",
      "Setting up preview-latex-style (11.91-1ubuntu1) ...\n",
      "Setting up ghostscript (9.26~dfsg+0-0ubuntu0.18.04.13) ...\n",
      "Setting up fonts-texgyre (20160520-1) ...\n",
      "Setting up fonts-lato (2.0-2) ...\n",
      "Setting up ruby-did-you-mean (1.2.0-2) ...\n",
      "Setting up ruby-net-telnet (0.1.1-2) ...\n",
      "Setting up rubygems-integration (1.11) ...\n",
      "Setting up javascript-common (11) ...\n",
      "Setting up texlive-fonts-recommended (2017.20180305-1) ...\n",
      "Setting up texlive-plain-generic (2017.20180305-2) ...\n",
      "Setting up ruby-minitest (5.10.3-1) ...\n",
      "Setting up ruby-power-assert (0.3.0-1) ...\n",
      "Setting up texlive-latex-extra (2017.20180305-2) ...\n",
      "Setting up dvipng (1.15-1) ...\n",
      "Setting up rake (12.3.1-1ubuntu0.1) ...\n",
      "Setting up ruby2.5 (2.5.1-1ubuntu1.6) ...\n",
      "Setting up ruby (1:2.5.1) ...\n",
      "Setting up ruby-test-unit (3.2.5-1) ...\n",
      "Setting up libruby2.5:amd64 (2.5.1-1ubuntu1.6) ...\n",
      "Processing triggers for tex-common (6.09) ...\n",
      "debconf: unable to initialize frontend: Dialog\n",
      "debconf: (No usable dialog-like program is installed, so the dialog based frontend cannot be used. at /usr/share/perl5/Debconf/FrontEnd/Dialog.pm line 76.)\n",
      "debconf: falling back to frontend: Readline\n",
      "Running mktexlsr. This may take some time... done.\n",
      "Running updmap-sys. This may take some time... done.\n",
      "Running mktexlsr /var/lib/texmf ... done.\n",
      "Processing triggers for libc-bin (2.27-3ubuntu1) ...\n",
      "/sbin/ldconfig.real: /usr/local/lib/python3.6/dist-packages/ideep4py/lib/libmkldnn.so.0 is not a symbolic link\n",
      "\n",
      "Processing triggers for man-db (2.8.3-2ubuntu0.1) ...\n",
      "Processing triggers for fontconfig (2.12.6-0ubuntu2) ...\n",
      "--2020-09-11 04:22:06--  http://mirrors.ctan.org/macros/latex/contrib/type1cm.zip\n",
      "Resolving mirrors.ctan.org (mirrors.ctan.org)... 5.35.249.60\n",
      "Connecting to mirrors.ctan.org (mirrors.ctan.org)|5.35.249.60|:80... connected.\n",
      "HTTP request sent, awaiting response... 302 Found\n",
      "Location: https://ctan.math.illinois.edu/macros/latex/contrib/type1cm.zip [following]\n",
      "--2020-09-11 04:22:08--  https://ctan.math.illinois.edu/macros/latex/contrib/type1cm.zip\n",
      "Resolving ctan.math.illinois.edu (ctan.math.illinois.edu)... 192.17.3.223\n",
      "Connecting to ctan.math.illinois.edu (ctan.math.illinois.edu)|192.17.3.223|:443... connected.\n",
      "HTTP request sent, awaiting response... 200 OK\n",
      "Length: 328566 (321K) [application/zip]\n",
      "Saving to: ‘type1cm.zip’\n",
      "\n",
      "type1cm.zip         100%[===================>] 320.87K  --.-KB/s    in 0.1s    \n",
      "\n",
      "2020-09-11 04:22:08 (2.18 MB/s) - ‘type1cm.zip’ saved [328566/328566]\n",
      "\n",
      "Archive:  type1cm.zip\n",
      "   creating: /tmp/type1cm/type1cm/\n",
      "  inflating: /tmp/type1cm/type1cm/type1cm.fdd  \n",
      "  inflating: /tmp/type1cm/type1cm/type1cm.ins  \n",
      "  inflating: /tmp/type1cm/type1cm/type1cm.txt  \n",
      "  inflating: /tmp/type1cm/type1cm/type1cm-doc.pdf  \n",
      "  inflating: /tmp/type1cm/type1cm/type1cm-doc.tex  \n",
      "This is pdfTeX, Version 3.14159265-2.6-1.40.18 (TeX Live 2017/Debian) (preloaded format=latex)\n",
      " restricted \\write18 enabled.\n",
      "entering extended mode\n",
      "(./type1cm.ins\n",
      "LaTeX2e <2017-04-15>\n",
      "Babel <3.18> and hyphenation patterns for 3 language(s) loaded.\n",
      "(/usr/share/texlive/texmf-dist/tex/latex/base/docstrip.tex\n",
      "Utility: `docstrip' 2.5e <2014/09/29>\n",
      "English documentation    <2017/03/13>\n",
      "\n",
      "**********************************************************\n",
      "* This program converts documented macro-files into fast *\n",
      "* loadable files by stripping off (nearly) all comments! *\n",
      "**********************************************************\n",
      "\n",
      "********************************************************\n",
      "* No Configuration file found, using default settings. *\n",
      "********************************************************\n",
      "\n",
      "(./type1cm.ins\n",
      "\n",
      "Generating file(s) ./type1cm.sty \n",
      "\n",
      "Processing file type1cm.fdd (package,ams) -> type1cm.sty\n",
      "Lines  processed: 410\n",
      "Comments removed: 25\n",
      "Comments  passed: 7\n",
      "Codelines passed: 263\n",
      "\n",
      ") ) )\n",
      "No pages of output.\n",
      "Transcript written on type1cm.log.\n",
      "texhash: Updating /usr/local/share/texmf/ls-R... \n",
      "texhash: Updating /var/lib/texmf/ls-R-TEXLIVEDIST... \n",
      "texhash: Updating /var/lib/texmf/ls-R-TEXMFMAIN... \n",
      "texhash: Updating /var/lib/texmf/ls-R... \n",
      "texhash: Done.\n",
      "Reading package lists... Done\n",
      "Building dependency tree       \n",
      "Reading state information... Done\n",
      "The following package was automatically installed and is no longer required:\n",
      "  libnvidia-common-440\n",
      "Use 'apt autoremove' to remove it.\n",
      "The following additional packages will be installed:\n",
      "  cm-super-minimal pfb2t1c2pfb\n",
      "The following NEW packages will be installed:\n",
      "  cm-super cm-super-minimal pfb2t1c2pfb\n",
      "0 upgraded, 3 newly installed, 0 to remove and 39 not upgraded.\n",
      "Need to get 24.5 MB of archives.\n",
      "After this operation, 59.9 MB of additional disk space will be used.\n",
      "Get:1 http://archive.ubuntu.com/ubuntu bionic/universe amd64 cm-super-minimal all 0.3.4-11 [5,810 kB]\n",
      "Get:2 http://archive.ubuntu.com/ubuntu bionic/universe amd64 pfb2t1c2pfb amd64 0.3-11 [9,342 B]\n",
      "Get:3 http://archive.ubuntu.com/ubuntu bionic/universe amd64 cm-super all 0.3.4-11 [18.7 MB]\n",
      "Fetched 24.5 MB in 3s (9,477 kB/s)\n",
      "Selecting previously unselected package cm-super-minimal.\n",
      "(Reading database ... 170457 files and directories currently installed.)\n",
      "Preparing to unpack .../cm-super-minimal_0.3.4-11_all.deb ...\n",
      "Unpacking cm-super-minimal (0.3.4-11) ...\n",
      "Selecting previously unselected package pfb2t1c2pfb.\n",
      "Preparing to unpack .../pfb2t1c2pfb_0.3-11_amd64.deb ...\n",
      "Unpacking pfb2t1c2pfb (0.3-11) ...\n",
      "Selecting previously unselected package cm-super.\n",
      "Preparing to unpack .../cm-super_0.3.4-11_all.deb ...\n",
      "Unpacking cm-super (0.3.4-11) ...\n",
      "Setting up pfb2t1c2pfb (0.3-11) ...\n",
      "Setting up cm-super-minimal (0.3.4-11) ...\n",
      "Setting up cm-super (0.3.4-11) ...\n",
      "Creating fonts. This may take some time... done.\n",
      "Processing triggers for fontconfig (2.12.6-0ubuntu2) ...\n",
      "Processing triggers for tex-common (6.09) ...\n",
      "Running mktexlsr. This may take some time... done.\n",
      "Running updmap-sys. This may take some time... done.\n",
      "Running mktexlsr /var/lib/texmf ... done.\n",
      "Processing triggers for man-db (2.8.3-2ubuntu0.1) ...\n"
     ]
    }
   ],
   "source": [
    "! sudo apt-get install texlive-latex-recommended \n",
    "! sudo apt-get install dvipng texlive-latex-extra texlive-fonts-recommended  \n",
    "! wget http://mirrors.ctan.org/macros/latex/contrib/type1cm.zip \n",
    "! unzip type1cm.zip -d /tmp/type1cm \n",
    "! cd /tmp/type1cm/type1cm/ && sudo latex type1cm.ins\n",
    "! sudo mkdir /usr/share/texmf/tex/latex/type1cm \n",
    "! sudo cp /tmp/type1cm/type1cm/type1cm.sty /usr/share/texmf/tex/latex/type1cm \n",
    "! sudo texhash \n",
    "! apt install cm-super"
   ]
  },
  {
   "cell_type": "markdown",
   "metadata": {
    "colab_type": "text",
    "id": "JOIUL4PsnEzU"
   },
   "source": [
    "# Phương pháp đánh giá\n",
    "Các phương pháp đánh giá được tham khảo trong phần 4.1 evaluation methods của bài báo [A Richly  Dataset for Pedestrian Attribute Recognition](https://arxiv.org/pdf/1603.07054.pdf)\n",
    "- Label-based\n",
    "    - mean accuracy (mA)\n",
    "- example-based\n",
    "    - accuracy\n",
    "    - precision\n",
    "    - recall\n",
    "    - f1-score"
   ]
  },
  {
   "cell_type": "markdown",
   "metadata": {
    "colab_type": "text",
    "id": "dvY-AaB4x0Jk"
   },
   "source": [
    "# Epoch training\n",
    "Training theo epoch"
   ]
  },
  {
   "cell_type": "markdown",
   "metadata": {
    "colab_type": "text",
    "id": "vKPM3aHwyNRs"
   },
   "source": [
    "## PETA"
   ]
  },
  {
   "cell_type": "markdown",
   "metadata": {
    "colab_type": "text",
    "id": "dTnVt2MYyPbE"
   },
   "source": [
    "\n",
    "### resnet50 + CEL_Sigmoid"
   ]
  },
  {
   "cell_type": "code",
   "execution_count": null,
   "metadata": {
    "colab": {
     "base_uri": "https://localhost:8080/",
     "height": 34
    },
    "colab_type": "code",
    "id": "1vMX03kx7FRh",
    "outputId": "a0be8a8c-3c57-4d3f-b88f-04ceedc4d369"
   },
   "outputs": [
    {
     "name": "stdout",
     "output_type": "stream",
     "text": [
      "Overwriting /content/config.yml\n"
     ]
    }
   ],
   "source": [
    "%%writefile /content/config.yml\n",
    "base: /content/config/base_epoch.yml\n",
    "\n",
    "model:\n",
    "  backbone: resnet50\n",
    "  pooling: gem_pooling\n",
    "  head: BNHead\n",
    "  bn_where: after\n",
    "  use_tqdm: True\n",
    "\n",
    "data:\n",
    "  data_dir: datasets\n",
    "  name: peta\n",
    "  image_size: [256, 192]\n",
    "  batch_size: 64\n",
    "  use_tqdm: True\n",
    "\n",
    "optimizer:\n",
    "  name: adam\n",
    "  lr: 0.00035\n",
    "\n",
    "loss:\n",
    "  name: CEL_Sigmoid\n",
    "\n",
    "freeze:\n",
    "  enable: True\n",
    "  layers: [backbone]\n",
    "  epochs: 10\n",
    "\n",
    "lr_scheduler:\n",
    "  enable: True\n",
    "  name: WarmupMultiStepLR\n",
    "  steps: [30, 60, 90]\n",
    "  gamma: 0.1\n",
    "  warmup_factor: 0.01\n",
    "  warmup_iters: 10\n",
    "\n",
    "trainer:\n",
    "  n_gpu: 1\n",
    "  epochs: 120\n",
    "  \n",
    "trainer_colab:\n",
    "  epochs: 120"
   ]
  },
  {
   "cell_type": "code",
   "execution_count": null,
   "metadata": {
    "colab": {
     "base_uri": "https://localhost:8080/",
     "height": 857
    },
    "colab_type": "code",
    "id": "Yn5NdQ6x7R08",
    "outputId": "43a96721-1633-4751-8971-d74a8be5c561"
   },
   "outputs": [
    {
     "name": "stdout",
     "output_type": "stream",
     "text": [
      "2020-09-09 08:48:01.472979: I tensorflow/stream_executor/platform/default/dso_loader.cc:48] Successfully opened dynamic library libcudart.so.10.1\n",
      "Copying data...\n",
      "Copied!\n",
      "Loading checkpoint: /content/drive/My Drive/HIEN/Models/OSNet_Person_Attribute_Refactor/checkpoints/0731_232453/model_best_accuracy.pth ...\n",
      "100% 119/119 [00:43<00:00,  2.72it/s]\n",
      "instance-based metrics:\n",
      "accuracy: 0.8005\n",
      "precision: 0.8827\n",
      "recall: 0.8621\n",
      "f1_score: 0.8697\n",
      "class-based metrics:\n",
      "           attribute    weight  accuracy        mA precision    recall  f1_score\n",
      "                   -         -         -         -         -         -         -\n",
      "        accessoryHat      9.54     98.18     93.81     92.23     88.41     90.28\n",
      "    accessoryMuffler      8.32     99.11     96.42     95.93      93.2     94.54\n",
      "    accessoryNothing     75.55     92.68     87.59     93.09     97.56     95.27\n",
      " accessorySunglasses      2.87     97.88     70.64      72.8     41.74     53.06\n",
      "            hairLong     23.74     94.51     92.05     89.29     87.36     88.32\n",
      "     upperBodyCasual     85.46      94.8     85.77     95.55     98.51     97.01\n",
      "     upperBodyFormal     13.25      95.5     86.43     90.21     74.08     81.35\n",
      "     upperBodyJacket      7.03     96.03     79.34     78.43     59.93     67.94\n",
      "       upperBodyLogo      3.89     96.86     77.13     60.44     55.74      58.0\n",
      "      upperBodyPlaid      2.67     98.76     86.19     79.14     72.91      75.9\n",
      "upperBodyShortSleeve     14.34     95.41     91.02     83.41     84.86     84.13\n",
      "upperBodyThinStripes      1.66      98.8     73.25     71.08     46.83     56.46\n",
      "     upperBodyTshirt      8.42     95.63     83.85     76.37     69.69     72.88\n",
      "      upperBodyOther     45.47     87.78     87.47     88.51     84.03     86.21\n",
      "      upperBodyVNeck      1.05      99.2     63.11      91.3     26.25     40.78\n",
      "     lowerBodyCasual     86.13     94.96     85.17     95.58     98.72     97.12\n",
      "     lowerBodyFormal     13.72      95.2     85.73     90.45     72.67      80.6\n",
      "      lowerBodyJeans     30.46     90.18     87.94     85.07      82.2     83.61\n",
      "     lowerBodyShorts      3.43     97.71     81.45     67.61     63.98     65.75\n",
      " lowerBodyShortSkirt      4.62     97.59      84.5     75.93     70.09     72.89\n",
      "   lowerBodyTrousers     51.96     86.99     86.96     87.37     87.62      87.5\n",
      "footwearLeatherShoes     29.14     91.97     89.02     89.63     81.94     85.61\n",
      "     footwearSandals      1.89     98.08     72.12     49.24     45.14      47.1\n",
      "       footwearShoes      36.5     83.24     82.32     76.06     78.91     77.46\n",
      "     footwearSneaker     22.04     88.34      80.1     78.16     65.37      71.2\n",
      "    carryingBackpack      19.7     92.46      88.1     80.84      80.9     80.87\n",
      "       carryingOther     20.14     88.45     78.68     76.02     62.31     68.49\n",
      "carryingMessengerBag     29.93     88.87     85.76     83.69     78.02     80.76\n",
      "     carryingNothing     27.51     89.62      85.7     83.94      77.0     80.32\n",
      " carryingPlasticBags       7.7     97.54     87.78     90.28     76.24     82.67\n",
      "      personalLess30     50.41     88.88     88.87     88.11     90.11      89.1\n",
      "      personalLess45     32.12     87.51     85.06     82.07     78.21     80.09\n",
      "      personalLess60     10.25     96.26     87.63     85.31     76.77     80.81\n",
      "    personalLarger60      6.07     99.33     95.99     96.59     92.19     94.34\n",
      "        personalMale     54.57     93.78     93.67     93.86     94.79     94.33\n",
      "                   -         -         -         -         -         -         -\n",
      "                mean         -     93.95     84.76     83.25     75.26     78.36\n"
     ]
    }
   ],
   "source": [
    "!python3 test.py --config /content/config.yml --resume \"/content/drive/My Drive/HIEN/Models/OSNet_Person_Attribute_Refactor/checkpoints/0731_232453/model_best_accuracy.pth\""
   ]
  },
  {
   "cell_type": "markdown",
   "metadata": {
    "colab_type": "text",
    "id": "oqFTwlu_64Ys"
   },
   "source": [
    "### resnet50 + BCE"
   ]
  },
  {
   "cell_type": "code",
   "execution_count": null,
   "metadata": {
    "colab": {
     "base_uri": "https://localhost:8080/",
     "height": 34
    },
    "colab_type": "code",
    "id": "_ZbI-fDC8gSf",
    "outputId": "4d32c7a5-74a6-4e2c-d684-830f475181a8"
   },
   "outputs": [
    {
     "name": "stdout",
     "output_type": "stream",
     "text": [
      "Overwriting /content/config.yml\n"
     ]
    }
   ],
   "source": [
    "%%writefile /content/config.yml\n",
    "base: /content/config/base_epoch.yml\n",
    "\n",
    "model:\n",
    "  backbone: resnet50\n",
    "  pooling: gem_pooling\n",
    "  head: BNHead\n",
    "  bn_where: after\n",
    "  use_tqdm: True\n",
    "\n",
    "data:\n",
    "  data_dir: datasets\n",
    "  name: peta\n",
    "  image_size: [256, 192]\n",
    "  batch_size: 32\n",
    "  use_tqdm: True\n",
    "\n",
    "optimizer:\n",
    "  name: adam\n",
    "  lr: 0.00035\n",
    "\n",
    "loss:\n",
    "  name: Non_BCEWithLogitsLoss\n",
    "\n",
    "freeze:\n",
    "  enable: True\n",
    "  layers: [backbone]\n",
    "  epochs: 10\n",
    "\n",
    "lr_scheduler:\n",
    "  enable: True\n",
    "  name: WarmupCosineAnnealingLR\n",
    "  delay_iters: 30\n",
    "\n",
    "trainer:\n",
    "  n_gpu: 1\n",
    "  epochs: 120\n",
    "  \n",
    "trainer_colab:\n",
    "  epochs: 120 "
   ]
  },
  {
   "cell_type": "code",
   "execution_count": null,
   "metadata": {
    "colab": {
     "base_uri": "https://localhost:8080/",
     "height": 857
    },
    "colab_type": "code",
    "id": "Bth7Eumd8gSj",
    "outputId": "cc5daf6d-47f8-435a-eaa9-b968153c752d"
   },
   "outputs": [
    {
     "name": "stdout",
     "output_type": "stream",
     "text": [
      "2020-09-09 08:49:03.699684: I tensorflow/stream_executor/platform/default/dso_loader.cc:48] Successfully opened dynamic library libcudart.so.10.1\n",
      "Copying data...\n",
      "Copied!\n",
      "Loading checkpoint: /content/drive/My Drive/HIEN/Models/OSNet_Person_Attribute_Refactor/checkpoints/0726_110949/model_best_accuracy.pth ...\n",
      "100% 238/238 [00:44<00:00,  5.34it/s]\n",
      "instance-based metrics:\n",
      "accuracy: 0.7634\n",
      "precision: 0.8722\n",
      "recall: 0.8240\n",
      "f1_score: 0.8434\n",
      "class-based metrics:\n",
      "           attribute    weight  accuracy        mA precision    recall  f1_score\n",
      "                   -         -         -         -         -         -         -\n",
      "        accessoryHat      9.54     98.16     91.83     96.21      84.0     89.69\n",
      "    accessoryMuffler      8.32     98.96      94.4     98.42     88.92     93.43\n",
      "    accessoryNothing     75.55     91.53     85.64     92.06     97.16     94.54\n",
      " accessorySunglasses      2.87      97.3     56.32     65.12     12.84     21.46\n",
      "            hairLong     23.74     93.13     89.39     88.02     82.26     85.04\n",
      "     upperBodyCasual     85.46     93.74     82.14     94.42     98.49     96.41\n",
      "     upperBodyFormal     13.25     94.61     82.97     89.54     67.13     76.73\n",
      "     upperBodyJacket      7.03     95.78     72.37     89.59     45.13     60.02\n",
      "       upperBodyLogo      3.89     96.47     57.65     71.88     15.54     25.56\n",
      "      upperBodyPlaid      2.67     98.87     83.85     86.79     67.98     76.24\n",
      "upperBodyShortSleeve     14.34     93.84     84.68     82.94     71.83     76.99\n",
      "upperBodyThinStripes      1.66     98.55     59.08     76.67     18.25     29.49\n",
      "     upperBodyTshirt      8.42     94.71     76.68     75.54      55.0     63.65\n",
      "      upperBodyOther     45.47     85.79     85.38     87.01     80.82      83.8\n",
      "      upperBodyVNeck      1.05     98.95      50.0       0.0       0.0       0.0\n",
      "     lowerBodyCasual     86.13     94.14     82.35     94.75     98.67     96.67\n",
      "     lowerBodyFormal     13.72     94.26     82.61     88.86     66.54      76.1\n",
      "      lowerBodyJeans     30.46     88.57     86.28     81.74     80.43     81.08\n",
      "     lowerBodyShorts      3.43     97.72     73.88     76.83     48.28     59.29\n",
      " lowerBodyShortSkirt      4.62     97.25     74.29     85.15      49.0     62.21\n",
      "   lowerBodyTrousers     51.96     84.88      84.9     86.14      84.5     85.31\n",
      "footwearLeatherShoes     29.14     90.71     87.56     87.08      80.0     83.39\n",
      "     footwearSandals      1.89     98.14     56.15     54.55      12.5     20.34\n",
      "       footwearShoes      36.5     81.62     79.67     76.05     72.46     74.21\n",
      "     footwearSneaker     22.04     86.78     77.56     74.35     61.07     67.06\n",
      "    carryingBackpack      19.7     90.26      83.1     77.49     71.28     74.25\n",
      "       carryingOther     20.14     87.78      75.2      78.5     54.15     64.09\n",
      "carryingMessengerBag     29.93     86.96     81.83     84.55     69.05     76.02\n",
      "     carryingNothing     27.51     86.76     82.56     77.44     73.22     75.27\n",
      " carryingPlasticBags       7.7      97.0     84.04     89.93     68.72     77.91\n",
      "      personalLess30     50.41     86.43     86.41     84.84     88.98     86.86\n",
      "      personalLess45     32.12     85.51     82.55     79.31     74.27     76.71\n",
      "      personalLess60     10.25     96.07      82.8     93.64     66.11      77.5\n",
      "    personalLarger60      6.07     99.17     94.08     97.84     88.29     92.82\n",
      "        personalMale     54.57     91.86     91.71     91.86     93.34      92.6\n",
      "                   -         -         -         -         -         -         -\n",
      "                mean         -     92.92     79.48     81.57     65.32     70.65\n"
     ]
    }
   ],
   "source": [
    "!python3 test.py --config /content/config.yml --resume \"/content/drive/My Drive/HIEN/Models/OSNet_Person_Attribute_Refactor/checkpoints/0726_110949/model_best_accuracy.pth\""
   ]
  },
  {
   "cell_type": "markdown",
   "metadata": {
    "colab_type": "text",
    "id": "8CY_992W69ht"
   },
   "source": [
    "### osnet + CEL_Sigmoid"
   ]
  },
  {
   "cell_type": "code",
   "execution_count": null,
   "metadata": {
    "colab": {
     "base_uri": "https://localhost:8080/",
     "height": 34
    },
    "colab_type": "code",
    "id": "ytjUW0Zp9XFx",
    "outputId": "c2f6810f-cdc7-497c-91de-9312258e3089"
   },
   "outputs": [
    {
     "name": "stdout",
     "output_type": "stream",
     "text": [
      "Overwriting /content/config.yml\n"
     ]
    }
   ],
   "source": [
    "%%writefile /content/config.yml\n",
    "base: /content/config/base_epoch.yml\n",
    "\n",
    "model:\n",
    "  backbone: osnet\n",
    "  pooling: gem_pooling\n",
    "  head: ReductionHead\n",
    "  bn_where: before\n",
    "  use_tqdm: True\n",
    "\n",
    "data:\n",
    "  data_dir: datasets\n",
    "  name: peta\n",
    "  image_size: [256, 192]\n",
    "  batch_size: 32\n",
    "  use_tqdm: True\n",
    "\n",
    "optimizer:\n",
    "  name: adam\n",
    "  lr: 0.00035\n",
    "\n",
    "loss:\n",
    "  name: CEL_Sigmoid\n",
    "\n",
    "lr_scheduler:\n",
    "  enable: True\n",
    "  name: WarmupCosineAnnealingLR\n",
    "  delay_iters: 30\n",
    "\n",
    "trainer:\n",
    "  n_gpu: 1\n",
    "  epochs: 120\n",
    "  \n",
    "trainer_colab:\n",
    "  epochs: 120\n"
   ]
  },
  {
   "cell_type": "code",
   "execution_count": null,
   "metadata": {
    "colab": {
     "base_uri": "https://localhost:8080/",
     "height": 857
    },
    "colab_type": "code",
    "id": "uB19HyNd9uNC",
    "outputId": "9c6aea62-d9fa-4fd4-9406-df2c6a6b73ca"
   },
   "outputs": [
    {
     "name": "stdout",
     "output_type": "stream",
     "text": [
      "2020-09-09 08:50:06.306243: I tensorflow/stream_executor/platform/default/dso_loader.cc:48] Successfully opened dynamic library libcudart.so.10.1\n",
      "Copying data...\n",
      "Copied!\n",
      "Loading checkpoint: /content/drive/My Drive/HIEN/Models/OSNet_Person_Attribute_Refactor/checkpoints/0725_055423/model_best_accuracy.pth ...\n",
      "100% 238/238 [00:44<00:00,  5.31it/s]\n",
      "instance-based metrics:\n",
      "accuracy: 0.7303\n",
      "precision: 0.8382\n",
      "recall: 0.8067\n",
      "f1_score: 0.8182\n",
      "class-based metrics:\n",
      "           attribute    weight  accuracy        mA precision    recall  f1_score\n",
      "                   -         -         -         -         -         -         -\n",
      "        accessoryHat      9.54     97.45     89.71     92.08     80.14     85.69\n",
      "    accessoryMuffler      8.32     98.68     94.17     95.08     88.77     91.82\n",
      "    accessoryNothing     75.55     89.33     83.96     91.67     94.46     93.04\n",
      " accessorySunglasses      2.87     96.83     61.86     41.22     24.77     30.95\n",
      "            hairLong     23.74     91.37     87.97     82.03     81.49     81.76\n",
      "     upperBodyCasual     85.46     92.61      81.4     94.32      97.2     95.74\n",
      "     upperBodyFormal     13.25     93.78     82.28     83.04     66.63     73.94\n",
      "     upperBodyJacket      7.03     95.14     73.59     73.37      48.5      58.4\n",
      "       upperBodyLogo      3.89      95.8     52.44     29.09      5.41      9.12\n",
      "      upperBodyPlaid      2.67     98.16     73.42     74.42     47.29     57.83\n",
      "upperBodyShortSleeve     14.34     90.97     83.73     66.83     73.58     70.04\n",
      "upperBodyThinStripes      1.66     98.41     51.98     100.0      3.97      7.63\n",
      "     upperBodyTshirt      8.42     92.86     76.02     57.86     55.78      56.8\n",
      "      upperBodyOther     45.47     85.16     84.25     91.54     74.22     81.98\n",
      "      upperBodyVNeck      1.05     98.88     51.82     27.27      3.75      6.59\n",
      "     lowerBodyCasual     86.13     93.32     82.11     94.78     97.62     96.18\n",
      "     lowerBodyFormal     13.72     93.47     81.99     82.83     66.16     73.56\n",
      "      lowerBodyJeans     30.46     86.93     84.14     79.48     76.98     78.21\n",
      "     lowerBodyShorts      3.43     97.26     69.21     67.55     39.08     49.51\n",
      " lowerBodyShortSkirt      4.62     96.53     75.95     65.16     53.28     58.62\n",
      "   lowerBodyTrousers     51.96     82.13     82.05      81.9     84.22     83.05\n",
      "footwearLeatherShoes     29.14     88.99     85.11      84.8      75.8     80.05\n",
      "     footwearSandals      1.89     97.72     56.62     28.99     13.89     18.78\n",
      "       footwearShoes      36.5     79.41     77.35     72.73     69.72     71.19\n",
      "     footwearSneaker     22.04     84.87     79.33     64.58     69.43     66.92\n",
      "    carryingBackpack      19.7     87.09     79.03     67.77     65.73     66.73\n",
      "       carryingOther     20.14     85.68     73.87     68.26     54.08     60.35\n",
      "carryingMessengerBag     29.93     83.57     79.56     73.97     69.58     71.71\n",
      "     carryingNothing     27.51     85.13     79.92     75.33     68.34     71.66\n",
      " carryingPlasticBags       7.7     96.34     80.55     86.81     61.88     72.26\n",
      "      personalLess30     50.41     85.62     85.61     85.17     86.53     85.85\n",
      "      personalLess45     32.12     83.39     81.71     72.84     77.02     74.87\n",
      "      personalLess60     10.25     95.82     83.97     87.48     69.06     77.19\n",
      "    personalLarger60      6.07     99.04     92.39     99.24     84.82     91.46\n",
      "        personalMale     54.57     88.93     88.84     89.85     89.87     89.86\n",
      "                   -         -         -         -         -         -         -\n",
      "                mean         -     91.62     77.94     75.12      63.4     66.84\n"
     ]
    }
   ],
   "source": [
    "!python3 test.py --config /content/config.yml --resume \"/content/drive/My Drive/HIEN/Models/OSNet_Person_Attribute_Refactor/checkpoints/0725_055423/model_best_accuracy.pth\""
   ]
  },
  {
   "cell_type": "markdown",
   "metadata": {
    "colab_type": "text",
    "id": "T7XzjpUJ7Ahn"
   },
   "source": [
    "### osnet + BCE"
   ]
  },
  {
   "cell_type": "code",
   "execution_count": null,
   "metadata": {
    "colab": {
     "base_uri": "https://localhost:8080/",
     "height": 34
    },
    "colab_type": "code",
    "id": "dCbNQbjA-uKg",
    "outputId": "b77d5672-341a-4a89-92f9-b6522dfc7342"
   },
   "outputs": [
    {
     "name": "stdout",
     "output_type": "stream",
     "text": [
      "Overwriting /content/config.yml\n"
     ]
    }
   ],
   "source": [
    "%%writefile /content/config.yml\n",
    "base: /content/config/base_epoch.yml\n",
    "\n",
    "model:\n",
    "  backbone: osnet\n",
    "  pooling: gem_pooling\n",
    "  head: ReductionHead\n",
    "  bn_where: before\n",
    "  use_tqdm: True\n",
    "\n",
    "data:\n",
    "  data_dir: datasets\n",
    "  name: peta\n",
    "  image_size: [256, 192]\n",
    "  batch_size: 32\n",
    "  use_tqdm: True\n",
    "\n",
    "optimizer:\n",
    "  name: adam\n",
    "  lr: 0.00035\n",
    "\n",
    "loss:\n",
    "  name: Non_BCEWithLogitsLoss\n",
    "\n",
    "lr_scheduler:\n",
    "  enable: True\n",
    "  name: WarmupCosineAnnealingLR\n",
    "  delay_iters: 30\n",
    "\n",
    "trainer:\n",
    "  n_gpu: 1\n",
    "  epochs: 120\n",
    "  \n",
    "trainer_colab:\n",
    "  epochs: 120\n"
   ]
  },
  {
   "cell_type": "code",
   "execution_count": null,
   "metadata": {
    "colab": {
     "base_uri": "https://localhost:8080/",
     "height": 857
    },
    "colab_type": "code",
    "id": "SrLnlFFY-uKj",
    "outputId": "a8235e04-e900-4ae8-cc29-1f511aa5d073"
   },
   "outputs": [
    {
     "name": "stdout",
     "output_type": "stream",
     "text": [
      "2020-09-09 08:51:00.864786: I tensorflow/stream_executor/platform/default/dso_loader.cc:48] Successfully opened dynamic library libcudart.so.10.1\n",
      "Copying data...\n",
      "Copied!\n",
      "Loading checkpoint: /content/drive/My Drive/HIEN/Models/OSNet_Person_Attribute_Refactor/checkpoints/0730_195221/model_best_accuracy.pth ...\n",
      "100% 238/238 [00:43<00:00,  5.45it/s]\n",
      "instance-based metrics:\n",
      "accuracy: 0.6747\n",
      "precision: 0.8558\n",
      "recall: 0.7293\n",
      "f1_score: 0.7792\n",
      "class-based metrics:\n",
      "           attribute    weight  accuracy        mA precision    recall  f1_score\n",
      "                   -         -         -         -         -         -         -\n",
      "        accessoryHat      9.54     96.88     85.69     94.04     71.86     81.47\n",
      "    accessoryMuffler      8.32     98.03     89.93      95.3     80.22     87.11\n",
      "    accessoryNothing     75.55     89.75     81.26     89.53     97.88     93.52\n",
      " accessorySunglasses      2.87     97.13      50.0       0.0       0.0       0.0\n",
      "            hairLong     23.74     89.99     83.49     84.24     71.12     77.13\n",
      "     upperBodyCasual     85.46     92.05     76.24     92.63     98.54     95.49\n",
      "     upperBodyFormal     13.25     93.18      77.6     87.79     56.41     68.68\n",
      "     upperBodyJacket      7.03     93.62     54.59     100.0      9.18     16.81\n",
      "       upperBodyLogo      3.89     96.12     50.17     100.0      0.34      0.67\n",
      "      upperBodyPlaid      2.67     97.38     50.99     100.0      1.97      3.86\n",
      "upperBodyShortSleeve     14.34     91.01      73.9     79.88     49.91     61.43\n",
      "upperBodyThinStripes      1.66     98.34      50.0       0.0       0.0       0.0\n",
      "     upperBodyTshirt      8.42     93.03     66.04     67.19     33.59     44.79\n",
      "      upperBodyOther     45.47     81.38     80.51     85.67     70.92      77.6\n",
      "      upperBodyVNeck      1.05     98.95      50.0       0.0       0.0       0.0\n",
      "     lowerBodyCasual     86.13     92.38     76.35     93.03     98.53      95.7\n",
      "     lowerBodyFormal     13.72     92.55     76.66     85.86     54.75     66.86\n",
      "      lowerBodyJeans     30.46     85.16     80.47     79.93     68.47     73.76\n",
      "     lowerBodyShorts      3.43     96.95     59.25     71.01     18.77      29.7\n",
      " lowerBodyShortSkirt      4.62     96.11      63.8     69.23     28.21     40.08\n",
      "   lowerBodyTrousers     51.96     79.88      79.9     81.33     79.54     80.43\n",
      "footwearLeatherShoes     29.14     87.09     81.42     84.86     67.81     75.38\n",
      "     footwearSandals      1.89     98.08     50.67     33.33      1.39      2.67\n",
      "       footwearShoes      36.5     78.57     74.55     76.44     59.66     67.02\n",
      "     footwearSneaker     22.04     84.29     68.53     77.61     40.36      53.1\n",
      "    carryingBackpack      19.7     86.16     69.27     77.99     41.42      54.1\n",
      "       carryingOther     20.14     84.18     61.67     90.62     23.97     37.91\n",
      "carryingMessengerBag     29.93     82.63     73.29     86.15     50.02     63.29\n",
      "     carryingNothing     27.51      83.0     74.12     77.08     54.38     63.77\n",
      " carryingPlasticBags       7.7     94.92     68.42     92.34     37.09     52.93\n",
      "      personalLess30     50.41     83.57     83.58     85.25     81.49     83.33\n",
      "      personalLess45     32.12     82.01     78.47     73.61     68.58     71.01\n",
      "      personalLess60     10.25     94.07     73.95     88.14     48.65      62.7\n",
      "    personalLarger60      6.07     97.74     83.27     94.19     66.81     78.17\n",
      "        personalMale     54.57      86.8      86.7     87.95     87.85      87.9\n",
      "                   -         -         -         -         -         -         -\n",
      "                mean         -     90.66     70.99     76.64     49.13     55.67\n"
     ]
    }
   ],
   "source": [
    "!python3 test.py --config /content/config.yml --resume \"/content/drive/My Drive/HIEN/Models/OSNet_Person_Attribute_Refactor/checkpoints/0730_195221/model_best_accuracy.pth\""
   ]
  },
  {
   "cell_type": "markdown",
   "metadata": {
    "colab_type": "text",
    "id": "5IZyFKhe_Riq"
   },
   "source": [
    "### efficientnet-b5 + CEL_Sigmoid"
   ]
  },
  {
   "cell_type": "code",
   "execution_count": null,
   "metadata": {
    "colab": {
     "base_uri": "https://localhost:8080/",
     "height": 34
    },
    "colab_type": "code",
    "id": "16R8Mmby_hJo",
    "outputId": "6d3ed307-95c9-44e6-f909-74794b295798"
   },
   "outputs": [
    {
     "name": "stdout",
     "output_type": "stream",
     "text": [
      "Overwriting /content/config.yml\n"
     ]
    }
   ],
   "source": [
    "%%writefile /content/config.yml\n",
    "base: /content/config/base_epoch.yml\n",
    "\n",
    "model:\n",
    "  backbone: efficientnet-b5\n",
    "  pooling: gem_pooling\n",
    "  head: BNHead\n",
    "  bn_where: after\n",
    "  use_tqdm: True\n",
    "\n",
    "data:\n",
    "  name: peta\n",
    "  image_size: [456, 228]\n",
    "  batch_size: 16\n",
    "\n",
    "optimizer:\n",
    "  name: adam\n",
    "  lr: 0.00035\n",
    "\n",
    "loss:\n",
    "  name: CEL_Sigmoid\n",
    "\n",
    "freeze:\n",
    "  enable: True\n",
    "  layers: [backbone]\n",
    "  epochs: 10\n",
    "\n",
    "lr_scheduler:\n",
    "  enable: True\n",
    "  name: WarmupMultiStepLR\n",
    "  steps: [30, 60, 90]\n",
    "  gamma: 0.1\n",
    "  warmup_factor: 0.01\n",
    "  warmup_iters: 10\n",
    "\n",
    "trainer:\n",
    "  n_gpu: 1\n",
    "  epochs: 120 \n",
    "  \n",
    "trainer_colab:\n",
    "  epochs: 120 "
   ]
  },
  {
   "cell_type": "code",
   "execution_count": null,
   "metadata": {
    "colab": {
     "base_uri": "https://localhost:8080/",
     "height": 874
    },
    "colab_type": "code",
    "id": "HFAr7xwI_hJt",
    "outputId": "b96e3cbb-8c20-49cc-ffc1-d9e3f4ef055a"
   },
   "outputs": [
    {
     "name": "stdout",
     "output_type": "stream",
     "text": [
      "2020-09-09 08:51:54.908202: I tensorflow/stream_executor/platform/default/dso_loader.cc:48] Successfully opened dynamic library libcudart.so.10.1\n",
      "Copying data...\n",
      "Copied!\n",
      "Loaded pretrained weights for efficientnet-b5\n",
      "Loading checkpoint: /content/drive/My Drive/HIEN/Models/person_attribute_recognition/checkpoints/0820_000952/model_best_accuracy.pth ...\n",
      "100% 475/475 [04:24<00:00,  1.79it/s]\n",
      "instance-based metrics:\n",
      "accuracy: 0.8017\n",
      "precision: 0.8886\n",
      "recall: 0.8606\n",
      "f1_score: 0.8715\n",
      "class-based metrics:\n",
      "           attribute    weight  accuracy        mA precision    recall  f1_score\n",
      "                   -         -         -         -         -         -         -\n",
      "        accessoryHat      9.54     98.51      94.0     95.67     88.41      91.9\n",
      "    accessoryMuffler      8.32     99.22     95.76     98.97     91.61     95.15\n",
      "    accessoryNothing     75.55     92.97     88.01      93.3     97.72     95.46\n",
      " accessorySunglasses      2.87     97.66     61.85     81.25     23.85     36.88\n",
      "            hairLong     23.74     94.67      92.1     90.04      87.2     88.59\n",
      "     upperBodyCasual     85.46     94.97     86.28     95.71     98.54      97.1\n",
      "     upperBodyFormal     13.25     95.72     87.56     89.74     76.46     82.57\n",
      "     upperBodyJacket      7.03      96.2     79.69     80.55     60.49     69.09\n",
      "       upperBodyLogo      3.89     97.03     68.15     73.65     36.82      49.1\n",
      "      upperBodyPlaid      2.67     98.68     84.23      79.1     68.97     73.68\n",
      "upperBodyShortSleeve     14.34     95.87     91.21     86.26     84.68     85.46\n",
      "upperBodyThinStripes      1.66     98.79     80.27     64.17     61.11      62.6\n",
      "     upperBodyTshirt      8.42     95.38     81.02     77.42     63.75     69.92\n",
      "      upperBodyOther     45.47     87.61     86.95     91.96     79.72      85.4\n",
      "      upperBodyVNeck      1.05     99.14     70.51     64.71     41.25     50.38\n",
      "     lowerBodyCasual     86.13      95.5     86.68     96.01     98.88     97.43\n",
      "     lowerBodyFormal     13.72     95.61     86.97     91.37     75.07     82.42\n",
      "      lowerBodyJeans     30.46     90.07     87.78     84.91     81.94      83.4\n",
      "     lowerBodyShorts      3.43     98.22     83.75     77.39      68.2     72.51\n",
      " lowerBodyShortSkirt      4.62     97.79     84.61     79.61     70.09     74.55\n",
      "   lowerBodyTrousers     51.96      86.8     86.76     86.86      87.9     87.38\n",
      "footwearLeatherShoes     29.14     92.25     90.07     88.13     84.83     86.45\n",
      "     footwearSandals      1.89     98.38     66.49      64.0     33.33     43.84\n",
      "       footwearShoes      36.5      83.8     82.23     78.63     76.39     77.49\n",
      "     footwearSneaker     22.04     89.12     81.31     80.11     67.34     73.18\n",
      "    carryingBackpack      19.7     93.01     87.94     84.11     79.56     81.77\n",
      "       carryingOther     20.14     88.18     78.61     74.67     62.57     68.09\n",
      "carryingMessengerBag     29.93      89.0     84.56     87.77     73.49      80.0\n",
      "     carryingNothing     27.51     88.89     87.83     76.79     85.46      80.9\n",
      " carryingPlasticBags       7.7     97.63     86.26      95.3     72.82     82.56\n",
      "      personalLess30     50.41      88.5     88.49     88.12     89.22     88.66\n",
      "      personalLess45     32.12     86.87     84.38     80.87     77.43     79.11\n",
      "      personalLess60     10.25     96.71     87.71     90.02     76.38     82.64\n",
      "    personalLarger60      6.07     99.36     95.09     99.05     90.24     94.44\n",
      "        personalMale     54.57     94.33     94.07     93.03     96.87     94.91\n",
      "                   -         -         -         -         -         -         -\n",
      "                mean         -     94.07     84.55     84.55     74.53     78.43\n"
     ]
    }
   ],
   "source": [
    "!python3 test.py --config /content/config.yml --resume \"/content/drive/My Drive/HIEN/Models/person_attribute_recognition/checkpoints/0820_000952/model_best_accuracy.pth\""
   ]
  },
  {
   "cell_type": "markdown",
   "metadata": {
    "colab_type": "text",
    "id": "RKdsFwMT5yez"
   },
   "source": [
    "### efficientnet-b4 + CEL_Sigmoid"
   ]
  },
  {
   "cell_type": "code",
   "execution_count": null,
   "metadata": {
    "colab": {
     "base_uri": "https://localhost:8080/",
     "height": 34
    },
    "colab_type": "code",
    "id": "YPtbr5s55ye1",
    "outputId": "4fc8b2af-6e0e-42f5-ac62-f7eb51882826"
   },
   "outputs": [
    {
     "name": "stdout",
     "output_type": "stream",
     "text": [
      "Overwriting /content/config.yml\n"
     ]
    }
   ],
   "source": [
    "%%writefile /content/config.yml\n",
    "base: /content/config/base_epoch.yml\n",
    "\n",
    "model:\n",
    "  backbone: efficientnet-b4\n",
    "  pooling: gem_pooling\n",
    "  head: BNHead\n",
    "  bn_where: after\n",
    "  use_tqdm: True\n",
    "\n",
    "data:\n",
    "  name: peta\n",
    "  image_size: [456, 228]\n",
    "  batch_size: 16\n",
    "\n",
    "optimizer:\n",
    "  name: adam\n",
    "  lr: 0.00035\n",
    "\n",
    "loss:\n",
    "  name: CEL_Sigmoid\n",
    "\n",
    "freeze:\n",
    "  enable: True\n",
    "  layers: [backbone]\n",
    "  epochs: 10\n",
    "\n",
    "lr_scheduler:\n",
    "  enable: True\n",
    "  name: WarmupMultiStepLR\n",
    "  steps: [30, 60, 90]\n",
    "  gamma: 0.1\n",
    "  warmup_factor: 0.01\n",
    "  warmup_iters: 10\n",
    "\n",
    "trainer:\n",
    "  n_gpu: 1\n",
    "  epochs: 120\n",
    "  \n",
    "trainer_colab:\n",
    "  epochs: 120"
   ]
  },
  {
   "cell_type": "code",
   "execution_count": null,
   "metadata": {
    "colab": {},
    "colab_type": "code",
    "id": "iEOQBgbF5ye4"
   },
   "outputs": [],
   "source": [
    "!python3 test.py --config /content/config.yml --resume \"/content/drive/My Drive/HIEN/Models/person_attribute_recognition/checkpoints/0820_113155/model_last.pth\""
   ]
  },
  {
   "cell_type": "markdown",
   "metadata": {
    "colab_type": "text",
    "id": "OjSeq9uwyT-D"
   },
   "source": [
    "## PA-100K"
   ]
  },
  {
   "cell_type": "markdown",
   "metadata": {
    "colab_type": "text",
    "id": "84aUSLIU_GEW"
   },
   "source": [
    "### resnet50 + CEL_Sigmoid"
   ]
  },
  {
   "cell_type": "code",
   "execution_count": null,
   "metadata": {
    "colab": {
     "base_uri": "https://localhost:8080/",
     "height": 34
    },
    "colab_type": "code",
    "id": "7LY5VmPy_NiD",
    "outputId": "e9f53ab2-4463-403a-d4cd-f9adf63fdf64"
   },
   "outputs": [
    {
     "name": "stdout",
     "output_type": "stream",
     "text": [
      "Overwriting /content/config.yml\n"
     ]
    }
   ],
   "source": [
    "%%writefile /content/config.yml\n",
    "base: /content/config/base_epoch.yml\n",
    "\n",
    "model:\n",
    "  backbone: resnet50\n",
    "  pooling: gem_pooling\n",
    "  head: BNHead\n",
    "  bn_where: after\n",
    "  use_tqdm: True\n",
    "\n",
    "data:\n",
    "  data_dir: datasets\n",
    "  name: pa_100k\n",
    "  image_size: [256, 128]\n",
    "  batch_size: 32\n",
    "  use_tqdm: True\n",
    "\n",
    "optimizer:\n",
    "  name: sgd\n",
    "  lr: 0.01\n",
    "  specified_lr:\n",
    "    enable: True\n",
    "    lr: 0.1\n",
    "    layers: [head]\n",
    "\n",
    "loss:\n",
    "  name: CEL_Sigmoid\n",
    "\n",
    "freeze:\n",
    "  enable: False\n",
    "  layers: [backbone]    \n",
    "  epochs: 10\n",
    "\n",
    "lr_scheduler:\n",
    "  enable: True\n",
    "  name: ReduceLROnPlateau\n",
    "  factor: 0.1\n",
    "  patience: 5\n",
    "  min_lr: 0.0000001\n",
    "\n",
    "trainer:\n",
    "  n_gpu: 1\n",
    "  epochs: 120\n",
    "  \n",
    "trainer_colab:\n",
    "  epochs: 120"
   ]
  },
  {
   "cell_type": "code",
   "execution_count": null,
   "metadata": {
    "colab": {
     "base_uri": "https://localhost:8080/",
     "height": 706
    },
    "colab_type": "code",
    "id": "a1jJOkP6_NiH",
    "outputId": "259d90e8-c314-42fc-ba93-aa076d143bc9"
   },
   "outputs": [
    {
     "name": "stdout",
     "output_type": "stream",
     "text": [
      "2020-09-09 08:56:52.133694: I tensorflow/stream_executor/platform/default/dso_loader.cc:48] Successfully opened dynamic library libcudart.so.10.1\n",
      "Copying data...\n",
      "Copied!\n",
      "Loading checkpoint: /content/drive/My Drive/HIEN/Models/OSNet_Person_Attribute_Refactor/checkpoints/0730_142502/model_best_accuracy.pth ...\n",
      "100% 313/313 [00:43<00:00,  7.25it/s]\n",
      "instance-based metrics:\n",
      "accuracy: 0.7892\n",
      "precision: 0.8816\n",
      "recall: 0.8631\n",
      "f1_score: 0.8682\n",
      "class-based metrics:\n",
      "           attribute    weight  accuracy        mA precision    recall  f1_score\n",
      "                   -         -         -         -         -         -         -\n",
      "              Female      2.87     97.32     66.67     55.37     34.15     42.24\n",
      "           AgeOver60     24.64     88.92     85.56     76.76     78.94     77.83\n",
      "            Age18-60     44.07     91.09     90.96     89.88      89.9     89.89\n",
      "           AgeLess18     55.93     91.09     90.96     92.04     92.03     92.03\n",
      "               Front      6.35     96.76     90.71     70.65     83.78     76.66\n",
      "                Side     12.41     91.49     81.79     64.77      68.9     66.77\n",
      "                Back     12.19     91.96     78.15     69.86     59.89     64.49\n",
      "                 Hat      4.47      98.4     86.47     88.89     73.38     80.39\n",
      "             Glasses      0.25     99.55     83.81     31.48      68.0     43.04\n",
      "             HandBag      1.19     99.05     69.63     67.14      39.5     49.74\n",
      "         ShoulderBag      4.48     96.03      74.2     56.39     50.22     53.13\n",
      "            Backpack     78.62     93.83     89.91     95.46     96.76      96.1\n",
      "  HoldObjectsInFront     12.86      96.0     90.28     85.78     82.58     84.15\n",
      "         ShortSleeve      8.19      95.1     81.65     72.08     65.57     68.67\n",
      "          LongSleeve      0.55     99.31     51.74     11.11      3.64      5.48\n",
      "         UpperStride     14.65     89.83     71.23     75.81     44.91     56.41\n",
      "           UpperLogo     19.55     85.44     73.72      65.3     54.48      59.4\n",
      "          UpperPlaid     15.17     91.64     81.24     75.58     66.32     70.65\n",
      "         UpperSplice      1.01     98.96     55.86     44.44     11.88     18.75\n",
      "         LowerStripe      2.58     98.53     78.49      80.0     57.36     66.82\n",
      "        LowerPattern      96.5     97.53     72.15     98.03     99.44     98.73\n",
      "            LongCoat      0.92     99.15     59.19     62.96     18.48     28.57\n",
      "            Trousers     38.96     91.61     91.07     89.73      88.6     89.16\n",
      "              Shorts     29.67     91.41     89.95     84.95     86.35     85.64\n",
      "         Skirt&Dress     39.92     88.09     87.52     85.38     84.67     85.02\n",
      "               boots     30.41     94.27     93.94     88.63     93.09     90.81\n",
      "                   -         -         -         -         -         -         -\n",
      "                mean         -     94.32     79.49     72.25     65.11     66.95\n"
     ]
    }
   ],
   "source": [
    "!python3 test.py --config /content/config.yml --resume \"/content/drive/My Drive/HIEN/Models/OSNet_Person_Attribute_Refactor/checkpoints/0730_142502/model_best_accuracy.pth\""
   ]
  },
  {
   "cell_type": "markdown",
   "metadata": {
    "colab_type": "text",
    "id": "HgJPadruAcLy"
   },
   "source": [
    "### resnet50 + BCE"
   ]
  },
  {
   "cell_type": "code",
   "execution_count": null,
   "metadata": {
    "colab": {
     "base_uri": "https://localhost:8080/",
     "height": 34
    },
    "colab_type": "code",
    "id": "DFDvOZiuAohB",
    "outputId": "e8bb77f2-eca7-4ba2-d010-554fa5975aec"
   },
   "outputs": [
    {
     "name": "stdout",
     "output_type": "stream",
     "text": [
      "Overwriting /content/config.yml\n"
     ]
    }
   ],
   "source": [
    "%%writefile /content/config.yml\n",
    "base: /content/config/base_epoch.yml\n",
    "\n",
    "model:\n",
    "  backbone: resnet50\n",
    "  pooling: gem_pooling\n",
    "  head: BNHead\n",
    "  bn_where: after\n",
    "  use_tqdm: True\n",
    "\n",
    "data:\n",
    "  data_dir: datasets\n",
    "  name: pa_100k\n",
    "  image_size: [256, 128]\n",
    "  batch_size: 32\n",
    "  use_tqdm: True\n",
    "\n",
    "optimizer:\n",
    "  name: adam\n",
    "  lr: 0.00035\n",
    "\n",
    "loss:\n",
    "  name: Non_BCEWithLogitsLoss\n",
    "\n",
    "freeze:\n",
    "  enable: True\n",
    "  layers: [backbone]\n",
    "  epochs: 10\n",
    "\n",
    "lr_scheduler:\n",
    "  enable: True\n",
    "  name: WarmupMultiStepLR\n",
    "  gamma: 0.1\n",
    "  milestones: [30, 40, 50]\n",
    "  warmup_factor: 0.01\n",
    "  warmup_iters: 10\n",
    "\n",
    "trainer:\n",
    "  n_gpu: 1\n",
    "  epochs: 60\n",
    "  \n",
    "trainer_colab:\n",
    "  epochs: 60"
   ]
  },
  {
   "cell_type": "code",
   "execution_count": null,
   "metadata": {
    "colab": {
     "base_uri": "https://localhost:8080/",
     "height": 706
    },
    "colab_type": "code",
    "id": "xmq_hY_XAohF",
    "outputId": "fdb6aa63-9001-4293-bb2a-35949d19f0c5"
   },
   "outputs": [
    {
     "name": "stdout",
     "output_type": "stream",
     "text": [
      "2020-09-09 08:58:02.980876: I tensorflow/stream_executor/platform/default/dso_loader.cc:48] Successfully opened dynamic library libcudart.so.10.1\n",
      "Copying data...\n",
      "Copied!\n",
      "Loading checkpoint: /content/drive/My Drive/HIEN/Models/OSNet_Person_Attribute_Refactor/checkpoints/0805_122353/model_best_accuracy.pth ...\n",
      "100% 313/313 [00:41<00:00,  7.48it/s]\n",
      "instance-based metrics:\n",
      "accuracy: 0.7687\n",
      "precision: 0.8938\n",
      "recall: 0.8260\n",
      "f1_score: 0.8539\n",
      "class-based metrics:\n",
      "           attribute    weight  accuracy        mA precision    recall  f1_score\n",
      "                   -         -         -         -         -         -         -\n",
      "              Female      2.87     97.61     61.74     77.27     23.69     36.27\n",
      "           AgeOver60     24.64     88.72     81.81      83.0     68.18     74.87\n",
      "            Age18-60     44.07     89.58     89.74     86.08     91.08     88.51\n",
      "           AgeLess18     55.93     89.58     89.74     92.64      88.4     90.47\n",
      "               Front      6.35      96.9     81.17     84.07     63.15     72.12\n",
      "                Side     12.41     91.72     76.29     71.27     55.76     62.57\n",
      "                Back     12.19     91.84     71.12     80.39     43.72     56.64\n",
      "                 Hat      4.47      97.5     74.81     89.56     49.89     64.08\n",
      "             Glasses      0.25     99.83     67.99      90.0      36.0     51.43\n",
      "             HandBag      1.19     99.11      65.1     85.71     30.25     44.72\n",
      "         ShoulderBag      4.48     96.12     64.99     63.89      30.8     41.57\n",
      "            Backpack     78.62     93.46     90.03     95.68     96.02     95.85\n",
      "  HoldObjectsInFront     12.86     95.93     90.08     85.59     82.19     83.86\n",
      "         ShortSleeve      8.19     94.26     77.41     67.68     57.26     62.04\n",
      "          LongSleeve      0.55     99.45      50.0       0.0       0.0       0.0\n",
      "         UpperStride     14.65     90.02      72.1     75.86     46.76     57.85\n",
      "           UpperLogo     19.55     85.56      68.9     72.96     41.53     52.93\n",
      "          UpperPlaid     15.17     91.15     77.62     77.87     58.21     66.62\n",
      "         UpperSplice      1.01     98.99      50.0       0.0       0.0       0.0\n",
      "         LowerStripe      2.58     98.31      73.1     79.47     46.51     58.68\n",
      "        LowerPattern      96.5     97.25     69.39     97.84     99.35     98.59\n",
      "            LongCoat      0.92     98.96     55.32     31.25     10.87     16.13\n",
      "            Trousers     38.96     90.66     90.07     88.47     87.42     87.94\n",
      "              Shorts     29.67     90.63     89.04     83.59     85.14     84.35\n",
      "         Skirt&Dress     39.92     86.67     84.86     89.09      75.9     81.97\n",
      "               boots     30.41     93.06      93.0     85.57     92.83     89.05\n",
      "                   -         -         -         -         -         -         -\n",
      "                mean         -     93.96     75.21     74.41     56.19     62.27\n"
     ]
    }
   ],
   "source": [
    "!python3 test.py --config /content/config.yml --resume \"/content/drive/My Drive/HIEN/Models/OSNet_Person_Attribute_Refactor/checkpoints/0805_122353/model_best_accuracy.pth\""
   ]
  },
  {
   "cell_type": "markdown",
   "metadata": {
    "colab_type": "text",
    "id": "C-Ege-ZQyY5t"
   },
   "source": [
    "### osnet + CEL_Sigmoid"
   ]
  },
  {
   "cell_type": "code",
   "execution_count": null,
   "metadata": {
    "colab": {
     "base_uri": "https://localhost:8080/",
     "height": 34
    },
    "colab_type": "code",
    "id": "i3LuameXqiRI",
    "outputId": "c1f52203-8b0e-4a75-c98c-4dd7925aa6cf"
   },
   "outputs": [
    {
     "name": "stdout",
     "output_type": "stream",
     "text": [
      "Overwriting /content/config.yml\n"
     ]
    }
   ],
   "source": [
    "%%writefile /content/config.yml\n",
    "base: /content/config/base_epoch.yml\n",
    "\n",
    "model:\n",
    "  backbone: osnet\n",
    "  pooling: gem_pooling\n",
    "  head: ReductionHead\n",
    "  bn_where: before\n",
    "  use_tqdm: True\n",
    "\n",
    "data:\n",
    "  data_dir: datasets\n",
    "  name: pa_100k\n",
    "  image_size: [256, 128]\n",
    "  batch_size: 32\n",
    "  use_tqdm: True\n",
    "\n",
    "optimizer:\n",
    "  name: adam\n",
    "  lr: 0.00035\n",
    "\n",
    "loss:\n",
    "  name: CEL_Sigmoid\n",
    "\n",
    "lr_scheduler:\n",
    "  enable: True\n",
    "  name: WarmupCosineAnnealingLR\n",
    "  delay_iters: 30\n",
    "\n",
    "trainer:\n",
    "  n_gpu: 1\n",
    "  epochs: 120\n",
    "  \n",
    "trainer_colab:\n",
    "  epochs: 120\n"
   ]
  },
  {
   "cell_type": "code",
   "execution_count": null,
   "metadata": {
    "colab": {
     "base_uri": "https://localhost:8080/",
     "height": 706
    },
    "colab_type": "code",
    "id": "RC816vWCrr_X",
    "outputId": "b2049a0f-cd3a-45ba-eb05-72ef449322fe"
   },
   "outputs": [
    {
     "name": "stdout",
     "output_type": "stream",
     "text": [
      "2020-09-09 09:04:21.807319: I tensorflow/stream_executor/platform/default/dso_loader.cc:48] Successfully opened dynamic library libcudart.so.10.1\n",
      "Copying data...\n",
      "Copied!\n",
      "Loading checkpoint: /content/drive/My Drive/HIEN/Models/person_attribute_recognition/checkpoints/0809_122045/model_best_accuracy.pth ...\n",
      "100% 313/313 [00:38<00:00,  8.20it/s]\n",
      "instance-based metrics:\n",
      "accuracy: 0.7427\n",
      "precision: 0.8522\n",
      "recall: 0.8314\n",
      "f1_score: 0.8366\n",
      "class-based metrics:\n",
      "           attribute    weight  accuracy        mA precision    recall  f1_score\n",
      "                   -         -         -         -         -         -         -\n",
      "              Female      2.87     97.47     61.33     67.35      23.0     34.29\n",
      "           AgeOver60     24.64     84.97     83.85     65.69     81.66     72.81\n",
      "            Age18-60     44.07     88.85     88.91     85.84     89.45     87.61\n",
      "           AgeLess18     55.93     88.85     88.91      91.4     88.38     89.86\n",
      "               Front      6.35      96.4     81.49     75.32     64.41     69.44\n",
      "                Side     12.41     88.86     79.12     54.19     66.16     59.58\n",
      "                Back     12.19     88.58     72.37      53.3     50.94      52.1\n",
      "                 Hat      4.47     97.68     80.45     82.09     61.52     70.33\n",
      "             Glasses      0.25     99.73     55.97      37.5      12.0     18.18\n",
      "             HandBag      1.19     98.98     65.86     64.41     31.93      42.7\n",
      "         ShoulderBag      4.48     95.82     70.05     54.36     41.74     47.22\n",
      "            Backpack     78.62     93.42     88.14     94.44     97.37     95.88\n",
      "  HoldObjectsInFront     12.86     94.39     83.62     84.43     69.13     76.02\n",
      "         ShortSleeve      8.19     94.13     77.23     66.52     57.02     61.41\n",
      "          LongSleeve      0.55     99.45      50.9      50.0      1.82      3.51\n",
      "         UpperStride     14.65     86.32     69.11     53.99     44.78     48.96\n",
      "           UpperLogo     19.55     83.57      66.9     62.64     39.54     48.48\n",
      "          UpperPlaid     15.17     89.21     73.45     69.84     50.82     58.83\n",
      "         UpperSplice      1.01     98.92     49.96       0.0       0.0       0.0\n",
      "         LowerStripe      2.58     98.13      66.4     85.86     32.95     47.62\n",
      "        LowerPattern      96.5     97.13     64.92     97.52     99.55     98.53\n",
      "            LongCoat      0.92      99.0     56.96     38.24     14.13     20.63\n",
      "            Trousers     38.96      88.9     87.78     88.06     82.73     85.31\n",
      "              Shorts     29.67      90.1     89.05     81.33     86.48     83.83\n",
      "         Skirt&Dress     39.92     86.69     85.82     84.59     81.51     83.02\n",
      "               boots     30.41     92.59      92.2     85.43     91.19     88.21\n",
      "                   -         -         -         -         -         -         -\n",
      "                mean         -     93.01     74.26     68.24     56.16      59.4\n"
     ]
    }
   ],
   "source": [
    "!python3 test.py --config /content/config.yml --resume \"/content/drive/My Drive/HIEN/Models/person_attribute_recognition/checkpoints/0809_122045/model_best_accuracy.pth\""
   ]
  },
  {
   "cell_type": "markdown",
   "metadata": {
    "colab_type": "text",
    "id": "0OaU-TL9DCs5"
   },
   "source": [
    "### osnet + BCE"
   ]
  },
  {
   "cell_type": "code",
   "execution_count": null,
   "metadata": {
    "colab": {
     "base_uri": "https://localhost:8080/",
     "height": 34
    },
    "colab_type": "code",
    "id": "Y15pLVQ0DGCu",
    "outputId": "6f26104e-0091-40d9-f8fe-ef74b44e3f32"
   },
   "outputs": [
    {
     "name": "stdout",
     "output_type": "stream",
     "text": [
      "Overwriting /content/config.yml\n"
     ]
    }
   ],
   "source": [
    "%%writefile /content/config.yml\n",
    "base: /content/config/base_epoch.yml\n",
    "\n",
    "model:\n",
    "  backbone: osnet\n",
    "  pooling: gem_pooling\n",
    "  head: ReductionHead\n",
    "  bn_where: before\n",
    "  use_tqdm: True\n",
    "\n",
    "data:\n",
    "  data_dir: datasets\n",
    "  name: pa_100k\n",
    "  image_size: [256, 128]\n",
    "  batch_size: 32\n",
    "  use_tqdm: True\n",
    "\n",
    "optimizer:\n",
    "  name: adam\n",
    "  lr: 0.00035\n",
    "\n",
    "loss:\n",
    "  name: Non_BCEWithLogitsLoss\n",
    "\n",
    "lr_scheduler:\n",
    "  enable: True\n",
    "  name: WarmupCosineAnnealingLR\n",
    "  delay_iters: 30\n",
    "\n",
    "trainer:\n",
    "  n_gpu: 1\n",
    "  epochs: 120\n",
    "  \n",
    "trainer_colab:\n",
    "  epochs: 120\n"
   ]
  },
  {
   "cell_type": "code",
   "execution_count": null,
   "metadata": {
    "colab": {
     "base_uri": "https://localhost:8080/",
     "height": 706
    },
    "colab_type": "code",
    "id": "r14G60I9DGCx",
    "outputId": "6d335af2-ac91-4fcb-b3bc-0f39faadfdd1"
   },
   "outputs": [
    {
     "name": "stdout",
     "output_type": "stream",
     "text": [
      "2020-09-09 09:05:28.924525: I tensorflow/stream_executor/platform/default/dso_loader.cc:48] Successfully opened dynamic library libcudart.so.10.1\n",
      "Copying data...\n",
      "Copied!\n",
      "Loading checkpoint: /content/drive/My Drive/HIEN/Models/person_attribute_recognition/checkpoints/0819_161203/model_best_accuracy.pth ...\n",
      "100% 313/313 [00:37<00:00,  8.35it/s]\n",
      "instance-based metrics:\n",
      "accuracy: 0.7146\n",
      "precision: 0.8903\n",
      "recall: 0.7649\n",
      "f1_score: 0.8167\n",
      "class-based metrics:\n",
      "           attribute    weight  accuracy        mA precision    recall  f1_score\n",
      "                   -         -         -         -         -         -         -\n",
      "              Female      2.87     97.37     54.69      90.0      9.41     17.03\n",
      "           AgeOver60     24.64     85.04     72.54     84.77     47.89      61.2\n",
      "            Age18-60     44.07     87.65     87.68     84.64     87.93     86.25\n",
      "           AgeLess18     55.93     87.65     87.68     90.19     87.43     88.79\n",
      "               Front      6.35      95.8     67.96     94.24     36.06     52.16\n",
      "                Side     12.41     90.95     69.28     75.15     40.45     52.59\n",
      "                Back     12.19     89.76     61.14     76.14      23.3     35.68\n",
      "                 Hat      4.47     96.77     65.04     92.47      30.2     45.53\n",
      "             Glasses      0.25     99.75      50.0       0.0       0.0       0.0\n",
      "             HandBag      1.19     98.81      50.0       0.0       0.0       0.0\n",
      "         ShoulderBag      4.48     95.69     53.07     71.79      6.25      11.5\n",
      "            Backpack     78.62     92.76     87.53     94.27     96.67     95.45\n",
      "  HoldObjectsInFront     12.86     94.91     83.66     89.44     68.51     77.59\n",
      "         ShortSleeve      8.19     94.06     71.74     71.93     45.05     55.41\n",
      "          LongSleeve      0.55     99.45      50.0       0.0       0.0       0.0\n",
      "         UpperStride     14.65     88.89     64.88     82.07     30.92     44.92\n",
      "           UpperLogo     19.55     82.88     59.99     69.19      22.4     33.85\n",
      "          UpperPlaid     15.17      88.6     67.08     76.14     36.19     49.06\n",
      "         UpperSplice      1.01     98.99      50.0       0.0       0.0       0.0\n",
      "         LowerStripe      2.58     97.94     62.91     81.71     25.97     39.41\n",
      "        LowerPattern      96.5     97.06     65.16     97.54     99.46     98.49\n",
      "            LongCoat      0.92     98.85      51.5     10.34      3.26      4.96\n",
      "            Trousers     38.96      86.8     86.25     82.59     83.78     83.18\n",
      "              Shorts     29.67     88.82     86.36     81.69     80.32      81.0\n",
      "         Skirt&Dress     39.92     84.85     82.24     90.54     69.29      78.5\n",
      "               boots     30.41     90.84     90.35     82.27     89.08     85.54\n",
      "                   -         -         -         -         -         -         -\n",
      "                mean         -     92.73     68.41     68.04     43.07     49.16\n"
     ]
    }
   ],
   "source": [
    "!python3 test.py --config /content/config.yml --resume \"/content/drive/My Drive/HIEN/Models/person_attribute_recognition/checkpoints/0819_161203/model_best_accuracy.pth\""
   ]
  },
  {
   "cell_type": "markdown",
   "metadata": {
    "colab_type": "text",
    "id": "dAYDQWNOBzqn"
   },
   "source": [
    "## PPE"
   ]
  },
  {
   "cell_type": "code",
   "execution_count": null,
   "metadata": {
    "colab": {},
    "colab_type": "code",
    "id": "4uxqY7RhQiFt"
   },
   "outputs": [],
   "source": [
    "!mkdir -p /content/datasets/ppe/raw\n",
    "!\\cp  /content/drive/\"My Drive\"/Private_Datasets/ppe.zip datasets/ppe/raw/"
   ]
  },
  {
   "cell_type": "markdown",
   "metadata": {
    "colab_type": "text",
    "id": "klWzH5kyEEPH"
   },
   "source": [
    "### resnet50 + CEL_Sigmoid"
   ]
  },
  {
   "cell_type": "code",
   "execution_count": null,
   "metadata": {
    "colab": {
     "base_uri": "https://localhost:8080/",
     "height": 34
    },
    "colab_type": "code",
    "id": "hOb3WTymGWtB",
    "outputId": "2511102e-cf90-4424-9d99-0583903ceb1a"
   },
   "outputs": [
    {
     "name": "stdout",
     "output_type": "stream",
     "text": [
      "Overwriting /content/config.yml\n"
     ]
    }
   ],
   "source": [
    "%%writefile /content/config.yml\n",
    "base: /content/config/base_epoch.yml\n",
    "\n",
    "model:\n",
    "  backbone: resnet50\n",
    "  pooling: gem_pooling\n",
    "  head: BNHead\n",
    "  bn_where: after\n",
    "  use_tqdm: True\n",
    "\n",
    "data:\n",
    "  data_dir: datasets\n",
    "  name: ppe_two\n",
    "  image_size: [256, 256]\n",
    "  batch_size: 32\n",
    "  use_tqdm: True\n",
    "\n",
    "optimizer:\n",
    "  name: sgd\n",
    "  lr: 0.01\n",
    "  specified_lr:\n",
    "    enable: True\n",
    "    lr: 0.1\n",
    "    layers: [head]\n",
    "\n",
    "loss:\n",
    "  name: CEL_Sigmoid\n",
    "\n",
    "freeze:\n",
    "  enable: False\n",
    "  layers: [backbone]\n",
    "  epochs: 10\n",
    "\n",
    "lr_scheduler:\n",
    "  enable: True\n",
    "  name: ReduceLROnPlateau\n",
    "  factor: 0.1\n",
    "  patience: 5\n",
    "  min_lr: 0.0000001\n",
    "\n",
    "trainer:\n",
    "  n_gpu: 1\n",
    "  epochs: 120\n",
    "  \n",
    "trainer_colab:\n",
    "  epochs: 120"
   ]
  },
  {
   "cell_type": "code",
   "execution_count": null,
   "metadata": {
    "colab": {
     "base_uri": "https://localhost:8080/",
     "height": 269
    },
    "colab_type": "code",
    "id": "BhSHAeCWGy-w",
    "outputId": "98259d19-27bc-475a-b0d2-8fe00df9287e"
   },
   "outputs": [
    {
     "name": "stdout",
     "output_type": "stream",
     "text": [
      "2020-09-09 09:48:57.799791: I tensorflow/stream_executor/platform/default/dso_loader.cc:48] Successfully opened dynamic library libcudart.so.10.1\n",
      "Loading checkpoint: /content/drive/My Drive/HIEN/Models/OSNet_Person_Attribute_Refactor/checkpoints/0804_164021/model_best_accuracy.pth ...\n",
      "100% 33/33 [00:08<00:00,  3.86it/s]\n",
      "instance-based metrics:\n",
      "accuracy: 0.8520\n",
      "precision: 0.8814\n",
      "recall: 0.9051\n",
      "f1_score: 0.8795\n",
      "class-based metrics:\n",
      "           attribute    weight  accuracy        mA precision    recall  f1_score\n",
      "                   -         -         -         -         -         -         -\n",
      "            hard_hat     76.28     85.01      74.6     87.04      94.4     90.57\n",
      "         safety_vest     90.42     89.09     51.48     90.68     98.01      94.2\n",
      "                   -         -         -         -         -         -         -\n",
      "                mean         -     87.05     63.04     88.86      96.2     92.39\n"
     ]
    }
   ],
   "source": [
    "!python3 test.py --config /content/config.yml --resume \"/content/drive/My Drive/HIEN/Models/OSNet_Person_Attribute_Refactor/checkpoints/0804_164021/model_best_accuracy.pth\""
   ]
  },
  {
   "cell_type": "markdown",
   "metadata": {
    "colab_type": "text",
    "id": "dtMpnSDpEHKJ"
   },
   "source": [
    "### resnet50 + BCE"
   ]
  },
  {
   "cell_type": "code",
   "execution_count": null,
   "metadata": {
    "colab": {
     "base_uri": "https://localhost:8080/",
     "height": 34
    },
    "colab_type": "code",
    "id": "pLsIb3uELnPA",
    "outputId": "cf798c19-fa2e-471f-e438-162ad6ec1a55"
   },
   "outputs": [
    {
     "name": "stdout",
     "output_type": "stream",
     "text": [
      "Overwriting /content/config.yml\n"
     ]
    }
   ],
   "source": [
    "%%writefile /content/config.yml\n",
    "base: /content/config/base_epoch.yml\n",
    "\n",
    "model:\n",
    "  backbone: resnet50\n",
    "  pooling: gem_pooling\n",
    "  head: BNHead\n",
    "  bn_where: after\n",
    "  use_tqdm: True\n",
    "\n",
    "data:\n",
    "  data_dir: datasets\n",
    "  name: ppe_two\n",
    "  image_size: [256, 256]\n",
    "  batch_size: 32\n",
    "  use_tqdm: True\n",
    "\n",
    "optimizer:\n",
    "  name: sgd\n",
    "  lr: 0.01\n",
    "  specified_lr:\n",
    "    enable: True\n",
    "    lr: 0.1\n",
    "    layers: [head]\n",
    "\n",
    "loss:\n",
    "  name: Non_BCEWithLogitsLoss\n",
    "\n",
    "freeze:\n",
    "  enable: False\n",
    "  layers: [backbone]\n",
    "  epochs: 10\n",
    "\n",
    "lr_scheduler:\n",
    "  enable: True\n",
    "  name: ReduceLROnPlateau\n",
    "  factor: 0.1\n",
    "  patience: 5\n",
    "  min_lr: 0\n",
    "\n",
    "trainer:\n",
    "  n_gpu: 1\n",
    "  epochs: 120\n",
    "  \n",
    "trainer_colab:\n",
    "  epochs: 120"
   ]
  },
  {
   "cell_type": "code",
   "execution_count": null,
   "metadata": {
    "colab": {
     "base_uri": "https://localhost:8080/",
     "height": 269
    },
    "colab_type": "code",
    "id": "MxZLo5EmLnPE",
    "outputId": "00132e95-33b6-4309-ad1a-2f2de24e52ae"
   },
   "outputs": [
    {
     "name": "stdout",
     "output_type": "stream",
     "text": [
      "2020-09-09 09:50:23.008785: I tensorflow/stream_executor/platform/default/dso_loader.cc:48] Successfully opened dynamic library libcudart.so.10.1\n",
      "Loading checkpoint: /content/drive/My Drive/HIEN/Models/OSNet_Person_Attribute_Refactor/checkpoints/0805_101913/model_best_accuracy.pth ...\n",
      "100% 33/33 [00:08<00:00,  3.85it/s]\n",
      "instance-based metrics:\n",
      "accuracy: 0.8482\n",
      "precision: 0.8771\n",
      "recall: 0.9046\n",
      "f1_score: 0.8767\n",
      "class-based metrics:\n",
      "           attribute    weight  accuracy        mA precision    recall  f1_score\n",
      "                   -         -         -         -         -         -         -\n",
      "            hard_hat     76.28     83.78     74.07     87.02     92.54     89.69\n",
      "         safety_vest     90.42     90.23     50.78     90.55     99.58     94.85\n",
      "                   -         -         -         -         -         -         -\n",
      "                mean         -      87.0     62.42     88.79     96.06     92.27\n"
     ]
    }
   ],
   "source": [
    "!python3 test.py --config /content/config.yml --resume \"/content/drive/My Drive/HIEN/Models/OSNet_Person_Attribute_Refactor/checkpoints/0805_101913/model_best_accuracy.pth\""
   ]
  },
  {
   "cell_type": "markdown",
   "metadata": {
    "colab_type": "text",
    "id": "skML3ZmlEJSk"
   },
   "source": [
    "### osnet + CEL_Sigmoid"
   ]
  },
  {
   "cell_type": "code",
   "execution_count": null,
   "metadata": {
    "colab": {
     "base_uri": "https://localhost:8080/",
     "height": 34
    },
    "colab_type": "code",
    "id": "MxCtju7bMFTK",
    "outputId": "a771c390-d7b3-4888-d592-5d33852c17a1"
   },
   "outputs": [
    {
     "name": "stdout",
     "output_type": "stream",
     "text": [
      "Overwriting /content/config.yml\n"
     ]
    }
   ],
   "source": [
    "%%writefile /content/config.yml\n",
    "base: /content/config/base_epoch.yml\n",
    "\n",
    "model:\n",
    "  backbone: osnet\n",
    "  pooling: gem_pooling\n",
    "  head: ReductionHead\n",
    "  bn_where: before\n",
    "  use_tqdm: True\n",
    "\n",
    "data:\n",
    "  data_dir: datasets\n",
    "  name: ppe_two\n",
    "  image_size: [256, 256]\n",
    "  batch_size: 32\n",
    "  use_tqdm: True\n",
    "\n",
    "optimizer:\n",
    "  name: adam\n",
    "  lr: 0.00035\n",
    "\n",
    "loss:\n",
    "  name: CEL_Sigmoid\n",
    "\n",
    "lr_scheduler:\n",
    "  enable: True\n",
    "  name: WarmupCosineAnnealingLR\n",
    "  delay_iters: 30\n",
    "\n",
    "trainer:\n",
    "  n_gpu: 1\n",
    "  epochs: 120\n",
    "  \n",
    "trainer_colab:\n",
    "  epochs: 120\n"
   ]
  },
  {
   "cell_type": "code",
   "execution_count": null,
   "metadata": {
    "colab": {
     "base_uri": "https://localhost:8080/",
     "height": 269
    },
    "colab_type": "code",
    "id": "pizOorT_MFTO",
    "outputId": "404ca43f-d84b-4a08-ea21-98f332be826f"
   },
   "outputs": [
    {
     "name": "stdout",
     "output_type": "stream",
     "text": [
      "2020-09-09 09:50:51.947742: I tensorflow/stream_executor/platform/default/dso_loader.cc:48] Successfully opened dynamic library libcudart.so.10.1\n",
      "Loading checkpoint: /content/drive/My Drive/HIEN/Models/OSNet_Person_Attribute_Refactor/checkpoints/0805_125311/model_best_accuracy.pth ...\n",
      "100% 33/33 [00:08<00:00,  4.03it/s]\n",
      "instance-based metrics:\n",
      "accuracy: 0.8340\n",
      "precision: 0.8790\n",
      "recall: 0.8828\n",
      "f1_score: 0.8653\n",
      "class-based metrics:\n",
      "           attribute    weight  accuracy        mA precision    recall  f1_score\n",
      "                   -         -         -         -         -         -         -\n",
      "            hard_hat     76.28     80.17     71.29     86.15     88.18     87.15\n",
      "         safety_vest     90.42     90.61     55.86     91.46     98.85     95.01\n",
      "                   -         -         -         -         -         -         -\n",
      "                mean         -     85.39     63.58      88.8     93.51     91.08\n"
     ]
    }
   ],
   "source": [
    "!python3 test.py --config /content/config.yml --resume \"/content/drive/My Drive/HIEN/Models/OSNet_Person_Attribute_Refactor/checkpoints/0805_125311/model_best_accuracy.pth\""
   ]
  },
  {
   "cell_type": "markdown",
   "metadata": {
    "colab_type": "text",
    "id": "smVJEjDyEL4J"
   },
   "source": [
    "### osnet + BCE"
   ]
  },
  {
   "cell_type": "code",
   "execution_count": null,
   "metadata": {
    "colab": {
     "base_uri": "https://localhost:8080/",
     "height": 34
    },
    "colab_type": "code",
    "id": "4uxXzRlyMfy6",
    "outputId": "ba296ab5-88ec-4b53-f1e3-0f0dc9c377ea"
   },
   "outputs": [
    {
     "name": "stdout",
     "output_type": "stream",
     "text": [
      "Overwriting /content/config.yml\n"
     ]
    }
   ],
   "source": [
    "%%writefile /content/config.yml\n",
    "base: /content/config/base_epoch.yml\n",
    "\n",
    "model:\n",
    "  backbone: osnet\n",
    "  pooling: gem_pooling\n",
    "  head: ReductionHead\n",
    "  bn_where: before\n",
    "  use_tqdm: True\n",
    "\n",
    "data:\n",
    "  data_dir: datasets\n",
    "  name: ppe_two\n",
    "  image_size: [256, 256]\n",
    "  batch_size: 32\n",
    "  use_tqdm: True\n",
    "\n",
    "optimizer:\n",
    "  name: adam\n",
    "  lr: 0.00035\n",
    "\n",
    "loss:\n",
    "  name: Non_BCEWithLogitsLoss\n",
    "\n",
    "lr_scheduler:\n",
    "  enable: True\n",
    "  name: WarmupCosineAnnealingLR\n",
    "  delay_iters: 30\n",
    "\n",
    "trainer:\n",
    "  n_gpu: 1\n",
    "  epochs: 120\n",
    "  \n",
    "trainer_colab:\n",
    "  epochs: 120\n"
   ]
  },
  {
   "cell_type": "code",
   "execution_count": null,
   "metadata": {
    "colab": {
     "base_uri": "https://localhost:8080/",
     "height": 269
    },
    "colab_type": "code",
    "id": "Yh4LZ0PBMfy-",
    "outputId": "47c314d9-cd16-4b2d-e8f6-aae9f05bba06"
   },
   "outputs": [
    {
     "name": "stdout",
     "output_type": "stream",
     "text": [
      "2020-09-09 09:51:11.558276: I tensorflow/stream_executor/platform/default/dso_loader.cc:48] Successfully opened dynamic library libcudart.so.10.1\n",
      "Loading checkpoint: /content/drive/My Drive/HIEN/Models/OSNet_Person_Attribute_Refactor/checkpoints/0805_101801/model_best_accuracy.pth ...\n",
      "100% 33/33 [00:07<00:00,  4.14it/s]\n",
      "instance-based metrics:\n",
      "accuracy: 0.8254\n",
      "precision: 0.8733\n",
      "recall: 0.8724\n",
      "f1_score: 0.8571\n",
      "class-based metrics:\n",
      "           attribute    weight  accuracy        mA precision    recall  f1_score\n",
      "                   -         -         -         -         -         -         -\n",
      "            hard_hat     76.28     78.46     68.66     84.89     87.31     86.08\n",
      "         safety_vest     90.42     89.18     51.53     90.69     98.11     94.25\n",
      "                   -         -         -         -         -         -         -\n",
      "                mean         -     83.82     60.09     87.79     92.71     90.17\n"
     ]
    }
   ],
   "source": [
    "!python3 test.py --config /content/config.yml --resume \"/content/drive/My Drive/HIEN/Models/OSNet_Person_Attribute_Refactor/checkpoints/0805_101801/model_best_accuracy.pth\""
   ]
  },
  {
   "cell_type": "markdown",
   "metadata": {
    "colab_type": "text",
    "id": "HF29T5n_CWJc"
   },
   "source": [
    "## Wider"
   ]
  },
  {
   "cell_type": "markdown",
   "metadata": {
    "colab_type": "text",
    "id": "5UL0cztmB-8e"
   },
   "source": [
    "### resnet50 + CEL_Sigmoid"
   ]
  },
  {
   "cell_type": "code",
   "execution_count": null,
   "metadata": {
    "colab": {
     "base_uri": "https://localhost:8080/",
     "height": 34
    },
    "colab_type": "code",
    "id": "w8c1hwgZEgeu",
    "outputId": "dc505a4a-d7c8-43e6-fc1e-fc5a9afdfbef"
   },
   "outputs": [
    {
     "name": "stdout",
     "output_type": "stream",
     "text": [
      "Overwriting /content/config.yml\n"
     ]
    }
   ],
   "source": [
    "%%writefile /content/config.yml\n",
    "base: /content/config/base_epoch.yml\n",
    "\n",
    "model:\n",
    "  backbone: resnet50\n",
    "  pooling: gem_pooling\n",
    "  head: BNHead\n",
    "  bn_where: after\n",
    "  use_tqdm: True\n",
    "\n",
    "data:\n",
    "  data_dir: datasets\n",
    "  name: wider\n",
    "  image_size: [256, 128]\n",
    "  batch_size: 32\n",
    "  use_tqdm: True\n",
    "\n",
    "optimizer:\n",
    "  name: sgd\n",
    "  lr: 0.01\n",
    "  specified_lr:\n",
    "    enable: True\n",
    "    lr: 0.1\n",
    "    layers: [head]\n",
    "\n",
    "loss:\n",
    "  name: CEL_Sigmoid\n",
    "  reduction: mean\n",
    "\n",
    "freeze:\n",
    "  enable: True\n",
    "  layers: [backbone]\n",
    "  epochs: 10\n",
    "\n",
    "lr_scheduler:\n",
    "  enable: True\n",
    "  name: ReduceLROnPlateau\n",
    "  factor: 0.1\n",
    "  patience: 10\n",
    "  min_lr: 0\n",
    "\n",
    "trainer:\n",
    "  n_gpu: 1\n",
    "  epochs: 120\n",
    "  \n",
    "trainer_colab:\n",
    "  epochs: 120"
   ]
  },
  {
   "cell_type": "code",
   "execution_count": null,
   "metadata": {
    "colab": {
     "base_uri": "https://localhost:8080/",
     "height": 524
    },
    "colab_type": "code",
    "id": "Nsxh3OHWE9y_",
    "outputId": "72a983b9-bac1-4445-efd3-e0da3c039c69"
   },
   "outputs": [
    {
     "name": "stdout",
     "output_type": "stream",
     "text": [
      "2020-09-09 10:07:41.035334: I tensorflow/stream_executor/platform/default/dso_loader.cc:48] Successfully opened dynamic library libcudart.so.10.1\n",
      "Copying data...\n",
      "Copied!\n",
      "Traceback (most recent call last):\n",
      "  File \"test.py\", line 124, in <module>\n",
      "    main(config)\n",
      "  File \"test.py\", line 31, in main\n",
      "    datamanager, _ = build_datamanager(config['type'], config['data'])\n",
      "  File \"/content/data/datamanager.py\", line 212, in build_datamanager\n",
      "    return DataManger_Epoch(config, **kwargs), dict_paramsters\n",
      "  File \"/content/data/datamanager.py\", line 41, in __init__\n",
      "    super(DataManger_Epoch, self).__init__(config)\n",
      "  File \"/content/data/datamanager.py\", line 27, in __init__\n",
      "    use_tqdm=config['use_tqdm'])\n",
      "  File \"/content/data/image/__init__.py\", line 16, in build_datasource\n",
      "    return __datasets[name](root_dir, download, extract, use_tqdm)\n",
      "  File \"/content/data/image/wider.py\", line 43, in __init__\n",
      "    self.data['train'], attribute_train, self.weight['train'] = self._processes_dir(os.path.join(self.data_dir, 'wiger_attribute_train.json'), self.data_dir)\n",
      "  File \"/content/data/image/wider.py\", line 58, in _processes_dir\n",
      "    wider_attribute = read_json(path_json_file)\n",
      "  File \"/content/utils/util.py\", line 53, in read_json\n",
      "    with fname.open('rt') as handle:\n",
      "  File \"/usr/lib/python3.6/pathlib.py\", line 1183, in open\n",
      "    opener=self._opener)\n",
      "  File \"/usr/lib/python3.6/pathlib.py\", line 1037, in _opener\n",
      "    return self._accessor.open(self, flags, mode)\n",
      "  File \"/usr/lib/python3.6/pathlib.py\", line 387, in wrapped\n",
      "    return strfunc(str(pathobj), *args)\n",
      "FileNotFoundError: [Errno 2] No such file or directory: 'datasets/wider/processed/Wider-data/wiger_attribute_train.json'\n"
     ]
    }
   ],
   "source": [
    " !python3 test.py --config /content/config.yml --resume \"/content/drive/Shared drives/REID/HIEN/Models/person_attribute_recognition/checkpoints/0808_124659/model_best_accuracy.pth\""
   ]
  },
  {
   "cell_type": "markdown",
   "metadata": {
    "colab_type": "text",
    "id": "590EOedEyHdh"
   },
   "source": [
    "# Episode training\n",
    "Training theo episode"
   ]
  },
  {
   "cell_type": "markdown",
   "metadata": {
    "colab_type": "text",
    "id": "R1B5nHnc752t"
   },
   "source": [
    "## PETA"
   ]
  },
  {
   "cell_type": "markdown",
   "metadata": {
    "colab_type": "text",
    "id": "5lmS1ieH770n"
   },
   "source": [
    "### (**Sampler88**): Random 8 attribute, mỗi attribute random 8 mẫu dương, 8 mẫu âm.\n",
    "Mỗi episode random theo phân phối đều ra 8 attribute, trong mỗi attribute random ra 8 mẫu dương và 8 mẫu âm."
   ]
  },
  {
   "cell_type": "code",
   "execution_count": null,
   "metadata": {
    "colab": {
     "base_uri": "https://localhost:8080/",
     "height": 34
    },
    "colab_type": "code",
    "id": "OQ6CB93kxNBD",
    "outputId": "9f05d0e6-6d7c-4bd3-e73e-83f3b3d7a4a0"
   },
   "outputs": [
    {
     "name": "stdout",
     "output_type": "stream",
     "text": [
      "Overwriting /content/config.yml\n"
     ]
    }
   ],
   "source": [
    "%%writefile /content/config.yml\n",
    "base: config/base_episode.yml\n",
    "\n",
    "model:\n",
    "  backbone: resnet50\n",
    "  pooling: gem_pooling\n",
    "  head: BNHead\n",
    "  bn_where: after\n",
    "  use_tqdm: True\n",
    "\n",
    "data:\n",
    "  name: peta\n",
    "  image_size: [256, 192]\n",
    "  train:\n",
    "    num_attribute: 8\n",
    "    num_positive: 8\n",
    "    num_negative: 8\n",
    "    num_iterator: 700\n",
    "  val:\n",
    "    num_attribute: 8\n",
    "    num_positive: 8\n",
    "    num_negative: 8\n",
    "    num_iterator: 100\n",
    "  use_tqdm: True\n",
    "\n",
    "optimizer:\n",
    "  name: sgd\n",
    "  lr: 0.01\n",
    "  specified_lr:\n",
    "    enable: True\n",
    "    lr: 0.1\n",
    "    layers: [head]\n",
    "\n",
    "loss:\n",
    "  name: Singular_BCE\n",
    "  reduction: mean\n",
    "\n",
    "freeze:\n",
    "  enable: True\n",
    "  layers: [backbone]\n",
    "  epochs: 10\n",
    "\n",
    "lr_scheduler:\n",
    "  enable: True\n",
    "  name: CosineAnnealingLR\n",
    "  max_iters: 120\n",
    "  eta_min_lr: 0\n",
    "\n",
    "clip_grad_norm_:\n",
    "  enable: True\n",
    "  max_norm: 10.0\n",
    "\n",
    "trainer:\n",
    "  n_gpu: 1\n",
    "  epochs: 200\n",
    "    \n",
    "trainer_colab:\n",
    "  epochs: 200"
   ]
  },
  {
   "cell_type": "code",
   "execution_count": null,
   "metadata": {
    "colab": {
     "base_uri": "https://localhost:8080/",
     "height": 857
    },
    "colab_type": "code",
    "id": "cSqTHOLExZhs",
    "outputId": "46af245d-3b4e-470e-ad41-d48a55815d10"
   },
   "outputs": [
    {
     "name": "stdout",
     "output_type": "stream",
     "text": [
      "2020-09-09 08:59:40.868214: I tensorflow/stream_executor/platform/default/dso_loader.cc:48] Successfully opened dynamic library libcudart.so.10.1\n",
      "Copying data...\n",
      "Copied!\n",
      "Loading checkpoint: /content/drive/My Drive/HIEN/Models/person_attribute_recognition/checkpoints/0828_112607/model_last.pth ...\n",
      "100% 60/60 [00:42<00:00,  1.41it/s]\n",
      "instance-based metrics:\n",
      "accuracy: 0.7921\n",
      "precision: 0.8529\n",
      "recall: 0.8805\n",
      "f1_score: 0.8638\n",
      "class-based metrics:\n",
      "           attribute    weight  accuracy        mA precision    recall  f1_score\n",
      "                   -         -         -         -         -         -         -\n",
      "        accessoryHat      9.54     97.91      94.4     88.24     90.07     89.15\n",
      "    accessoryMuffler      8.32     99.18     96.39     97.03     93.04     94.99\n",
      "    accessoryNothing     75.55     92.66     87.91     93.36      97.2     95.24\n",
      " accessorySunglasses      2.87     96.12     77.97     38.44     58.72     46.46\n",
      "            hairLong     23.74     94.01     92.49     85.82     89.58     87.66\n",
      "     upperBodyCasual     85.46     94.38     87.33     96.19     97.27     96.73\n",
      "     upperBodyFormal     13.25     95.03     88.64     82.06     79.94     80.99\n",
      "     upperBodyJacket      7.03     94.55     82.79     59.71      69.1     64.06\n",
      "       upperBodyLogo      3.89     95.64     76.66     45.23     56.08     50.08\n",
      "      upperBodyPlaid      2.67     97.87     90.04     57.04     81.77     67.21\n",
      "upperBodyShortSleeve     14.34     94.61     91.54     77.82     87.25     82.27\n",
      "upperBodyThinStripes      1.66     98.04     80.28     43.58      61.9     51.15\n",
      "     upperBodyTshirt      8.42     94.14     86.37     62.33     77.03      68.9\n",
      "      upperBodyOther     45.47     87.62     87.32     88.19     84.03     86.06\n",
      "      upperBodyVNeck      1.05     98.59     77.03     38.26      55.0     45.13\n",
      "     lowerBodyCasual     86.13     94.78     87.22     96.31     97.68     96.99\n",
      "     lowerBodyFormal     13.72     94.96     87.65     84.45     77.56     80.86\n",
      "      lowerBodyJeans     30.46     89.67      88.3     81.93     84.79     83.34\n",
      "     lowerBodyShorts      3.43     97.04     85.16     55.26     72.41     62.69\n",
      " lowerBodyShortSkirt      4.62     96.57     89.39     59.34     81.48     68.67\n",
      "   lowerBodyTrousers     51.96     87.24     87.17     86.95     88.76     87.84\n",
      "footwearLeatherShoes     29.14     91.28     89.25      85.5     84.38     84.94\n",
      "     footwearSandals      1.89     96.99     79.05     33.59     60.42     43.18\n",
      "       footwearShoes      36.5      82.7     81.83     75.13     78.62     76.84\n",
      "     footwearSneaker     22.04     87.43     84.73      68.4     79.88      73.7\n",
      "    carryingBackpack      19.7     90.32      88.9     70.78     86.57     77.88\n",
      "       carryingOther     20.14     86.66     79.29     66.86     66.95     66.91\n",
      "carryingMessengerBag     29.93     87.97     85.63     79.99     79.78     79.89\n",
      "     carryingNothing     27.51      88.3     86.61     76.57     82.83     79.58\n",
      " carryingPlasticBags       7.7     97.09     88.63     82.73     78.63     80.63\n",
      "      personalLess30     50.41     88.45     88.42     86.47     91.39     88.86\n",
      "      personalLess45     32.12     86.88     85.43     78.56     81.36     79.94\n",
      "      personalLess60     10.25     96.05      87.0     84.26     75.61      79.7\n",
      "    personalLarger60      6.07      99.0     96.32     90.53     93.28     91.88\n",
      "        personalMale     54.57     93.51     93.29     92.61     95.76     94.16\n",
      "                   -         -         -         -         -         -         -\n",
      "                mean         -     93.24     86.76     73.99     80.46      76.7\n"
     ]
    }
   ],
   "source": [
    "!python3 test.py --config /content/config.yml --resume  \"/content/drive/My Drive/HIEN/Models/person_attribute_recognition/checkpoints/0828_112607/model_last.pth\""
   ]
  },
  {
   "cell_type": "markdown",
   "metadata": {
    "colab_type": "text",
    "id": "Ff8PoY2o3hRL"
   },
   "source": [
    "### Thay đổi cách chọn số mẫu dương và số mẫu âm"
   ]
  },
  {
   "cell_type": "markdown",
   "metadata": {
    "colab_type": "text",
    "id": "U44V8aMSligY"
   },
   "source": [
    "#### (**Sampler610**) Lấy ngẫu nhiên 6 mẫu dương và 10 mẫu âm\n",
    "Mỗi episode random theo phân phối đều ra 8 attribute, trong mỗi attribute random ra 6 mẫu dương và 10 mẫu âm."
   ]
  },
  {
   "cell_type": "markdown",
   "metadata": {
    "colab_type": "text",
    "id": "3RyscmIA8Rvl"
   },
   "source": [
    "##### Kết quả"
   ]
  },
  {
   "cell_type": "code",
   "execution_count": null,
   "metadata": {
    "colab": {
     "base_uri": "https://localhost:8080/",
     "height": 34
    },
    "colab_type": "code",
    "id": "LAIQShyKllxi",
    "outputId": "9288541c-40e2-433c-a22e-23bb28c2bc73"
   },
   "outputs": [
    {
     "name": "stdout",
     "output_type": "stream",
     "text": [
      "Overwriting /content/config.yml\n"
     ]
    }
   ],
   "source": [
    "%%writefile /content/config.yml\n",
    "base: config/base_episode.yml\n",
    "\n",
    "model:\n",
    "  backbone: resnet50\n",
    "  pooling: gem_pooling\n",
    "  head: BNHead\n",
    "  bn_where: after\n",
    "  use_tqdm: True\n",
    "\n",
    "data:\n",
    "  name: peta\n",
    "  image_size: [256, 192]\n",
    "  train:\n",
    "    num_attribute: 8\n",
    "    num_positive: 6\n",
    "    num_negative: 10\n",
    "    num_iterator: 700\n",
    "  val:\n",
    "    num_attribute: 8\n",
    "    num_positive: 6\n",
    "    num_negative: 10\n",
    "    num_iterator: 100\n",
    "  use_tqdm: True\n",
    "\n",
    "optimizer:\n",
    "  name: sgd\n",
    "  lr: 0.01\n",
    "  specified_lr:\n",
    "    enable: True\n",
    "    lr: 0.1\n",
    "    layers: [head]\n",
    "\n",
    "loss:\n",
    "  name: Singular_BCE\n",
    "  reduction: mean\n",
    "\n",
    "freeze:\n",
    "  enable: True\n",
    "  layers: [backbone]\n",
    "  epochs: 10\n",
    "\n",
    "lr_scheduler:\n",
    "  enable: True\n",
    "  name: ReduceLROnPlateau\n",
    "  factor: 0.1\n",
    "  patience: 10\n",
    "  min_lr: 0\n",
    "\n",
    "clip_grad_norm_:\n",
    "  enable: True\n",
    "  max_norm: 10.0\n",
    "\n",
    "trainer:\n",
    "  n_gpu: 1\n",
    "  epochs: 200\n",
    "    \n",
    "trainer_colab:\n",
    "  epochs: 200"
   ]
  },
  {
   "cell_type": "code",
   "execution_count": null,
   "metadata": {
    "colab": {
     "base_uri": "https://localhost:8080/",
     "height": 857
    },
    "colab_type": "code",
    "id": "yq7YFFrBllxm",
    "outputId": "02e2e271-4e73-4056-8f59-46b8c57de373"
   },
   "outputs": [
    {
     "name": "stdout",
     "output_type": "stream",
     "text": [
      "2020-09-09 09:00:40.294554: I tensorflow/stream_executor/platform/default/dso_loader.cc:48] Successfully opened dynamic library libcudart.so.10.1\n",
      "Copying data...\n",
      "Copied!\n",
      "Loading checkpoint: /content/drive/My Drive/HIEN/Models/person_attribute_recognition/checkpoints/0811_130848/model_best_accuracy.pth ...\n",
      "100% 60/60 [00:42<00:00,  1.41it/s]\n",
      "instance-based metrics:\n",
      "accuracy: 0.7787\n",
      "precision: 0.8562\n",
      "recall: 0.8566\n",
      "f1_score: 0.8533\n",
      "class-based metrics:\n",
      "           attribute    weight  accuracy        mA precision    recall  f1_score\n",
      "                   -         -         -         -         -         -         -\n",
      "        accessoryHat      9.54     97.91     94.77     87.63      90.9     89.23\n",
      "    accessoryMuffler      8.32     99.01      96.8      94.0     94.15     94.07\n",
      "    accessoryNothing     75.55     90.55     88.31     94.68      92.7     93.68\n",
      " accessorySunglasses      2.87      97.0      78.2     48.11     58.26      52.7\n",
      "            hairLong     23.74     93.74      92.0     85.47     88.69     87.05\n",
      "     upperBodyCasual     85.46     92.53     88.76     97.09     94.07     95.56\n",
      "     upperBodyFormal     13.25     95.29     88.91     83.56     80.24     81.86\n",
      "     upperBodyJacket      7.03     93.84     83.19     54.78     70.79     61.76\n",
      "       upperBodyLogo      3.89      95.8     80.96     47.17     64.86     54.62\n",
      "      upperBodyPlaid      2.67     97.68      92.1     54.18     86.21     66.54\n",
      "upperBodyShortSleeve     14.34     94.11     91.44     75.28     87.71     81.02\n",
      "upperBodyThinStripes      1.66     97.87     82.92     41.26     67.46      51.2\n",
      "     upperBodyTshirt      8.42     93.37     88.01     57.49     81.56     67.44\n",
      "      upperBodyOther     45.47     87.88     87.28     91.76     80.58     85.81\n",
      "      upperBodyVNeck      1.05     98.41     81.88     35.86      65.0     46.22\n",
      "     lowerBodyCasual     86.13     92.59     88.85     97.28     94.03     95.63\n",
      "     lowerBodyFormal     13.72     94.95     88.44     82.98     79.48     81.19\n",
      "      lowerBodyJeans     30.46     89.67     87.55     83.67     82.12     82.89\n",
      "     lowerBodyShorts      3.43     96.78      87.8     52.04     78.16     62.48\n",
      " lowerBodyShortSkirt      4.62     96.55     89.11     59.29     80.91     68.43\n",
      "   lowerBodyTrousers     51.96     86.62      86.7     89.16     84.53     86.78\n",
      "footwearLeatherShoes     29.14     91.68     89.77     86.13     85.19     85.66\n",
      "     footwearSandals      1.89     96.78     80.99      32.4     64.58     43.16\n",
      "       footwearShoes      36.5     82.87     81.28     77.14     75.41     76.27\n",
      "     footwearSneaker     22.04     87.92     83.56     71.25     75.76     73.44\n",
      "    carryingBackpack      19.7     90.68     89.16     71.86     86.64     78.56\n",
      "       carryingOther     20.14     87.17     79.83     68.39     67.54     67.96\n",
      "carryingMessengerBag     29.93     88.28     85.34     81.95     78.02     79.94\n",
      "     carryingNothing     27.51     88.33     85.88     77.87     80.44     79.13\n",
      " carryingPlasticBags       7.7      97.0     89.52     80.41     80.68     80.55\n",
      "      personalLess30     50.41     87.66     87.67     88.96     86.22     87.57\n",
      "      personalLess45     32.12     86.41     84.47     78.71     79.07     78.89\n",
      "      personalLess60     10.25     95.84     88.36     80.18     78.95     79.56\n",
      "    personalLarger60      6.07     99.21     96.94     92.75     94.36     93.55\n",
      "        personalMale     54.57     93.14     93.27     95.42     91.85      93.6\n",
      "                   -         -         -         -         -         -         -\n",
      "                mean         -      93.0     87.43     74.18     80.77     76.69\n"
     ]
    }
   ],
   "source": [
    "!python3 test.py --config /content/config.yml --resume \"/content/drive/My Drive/HIEN/Models/person_attribute_recognition/checkpoints/0811_130848/model_best_accuracy.pth\""
   ]
  },
  {
   "cell_type": "markdown",
   "metadata": {
    "colab_type": "text",
    "id": "QvYLURhLosVl"
   },
   "source": [
    "##### So sánh với sampler88\n",
    "So sánh với cách lấy mẫu sampler88"
   ]
  },
  {
   "cell_type": "code",
   "execution_count": null,
   "metadata": {
    "colab": {
     "base_uri": "https://localhost:8080/",
     "height": 34
    },
    "colab_type": "code",
    "id": "FqTgJLwuoeaO",
    "outputId": "c25a6e69-07c9-41bb-d5f8-41c6f35a3ae0"
   },
   "outputs": [
    {
     "name": "stdout",
     "output_type": "stream",
     "text": [
      "Overwriting /content/config1.yml\n"
     ]
    }
   ],
   "source": [
    "%%writefile /content/config1.yml\n",
    "base: config/base_episode.yml\n",
    "\n",
    "model:\n",
    "  backbone: resnet50\n",
    "  pooling: gem_pooling\n",
    "  head: BNHead\n",
    "  bn_where: after\n",
    "  use_tqdm: True\n",
    "\n",
    "data:\n",
    "  name: peta\n",
    "  image_size: [256, 192]\n",
    "  train:\n",
    "    num_attribute: 8\n",
    "    num_positive: 8\n",
    "    num_negative: 8\n",
    "    num_iterator: 700\n",
    "  val:\n",
    "    num_attribute: 8\n",
    "    num_positive: 8\n",
    "    num_negative: 8\n",
    "    num_iterator: 100\n",
    "  use_tqdm: True\n",
    "\n",
    "optimizer:\n",
    "  name: sgd\n",
    "  lr: 0.01\n",
    "  specified_lr:\n",
    "    enable: True\n",
    "    lr: 0.1\n",
    "    layers: [head]\n",
    "\n",
    "loss:\n",
    "  name: Singular_BCE\n",
    "  reduction: mean\n",
    "\n",
    "freeze:\n",
    "  enable: True\n",
    "  layers: [backbone]\n",
    "  epochs: 10\n",
    "\n",
    "lr_scheduler:\n",
    "  enable: True\n",
    "  name: CosineAnnealingLR\n",
    "  max_iters: 120\n",
    "  eta_min_lr: 0\n",
    "\n",
    "clip_grad_norm_:\n",
    "  enable: True\n",
    "  max_norm: 10.0\n",
    "\n",
    "trainer:\n",
    "  n_gpu: 1\n",
    "  epochs: 200\n",
    "    \n",
    "trainer_colab:\n",
    "  epochs: 200"
   ]
  },
  {
   "cell_type": "code",
   "execution_count": null,
   "metadata": {
    "colab": {
     "base_uri": "https://localhost:8080/",
     "height": 34
    },
    "colab_type": "code",
    "id": "ygT-CjtHoeaR",
    "outputId": "c0383a38-5036-4f8c-fd4a-bc025d22cae1"
   },
   "outputs": [
    {
     "name": "stdout",
     "output_type": "stream",
     "text": [
      "Overwriting /content/config2.yml\n"
     ]
    }
   ],
   "source": [
    "%%writefile /content/config2.yml\n",
    "base: config/base_episode.yml\n",
    "\n",
    "model:\n",
    "  backbone: resnet50\n",
    "  pooling: gem_pooling\n",
    "  head: BNHead\n",
    "  bn_where: after\n",
    "  use_tqdm: True\n",
    "\n",
    "data:\n",
    "  name: peta\n",
    "  image_size: [256, 192]\n",
    "  train:\n",
    "    num_attribute: 8\n",
    "    num_positive: 6\n",
    "    num_negative: 10\n",
    "    num_iterator: 700\n",
    "  val:\n",
    "    num_attribute: 8\n",
    "    num_positive: 6\n",
    "    num_negative: 10\n",
    "    num_iterator: 100\n",
    "  use_tqdm: True\n",
    "\n",
    "optimizer:\n",
    "  name: sgd\n",
    "  lr: 0.01\n",
    "  specified_lr:\n",
    "    enable: True\n",
    "    lr: 0.1\n",
    "    layers: [head]\n",
    "\n",
    "loss:\n",
    "  name: Singular_BCE\n",
    "  reduction: mean\n",
    "\n",
    "freeze:\n",
    "  enable: True\n",
    "  layers: [backbone]\n",
    "  epochs: 10\n",
    "\n",
    "lr_scheduler:\n",
    "  enable: True\n",
    "  name: ReduceLROnPlateau\n",
    "  factor: 0.1\n",
    "  patience: 10\n",
    "  min_lr: 0\n",
    "\n",
    "clip_grad_norm_:\n",
    "  enable: True\n",
    "  max_norm: 10.0\n",
    "\n",
    "trainer:\n",
    "  n_gpu: 1\n",
    "  epochs: 200\n",
    "    \n",
    "trainer_colab:\n",
    "  epochs: 200"
   ]
  },
  {
   "cell_type": "code",
   "execution_count": null,
   "metadata": {
    "colab": {
     "base_uri": "https://localhost:8080/",
     "height": 921,
     "referenced_widgets": [
      "dd88f09dcf6a4f90b3b2b5d8b134bda5",
      "95d33d2b4a694d4f83fbc36d3cd6e2aa",
      "a87a91d1284d4334a91841b373be772b",
      "10eb7f78c0db4fda8858c34becf93cae",
      "31b74a03519d4e40b6a35d37696087b9",
      "eb1b4cdb876f48faa56626cc8e81a82b",
      "90908064154143ee94ce593d77c6b8a9",
      "bd953837c09143bebb29c435961035e2",
      "5a77e818fa224241bab074fe826ddb93",
      "d5c125d525c248ba900980908a87c5cb",
      "7ce95b13e7744dbc9a11e6bb668ee4bb",
      "60eb29aa55e64f3993d50a95167506c9",
      "bd614a0740cb439dbefdaa1f0c92d9e9",
      "345346a8fa05432f8bd7df9dafbfc2d5",
      "cec4371e88ce494e8e4b53ce5732603d",
      "6e2264a8bf704c5d818459ae3d436f82"
     ]
    },
    "colab_type": "code",
    "id": "Y-YRE80xoeaT",
    "outputId": "5cd601d8-0bf9-4a28-b4b7-474a50fbbad0"
   },
   "outputs": [
    {
     "name": "stdout",
     "output_type": "stream",
     "text": [
      "Copying data...\n",
      "Copied!\n",
      "Copying data...\n",
      "Copied!\n",
      "Loading checkpoint: /content/drive/My Drive/HIEN/Models/person_attribute_recognition/checkpoints/0828_112607/model_last.pth ...\n"
     ]
    },
    {
     "data": {
      "application/vnd.jupyter.widget-view+json": {
       "model_id": "dd88f09dcf6a4f90b3b2b5d8b134bda5",
       "version_major": 2,
       "version_minor": 0
      },
      "text/plain": [
       "HBox(children=(FloatProgress(value=0.0, max=60.0), HTML(value='')))"
      ]
     },
     "metadata": {
      "tags": []
     },
     "output_type": "display_data"
    },
    {
     "name": "stdout",
     "output_type": "stream",
     "text": [
      "\n",
      "Loading checkpoint: /content/drive/My Drive/HIEN/Models/person_attribute_recognition/checkpoints/0811_130848/model_best_accuracy.pth ...\n"
     ]
    },
    {
     "data": {
      "application/vnd.jupyter.widget-view+json": {
       "model_id": "5a77e818fa224241bab074fe826ddb93",
       "version_major": 2,
       "version_minor": 0
      },
      "text/plain": [
       "HBox(children=(FloatProgress(value=0.0, max=60.0), HTML(value='')))"
      ]
     },
     "metadata": {
      "tags": []
     },
     "output_type": "display_data"
    },
    {
     "name": "stdout",
     "output_type": "stream",
     "text": [
      "\n",
      "\n",
      "           attribute      weight       accuracy          mA           precision        recall          f1_score\n",
      "                   -           -              -           -                   -             -                 -\n",
      "        accessoryHat        9.54\u001b[94m     97.91\u001b[0m|\u001b[94m97.91\u001b[0m      94.4|\u001b[94m94.77\u001b[0m\u001b[94m     88.24\u001b[0m|87.63     90.07|\u001b[94m 90.9\u001b[0m     89.15|\u001b[94m89.23\u001b[0m\n",
      "    accessoryMuffler        8.32\u001b[94m     99.18\u001b[0m|99.01     96.39|\u001b[94m 96.8\u001b[0m\u001b[94m     97.03\u001b[0m| 94.0     93.04|\u001b[94m94.15\u001b[0m\u001b[94m     94.99\u001b[0m|94.07\n",
      "    accessoryNothing       75.55\u001b[94m     92.66\u001b[0m|90.55     87.91|\u001b[94m88.31\u001b[0m     93.36|\u001b[94m94.68\u001b[0m\u001b[94m      97.2\u001b[0m| 92.7\u001b[94m     95.24\u001b[0m|93.68\n",
      " accessorySunglasses        2.87     96.12|\u001b[94m 97.0\u001b[0m     77.97|\u001b[94m 78.2\u001b[0m     38.44|\u001b[94m48.11\u001b[0m\u001b[94m     58.72\u001b[0m|58.26     46.46|\u001b[94m 52.7\u001b[0m\n",
      "            hairLong       23.74\u001b[94m     94.01\u001b[0m|93.74\u001b[94m     92.49\u001b[0m| 92.0\u001b[94m     85.82\u001b[0m|85.47\u001b[94m     89.58\u001b[0m|88.69\u001b[94m     87.66\u001b[0m|87.05\n",
      "     upperBodyCasual       85.46\u001b[94m     94.38\u001b[0m|92.53     87.33|\u001b[94m88.76\u001b[0m     96.19|\u001b[94m97.09\u001b[0m\u001b[94m     97.27\u001b[0m|94.07\u001b[94m     96.73\u001b[0m|95.56\n",
      "     upperBodyFormal       13.25     95.03|\u001b[94m95.29\u001b[0m     88.64|\u001b[94m88.91\u001b[0m     82.06|\u001b[94m83.56\u001b[0m     79.94|\u001b[94m80.24\u001b[0m     80.99|\u001b[94m81.86\u001b[0m\n",
      "     upperBodyJacket        7.03\u001b[94m     94.55\u001b[0m|93.84     82.79|\u001b[94m83.19\u001b[0m\u001b[94m     59.71\u001b[0m|54.78      69.1|\u001b[94m70.79\u001b[0m\u001b[94m     64.06\u001b[0m|61.76\n",
      "       upperBodyLogo        3.89     95.64|\u001b[94m 95.8\u001b[0m     76.66|\u001b[94m80.96\u001b[0m     45.23|\u001b[94m47.17\u001b[0m     56.08|\u001b[94m64.86\u001b[0m     50.08|\u001b[94m54.62\u001b[0m\n",
      "      upperBodyPlaid        2.67\u001b[94m     97.87\u001b[0m|97.68     90.04|\u001b[94m 92.1\u001b[0m\u001b[94m     57.04\u001b[0m|54.18     81.77|\u001b[94m86.21\u001b[0m\u001b[94m     67.21\u001b[0m|66.54\n",
      "upperBodyShortSleeve       14.34\u001b[94m     94.61\u001b[0m|94.11\u001b[94m     91.54\u001b[0m|91.44\u001b[94m     77.82\u001b[0m|75.28     87.25|\u001b[94m87.71\u001b[0m\u001b[94m     82.27\u001b[0m|81.02\n",
      "upperBodyThinStripes        1.66\u001b[94m     98.04\u001b[0m|97.87     80.28|\u001b[94m82.92\u001b[0m\u001b[94m     43.58\u001b[0m|41.26      61.9|\u001b[94m67.46\u001b[0m     51.15|\u001b[94m 51.2\u001b[0m\n",
      "     upperBodyTshirt        8.42\u001b[94m     94.14\u001b[0m|93.37     86.37|\u001b[94m88.01\u001b[0m\u001b[94m     62.33\u001b[0m|57.49     77.03|\u001b[94m81.56\u001b[0m\u001b[94m      68.9\u001b[0m|67.44\n",
      "      upperBodyOther       45.47     87.62|\u001b[94m87.88\u001b[0m\u001b[94m     87.32\u001b[0m|87.28     88.19|\u001b[94m91.76\u001b[0m\u001b[94m     84.03\u001b[0m|80.58\u001b[94m     86.06\u001b[0m|85.81\n",
      "      upperBodyVNeck        1.05\u001b[94m     98.59\u001b[0m|98.41     77.03|\u001b[94m81.88\u001b[0m\u001b[94m     38.26\u001b[0m|35.86      55.0|\u001b[94m 65.0\u001b[0m     45.13|\u001b[94m46.22\u001b[0m\n",
      "     lowerBodyCasual       86.13\u001b[94m     94.78\u001b[0m|92.59     87.22|\u001b[94m88.85\u001b[0m     96.31|\u001b[94m97.28\u001b[0m\u001b[94m     97.68\u001b[0m|94.03\u001b[94m     96.99\u001b[0m|95.63\n",
      "     lowerBodyFormal       13.72\u001b[94m     94.96\u001b[0m|94.95     87.65|\u001b[94m88.44\u001b[0m\u001b[94m     84.45\u001b[0m|82.98     77.56|\u001b[94m79.48\u001b[0m     80.86|\u001b[94m81.19\u001b[0m\n",
      "      lowerBodyJeans       30.46\u001b[94m     89.67\u001b[0m|\u001b[94m89.67\u001b[0m\u001b[94m      88.3\u001b[0m|87.55     81.93|\u001b[94m83.67\u001b[0m\u001b[94m     84.79\u001b[0m|82.12\u001b[94m     83.34\u001b[0m|82.89\n",
      "     lowerBodyShorts        3.43\u001b[94m     97.04\u001b[0m|96.78     85.16|\u001b[94m 87.8\u001b[0m\u001b[94m     55.26\u001b[0m|52.04     72.41|\u001b[94m78.16\u001b[0m\u001b[94m     62.69\u001b[0m|62.48\n",
      " lowerBodyShortSkirt        4.62\u001b[94m     96.57\u001b[0m|96.55\u001b[94m     89.39\u001b[0m|89.11\u001b[94m     59.34\u001b[0m|59.29\u001b[94m     81.48\u001b[0m|80.91\u001b[94m     68.67\u001b[0m|68.43\n",
      "   lowerBodyTrousers       51.96\u001b[94m     87.24\u001b[0m|86.62\u001b[94m     87.17\u001b[0m| 86.7     86.95|\u001b[94m89.16\u001b[0m\u001b[94m     88.76\u001b[0m|84.53\u001b[94m     87.84\u001b[0m|86.78\n",
      "footwearLeatherShoes       29.14     91.28|\u001b[94m91.68\u001b[0m     89.25|\u001b[94m89.77\u001b[0m      85.5|\u001b[94m86.13\u001b[0m     84.38|\u001b[94m85.19\u001b[0m     84.94|\u001b[94m85.66\u001b[0m\n",
      "     footwearSandals        1.89\u001b[94m     96.99\u001b[0m|96.78     79.05|\u001b[94m80.99\u001b[0m\u001b[94m     33.59\u001b[0m| 32.4     60.42|\u001b[94m64.58\u001b[0m\u001b[94m     43.18\u001b[0m|43.16\n",
      "       footwearShoes        36.5      82.7|\u001b[94m82.87\u001b[0m\u001b[94m     81.83\u001b[0m|81.28     75.13|\u001b[94m77.14\u001b[0m\u001b[94m     78.62\u001b[0m|75.41\u001b[94m     76.84\u001b[0m|76.27\n",
      "     footwearSneaker       22.04     87.43|\u001b[94m87.92\u001b[0m\u001b[94m     84.73\u001b[0m|83.56      68.4|\u001b[94m71.25\u001b[0m\u001b[94m     79.88\u001b[0m|75.76\u001b[94m      73.7\u001b[0m|73.44\n",
      "    carryingBackpack        19.7     90.32|\u001b[94m90.68\u001b[0m      88.9|\u001b[94m89.16\u001b[0m     70.78|\u001b[94m71.86\u001b[0m     86.57|\u001b[94m86.64\u001b[0m     77.88|\u001b[94m78.56\u001b[0m\n",
      "       carryingOther       20.14     86.66|\u001b[94m87.17\u001b[0m     79.29|\u001b[94m79.83\u001b[0m     66.86|\u001b[94m68.39\u001b[0m     66.95|\u001b[94m67.54\u001b[0m     66.91|\u001b[94m67.96\u001b[0m\n",
      "carryingMessengerBag       29.93     87.97|\u001b[94m88.28\u001b[0m\u001b[94m     85.63\u001b[0m|85.34     79.99|\u001b[94m81.95\u001b[0m\u001b[94m     79.78\u001b[0m|78.02     79.89|\u001b[94m79.94\u001b[0m\n",
      "     carryingNothing       27.51      88.3|\u001b[94m88.33\u001b[0m\u001b[94m     86.61\u001b[0m|85.88     76.57|\u001b[94m77.87\u001b[0m\u001b[94m     82.83\u001b[0m|80.44\u001b[94m     79.58\u001b[0m|79.13\n",
      " carryingPlasticBags         7.7\u001b[94m     97.09\u001b[0m| 97.0     88.63|\u001b[94m89.52\u001b[0m\u001b[94m     82.73\u001b[0m|80.41     78.63|\u001b[94m80.68\u001b[0m\u001b[94m     80.63\u001b[0m|80.55\n",
      "      personalLess30       50.41\u001b[94m     88.45\u001b[0m|87.66\u001b[94m     88.42\u001b[0m|87.67     86.47|\u001b[94m88.96\u001b[0m\u001b[94m     91.39\u001b[0m|86.22\u001b[94m     88.86\u001b[0m|87.57\n",
      "      personalLess45       32.12\u001b[94m     86.88\u001b[0m|86.41\u001b[94m     85.43\u001b[0m|84.47     78.56|\u001b[94m78.71\u001b[0m\u001b[94m     81.36\u001b[0m|79.07\u001b[94m     79.94\u001b[0m|78.89\n",
      "      personalLess60       10.25\u001b[94m     96.05\u001b[0m|95.84      87.0|\u001b[94m88.36\u001b[0m\u001b[94m     84.26\u001b[0m|80.18     75.61|\u001b[94m78.95\u001b[0m\u001b[94m      79.7\u001b[0m|79.56\n",
      "    personalLarger60        6.07      99.0|\u001b[94m99.21\u001b[0m     96.32|\u001b[94m96.94\u001b[0m     90.53|\u001b[94m92.75\u001b[0m     93.28|\u001b[94m94.36\u001b[0m     91.88|\u001b[94m93.55\u001b[0m\n",
      "        personalMale       54.57\u001b[94m     93.51\u001b[0m|93.14\u001b[94m     93.29\u001b[0m|93.27     92.61|\u001b[94m95.42\u001b[0m\u001b[94m     95.76\u001b[0m|91.85\u001b[94m     94.16\u001b[0m| 93.6\n",
      "                   -           -         -|    -         -|    -         -|    -         -|    -         -|    -\n",
      "                mean           -\u001b[94m     93.24\u001b[0m| 93.0     86.76|\u001b[94m87.43\u001b[0m     73.99|\u001b[94m74.18\u001b[0m     80.46|\u001b[94m80.77\u001b[0m\u001b[94m      76.7\u001b[0m|76.69\n",
      "\n",
      "trái: 8 attribute, 8 positive, 8 negative; phải: 8 attribute, 6 positive, 10 negative\n"
     ]
    }
   ],
   "source": [
    "import argparse\n",
    "import os\n",
    "import logging\n",
    "import torch\n",
    "import numpy as np\n",
    "\n",
    "from tqdm import tqdm\n",
    "from easydict import EasyDict\n",
    "\n",
    "from models import build_model\n",
    "from data import build_datamanager\n",
    "from logger import setup_logging\n",
    "from utils import read_config, rmdir, summary, array_interweave, COLOR\n",
    "from evaluators import recognition_metrics\n",
    "from evaluators.recognition_metrics import log_test, compare_class_based, test\n",
    "\n",
    "config1 = \"config1.yml\"\n",
    "config2 = \"config2.yml\"\n",
    "\n",
    "resume1 = \"/content/drive/My Drive/HIEN/Models/person_attribute_recognition/checkpoints/0828_112607/model_last.pth\"\n",
    "resume2 = \"/content/drive/My Drive/HIEN/Models/person_attribute_recognition/checkpoints/0811_130848/model_best_accuracy.pth\"\n",
    "\n",
    "config1 = read_config(config1)\n",
    "config1.update({'resume': resume1})\n",
    "config1.update({'colab': True})\n",
    "\n",
    "config2 = read_config(config2)\n",
    "config2.update({'resume': resume2})\n",
    "config2.update({'colab': True})\n",
    "\n",
    "datamanager1, _ = build_datamanager(config1['type'], config1['data'])\n",
    "datamanager2, _ = build_datamanager(config2['type'], config2['data'])\n",
    "\n",
    "# model1\n",
    "result_label1, result_instance1 = test(config1, datamanager1, print)\n",
    "\n",
    "# model 2\n",
    "result_label2, result_instance2 = test(config2, datamanager2, print)\n",
    "print()\n",
    "compare_class_based(print, datamanager1.datasource.get_attribute(), datamanager1.datasource.get_weight('test'), result_label1, result_label2, COLOR.BLUE)\n",
    "print()\n",
    "print('trái: 8 attribute, 8 positive, 8 negative; phải: 8 attribute, 6 positive, 10 negative')"
   ]
  },
  {
   "cell_type": "markdown",
   "metadata": {
    "colab_type": "text",
    "id": "SpHu8e8bs3Se"
   },
   "source": [
    "#### random số mẫu dương, số mẫu âm theo trọng số của dataset **(nghịch)**\n",
    "Random ra 8 attribute theo phân phối đều. Mỗi attribute sẽ chọn ngẫu nhiên ra số mẫu dương và số mẫu âm dựa theo trọng số của attribute đó trong training dataset, nếu **attribute có trọng số nhỏ** (số mẫu dương xuất hiện trong dataset ít), sẽ **chọn số mẫu dương lớn hơn** và **số mẫu âm nhỏ hơn**. **(nghịch)**"
   ]
  },
  {
   "cell_type": "code",
   "execution_count": 2,
   "metadata": {
    "colab": {},
    "colab_type": "code",
    "id": "fzXo7p3opO5A"
   },
   "outputs": [
    {
     "data": {
      "image/png": "[encoded data removed]",
      "text/plain": [
       "<Figure size 432x288 with 1 Axes>"
      ]
     },
     "metadata": {
      "needs_background": "light"
     },
     "output_type": "display_data"
    }
   ],
   "source": [
    "import numpy as np\n",
    "import matplotlib.pyplot as plt\n",
    "# from google.colab import files\n",
    "\n",
    "import matplotlib\n",
    "from matplotlib import rc\n",
    "import matplotlib.pyplot as plt\n",
    "%matplotlib inline\n",
    "\n",
    "# matplotlib.use(\"pgf\")\n",
    "# matplotlib.rcParams.update({\n",
    "#     \"pgf.texsystem\": \"pdflatex\",\n",
    "#     'font.family': 'serif',\n",
    "#     'font.size': 16,\n",
    "#     'text.usetex': True,\n",
    "#     'pgf.rcfonts': False,\n",
    "# })\n",
    "\n",
    "origin_weight = np.arange(0, 1, 0.01)\n",
    "weight1 = np.exp(1-origin_weight)\n",
    "weight2 = np.exp(origin_weight)\n",
    "\n",
    "num_sampler = 16\n",
    "num_positive = np.rint(num_sampler*weight1/(weight1+weight2))\n",
    "num_negative = num_sampler - num_positive\n",
    "\n",
    "plt.plot(origin_weight, num_positive, label='Positive')\n",
    "plt.plot(origin_weight, num_negative, label='Negative')\n",
    "plt.xlabel('Tỷ lệ mẫu dương')\n",
    "plt.legend()\n",
    "plt.savefig('pos_neg_nghich.pdf')\n",
    "# files.download('pos_neg_nghich.pgf')\n",
    "# plt.show()"
   ]
  },
  {
   "cell_type": "code",
   "execution_count": null,
   "metadata": {
    "colab": {},
    "colab_type": "code",
    "id": "ElcNpvDqzIaq"
   },
   "outputs": [],
   "source": [
    "import numpy as np\n",
    "from data.image import build_datasource\n",
    "\n",
    "datasource = build_datasource('peta', '/datasets', True, True, use_tqdm=True)\n",
    "\n",
    "weight = datasource.get_weight('train')\n",
    "\n",
    "num_sampler = 16\n",
    "\n",
    "weight1 = np.exp(1-weight)\n",
    "weight2 = np.exp(weight)\n",
    "num_positive = (num_sampler*weight1/(weight1+weight2)).astype(int)\n",
    "num_negative = num_sampler - num_positive\n",
    "\n",
    "row_format = '{:>12}' + '{:>4}'*len(weight)\n",
    "print(row_format.format('weight %', *(weight*100).astype(int)))\n",
    "print(row_format.format(*['-']*len(weight),'-'))\n",
    "print(row_format.format('positive', *num_positive))\n",
    "print(row_format.format('negative', *num_negative))"
   ]
  },
  {
   "cell_type": "markdown",
   "metadata": {
    "colab_type": "text",
    "id": "_wxhx2oi8iTl"
   },
   "source": [
    "##### Kết quả"
   ]
  },
  {
   "cell_type": "code",
   "execution_count": null,
   "metadata": {
    "colab": {
     "base_uri": "https://localhost:8080/",
     "height": 34
    },
    "colab_type": "code",
    "id": "-Cpv59OFs-4w",
    "outputId": "0b816879-4baf-45d1-e3ac-ed2f59adaf32"
   },
   "outputs": [
    {
     "name": "stdout",
     "output_type": "stream",
     "text": [
      "Overwriting /content/config.yml\n"
     ]
    }
   ],
   "source": [
    "%%writefile /content/config.yml\n",
    "base: config/base_episode.yml\n",
    "\n",
    "model:\n",
    "  backbone: resnet50\n",
    "  pooling: gem_pooling\n",
    "  head: BNHead\n",
    "  bn_where: after\n",
    "  use_tqdm: True\n",
    "\n",
    "data:\n",
    "  name: peta\n",
    "  image_size: [256, 192]\n",
    "  sampler: RandomBatchSamplerAttributeWeight\n",
    "  train:\n",
    "    num_attribute: 8\n",
    "    num_sampler: 16\n",
    "    num_iterator: 700\n",
    "  val:\n",
    "    num_attribute: 8\n",
    "    num_sampler: 16\n",
    "    num_iterator: 100\n",
    "  use_tqdm: True\n",
    "\n",
    "optimizer:\n",
    "  name: sgd\n",
    "  lr: 0.01\n",
    "  specified_lr:\n",
    "    enable: True\n",
    "    lr: 0.1\n",
    "    layers: [head]\n",
    "\n",
    "loss:\n",
    "  name: Singular_BCE\n",
    "  reduction: mean\n",
    "\n",
    "freeze:\n",
    "  enable: True\n",
    "  layers: [backbone]\n",
    "  epochs: 10\n",
    "\n",
    "lr_scheduler:\n",
    "  enable: True\n",
    "  name: ReduceLROnPlateau\n",
    "  factor: 0.1\n",
    "  patience: 10\n",
    "  min_lr: 0\n",
    "\n",
    "clip_grad_norm_:\n",
    "  enable: True\n",
    "  max_norm: 10.0\n",
    "\n",
    "trainer:\n",
    "  n_gpu: 1\n",
    "  epochs: 120\n",
    "    \n",
    "trainer_colab:\n",
    "  epochs: 120"
   ]
  },
  {
   "cell_type": "code",
   "execution_count": null,
   "metadata": {
    "colab": {
     "base_uri": "https://localhost:8080/",
     "height": 857
    },
    "colab_type": "code",
    "id": "qwDGeXQds-4z",
    "outputId": "59060b84-80be-4639-bccc-73da8739ec6c"
   },
   "outputs": [
    {
     "name": "stdout",
     "output_type": "stream",
     "text": [
      "2020-09-09 09:10:19.116394: I tensorflow/stream_executor/platform/default/dso_loader.cc:48] Successfully opened dynamic library libcudart.so.10.1\n",
      "Copying data...\n",
      "Copied!\n",
      "Loading checkpoint: /content/drive/My Drive/HIEN/Models/person_attribute_recognition/checkpoints/0823_093622/model_best_accuracy.pth ...\n",
      "100% 60/60 [00:42<00:00,  1.41it/s]\n",
      "instance-based metrics:\n",
      "accuracy: 0.7641\n",
      "precision: 0.7991\n",
      "recall: 0.9115\n",
      "f1_score: 0.8455\n",
      "class-based metrics:\n",
      "           attribute    weight  accuracy        mA precision    recall  f1_score\n",
      "                   -         -         -         -         -         -         -\n",
      "        accessoryHat      9.54     97.25     94.41     82.17      90.9     86.31\n",
      "    accessoryMuffler      8.32     98.42     96.55     87.65      94.3     90.85\n",
      "    accessoryNothing     75.55     92.24     86.82     92.68     97.42     94.99\n",
      " accessorySunglasses      2.87      95.2     81.06      33.1     66.06      44.1\n",
      "            hairLong     23.74     91.54     92.64     75.72     94.73     84.17\n",
      "     upperBodyCasual     85.46     94.29     86.63     95.95     97.43     96.68\n",
      "     upperBodyFormal     13.25     93.43     89.57     71.34     84.31     77.29\n",
      "     upperBodyJacket      7.03     90.53     84.17     40.76     76.78     53.25\n",
      "       upperBodyLogo      3.89     92.79     84.58      32.0     75.68     44.98\n",
      "      upperBodyPlaid      2.67      96.0     91.96     38.95     87.68     53.94\n",
      "upperBodyShortSleeve     14.34     92.88     92.71     68.71     92.48     78.84\n",
      "upperBodyThinStripes      1.66     96.14     80.48     24.62     64.29      35.6\n",
      "     upperBodyTshirt      8.42     92.12     89.45     51.93     86.25     64.83\n",
      "      upperBodyOther     45.47     86.03     86.11     83.03     87.07      85.0\n",
      "      upperBodyVNeck      1.05     97.43      78.3     22.49     58.75     32.53\n",
      "     lowerBodyCasual     86.13     94.88     87.16     96.27     97.85     97.05\n",
      "     lowerBodyFormal     13.72     93.93     89.15     75.53     82.55     78.88\n",
      "      lowerBodyJeans     30.46     86.93     87.78     73.26     89.94     80.74\n",
      "     lowerBodyShorts      3.43     96.08     86.33     45.73     75.86     57.06\n",
      " lowerBodyShortSkirt      4.62     94.93     91.24     47.37     87.18     61.38\n",
      "   lowerBodyTrousers     51.96     85.05     84.72     80.97     93.11     86.62\n",
      "footwearLeatherShoes     29.14     89.05      89.5      76.3     90.56     82.82\n",
      "     footwearSandals      1.89      96.2     79.67     27.69      62.5     38.38\n",
      "       footwearShoes      36.5     79.82      80.9     67.86     84.93     75.44\n",
      "     footwearSneaker     22.04     84.11     85.22     59.51     87.22     70.75\n",
      "    carryingBackpack      19.7      89.2     88.84     67.19     88.24     76.29\n",
      "       carryingOther     20.14      80.3     80.07     50.71     79.69     61.98\n",
      "carryingMessengerBag     29.93     84.91     85.15     70.33     85.76     77.28\n",
      "     carryingNothing     27.51     85.11     86.15     67.49     88.47     76.57\n",
      " carryingPlasticBags       7.7     94.91     90.19      62.5     84.62      71.9\n",
      "      personalLess30     50.41      87.2     87.17     84.67      91.1     87.77\n",
      "      personalLess45     32.12     83.87      84.7     70.03     87.01      77.6\n",
      "      personalLess60     10.25      94.5     88.46     70.08     80.87     75.09\n",
      "    personalLarger60      6.07     98.43     96.53     82.39     94.36     87.97\n",
      "        personalMale     54.57     93.29     93.09     92.66     95.25     93.94\n",
      "                   -         -         -         -         -         -         -\n",
      "                mean         -      91.4     87.36     64.85     85.18     72.54\n"
     ]
    }
   ],
   "source": [
    "!python3 test.py --config /content/config.yml --resume \"/content/drive/My Drive/HIEN/Models/person_attribute_recognition/checkpoints/0823_093622/model_best_accuracy.pth\""
   ]
  },
  {
   "cell_type": "markdown",
   "metadata": {
    "colab_type": "text",
    "id": "_czrDXs6yc3Y"
   },
   "source": [
    "##### So sánh với sampler 88"
   ]
  },
  {
   "cell_type": "code",
   "execution_count": null,
   "metadata": {
    "colab": {
     "base_uri": "https://localhost:8080/",
     "height": 34
    },
    "colab_type": "code",
    "id": "4PlhObQyyjpj",
    "outputId": "8ca611f1-e317-47ff-da14-e4a5730fb92a"
   },
   "outputs": [
    {
     "name": "stdout",
     "output_type": "stream",
     "text": [
      "Overwriting /content/config1.yml\n"
     ]
    }
   ],
   "source": [
    "%%writefile /content/config1.yml\n",
    "base: config/base_episode.yml\n",
    "\n",
    "model:\n",
    "  backbone: resnet50\n",
    "  pooling: gem_pooling\n",
    "  head: BNHead\n",
    "  bn_where: after\n",
    "  use_tqdm: True\n",
    "\n",
    "data:\n",
    "  name: peta\n",
    "  image_size: [256, 192]\n",
    "  train:\n",
    "    num_attribute: 8\n",
    "    num_positive: 8\n",
    "    num_negative: 8\n",
    "    num_iterator: 700\n",
    "  val:\n",
    "    num_attribute: 8\n",
    "    num_positive: 8\n",
    "    num_negative: 8\n",
    "    num_iterator: 100\n",
    "  use_tqdm: True\n",
    "\n",
    "optimizer:\n",
    "  name: sgd\n",
    "  lr: 0.01\n",
    "  specified_lr:\n",
    "    enable: True\n",
    "    lr: 0.1\n",
    "    layers: [head]\n",
    "\n",
    "loss:\n",
    "  name: Singular_BCE\n",
    "  reduction: mean\n",
    "\n",
    "freeze:\n",
    "  enable: True\n",
    "  layers: [backbone]\n",
    "  epochs: 10\n",
    "\n",
    "lr_scheduler:\n",
    "  enable: True\n",
    "  name: CosineAnnealingLR\n",
    "  max_iters: 120\n",
    "  eta_min_lr: 0\n",
    "\n",
    "clip_grad_norm_:\n",
    "  enable: True\n",
    "  max_norm: 10.0\n",
    "\n",
    "trainer:\n",
    "  n_gpu: 1\n",
    "  epochs: 200\n",
    "    \n",
    "trainer_colab:\n",
    "  epochs: 200"
   ]
  },
  {
   "cell_type": "code",
   "execution_count": null,
   "metadata": {
    "colab": {
     "base_uri": "https://localhost:8080/",
     "height": 34
    },
    "colab_type": "code",
    "id": "eI-_vuTNyjpm",
    "outputId": "5c1c13d5-a227-4806-d9c2-2f47dc1380d8"
   },
   "outputs": [
    {
     "name": "stdout",
     "output_type": "stream",
     "text": [
      "Overwriting /content/config2.yml\n"
     ]
    }
   ],
   "source": [
    "%%writefile /content/config2.yml\n",
    "base: config/base_episode.yml\n",
    "\n",
    "model:\n",
    "  backbone: resnet50\n",
    "  pooling: gem_pooling\n",
    "  head: BNHead\n",
    "  bn_where: after\n",
    "  use_tqdm: True\n",
    "\n",
    "data:\n",
    "  name: peta\n",
    "  sampler: RandomBatchSamplerAttributeWeight\n",
    "  train:\n",
    "    num_attribute: 8\n",
    "    num_sampler: 16\n",
    "    num_iterator: 700\n",
    "  val:\n",
    "    num_attribute: 8\n",
    "    num_sampler: 16\n",
    "    num_iterator: 100\n",
    "  use_tqdm: True\n",
    "\n",
    "optimizer:\n",
    "  name: sgd\n",
    "  lr: 0.01\n",
    "  specified_lr:\n",
    "    enable: True\n",
    "    lr: 0.1\n",
    "    layers: [head]\n",
    "\n",
    "loss:\n",
    "  name: Singular_BCE\n",
    "  reduction: mean\n",
    "\n",
    "freeze:\n",
    "  enable: True\n",
    "  layers: [backbone]\n",
    "  epochs: 10\n",
    "\n",
    "lr_scheduler:\n",
    "  enable: True\n",
    "  name: ReduceLROnPlateau\n",
    "  factor: 0.1\n",
    "  patience: 10\n",
    "  min_lr: 0\n",
    "\n",
    "clip_grad_norm_:\n",
    "  enable: True\n",
    "  max_norm: 10.0\n",
    "\n",
    "trainer:\n",
    "  n_gpu: 1\n",
    "  epochs: 120\n",
    "    \n",
    "trainer_colab:\n",
    "  epochs: 120"
   ]
  },
  {
   "cell_type": "code",
   "execution_count": null,
   "metadata": {
    "colab": {
     "base_uri": "https://localhost:8080/",
     "height": 921,
     "referenced_widgets": [
      "b0a5c587a7754d8ba6848de95ea5f9fa",
      "dcccaf9d1f014cf39f3d63ab2b36aba3",
      "7b222c02f37d4f638d58b7644f833b90",
      "b771abc0be7d48d7a38bda670a7095d8",
      "ee406aba43844122a27a2b3e5349d6ff",
      "81074739cf8043c8a3ca7b3f23032651",
      "eb363b94b0b6439391e384bb8eab3930",
      "0b43584a973f4a6583467f6f757d702c",
      "9e2f5358344b4705b60e21894470d1a0",
      "93424dc5a78943f5ae098d3ac66becf1",
      "c0c8e6c71ee04b798c7bc3626166f18e",
      "1117c2b0d6954a8d98d57294daaabca1",
      "6ca90521f74345ea8c9a3141b032c35b",
      "9addf9ace4464aeabd228f4c2e383ab9",
      "1b851634962346539c078f9080e8048e",
      "94f51c7880084beab5ef9b5ae12d2f42"
     ]
    },
    "colab_type": "code",
    "id": "8ELzqBYNyjpp",
    "outputId": "27fccaf1-8559-42d7-c3c2-9de35039d351"
   },
   "outputs": [
    {
     "name": "stdout",
     "output_type": "stream",
     "text": [
      "Copying data...\n",
      "Copied!\n",
      "Copying data...\n",
      "Copied!\n",
      "Loading checkpoint: /content/drive/My Drive/HIEN/Models/person_attribute_recognition/checkpoints/0828_112607/model_last.pth ...\n"
     ]
    },
    {
     "data": {
      "application/vnd.jupyter.widget-view+json": {
       "model_id": "b0a5c587a7754d8ba6848de95ea5f9fa",
       "version_major": 2,
       "version_minor": 0
      },
      "text/plain": [
       "HBox(children=(FloatProgress(value=0.0, max=60.0), HTML(value='')))"
      ]
     },
     "metadata": {
      "tags": []
     },
     "output_type": "display_data"
    },
    {
     "name": "stdout",
     "output_type": "stream",
     "text": [
      "\n",
      "Loading checkpoint: /content/drive/My Drive/HIEN/Models/person_attribute_recognition/checkpoints/0823_093622/model_best_accuracy.pth ...\n"
     ]
    },
    {
     "data": {
      "application/vnd.jupyter.widget-view+json": {
       "model_id": "9e2f5358344b4705b60e21894470d1a0",
       "version_major": 2,
       "version_minor": 0
      },
      "text/plain": [
       "HBox(children=(FloatProgress(value=0.0, max=60.0), HTML(value='')))"
      ]
     },
     "metadata": {
      "tags": []
     },
     "output_type": "display_data"
    },
    {
     "name": "stdout",
     "output_type": "stream",
     "text": [
      "\n",
      "\n",
      "           attribute      weight       accuracy          mA           precision        recall          f1_score\n",
      "                   -           -              -           -                   -             -                 -\n",
      "        accessoryHat        9.54\u001b[94m     97.91\u001b[0m|97.25      94.4|\u001b[94m94.41\u001b[0m\u001b[94m     88.24\u001b[0m|82.17     90.07|\u001b[94m 90.9\u001b[0m\u001b[94m     89.15\u001b[0m|86.31\n",
      "    accessoryMuffler        8.32\u001b[94m     99.18\u001b[0m|98.42     96.39|\u001b[94m96.55\u001b[0m\u001b[94m     97.03\u001b[0m|87.65     93.04|\u001b[94m 94.3\u001b[0m\u001b[94m     94.99\u001b[0m|90.85\n",
      "    accessoryNothing       75.55\u001b[94m     92.66\u001b[0m|92.24\u001b[94m     87.91\u001b[0m|86.82\u001b[94m     93.36\u001b[0m|92.68      97.2|\u001b[94m97.42\u001b[0m\u001b[94m     95.24\u001b[0m|94.99\n",
      " accessorySunglasses        2.87\u001b[94m     96.12\u001b[0m| 95.2     77.97|\u001b[94m81.06\u001b[0m\u001b[94m     38.44\u001b[0m| 33.1     58.72|\u001b[94m66.06\u001b[0m\u001b[94m     46.46\u001b[0m| 44.1\n",
      "            hairLong       23.74\u001b[94m     94.01\u001b[0m|91.54     92.49|\u001b[94m92.64\u001b[0m\u001b[94m     85.82\u001b[0m|75.72     89.58|\u001b[94m94.73\u001b[0m\u001b[94m     87.66\u001b[0m|84.17\n",
      "     upperBodyCasual       85.46\u001b[94m     94.38\u001b[0m|94.29\u001b[94m     87.33\u001b[0m|86.63\u001b[94m     96.19\u001b[0m|95.95     97.27|\u001b[94m97.43\u001b[0m\u001b[94m     96.73\u001b[0m|96.68\n",
      "     upperBodyFormal       13.25\u001b[94m     95.03\u001b[0m|93.43     88.64|\u001b[94m89.57\u001b[0m\u001b[94m     82.06\u001b[0m|71.34     79.94|\u001b[94m84.31\u001b[0m\u001b[94m     80.99\u001b[0m|77.29\n",
      "     upperBodyJacket        7.03\u001b[94m     94.55\u001b[0m|90.53     82.79|\u001b[94m84.17\u001b[0m\u001b[94m     59.71\u001b[0m|40.76      69.1|\u001b[94m76.78\u001b[0m\u001b[94m     64.06\u001b[0m|53.25\n",
      "       upperBodyLogo        3.89\u001b[94m     95.64\u001b[0m|92.79     76.66|\u001b[94m84.58\u001b[0m\u001b[94m     45.23\u001b[0m| 32.0     56.08|\u001b[94m75.68\u001b[0m\u001b[94m     50.08\u001b[0m|44.98\n",
      "      upperBodyPlaid        2.67\u001b[94m     97.87\u001b[0m| 96.0     90.04|\u001b[94m91.96\u001b[0m\u001b[94m     57.04\u001b[0m|38.95     81.77|\u001b[94m87.68\u001b[0m\u001b[94m     67.21\u001b[0m|53.94\n",
      "upperBodyShortSleeve       14.34\u001b[94m     94.61\u001b[0m|92.88     91.54|\u001b[94m92.71\u001b[0m\u001b[94m     77.82\u001b[0m|68.71     87.25|\u001b[94m92.48\u001b[0m\u001b[94m     82.27\u001b[0m|78.84\n",
      "upperBodyThinStripes        1.66\u001b[94m     98.04\u001b[0m|96.14     80.28|\u001b[94m80.48\u001b[0m\u001b[94m     43.58\u001b[0m|24.62      61.9|\u001b[94m64.29\u001b[0m\u001b[94m     51.15\u001b[0m| 35.6\n",
      "     upperBodyTshirt        8.42\u001b[94m     94.14\u001b[0m|92.12     86.37|\u001b[94m89.45\u001b[0m\u001b[94m     62.33\u001b[0m|51.93     77.03|\u001b[94m86.25\u001b[0m\u001b[94m      68.9\u001b[0m|64.83\n",
      "      upperBodyOther       45.47\u001b[94m     87.62\u001b[0m|86.03\u001b[94m     87.32\u001b[0m|86.11\u001b[94m     88.19\u001b[0m|83.03     84.03|\u001b[94m87.07\u001b[0m\u001b[94m     86.06\u001b[0m| 85.0\n",
      "      upperBodyVNeck        1.05\u001b[94m     98.59\u001b[0m|97.43     77.03|\u001b[94m 78.3\u001b[0m\u001b[94m     38.26\u001b[0m|22.49      55.0|\u001b[94m58.75\u001b[0m\u001b[94m     45.13\u001b[0m|32.53\n",
      "     lowerBodyCasual       86.13     94.78|\u001b[94m94.88\u001b[0m\u001b[94m     87.22\u001b[0m|87.16\u001b[94m     96.31\u001b[0m|96.27     97.68|\u001b[94m97.85\u001b[0m     96.99|\u001b[94m97.05\u001b[0m\n",
      "     lowerBodyFormal       13.72\u001b[94m     94.96\u001b[0m|93.93     87.65|\u001b[94m89.15\u001b[0m\u001b[94m     84.45\u001b[0m|75.53     77.56|\u001b[94m82.55\u001b[0m\u001b[94m     80.86\u001b[0m|78.88\n",
      "      lowerBodyJeans       30.46\u001b[94m     89.67\u001b[0m|86.93\u001b[94m      88.3\u001b[0m|87.78\u001b[94m     81.93\u001b[0m|73.26     84.79|\u001b[94m89.94\u001b[0m\u001b[94m     83.34\u001b[0m|80.74\n",
      "     lowerBodyShorts        3.43\u001b[94m     97.04\u001b[0m|96.08     85.16|\u001b[94m86.33\u001b[0m\u001b[94m     55.26\u001b[0m|45.73     72.41|\u001b[94m75.86\u001b[0m\u001b[94m     62.69\u001b[0m|57.06\n",
      " lowerBodyShortSkirt        4.62\u001b[94m     96.57\u001b[0m|94.93     89.39|\u001b[94m91.24\u001b[0m\u001b[94m     59.34\u001b[0m|47.37     81.48|\u001b[94m87.18\u001b[0m\u001b[94m     68.67\u001b[0m|61.38\n",
      "   lowerBodyTrousers       51.96\u001b[94m     87.24\u001b[0m|85.05\u001b[94m     87.17\u001b[0m|84.72\u001b[94m     86.95\u001b[0m|80.97     88.76|\u001b[94m93.11\u001b[0m\u001b[94m     87.84\u001b[0m|86.62\n",
      "footwearLeatherShoes       29.14\u001b[94m     91.28\u001b[0m|89.05     89.25|\u001b[94m 89.5\u001b[0m\u001b[94m      85.5\u001b[0m| 76.3     84.38|\u001b[94m90.56\u001b[0m\u001b[94m     84.94\u001b[0m|82.82\n",
      "     footwearSandals        1.89\u001b[94m     96.99\u001b[0m| 96.2     79.05|\u001b[94m79.67\u001b[0m\u001b[94m     33.59\u001b[0m|27.69     60.42|\u001b[94m 62.5\u001b[0m\u001b[94m     43.18\u001b[0m|38.38\n",
      "       footwearShoes        36.5\u001b[94m      82.7\u001b[0m|79.82\u001b[94m     81.83\u001b[0m| 80.9\u001b[94m     75.13\u001b[0m|67.86     78.62|\u001b[94m84.93\u001b[0m\u001b[94m     76.84\u001b[0m|75.44\n",
      "     footwearSneaker       22.04\u001b[94m     87.43\u001b[0m|84.11     84.73|\u001b[94m85.22\u001b[0m\u001b[94m      68.4\u001b[0m|59.51     79.88|\u001b[94m87.22\u001b[0m\u001b[94m      73.7\u001b[0m|70.75\n",
      "    carryingBackpack        19.7\u001b[94m     90.32\u001b[0m| 89.2\u001b[94m      88.9\u001b[0m|88.84\u001b[94m     70.78\u001b[0m|67.19     86.57|\u001b[94m88.24\u001b[0m\u001b[94m     77.88\u001b[0m|76.29\n",
      "       carryingOther       20.14\u001b[94m     86.66\u001b[0m| 80.3     79.29|\u001b[94m80.07\u001b[0m\u001b[94m     66.86\u001b[0m|50.71     66.95|\u001b[94m79.69\u001b[0m\u001b[94m     66.91\u001b[0m|61.98\n",
      "carryingMessengerBag       29.93\u001b[94m     87.97\u001b[0m|84.91\u001b[94m     85.63\u001b[0m|85.15\u001b[94m     79.99\u001b[0m|70.33     79.78|\u001b[94m85.76\u001b[0m\u001b[94m     79.89\u001b[0m|77.28\n",
      "     carryingNothing       27.51\u001b[94m      88.3\u001b[0m|85.11\u001b[94m     86.61\u001b[0m|86.15\u001b[94m     76.57\u001b[0m|67.49     82.83|\u001b[94m88.47\u001b[0m\u001b[94m     79.58\u001b[0m|76.57\n",
      " carryingPlasticBags         7.7\u001b[94m     97.09\u001b[0m|94.91     88.63|\u001b[94m90.19\u001b[0m\u001b[94m     82.73\u001b[0m| 62.5     78.63|\u001b[94m84.62\u001b[0m\u001b[94m     80.63\u001b[0m| 71.9\n",
      "      personalLess30       50.41\u001b[94m     88.45\u001b[0m| 87.2\u001b[94m     88.42\u001b[0m|87.17\u001b[94m     86.47\u001b[0m|84.67\u001b[94m     91.39\u001b[0m| 91.1\u001b[94m     88.86\u001b[0m|87.77\n",
      "      personalLess45       32.12\u001b[94m     86.88\u001b[0m|83.87\u001b[94m     85.43\u001b[0m| 84.7\u001b[94m     78.56\u001b[0m|70.03     81.36|\u001b[94m87.01\u001b[0m\u001b[94m     79.94\u001b[0m| 77.6\n",
      "      personalLess60       10.25\u001b[94m     96.05\u001b[0m| 94.5      87.0|\u001b[94m88.46\u001b[0m\u001b[94m     84.26\u001b[0m|70.08     75.61|\u001b[94m80.87\u001b[0m\u001b[94m      79.7\u001b[0m|75.09\n",
      "    personalLarger60        6.07\u001b[94m      99.0\u001b[0m|98.43     96.32|\u001b[94m96.53\u001b[0m\u001b[94m     90.53\u001b[0m|82.39     93.28|\u001b[94m94.36\u001b[0m\u001b[94m     91.88\u001b[0m|87.97\n",
      "        personalMale       54.57\u001b[94m     93.51\u001b[0m|93.29\u001b[94m     93.29\u001b[0m|93.09     92.61|\u001b[94m92.66\u001b[0m\u001b[94m     95.76\u001b[0m|95.25\u001b[94m     94.16\u001b[0m|93.94\n",
      "                   -           -         -|    -         -|    -         -|    -         -|    -         -|    -\n",
      "                mean           -\u001b[94m     93.24\u001b[0m| 91.4     86.76|\u001b[94m87.36\u001b[0m\u001b[94m     73.99\u001b[0m|64.85     80.46|\u001b[94m85.18\u001b[0m\u001b[94m      76.7\u001b[0m|72.54\n",
      "\n",
      "trái: 8 attribute, 8 positive, 8 negative; phải: 8 attribute, mỗi attribute lấy mẫu dương và mẫu âm theo trọng số của attribute đó\n"
     ]
    }
   ],
   "source": [
    "import argparse\n",
    "import os\n",
    "import logging\n",
    "import torch\n",
    "import numpy as np\n",
    "\n",
    "from tqdm import tqdm\n",
    "from easydict import EasyDict\n",
    "\n",
    "from models import build_model\n",
    "from data import build_datamanager\n",
    "from logger import setup_logging\n",
    "from utils import read_config, rmdir, summary, array_interweave, COLOR\n",
    "from evaluators import recognition_metrics\n",
    "from evaluators.recognition_metrics import log_test, compare_class_based, test\n",
    "\n",
    "config1 = \"config1.yml\"\n",
    "config2 = \"config2.yml\"\n",
    "\n",
    "resume1 = \"/content/drive/My Drive/HIEN/Models/person_attribute_recognition/checkpoints/0828_112607/model_last.pth\"\n",
    "resume2 = \"/content/drive/My Drive/HIEN/Models/person_attribute_recognition/checkpoints/0823_093622/model_best_accuracy.pth\"\n",
    "\n",
    "config1 = read_config(config1)\n",
    "config1.update({'resume': resume1})\n",
    "config1.update({'colab': True})\n",
    "\n",
    "config2 = read_config(config2)\n",
    "config2.update({'resume': resume2})\n",
    "config2.update({'colab': True})\n",
    "\n",
    "datamanager1, _ = build_datamanager(config1['type'], config1['data'])\n",
    "datamanager2, _ = build_datamanager(config2['type'], config2['data'])\n",
    "\n",
    "# model1\n",
    "result_label1, result_instance1 = test(config1, datamanager1, print)\n",
    "\n",
    "# model 2\n",
    "result_label2, result_instance2 = test(config2, datamanager2, print)\n",
    "print()\n",
    "compare_class_based(print, datamanager1.datasource.get_attribute(), datamanager1.datasource.get_weight('test'), result_label1, result_label2, COLOR.BLUE)\n",
    "print()\n",
    "print('trái: 8 attribute, 8 positive, 8 negative; phải: 8 attribute, mỗi attribute lấy mẫu dương và mẫu âm theo trọng số của attribute đó')"
   ]
  },
  {
   "cell_type": "code",
   "execution_count": null,
   "metadata": {
    "colab": {
     "base_uri": "https://localhost:8080/",
     "height": 17
    },
    "colab_type": "code",
    "id": "9HwJdwA54ab9",
    "outputId": "3ffbe4d5-baa2-4d79-9dba-c33f640f2600"
   },
   "outputs": [
    {
     "data": {
      "application/javascript": [
       "\n",
       "    async function download(id, filename, size) {\n",
       "      if (!google.colab.kernel.accessAllowed) {\n",
       "        return;\n",
       "      }\n",
       "      const div = document.createElement('div');\n",
       "      const label = document.createElement('label');\n",
       "      label.textContent = `Downloading \"${filename}\": `;\n",
       "      div.appendChild(label);\n",
       "      const progress = document.createElement('progress');\n",
       "      progress.max = size;\n",
       "      div.appendChild(progress);\n",
       "      document.body.appendChild(div);\n",
       "\n",
       "      const buffers = [];\n",
       "      let downloaded = 0;\n",
       "\n",
       "      const channel = await google.colab.kernel.comms.open(id);\n",
       "      // Send a message to notify the kernel that we're ready.\n",
       "      channel.send({})\n",
       "\n",
       "      for await (const message of channel.messages) {\n",
       "        // Send a message to notify the kernel that we're ready.\n",
       "        channel.send({})\n",
       "        if (message.buffers) {\n",
       "          for (const buffer of message.buffers) {\n",
       "            buffers.push(buffer);\n",
       "            downloaded += buffer.byteLength;\n",
       "            progress.value = downloaded;\n",
       "          }\n",
       "        }\n",
       "      }\n",
       "      const blob = new Blob(buffers, {type: 'application/binary'});\n",
       "      const a = document.createElement('a');\n",
       "      a.href = window.URL.createObjectURL(blob);\n",
       "      a.download = filename;\n",
       "      div.appendChild(a);\n",
       "      a.click();\n",
       "      div.remove();\n",
       "    }\n",
       "  "
      ],
      "text/plain": [
       "<IPython.core.display.Javascript object>"
      ]
     },
     "metadata": {
      "tags": []
     },
     "output_type": "display_data"
    },
    {
     "data": {
      "application/javascript": [
       "download(\"download_a8963ead-a3af-4710-99be-a3a50b286aea\", \"episode1_vs_episode3_nghich_accuracy.pgf\", 53781)"
      ],
      "text/plain": [
       "<IPython.core.display.Javascript object>"
      ]
     },
     "metadata": {
      "tags": []
     },
     "output_type": "display_data"
    },
    {
     "data": {
      "application/javascript": [
       "\n",
       "    async function download(id, filename, size) {\n",
       "      if (!google.colab.kernel.accessAllowed) {\n",
       "        return;\n",
       "      }\n",
       "      const div = document.createElement('div');\n",
       "      const label = document.createElement('label');\n",
       "      label.textContent = `Downloading \"${filename}\": `;\n",
       "      div.appendChild(label);\n",
       "      const progress = document.createElement('progress');\n",
       "      progress.max = size;\n",
       "      div.appendChild(progress);\n",
       "      document.body.appendChild(div);\n",
       "\n",
       "      const buffers = [];\n",
       "      let downloaded = 0;\n",
       "\n",
       "      const channel = await google.colab.kernel.comms.open(id);\n",
       "      // Send a message to notify the kernel that we're ready.\n",
       "      channel.send({})\n",
       "\n",
       "      for await (const message of channel.messages) {\n",
       "        // Send a message to notify the kernel that we're ready.\n",
       "        channel.send({})\n",
       "        if (message.buffers) {\n",
       "          for (const buffer of message.buffers) {\n",
       "            buffers.push(buffer);\n",
       "            downloaded += buffer.byteLength;\n",
       "            progress.value = downloaded;\n",
       "          }\n",
       "        }\n",
       "      }\n",
       "      const blob = new Blob(buffers, {type: 'application/binary'});\n",
       "      const a = document.createElement('a');\n",
       "      a.href = window.URL.createObjectURL(blob);\n",
       "      a.download = filename;\n",
       "      div.appendChild(a);\n",
       "      a.click();\n",
       "      div.remove();\n",
       "    }\n",
       "  "
      ],
      "text/plain": [
       "<IPython.core.display.Javascript object>"
      ]
     },
     "metadata": {
      "tags": []
     },
     "output_type": "display_data"
    },
    {
     "data": {
      "application/javascript": [
       "download(\"download_e1bffac1-aa10-4a1d-9415-cc739ef08c20\", \"episode1_vs_episode3_nghich_mean_accuracy.pgf\", 53785)"
      ],
      "text/plain": [
       "<IPython.core.display.Javascript object>"
      ]
     },
     "metadata": {
      "tags": []
     },
     "output_type": "display_data"
    },
    {
     "data": {
      "application/javascript": [
       "\n",
       "    async function download(id, filename, size) {\n",
       "      if (!google.colab.kernel.accessAllowed) {\n",
       "        return;\n",
       "      }\n",
       "      const div = document.createElement('div');\n",
       "      const label = document.createElement('label');\n",
       "      label.textContent = `Downloading \"${filename}\": `;\n",
       "      div.appendChild(label);\n",
       "      const progress = document.createElement('progress');\n",
       "      progress.max = size;\n",
       "      div.appendChild(progress);\n",
       "      document.body.appendChild(div);\n",
       "\n",
       "      const buffers = [];\n",
       "      let downloaded = 0;\n",
       "\n",
       "      const channel = await google.colab.kernel.comms.open(id);\n",
       "      // Send a message to notify the kernel that we're ready.\n",
       "      channel.send({})\n",
       "\n",
       "      for await (const message of channel.messages) {\n",
       "        // Send a message to notify the kernel that we're ready.\n",
       "        channel.send({})\n",
       "        if (message.buffers) {\n",
       "          for (const buffer of message.buffers) {\n",
       "            buffers.push(buffer);\n",
       "            downloaded += buffer.byteLength;\n",
       "            progress.value = downloaded;\n",
       "          }\n",
       "        }\n",
       "      }\n",
       "      const blob = new Blob(buffers, {type: 'application/binary'});\n",
       "      const a = document.createElement('a');\n",
       "      a.href = window.URL.createObjectURL(blob);\n",
       "      a.download = filename;\n",
       "      div.appendChild(a);\n",
       "      a.click();\n",
       "      div.remove();\n",
       "    }\n",
       "  "
      ],
      "text/plain": [
       "<IPython.core.display.Javascript object>"
      ]
     },
     "metadata": {
      "tags": []
     },
     "output_type": "display_data"
    },
    {
     "data": {
      "application/javascript": [
       "download(\"download_2d6b4643-7a1c-4125-adef-ffada5936b9f\", \"episode1_vs_episode3_nghich_precision.pgf\", 53764)"
      ],
      "text/plain": [
       "<IPython.core.display.Javascript object>"
      ]
     },
     "metadata": {
      "tags": []
     },
     "output_type": "display_data"
    },
    {
     "data": {
      "application/javascript": [
       "\n",
       "    async function download(id, filename, size) {\n",
       "      if (!google.colab.kernel.accessAllowed) {\n",
       "        return;\n",
       "      }\n",
       "      const div = document.createElement('div');\n",
       "      const label = document.createElement('label');\n",
       "      label.textContent = `Downloading \"${filename}\": `;\n",
       "      div.appendChild(label);\n",
       "      const progress = document.createElement('progress');\n",
       "      progress.max = size;\n",
       "      div.appendChild(progress);\n",
       "      document.body.appendChild(div);\n",
       "\n",
       "      const buffers = [];\n",
       "      let downloaded = 0;\n",
       "\n",
       "      const channel = await google.colab.kernel.comms.open(id);\n",
       "      // Send a message to notify the kernel that we're ready.\n",
       "      channel.send({})\n",
       "\n",
       "      for await (const message of channel.messages) {\n",
       "        // Send a message to notify the kernel that we're ready.\n",
       "        channel.send({})\n",
       "        if (message.buffers) {\n",
       "          for (const buffer of message.buffers) {\n",
       "            buffers.push(buffer);\n",
       "            downloaded += buffer.byteLength;\n",
       "            progress.value = downloaded;\n",
       "          }\n",
       "        }\n",
       "      }\n",
       "      const blob = new Blob(buffers, {type: 'application/binary'});\n",
       "      const a = document.createElement('a');\n",
       "      a.href = window.URL.createObjectURL(blob);\n",
       "      a.download = filename;\n",
       "      div.appendChild(a);\n",
       "      a.click();\n",
       "      div.remove();\n",
       "    }\n",
       "  "
      ],
      "text/plain": [
       "<IPython.core.display.Javascript object>"
      ]
     },
     "metadata": {
      "tags": []
     },
     "output_type": "display_data"
    },
    {
     "data": {
      "application/javascript": [
       "download(\"download_c6666e7c-07b6-480a-af8e-d70aa87100a3\", \"episode1_vs_episode3_nghich_recall.pgf\", 46705)"
      ],
      "text/plain": [
       "<IPython.core.display.Javascript object>"
      ]
     },
     "metadata": {
      "tags": []
     },
     "output_type": "display_data"
    },
    {
     "data": {
      "application/javascript": [
       "\n",
       "    async function download(id, filename, size) {\n",
       "      if (!google.colab.kernel.accessAllowed) {\n",
       "        return;\n",
       "      }\n",
       "      const div = document.createElement('div');\n",
       "      const label = document.createElement('label');\n",
       "      label.textContent = `Downloading \"${filename}\": `;\n",
       "      div.appendChild(label);\n",
       "      const progress = document.createElement('progress');\n",
       "      progress.max = size;\n",
       "      div.appendChild(progress);\n",
       "      document.body.appendChild(div);\n",
       "\n",
       "      const buffers = [];\n",
       "      let downloaded = 0;\n",
       "\n",
       "      const channel = await google.colab.kernel.comms.open(id);\n",
       "      // Send a message to notify the kernel that we're ready.\n",
       "      channel.send({})\n",
       "\n",
       "      for await (const message of channel.messages) {\n",
       "        // Send a message to notify the kernel that we're ready.\n",
       "        channel.send({})\n",
       "        if (message.buffers) {\n",
       "          for (const buffer of message.buffers) {\n",
       "            buffers.push(buffer);\n",
       "            downloaded += buffer.byteLength;\n",
       "            progress.value = downloaded;\n",
       "          }\n",
       "        }\n",
       "      }\n",
       "      const blob = new Blob(buffers, {type: 'application/binary'});\n",
       "      const a = document.createElement('a');\n",
       "      a.href = window.URL.createObjectURL(blob);\n",
       "      a.download = filename;\n",
       "      div.appendChild(a);\n",
       "      a.click();\n",
       "      div.remove();\n",
       "    }\n",
       "  "
      ],
      "text/plain": [
       "<IPython.core.display.Javascript object>"
      ]
     },
     "metadata": {
      "tags": []
     },
     "output_type": "display_data"
    },
    {
     "data": {
      "application/javascript": [
       "download(\"download_303123ef-3108-4333-b479-966fcd343967\", \"episode1_vs_episode3_nghich_f1_score.pgf\", 52352)"
      ],
      "text/plain": [
       "<IPython.core.display.Javascript object>"
      ]
     },
     "metadata": {
      "tags": []
     },
     "output_type": "display_data"
    }
   ],
   "source": [
    "tag = 'episode1_vs_episode3_nghich'\n",
    "\n",
    "import matplotlib\n",
    "from matplotlib import rc\n",
    "import matplotlib.pyplot as plt\n",
    "%matplotlib inline\n",
    "\n",
    "matplotlib.use(\"pgf\")\n",
    "matplotlib.rcParams.update({\n",
    "    \"pgf.texsystem\": \"pdflatex\",\n",
    "    'font.family': 'serif',\n",
    "    'text.usetex': True,\n",
    "    'pgf.rcfonts': False,\n",
    "})\n",
    "\n",
    "from matplotlib.patches import ConnectionPatch\n",
    "from matplotlib import rcParams\n",
    "from google.colab import files\n",
    "\n",
    "mapping_label = {'accuracy': 'Accuracy', 'mean_accuracy': 'mean Accuracy', 'precision': 'Precision', 'recall': 'Recall', 'f1_score': 'F1 score'}\n",
    "for metric in ['accuracy', 'mean_accuracy', 'precision', 'recall', 'f1_score']:\n",
    "    fig, (ax) = plt.subplots(1, 1, sharex=True)\n",
    "    alpha = result_label1[metric] > result_label2[metric]\n",
    "    ax.scatter(datamanager1.datasource.get_weight('test'), result_label1[metric]*100, color='r', label='Theo phân phối đều')\n",
    "    ax.scatter(datamanager1.datasource.get_weight('test'), result_label2[metric]*100, color='b', label='Theo trọng số')\n",
    "    ax.legend(loc='best')\n",
    "    ax.grid()\n",
    "    for i in range(len(datamanager1.datasource.get_weight('test'))):\n",
    "        x = datamanager1.datasource.get_weight('test')[i]\n",
    "        y1 = (result_label1[metric]*100)[i]\n",
    "        y2 = (result_label2[metric]*100)[i]\n",
    "        color = 'r' if y1 >= y2 else 'b'\n",
    "        xyA = (x, y1)\n",
    "        xyB = (x, y2)\n",
    "        coordsA = \"data\"\n",
    "        coordsB = \"data\"\n",
    "        con = ConnectionPatch(xyA=xyA, xyB=xyB, coordsA=coordsA, coordsB=coordsB, arrowstyle=\"-\")\n",
    "        ax.add_artist(con)\n",
    "\n",
    "    # plt.show()\n",
    "    ax.set_xlabel('Tỷ lệ mẫu dương')\n",
    "    ax.set_ylabel('{}'.format(mapping_label[metric]))\n",
    "    fig.savefig('{}_{}.pgf'.format(tag, metric), dpi=1200)\n",
    "    files.download('{}_{}.pgf'.format(tag, metric))\n",
    "    # fig.show()\n",
    "    plt.close()"
   ]
  },
  {
   "cell_type": "markdown",
   "metadata": {
    "colab_type": "text",
    "id": "PLLxXIDHwoJj"
   },
   "source": [
    "##### so sánh với epoch-based training"
   ]
  },
  {
   "cell_type": "code",
   "execution_count": null,
   "metadata": {
    "colab": {
     "base_uri": "https://localhost:8080/",
     "height": 34
    },
    "colab_type": "code",
    "id": "XPMT_gLRwoJk",
    "outputId": "5a0b4769-c46a-40fb-b4a2-1669e8df6b04"
   },
   "outputs": [
    {
     "name": "stdout",
     "output_type": "stream",
     "text": [
      "Overwriting /content/config1.yml\n"
     ]
    }
   ],
   "source": [
    "%%writefile /content/config1.yml\n",
    "base: /content/config/base_epoch.yml\n",
    "\n",
    "model:\n",
    "  backbone: resnet50\n",
    "  pooling: gem_pooling\n",
    "  head: BNHead\n",
    "  bn_where: after\n",
    "  use_tqdm: True\n",
    "\n",
    "data:\n",
    "  data_dir: datasets\n",
    "  name: peta\n",
    "  batch_size: 64\n",
    "  use_tqdm: True\n",
    "\n",
    "optimizer:\n",
    "  name: adam\n",
    "  lr: 0.00035\n",
    "\n",
    "loss:\n",
    "  name: CEL_Sigmoid\n",
    "\n",
    "freeze:\n",
    "  enable: True\n",
    "  layers: [backbone]\n",
    "  epochs: 10\n",
    "\n",
    "lr_scheduler:\n",
    "  enable: True\n",
    "  name: WarmupMultiStepLR\n",
    "  steps: [30, 60, 90]\n",
    "  gamma: 0.1\n",
    "  warmup_factor: 0.01\n",
    "  warmup_iters: 10\n",
    "\n",
    "trainer:\n",
    "  n_gpu: 1\n",
    "  epochs: 120\n",
    "  \n",
    "trainer_colab:\n",
    "  epochs: 120"
   ]
  },
  {
   "cell_type": "code",
   "execution_count": null,
   "metadata": {
    "colab": {
     "base_uri": "https://localhost:8080/",
     "height": 34
    },
    "colab_type": "code",
    "id": "2XJQ5tAewoJm",
    "outputId": "432671cb-62c4-452b-f178-522b1cb51572"
   },
   "outputs": [
    {
     "name": "stdout",
     "output_type": "stream",
     "text": [
      "Overwriting /content/config2.yml\n"
     ]
    }
   ],
   "source": [
    "%%writefile /content/config2.yml\n",
    "base: config/base_episode.yml\n",
    "\n",
    "model:\n",
    "  backbone: resnet50\n",
    "  pooling: gem_pooling\n",
    "  head: BNHead\n",
    "  bn_where: after\n",
    "  use_tqdm: True\n",
    "\n",
    "data:\n",
    "  name: peta\n",
    "  sampler: RandomBatchSamplerAttributeWeight\n",
    "  train:\n",
    "    num_attribute: 8\n",
    "    num_sampler: 16\n",
    "    num_iterator: 700\n",
    "  val:\n",
    "    num_attribute: 8\n",
    "    num_sampler: 16\n",
    "    num_iterator: 100\n",
    "  use_tqdm: True\n",
    "\n",
    "optimizer:\n",
    "  name: sgd\n",
    "  lr: 0.01\n",
    "  specified_lr:\n",
    "    enable: True\n",
    "    lr: 0.1\n",
    "    layers: [head]\n",
    "\n",
    "loss:\n",
    "  name: Singular_BCE\n",
    "  reduction: mean\n",
    "\n",
    "freeze:\n",
    "  enable: True\n",
    "  layers: [backbone]\n",
    "  epochs: 10\n",
    "\n",
    "lr_scheduler:\n",
    "  enable: True\n",
    "  name: ReduceLROnPlateau\n",
    "  factor: 0.1\n",
    "  patience: 10\n",
    "  min_lr: 0\n",
    "\n",
    "clip_grad_norm_:\n",
    "  enable: True\n",
    "  max_norm: 10.0\n",
    "\n",
    "trainer:\n",
    "  n_gpu: 1\n",
    "  epochs: 120\n",
    "    \n",
    "trainer_colab:\n",
    "  epochs: 120"
   ]
  },
  {
   "cell_type": "code",
   "execution_count": null,
   "metadata": {
    "colab": {
     "base_uri": "https://localhost:8080/",
     "height": 887,
     "referenced_widgets": [
      "a8af3d6de7754dd7838366c4cda5dac3",
      "48db4aab25b1431a8a88d91ef18a263c",
      "e9bdd11e3e3341069fe002aa987e74c1",
      "bd0b415d23a5429a8e847c9cd34abef6",
      "9134affc72d54f98ba74a5a0c2d6a7ac",
      "27117b32700b456795e7008ae1293d20",
      "b0504c1a4e4940a3a0d2a6b814b2463d",
      "f8c6802bce5a43c69f1276d6d2e46df1",
      "229d6f5f9b514e87aea96e17ca08b07f",
      "944b9032be88415881adcb3aa4bb4768",
      "dc174d4a8c344f389b65f3aeefa915f6",
      "7d237189aaa24680988a0e980d8ab395",
      "bdc9d517451c47cfb52b2d8b4c573342",
      "5a4873862f6e46fa867295b609654001",
      "5d8612e68613402e9bd1024a665b119e",
      "8e91792028a84d069150f2a39b1637af"
     ]
    },
    "colab_type": "code",
    "id": "GkWTlyMpwoJp",
    "outputId": "a28073e8-8f14-438e-a0ad-c6e2d223c23d"
   },
   "outputs": [
    {
     "name": "stdout",
     "output_type": "stream",
     "text": [
      "Copying data...\n",
      "Copied!\n",
      "Copying data...\n",
      "Copied!\n",
      "Loading checkpoint: /content/drive/My Drive/HIEN/Models/OSNet_Person_Attribute_Refactor/checkpoints/0731_232453/model_best_accuracy.pth ...\n"
     ]
    },
    {
     "data": {
      "application/vnd.jupyter.widget-view+json": {
       "model_id": "a8af3d6de7754dd7838366c4cda5dac3",
       "version_major": 2,
       "version_minor": 0
      },
      "text/plain": [
       "HBox(children=(FloatProgress(value=0.0, max=119.0), HTML(value='')))"
      ]
     },
     "metadata": {
      "tags": []
     },
     "output_type": "display_data"
    },
    {
     "name": "stdout",
     "output_type": "stream",
     "text": [
      "\n",
      "Loading checkpoint: /content/drive/My Drive/HIEN/Models/person_attribute_recognition/checkpoints/0823_093622/model_best_accuracy.pth ...\n"
     ]
    },
    {
     "data": {
      "application/vnd.jupyter.widget-view+json": {
       "model_id": "229d6f5f9b514e87aea96e17ca08b07f",
       "version_major": 2,
       "version_minor": 0
      },
      "text/plain": [
       "HBox(children=(FloatProgress(value=0.0, max=60.0), HTML(value='')))"
      ]
     },
     "metadata": {
      "tags": []
     },
     "output_type": "display_data"
    },
    {
     "name": "stdout",
     "output_type": "stream",
     "text": [
      "\n",
      "\n",
      "           attribute      weight       accuracy          mA           precision        recall          f1_score\n",
      "                   -           -              -           -                   -             -                 -\n",
      "        accessoryHat        9.54\u001b[94m     98.18\u001b[0m|97.25     93.81|\u001b[94m94.41\u001b[0m\u001b[94m     92.23\u001b[0m|82.17     88.41|\u001b[94m 90.9\u001b[0m\u001b[94m     90.28\u001b[0m|86.31\n",
      "    accessoryMuffler        8.32\u001b[94m     99.11\u001b[0m|98.42     96.42|\u001b[94m96.55\u001b[0m\u001b[94m     95.93\u001b[0m|87.65      93.2|\u001b[94m 94.3\u001b[0m\u001b[94m     94.54\u001b[0m|90.85\n",
      "    accessoryNothing       75.55\u001b[94m     92.68\u001b[0m|92.24\u001b[94m     87.59\u001b[0m|86.82\u001b[94m     93.09\u001b[0m|92.68\u001b[94m     97.56\u001b[0m|97.42\u001b[94m     95.27\u001b[0m|94.99\n",
      " accessorySunglasses        2.87\u001b[94m     97.88\u001b[0m| 95.2     70.64|\u001b[94m81.06\u001b[0m\u001b[94m      72.8\u001b[0m| 33.1     41.74|\u001b[94m66.06\u001b[0m\u001b[94m     53.06\u001b[0m| 44.1\n",
      "            hairLong       23.74\u001b[94m     94.51\u001b[0m|91.54     92.05|\u001b[94m92.64\u001b[0m\u001b[94m     89.29\u001b[0m|75.72     87.36|\u001b[94m94.73\u001b[0m\u001b[94m     88.32\u001b[0m|84.17\n",
      "     upperBodyCasual       85.46\u001b[94m      94.8\u001b[0m|94.29     85.77|\u001b[94m86.63\u001b[0m     95.55|\u001b[94m95.95\u001b[0m\u001b[94m     98.51\u001b[0m|97.43\u001b[94m     97.01\u001b[0m|96.68\n",
      "     upperBodyFormal       13.25\u001b[94m      95.5\u001b[0m|93.43     86.43|\u001b[94m89.57\u001b[0m\u001b[94m     90.21\u001b[0m|71.34     74.08|\u001b[94m84.31\u001b[0m\u001b[94m     81.35\u001b[0m|77.29\n",
      "     upperBodyJacket        7.03\u001b[94m     96.03\u001b[0m|90.53     79.34|\u001b[94m84.17\u001b[0m\u001b[94m     78.43\u001b[0m|40.76     59.93|\u001b[94m76.78\u001b[0m\u001b[94m     67.94\u001b[0m|53.25\n",
      "       upperBodyLogo        3.89\u001b[94m     96.86\u001b[0m|92.79     77.13|\u001b[94m84.58\u001b[0m\u001b[94m     60.44\u001b[0m| 32.0     55.74|\u001b[94m75.68\u001b[0m\u001b[94m      58.0\u001b[0m|44.98\n",
      "      upperBodyPlaid        2.67\u001b[94m     98.76\u001b[0m| 96.0     86.19|\u001b[94m91.96\u001b[0m\u001b[94m     79.14\u001b[0m|38.95     72.91|\u001b[94m87.68\u001b[0m\u001b[94m      75.9\u001b[0m|53.94\n",
      "upperBodyShortSleeve       14.34\u001b[94m     95.41\u001b[0m|92.88     91.02|\u001b[94m92.71\u001b[0m\u001b[94m     83.41\u001b[0m|68.71     84.86|\u001b[94m92.48\u001b[0m\u001b[94m     84.13\u001b[0m|78.84\n",
      "upperBodyThinStripes        1.66\u001b[94m      98.8\u001b[0m|96.14     73.25|\u001b[94m80.48\u001b[0m\u001b[94m     71.08\u001b[0m|24.62     46.83|\u001b[94m64.29\u001b[0m\u001b[94m     56.46\u001b[0m| 35.6\n",
      "     upperBodyTshirt        8.42\u001b[94m     95.63\u001b[0m|92.12     83.85|\u001b[94m89.45\u001b[0m\u001b[94m     76.37\u001b[0m|51.93     69.69|\u001b[94m86.25\u001b[0m\u001b[94m     72.88\u001b[0m|64.83\n",
      "      upperBodyOther       45.47\u001b[94m     87.78\u001b[0m|86.03\u001b[94m     87.47\u001b[0m|86.11\u001b[94m     88.51\u001b[0m|83.03     84.03|\u001b[94m87.07\u001b[0m\u001b[94m     86.21\u001b[0m| 85.0\n",
      "      upperBodyVNeck        1.05\u001b[94m      99.2\u001b[0m|97.43     63.11|\u001b[94m 78.3\u001b[0m\u001b[94m      91.3\u001b[0m|22.49     26.25|\u001b[94m58.75\u001b[0m\u001b[94m     40.78\u001b[0m|32.53\n",
      "     lowerBodyCasual       86.13\u001b[94m     94.96\u001b[0m|94.88     85.17|\u001b[94m87.16\u001b[0m     95.58|\u001b[94m96.27\u001b[0m\u001b[94m     98.72\u001b[0m|97.85\u001b[94m     97.12\u001b[0m|97.05\n",
      "     lowerBodyFormal       13.72\u001b[94m      95.2\u001b[0m|93.93     85.73|\u001b[94m89.15\u001b[0m\u001b[94m     90.45\u001b[0m|75.53     72.67|\u001b[94m82.55\u001b[0m\u001b[94m      80.6\u001b[0m|78.88\n",
      "      lowerBodyJeans       30.46\u001b[94m     90.18\u001b[0m|86.93\u001b[94m     87.94\u001b[0m|87.78\u001b[94m     85.07\u001b[0m|73.26      82.2|\u001b[94m89.94\u001b[0m\u001b[94m     83.61\u001b[0m|80.74\n",
      "     lowerBodyShorts        3.43\u001b[94m     97.71\u001b[0m|96.08     81.45|\u001b[94m86.33\u001b[0m\u001b[94m     67.61\u001b[0m|45.73     63.98|\u001b[94m75.86\u001b[0m\u001b[94m     65.75\u001b[0m|57.06\n",
      " lowerBodyShortSkirt        4.62\u001b[94m     97.59\u001b[0m|94.93      84.5|\u001b[94m91.24\u001b[0m\u001b[94m     75.93\u001b[0m|47.37     70.09|\u001b[94m87.18\u001b[0m\u001b[94m     72.89\u001b[0m|61.38\n",
      "   lowerBodyTrousers       51.96\u001b[94m     86.99\u001b[0m|85.05\u001b[94m     86.96\u001b[0m|84.72\u001b[94m     87.37\u001b[0m|80.97     87.62|\u001b[94m93.11\u001b[0m\u001b[94m      87.5\u001b[0m|86.62\n",
      "footwearLeatherShoes       29.14\u001b[94m     91.97\u001b[0m|89.05     89.02|\u001b[94m 89.5\u001b[0m\u001b[94m     89.63\u001b[0m| 76.3     81.94|\u001b[94m90.56\u001b[0m\u001b[94m     85.61\u001b[0m|82.82\n",
      "     footwearSandals        1.89\u001b[94m     98.08\u001b[0m| 96.2     72.12|\u001b[94m79.67\u001b[0m\u001b[94m     49.24\u001b[0m|27.69     45.14|\u001b[94m 62.5\u001b[0m\u001b[94m      47.1\u001b[0m|38.38\n",
      "       footwearShoes        36.5\u001b[94m     83.24\u001b[0m|79.82\u001b[94m     82.32\u001b[0m| 80.9\u001b[94m     76.06\u001b[0m|67.86     78.91|\u001b[94m84.93\u001b[0m\u001b[94m     77.46\u001b[0m|75.44\n",
      "     footwearSneaker       22.04\u001b[94m     88.34\u001b[0m|84.11      80.1|\u001b[94m85.22\u001b[0m\u001b[94m     78.16\u001b[0m|59.51     65.37|\u001b[94m87.22\u001b[0m\u001b[94m      71.2\u001b[0m|70.75\n",
      "    carryingBackpack        19.7\u001b[94m     92.46\u001b[0m| 89.2      88.1|\u001b[94m88.84\u001b[0m\u001b[94m     80.84\u001b[0m|67.19      80.9|\u001b[94m88.24\u001b[0m\u001b[94m     80.87\u001b[0m|76.29\n",
      "       carryingOther       20.14\u001b[94m     88.45\u001b[0m| 80.3     78.68|\u001b[94m80.07\u001b[0m\u001b[94m     76.02\u001b[0m|50.71     62.31|\u001b[94m79.69\u001b[0m\u001b[94m     68.49\u001b[0m|61.98\n",
      "carryingMessengerBag       29.93\u001b[94m     88.87\u001b[0m|84.91\u001b[94m     85.76\u001b[0m|85.15\u001b[94m     83.69\u001b[0m|70.33     78.02|\u001b[94m85.76\u001b[0m\u001b[94m     80.76\u001b[0m|77.28\n",
      "     carryingNothing       27.51\u001b[94m     89.62\u001b[0m|85.11      85.7|\u001b[94m86.15\u001b[0m\u001b[94m     83.94\u001b[0m|67.49      77.0|\u001b[94m88.47\u001b[0m\u001b[94m     80.32\u001b[0m|76.57\n",
      " carryingPlasticBags         7.7\u001b[94m     97.54\u001b[0m|94.91     87.78|\u001b[94m90.19\u001b[0m\u001b[94m     90.28\u001b[0m| 62.5     76.24|\u001b[94m84.62\u001b[0m\u001b[94m     82.67\u001b[0m| 71.9\n",
      "      personalLess30       50.41\u001b[94m     88.88\u001b[0m| 87.2\u001b[94m     88.87\u001b[0m|87.17\u001b[94m     88.11\u001b[0m|84.67     90.11|\u001b[94m 91.1\u001b[0m\u001b[94m      89.1\u001b[0m|87.77\n",
      "      personalLess45       32.12\u001b[94m     87.51\u001b[0m|83.87\u001b[94m     85.06\u001b[0m| 84.7\u001b[94m     82.07\u001b[0m|70.03     78.21|\u001b[94m87.01\u001b[0m\u001b[94m     80.09\u001b[0m| 77.6\n",
      "      personalLess60       10.25\u001b[94m     96.26\u001b[0m| 94.5     87.63|\u001b[94m88.46\u001b[0m\u001b[94m     85.31\u001b[0m|70.08     76.77|\u001b[94m80.87\u001b[0m\u001b[94m     80.81\u001b[0m|75.09\n",
      "    personalLarger60        6.07\u001b[94m     99.33\u001b[0m|98.43     95.99|\u001b[94m96.53\u001b[0m\u001b[94m     96.59\u001b[0m|82.39     92.19|\u001b[94m94.36\u001b[0m\u001b[94m     94.34\u001b[0m|87.97\n",
      "        personalMale       54.57\u001b[94m     93.78\u001b[0m|93.29\u001b[94m     93.67\u001b[0m|93.09\u001b[94m     93.86\u001b[0m|92.66     94.79|\u001b[94m95.25\u001b[0m\u001b[94m     94.33\u001b[0m|93.94\n",
      "                   -           -         -|    -         -|    -         -|    -         -|    -         -|    -\n",
      "                mean           -\u001b[94m     93.95\u001b[0m| 91.4     84.76|\u001b[94m87.36\u001b[0m\u001b[94m     83.25\u001b[0m|64.85     75.26|\u001b[94m85.18\u001b[0m\u001b[94m     78.36\u001b[0m|72.54\n"
     ]
    }
   ],
   "source": [
    "import os\n",
    "import argparse\n",
    "import logging\n",
    "import torch\n",
    "import numpy as np\n",
    "\n",
    "from tqdm import tqdm\n",
    "from easydict import EasyDict\n",
    "\n",
    "from models import build_model\n",
    "from data import build_datamanager\n",
    "from logger import setup_logging\n",
    "from utils import read_config, rmdir, summary, array_interweave, COLOR\n",
    "from evaluators import recognition_metrics\n",
    "from evaluators.recognition_metrics import log_test, compare_class_based, test\n",
    "\n",
    "config1 = \"config1.yml\"\n",
    "config2 = \"config2.yml\"\n",
    "\n",
    "resume1 = \"/content/drive/My Drive/HIEN/Models/OSNet_Person_Attribute_Refactor/checkpoints/0731_232453/model_best_accuracy.pth\"\n",
    "resume2 = \"/content/drive/My Drive/HIEN/Models/person_attribute_recognition/checkpoints/0823_093622/model_best_accuracy.pth\"\n",
    "\n",
    "config1 = read_config(config1)\n",
    "config1.update({'resume': resume1})\n",
    "config1.update({'colab': True})\n",
    "\n",
    "config2 = read_config(config2)\n",
    "config2.update({'resume': resume2})\n",
    "config2.update({'colab': True})\n",
    "\n",
    "datamanager1, _ = build_datamanager(config1['type'], config1['data'])\n",
    "datamanager2, _ = build_datamanager(config2['type'], config2['data'])\n",
    "\n",
    "# model1\n",
    "result_label1, result_instance1 = test(config1, datamanager1, print)\n",
    "\n",
    "# model 2\n",
    "result_label2, result_instance2 = test(config2, datamanager2, print)\n",
    "print()\n",
    "compare_class_based(print, datamanager1.datasource.get_attribute(), datamanager1.datasource.get_weight('test'), result_label1, result_label2, COLOR.BLUE)"
   ]
  },
  {
   "cell_type": "markdown",
   "metadata": {
    "colab_type": "text",
    "id": "xExxrva61W5c"
   },
   "source": [
    "#### random số mẫu dương, số mẫu âm theo trọng số của dataset **(thuận)**\n",
    "Random ra 8 attribute theo phân phối đều. Mỗi attribute sẽ chọn ngẫu nhiên ra số mẫu dương và số mẫu âm dựa theo trọng số của attribute đó trong training dataset, nếu **attribute có trọng số nhỏ** (số mẫu dương xuất hiện trong dataset ít), sẽ chọn **số mẫu dương nhỏ hơn** và **số mẫu âm lớn hơn**."
   ]
  },
  {
   "cell_type": "code",
   "execution_count": 3,
   "metadata": {
    "colab": {
     "base_uri": "https://localhost:8080/",
     "height": 17
    },
    "colab_type": "code",
    "id": "ucUWk8XBz0e5",
    "outputId": "465115c1-6496-48a2-ff30-47a93d1ceffe"
   },
   "outputs": [
    {
     "data": {
      "image/png": "[encoded data removed]",
      "text/plain": [
       "<Figure size 432x288 with 1 Axes>"
      ]
     },
     "metadata": {
      "needs_background": "light"
     },
     "output_type": "display_data"
    }
   ],
   "source": [
    "import numpy as np\n",
    "import matplotlib.pyplot as plt\n",
    "# from google.colab import files\n",
    "\n",
    "import matplotlib\n",
    "from matplotlib import rc\n",
    "import matplotlib.pyplot as plt\n",
    "%matplotlib inline\n",
    "\n",
    "# matplotlib.use(\"pgf\")\n",
    "# matplotlib.rcParams.update({\n",
    "#     \"pgf.texsystem\": \"pdflatex\",\n",
    "#     'font.family': 'serif',\n",
    "#     'font.size': 16,\n",
    "#     'text.usetex': True,\n",
    "#     'pgf.rcfonts': False,\n",
    "# })\n",
    "\n",
    "origin_weight = np.arange(0, 1, 0.01)\n",
    "weight1 = np.exp(origin_weight)\n",
    "weight2 = np.exp(1-origin_weight)\n",
    "\n",
    "num_sampler = 16\n",
    "num_positive = np.rint(num_sampler*weight1/(weight1+weight2))\n",
    "num_negative = num_sampler - num_positive\n",
    "\n",
    "plt.plot(origin_weight, num_positive, label='Positive')\n",
    "plt.plot(origin_weight, num_negative, label='Negative')\n",
    "plt.xlabel('Tỷ lệ mẫu dương')\n",
    "plt.legend()\n",
    "plt.savefig('pos_neg_thuan.pdf')\n",
    "# files.download('pos_neg_thuan.pgf')\n",
    "# plt.show()"
   ]
  },
  {
   "cell_type": "code",
   "execution_count": null,
   "metadata": {
    "colab": {
     "base_uri": "https://localhost:8080/",
     "height": 138
    },
    "colab_type": "code",
    "id": "wP9lV-P_1W5d",
    "outputId": "8d2b7f67-a14b-4085-b2cd-3743fabd47bb"
   },
   "outputs": [
    {
     "name": "stdout",
     "output_type": "stream",
     "text": [
      "Copying data...\n",
      "Copied!\n",
      "    weight %  10   8  74   3  23  85  13   7   4   2  14   1   8  45   1  86  13  30   3   4  51  29   2  35  21  19  19  29  27   7  49  33  10   6  55\n",
      "           -   -   -   -   -   -   -   -   -   -   -   -   -   -   -   -   -   -   -   -   -   -   -   -   -   -   -   -   -   -   -   -   -   -   -   -\n",
      "    positive   4   4   9   4   5  10   5   4   4   4   5   4   4   7   4  10   5   6   4   4   8   6   4   6   5   5   5   6   6   4   7   6   4   4   8\n",
      "    negative  12  12   7  12  11   6  11  12  12  12  11  12  12   9  12   6  11  10  12  12   8  10  12  10  11  11  11  10  10  12   9  10  12  12   8\n"
     ]
    }
   ],
   "source": [
    "import numpy as np\n",
    "from data.image import build_datasource\n",
    "\n",
    "datasource = build_datasource('peta', '/datasets', True, True, use_tqdm=True)\n",
    "\n",
    "weight = datasource.get_weight('train')\n",
    "\n",
    "num_sampler = 16\n",
    "\n",
    "weight1 = np.exp(weight)\n",
    "weight2 = np.exp(1-weight)\n",
    "num_positive = (num_sampler*weight1/(weight1+weight2)).astype(int)\n",
    "num_negative = num_sampler - num_positive\n",
    "\n",
    "row_format = '{:>12}' + '{:>4}'*len(weight)\n",
    "print(row_format.format('weight %', *(weight*100).astype(int)))\n",
    "print(row_format.format(*['-']*len(weight),'-'))\n",
    "print(row_format.format('positive', *num_positive))\n",
    "print(row_format.format('negative', *num_negative))"
   ]
  },
  {
   "cell_type": "markdown",
   "metadata": {
    "colab_type": "text",
    "id": "-3-WiUqy8kPN"
   },
   "source": [
    "##### Kết quả"
   ]
  },
  {
   "cell_type": "code",
   "execution_count": null,
   "metadata": {
    "colab": {
     "base_uri": "https://localhost:8080/",
     "height": 34
    },
    "colab_type": "code",
    "id": "2tvE_pzJ1W5f",
    "outputId": "f5d3b893-e099-46cf-8fcd-45f68cc40da1"
   },
   "outputs": [
    {
     "name": "stdout",
     "output_type": "stream",
     "text": [
      "Overwriting /content/config.yml\n"
     ]
    }
   ],
   "source": [
    "%%writefile /content/config.yml\n",
    "base: config/base_episode.yml\n",
    "\n",
    "model:\n",
    "  backbone: resnet50\n",
    "  pooling: gem_pooling\n",
    "  head: BNHead\n",
    "  bn_where: after\n",
    "  use_tqdm: True\n",
    "\n",
    "data:\n",
    "  name: peta\n",
    "  image_size: [256, 192]\n",
    "  sampler: RandomBatchSamplerAttributeWeight1\n",
    "  train:\n",
    "    num_attribute: 8\n",
    "    num_sampler: 16\n",
    "    num_iterator: 700\n",
    "  val:\n",
    "    num_attribute: 8\n",
    "    num_sampler: 16\n",
    "    num_iterator: 100\n",
    "  use_tqdm: True\n",
    "\n",
    "optimizer:\n",
    "  name: sgd\n",
    "  lr: 0.01\n",
    "  specified_lr:\n",
    "    enable: True\n",
    "    lr: 0.1\n",
    "    layers: [head]\n",
    "\n",
    "loss:\n",
    "  name: Singular_BCE\n",
    "  reduction: mean\n",
    "\n",
    "freeze:\n",
    "  enable: True\n",
    "  layers: [backbone]\n",
    "  epochs: 10\n",
    "\n",
    "lr_scheduler:\n",
    "  enable: True\n",
    "  name: ReduceLROnPlateau\n",
    "  factor: 0.1\n",
    "  patience: 10\n",
    "  min_lr: 0\n",
    "\n",
    "clip_grad_norm_:\n",
    "  enable: True\n",
    "  max_norm: 10.0\n",
    "\n",
    "trainer:\n",
    "  n_gpu: 1\n",
    "  epochs: 120\n",
    "    \n",
    "trainer_colab:\n",
    "  epochs: 120"
   ]
  },
  {
   "cell_type": "code",
   "execution_count": null,
   "metadata": {
    "colab": {
     "base_uri": "https://localhost:8080/",
     "height": 857
    },
    "colab_type": "code",
    "id": "UFAvjIR31W5i",
    "outputId": "44a1c64b-b38d-4c6d-8d25-dd2d9d716db6"
   },
   "outputs": [
    {
     "name": "stdout",
     "output_type": "stream",
     "text": [
      "2020-09-09 09:14:42.518505: I tensorflow/stream_executor/platform/default/dso_loader.cc:48] Successfully opened dynamic library libcudart.so.10.1\n",
      "Copying data...\n",
      "Copied!\n",
      "Loading checkpoint: /content/drive/My Drive/HIEN/Models/person_attribute_recognition/checkpoints/0823_094452/model_best_accuracy.pth ...\n",
      "100% 60/60 [00:42<00:00,  1.40it/s]\n",
      "instance-based metrics:\n",
      "accuracy: 0.7810\n",
      "precision: 0.8625\n",
      "recall: 0.8534\n",
      "f1_score: 0.8548\n",
      "class-based metrics:\n",
      "           attribute    weight  accuracy        mA precision    recall  f1_score\n",
      "                   -         -         -         -         -         -         -\n",
      "        accessoryHat      9.54     98.09     93.76     91.31     88.41     89.84\n",
      "    accessoryMuffler      8.32     99.24     96.42     97.67     93.04      95.3\n",
      "    accessoryNothing     75.55     90.47     87.47      94.0     93.35     93.67\n",
      " accessorySunglasses      2.87      96.7     76.71      44.0      55.5     49.09\n",
      "            hairLong     23.74     93.82     92.32     85.22     89.47     87.29\n",
      "     upperBodyCasual     85.46     93.58     88.24     96.69     95.77     96.23\n",
      "     upperBodyFormal     13.25     95.59      86.9      90.0     75.07     81.86\n",
      "     upperBodyJacket      7.03     95.42     80.83     68.75     63.86     66.21\n",
      "       upperBodyLogo      3.89     96.59     75.54     56.73      52.7     54.64\n",
      "      upperBodyPlaid      2.67     97.87      88.6     57.35     78.82     66.39\n",
      "upperBodyShortSleeve     14.34     94.59     91.38     77.94     86.88     82.17\n",
      "upperBodyThinStripes      1.66     98.22      79.2     47.17     59.52     52.63\n",
      "     upperBodyTshirt      8.42     94.91     85.02     68.52     73.12     70.75\n",
      "      upperBodyOther     45.47     87.68     87.36     88.49     83.83     86.09\n",
      "      upperBodyVNeck      1.05     98.13      76.8     29.33      55.0     38.26\n",
      "     lowerBodyCasual     86.13     94.16     87.97     96.68     96.53     96.61\n",
      "     lowerBodyFormal     13.72     95.11     85.31     90.57     71.81     80.11\n",
      "      lowerBodyJeans     30.46     89.13     87.52     81.37     83.41     82.38\n",
      "     lowerBodyShorts      3.43     97.32     85.68     58.77     73.18     65.19\n",
      " lowerBodyShortSkirt      4.62     96.43     88.78     58.26     80.34     67.54\n",
      "   lowerBodyTrousers     51.96     85.76     85.88     88.96     82.88     85.82\n",
      "footwearLeatherShoes     29.14     91.55     88.83     87.94      82.3     85.03\n",
      "     footwearSandals      1.89     97.12     78.44     34.69     59.03      43.7\n",
      "       footwearShoes      36.5     82.93     81.34     77.26     75.45     76.35\n",
      "     footwearSneaker     22.04     87.25     83.86     68.58     77.79      72.9\n",
      "    carryingBackpack      19.7     91.01      87.8     74.58      82.5     78.34\n",
      "       carryingOther     20.14     86.71     78.91     67.42     65.84     66.62\n",
      "carryingMessengerBag     29.93     87.34     85.04     78.61      79.3     78.95\n",
      "     carryingNothing     27.51     88.97     85.09     82.21     76.47     79.24\n",
      " carryingPlasticBags       7.7     97.05     88.53     82.41     78.46     80.39\n",
      "      personalLess30     50.41     87.82     87.81     87.33      88.7     88.01\n",
      "      personalLess45     32.12     86.83     83.93     81.83     75.83     78.72\n",
      "      personalLess60     10.25     96.28     87.46     85.73     76.38     80.79\n",
      "    personalLarger60      6.07     99.17     96.11     93.64     92.62     93.13\n",
      "        personalMale     54.57     92.57     92.77     95.57     90.57      93.0\n",
      "                   -         -         -         -         -         -         -\n",
      "                mean         -     93.18      86.1     76.16     78.11     76.66\n"
     ]
    }
   ],
   "source": [
    "!python3 test.py --config /content/config.yml --resume \"/content/drive/My Drive/HIEN/Models/person_attribute_recognition/checkpoints/0823_094452/model_best_accuracy.pth\""
   ]
  },
  {
   "cell_type": "markdown",
   "metadata": {
    "colab_type": "text",
    "id": "18R0QJaJ5pwp"
   },
   "source": [
    "##### So sánh với sampler88"
   ]
  },
  {
   "cell_type": "code",
   "execution_count": null,
   "metadata": {
    "colab": {
     "base_uri": "https://localhost:8080/",
     "height": 34
    },
    "colab_type": "code",
    "id": "71Ur88kR5pwq",
    "outputId": "71359d67-6293-4d6a-b2af-b99284ba78c3"
   },
   "outputs": [
    {
     "name": "stdout",
     "output_type": "stream",
     "text": [
      "Overwriting /content/config1.yml\n"
     ]
    }
   ],
   "source": [
    "%%writefile /content/config1.yml\n",
    "base: config/base_episode.yml\n",
    "\n",
    "model:\n",
    "  backbone: resnet50\n",
    "  pooling: gem_pooling\n",
    "  head: BNHead\n",
    "  bn_where: after\n",
    "  use_tqdm: True\n",
    "\n",
    "data:\n",
    "  name: peta\n",
    "  image_size: [256, 192]\n",
    "  train:\n",
    "    num_attribute: 8\n",
    "    num_positive: 8\n",
    "    num_negative: 8\n",
    "    num_iterator: 700\n",
    "  val:\n",
    "    num_attribute: 8\n",
    "    num_positive: 8\n",
    "    num_negative: 8\n",
    "    num_iterator: 100\n",
    "  use_tqdm: True\n",
    "\n",
    "optimizer:\n",
    "  name: sgd\n",
    "  lr: 0.01\n",
    "  specified_lr:\n",
    "    enable: True\n",
    "    lr: 0.1\n",
    "    layers: [head]\n",
    "\n",
    "loss:\n",
    "  name: Singular_BCE\n",
    "  reduction: mean\n",
    "\n",
    "freeze:\n",
    "  enable: True\n",
    "  layers: [backbone]\n",
    "  epochs: 10\n",
    "\n",
    "lr_scheduler:\n",
    "  enable: True\n",
    "  name: CosineAnnealingLR\n",
    "  max_iters: 120\n",
    "  eta_min_lr: 0\n",
    "\n",
    "clip_grad_norm_:\n",
    "  enable: True\n",
    "  max_norm: 10.0\n",
    "\n",
    "trainer:\n",
    "  n_gpu: 1\n",
    "  epochs: 200\n",
    "    \n",
    "trainer_colab:\n",
    "  epochs: 200"
   ]
  },
  {
   "cell_type": "code",
   "execution_count": null,
   "metadata": {
    "colab": {
     "base_uri": "https://localhost:8080/",
     "height": 34
    },
    "colab_type": "code",
    "id": "ePunDgeK5pwt",
    "outputId": "9fba5f1b-3359-41f5-e6b0-0644ee1a3d87"
   },
   "outputs": [
    {
     "name": "stdout",
     "output_type": "stream",
     "text": [
      "Overwriting /content/config2.yml\n"
     ]
    }
   ],
   "source": [
    "%%writefile /content/config2.yml\n",
    "base: config/base_episode.yml\n",
    "\n",
    "model:\n",
    "  backbone: resnet50\n",
    "  pooling: gem_pooling\n",
    "  head: BNHead\n",
    "  bn_where: after\n",
    "  use_tqdm: True\n",
    "\n",
    "data:\n",
    "  name: peta\n",
    "  sampler: RandomBatchSamplerAttributeWeight1\n",
    "  train:\n",
    "    num_attribute: 8\n",
    "    num_sampler: 16\n",
    "    num_iterator: 700\n",
    "  val:\n",
    "    num_attribute: 8\n",
    "    num_sampler: 16\n",
    "    num_iterator: 100\n",
    "  use_tqdm: True\n",
    "\n",
    "optimizer:\n",
    "  name: sgd\n",
    "  lr: 0.01\n",
    "  specified_lr:\n",
    "    enable: True\n",
    "    lr: 0.1\n",
    "    layers: [head]\n",
    "\n",
    "loss:\n",
    "  name: Singular_BCE\n",
    "  reduction: mean\n",
    "\n",
    "freeze:\n",
    "  enable: True\n",
    "  layers: [backbone]\n",
    "  epochs: 10\n",
    "\n",
    "lr_scheduler:\n",
    "  enable: True\n",
    "  name: ReduceLROnPlateau\n",
    "  factor: 0.1\n",
    "  patience: 10\n",
    "  min_lr: 0\n",
    "\n",
    "clip_grad_norm_:\n",
    "  enable: True\n",
    "  max_norm: 10.0\n",
    "\n",
    "trainer:\n",
    "  n_gpu: 1\n",
    "  epochs: 120\n",
    "    \n",
    "trainer_colab:\n",
    "  epochs: 120"
   ]
  },
  {
   "cell_type": "code",
   "execution_count": null,
   "metadata": {
    "colab": {
     "base_uri": "https://localhost:8080/",
     "height": 921,
     "referenced_widgets": [
      "614b02c0a7ef4678b3b7d736a5904382",
      "5c9028b285a14385a741c71c046dcc00",
      "202557a41d004e56afa0d111548ccef4",
      "de6926357dae4abb869feb6a71c38cd9",
      "2a9ca0e286394ddbbf4c87df0d0cc7a8",
      "5321248877154e7aaa9abfead53d8b6c",
      "d78817747d42477f89a7866d83b93a1c",
      "37460da57dac4f30a2d65aed172d5014",
      "fdc8c8e2676c455c86dbb4d55c515ea7",
      "1aa9fc9a171c471684842902899b097d",
      "0f10f902140a45388c75d3b5bacfe232",
      "9f69fa91950b497eb6af919e2dee8dd9",
      "a69c02cf64c64e42af1cf54a30418fa8",
      "dbb54cc7a5f349b2a82dcf5b408def03",
      "3cc48c8b902e471d9f8d3fa4cf86a8b3",
      "cc7fe89fc5364bf59d0b31b426d5db2b"
     ]
    },
    "colab_type": "code",
    "id": "tc32spG85pwv",
    "outputId": "4b7cdf43-e394-49d0-a19b-8daab80e83c0"
   },
   "outputs": [
    {
     "name": "stdout",
     "output_type": "stream",
     "text": [
      "Copying data...\n",
      "Copied!\n",
      "Copying data...\n",
      "Copied!\n",
      "Loading checkpoint: /content/drive/My Drive/HIEN/Models/person_attribute_recognition/checkpoints/0828_112607/model_last.pth ...\n"
     ]
    },
    {
     "data": {
      "application/vnd.jupyter.widget-view+json": {
       "model_id": "614b02c0a7ef4678b3b7d736a5904382",
       "version_major": 2,
       "version_minor": 0
      },
      "text/plain": [
       "HBox(children=(FloatProgress(value=0.0, max=60.0), HTML(value='')))"
      ]
     },
     "metadata": {
      "tags": []
     },
     "output_type": "display_data"
    },
    {
     "name": "stdout",
     "output_type": "stream",
     "text": [
      "\n",
      "Loading checkpoint: /content/drive/My Drive/HIEN/Models/person_attribute_recognition/checkpoints/0823_094452/model_best_accuracy.pth ...\n"
     ]
    },
    {
     "data": {
      "application/vnd.jupyter.widget-view+json": {
       "model_id": "fdc8c8e2676c455c86dbb4d55c515ea7",
       "version_major": 2,
       "version_minor": 0
      },
      "text/plain": [
       "HBox(children=(FloatProgress(value=0.0, max=60.0), HTML(value='')))"
      ]
     },
     "metadata": {
      "tags": []
     },
     "output_type": "display_data"
    },
    {
     "name": "stdout",
     "output_type": "stream",
     "text": [
      "\n",
      "\n",
      "           attribute      weight       accuracy          mA           precision        recall          f1_score\n",
      "                   -           -              -           -                   -             -                 -\n",
      "        accessoryHat        9.54     97.91|\u001b[94m98.09\u001b[0m\u001b[94m      94.4\u001b[0m|93.76     88.24|\u001b[94m91.31\u001b[0m\u001b[94m     90.07\u001b[0m|88.41     89.15|\u001b[94m89.84\u001b[0m\n",
      "    accessoryMuffler        8.32     99.18|\u001b[94m99.24\u001b[0m     96.39|\u001b[94m96.42\u001b[0m     97.03|\u001b[94m97.67\u001b[0m\u001b[94m     93.04\u001b[0m|\u001b[94m93.04\u001b[0m     94.99|\u001b[94m 95.3\u001b[0m\n",
      "    accessoryNothing       75.55\u001b[94m     92.66\u001b[0m|90.47\u001b[94m     87.91\u001b[0m|87.47     93.36|\u001b[94m 94.0\u001b[0m\u001b[94m      97.2\u001b[0m|93.35\u001b[94m     95.24\u001b[0m|93.67\n",
      " accessorySunglasses        2.87     96.12|\u001b[94m 96.7\u001b[0m\u001b[94m     77.97\u001b[0m|76.71     38.44|\u001b[94m 44.0\u001b[0m\u001b[94m     58.72\u001b[0m| 55.5     46.46|\u001b[94m49.09\u001b[0m\n",
      "            hairLong       23.74\u001b[94m     94.01\u001b[0m|93.82\u001b[94m     92.49\u001b[0m|92.32\u001b[94m     85.82\u001b[0m|85.22\u001b[94m     89.58\u001b[0m|89.47\u001b[94m     87.66\u001b[0m|87.29\n",
      "     upperBodyCasual       85.46\u001b[94m     94.38\u001b[0m|93.58     87.33|\u001b[94m88.24\u001b[0m     96.19|\u001b[94m96.69\u001b[0m\u001b[94m     97.27\u001b[0m|95.77\u001b[94m     96.73\u001b[0m|96.23\n",
      "     upperBodyFormal       13.25     95.03|\u001b[94m95.59\u001b[0m\u001b[94m     88.64\u001b[0m| 86.9     82.06|\u001b[94m 90.0\u001b[0m\u001b[94m     79.94\u001b[0m|75.07     80.99|\u001b[94m81.86\u001b[0m\n",
      "     upperBodyJacket        7.03     94.55|\u001b[94m95.42\u001b[0m\u001b[94m     82.79\u001b[0m|80.83     59.71|\u001b[94m68.75\u001b[0m\u001b[94m      69.1\u001b[0m|63.86     64.06|\u001b[94m66.21\u001b[0m\n",
      "       upperBodyLogo        3.89     95.64|\u001b[94m96.59\u001b[0m\u001b[94m     76.66\u001b[0m|75.54     45.23|\u001b[94m56.73\u001b[0m\u001b[94m     56.08\u001b[0m| 52.7     50.08|\u001b[94m54.64\u001b[0m\n",
      "      upperBodyPlaid        2.67\u001b[94m     97.87\u001b[0m|\u001b[94m97.87\u001b[0m\u001b[94m     90.04\u001b[0m| 88.6     57.04|\u001b[94m57.35\u001b[0m\u001b[94m     81.77\u001b[0m|78.82\u001b[94m     67.21\u001b[0m|66.39\n",
      "upperBodyShortSleeve       14.34\u001b[94m     94.61\u001b[0m|94.59\u001b[94m     91.54\u001b[0m|91.38     77.82|\u001b[94m77.94\u001b[0m\u001b[94m     87.25\u001b[0m|86.88\u001b[94m     82.27\u001b[0m|82.17\n",
      "upperBodyThinStripes        1.66     98.04|\u001b[94m98.22\u001b[0m\u001b[94m     80.28\u001b[0m| 79.2     43.58|\u001b[94m47.17\u001b[0m\u001b[94m      61.9\u001b[0m|59.52     51.15|\u001b[94m52.63\u001b[0m\n",
      "     upperBodyTshirt        8.42     94.14|\u001b[94m94.91\u001b[0m\u001b[94m     86.37\u001b[0m|85.02     62.33|\u001b[94m68.52\u001b[0m\u001b[94m     77.03\u001b[0m|73.12      68.9|\u001b[94m70.75\u001b[0m\n",
      "      upperBodyOther       45.47     87.62|\u001b[94m87.68\u001b[0m     87.32|\u001b[94m87.36\u001b[0m     88.19|\u001b[94m88.49\u001b[0m\u001b[94m     84.03\u001b[0m|83.83     86.06|\u001b[94m86.09\u001b[0m\n",
      "      upperBodyVNeck        1.05\u001b[94m     98.59\u001b[0m|98.13\u001b[94m     77.03\u001b[0m| 76.8\u001b[94m     38.26\u001b[0m|29.33\u001b[94m      55.0\u001b[0m|\u001b[94m 55.0\u001b[0m\u001b[94m     45.13\u001b[0m|38.26\n",
      "     lowerBodyCasual       86.13\u001b[94m     94.78\u001b[0m|94.16     87.22|\u001b[94m87.97\u001b[0m     96.31|\u001b[94m96.68\u001b[0m\u001b[94m     97.68\u001b[0m|96.53\u001b[94m     96.99\u001b[0m|96.61\n",
      "     lowerBodyFormal       13.72     94.96|\u001b[94m95.11\u001b[0m\u001b[94m     87.65\u001b[0m|85.31     84.45|\u001b[94m90.57\u001b[0m\u001b[94m     77.56\u001b[0m|71.81\u001b[94m     80.86\u001b[0m|80.11\n",
      "      lowerBodyJeans       30.46\u001b[94m     89.67\u001b[0m|89.13\u001b[94m      88.3\u001b[0m|87.52\u001b[94m     81.93\u001b[0m|81.37\u001b[94m     84.79\u001b[0m|83.41\u001b[94m     83.34\u001b[0m|82.38\n",
      "     lowerBodyShorts        3.43     97.04|\u001b[94m97.32\u001b[0m     85.16|\u001b[94m85.68\u001b[0m     55.26|\u001b[94m58.77\u001b[0m     72.41|\u001b[94m73.18\u001b[0m     62.69|\u001b[94m65.19\u001b[0m\n",
      " lowerBodyShortSkirt        4.62\u001b[94m     96.57\u001b[0m|96.43\u001b[94m     89.39\u001b[0m|88.78\u001b[94m     59.34\u001b[0m|58.26\u001b[94m     81.48\u001b[0m|80.34\u001b[94m     68.67\u001b[0m|67.54\n",
      "   lowerBodyTrousers       51.96\u001b[94m     87.24\u001b[0m|85.76\u001b[94m     87.17\u001b[0m|85.88     86.95|\u001b[94m88.96\u001b[0m\u001b[94m     88.76\u001b[0m|82.88\u001b[94m     87.84\u001b[0m|85.82\n",
      "footwearLeatherShoes       29.14     91.28|\u001b[94m91.55\u001b[0m\u001b[94m     89.25\u001b[0m|88.83      85.5|\u001b[94m87.94\u001b[0m\u001b[94m     84.38\u001b[0m| 82.3     84.94|\u001b[94m85.03\u001b[0m\n",
      "     footwearSandals        1.89     96.99|\u001b[94m97.12\u001b[0m\u001b[94m     79.05\u001b[0m|78.44     33.59|\u001b[94m34.69\u001b[0m\u001b[94m     60.42\u001b[0m|59.03     43.18|\u001b[94m 43.7\u001b[0m\n",
      "       footwearShoes        36.5      82.7|\u001b[94m82.93\u001b[0m\u001b[94m     81.83\u001b[0m|81.34     75.13|\u001b[94m77.26\u001b[0m\u001b[94m     78.62\u001b[0m|75.45\u001b[94m     76.84\u001b[0m|76.35\n",
      "     footwearSneaker       22.04\u001b[94m     87.43\u001b[0m|87.25\u001b[94m     84.73\u001b[0m|83.86      68.4|\u001b[94m68.58\u001b[0m\u001b[94m     79.88\u001b[0m|77.79\u001b[94m      73.7\u001b[0m| 72.9\n",
      "    carryingBackpack        19.7     90.32|\u001b[94m91.01\u001b[0m\u001b[94m      88.9\u001b[0m| 87.8     70.78|\u001b[94m74.58\u001b[0m\u001b[94m     86.57\u001b[0m| 82.5     77.88|\u001b[94m78.34\u001b[0m\n",
      "       carryingOther       20.14     86.66|\u001b[94m86.71\u001b[0m\u001b[94m     79.29\u001b[0m|78.91     66.86|\u001b[94m67.42\u001b[0m\u001b[94m     66.95\u001b[0m|65.84\u001b[94m     66.91\u001b[0m|66.62\n",
      "carryingMessengerBag       29.93\u001b[94m     87.97\u001b[0m|87.34\u001b[94m     85.63\u001b[0m|85.04\u001b[94m     79.99\u001b[0m|78.61\u001b[94m     79.78\u001b[0m| 79.3\u001b[94m     79.89\u001b[0m|78.95\n",
      "     carryingNothing       27.51      88.3|\u001b[94m88.97\u001b[0m\u001b[94m     86.61\u001b[0m|85.09     76.57|\u001b[94m82.21\u001b[0m\u001b[94m     82.83\u001b[0m|76.47\u001b[94m     79.58\u001b[0m|79.24\n",
      " carryingPlasticBags         7.7\u001b[94m     97.09\u001b[0m|97.05\u001b[94m     88.63\u001b[0m|88.53\u001b[94m     82.73\u001b[0m|82.41\u001b[94m     78.63\u001b[0m|78.46\u001b[94m     80.63\u001b[0m|80.39\n",
      "      personalLess30       50.41\u001b[94m     88.45\u001b[0m|87.82\u001b[94m     88.42\u001b[0m|87.81     86.47|\u001b[94m87.33\u001b[0m\u001b[94m     91.39\u001b[0m| 88.7\u001b[94m     88.86\u001b[0m|88.01\n",
      "      personalLess45       32.12\u001b[94m     86.88\u001b[0m|86.83\u001b[94m     85.43\u001b[0m|83.93     78.56|\u001b[94m81.83\u001b[0m\u001b[94m     81.36\u001b[0m|75.83\u001b[94m     79.94\u001b[0m|78.72\n",
      "      personalLess60       10.25     96.05|\u001b[94m96.28\u001b[0m      87.0|\u001b[94m87.46\u001b[0m     84.26|\u001b[94m85.73\u001b[0m     75.61|\u001b[94m76.38\u001b[0m      79.7|\u001b[94m80.79\u001b[0m\n",
      "    personalLarger60        6.07      99.0|\u001b[94m99.17\u001b[0m\u001b[94m     96.32\u001b[0m|96.11     90.53|\u001b[94m93.64\u001b[0m\u001b[94m     93.28\u001b[0m|92.62     91.88|\u001b[94m93.13\u001b[0m\n",
      "        personalMale       54.57\u001b[94m     93.51\u001b[0m|92.57\u001b[94m     93.29\u001b[0m|92.77     92.61|\u001b[94m95.57\u001b[0m\u001b[94m     95.76\u001b[0m|90.57\u001b[94m     94.16\u001b[0m| 93.0\n",
      "                   -           -         -|    -         -|    -         -|    -         -|    -         -|    -\n",
      "                mean           -\u001b[94m     93.24\u001b[0m|93.18\u001b[94m     86.76\u001b[0m| 86.1     73.99|\u001b[94m76.16\u001b[0m\u001b[94m     80.46\u001b[0m|78.11\u001b[94m      76.7\u001b[0m|76.66\n",
      "\n",
      "\n"
     ]
    }
   ],
   "source": [
    "import argparse\n",
    "import os\n",
    "import logging\n",
    "import torch\n",
    "import numpy as np\n",
    "\n",
    "from tqdm import tqdm\n",
    "from easydict import EasyDict\n",
    "\n",
    "from models import build_model\n",
    "from data import build_datamanager\n",
    "from logger import setup_logging\n",
    "from utils import read_config, rmdir, summary, array_interweave, COLOR\n",
    "from evaluators import recognition_metrics\n",
    "from evaluators.recognition_metrics import log_test, compare_class_based, test\n",
    "\n",
    "config1 = \"config1.yml\"\n",
    "config2 = \"config2.yml\"\n",
    "\n",
    "resume1 = \"/content/drive/My Drive/HIEN/Models/person_attribute_recognition/checkpoints/0828_112607/model_last.pth\"\n",
    "resume2 = \"/content/drive/My Drive/HIEN/Models/person_attribute_recognition/checkpoints/0823_094452/model_best_accuracy.pth\"\n",
    "\n",
    "config1 = read_config(config1)\n",
    "config1.update({'resume': resume1})\n",
    "config1.update({'colab': True})\n",
    "\n",
    "config2 = read_config(config2)\n",
    "config2.update({'resume': resume2})\n",
    "config2.update({'colab': True})\n",
    "\n",
    "datamanager1, _ = build_datamanager(config1['type'], config1['data'])\n",
    "datamanager2, _ = build_datamanager(config2['type'], config2['data'])\n",
    "\n",
    "# model1\n",
    "result_label1, result_instance1 = test(config1, datamanager1, print)\n",
    "\n",
    "# model 2\n",
    "result_label2, result_instance2 = test(config2, datamanager2, print)\n",
    "print()\n",
    "compare_class_based(print, datamanager1.datasource.get_attribute(), datamanager1.datasource.get_weight('test'), result_label1, result_label2, COLOR.BLUE)\n",
    "print()\n",
    "print()"
   ]
  },
  {
   "cell_type": "code",
   "execution_count": null,
   "metadata": {
    "colab": {
     "base_uri": "https://localhost:8080/",
     "height": 17
    },
    "colab_type": "code",
    "id": "Z2oZ_AerVTRS",
    "outputId": "e18e4956-fbb1-414a-955b-b19ee6b65e01"
   },
   "outputs": [
    {
     "data": {
      "application/javascript": [
       "\n",
       "    async function download(id, filename, size) {\n",
       "      if (!google.colab.kernel.accessAllowed) {\n",
       "        return;\n",
       "      }\n",
       "      const div = document.createElement('div');\n",
       "      const label = document.createElement('label');\n",
       "      label.textContent = `Downloading \"${filename}\": `;\n",
       "      div.appendChild(label);\n",
       "      const progress = document.createElement('progress');\n",
       "      progress.max = size;\n",
       "      div.appendChild(progress);\n",
       "      document.body.appendChild(div);\n",
       "\n",
       "      const buffers = [];\n",
       "      let downloaded = 0;\n",
       "\n",
       "      const channel = await google.colab.kernel.comms.open(id);\n",
       "      // Send a message to notify the kernel that we're ready.\n",
       "      channel.send({})\n",
       "\n",
       "      for await (const message of channel.messages) {\n",
       "        // Send a message to notify the kernel that we're ready.\n",
       "        channel.send({})\n",
       "        if (message.buffers) {\n",
       "          for (const buffer of message.buffers) {\n",
       "            buffers.push(buffer);\n",
       "            downloaded += buffer.byteLength;\n",
       "            progress.value = downloaded;\n",
       "          }\n",
       "        }\n",
       "      }\n",
       "      const blob = new Blob(buffers, {type: 'application/binary'});\n",
       "      const a = document.createElement('a');\n",
       "      a.href = window.URL.createObjectURL(blob);\n",
       "      a.download = filename;\n",
       "      div.appendChild(a);\n",
       "      a.click();\n",
       "      div.remove();\n",
       "    }\n",
       "  "
      ],
      "text/plain": [
       "<IPython.core.display.Javascript object>"
      ]
     },
     "metadata": {
      "tags": []
     },
     "output_type": "display_data"
    },
    {
     "data": {
      "application/javascript": [
       "download(\"download_8d99142b-918e-4f48-b9db-498c319d1784\", \"episode1_vs_episode3_thuan_accuracy.pgf\", 52368)"
      ],
      "text/plain": [
       "<IPython.core.display.Javascript object>"
      ]
     },
     "metadata": {
      "tags": []
     },
     "output_type": "display_data"
    },
    {
     "data": {
      "application/javascript": [
       "\n",
       "    async function download(id, filename, size) {\n",
       "      if (!google.colab.kernel.accessAllowed) {\n",
       "        return;\n",
       "      }\n",
       "      const div = document.createElement('div');\n",
       "      const label = document.createElement('label');\n",
       "      label.textContent = `Downloading \"${filename}\": `;\n",
       "      div.appendChild(label);\n",
       "      const progress = document.createElement('progress');\n",
       "      progress.max = size;\n",
       "      div.appendChild(progress);\n",
       "      document.body.appendChild(div);\n",
       "\n",
       "      const buffers = [];\n",
       "      let downloaded = 0;\n",
       "\n",
       "      const channel = await google.colab.kernel.comms.open(id);\n",
       "      // Send a message to notify the kernel that we're ready.\n",
       "      channel.send({})\n",
       "\n",
       "      for await (const message of channel.messages) {\n",
       "        // Send a message to notify the kernel that we're ready.\n",
       "        channel.send({})\n",
       "        if (message.buffers) {\n",
       "          for (const buffer of message.buffers) {\n",
       "            buffers.push(buffer);\n",
       "            downloaded += buffer.byteLength;\n",
       "            progress.value = downloaded;\n",
       "          }\n",
       "        }\n",
       "      }\n",
       "      const blob = new Blob(buffers, {type: 'application/binary'});\n",
       "      const a = document.createElement('a');\n",
       "      a.href = window.URL.createObjectURL(blob);\n",
       "      a.download = filename;\n",
       "      div.appendChild(a);\n",
       "      a.click();\n",
       "      div.remove();\n",
       "    }\n",
       "  "
      ],
      "text/plain": [
       "<IPython.core.display.Javascript object>"
      ]
     },
     "metadata": {
      "tags": []
     },
     "output_type": "display_data"
    },
    {
     "data": {
      "application/javascript": [
       "download(\"download_16547ae1-02f2-4f99-966a-12a4a57bb07f\", \"episode1_vs_episode3_thuan_mean_accuracy.pgf\", 48123)"
      ],
      "text/plain": [
       "<IPython.core.display.Javascript object>"
      ]
     },
     "metadata": {
      "tags": []
     },
     "output_type": "display_data"
    },
    {
     "data": {
      "application/javascript": [
       "\n",
       "    async function download(id, filename, size) {\n",
       "      if (!google.colab.kernel.accessAllowed) {\n",
       "        return;\n",
       "      }\n",
       "      const div = document.createElement('div');\n",
       "      const label = document.createElement('label');\n",
       "      label.textContent = `Downloading \"${filename}\": `;\n",
       "      div.appendChild(label);\n",
       "      const progress = document.createElement('progress');\n",
       "      progress.max = size;\n",
       "      div.appendChild(progress);\n",
       "      document.body.appendChild(div);\n",
       "\n",
       "      const buffers = [];\n",
       "      let downloaded = 0;\n",
       "\n",
       "      const channel = await google.colab.kernel.comms.open(id);\n",
       "      // Send a message to notify the kernel that we're ready.\n",
       "      channel.send({})\n",
       "\n",
       "      for await (const message of channel.messages) {\n",
       "        // Send a message to notify the kernel that we're ready.\n",
       "        channel.send({})\n",
       "        if (message.buffers) {\n",
       "          for (const buffer of message.buffers) {\n",
       "            buffers.push(buffer);\n",
       "            downloaded += buffer.byteLength;\n",
       "            progress.value = downloaded;\n",
       "          }\n",
       "        }\n",
       "      }\n",
       "      const blob = new Blob(buffers, {type: 'application/binary'});\n",
       "      const a = document.createElement('a');\n",
       "      a.href = window.URL.createObjectURL(blob);\n",
       "      a.download = filename;\n",
       "      div.appendChild(a);\n",
       "      a.click();\n",
       "      div.remove();\n",
       "    }\n",
       "  "
      ],
      "text/plain": [
       "<IPython.core.display.Javascript object>"
      ]
     },
     "metadata": {
      "tags": []
     },
     "output_type": "display_data"
    },
    {
     "data": {
      "application/javascript": [
       "download(\"download_f21a02b9-66bb-4525-90ea-cc925f4ab58d\", \"episode1_vs_episode3_thuan_precision.pgf\", 52353)"
      ],
      "text/plain": [
       "<IPython.core.display.Javascript object>"
      ]
     },
     "metadata": {
      "tags": []
     },
     "output_type": "display_data"
    },
    {
     "data": {
      "application/javascript": [
       "\n",
       "    async function download(id, filename, size) {\n",
       "      if (!google.colab.kernel.accessAllowed) {\n",
       "        return;\n",
       "      }\n",
       "      const div = document.createElement('div');\n",
       "      const label = document.createElement('label');\n",
       "      label.textContent = `Downloading \"${filename}\": `;\n",
       "      div.appendChild(label);\n",
       "      const progress = document.createElement('progress');\n",
       "      progress.max = size;\n",
       "      div.appendChild(progress);\n",
       "      document.body.appendChild(div);\n",
       "\n",
       "      const buffers = [];\n",
       "      let downloaded = 0;\n",
       "\n",
       "      const channel = await google.colab.kernel.comms.open(id);\n",
       "      // Send a message to notify the kernel that we're ready.\n",
       "      channel.send({})\n",
       "\n",
       "      for await (const message of channel.messages) {\n",
       "        // Send a message to notify the kernel that we're ready.\n",
       "        channel.send({})\n",
       "        if (message.buffers) {\n",
       "          for (const buffer of message.buffers) {\n",
       "            buffers.push(buffer);\n",
       "            downloaded += buffer.byteLength;\n",
       "            progress.value = downloaded;\n",
       "          }\n",
       "        }\n",
       "      }\n",
       "      const blob = new Blob(buffers, {type: 'application/binary'});\n",
       "      const a = document.createElement('a');\n",
       "      a.href = window.URL.createObjectURL(blob);\n",
       "      a.download = filename;\n",
       "      div.appendChild(a);\n",
       "      a.click();\n",
       "      div.remove();\n",
       "    }\n",
       "  "
      ],
      "text/plain": [
       "<IPython.core.display.Javascript object>"
      ]
     },
     "metadata": {
      "tags": []
     },
     "output_type": "display_data"
    },
    {
     "data": {
      "application/javascript": [
       "download(\"download_b47b6576-9a1a-4974-8fa9-9b1e8dcaae75\", \"episode1_vs_episode3_thuan_recall.pgf\", 46705)"
      ],
      "text/plain": [
       "<IPython.core.display.Javascript object>"
      ]
     },
     "metadata": {
      "tags": []
     },
     "output_type": "display_data"
    },
    {
     "data": {
      "application/javascript": [
       "\n",
       "    async function download(id, filename, size) {\n",
       "      if (!google.colab.kernel.accessAllowed) {\n",
       "        return;\n",
       "      }\n",
       "      const div = document.createElement('div');\n",
       "      const label = document.createElement('label');\n",
       "      label.textContent = `Downloading \"${filename}\": `;\n",
       "      div.appendChild(label);\n",
       "      const progress = document.createElement('progress');\n",
       "      progress.max = size;\n",
       "      div.appendChild(progress);\n",
       "      document.body.appendChild(div);\n",
       "\n",
       "      const buffers = [];\n",
       "      let downloaded = 0;\n",
       "\n",
       "      const channel = await google.colab.kernel.comms.open(id);\n",
       "      // Send a message to notify the kernel that we're ready.\n",
       "      channel.send({})\n",
       "\n",
       "      for await (const message of channel.messages) {\n",
       "        // Send a message to notify the kernel that we're ready.\n",
       "        channel.send({})\n",
       "        if (message.buffers) {\n",
       "          for (const buffer of message.buffers) {\n",
       "            buffers.push(buffer);\n",
       "            downloaded += buffer.byteLength;\n",
       "            progress.value = downloaded;\n",
       "          }\n",
       "        }\n",
       "      }\n",
       "      const blob = new Blob(buffers, {type: 'application/binary'});\n",
       "      const a = document.createElement('a');\n",
       "      a.href = window.URL.createObjectURL(blob);\n",
       "      a.download = filename;\n",
       "      div.appendChild(a);\n",
       "      a.click();\n",
       "      div.remove();\n",
       "    }\n",
       "  "
      ],
      "text/plain": [
       "<IPython.core.display.Javascript object>"
      ]
     },
     "metadata": {
      "tags": []
     },
     "output_type": "display_data"
    },
    {
     "data": {
      "application/javascript": [
       "download(\"download_3a0022b1-c6cb-44ad-9c48-86b8b33a900e\", \"episode1_vs_episode3_thuan_f1_score.pgf\", 49529)"
      ],
      "text/plain": [
       "<IPython.core.display.Javascript object>"
      ]
     },
     "metadata": {
      "tags": []
     },
     "output_type": "display_data"
    }
   ],
   "source": [
    "tag = 'episode1_vs_episode3_thuan'\n",
    "\n",
    "import matplotlib\n",
    "from matplotlib import rc\n",
    "import matplotlib.pyplot as plt\n",
    "%matplotlib inline\n",
    "\n",
    "matplotlib.use(\"pgf\")\n",
    "matplotlib.rcParams.update({\n",
    "    \"pgf.texsystem\": \"pdflatex\",\n",
    "    'font.family': 'serif',\n",
    "    'text.usetex': True,\n",
    "    'pgf.rcfonts': False,\n",
    "})\n",
    "\n",
    "from matplotlib.patches import ConnectionPatch\n",
    "from matplotlib import rcParams\n",
    "from google.colab import files\n",
    "\n",
    "mapping_label = {'accuracy': 'Accuracy', 'mean_accuracy': 'mean Accuracy', 'precision': 'Precision', 'recall': 'Recall', 'f1_score': 'F1 score'}\n",
    "for metric in ['accuracy', 'mean_accuracy', 'precision', 'recall', 'f1_score']:\n",
    "    fig, (ax) = plt.subplots(1, 1, sharex=True)\n",
    "    alpha = result_label1[metric] > result_label2[metric]\n",
    "    ax.scatter(datamanager1.datasource.get_weight('test'), result_label1[metric]*100, color='r', label='Theo phân phối đều')\n",
    "    ax.scatter(datamanager1.datasource.get_weight('test'), result_label2[metric]*100, color='b', label='Theo trọng số')\n",
    "    ax.legend(loc='best')\n",
    "    ax.grid()\n",
    "    for i in range(len(datamanager1.datasource.get_weight('test'))):\n",
    "        x = datamanager1.datasource.get_weight('test')[i]\n",
    "        y1 = (result_label1[metric]*100)[i]\n",
    "        y2 = (result_label2[metric]*100)[i]\n",
    "        color = 'r' if y1 >= y2 else 'b'\n",
    "        xyA = (x, y1)\n",
    "        xyB = (x, y2)\n",
    "        coordsA = \"data\"\n",
    "        coordsB = \"data\"\n",
    "        con = ConnectionPatch(xyA=xyA, xyB=xyB, coordsA=coordsA, coordsB=coordsB, arrowstyle=\"-\")\n",
    "        ax.add_artist(con)\n",
    "\n",
    "    # plt.show()\n",
    "    ax.set_xlabel('Tỷ lệ mẫu dương')\n",
    "    ax.set_ylabel('{}'.format(mapping_label[metric]))\n",
    "    fig.savefig('{}_{}.pgf'.format(tag, metric), dpi=1200)\n",
    "    files.download('{}_{}.pgf'.format(tag, metric))\n",
    "    # fig.show()\n",
    "    plt.close()"
   ]
  },
  {
   "cell_type": "markdown",
   "metadata": {
    "colab_type": "text",
    "id": "EosB7F3_0YT1"
   },
   "source": [
    "##### so sánh với epoch-based training"
   ]
  },
  {
   "cell_type": "code",
   "execution_count": null,
   "metadata": {
    "colab": {
     "base_uri": "https://localhost:8080/",
     "height": 34
    },
    "colab_type": "code",
    "id": "1DqwwcZG0YT2",
    "outputId": "6ab6ce21-174e-4b33-abbe-89f59163fc17"
   },
   "outputs": [
    {
     "name": "stdout",
     "output_type": "stream",
     "text": [
      "Overwriting /content/config1.yml\n"
     ]
    }
   ],
   "source": [
    "%%writefile /content/config1.yml\n",
    "base: /content/config/base_epoch.yml\n",
    "\n",
    "model:\n",
    "  backbone: resnet50\n",
    "  pooling: gem_pooling\n",
    "  head: BNHead\n",
    "  bn_where: after\n",
    "  use_tqdm: True\n",
    "\n",
    "data:\n",
    "  data_dir: datasets\n",
    "  name: peta\n",
    "  batch_size: 64\n",
    "  use_tqdm: True\n",
    "\n",
    "optimizer:\n",
    "  name: adam\n",
    "  lr: 0.00035\n",
    "\n",
    "loss:\n",
    "  name: CEL_Sigmoid\n",
    "\n",
    "freeze:\n",
    "  enable: True\n",
    "  layers: [backbone]\n",
    "  epochs: 10\n",
    "\n",
    "lr_scheduler:\n",
    "  enable: True\n",
    "  name: WarmupMultiStepLR\n",
    "  steps: [30, 60, 90]\n",
    "  gamma: 0.1\n",
    "  warmup_factor: 0.01\n",
    "  warmup_iters: 10\n",
    "\n",
    "trainer:\n",
    "  n_gpu: 1\n",
    "  epochs: 120\n",
    "  \n",
    "trainer_colab:\n",
    "  epochs: 120"
   ]
  },
  {
   "cell_type": "code",
   "execution_count": null,
   "metadata": {
    "colab": {
     "base_uri": "https://localhost:8080/",
     "height": 34
    },
    "colab_type": "code",
    "id": "jKEWDe6U0YT4",
    "outputId": "c5be2527-28a7-4d35-cf03-9aa61e3d3c41"
   },
   "outputs": [
    {
     "name": "stdout",
     "output_type": "stream",
     "text": [
      "Overwriting /content/config2.yml\n"
     ]
    }
   ],
   "source": [
    "%%writefile /content/config2.yml\n",
    "base: config/base_episode.yml\n",
    "\n",
    "model:\n",
    "  backbone: resnet50\n",
    "  pooling: gem_pooling\n",
    "  head: BNHead\n",
    "  bn_where: after\n",
    "  use_tqdm: True\n",
    "\n",
    "data:\n",
    "  name: peta\n",
    "  sampler: RandomBatchSamplerAttributeWeight1\n",
    "  train:\n",
    "    num_attribute: 8\n",
    "    num_sampler: 16\n",
    "    num_iterator: 700\n",
    "  val:\n",
    "    num_attribute: 8\n",
    "    num_sampler: 16\n",
    "    num_iterator: 100\n",
    "  use_tqdm: True\n",
    "\n",
    "optimizer:\n",
    "  name: sgd\n",
    "  lr: 0.01\n",
    "  specified_lr:\n",
    "    enable: True\n",
    "    lr: 0.1\n",
    "    layers: [head]\n",
    "\n",
    "loss:\n",
    "  name: Singular_BCE\n",
    "  reduction: mean\n",
    "\n",
    "freeze:\n",
    "  enable: True\n",
    "  layers: [backbone]\n",
    "  epochs: 10\n",
    "\n",
    "lr_scheduler:\n",
    "  enable: True\n",
    "  name: ReduceLROnPlateau\n",
    "  factor: 0.1\n",
    "  patience: 10\n",
    "  min_lr: 0\n",
    "\n",
    "clip_grad_norm_:\n",
    "  enable: True\n",
    "  max_norm: 10.0\n",
    "\n",
    "trainer:\n",
    "  n_gpu: 1\n",
    "  epochs: 120\n",
    "    \n",
    "trainer_colab:\n",
    "  epochs: 120"
   ]
  },
  {
   "cell_type": "code",
   "execution_count": null,
   "metadata": {
    "colab": {
     "base_uri": "https://localhost:8080/",
     "height": 887,
     "referenced_widgets": [
      "8bd2d573cf304180a0d96cc2e160c19c",
      "8260dbda86ab430b9805b532d5c1b237",
      "ef2c735efb3349bdbecf0321628859e9",
      "5aeb47c6d5ca4346b790f58422cf791d",
      "ee9f9396d9a94747a62dffad115c0eb6",
      "ccb409c1029140458420de83d4766b3c",
      "f9e18d30562a4ecea6c87dc05ccab5c0",
      "1d239ccb705441fbb6fe1e41473c3f45",
      "ae8f214567e9452e8a48231226dc5846",
      "89898ef79695436ea1e41752a53630b2",
      "dcb48cef64cb4e679d7f216c483d29d2",
      "9b5bddbac1a14970a03ab928cea4d476",
      "c7df53c34c84465d98e7fef1485f5c75",
      "7b4622c85ae946c98aecc1b81171562e",
      "e6f73f148b5e4830aa854b6f37173058",
      "f746860c77414fbe9d3f525f1bbd4179"
     ]
    },
    "colab_type": "code",
    "id": "-kwl7tCw0YT6",
    "outputId": "6c652429-bc7f-4bfb-b7e5-e3e8bc0b272d"
   },
   "outputs": [
    {
     "name": "stdout",
     "output_type": "stream",
     "text": [
      "Copying data...\n",
      "Copied!\n",
      "Copying data...\n",
      "Copied!\n",
      "Loading checkpoint: /content/drive/My Drive/HIEN/Models/OSNet_Person_Attribute_Refactor/checkpoints/0731_232453/model_best_accuracy.pth ...\n"
     ]
    },
    {
     "data": {
      "application/vnd.jupyter.widget-view+json": {
       "model_id": "8bd2d573cf304180a0d96cc2e160c19c",
       "version_major": 2,
       "version_minor": 0
      },
      "text/plain": [
       "HBox(children=(FloatProgress(value=0.0, max=119.0), HTML(value='')))"
      ]
     },
     "metadata": {
      "tags": []
     },
     "output_type": "display_data"
    },
    {
     "name": "stdout",
     "output_type": "stream",
     "text": [
      "\n",
      "Loading checkpoint: /content/drive/My Drive/HIEN/Models/person_attribute_recognition/checkpoints/0823_094452/model_best_accuracy.pth ...\n"
     ]
    },
    {
     "data": {
      "application/vnd.jupyter.widget-view+json": {
       "model_id": "ae8f214567e9452e8a48231226dc5846",
       "version_major": 2,
       "version_minor": 0
      },
      "text/plain": [
       "HBox(children=(FloatProgress(value=0.0, max=60.0), HTML(value='')))"
      ]
     },
     "metadata": {
      "tags": []
     },
     "output_type": "display_data"
    },
    {
     "name": "stdout",
     "output_type": "stream",
     "text": [
      "\n",
      "\n",
      "           attribute      weight       accuracy          mA           precision        recall          f1_score\n",
      "                   -           -              -           -                   -             -                 -\n",
      "        accessoryHat        9.54\u001b[94m     98.18\u001b[0m|98.09\u001b[94m     93.81\u001b[0m|93.76\u001b[94m     92.23\u001b[0m|91.31\u001b[94m     88.41\u001b[0m|\u001b[94m88.41\u001b[0m\u001b[94m     90.28\u001b[0m|89.84\n",
      "    accessoryMuffler        8.32     99.11|\u001b[94m99.24\u001b[0m\u001b[94m     96.42\u001b[0m|\u001b[94m96.42\u001b[0m     95.93|\u001b[94m97.67\u001b[0m\u001b[94m      93.2\u001b[0m|93.04     94.54|\u001b[94m 95.3\u001b[0m\n",
      "    accessoryNothing       75.55\u001b[94m     92.68\u001b[0m|90.47\u001b[94m     87.59\u001b[0m|87.47     93.09|\u001b[94m 94.0\u001b[0m\u001b[94m     97.56\u001b[0m|93.35\u001b[94m     95.27\u001b[0m|93.67\n",
      " accessorySunglasses        2.87\u001b[94m     97.88\u001b[0m| 96.7     70.64|\u001b[94m76.71\u001b[0m\u001b[94m      72.8\u001b[0m| 44.0     41.74|\u001b[94m 55.5\u001b[0m\u001b[94m     53.06\u001b[0m|49.09\n",
      "            hairLong       23.74\u001b[94m     94.51\u001b[0m|93.82     92.05|\u001b[94m92.32\u001b[0m\u001b[94m     89.29\u001b[0m|85.22     87.36|\u001b[94m89.47\u001b[0m\u001b[94m     88.32\u001b[0m|87.29\n",
      "     upperBodyCasual       85.46\u001b[94m      94.8\u001b[0m|93.58     85.77|\u001b[94m88.24\u001b[0m     95.55|\u001b[94m96.69\u001b[0m\u001b[94m     98.51\u001b[0m|95.77\u001b[94m     97.01\u001b[0m|96.23\n",
      "     upperBodyFormal       13.25      95.5|\u001b[94m95.59\u001b[0m     86.43|\u001b[94m 86.9\u001b[0m\u001b[94m     90.21\u001b[0m| 90.0     74.08|\u001b[94m75.07\u001b[0m     81.35|\u001b[94m81.86\u001b[0m\n",
      "     upperBodyJacket        7.03\u001b[94m     96.03\u001b[0m|95.42     79.34|\u001b[94m80.83\u001b[0m\u001b[94m     78.43\u001b[0m|68.75     59.93|\u001b[94m63.86\u001b[0m\u001b[94m     67.94\u001b[0m|66.21\n",
      "       upperBodyLogo        3.89\u001b[94m     96.86\u001b[0m|96.59\u001b[94m     77.13\u001b[0m|75.54\u001b[94m     60.44\u001b[0m|56.73\u001b[94m     55.74\u001b[0m| 52.7\u001b[94m      58.0\u001b[0m|54.64\n",
      "      upperBodyPlaid        2.67\u001b[94m     98.76\u001b[0m|97.87     86.19|\u001b[94m 88.6\u001b[0m\u001b[94m     79.14\u001b[0m|57.35     72.91|\u001b[94m78.82\u001b[0m\u001b[94m      75.9\u001b[0m|66.39\n",
      "upperBodyShortSleeve       14.34\u001b[94m     95.41\u001b[0m|94.59     91.02|\u001b[94m91.38\u001b[0m\u001b[94m     83.41\u001b[0m|77.94     84.86|\u001b[94m86.88\u001b[0m\u001b[94m     84.13\u001b[0m|82.17\n",
      "upperBodyThinStripes        1.66\u001b[94m      98.8\u001b[0m|98.22     73.25|\u001b[94m 79.2\u001b[0m\u001b[94m     71.08\u001b[0m|47.17     46.83|\u001b[94m59.52\u001b[0m\u001b[94m     56.46\u001b[0m|52.63\n",
      "     upperBodyTshirt        8.42\u001b[94m     95.63\u001b[0m|94.91     83.85|\u001b[94m85.02\u001b[0m\u001b[94m     76.37\u001b[0m|68.52     69.69|\u001b[94m73.12\u001b[0m\u001b[94m     72.88\u001b[0m|70.75\n",
      "      upperBodyOther       45.47\u001b[94m     87.78\u001b[0m|87.68\u001b[94m     87.47\u001b[0m|87.36\u001b[94m     88.51\u001b[0m|88.49\u001b[94m     84.03\u001b[0m|83.83\u001b[94m     86.21\u001b[0m|86.09\n",
      "      upperBodyVNeck        1.05\u001b[94m      99.2\u001b[0m|98.13     63.11|\u001b[94m 76.8\u001b[0m\u001b[94m      91.3\u001b[0m|29.33     26.25|\u001b[94m 55.0\u001b[0m\u001b[94m     40.78\u001b[0m|38.26\n",
      "     lowerBodyCasual       86.13\u001b[94m     94.96\u001b[0m|94.16     85.17|\u001b[94m87.97\u001b[0m     95.58|\u001b[94m96.68\u001b[0m\u001b[94m     98.72\u001b[0m|96.53\u001b[94m     97.12\u001b[0m|96.61\n",
      "     lowerBodyFormal       13.72\u001b[94m      95.2\u001b[0m|95.11\u001b[94m     85.73\u001b[0m|85.31     90.45|\u001b[94m90.57\u001b[0m\u001b[94m     72.67\u001b[0m|71.81\u001b[94m      80.6\u001b[0m|80.11\n",
      "      lowerBodyJeans       30.46\u001b[94m     90.18\u001b[0m|89.13\u001b[94m     87.94\u001b[0m|87.52\u001b[94m     85.07\u001b[0m|81.37      82.2|\u001b[94m83.41\u001b[0m\u001b[94m     83.61\u001b[0m|82.38\n",
      "     lowerBodyShorts        3.43\u001b[94m     97.71\u001b[0m|97.32     81.45|\u001b[94m85.68\u001b[0m\u001b[94m     67.61\u001b[0m|58.77     63.98|\u001b[94m73.18\u001b[0m\u001b[94m     65.75\u001b[0m|65.19\n",
      " lowerBodyShortSkirt        4.62\u001b[94m     97.59\u001b[0m|96.43      84.5|\u001b[94m88.78\u001b[0m\u001b[94m     75.93\u001b[0m|58.26     70.09|\u001b[94m80.34\u001b[0m\u001b[94m     72.89\u001b[0m|67.54\n",
      "   lowerBodyTrousers       51.96\u001b[94m     86.99\u001b[0m|85.76\u001b[94m     86.96\u001b[0m|85.88     87.37|\u001b[94m88.96\u001b[0m\u001b[94m     87.62\u001b[0m|82.88\u001b[94m      87.5\u001b[0m|85.82\n",
      "footwearLeatherShoes       29.14\u001b[94m     91.97\u001b[0m|91.55\u001b[94m     89.02\u001b[0m|88.83\u001b[94m     89.63\u001b[0m|87.94     81.94|\u001b[94m 82.3\u001b[0m\u001b[94m     85.61\u001b[0m|85.03\n",
      "     footwearSandals        1.89\u001b[94m     98.08\u001b[0m|97.12     72.12|\u001b[94m78.44\u001b[0m\u001b[94m     49.24\u001b[0m|34.69     45.14|\u001b[94m59.03\u001b[0m\u001b[94m      47.1\u001b[0m| 43.7\n",
      "       footwearShoes        36.5\u001b[94m     83.24\u001b[0m|82.93\u001b[94m     82.32\u001b[0m|81.34     76.06|\u001b[94m77.26\u001b[0m\u001b[94m     78.91\u001b[0m|75.45\u001b[94m     77.46\u001b[0m|76.35\n",
      "     footwearSneaker       22.04\u001b[94m     88.34\u001b[0m|87.25      80.1|\u001b[94m83.86\u001b[0m\u001b[94m     78.16\u001b[0m|68.58     65.37|\u001b[94m77.79\u001b[0m      71.2|\u001b[94m 72.9\u001b[0m\n",
      "    carryingBackpack        19.7\u001b[94m     92.46\u001b[0m|91.01\u001b[94m      88.1\u001b[0m| 87.8\u001b[94m     80.84\u001b[0m|74.58      80.9|\u001b[94m 82.5\u001b[0m\u001b[94m     80.87\u001b[0m|78.34\n",
      "       carryingOther       20.14\u001b[94m     88.45\u001b[0m|86.71     78.68|\u001b[94m78.91\u001b[0m\u001b[94m     76.02\u001b[0m|67.42     62.31|\u001b[94m65.84\u001b[0m\u001b[94m     68.49\u001b[0m|66.62\n",
      "carryingMessengerBag       29.93\u001b[94m     88.87\u001b[0m|87.34\u001b[94m     85.76\u001b[0m|85.04\u001b[94m     83.69\u001b[0m|78.61     78.02|\u001b[94m 79.3\u001b[0m\u001b[94m     80.76\u001b[0m|78.95\n",
      "     carryingNothing       27.51\u001b[94m     89.62\u001b[0m|88.97\u001b[94m      85.7\u001b[0m|85.09\u001b[94m     83.94\u001b[0m|82.21\u001b[94m      77.0\u001b[0m|76.47\u001b[94m     80.32\u001b[0m|79.24\n",
      " carryingPlasticBags         7.7\u001b[94m     97.54\u001b[0m|97.05     87.78|\u001b[94m88.53\u001b[0m\u001b[94m     90.28\u001b[0m|82.41     76.24|\u001b[94m78.46\u001b[0m\u001b[94m     82.67\u001b[0m|80.39\n",
      "      personalLess30       50.41\u001b[94m     88.88\u001b[0m|87.82\u001b[94m     88.87\u001b[0m|87.81\u001b[94m     88.11\u001b[0m|87.33\u001b[94m     90.11\u001b[0m| 88.7\u001b[94m      89.1\u001b[0m|88.01\n",
      "      personalLess45       32.12\u001b[94m     87.51\u001b[0m|86.83\u001b[94m     85.06\u001b[0m|83.93\u001b[94m     82.07\u001b[0m|81.83\u001b[94m     78.21\u001b[0m|75.83\u001b[94m     80.09\u001b[0m|78.72\n",
      "      personalLess60       10.25     96.26|\u001b[94m96.28\u001b[0m\u001b[94m     87.63\u001b[0m|87.46     85.31|\u001b[94m85.73\u001b[0m\u001b[94m     76.77\u001b[0m|76.38\u001b[94m     80.81\u001b[0m|80.79\n",
      "    personalLarger60        6.07\u001b[94m     99.33\u001b[0m|99.17     95.99|\u001b[94m96.11\u001b[0m\u001b[94m     96.59\u001b[0m|93.64     92.19|\u001b[94m92.62\u001b[0m\u001b[94m     94.34\u001b[0m|93.13\n",
      "        personalMale       54.57\u001b[94m     93.78\u001b[0m|92.57\u001b[94m     93.67\u001b[0m|92.77     93.86|\u001b[94m95.57\u001b[0m\u001b[94m     94.79\u001b[0m|90.57\u001b[94m     94.33\u001b[0m| 93.0\n",
      "                   -           -         -|    -         -|    -         -|    -         -|    -         -|    -\n",
      "                mean           -\u001b[94m     93.95\u001b[0m|93.18     84.76|\u001b[94m 86.1\u001b[0m\u001b[94m     83.25\u001b[0m|76.16     75.26|\u001b[94m78.11\u001b[0m\u001b[94m     78.36\u001b[0m|76.66\n"
     ]
    }
   ],
   "source": [
    "import os\n",
    "import argparse\n",
    "import logging\n",
    "import torch\n",
    "import numpy as np\n",
    "\n",
    "from tqdm import tqdm\n",
    "from easydict import EasyDict\n",
    "\n",
    "from models import build_model\n",
    "from data import build_datamanager\n",
    "from logger import setup_logging\n",
    "from utils import read_config, rmdir, summary, array_interweave, COLOR\n",
    "from evaluators import recognition_metrics\n",
    "from evaluators.recognition_metrics import log_test, compare_class_based, test\n",
    "\n",
    "config1 = \"config1.yml\"\n",
    "config2 = \"config2.yml\"\n",
    "\n",
    "resume1 = \"/content/drive/My Drive/HIEN/Models/OSNet_Person_Attribute_Refactor/checkpoints/0731_232453/model_best_accuracy.pth\"\n",
    "resume2 = \"/content/drive/My Drive/HIEN/Models/person_attribute_recognition/checkpoints/0823_094452/model_best_accuracy.pth\"\n",
    "\n",
    "config1 = read_config(config1)\n",
    "config1.update({'resume': resume1})\n",
    "config1.update({'colab': True})\n",
    "\n",
    "config2 = read_config(config2)\n",
    "config2.update({'resume': resume2})\n",
    "config2.update({'colab': True})\n",
    "\n",
    "datamanager1, _ = build_datamanager(config1['type'], config1['data'])\n",
    "datamanager2, _ = build_datamanager(config2['type'], config2['data'])\n",
    "\n",
    "# model1\n",
    "result_label1, result_instance1 = test(config1, datamanager1, print)\n",
    "\n",
    "# model 2\n",
    "result_label2, result_instance2 = test(config2, datamanager2, print)\n",
    "print()\n",
    "compare_class_based(print, datamanager1.datasource.get_attribute(), datamanager1.datasource.get_weight('test'), result_label1, result_label2, COLOR.BLUE)"
   ]
  },
  {
   "cell_type": "markdown",
   "metadata": {
    "colab_type": "text",
    "id": "gowi_zH85FI_"
   },
   "source": [
    "### Thay đổi cách chọn attribute"
   ]
  },
  {
   "cell_type": "markdown",
   "metadata": {
    "colab_type": "text",
    "id": "mUexDHxKcVwj"
   },
   "source": [
    "#### random attribute theo phân phối multinomial **(nghịch)**\n",
    "random attribute dựa theo trọng số của từng attribute đó. những **attribute có trọng số nhỏ** sẽ được **random ra nhiều hơn**, những **attribute có trọng số lớn** sẽ được **random ra ít hơn**. Mỗi attribute vẫn sẽ random ra 8 mẫu dương và 8 mẫu âm. **nghịch**"
   ]
  },
  {
   "cell_type": "code",
   "execution_count": null,
   "metadata": {
    "colab": {
     "base_uri": "https://localhost:8080/",
     "height": 34
    },
    "colab_type": "code",
    "id": "jND5TnkUpxGl",
    "outputId": "e05f60bd-17ac-4c78-c18d-9d08eecd51a8"
   },
   "outputs": [
    {
     "name": "stdout",
     "output_type": "stream",
     "text": [
      "50\n"
     ]
    },
    {
     "data": {
      "application/javascript": [
       "\n",
       "    async function download(id, filename, size) {\n",
       "      if (!google.colab.kernel.accessAllowed) {\n",
       "        return;\n",
       "      }\n",
       "      const div = document.createElement('div');\n",
       "      const label = document.createElement('label');\n",
       "      label.textContent = `Downloading \"${filename}\": `;\n",
       "      div.appendChild(label);\n",
       "      const progress = document.createElement('progress');\n",
       "      progress.max = size;\n",
       "      div.appendChild(progress);\n",
       "      document.body.appendChild(div);\n",
       "\n",
       "      const buffers = [];\n",
       "      let downloaded = 0;\n",
       "\n",
       "      const channel = await google.colab.kernel.comms.open(id);\n",
       "      // Send a message to notify the kernel that we're ready.\n",
       "      channel.send({})\n",
       "\n",
       "      for await (const message of channel.messages) {\n",
       "        // Send a message to notify the kernel that we're ready.\n",
       "        channel.send({})\n",
       "        if (message.buffers) {\n",
       "          for (const buffer of message.buffers) {\n",
       "            buffers.push(buffer);\n",
       "            downloaded += buffer.byteLength;\n",
       "            progress.value = downloaded;\n",
       "          }\n",
       "        }\n",
       "      }\n",
       "      const blob = new Blob(buffers, {type: 'application/binary'});\n",
       "      const a = document.createElement('a');\n",
       "      a.href = window.URL.createObjectURL(blob);\n",
       "      a.download = filename;\n",
       "      div.appendChild(a);\n",
       "      a.click();\n",
       "      div.remove();\n",
       "    }\n",
       "  "
      ],
      "text/plain": [
       "<IPython.core.display.Javascript object>"
      ]
     },
     "metadata": {
      "tags": []
     },
     "output_type": "display_data"
    },
    {
     "data": {
      "application/javascript": [
       "download(\"download_4da96940-cc7e-4c86-ab32-9108093a78bd\", \"attribute.pdf\", 23214)"
      ],
      "text/plain": [
       "<IPython.core.display.Javascript object>"
      ]
     },
     "metadata": {
      "tags": []
     },
     "output_type": "display_data"
    }
   ],
   "source": [
    "import torch\n",
    "import numpy as np\n",
    "import matplotlib.pyplot as plt\n",
    "import matplotlib.ticker as tick\n",
    "from google.colab import files\n",
    "\n",
    "origin_weight = np.arange(0, 1, 0.02)\n",
    "weight = np.exp(1-origin_weight)\n",
    "weight = weight / np.sum(weight)\n",
    "print(len(weight))\n",
    "\n",
    "result = torch.zeros(len(weight), dtype=torch.float)\n",
    "for x in range(1000000):\n",
    "    sampler = torch.multinomial(torch.tensor(weight), 8, replacement=True)\n",
    "    result[sampler] += 1\n",
    "# result /= torch.sum(result)\n",
    "result = result.numpy()\n",
    "\n",
    "fig = plt.figure()\n",
    "ax = fig.add_subplot(111)\n",
    "\n",
    "ax.plot(origin_weight, result)\n",
    "ax.set_xlabel('Tỷ lệ mẫu dương')\n",
    "ax.set_ylabel('số lần xuất hiện')\n",
    "ax.yaxis.set_major_formatter(tick.FormatStrFormatter('%.1e'))\n",
    "# plt.show()\n",
    "plt.savefig('attribute.pdf', dpi=1200)\n",
    "files.download('attribute.pdf')"
   ]
  },
  {
   "cell_type": "code",
   "execution_count": null,
   "metadata": {
    "colab": {
     "base_uri": "https://localhost:8080/",
     "height": 121
    },
    "colab_type": "code",
    "id": "8beslxHLNk7m",
    "outputId": "0010c01a-e411-4084-ac4b-5f5bcf78448c"
   },
   "outputs": [
    {
     "name": "stdout",
     "output_type": "stream",
     "text": [
      "Copying data...\n",
      "Copied!\n",
      "    weight %  10   8  74   3  23  85  13   7   4   2  14   1   8  45   1  86  13  30   3   4  51  29   2  35  21  19  19  29  27   7  49  33  10   6  55\n",
      "           -   -   -   -   -   -   -   -   -   -   -   -   -   -   -   -   -   -   -   -   -   -   -   -   -   -   -   -   -   -   -   -   -   -   -   -\n",
      "    result %2287190023283100126910002444050020254400115031002220360023477500241852002448430022162200246102002327610016682600248437001137170022212000190502002437130024085300157869001921510024624200181605002075160021034300210374001929690019574400233733001607920018593300229518002378630015239000\n"
     ]
    }
   ],
   "source": [
    "import torch\n",
    "import numpy as np\n",
    "from scipy.special import softmax\n",
    "from data.image import build_datasource\n",
    "\n",
    "datasource = build_datasource('peta', '/datasets', True, True, use_tqdm=True)\n",
    "\n",
    "origin_weight = datasource.get_weight('train')\n",
    "# print(origin_weight)\n",
    "weight = np.exp(1-np.array(origin_weight))\n",
    "weight = weight / np.sum(np.exp(np.array(origin_weight)))\n",
    "\n",
    "result = torch.zeros(len(weight), dtype=torch.float)\n",
    "for x in range(1000000):\n",
    "    sampler = torch.multinomial(torch.tensor(weight), 8, replacement=True)\n",
    "    result[sampler] += 1\n",
    "# result /= torch.sum(result)\n",
    "\n",
    "result *= 100\n",
    "result =  result.numpy().astype(int)\n",
    "row_format = '{:>12}' + '{:>4}'*len(weight)\n",
    "print(row_format.format('weight %', *(origin_weight*100).astype(int)))\n",
    "print(row_format.format(*['-']*len(weight),'-'))\n",
    "print(row_format.format('result %', *result.tolist()))"
   ]
  },
  {
   "cell_type": "markdown",
   "metadata": {
    "colab_type": "text",
    "id": "iDYpbFm68nts"
   },
   "source": [
    "##### Kết quả"
   ]
  },
  {
   "cell_type": "code",
   "execution_count": null,
   "metadata": {
    "colab": {
     "base_uri": "https://localhost:8080/",
     "height": 34
    },
    "colab_type": "code",
    "id": "UiVFQWa6cYuH",
    "outputId": "286e77bf-5641-4842-eb67-e69e7ce18c8d"
   },
   "outputs": [
    {
     "name": "stdout",
     "output_type": "stream",
     "text": [
      "Overwriting /content/config.yml\n"
     ]
    }
   ],
   "source": [
    "%%writefile /content/config.yml\n",
    "base: config/base_episode.yml\n",
    "\n",
    "model:\n",
    "  backbone: resnet50\n",
    "  pooling: gem_pooling\n",
    "  head: BNHead\n",
    "  bn_where: after\n",
    "  use_tqdm: True\n",
    "\n",
    "data:\n",
    "  name: peta\n",
    "  image_size: [256, 192]\n",
    "  sampler: RandomBatchSamplerAttribute\n",
    "  train:\n",
    "    num_attribute: 8\n",
    "    num_positive: 8\n",
    "    num_negative: 8\n",
    "    num_iterator: 700\n",
    "  val:\n",
    "    num_attribute: 8\n",
    "    num_positive: 8\n",
    "    num_negative: 8\n",
    "    num_iterator: 100\n",
    "  use_tqdm: True\n",
    "\n",
    "optimizer:\n",
    "  name: sgd\n",
    "  lr: 0.01\n",
    "  specified_lr:\n",
    "    enable: True\n",
    "    lr: 0.1\n",
    "    layers: [head]\n",
    "\n",
    "loss:\n",
    "  name: Singular_BCE\n",
    "  reduction: mean\n",
    "\n",
    "freeze:\n",
    "  enable: True\n",
    "  layers: [backbone]\n",
    "  epochs: 10\n",
    "\n",
    "lr_scheduler:\n",
    "  enable: True\n",
    "  name: ReduceLROnPlateau\n",
    "  factor: 0.1\n",
    "  patience: 10\n",
    "  min_lr: 0\n",
    "\n",
    "clip_grad_norm_:\n",
    "  enable: True\n",
    "  max_norm: 10.0\n",
    "\n",
    "trainer:\n",
    "  n_gpu: 1\n",
    "  epochs: 200\n",
    "    \n",
    "trainer_colab:\n",
    "  epochs: 200"
   ]
  },
  {
   "cell_type": "code",
   "execution_count": null,
   "metadata": {
    "colab": {
     "base_uri": "https://localhost:8080/",
     "height": 655
    },
    "colab_type": "code",
    "id": "BZLR0BFlcYuL",
    "outputId": "54a724a4-a09c-45d6-a33c-58bd87f1dae3"
   },
   "outputs": [
    {
     "name": "stdout",
     "output_type": "stream",
     "text": [
      "2020-09-09 09:20:19.739949: I tensorflow/stream_executor/platform/default/dso_loader.cc:48] Successfully opened dynamic library libcudart.so.10.1\n",
      "Traceback (most recent call last):\n",
      "  File \"test.py\", line 120, in <module>\n",
      "    config = read_config(args.config)\n",
      "  File \"/content/utils/util.py\", line 35, in read_config\n",
      "    new_config = yaml.safe_load(open(path_config))\n",
      "  File \"/usr/local/lib/python3.6/dist-packages/yaml/__init__.py\", line 94, in safe_load\n",
      "    return load(stream, SafeLoader)\n",
      "  File \"/usr/local/lib/python3.6/dist-packages/yaml/__init__.py\", line 72, in load\n",
      "    return loader.get_single_data()\n",
      "  File \"/usr/local/lib/python3.6/dist-packages/yaml/constructor.py\", line 35, in get_single_data\n",
      "    node = self.get_single_node()\n",
      "  File \"/usr/local/lib/python3.6/dist-packages/yaml/composer.py\", line 36, in get_single_node\n",
      "    document = self.compose_document()\n",
      "  File \"/usr/local/lib/python3.6/dist-packages/yaml/composer.py\", line 55, in compose_document\n",
      "    node = self.compose_node(None, None)\n",
      "  File \"/usr/local/lib/python3.6/dist-packages/yaml/composer.py\", line 84, in compose_node\n",
      "    node = self.compose_mapping_node(anchor)\n",
      "  File \"/usr/local/lib/python3.6/dist-packages/yaml/composer.py\", line 133, in compose_mapping_node\n",
      "    item_value = self.compose_node(node, item_key)\n",
      "  File \"/usr/local/lib/python3.6/dist-packages/yaml/composer.py\", line 84, in compose_node\n",
      "    node = self.compose_mapping_node(anchor)\n",
      "  File \"/usr/local/lib/python3.6/dist-packages/yaml/composer.py\", line 127, in compose_mapping_node\n",
      "    while not self.check_event(MappingEndEvent):\n",
      "  File \"/usr/local/lib/python3.6/dist-packages/yaml/parser.py\", line 98, in check_event\n",
      "    self.current_event = self.state()\n",
      "  File \"/usr/local/lib/python3.6/dist-packages/yaml/parser.py\", line 428, in parse_block_mapping_key\n",
      "    if self.check_token(KeyToken):\n",
      "  File \"/usr/local/lib/python3.6/dist-packages/yaml/scanner.py\", line 115, in check_token\n",
      "    while self.need_more_tokens():\n",
      "  File \"/usr/local/lib/python3.6/dist-packages/yaml/scanner.py\", line 149, in need_more_tokens\n",
      "    self.stale_possible_simple_keys()\n",
      "  File \"/usr/local/lib/python3.6/dist-packages/yaml/scanner.py\", line 289, in stale_possible_simple_keys\n",
      "    \"could not find expected ':'\", self.get_mark())\n",
      "yaml.scanner.ScannerError: while scanning a simple key\n",
      "  in \"/content/config.yml\", line 58, column 1\n",
      "could not find expected ':'\n",
      "  in \"/content/config.yml\", line 59, column 9\n"
     ]
    }
   ],
   "source": [
    "!python3 test.py --config /content/config.yml --resume \"/content/drive/My Drive/HIEN/Models/person_attribute_recognition/checkpoints/0818_231857/model_best_accuracy.pth\""
   ]
  },
  {
   "cell_type": "markdown",
   "metadata": {
    "colab_type": "text",
    "id": "f4tQbX3uy6oK"
   },
   "source": [
    "##### so sánh"
   ]
  },
  {
   "cell_type": "code",
   "execution_count": null,
   "metadata": {
    "colab": {
     "base_uri": "https://localhost:8080/",
     "height": 34
    },
    "colab_type": "code",
    "id": "MQ2QGf4oy_PO",
    "outputId": "82c6d9b6-76ff-454a-99d8-4a74d7f5fb98"
   },
   "outputs": [
    {
     "name": "stdout",
     "output_type": "stream",
     "text": [
      "Overwriting /content/config1.yml\n"
     ]
    }
   ],
   "source": [
    "%%writefile /content/config1.yml\n",
    "base: /content/config/base_epoch.yml\n",
    "\n",
    "model:\n",
    "  backbone: resnet50\n",
    "  pooling: gem_pooling\n",
    "  head: BNHead\n",
    "  bn_where: after\n",
    "  use_tqdm: True\n",
    "\n",
    "data:\n",
    "  data_dir: datasets\n",
    "  name: peta\n",
    "  batch_size: 64\n",
    "  use_tqdm: True\n",
    "\n",
    "optimizer:\n",
    "  name: adam\n",
    "  lr: 0.00035\n",
    "\n",
    "loss:\n",
    "  name: CEL_Sigmoid\n",
    "\n",
    "freeze:\n",
    "  enable: True\n",
    "  layers: [backbone]\n",
    "  epochs: 10\n",
    "\n",
    "lr_scheduler:\n",
    "  enable: True\n",
    "  name: WarmupMultiStepLR\n",
    "  steps: [30, 60, 90]\n",
    "  gamma: 0.1\n",
    "  warmup_factor: 0.01\n",
    "  warmup_iters: 10\n",
    "\n",
    "trainer:\n",
    "  n_gpu: 1\n",
    "  epochs: 120\n",
    "  \n",
    "trainer_colab:\n",
    "  epochs: 120"
   ]
  },
  {
   "cell_type": "code",
   "execution_count": null,
   "metadata": {
    "colab": {
     "base_uri": "https://localhost:8080/",
     "height": 34
    },
    "colab_type": "code",
    "id": "_WjJN7SwzGvQ",
    "outputId": "b1de7cd6-7268-414d-c5e7-be0dc4fdc35d"
   },
   "outputs": [
    {
     "name": "stdout",
     "output_type": "stream",
     "text": [
      "Overwriting /content/config2.yml\n"
     ]
    }
   ],
   "source": [
    "%%writefile /content/config2.yml\n",
    "base: config/base_episode.yml\n",
    "\n",
    "model:\n",
    "  backbone: resnet50\n",
    "  pooling: gem_pooling\n",
    "  head: BNHead\n",
    "  bn_where: after\n",
    "  use_tqdm: True\n",
    "\n",
    "data:\n",
    "  name: peta\n",
    "  image_size: [256, 192]\n",
    "  train:\n",
    "    num_attribute: 8\n",
    "    num_positive: 8\n",
    "    num_negative: 8\n",
    "    num_iterator: 700\n",
    "  val:\n",
    "    num_attribute: 8\n",
    "    num_positive: 8\n",
    "    num_negative: 8\n",
    "    num_iterator: 100\n",
    "  use_tqdm: True\n",
    "\n",
    "optimizer:\n",
    "  name: sgd\n",
    "  lr: 0.01\n",
    "  specified_lr:\n",
    "    enable: True\n",
    "    lr: 0.1\n",
    "    layers: [head]\n",
    "\n",
    "loss:\n",
    "  name: Singular_BCE\n",
    "  reduction: mean\n",
    "\n",
    "freeze:\n",
    "  enable: True\n",
    "  layers: [backbone]\n",
    "  epochs: 10\n",
    "\n",
    "lr_scheduler:\n",
    "  enable: True\n",
    "  name: CosineAnnealingLR\n",
    "  max_iters: 120\n",
    "  eta_min_lr: 0\n",
    "\n",
    "clip_grad_norm_:\n",
    "  enable: True\n",
    "  max_norm: 10.0\n",
    "\n",
    "trainer:\n",
    "  n_gpu: 1\n",
    "  epochs: 200\n",
    "    \n",
    "trainer_colab:\n",
    "  epochs: 200"
   ]
  },
  {
   "cell_type": "code",
   "execution_count": null,
   "metadata": {
    "colab": {
     "base_uri": "https://localhost:8080/",
     "height": 34
    },
    "colab_type": "code",
    "id": "jFf9-D28zKP6",
    "outputId": "3a366862-18fb-4595-874e-eda520687859"
   },
   "outputs": [
    {
     "name": "stdout",
     "output_type": "stream",
     "text": [
      "Writing /content/config3.yml\n"
     ]
    }
   ],
   "source": [
    "%%writefile /content/config3.yml\n",
    "base: config/base_episode.yml\n",
    "\n",
    "model:\n",
    "  backbone: resnet50\n",
    "  pooling: gem_pooling\n",
    "  head: BNHead\n",
    "  bn_where: after\n",
    "  use_tqdm: True\n",
    "\n",
    "data:\n",
    "  name: peta\n",
    "  image_size: [256, 192]\n",
    "  sampler: RandomBatchSamplerAttribute\n",
    "  train:\n",
    "    num_attribute: 8\n",
    "    num_positive: 8\n",
    "    num_negative: 8\n",
    "    num_iterator: 700\n",
    "  val:\n",
    "    num_attribute: 8\n",
    "    num_positive: 8\n",
    "    num_negative: 8\n",
    "    num_iterator: 100\n",
    "  use_tqdm: True\n",
    "\n",
    "optimizer:\n",
    "  name: sgd\n",
    "  lr: 0.01\n",
    "  specified_lr:\n",
    "    enable: True\n",
    "    lr: 0.1\n",
    "    layers: [head]\n",
    "\n",
    "loss:\n",
    "  name: Singular_BCE\n",
    "  reduction: mean\n",
    "\n",
    "freeze:\n",
    "  enable: True\n",
    "  layers: [backbone]\n",
    "  epochs: 10\n",
    "\n",
    "lr_scheduler:\n",
    "  enable: True\n",
    "  name: ReduceLROnPlateau\n",
    "  factor: 0.1\n",
    "  patience: 10\n",
    "  min_lr: 0\n",
    "\n",
    "clip_grad_norm_:\n",
    "  enable: True\n",
    "  max_norm: 10.0\n",
    "\n",
    "trainer:\n",
    "  n_gpu: 1\n",
    "  epochs: 200\n",
    "    \n",
    "trainer_colab:\n",
    "  epochs: 200"
   ]
  },
  {
   "cell_type": "code",
   "execution_count": null,
   "metadata": {
    "colab": {
     "base_uri": "https://localhost:8080/",
     "height": 1000,
     "referenced_widgets": [
      "26c77992ab6e43e6827adc3251112c2e",
      "547eda81e28841a5bc42d37cbb455084",
      "244c332ee96944c3af4a31e6805d750c",
      "6013282b693d47618725cc2e8454c0ac",
      "8f5fb70480b746f09661c2a8037986fc",
      "49c354fe11964d8fb02ec83afee137b8",
      "3c958c3ffa824acfb9b12d7bf9d0f120",
      "2ddc9f3c95204ea2adb94584fbdef482",
      "7c661b377cb14478b5445e20b8ee12b3",
      "5a81d50bbbcb434a92146bbbc5ae3b0b",
      "2517e49e801e4c24b1827a56c491ce4b",
      "c9f58a16e791495ab213ea36612c69c4",
      "e29334b5e39b4714966ce0874dc65358",
      "63d237b379584c6583190ec7f3b22d2f",
      "c2f0da5302f947d19561d58e9a79905c",
      "5cdae57953e94efe9c883994238283f3",
      "b69b66bbec394f36a882349be5b47ca7",
      "066ccb733209486592382d9faa3a7189",
      "e405e97b62dd42d8b75906cd30ce5020",
      "dbf055fef0d14134beac60986e324852",
      "9ce40aec42ea408da86190c4a2d940cb",
      "68fcc43b3eec47cd8b7f7aed8e32b2fa",
      "bd9db8630d68415c98439870592db308",
      "d76b5be187f349b3b54d6f30df888720"
     ]
    },
    "colab_type": "code",
    "id": "fvdD-Sf8zQE5",
    "outputId": "353f8a72-3457-407d-f3d3-66ec6d46b78a"
   },
   "outputs": [
    {
     "name": "stdout",
     "output_type": "stream",
     "text": [
      "Copying data...\n",
      "Copied!\n",
      "Copying data...\n",
      "Copied!\n",
      "Copying data...\n",
      "Copied!\n",
      "Loading checkpoint: /content/drive/My Drive/HIEN/Models/OSNet_Person_Attribute_Refactor/checkpoints/0731_232453/model_best_accuracy.pth ...\n"
     ]
    },
    {
     "data": {
      "application/vnd.jupyter.widget-view+json": {
       "model_id": "26c77992ab6e43e6827adc3251112c2e",
       "version_major": 2,
       "version_minor": 0
      },
      "text/plain": [
       "HBox(children=(FloatProgress(value=0.0, max=119.0), HTML(value='')))"
      ]
     },
     "metadata": {
      "tags": []
     },
     "output_type": "display_data"
    },
    {
     "name": "stdout",
     "output_type": "stream",
     "text": [
      "\n",
      "Loading checkpoint: /content/drive/My Drive/HIEN/Models/person_attribute_recognition/checkpoints/0828_112607/model_last.pth ...\n"
     ]
    },
    {
     "data": {
      "application/vnd.jupyter.widget-view+json": {
       "model_id": "7c661b377cb14478b5445e20b8ee12b3",
       "version_major": 2,
       "version_minor": 0
      },
      "text/plain": [
       "HBox(children=(FloatProgress(value=0.0, max=60.0), HTML(value='')))"
      ]
     },
     "metadata": {
      "tags": []
     },
     "output_type": "display_data"
    },
    {
     "name": "stdout",
     "output_type": "stream",
     "text": [
      "\n",
      "Loading checkpoint: /content/drive/My Drive/HIEN/Models/person_attribute_recognition/checkpoints/0818_231857/model_best_accuracy.pth ...\n"
     ]
    },
    {
     "data": {
      "application/vnd.jupyter.widget-view+json": {
       "model_id": "b69b66bbec394f36a882349be5b47ca7",
       "version_major": 2,
       "version_minor": 0
      },
      "text/plain": [
       "HBox(children=(FloatProgress(value=0.0, max=60.0), HTML(value='')))"
      ]
     },
     "metadata": {
      "tags": []
     },
     "output_type": "display_data"
    },
    {
     "name": "stdout",
     "output_type": "stream",
     "text": [
      "\n",
      "\n",
      "           attribute      weight         accuracy                  mA                precision              recall                f1_score\n",
      "                   -           -                -                   -                        -                   -                       -\n",
      "        accessoryHat        9.54\u001b[94m     98.18\u001b[0m|97.91|97.05     93.81| 94.4|\u001b[94m94.73\u001b[0m\u001b[94m     92.23\u001b[0m|88.24|80.14     88.41|90.07|\u001b[94m91.86\u001b[0m\u001b[94m     90.28\u001b[0m|89.15| 85.6\n",
      "    accessoryMuffler        8.32     99.11|\u001b[94m99.18\u001b[0m|97.32\u001b[94m     96.42\u001b[0m|96.39|95.95     95.93|\u001b[94m97.03\u001b[0m|78.01      93.2|93.04|\u001b[94m 94.3\u001b[0m     94.54|\u001b[94m94.99\u001b[0m|85.39\n",
      "    accessoryNothing       75.55\u001b[94m     92.68\u001b[0m|92.66|90.46     87.59|\u001b[94m87.91\u001b[0m|87.24     93.09|93.36|\u001b[94m93.82\u001b[0m\u001b[94m     97.56\u001b[0m| 97.2|93.54\u001b[94m     95.27\u001b[0m|95.24|93.68\n",
      " accessorySunglasses        2.87\u001b[94m     97.88\u001b[0m|96.12|94.21     70.64|77.97|\u001b[94m80.99\u001b[0m\u001b[94m      72.8\u001b[0m|38.44| 28.4     41.74|58.72|\u001b[94m66.97\u001b[0m\u001b[94m     53.06\u001b[0m|46.46|39.89\n",
      "            hairLong       23.74\u001b[94m     94.51\u001b[0m|94.01|92.17     92.05|92.49|\u001b[94m92.69\u001b[0m\u001b[94m     89.29\u001b[0m|85.82|77.84     87.36|89.58|\u001b[94m93.68\u001b[0m\u001b[94m     88.32\u001b[0m|87.66|85.03\n",
      "     upperBodyCasual       85.46\u001b[94m      94.8\u001b[0m|94.38|94.05     85.77|87.33|\u001b[94m87.66\u001b[0m     95.55|96.19|\u001b[94m96.38\u001b[0m\u001b[94m     98.51\u001b[0m|97.27|96.67\u001b[94m     97.01\u001b[0m|96.73|96.53\n",
      "     upperBodyFormal       13.25\u001b[94m      95.5\u001b[0m|95.03|94.95     86.43|88.64|\u001b[94m89.39\u001b[0m\u001b[94m     90.21\u001b[0m|82.06|80.39     74.08|79.94|\u001b[94m81.83\u001b[0m\u001b[94m     81.35\u001b[0m|80.99| 81.1\n",
      "     upperBodyJacket        7.03\u001b[94m     96.03\u001b[0m|94.55| 91.0     79.34|82.79|\u001b[94m84.25\u001b[0m\u001b[94m     78.43\u001b[0m|59.71|42.24     59.93| 69.1|\u001b[94m 76.4\u001b[0m\u001b[94m     67.94\u001b[0m|64.06| 54.4\n",
      "       upperBodyLogo        3.89\u001b[94m     96.86\u001b[0m|95.64|94.37     77.13|76.66|\u001b[94m 85.4\u001b[0m\u001b[94m     60.44\u001b[0m|45.23|38.62     55.74|56.08|\u001b[94m75.68\u001b[0m\u001b[94m      58.0\u001b[0m|50.08|51.14\n",
      "      upperBodyPlaid        2.67\u001b[94m     98.76\u001b[0m|97.87|96.14     86.19|90.04|\u001b[94m92.99\u001b[0m\u001b[94m     79.14\u001b[0m|57.04|40.09     72.91|81.77|\u001b[94m89.66\u001b[0m\u001b[94m      75.9\u001b[0m|67.21| 55.4\n",
      "upperBodyShortSleeve       14.34\u001b[94m     95.41\u001b[0m|94.61|93.08     91.02|91.54|\u001b[94m92.06\u001b[0m\u001b[94m     83.41\u001b[0m|77.82|69.97     84.86|87.25|\u001b[94m90.64\u001b[0m\u001b[94m     84.13\u001b[0m|82.27|78.98\n",
      "upperBodyThinStripes        1.66\u001b[94m      98.8\u001b[0m|98.04|96.67     73.25|80.28|\u001b[94m85.04\u001b[0m\u001b[94m     71.08\u001b[0m|43.58|29.58     46.83| 61.9|\u001b[94m73.02\u001b[0m\u001b[94m     56.46\u001b[0m|51.15|42.11\n",
      "     upperBodyTshirt        8.42\u001b[94m     95.63\u001b[0m|94.14|91.86     83.85|86.37|\u001b[94m90.37\u001b[0m\u001b[94m     76.37\u001b[0m|62.33|50.94     69.69|77.03|\u001b[94m88.59\u001b[0m\u001b[94m     72.88\u001b[0m| 68.9|64.69\n",
      "      upperBodyOther       45.47\u001b[94m     87.78\u001b[0m|87.62|86.32\u001b[94m     87.47\u001b[0m|87.32| 86.1\u001b[94m     88.51\u001b[0m|88.19| 85.8\u001b[94m     84.03\u001b[0m|84.03|83.77\u001b[94m     86.21\u001b[0m|86.06|84.77\n",
      "      upperBodyVNeck        1.05\u001b[94m      99.2\u001b[0m|98.59|96.18     63.11|77.03|\u001b[94m81.38\u001b[0m\u001b[94m      91.3\u001b[0m|38.26|16.77     26.25| 55.0|\u001b[94m66.25\u001b[0m     40.78|\u001b[94m45.13\u001b[0m|26.77\n",
      "     lowerBodyCasual       86.13\u001b[94m     94.96\u001b[0m|94.78|94.36     85.17|87.22|\u001b[94m88.56\u001b[0m     95.58|96.31|\u001b[94m96.86\u001b[0m\u001b[94m     98.72\u001b[0m|97.68|96.58\u001b[94m     97.12\u001b[0m|96.99|96.72\n",
      "     lowerBodyFormal       13.72\u001b[94m      95.2\u001b[0m|94.96|94.63     85.73|87.65|\u001b[94m88.62\u001b[0m\u001b[94m     90.45\u001b[0m|84.45| 80.5     72.67|77.56|\u001b[94m80.35\u001b[0m      80.6|\u001b[94m80.86\u001b[0m|80.42\n",
      "      lowerBodyJeans       30.46\u001b[94m     90.18\u001b[0m|89.67|87.45     87.94|\u001b[94m 88.3\u001b[0m|87.89\u001b[94m     85.07\u001b[0m|81.93|74.65      82.2|84.79|\u001b[94m89.03\u001b[0m\u001b[94m     83.61\u001b[0m|83.34|81.21\n",
      "     lowerBodyShorts        3.43\u001b[94m     97.71\u001b[0m|97.04|95.74     81.45|85.16|\u001b[94m88.37\u001b[0m\u001b[94m     67.61\u001b[0m|55.26|43.48     63.98|72.41|\u001b[94m80.46\u001b[0m\u001b[94m     65.75\u001b[0m|62.69|56.45\n",
      " lowerBodyShortSkirt        4.62\u001b[94m     97.59\u001b[0m|96.57|95.03      84.5|89.39|\u001b[94m89.94\u001b[0m\u001b[94m     75.93\u001b[0m|59.34|47.82     70.09|81.48|\u001b[94m84.33\u001b[0m\u001b[94m     72.89\u001b[0m|68.67|61.03\n",
      "   lowerBodyTrousers       51.96     86.99|\u001b[94m87.24\u001b[0m|85.71     86.96|\u001b[94m87.17\u001b[0m| 85.7\u001b[94m     87.37\u001b[0m|86.95|86.49     87.62|\u001b[94m88.76\u001b[0m|85.92      87.5|\u001b[94m87.84\u001b[0m| 86.2\n",
      "footwearLeatherShoes       29.14\u001b[94m     91.97\u001b[0m|91.28|90.45     89.02|\u001b[94m89.25\u001b[0m|89.11\u001b[94m     89.63\u001b[0m| 85.5|82.13     81.94|84.38|\u001b[94m85.91\u001b[0m\u001b[94m     85.61\u001b[0m|84.94|83.98\n",
      "     footwearSandals        1.89\u001b[94m     98.08\u001b[0m|96.99|96.04     72.12|79.05|\u001b[94m82.32\u001b[0m\u001b[94m     49.24\u001b[0m|33.59|27.76     45.14|60.42|\u001b[94m68.06\u001b[0m\u001b[94m      47.1\u001b[0m|43.18|39.44\n",
      "       footwearShoes        36.5\u001b[94m     83.24\u001b[0m| 82.7|79.57\u001b[94m     82.32\u001b[0m|81.83|79.92\u001b[94m     76.06\u001b[0m|75.13|68.58     78.91|78.62|\u001b[94m81.22\u001b[0m\u001b[94m     77.46\u001b[0m|76.84|74.37\n",
      "     footwearSneaker       22.04\u001b[94m     88.34\u001b[0m|87.43|85.08      80.1|84.73|\u001b[94m84.82\u001b[0m\u001b[94m     78.16\u001b[0m| 68.4|61.84     65.37|79.88|\u001b[94m84.36\u001b[0m      71.2|\u001b[94m 73.7\u001b[0m|71.36\n",
      "    carryingBackpack        19.7\u001b[94m     92.46\u001b[0m|90.32|88.79      88.1| 88.9|\u001b[94m89.21\u001b[0m\u001b[94m     80.84\u001b[0m|70.78|65.75      80.9|86.57|\u001b[94m89.91\u001b[0m\u001b[94m     80.87\u001b[0m|77.88|75.96\n",
      "       carryingOther       20.14\u001b[94m     88.45\u001b[0m|86.66|83.12     78.68|79.29|\u001b[94m80.52\u001b[0m\u001b[94m     76.02\u001b[0m|66.86|55.95     62.31|66.95|\u001b[94m76.16\u001b[0m\u001b[94m     68.49\u001b[0m|66.91|64.51\n",
      "carryingMessengerBag       29.93\u001b[94m     88.87\u001b[0m|87.97|86.42\u001b[94m     85.76\u001b[0m|85.63|84.58\u001b[94m     83.69\u001b[0m|79.99|75.93     78.02|79.78|\u001b[94m 80.0\u001b[0m\u001b[94m     80.76\u001b[0m|79.89|77.91\n",
      "     carryingNothing       27.51\u001b[94m     89.62\u001b[0m| 88.3| 87.3      85.7|\u001b[94m86.61\u001b[0m|86.05\u001b[94m     83.94\u001b[0m|76.57| 73.9      77.0|82.83|\u001b[94m83.26\u001b[0m\u001b[94m     80.32\u001b[0m|79.58| 78.3\n",
      " carryingPlasticBags         7.7\u001b[94m     97.54\u001b[0m|97.09|94.63     87.78|88.63|\u001b[94m90.59\u001b[0m\u001b[94m     90.28\u001b[0m|82.73| 60.7     76.24|78.63|\u001b[94m85.81\u001b[0m\u001b[94m     82.67\u001b[0m|80.63| 71.1\n",
      "      personalLess30       50.41\u001b[94m     88.88\u001b[0m|88.45| 87.8\u001b[94m     88.87\u001b[0m|88.42|87.79\u001b[94m     88.11\u001b[0m|86.47|86.76     90.11|\u001b[94m91.39\u001b[0m|89.45\u001b[94m      89.1\u001b[0m|88.86|88.09\n",
      "      personalLess45       32.12\u001b[94m     87.51\u001b[0m|86.88|85.28     85.06|\u001b[94m85.43\u001b[0m|84.54\u001b[94m     82.07\u001b[0m|78.56|74.45     78.21|81.36|\u001b[94m82.47\u001b[0m\u001b[94m     80.09\u001b[0m|79.94|78.25\n",
      "      personalLess60       10.25\u001b[94m     96.26\u001b[0m|96.05|94.05     87.63| 87.0|\u001b[94m88.67\u001b[0m\u001b[94m     85.31\u001b[0m|84.26|67.23     76.77|75.61|\u001b[94m 81.9\u001b[0m\u001b[94m     80.81\u001b[0m| 79.7|73.84\n",
      "    personalLarger60        6.07\u001b[94m     99.33\u001b[0m| 99.0|98.24     95.99|96.32|\u001b[94m97.03\u001b[0m\u001b[94m     96.59\u001b[0m|90.53|79.46     92.19|93.28|\u001b[94m95.66\u001b[0m\u001b[94m     94.34\u001b[0m|91.88|86.81\n",
      "        personalMale       54.57\u001b[94m     93.78\u001b[0m|93.51|92.95\u001b[94m     93.67\u001b[0m|93.29|92.93     93.86|92.61|\u001b[94m 93.9\u001b[0m     94.79|\u001b[94m95.76\u001b[0m|93.13\u001b[94m     94.33\u001b[0m|94.16|93.51\n",
      "                   -           -                -                   -                        -                   -                       -\n",
      "                mean           -\u001b[94m     93.95\u001b[0m|93.24|91.67     84.76|86.76|\u001b[94m87.81\u001b[0m\u001b[94m     83.25\u001b[0m|73.99|66.09     75.26|80.46|\u001b[94m84.48\u001b[0m\u001b[94m     78.36\u001b[0m| 76.7|72.71\n",
      "\n",
      "trái: train bằng episode; phải: train kết hợp episode và epoch\n"
     ]
    }
   ],
   "source": [
    "import os\n",
    "import argparse\n",
    "import logging\n",
    "import torch\n",
    "import numpy as np\n",
    "\n",
    "from tqdm import tqdm\n",
    "from easydict import EasyDict\n",
    "\n",
    "from models import build_model\n",
    "from data import build_datamanager\n",
    "from logger import setup_logging\n",
    "from utils import read_config, rmdir, summary, array_interweave, COLOR\n",
    "from evaluators import recognition_metrics\n",
    "from evaluators.recognition_metrics import log_test, compare_class_based, compare_class_based3, test\n",
    "\n",
    "config1 = \"config1.yml\"\n",
    "config2 = \"config2.yml\"\n",
    "config3 = \"config3.yml\"\n",
    "\n",
    "resume1 =  \"/content/drive/My Drive/HIEN/Models/OSNet_Person_Attribute_Refactor/checkpoints/0731_232453/model_best_accuracy.pth\"\n",
    "resume2 = \"/content/drive/My Drive/HIEN/Models/person_attribute_recognition/checkpoints/0828_112607/model_last.pth\"\n",
    "resume3 = \"/content/drive/My Drive/HIEN/Models/person_attribute_recognition/checkpoints/0818_231857/model_best_accuracy.pth\"\n",
    "\n",
    "config1 = read_config(config1)\n",
    "config1.update({'resume': resume1})\n",
    "config1.update({'colab': True})\n",
    "\n",
    "config2 = read_config(config2)\n",
    "config2.update({'resume': resume2})\n",
    "config2.update({'colab': True})\n",
    "\n",
    "config3 = read_config(config3)\n",
    "config3.update({'resume': resume3})\n",
    "config3.update({'colab': True})\n",
    "\n",
    "datamanager1, _ = build_datamanager(config1['type'], config1['data'])\n",
    "datamanager2, _ = build_datamanager(config2['type'], config2['data'])\n",
    "datamanager3, _ = build_datamanager(config3['type'], config3['data'])\n",
    "\n",
    "# model1\n",
    "result_label1, result_instance1 = test(config1, datamanager1, print)\n",
    "\n",
    "# model 2\n",
    "result_label2, result_instance2 = test(config2, datamanager2, print)\n",
    "\n",
    "# model1\n",
    "result_label3, result_instance3 = test(config3, datamanager3, print)\n",
    "\n",
    "print()\n",
    "compare_class_based3(print, datamanager1.datasource.get_attribute(), datamanager1.datasource.get_weight('test'), result_label1, result_label2, result_label3, COLOR.BLUE)\n",
    "print()\n",
    "print('trái: train bằng episode; phải: train kết hợp episode và epoch')"
   ]
  },
  {
   "cell_type": "code",
   "execution_count": null,
   "metadata": {
    "colab": {
     "base_uri": "https://localhost:8080/",
     "height": 17
    },
    "colab_type": "code",
    "id": "JPAuItaTzwo_",
    "outputId": "bc7ea639-1d9e-43da-8373-d0c5cd4cde82"
   },
   "outputs": [
    {
     "data": {
      "application/javascript": [
       "\n",
       "    async function download(id, filename, size) {\n",
       "      if (!google.colab.kernel.accessAllowed) {\n",
       "        return;\n",
       "      }\n",
       "      const div = document.createElement('div');\n",
       "      const label = document.createElement('label');\n",
       "      label.textContent = `Downloading \"${filename}\": `;\n",
       "      div.appendChild(label);\n",
       "      const progress = document.createElement('progress');\n",
       "      progress.max = size;\n",
       "      div.appendChild(progress);\n",
       "      document.body.appendChild(div);\n",
       "\n",
       "      const buffers = [];\n",
       "      let downloaded = 0;\n",
       "\n",
       "      const channel = await google.colab.kernel.comms.open(id);\n",
       "      // Send a message to notify the kernel that we're ready.\n",
       "      channel.send({})\n",
       "\n",
       "      for await (const message of channel.messages) {\n",
       "        // Send a message to notify the kernel that we're ready.\n",
       "        channel.send({})\n",
       "        if (message.buffers) {\n",
       "          for (const buffer of message.buffers) {\n",
       "            buffers.push(buffer);\n",
       "            downloaded += buffer.byteLength;\n",
       "            progress.value = downloaded;\n",
       "          }\n",
       "        }\n",
       "      }\n",
       "      const blob = new Blob(buffers, {type: 'application/binary'});\n",
       "      const a = document.createElement('a');\n",
       "      a.href = window.URL.createObjectURL(blob);\n",
       "      a.download = filename;\n",
       "      div.appendChild(a);\n",
       "      a.click();\n",
       "      div.remove();\n",
       "    }\n",
       "  "
      ],
      "text/plain": [
       "<IPython.core.display.Javascript object>"
      ]
     },
     "metadata": {
      "tags": []
     },
     "output_type": "display_data"
    },
    {
     "data": {
      "application/javascript": [
       "download(\"download_6448a6b5-7eae-4c78-b96f-2ab106d50cbf\", \"episode1_vs_episode2_accuracy.pdf\", 27227)"
      ],
      "text/plain": [
       "<IPython.core.display.Javascript object>"
      ]
     },
     "metadata": {
      "tags": []
     },
     "output_type": "display_data"
    },
    {
     "data": {
      "application/javascript": [
       "\n",
       "    async function download(id, filename, size) {\n",
       "      if (!google.colab.kernel.accessAllowed) {\n",
       "        return;\n",
       "      }\n",
       "      const div = document.createElement('div');\n",
       "      const label = document.createElement('label');\n",
       "      label.textContent = `Downloading \"${filename}\": `;\n",
       "      div.appendChild(label);\n",
       "      const progress = document.createElement('progress');\n",
       "      progress.max = size;\n",
       "      div.appendChild(progress);\n",
       "      document.body.appendChild(div);\n",
       "\n",
       "      const buffers = [];\n",
       "      let downloaded = 0;\n",
       "\n",
       "      const channel = await google.colab.kernel.comms.open(id);\n",
       "      // Send a message to notify the kernel that we're ready.\n",
       "      channel.send({})\n",
       "\n",
       "      for await (const message of channel.messages) {\n",
       "        // Send a message to notify the kernel that we're ready.\n",
       "        channel.send({})\n",
       "        if (message.buffers) {\n",
       "          for (const buffer of message.buffers) {\n",
       "            buffers.push(buffer);\n",
       "            downloaded += buffer.byteLength;\n",
       "            progress.value = downloaded;\n",
       "          }\n",
       "        }\n",
       "      }\n",
       "      const blob = new Blob(buffers, {type: 'application/binary'});\n",
       "      const a = document.createElement('a');\n",
       "      a.href = window.URL.createObjectURL(blob);\n",
       "      a.download = filename;\n",
       "      div.appendChild(a);\n",
       "      a.click();\n",
       "      div.remove();\n",
       "    }\n",
       "  "
      ],
      "text/plain": [
       "<IPython.core.display.Javascript object>"
      ]
     },
     "metadata": {
      "tags": []
     },
     "output_type": "display_data"
    },
    {
     "data": {
      "application/javascript": [
       "download(\"download_4dd71a5c-2a48-4ccf-945c-e53eb03e410a\", \"episode1_vs_episode2_mean_accuracy.pdf\", 26953)"
      ],
      "text/plain": [
       "<IPython.core.display.Javascript object>"
      ]
     },
     "metadata": {
      "tags": []
     },
     "output_type": "display_data"
    },
    {
     "data": {
      "application/javascript": [
       "\n",
       "    async function download(id, filename, size) {\n",
       "      if (!google.colab.kernel.accessAllowed) {\n",
       "        return;\n",
       "      }\n",
       "      const div = document.createElement('div');\n",
       "      const label = document.createElement('label');\n",
       "      label.textContent = `Downloading \"${filename}\": `;\n",
       "      div.appendChild(label);\n",
       "      const progress = document.createElement('progress');\n",
       "      progress.max = size;\n",
       "      div.appendChild(progress);\n",
       "      document.body.appendChild(div);\n",
       "\n",
       "      const buffers = [];\n",
       "      let downloaded = 0;\n",
       "\n",
       "      const channel = await google.colab.kernel.comms.open(id);\n",
       "      // Send a message to notify the kernel that we're ready.\n",
       "      channel.send({})\n",
       "\n",
       "      for await (const message of channel.messages) {\n",
       "        // Send a message to notify the kernel that we're ready.\n",
       "        channel.send({})\n",
       "        if (message.buffers) {\n",
       "          for (const buffer of message.buffers) {\n",
       "            buffers.push(buffer);\n",
       "            downloaded += buffer.byteLength;\n",
       "            progress.value = downloaded;\n",
       "          }\n",
       "        }\n",
       "      }\n",
       "      const blob = new Blob(buffers, {type: 'application/binary'});\n",
       "      const a = document.createElement('a');\n",
       "      a.href = window.URL.createObjectURL(blob);\n",
       "      a.download = filename;\n",
       "      div.appendChild(a);\n",
       "      a.click();\n",
       "      div.remove();\n",
       "    }\n",
       "  "
      ],
      "text/plain": [
       "<IPython.core.display.Javascript object>"
      ]
     },
     "metadata": {
      "tags": []
     },
     "output_type": "display_data"
    },
    {
     "data": {
      "application/javascript": [
       "download(\"download_8c972869-6316-472c-b998-265d61680770\", \"episode1_vs_episode2_precision.pdf\", 27164)"
      ],
      "text/plain": [
       "<IPython.core.display.Javascript object>"
      ]
     },
     "metadata": {
      "tags": []
     },
     "output_type": "display_data"
    },
    {
     "data": {
      "application/javascript": [
       "\n",
       "    async function download(id, filename, size) {\n",
       "      if (!google.colab.kernel.accessAllowed) {\n",
       "        return;\n",
       "      }\n",
       "      const div = document.createElement('div');\n",
       "      const label = document.createElement('label');\n",
       "      label.textContent = `Downloading \"${filename}\": `;\n",
       "      div.appendChild(label);\n",
       "      const progress = document.createElement('progress');\n",
       "      progress.max = size;\n",
       "      div.appendChild(progress);\n",
       "      document.body.appendChild(div);\n",
       "\n",
       "      const buffers = [];\n",
       "      let downloaded = 0;\n",
       "\n",
       "      const channel = await google.colab.kernel.comms.open(id);\n",
       "      // Send a message to notify the kernel that we're ready.\n",
       "      channel.send({})\n",
       "\n",
       "      for await (const message of channel.messages) {\n",
       "        // Send a message to notify the kernel that we're ready.\n",
       "        channel.send({})\n",
       "        if (message.buffers) {\n",
       "          for (const buffer of message.buffers) {\n",
       "            buffers.push(buffer);\n",
       "            downloaded += buffer.byteLength;\n",
       "            progress.value = downloaded;\n",
       "          }\n",
       "        }\n",
       "      }\n",
       "      const blob = new Blob(buffers, {type: 'application/binary'});\n",
       "      const a = document.createElement('a');\n",
       "      a.href = window.URL.createObjectURL(blob);\n",
       "      a.download = filename;\n",
       "      div.appendChild(a);\n",
       "      a.click();\n",
       "      div.remove();\n",
       "    }\n",
       "  "
      ],
      "text/plain": [
       "<IPython.core.display.Javascript object>"
      ]
     },
     "metadata": {
      "tags": []
     },
     "output_type": "display_data"
    },
    {
     "data": {
      "application/javascript": [
       "download(\"download_c6a98a16-132f-4dbe-a221-0d90f9422cab\", \"episode1_vs_episode2_recall.pdf\", 27464)"
      ],
      "text/plain": [
       "<IPython.core.display.Javascript object>"
      ]
     },
     "metadata": {
      "tags": []
     },
     "output_type": "display_data"
    },
    {
     "data": {
      "application/javascript": [
       "\n",
       "    async function download(id, filename, size) {\n",
       "      if (!google.colab.kernel.accessAllowed) {\n",
       "        return;\n",
       "      }\n",
       "      const div = document.createElement('div');\n",
       "      const label = document.createElement('label');\n",
       "      label.textContent = `Downloading \"${filename}\": `;\n",
       "      div.appendChild(label);\n",
       "      const progress = document.createElement('progress');\n",
       "      progress.max = size;\n",
       "      div.appendChild(progress);\n",
       "      document.body.appendChild(div);\n",
       "\n",
       "      const buffers = [];\n",
       "      let downloaded = 0;\n",
       "\n",
       "      const channel = await google.colab.kernel.comms.open(id);\n",
       "      // Send a message to notify the kernel that we're ready.\n",
       "      channel.send({})\n",
       "\n",
       "      for await (const message of channel.messages) {\n",
       "        // Send a message to notify the kernel that we're ready.\n",
       "        channel.send({})\n",
       "        if (message.buffers) {\n",
       "          for (const buffer of message.buffers) {\n",
       "            buffers.push(buffer);\n",
       "            downloaded += buffer.byteLength;\n",
       "            progress.value = downloaded;\n",
       "          }\n",
       "        }\n",
       "      }\n",
       "      const blob = new Blob(buffers, {type: 'application/binary'});\n",
       "      const a = document.createElement('a');\n",
       "      a.href = window.URL.createObjectURL(blob);\n",
       "      a.download = filename;\n",
       "      div.appendChild(a);\n",
       "      a.click();\n",
       "      div.remove();\n",
       "    }\n",
       "  "
      ],
      "text/plain": [
       "<IPython.core.display.Javascript object>"
      ]
     },
     "metadata": {
      "tags": []
     },
     "output_type": "display_data"
    },
    {
     "data": {
      "application/javascript": [
       "download(\"download_ec3fdcc4-7756-4e50-a950-624030f6879c\", \"episode1_vs_episode2_f1_score.pdf\", 27080)"
      ],
      "text/plain": [
       "<IPython.core.display.Javascript object>"
      ]
     },
     "metadata": {
      "tags": []
     },
     "output_type": "display_data"
    }
   ],
   "source": [
    "tag = 'episode1_vs_episode2'\n",
    "\n",
    "import matplotlib\n",
    "import matplotlib.pyplot as plt\n",
    "\n",
    "from matplotlib.patches import ConnectionPatch\n",
    "from matplotlib import rcParams\n",
    "from google.colab import files\n",
    "\n",
    "\n",
    "mapping_label = {'accuracy': 'Accuracy', 'mean_accuracy': 'mean Accuracy', 'precision': 'Precision', 'recall': 'Recall', 'f1_score': 'F1 score'}\n",
    "\n",
    "for metric in ['accuracy', 'mean_accuracy', 'precision', 'recall', 'f1_score']:\n",
    "    fig, (ax) = plt.subplots(1, 1, sharex=True)\n",
    "    alpha = result_label1[metric] > result_label2[metric]\n",
    "    ax.scatter(datamanager1.datasource.get_weight('test'), result_label1[metric]*100, rcParams['lines.markersize'] ** 1.5, color='r', label='Epoch')\n",
    "    ax.scatter(datamanager1.datasource.get_weight('test'), result_label2[metric]*100, rcParams['lines.markersize'] ** 1.5, color='b', label='Lấy mẫu theo phân phối đều')\n",
    "    ax.scatter(datamanager1.datasource.get_weight('test'), result_label3[metric]*100, rcParams['lines.markersize'] ** 1.5, color='g', label='Lấy mẫu theo trọng số')\n",
    "    ax.legend(loc='best')\n",
    "    ax.grid()\n",
    "    \n",
    "    for i in range(len(datamanager1.datasource.get_weight('test'))):\n",
    "        x = datamanager1.datasource.get_weight('test')[i]\n",
    "        y1 = min((result_label1[metric]*100)[i], (result_label2[metric]*100)[i], (result_label3[metric]*100)[i])\n",
    "        y2 = max((result_label1[metric]*100)[i], (result_label2[metric]*100)[i], (result_label3[metric]*100)[i])\n",
    "        xyA = (x, y1)\n",
    "        xyB = (x, y2)\n",
    "        coordsA = \"data\"\n",
    "        coordsB = \"data\"\n",
    "        con = ConnectionPatch(xyA=xyA, xyB=xyB, coordsA=coordsA, coordsB=coordsB, arrowstyle=\"-\")\n",
    "        ax.add_artist(con)\n",
    "\n",
    "    # plt.show()\n",
    "    ax.set_xlabel('Tỷ lệ mẫu dương')\n",
    "    ax.set_ylabel('{}'.format(mapping_label[metric]))\n",
    "    plt.savefig('{}_{}.pdf'.format(tag, metric), dpi=1200)\n",
    "    # plt.show()\n",
    "    plt.close()\n",
    "    files.download('{}_{}.pdf'.format(tag, metric))"
   ]
  },
  {
   "cell_type": "markdown",
   "metadata": {
    "colab_type": "text",
    "id": "Dv1jlqdfdLFs"
   },
   "source": [
    "##### so sánh sampler88"
   ]
  },
  {
   "cell_type": "code",
   "execution_count": null,
   "metadata": {
    "colab": {
     "base_uri": "https://localhost:8080/",
     "height": 34
    },
    "colab_type": "code",
    "id": "ghZeMY9cdGpP",
    "outputId": "dbf2d22d-6d23-4b01-d719-d3c634e62233"
   },
   "outputs": [
    {
     "name": "stdout",
     "output_type": "stream",
     "text": [
      "Overwriting /content/config1.yml\n"
     ]
    }
   ],
   "source": [
    "%%writefile /content/config1.yml\n",
    "base: config/base_episode.yml\n",
    "\n",
    "model:\n",
    "  backbone: resnet50\n",
    "  pooling: gem_pooling\n",
    "  head: BNHead\n",
    "  bn_where: after\n",
    "  use_tqdm: True\n",
    "\n",
    "data:\n",
    "  name: peta\n",
    "  image_size: [256, 192]\n",
    "  train:\n",
    "    num_attribute: 8\n",
    "    num_positive: 8\n",
    "    num_negative: 8\n",
    "    num_iterator: 700\n",
    "  val:\n",
    "    num_attribute: 8\n",
    "    num_positive: 8\n",
    "    num_negative: 8\n",
    "    num_iterator: 100\n",
    "  use_tqdm: True\n",
    "\n",
    "optimizer:\n",
    "  name: sgd\n",
    "  lr: 0.01\n",
    "  specified_lr:\n",
    "    enable: True\n",
    "    lr: 0.1\n",
    "    layers: [head]\n",
    "\n",
    "loss:\n",
    "  name: Singular_BCE\n",
    "  reduction: mean\n",
    "\n",
    "freeze:\n",
    "  enable: True\n",
    "  layers: [backbone]\n",
    "  epochs: 10\n",
    "\n",
    "lr_scheduler:\n",
    "  enable: True\n",
    "  name: CosineAnnealingLR\n",
    "  max_iters: 120\n",
    "  eta_min_lr: 0\n",
    "\n",
    "clip_grad_norm_:\n",
    "  enable: True\n",
    "  max_norm: 10.0\n",
    "\n",
    "trainer:\n",
    "  n_gpu: 1\n",
    "  epochs: 200\n",
    "    \n",
    "trainer_colab:\n",
    "  epochs: 200"
   ]
  },
  {
   "cell_type": "code",
   "execution_count": null,
   "metadata": {
    "colab": {
     "base_uri": "https://localhost:8080/",
     "height": 34
    },
    "colab_type": "code",
    "id": "faDbbhMOdGpV",
    "outputId": "0fc89a67-b4fb-47f9-c081-8c66687b191f"
   },
   "outputs": [
    {
     "name": "stdout",
     "output_type": "stream",
     "text": [
      "Overwriting /content/config2.yml\n"
     ]
    }
   ],
   "source": [
    "%%writefile /content/config2.yml\n",
    "base: config/base_episode.yml\n",
    "\n",
    "model:\n",
    "  backbone: resnet50\n",
    "  pooling: gem_pooling\n",
    "  head: BNHead\n",
    "  bn_where: after\n",
    "  use_tqdm: True\n",
    "\n",
    "data:\n",
    "  name: peta\n",
    "  sampler: RandomBatchSamplerAttribute\n",
    "  train:\n",
    "    num_attribute: 8\n",
    "    num_positive: 8\n",
    "    num_negative: 8\n",
    "    num_iterator: 700\n",
    "  val:\n",
    "    num_attribute: 8\n",
    "    num_positive: 8\n",
    "    num_negative: 8\n",
    "    num_iterator: 100\n",
    "  use_tqdm: True\n",
    "\n",
    "optimizer:\n",
    "  name: sgd\n",
    "  lr: 0.01\n",
    "  specified_lr:\n",
    "    enable: True\n",
    "    lr: 0.1\n",
    "    layers: [head]\n",
    "\n",
    "loss:\n",
    "  name: Singular_BCE\n",
    "  reduction: mean\n",
    "\n",
    "freeze:\n",
    "  enable: True\n",
    "  layers: [backbone]\n",
    "  epochs: 10\n",
    "\n",
    "lr_scheduler:\n",
    "  enable: True\n",
    "  name: ReduceLROnPlateau\n",
    "  factor: 0.1\n",
    "  patience: 10\n",
    "  min_lr: 0\n",
    "\n",
    "clip_grad_norm_:\n",
    "  enable: True\n",
    "  max_norm: 10.0\n",
    "\n",
    "trainer:\n",
    "  n_gpu: 1\n",
    "  epochs: 200\n",
    "    \n",
    "trainer_colab:\n",
    "  epochs: 200"
   ]
  },
  {
   "cell_type": "code",
   "execution_count": null,
   "metadata": {
    "colab": {
     "base_uri": "https://localhost:8080/",
     "height": 887,
     "referenced_widgets": [
      "0ccc3716c6d74cabbef1e5c3dd2fef1a",
      "ad9042e7696e47cab71048254cc0d4cf",
      "280166f457344d7897c94c12e7a11e06",
      "7a789daa218f4b9fb4a0cf4fe9abb64c",
      "91179d60beb04bc79d4706dfb06dc7f1",
      "d8960034f6c34744be1f2471484b93a3",
      "8d4f2cb542c24f87b8bdc1effe36221e",
      "6813a0fa5db544eaabd8b392878c2895",
      "997d170dd2a44ca89cd7e1e52f2d029c",
      "edd677d54c1a41e790fc972503620174",
      "97a1e6d5d5394262916810c2943720be",
      "9587e6d699ef4a32aeb1bbb8a5e58a2f",
      "3058c7848be749278723ba16c09dbb34",
      "73594c3203c54e9fac21d1c15da07a3c",
      "5f24b74b3453414db9597c47c80fb21a",
      "e0208a9b1f7f49de89f0133b404231f2"
     ]
    },
    "colab_type": "code",
    "id": "BFvlcg-gdGpX",
    "outputId": "b3df46ab-3383-4339-9417-140858425af7"
   },
   "outputs": [
    {
     "name": "stdout",
     "output_type": "stream",
     "text": [
      "Copying data...\n",
      "Copied!\n",
      "Copying data...\n",
      "Copied!\n",
      "Loading checkpoint: /content/drive/My Drive/HIEN/Models/person_attribute_recognition/checkpoints/0828_112607/model_last.pth ...\n"
     ]
    },
    {
     "data": {
      "application/vnd.jupyter.widget-view+json": {
       "model_id": "0ccc3716c6d74cabbef1e5c3dd2fef1a",
       "version_major": 2,
       "version_minor": 0
      },
      "text/plain": [
       "HBox(children=(FloatProgress(value=0.0, max=60.0), HTML(value='')))"
      ]
     },
     "metadata": {
      "tags": []
     },
     "output_type": "display_data"
    },
    {
     "name": "stdout",
     "output_type": "stream",
     "text": [
      "\n",
      "Loading checkpoint: /content/drive/My Drive/HIEN/Models/person_attribute_recognition/checkpoints/0818_231857/model_best_accuracy.pth ...\n"
     ]
    },
    {
     "data": {
      "application/vnd.jupyter.widget-view+json": {
       "model_id": "997d170dd2a44ca89cd7e1e52f2d029c",
       "version_major": 2,
       "version_minor": 0
      },
      "text/plain": [
       "HBox(children=(FloatProgress(value=0.0, max=60.0), HTML(value='')))"
      ]
     },
     "metadata": {
      "tags": []
     },
     "output_type": "display_data"
    },
    {
     "name": "stdout",
     "output_type": "stream",
     "text": [
      "\n",
      "\n",
      "           attribute      weight       accuracy          mA           precision        recall          f1_score\n",
      "                   -           -              -           -                   -             -                 -\n",
      "        accessoryHat        9.54\u001b[94m     97.91\u001b[0m|97.05      94.4|\u001b[94m94.73\u001b[0m\u001b[94m     88.24\u001b[0m|80.14     90.07|\u001b[94m91.86\u001b[0m\u001b[94m     89.15\u001b[0m| 85.6\n",
      "    accessoryMuffler        8.32\u001b[94m     99.18\u001b[0m|97.32\u001b[94m     96.39\u001b[0m|95.95\u001b[94m     97.03\u001b[0m|78.01     93.04|\u001b[94m 94.3\u001b[0m\u001b[94m     94.99\u001b[0m|85.39\n",
      "    accessoryNothing       75.55\u001b[94m     92.66\u001b[0m|90.46\u001b[94m     87.91\u001b[0m|87.24     93.36|\u001b[94m93.82\u001b[0m\u001b[94m      97.2\u001b[0m|93.54\u001b[94m     95.24\u001b[0m|93.68\n",
      " accessorySunglasses        2.87\u001b[94m     96.12\u001b[0m|94.21     77.97|\u001b[94m80.99\u001b[0m\u001b[94m     38.44\u001b[0m| 28.4     58.72|\u001b[94m66.97\u001b[0m\u001b[94m     46.46\u001b[0m|39.89\n",
      "            hairLong       23.74\u001b[94m     94.01\u001b[0m|92.17     92.49|\u001b[94m92.69\u001b[0m\u001b[94m     85.82\u001b[0m|77.84     89.58|\u001b[94m93.68\u001b[0m\u001b[94m     87.66\u001b[0m|85.03\n",
      "     upperBodyCasual       85.46\u001b[94m     94.38\u001b[0m|94.05     87.33|\u001b[94m87.66\u001b[0m     96.19|\u001b[94m96.38\u001b[0m\u001b[94m     97.27\u001b[0m|96.67\u001b[94m     96.73\u001b[0m|96.53\n",
      "     upperBodyFormal       13.25\u001b[94m     95.03\u001b[0m|94.95     88.64|\u001b[94m89.39\u001b[0m\u001b[94m     82.06\u001b[0m|80.39     79.94|\u001b[94m81.83\u001b[0m     80.99|\u001b[94m 81.1\u001b[0m\n",
      "     upperBodyJacket        7.03\u001b[94m     94.55\u001b[0m| 91.0     82.79|\u001b[94m84.25\u001b[0m\u001b[94m     59.71\u001b[0m|42.24      69.1|\u001b[94m 76.4\u001b[0m\u001b[94m     64.06\u001b[0m| 54.4\n",
      "       upperBodyLogo        3.89\u001b[94m     95.64\u001b[0m|94.37     76.66|\u001b[94m 85.4\u001b[0m\u001b[94m     45.23\u001b[0m|38.62     56.08|\u001b[94m75.68\u001b[0m     50.08|\u001b[94m51.14\u001b[0m\n",
      "      upperBodyPlaid        2.67\u001b[94m     97.87\u001b[0m|96.14     90.04|\u001b[94m92.99\u001b[0m\u001b[94m     57.04\u001b[0m|40.09     81.77|\u001b[94m89.66\u001b[0m\u001b[94m     67.21\u001b[0m| 55.4\n",
      "upperBodyShortSleeve       14.34\u001b[94m     94.61\u001b[0m|93.08     91.54|\u001b[94m92.06\u001b[0m\u001b[94m     77.82\u001b[0m|69.97     87.25|\u001b[94m90.64\u001b[0m\u001b[94m     82.27\u001b[0m|78.98\n",
      "upperBodyThinStripes        1.66\u001b[94m     98.04\u001b[0m|96.67     80.28|\u001b[94m85.04\u001b[0m\u001b[94m     43.58\u001b[0m|29.58      61.9|\u001b[94m73.02\u001b[0m\u001b[94m     51.15\u001b[0m|42.11\n",
      "     upperBodyTshirt        8.42\u001b[94m     94.14\u001b[0m|91.86     86.37|\u001b[94m90.37\u001b[0m\u001b[94m     62.33\u001b[0m|50.94     77.03|\u001b[94m88.59\u001b[0m\u001b[94m      68.9\u001b[0m|64.69\n",
      "      upperBodyOther       45.47\u001b[94m     87.62\u001b[0m|86.32\u001b[94m     87.32\u001b[0m| 86.1\u001b[94m     88.19\u001b[0m| 85.8\u001b[94m     84.03\u001b[0m|83.77\u001b[94m     86.06\u001b[0m|84.77\n",
      "      upperBodyVNeck        1.05\u001b[94m     98.59\u001b[0m|96.18     77.03|\u001b[94m81.38\u001b[0m\u001b[94m     38.26\u001b[0m|16.77      55.0|\u001b[94m66.25\u001b[0m\u001b[94m     45.13\u001b[0m|26.77\n",
      "     lowerBodyCasual       86.13\u001b[94m     94.78\u001b[0m|94.36     87.22|\u001b[94m88.56\u001b[0m     96.31|\u001b[94m96.86\u001b[0m\u001b[94m     97.68\u001b[0m|96.58\u001b[94m     96.99\u001b[0m|96.72\n",
      "     lowerBodyFormal       13.72\u001b[94m     94.96\u001b[0m|94.63     87.65|\u001b[94m88.62\u001b[0m\u001b[94m     84.45\u001b[0m| 80.5     77.56|\u001b[94m80.35\u001b[0m\u001b[94m     80.86\u001b[0m|80.42\n",
      "      lowerBodyJeans       30.46\u001b[94m     89.67\u001b[0m|87.45\u001b[94m      88.3\u001b[0m|87.89\u001b[94m     81.93\u001b[0m|74.65     84.79|\u001b[94m89.03\u001b[0m\u001b[94m     83.34\u001b[0m|81.21\n",
      "     lowerBodyShorts        3.43\u001b[94m     97.04\u001b[0m|95.74     85.16|\u001b[94m88.37\u001b[0m\u001b[94m     55.26\u001b[0m|43.48     72.41|\u001b[94m80.46\u001b[0m\u001b[94m     62.69\u001b[0m|56.45\n",
      " lowerBodyShortSkirt        4.62\u001b[94m     96.57\u001b[0m|95.03     89.39|\u001b[94m89.94\u001b[0m\u001b[94m     59.34\u001b[0m|47.82     81.48|\u001b[94m84.33\u001b[0m\u001b[94m     68.67\u001b[0m|61.03\n",
      "   lowerBodyTrousers       51.96\u001b[94m     87.24\u001b[0m|85.71\u001b[94m     87.17\u001b[0m| 85.7\u001b[94m     86.95\u001b[0m|86.49\u001b[94m     88.76\u001b[0m|85.92\u001b[94m     87.84\u001b[0m| 86.2\n",
      "footwearLeatherShoes       29.14\u001b[94m     91.28\u001b[0m|90.45\u001b[94m     89.25\u001b[0m|89.11\u001b[94m      85.5\u001b[0m|82.13     84.38|\u001b[94m85.91\u001b[0m\u001b[94m     84.94\u001b[0m|83.98\n",
      "     footwearSandals        1.89\u001b[94m     96.99\u001b[0m|96.04     79.05|\u001b[94m82.32\u001b[0m\u001b[94m     33.59\u001b[0m|27.76     60.42|\u001b[94m68.06\u001b[0m\u001b[94m     43.18\u001b[0m|39.44\n",
      "       footwearShoes        36.5\u001b[94m      82.7\u001b[0m|79.57\u001b[94m     81.83\u001b[0m|79.92\u001b[94m     75.13\u001b[0m|68.58     78.62|\u001b[94m81.22\u001b[0m\u001b[94m     76.84\u001b[0m|74.37\n",
      "     footwearSneaker       22.04\u001b[94m     87.43\u001b[0m|85.08     84.73|\u001b[94m84.82\u001b[0m\u001b[94m      68.4\u001b[0m|61.84     79.88|\u001b[94m84.36\u001b[0m\u001b[94m      73.7\u001b[0m|71.36\n",
      "    carryingBackpack        19.7\u001b[94m     90.32\u001b[0m|88.79      88.9|\u001b[94m89.21\u001b[0m\u001b[94m     70.78\u001b[0m|65.75     86.57|\u001b[94m89.91\u001b[0m\u001b[94m     77.88\u001b[0m|75.96\n",
      "       carryingOther       20.14\u001b[94m     86.66\u001b[0m|83.12     79.29|\u001b[94m80.52\u001b[0m\u001b[94m     66.86\u001b[0m|55.95     66.95|\u001b[94m76.16\u001b[0m\u001b[94m     66.91\u001b[0m|64.51\n",
      "carryingMessengerBag       29.93\u001b[94m     87.97\u001b[0m|86.42\u001b[94m     85.63\u001b[0m|84.58\u001b[94m     79.99\u001b[0m|75.93     79.78|\u001b[94m 80.0\u001b[0m\u001b[94m     79.89\u001b[0m|77.91\n",
      "     carryingNothing       27.51\u001b[94m      88.3\u001b[0m| 87.3\u001b[94m     86.61\u001b[0m|86.05\u001b[94m     76.57\u001b[0m| 73.9     82.83|\u001b[94m83.26\u001b[0m\u001b[94m     79.58\u001b[0m| 78.3\n",
      " carryingPlasticBags         7.7\u001b[94m     97.09\u001b[0m|94.63     88.63|\u001b[94m90.59\u001b[0m\u001b[94m     82.73\u001b[0m| 60.7     78.63|\u001b[94m85.81\u001b[0m\u001b[94m     80.63\u001b[0m| 71.1\n",
      "      personalLess30       50.41\u001b[94m     88.45\u001b[0m| 87.8\u001b[94m     88.42\u001b[0m|87.79     86.47|\u001b[94m86.76\u001b[0m\u001b[94m     91.39\u001b[0m|89.45\u001b[94m     88.86\u001b[0m|88.09\n",
      "      personalLess45       32.12\u001b[94m     86.88\u001b[0m|85.28\u001b[94m     85.43\u001b[0m|84.54\u001b[94m     78.56\u001b[0m|74.45     81.36|\u001b[94m82.47\u001b[0m\u001b[94m     79.94\u001b[0m|78.25\n",
      "      personalLess60       10.25\u001b[94m     96.05\u001b[0m|94.05      87.0|\u001b[94m88.67\u001b[0m\u001b[94m     84.26\u001b[0m|67.23     75.61|\u001b[94m 81.9\u001b[0m\u001b[94m      79.7\u001b[0m|73.84\n",
      "    personalLarger60        6.07\u001b[94m      99.0\u001b[0m|98.24     96.32|\u001b[94m97.03\u001b[0m\u001b[94m     90.53\u001b[0m|79.46     93.28|\u001b[94m95.66\u001b[0m\u001b[94m     91.88\u001b[0m|86.81\n",
      "        personalMale       54.57\u001b[94m     93.51\u001b[0m|92.95\u001b[94m     93.29\u001b[0m|92.93     92.61|\u001b[94m 93.9\u001b[0m\u001b[94m     95.76\u001b[0m|93.13\u001b[94m     94.16\u001b[0m|93.51\n",
      "                   -           -         -|    -         -|    -         -|    -         -|    -         -|    -\n",
      "                mean           -\u001b[94m     93.24\u001b[0m|91.67     86.76|\u001b[94m87.81\u001b[0m\u001b[94m     73.99\u001b[0m|66.09     80.46|\u001b[94m84.48\u001b[0m\u001b[94m      76.7\u001b[0m|72.71\n"
     ]
    }
   ],
   "source": [
    "import argparse\n",
    "import os\n",
    "import logging\n",
    "import torch\n",
    "import numpy as np\n",
    "\n",
    "from tqdm import tqdm\n",
    "from easydict import EasyDict\n",
    "\n",
    "from models import build_model\n",
    "from data import build_datamanager\n",
    "from logger import setup_logging\n",
    "from utils import read_config, rmdir, summary, array_interweave, COLOR\n",
    "from evaluators import recognition_metrics\n",
    "from evaluators.recognition_metrics import log_test, compare_class_based, test\n",
    "\n",
    "config1 = \"config1.yml\"\n",
    "config2 = \"config2.yml\"\n",
    "\n",
    "resume1 = \"/content/drive/My Drive/HIEN/Models/person_attribute_recognition/checkpoints/0828_112607/model_last.pth\"\n",
    "resume2 = \"/content/drive/My Drive/HIEN/Models/person_attribute_recognition/checkpoints/0818_231857/model_best_accuracy.pth\"\n",
    "\n",
    "config1 = read_config(config1)\n",
    "config1.update({'resume': resume1})\n",
    "config1.update({'colab': True})\n",
    "\n",
    "config2 = read_config(config2)\n",
    "config2.update({'resume': resume2})\n",
    "config2.update({'colab': True})\n",
    "\n",
    "datamanager1, _ = build_datamanager(config1['type'], config1['data'])\n",
    "datamanager2, _ = build_datamanager(config2['type'], config2['data'])\n",
    "\n",
    "# model1\n",
    "result_label1, result_instance1 = test(config1, datamanager1, print)\n",
    "\n",
    "# model 2\n",
    "result_label2, result_instance2 = test(config2, datamanager2, print)\n",
    "print()\n",
    "compare_class_based(print, datamanager1.datasource.get_attribute(), datamanager1.datasource.get_weight('test'), result_label1, result_label2, COLOR.BLUE)"
   ]
  },
  {
   "cell_type": "code",
   "execution_count": null,
   "metadata": {
    "colab": {
     "base_uri": "https://localhost:8080/",
     "height": 17
    },
    "colab_type": "code",
    "id": "AHeLPTvyuDX5",
    "outputId": "c25f31f7-591d-4caa-9a37-3280fc6312ea"
   },
   "outputs": [
    {
     "data": {
      "application/javascript": [
       "\n",
       "    async function download(id, filename, size) {\n",
       "      if (!google.colab.kernel.accessAllowed) {\n",
       "        return;\n",
       "      }\n",
       "      const div = document.createElement('div');\n",
       "      const label = document.createElement('label');\n",
       "      label.textContent = `Downloading \"${filename}\": `;\n",
       "      div.appendChild(label);\n",
       "      const progress = document.createElement('progress');\n",
       "      progress.max = size;\n",
       "      div.appendChild(progress);\n",
       "      document.body.appendChild(div);\n",
       "\n",
       "      const buffers = [];\n",
       "      let downloaded = 0;\n",
       "\n",
       "      const channel = await google.colab.kernel.comms.open(id);\n",
       "      // Send a message to notify the kernel that we're ready.\n",
       "      channel.send({})\n",
       "\n",
       "      for await (const message of channel.messages) {\n",
       "        // Send a message to notify the kernel that we're ready.\n",
       "        channel.send({})\n",
       "        if (message.buffers) {\n",
       "          for (const buffer of message.buffers) {\n",
       "            buffers.push(buffer);\n",
       "            downloaded += buffer.byteLength;\n",
       "            progress.value = downloaded;\n",
       "          }\n",
       "        }\n",
       "      }\n",
       "      const blob = new Blob(buffers, {type: 'application/binary'});\n",
       "      const a = document.createElement('a');\n",
       "      a.href = window.URL.createObjectURL(blob);\n",
       "      a.download = filename;\n",
       "      div.appendChild(a);\n",
       "      a.click();\n",
       "      div.remove();\n",
       "    }\n",
       "  "
      ],
      "text/plain": [
       "<IPython.core.display.Javascript object>"
      ]
     },
     "metadata": {
      "tags": []
     },
     "output_type": "display_data"
    },
    {
     "data": {
      "application/javascript": [
       "download(\"download_8546f67c-4f57-44cb-b030-2b7f84c7d11a\", \"episode1_vs_episode2_nghich_accuracy.pgf\", 53781)"
      ],
      "text/plain": [
       "<IPython.core.display.Javascript object>"
      ]
     },
     "metadata": {
      "tags": []
     },
     "output_type": "display_data"
    },
    {
     "data": {
      "application/javascript": [
       "\n",
       "    async function download(id, filename, size) {\n",
       "      if (!google.colab.kernel.accessAllowed) {\n",
       "        return;\n",
       "      }\n",
       "      const div = document.createElement('div');\n",
       "      const label = document.createElement('label');\n",
       "      label.textContent = `Downloading \"${filename}\": `;\n",
       "      div.appendChild(label);\n",
       "      const progress = document.createElement('progress');\n",
       "      progress.max = size;\n",
       "      div.appendChild(progress);\n",
       "      document.body.appendChild(div);\n",
       "\n",
       "      const buffers = [];\n",
       "      let downloaded = 0;\n",
       "\n",
       "      const channel = await google.colab.kernel.comms.open(id);\n",
       "      // Send a message to notify the kernel that we're ready.\n",
       "      channel.send({})\n",
       "\n",
       "      for await (const message of channel.messages) {\n",
       "        // Send a message to notify the kernel that we're ready.\n",
       "        channel.send({})\n",
       "        if (message.buffers) {\n",
       "          for (const buffer of message.buffers) {\n",
       "            buffers.push(buffer);\n",
       "            downloaded += buffer.byteLength;\n",
       "            progress.value = downloaded;\n",
       "          }\n",
       "        }\n",
       "      }\n",
       "      const blob = new Blob(buffers, {type: 'application/binary'});\n",
       "      const a = document.createElement('a');\n",
       "      a.href = window.URL.createObjectURL(blob);\n",
       "      a.download = filename;\n",
       "      div.appendChild(a);\n",
       "      a.click();\n",
       "      div.remove();\n",
       "    }\n",
       "  "
      ],
      "text/plain": [
       "<IPython.core.display.Javascript object>"
      ]
     },
     "metadata": {
      "tags": []
     },
     "output_type": "display_data"
    },
    {
     "data": {
      "application/javascript": [
       "download(\"download_692484a0-6b3d-48f4-a924-8e28dc2f046d\", \"episode1_vs_episode2_nghich_mean_accuracy.pgf\", 53785)"
      ],
      "text/plain": [
       "<IPython.core.display.Javascript object>"
      ]
     },
     "metadata": {
      "tags": []
     },
     "output_type": "display_data"
    },
    {
     "data": {
      "application/javascript": [
       "\n",
       "    async function download(id, filename, size) {\n",
       "      if (!google.colab.kernel.accessAllowed) {\n",
       "        return;\n",
       "      }\n",
       "      const div = document.createElement('div');\n",
       "      const label = document.createElement('label');\n",
       "      label.textContent = `Downloading \"${filename}\": `;\n",
       "      div.appendChild(label);\n",
       "      const progress = document.createElement('progress');\n",
       "      progress.max = size;\n",
       "      div.appendChild(progress);\n",
       "      document.body.appendChild(div);\n",
       "\n",
       "      const buffers = [];\n",
       "      let downloaded = 0;\n",
       "\n",
       "      const channel = await google.colab.kernel.comms.open(id);\n",
       "      // Send a message to notify the kernel that we're ready.\n",
       "      channel.send({})\n",
       "\n",
       "      for await (const message of channel.messages) {\n",
       "        // Send a message to notify the kernel that we're ready.\n",
       "        channel.send({})\n",
       "        if (message.buffers) {\n",
       "          for (const buffer of message.buffers) {\n",
       "            buffers.push(buffer);\n",
       "            downloaded += buffer.byteLength;\n",
       "            progress.value = downloaded;\n",
       "          }\n",
       "        }\n",
       "      }\n",
       "      const blob = new Blob(buffers, {type: 'application/binary'});\n",
       "      const a = document.createElement('a');\n",
       "      a.href = window.URL.createObjectURL(blob);\n",
       "      a.download = filename;\n",
       "      div.appendChild(a);\n",
       "      a.click();\n",
       "      div.remove();\n",
       "    }\n",
       "  "
      ],
      "text/plain": [
       "<IPython.core.display.Javascript object>"
      ]
     },
     "metadata": {
      "tags": []
     },
     "output_type": "display_data"
    },
    {
     "data": {
      "application/javascript": [
       "download(\"download_09421a26-5449-41d4-900f-aba4e6390b05\", \"episode1_vs_episode2_nghich_precision.pgf\", 53764)"
      ],
      "text/plain": [
       "<IPython.core.display.Javascript object>"
      ]
     },
     "metadata": {
      "tags": []
     },
     "output_type": "display_data"
    },
    {
     "data": {
      "application/javascript": [
       "\n",
       "    async function download(id, filename, size) {\n",
       "      if (!google.colab.kernel.accessAllowed) {\n",
       "        return;\n",
       "      }\n",
       "      const div = document.createElement('div');\n",
       "      const label = document.createElement('label');\n",
       "      label.textContent = `Downloading \"${filename}\": `;\n",
       "      div.appendChild(label);\n",
       "      const progress = document.createElement('progress');\n",
       "      progress.max = size;\n",
       "      div.appendChild(progress);\n",
       "      document.body.appendChild(div);\n",
       "\n",
       "      const buffers = [];\n",
       "      let downloaded = 0;\n",
       "\n",
       "      const channel = await google.colab.kernel.comms.open(id);\n",
       "      // Send a message to notify the kernel that we're ready.\n",
       "      channel.send({})\n",
       "\n",
       "      for await (const message of channel.messages) {\n",
       "        // Send a message to notify the kernel that we're ready.\n",
       "        channel.send({})\n",
       "        if (message.buffers) {\n",
       "          for (const buffer of message.buffers) {\n",
       "            buffers.push(buffer);\n",
       "            downloaded += buffer.byteLength;\n",
       "            progress.value = downloaded;\n",
       "          }\n",
       "        }\n",
       "      }\n",
       "      const blob = new Blob(buffers, {type: 'application/binary'});\n",
       "      const a = document.createElement('a');\n",
       "      a.href = window.URL.createObjectURL(blob);\n",
       "      a.download = filename;\n",
       "      div.appendChild(a);\n",
       "      a.click();\n",
       "      div.remove();\n",
       "    }\n",
       "  "
      ],
      "text/plain": [
       "<IPython.core.display.Javascript object>"
      ]
     },
     "metadata": {
      "tags": []
     },
     "output_type": "display_data"
    },
    {
     "data": {
      "application/javascript": [
       "download(\"download_318b2fef-3e7b-4847-850e-78000b7625f6\", \"episode1_vs_episode2_nghich_recall.pgf\", 46705)"
      ],
      "text/plain": [
       "<IPython.core.display.Javascript object>"
      ]
     },
     "metadata": {
      "tags": []
     },
     "output_type": "display_data"
    },
    {
     "data": {
      "application/javascript": [
       "\n",
       "    async function download(id, filename, size) {\n",
       "      if (!google.colab.kernel.accessAllowed) {\n",
       "        return;\n",
       "      }\n",
       "      const div = document.createElement('div');\n",
       "      const label = document.createElement('label');\n",
       "      label.textContent = `Downloading \"${filename}\": `;\n",
       "      div.appendChild(label);\n",
       "      const progress = document.createElement('progress');\n",
       "      progress.max = size;\n",
       "      div.appendChild(progress);\n",
       "      document.body.appendChild(div);\n",
       "\n",
       "      const buffers = [];\n",
       "      let downloaded = 0;\n",
       "\n",
       "      const channel = await google.colab.kernel.comms.open(id);\n",
       "      // Send a message to notify the kernel that we're ready.\n",
       "      channel.send({})\n",
       "\n",
       "      for await (const message of channel.messages) {\n",
       "        // Send a message to notify the kernel that we're ready.\n",
       "        channel.send({})\n",
       "        if (message.buffers) {\n",
       "          for (const buffer of message.buffers) {\n",
       "            buffers.push(buffer);\n",
       "            downloaded += buffer.byteLength;\n",
       "            progress.value = downloaded;\n",
       "          }\n",
       "        }\n",
       "      }\n",
       "      const blob = new Blob(buffers, {type: 'application/binary'});\n",
       "      const a = document.createElement('a');\n",
       "      a.href = window.URL.createObjectURL(blob);\n",
       "      a.download = filename;\n",
       "      div.appendChild(a);\n",
       "      a.click();\n",
       "      div.remove();\n",
       "    }\n",
       "  "
      ],
      "text/plain": [
       "<IPython.core.display.Javascript object>"
      ]
     },
     "metadata": {
      "tags": []
     },
     "output_type": "display_data"
    },
    {
     "data": {
      "application/javascript": [
       "download(\"download_0695c76d-12f1-46b3-9d97-fb28863920b5\", \"episode1_vs_episode2_nghich_f1_score.pgf\", 52352)"
      ],
      "text/plain": [
       "<IPython.core.display.Javascript object>"
      ]
     },
     "metadata": {
      "tags": []
     },
     "output_type": "display_data"
    }
   ],
   "source": [
    "tag = 'episode1_vs_episode2_nghich'\n",
    "\n",
    "import matplotlib\n",
    "from matplotlib import rc\n",
    "import matplotlib.pyplot as plt\n",
    "%matplotlib inline\n",
    "\n",
    "matplotlib.use(\"pgf\")\n",
    "matplotlib.rcParams.update({\n",
    "    \"pgf.texsystem\": \"pdflatex\",\n",
    "    'font.family': 'serif',\n",
    "    'text.usetex': True,\n",
    "    'pgf.rcfonts': False,\n",
    "})\n",
    "\n",
    "from matplotlib.patches import ConnectionPatch\n",
    "from matplotlib import rcParams\n",
    "from google.colab import files\n",
    "\n",
    "mapping_label = {'accuracy': 'Accuracy', 'mean_accuracy': 'mean Accuracy', 'precision': 'Precision', 'recall': 'Recall', 'f1_score': 'F1 score'}\n",
    "for metric in ['accuracy', 'mean_accuracy', 'precision', 'recall', 'f1_score']:\n",
    "    fig, (ax) = plt.subplots(1, 1, sharex=True)\n",
    "    alpha = result_label1[metric] > result_label2[metric]\n",
    "    ax.scatter(datamanager1.datasource.get_weight('test'), result_label1[metric]*100, color='r', label='Theo phân phối đều')\n",
    "    ax.scatter(datamanager1.datasource.get_weight('test'), result_label2[metric]*100, color='b', label='Theo trọng số')\n",
    "    ax.legend(loc='best')\n",
    "    ax.grid()\n",
    "    for i in range(len(datamanager1.datasource.get_weight('test'))):\n",
    "        x = datamanager1.datasource.get_weight('test')[i]\n",
    "        y1 = (result_label1[metric]*100)[i]\n",
    "        y2 = (result_label2[metric]*100)[i]\n",
    "        color = 'r' if y1 >= y2 else 'b'\n",
    "        xyA = (x, y1)\n",
    "        xyB = (x, y2)\n",
    "        coordsA = \"data\"\n",
    "        coordsB = \"data\"\n",
    "        con = ConnectionPatch(xyA=xyA, xyB=xyB, coordsA=coordsA, coordsB=coordsB, arrowstyle=\"-\")\n",
    "        ax.add_artist(con)\n",
    "\n",
    "    # plt.show()\n",
    "    ax.set_xlabel('Tỷ lệ mẫu dương')\n",
    "    ax.set_ylabel('{}'.format(mapping_label[metric]))\n",
    "    fig.savefig('{}_{}.pgf'.format(tag, metric), dpi=1200)\n",
    "    files.download('{}_{}.pgf'.format(tag, metric))\n",
    "    # fig.show()\n",
    "    plt.close()"
   ]
  },
  {
   "cell_type": "markdown",
   "metadata": {
    "colab_type": "text",
    "id": "MVNvKWPZw6zo"
   },
   "source": [
    "##### so sánh với epoch-based training"
   ]
  },
  {
   "cell_type": "code",
   "execution_count": null,
   "metadata": {
    "colab": {
     "base_uri": "https://localhost:8080/",
     "height": 34
    },
    "colab_type": "code",
    "id": "V4j1_kz3xGwj",
    "outputId": "493c9760-e913-4fa7-bd40-fb54ed0a140b"
   },
   "outputs": [
    {
     "name": "stdout",
     "output_type": "stream",
     "text": [
      "Overwriting /content/config1.yml\n"
     ]
    }
   ],
   "source": [
    "%%writefile /content/config1.yml\n",
    "base: /content/config/base_epoch.yml\n",
    "\n",
    "model:\n",
    "  backbone: resnet50\n",
    "  pooling: gem_pooling\n",
    "  head: BNHead\n",
    "  bn_where: after\n",
    "  use_tqdm: True\n",
    "\n",
    "data:\n",
    "  data_dir: datasets\n",
    "  name: peta\n",
    "  batch_size: 64\n",
    "  use_tqdm: True\n",
    "\n",
    "optimizer:\n",
    "  name: adam\n",
    "  lr: 0.00035\n",
    "\n",
    "loss:\n",
    "  name: CEL_Sigmoid\n",
    "\n",
    "freeze:\n",
    "  enable: True\n",
    "  layers: [backbone]\n",
    "  epochs: 10\n",
    "\n",
    "lr_scheduler:\n",
    "  enable: True\n",
    "  name: WarmupMultiStepLR\n",
    "  steps: [30, 60, 90]\n",
    "  gamma: 0.1\n",
    "  warmup_factor: 0.01\n",
    "  warmup_iters: 10\n",
    "\n",
    "trainer:\n",
    "  n_gpu: 1\n",
    "  epochs: 120\n",
    "  \n",
    "trainer_colab:\n",
    "  epochs: 120"
   ]
  },
  {
   "cell_type": "code",
   "execution_count": null,
   "metadata": {
    "colab": {
     "base_uri": "https://localhost:8080/",
     "height": 34
    },
    "colab_type": "code",
    "id": "9bPidoNnxGwm",
    "outputId": "245dc6aa-3b04-4f89-9e71-0f9ac3d3870b"
   },
   "outputs": [
    {
     "name": "stdout",
     "output_type": "stream",
     "text": [
      "Overwriting /content/config2.yml\n"
     ]
    }
   ],
   "source": [
    "%%writefile /content/config2.yml\n",
    "base: /content/config/base_episode.yml\n",
    "\n",
    "model:\n",
    "  backbone: resnet50\n",
    "  pooling: gem_pooling\n",
    "  head: BNHead\n",
    "  bn_where: after\n",
    "  use_tqdm: True\n",
    "\n",
    "data:\n",
    "  name: peta\n",
    "  image_size: [256, 192]\n",
    "  sampler: RandomBatchSamplerAttribute\n",
    "  train:\n",
    "    num_attribute: 8\n",
    "    num_positive: 8\n",
    "    num_negative: 8\n",
    "    num_iterator: 700\n",
    "  val:\n",
    "    num_attribute: 8\n",
    "    num_positive: 8\n",
    "    num_negative: 8\n",
    "    num_iterator: 100\n",
    "  use_tqdm: True\n",
    "\n",
    "optimizer:\n",
    "  name: sgd\n",
    "  lr: 0.01\n",
    "  specified_lr:\n",
    "    enable: True\n",
    "    lr: 0.1\n",
    "    layers: [head]\n",
    "\n",
    "loss:\n",
    "  name: Singular_BCE\n",
    "  reduction: mean\n",
    "\n",
    "freeze:\n",
    "  enable: True\n",
    "  layers: [backbone]\n",
    "  epochs: 10\n",
    "\n",
    "lr_scheduler:\n",
    "  enable: True\n",
    "  name: ReduceLROnPlateau\n",
    "  factor: 0.1\n",
    "  patience: 10\n",
    "  min_lr: 0\n",
    "\n",
    "clip_grad_norm_:\n",
    "  enable: True\n",
    "  max_norm: 10.0\n",
    "\n",
    "trainer:\n",
    "  n_gpu: 1\n",
    "  epochs: 200\n",
    "    \n",
    "trainer_colab:\n",
    "  epochs: 200"
   ]
  },
  {
   "cell_type": "code",
   "execution_count": null,
   "metadata": {
    "colab": {
     "base_uri": "https://localhost:8080/",
     "height": 887,
     "referenced_widgets": [
      "aaac1e0ea0e249858a71d4052c2b0865",
      "34ef35bb426949708efefec75629529f",
      "9380a362fa384c798c3f87c4a7515d1e",
      "0260417727044b87a7a1a4fc1629d24b",
      "67dcbfca1f964b47b7327f9d29c2fc8e",
      "1ea1b65efabf49dd8766c48dd6854830",
      "a47408b99890452f9fe392011a3dee7d",
      "64fdae780d03499a835715f479e52fc5",
      "d4df31a8c45d42b7a64905168e796e68",
      "25d0940ac5924a81bf532334b57fa689",
      "eea3f535fda74365bec7a167a32d9881",
      "06097d9c35b5440eb5b02c8a143f2b41",
      "38091d80ed0947f5b66d749f01d267f3",
      "0b9a1a474df94f66be2bf844eb6be64f",
      "0a45f44b5cf443eb8517ed810f42867c",
      "561d250bc97a4e05a482425a9b099cb2"
     ]
    },
    "colab_type": "code",
    "id": "DOo2NVYvxGwp",
    "outputId": "8eb25571-340d-427e-b1a5-de483139e9c6"
   },
   "outputs": [
    {
     "name": "stdout",
     "output_type": "stream",
     "text": [
      "Copying data...\n",
      "Copied!\n",
      "Copying data...\n",
      "Copied!\n",
      "Loading checkpoint: /content/drive/My Drive/HIEN/Models/OSNet_Person_Attribute_Refactor/checkpoints/0731_232453/model_best_accuracy.pth ...\n"
     ]
    },
    {
     "data": {
      "application/vnd.jupyter.widget-view+json": {
       "model_id": "aaac1e0ea0e249858a71d4052c2b0865",
       "version_major": 2,
       "version_minor": 0
      },
      "text/plain": [
       "HBox(children=(FloatProgress(value=0.0, max=119.0), HTML(value='')))"
      ]
     },
     "metadata": {
      "tags": []
     },
     "output_type": "display_data"
    },
    {
     "name": "stdout",
     "output_type": "stream",
     "text": [
      "\n",
      "Loading checkpoint: /content/drive/My Drive/HIEN/Models/person_attribute_recognition/checkpoints/0818_231857/model_best_accuracy.pth ...\n"
     ]
    },
    {
     "data": {
      "application/vnd.jupyter.widget-view+json": {
       "model_id": "d4df31a8c45d42b7a64905168e796e68",
       "version_major": 2,
       "version_minor": 0
      },
      "text/plain": [
       "HBox(children=(FloatProgress(value=0.0, max=60.0), HTML(value='')))"
      ]
     },
     "metadata": {
      "tags": []
     },
     "output_type": "display_data"
    },
    {
     "name": "stdout",
     "output_type": "stream",
     "text": [
      "\n",
      "\n",
      "           attribute      weight       accuracy          mA           precision        recall          f1_score\n",
      "                   -           -              -           -                   -             -                 -\n",
      "        accessoryHat        9.54\u001b[94m     98.18\u001b[0m|97.05     93.81|\u001b[94m94.73\u001b[0m\u001b[94m     92.23\u001b[0m|80.14     88.41|\u001b[94m91.86\u001b[0m\u001b[94m     90.28\u001b[0m| 85.6\n",
      "    accessoryMuffler        8.32\u001b[94m     99.11\u001b[0m|97.32\u001b[94m     96.42\u001b[0m|95.95\u001b[94m     95.93\u001b[0m|78.01      93.2|\u001b[94m 94.3\u001b[0m\u001b[94m     94.54\u001b[0m|85.39\n",
      "    accessoryNothing       75.55\u001b[94m     92.68\u001b[0m|90.46\u001b[94m     87.59\u001b[0m|87.24     93.09|\u001b[94m93.82\u001b[0m\u001b[94m     97.56\u001b[0m|93.54\u001b[94m     95.27\u001b[0m|93.68\n",
      " accessorySunglasses        2.87\u001b[94m     97.88\u001b[0m|94.21     70.64|\u001b[94m80.99\u001b[0m\u001b[94m      72.8\u001b[0m| 28.4     41.74|\u001b[94m66.97\u001b[0m\u001b[94m     53.06\u001b[0m|39.89\n",
      "            hairLong       23.74\u001b[94m     94.51\u001b[0m|92.17     92.05|\u001b[94m92.69\u001b[0m\u001b[94m     89.29\u001b[0m|77.84     87.36|\u001b[94m93.68\u001b[0m\u001b[94m     88.32\u001b[0m|85.03\n",
      "     upperBodyCasual       85.46\u001b[94m      94.8\u001b[0m|94.05     85.77|\u001b[94m87.66\u001b[0m     95.55|\u001b[94m96.38\u001b[0m\u001b[94m     98.51\u001b[0m|96.67\u001b[94m     97.01\u001b[0m|96.53\n",
      "     upperBodyFormal       13.25\u001b[94m      95.5\u001b[0m|94.95     86.43|\u001b[94m89.39\u001b[0m\u001b[94m     90.21\u001b[0m|80.39     74.08|\u001b[94m81.83\u001b[0m\u001b[94m     81.35\u001b[0m| 81.1\n",
      "     upperBodyJacket        7.03\u001b[94m     96.03\u001b[0m| 91.0     79.34|\u001b[94m84.25\u001b[0m\u001b[94m     78.43\u001b[0m|42.24     59.93|\u001b[94m 76.4\u001b[0m\u001b[94m     67.94\u001b[0m| 54.4\n",
      "       upperBodyLogo        3.89\u001b[94m     96.86\u001b[0m|94.37     77.13|\u001b[94m 85.4\u001b[0m\u001b[94m     60.44\u001b[0m|38.62     55.74|\u001b[94m75.68\u001b[0m\u001b[94m      58.0\u001b[0m|51.14\n",
      "      upperBodyPlaid        2.67\u001b[94m     98.76\u001b[0m|96.14     86.19|\u001b[94m92.99\u001b[0m\u001b[94m     79.14\u001b[0m|40.09     72.91|\u001b[94m89.66\u001b[0m\u001b[94m      75.9\u001b[0m| 55.4\n",
      "upperBodyShortSleeve       14.34\u001b[94m     95.41\u001b[0m|93.08     91.02|\u001b[94m92.06\u001b[0m\u001b[94m     83.41\u001b[0m|69.97     84.86|\u001b[94m90.64\u001b[0m\u001b[94m     84.13\u001b[0m|78.98\n",
      "upperBodyThinStripes        1.66\u001b[94m      98.8\u001b[0m|96.67     73.25|\u001b[94m85.04\u001b[0m\u001b[94m     71.08\u001b[0m|29.58     46.83|\u001b[94m73.02\u001b[0m\u001b[94m     56.46\u001b[0m|42.11\n",
      "     upperBodyTshirt        8.42\u001b[94m     95.63\u001b[0m|91.86     83.85|\u001b[94m90.37\u001b[0m\u001b[94m     76.37\u001b[0m|50.94     69.69|\u001b[94m88.59\u001b[0m\u001b[94m     72.88\u001b[0m|64.69\n",
      "      upperBodyOther       45.47\u001b[94m     87.78\u001b[0m|86.32\u001b[94m     87.47\u001b[0m| 86.1\u001b[94m     88.51\u001b[0m| 85.8\u001b[94m     84.03\u001b[0m|83.77\u001b[94m     86.21\u001b[0m|84.77\n",
      "      upperBodyVNeck        1.05\u001b[94m      99.2\u001b[0m|96.18     63.11|\u001b[94m81.38\u001b[0m\u001b[94m      91.3\u001b[0m|16.77     26.25|\u001b[94m66.25\u001b[0m\u001b[94m     40.78\u001b[0m|26.77\n",
      "     lowerBodyCasual       86.13\u001b[94m     94.96\u001b[0m|94.36     85.17|\u001b[94m88.56\u001b[0m     95.58|\u001b[94m96.86\u001b[0m\u001b[94m     98.72\u001b[0m|96.58\u001b[94m     97.12\u001b[0m|96.72\n",
      "     lowerBodyFormal       13.72\u001b[94m      95.2\u001b[0m|94.63     85.73|\u001b[94m88.62\u001b[0m\u001b[94m     90.45\u001b[0m| 80.5     72.67|\u001b[94m80.35\u001b[0m\u001b[94m      80.6\u001b[0m|80.42\n",
      "      lowerBodyJeans       30.46\u001b[94m     90.18\u001b[0m|87.45\u001b[94m     87.94\u001b[0m|87.89\u001b[94m     85.07\u001b[0m|74.65      82.2|\u001b[94m89.03\u001b[0m\u001b[94m     83.61\u001b[0m|81.21\n",
      "     lowerBodyShorts        3.43\u001b[94m     97.71\u001b[0m|95.74     81.45|\u001b[94m88.37\u001b[0m\u001b[94m     67.61\u001b[0m|43.48     63.98|\u001b[94m80.46\u001b[0m\u001b[94m     65.75\u001b[0m|56.45\n",
      " lowerBodyShortSkirt        4.62\u001b[94m     97.59\u001b[0m|95.03      84.5|\u001b[94m89.94\u001b[0m\u001b[94m     75.93\u001b[0m|47.82     70.09|\u001b[94m84.33\u001b[0m\u001b[94m     72.89\u001b[0m|61.03\n",
      "   lowerBodyTrousers       51.96\u001b[94m     86.99\u001b[0m|85.71\u001b[94m     86.96\u001b[0m| 85.7\u001b[94m     87.37\u001b[0m|86.49\u001b[94m     87.62\u001b[0m|85.92\u001b[94m      87.5\u001b[0m| 86.2\n",
      "footwearLeatherShoes       29.14\u001b[94m     91.97\u001b[0m|90.45     89.02|\u001b[94m89.11\u001b[0m\u001b[94m     89.63\u001b[0m|82.13     81.94|\u001b[94m85.91\u001b[0m\u001b[94m     85.61\u001b[0m|83.98\n",
      "     footwearSandals        1.89\u001b[94m     98.08\u001b[0m|96.04     72.12|\u001b[94m82.32\u001b[0m\u001b[94m     49.24\u001b[0m|27.76     45.14|\u001b[94m68.06\u001b[0m\u001b[94m      47.1\u001b[0m|39.44\n",
      "       footwearShoes        36.5\u001b[94m     83.24\u001b[0m|79.57\u001b[94m     82.32\u001b[0m|79.92\u001b[94m     76.06\u001b[0m|68.58     78.91|\u001b[94m81.22\u001b[0m\u001b[94m     77.46\u001b[0m|74.37\n",
      "     footwearSneaker       22.04\u001b[94m     88.34\u001b[0m|85.08      80.1|\u001b[94m84.82\u001b[0m\u001b[94m     78.16\u001b[0m|61.84     65.37|\u001b[94m84.36\u001b[0m      71.2|\u001b[94m71.36\u001b[0m\n",
      "    carryingBackpack        19.7\u001b[94m     92.46\u001b[0m|88.79      88.1|\u001b[94m89.21\u001b[0m\u001b[94m     80.84\u001b[0m|65.75      80.9|\u001b[94m89.91\u001b[0m\u001b[94m     80.87\u001b[0m|75.96\n",
      "       carryingOther       20.14\u001b[94m     88.45\u001b[0m|83.12     78.68|\u001b[94m80.52\u001b[0m\u001b[94m     76.02\u001b[0m|55.95     62.31|\u001b[94m76.16\u001b[0m\u001b[94m     68.49\u001b[0m|64.51\n",
      "carryingMessengerBag       29.93\u001b[94m     88.87\u001b[0m|86.42\u001b[94m     85.76\u001b[0m|84.58\u001b[94m     83.69\u001b[0m|75.93     78.02|\u001b[94m 80.0\u001b[0m\u001b[94m     80.76\u001b[0m|77.91\n",
      "     carryingNothing       27.51\u001b[94m     89.62\u001b[0m| 87.3      85.7|\u001b[94m86.05\u001b[0m\u001b[94m     83.94\u001b[0m| 73.9      77.0|\u001b[94m83.26\u001b[0m\u001b[94m     80.32\u001b[0m| 78.3\n",
      " carryingPlasticBags         7.7\u001b[94m     97.54\u001b[0m|94.63     87.78|\u001b[94m90.59\u001b[0m\u001b[94m     90.28\u001b[0m| 60.7     76.24|\u001b[94m85.81\u001b[0m\u001b[94m     82.67\u001b[0m| 71.1\n",
      "      personalLess30       50.41\u001b[94m     88.88\u001b[0m| 87.8\u001b[94m     88.87\u001b[0m|87.79\u001b[94m     88.11\u001b[0m|86.76\u001b[94m     90.11\u001b[0m|89.45\u001b[94m      89.1\u001b[0m|88.09\n",
      "      personalLess45       32.12\u001b[94m     87.51\u001b[0m|85.28\u001b[94m     85.06\u001b[0m|84.54\u001b[94m     82.07\u001b[0m|74.45     78.21|\u001b[94m82.47\u001b[0m\u001b[94m     80.09\u001b[0m|78.25\n",
      "      personalLess60       10.25\u001b[94m     96.26\u001b[0m|94.05     87.63|\u001b[94m88.67\u001b[0m\u001b[94m     85.31\u001b[0m|67.23     76.77|\u001b[94m 81.9\u001b[0m\u001b[94m     80.81\u001b[0m|73.84\n",
      "    personalLarger60        6.07\u001b[94m     99.33\u001b[0m|98.24     95.99|\u001b[94m97.03\u001b[0m\u001b[94m     96.59\u001b[0m|79.46     92.19|\u001b[94m95.66\u001b[0m\u001b[94m     94.34\u001b[0m|86.81\n",
      "        personalMale       54.57\u001b[94m     93.78\u001b[0m|92.95\u001b[94m     93.67\u001b[0m|92.93     93.86|\u001b[94m 93.9\u001b[0m\u001b[94m     94.79\u001b[0m|93.13\u001b[94m     94.33\u001b[0m|93.51\n",
      "                   -           -         -|    -         -|    -         -|    -         -|    -         -|    -\n",
      "                mean           -\u001b[94m     93.95\u001b[0m|91.67     84.76|\u001b[94m87.81\u001b[0m\u001b[94m     83.25\u001b[0m|66.09     75.26|\u001b[94m84.48\u001b[0m\u001b[94m     78.36\u001b[0m|72.71\n"
     ]
    }
   ],
   "source": [
    "import os\n",
    "import argparse\n",
    "import logging\n",
    "import torch\n",
    "import numpy as np\n",
    "\n",
    "from tqdm import tqdm\n",
    "from easydict import EasyDict\n",
    "\n",
    "from models import build_model\n",
    "from data import build_datamanager\n",
    "from logger import setup_logging\n",
    "from utils import read_config, rmdir, summary, array_interweave, COLOR\n",
    "from evaluators import recognition_metrics\n",
    "from evaluators.recognition_metrics import log_test, compare_class_based, test\n",
    "\n",
    "config1 = \"config1.yml\"\n",
    "config2 = \"config2.yml\"\n",
    "\n",
    "resume1 = \"/content/drive/My Drive/HIEN/Models/OSNet_Person_Attribute_Refactor/checkpoints/0731_232453/model_best_accuracy.pth\"\n",
    "resume2 = \"/content/drive/My Drive/HIEN/Models/person_attribute_recognition/checkpoints/0818_231857/model_best_accuracy.pth\"\n",
    "\n",
    "config1 = read_config(config1)\n",
    "config1.update({'resume': resume1})\n",
    "config1.update({'colab': True})\n",
    "\n",
    "config2 = read_config(config2)\n",
    "config2.update({'resume': resume2})\n",
    "config2.update({'colab': True})\n",
    "\n",
    "datamanager1, _ = build_datamanager(config1['type'], config1['data'])\n",
    "datamanager2, _ = build_datamanager(config2['type'], config2['data'])\n",
    "\n",
    "# model1\n",
    "result_label1, result_instance1 = test(config1, datamanager1, print)\n",
    "\n",
    "# model 2\n",
    "result_label2, result_instance2 = test(config2, datamanager2, print)\n",
    "print()\n",
    "compare_class_based(print, datamanager1.datasource.get_attribute(), datamanager1.datasource.get_weight('test'), result_label1, result_label2, COLOR.BLUE)"
   ]
  },
  {
   "cell_type": "markdown",
   "metadata": {
    "colab_type": "text",
    "id": "UxSPo4KPPkbF"
   },
   "source": [
    "#### random attribute theo phân phối multinomial **(thuận)**\n",
    "random attribute dựa theo trọng số của từng attribute đó. những **attribute có trọng số nhỏ** sẽ được **random ra ít hơn**, những **attribute có trọng số lớn** sẽ được **random ra nhiều hơn**. Mỗi attribute vẫn sẽ random ra 8 mẫu dương và 8 mẫu âm. **thuận**"
   ]
  },
  {
   "cell_type": "code",
   "execution_count": null,
   "metadata": {
    "colab": {
     "base_uri": "https://localhost:8080/",
     "height": 34
    },
    "colab_type": "code",
    "id": "i0p4uVW_zLLq",
    "outputId": "bc622a65-090a-4d51-eddd-7b7593b12cfe"
   },
   "outputs": [
    {
     "name": "stdout",
     "output_type": "stream",
     "text": [
      "50\n"
     ]
    },
    {
     "data": {
      "application/javascript": [
       "\n",
       "    async function download(id, filename, size) {\n",
       "      if (!google.colab.kernel.accessAllowed) {\n",
       "        return;\n",
       "      }\n",
       "      const div = document.createElement('div');\n",
       "      const label = document.createElement('label');\n",
       "      label.textContent = `Downloading \"${filename}\": `;\n",
       "      div.appendChild(label);\n",
       "      const progress = document.createElement('progress');\n",
       "      progress.max = size;\n",
       "      div.appendChild(progress);\n",
       "      document.body.appendChild(div);\n",
       "\n",
       "      const buffers = [];\n",
       "      let downloaded = 0;\n",
       "\n",
       "      const channel = await google.colab.kernel.comms.open(id);\n",
       "      // Send a message to notify the kernel that we're ready.\n",
       "      channel.send({})\n",
       "\n",
       "      for await (const message of channel.messages) {\n",
       "        // Send a message to notify the kernel that we're ready.\n",
       "        channel.send({})\n",
       "        if (message.buffers) {\n",
       "          for (const buffer of message.buffers) {\n",
       "            buffers.push(buffer);\n",
       "            downloaded += buffer.byteLength;\n",
       "            progress.value = downloaded;\n",
       "          }\n",
       "        }\n",
       "      }\n",
       "      const blob = new Blob(buffers, {type: 'application/binary'});\n",
       "      const a = document.createElement('a');\n",
       "      a.href = window.URL.createObjectURL(blob);\n",
       "      a.download = filename;\n",
       "      div.appendChild(a);\n",
       "      a.click();\n",
       "      div.remove();\n",
       "    }\n",
       "  "
      ],
      "text/plain": [
       "<IPython.core.display.Javascript object>"
      ]
     },
     "metadata": {
      "tags": []
     },
     "output_type": "display_data"
    },
    {
     "data": {
      "application/javascript": [
       "download(\"download_c1fcc460-672d-4390-a6e3-21676089b558\", \"attribute1.png\", 101855)"
      ],
      "text/plain": [
       "<IPython.core.display.Javascript object>"
      ]
     },
     "metadata": {
      "tags": []
     },
     "output_type": "display_data"
    }
   ],
   "source": [
    "import numpy as np\n",
    "import matplotlib.pyplot as plt\n",
    "from google.colab import files\n",
    "\n",
    "origin_weight = np.arange(0, 1, 0.02)\n",
    "weight = np.exp(origin_weight)\n",
    "weight = weight / np.sum(weight)\n",
    "print(len(weight))\n",
    "\n",
    "result = torch.zeros(len(weight), dtype=torch.float)\n",
    "for x in range(1000000):\n",
    "    sampler = torch.multinomial(torch.tensor(weight), 8, replacement=True)\n",
    "    result[sampler] += 1\n",
    "# result /= torch.sum(result)\n",
    "result = result.numpy()\n",
    "\n",
    "plt.plot(origin_weight, result)\n",
    "plt.xlabel('weight')\n",
    "plt.ylabel('số lần xuất hiện')\n",
    "# plt.show()\n",
    "plt.savefig('attribute1.png', dpi=600)\n",
    "files.download('attribute1.png')"
   ]
  },
  {
   "cell_type": "code",
   "execution_count": null,
   "metadata": {
    "colab": {
     "base_uri": "https://localhost:8080/",
     "height": 121
    },
    "colab_type": "code",
    "id": "g34mG5UxPkbH",
    "outputId": "854721cb-15a0-485c-be79-25b8838c72f6"
   },
   "outputs": [
    {
     "name": "stdout",
     "output_type": "stream",
     "text": [
      "Copying data...\n",
      "Copied!\n",
      "    weight %  10   8  74   3  23  85  13   7   4   2  14   1   8  45   1  86  13  30   3   4  51  29   2  35  21  19  19  29  27   7  49  33  10   6  55\n",
      "           -   -   -   -   -   -   -   -   -   -   -   -   -   -   -   -   -   -   -   -   -   -   -   -   -   -   -   -   -   -   -   -   -   -   -   -\n",
      "    result %   2   2   4   2   2   4   2   2   2   2   2   2   2   3   2   4   2   2   2   2   3   2   2   3   2   2   2   2   2   2   3   3   2   2   3\n"
     ]
    }
   ],
   "source": [
    "import torch\n",
    "import numpy as np\n",
    "from scipy.special import softmax\n",
    "from data.image import build_datasource\n",
    "\n",
    "datasource = build_datasource('peta', '/datasets', True, True, use_tqdm=True)\n",
    "\n",
    "origin_weight = datasource.get_weight('train')\n",
    "weight = np.exp(np.array(origin_weight))\n",
    "weight = weight / np.sum(weight)\n",
    "\n",
    "result = torch.zeros(len(weight), dtype=torch.float)\n",
    "for x in range(1000000):\n",
    "    sampler = torch.multinomial(torch.tensor(weight), 8, replacement=True)\n",
    "    result[sampler] += 1\n",
    "result /= torch.sum(result)\n",
    "\n",
    "result *= 100\n",
    "result =  result.numpy().astype(int)\n",
    "row_format = '{:>12}' + '{:>4}'*len(weight)\n",
    "print(row_format.format('weight %', *(origin_weight*100).astype(int)))\n",
    "print(row_format.format(*['-']*len(weight),'-'))\n",
    "print(row_format.format('result %', *result.tolist()))"
   ]
  },
  {
   "cell_type": "markdown",
   "metadata": {
    "colab_type": "text",
    "id": "m3AoDV_USh9q"
   },
   "source": [
    "##### Kết quả"
   ]
  },
  {
   "cell_type": "code",
   "execution_count": null,
   "metadata": {
    "colab": {
     "base_uri": "https://localhost:8080/",
     "height": 34
    },
    "colab_type": "code",
    "id": "kuV9c0NdQCUE",
    "outputId": "d305816b-a41f-42a7-adaf-7c0c30ee3968"
   },
   "outputs": [
    {
     "name": "stdout",
     "output_type": "stream",
     "text": [
      "Overwriting /content/config.yml\n"
     ]
    }
   ],
   "source": [
    "%%writefile /content/config.yml\n",
    "base: config/base_episode.yml\n",
    "\n",
    "model:\n",
    "  backbone: resnet50\n",
    "  pooling: gem_pooling\n",
    "  head: BNHead\n",
    "  bn_where: after\n",
    "  use_tqdm: True\n",
    "\n",
    "data:\n",
    "  name: peta\n",
    "  image_size: [256, 192]\n",
    "  sampler: RandomBatchSamplerAttribute1\n",
    "  train:\n",
    "    num_attribute: 8\n",
    "    num_positive: 8\n",
    "    num_negative: 8\n",
    "    num_iterator: 700\n",
    "  val:\n",
    "    num_attribute: 8\n",
    "    num_positive: 8\n",
    "    num_negative: 8\n",
    "    num_iterator: 100\n",
    "  use_tqdm: True\n",
    "\n",
    "optimizer:\n",
    "  name: sgd\n",
    "  lr: 0.01\n",
    "  specified_lr: \n",
    "    enable: True\n",
    "    lr: 0.1\n",
    "    layers: [head]\n",
    "\n",
    "loss:\n",
    "  name: Singular_BCE\n",
    "  reduction: mean\n",
    "\n",
    "freeze:\n",
    "  enable: True\n",
    "  layers: [backbone]\n",
    "  epochs: 10\n",
    "\n",
    "lr_scheduler:\n",
    "  enable: True\n",
    "  name: ReduceLROnPlateau\n",
    "  factor: 0.1\n",
    "  patience: 6\n",
    "  min_lr: 0\n",
    "\n",
    "clip_grad_norm_:\n",
    "  enable: True\n",
    "  max_norm: 10.0\n",
    "\n",
    "trainer:\n",
    "  n_gpu: 1\n",
    "  epochs: 120\n",
    "    \n",
    "trainer_colab:\n",
    "  epochs: 120"
   ]
  },
  {
   "cell_type": "code",
   "execution_count": null,
   "metadata": {
    "colab": {
     "base_uri": "https://localhost:8080/",
     "height": 857
    },
    "colab_type": "code",
    "id": "3RiI-0ZThI3x",
    "outputId": "6afc63b8-719a-4db1-c4d5-1c181301becc"
   },
   "outputs": [
    {
     "name": "stdout",
     "output_type": "stream",
     "text": [
      "2020-09-09 09:27:29.610136: I tensorflow/stream_executor/platform/default/dso_loader.cc:48] Successfully opened dynamic library libcudart.so.10.1\n",
      "Copying data...\n",
      "Copied!\n",
      "Loading checkpoint: /content/drive/My Drive/HIEN/Models/person_attribute_recognition/checkpoints/0820_212815/model_best_accuracy.pth ...\n",
      "100% 60/60 [00:42<00:00,  1.41it/s]\n",
      "instance-based metrics:\n",
      "accuracy: 0.7783\n",
      "precision: 0.8294\n",
      "recall: 0.8890\n",
      "f1_score: 0.8546\n",
      "class-based metrics:\n",
      "           attribute    weight  accuracy        mA precision    recall  f1_score\n",
      "                   -         -         -         -         -         -         -\n",
      "        accessoryHat      9.54     97.63      94.5     85.44     90.62     87.95\n",
      "    accessoryMuffler      8.32     98.47     96.58     88.17      94.3     91.13\n",
      "    accessoryNothing     75.55     91.83     88.19     93.96     95.32     94.63\n",
      " accessorySunglasses      2.87     95.58     81.03      35.4      65.6     45.98\n",
      "            hairLong     23.74     93.07     92.97     80.83     92.79      86.4\n",
      "     upperBodyCasual     85.46     94.09     87.87     96.45     96.64     96.55\n",
      "     upperBodyFormal     13.25     94.55     89.33     77.89     82.22      80.0\n",
      "     upperBodyJacket      7.03     94.05     83.04     56.14     70.22      62.4\n",
      "       upperBodyLogo      3.89     95.22     84.55     43.29     72.97     54.34\n",
      "      upperBodyPlaid      2.67     97.74     90.69     55.05     83.25     66.27\n",
      "upperBodyShortSleeve     14.34     94.08      92.5      74.1     90.28     81.39\n",
      "upperBodyThinStripes      1.66     97.24     83.38     33.72     69.05     45.31\n",
      "     upperBodyTshirt      8.42     93.46     88.63      57.8     82.81     68.08\n",
      "      upperBodyOther     45.47     86.54     86.51     84.51      86.2     85.35\n",
      "      upperBodyVNeck      1.05     96.99     79.31     19.84     61.25     29.97\n",
      "     lowerBodyCasual     86.13     94.54     88.23     96.71     96.96     96.83\n",
      "     lowerBodyFormal     13.72     94.79     88.55     81.68     79.96     80.81\n",
      "      lowerBodyJeans     30.46     89.12     88.44     79.45      86.7     82.92\n",
      "     lowerBodyShorts      3.43     95.96      88.3     45.04     80.08     57.66\n",
      " lowerBodyShortSkirt      4.62     95.22     91.13     49.03     86.61     62.62\n",
      "   lowerBodyTrousers     51.96     86.33     86.28     86.27     87.64     86.95\n",
      "footwearLeatherShoes     29.14     91.21     90.16     83.13     87.63     85.32\n",
      "     footwearSandals      1.89     95.89     81.22     26.54     65.97     37.85\n",
      "       footwearShoes      36.5     81.66     81.63     71.96     81.51     76.44\n",
      "     footwearSneaker     22.04     86.21     84.75     64.75     82.15     72.42\n",
      "    carryingBackpack      19.7     90.91     88.31     73.57     84.03     78.45\n",
      "       carryingOther     20.14     83.68     80.87     57.13     76.16     65.29\n",
      "carryingMessengerBag     29.93     86.24     85.84     73.36     84.84     78.68\n",
      "     carryingNothing     27.51     87.92     86.97     74.69     84.84     79.44\n",
      " carryingPlasticBags       7.7     96.16     89.61     72.03     81.88     76.64\n",
      "      personalLess30     50.41     87.95     87.94     87.75     88.44     88.09\n",
      "      personalLess45     32.12     85.55     85.28     74.13     84.51     78.98\n",
      "      personalLess60     10.25     94.87     88.95     72.08     81.51     76.51\n",
      "    personalLarger60      6.07     99.12      97.2     90.87     95.01      92.9\n",
      "        personalMale     54.57     93.08     93.12     94.56     92.65     93.59\n",
      "                   -         -         -         -         -         -         -\n",
      "                mean         -     92.48     87.77     69.64      83.5     74.98\n"
     ]
    }
   ],
   "source": [
    "!python3 test.py --config /content/config.yml --resume \"/content/drive/My Drive/HIEN/Models/person_attribute_recognition/checkpoints/0820_212815/model_best_accuracy.pth\""
   ]
  },
  {
   "cell_type": "markdown",
   "metadata": {
    "colab_type": "text",
    "id": "pPSp1iT7iASr"
   },
   "source": [
    "##### so sánh sampler88"
   ]
  },
  {
   "cell_type": "code",
   "execution_count": null,
   "metadata": {
    "colab": {
     "base_uri": "https://localhost:8080/",
     "height": 34
    },
    "colab_type": "code",
    "id": "uRjf4TYwiASs",
    "outputId": "ccb8cfe5-4a5f-4dc8-82a7-c6fe1d2273fe"
   },
   "outputs": [
    {
     "name": "stdout",
     "output_type": "stream",
     "text": [
      "Overwriting /content/config1.yml\n"
     ]
    }
   ],
   "source": [
    "%%writefile /content/config1.yml\n",
    "base: config/base_episode.yml\n",
    "\n",
    "model:\n",
    "  backbone: resnet50\n",
    "  pooling: gem_pooling\n",
    "  head: BNHead\n",
    "  bn_where: after\n",
    "  use_tqdm: True\n",
    "\n",
    "data:\n",
    "  data_dir: datasets\n",
    "  name: peta\n",
    "  image_size: [256, 192]\n",
    "  train:\n",
    "    num_attribute: 8\n",
    "    num_positive: 8\n",
    "    num_negative: 8\n",
    "    num_iterator: 700\n",
    "  val:\n",
    "    num_attribute: 8\n",
    "    num_positive: 8\n",
    "    num_negative: 8\n",
    "    num_iterator: 100\n",
    "  use_tqdm: True\n",
    "\n",
    "optimizer:\n",
    "  name: sgd\n",
    "  lr: 0.01\n",
    "  specified_lr:\n",
    "    enable: True\n",
    "    lr: 0.1\n",
    "    layers: [head]\n",
    "\n",
    "loss:\n",
    "  name: Singular_BCE\n",
    "  reduction: mean\n",
    "\n",
    "freeze:\n",
    "  enable: True\n",
    "  layers: [backbone]\n",
    "  epochs: 10\n",
    "\n",
    "lr_scheduler:\n",
    "  enable: True\n",
    "  name: CosineAnnealingLR\n",
    "  max_iters: 120\n",
    "  eta_min_lr: 0\n",
    "\n",
    "clip_grad_norm_:\n",
    "  enable: True\n",
    "  max_norm: 10.0\n",
    "\n",
    "trainer:\n",
    "  n_gpu: 1\n",
    "  epochs: 120\n",
    "    \n",
    "trainer_colab:\n",
    "  epochs: 120"
   ]
  },
  {
   "cell_type": "code",
   "execution_count": null,
   "metadata": {
    "colab": {
     "base_uri": "https://localhost:8080/",
     "height": 34
    },
    "colab_type": "code",
    "id": "PEwou9VViASv",
    "outputId": "d06ddf1e-aee2-4c61-ef51-08b1622ee4a5"
   },
   "outputs": [
    {
     "name": "stdout",
     "output_type": "stream",
     "text": [
      "Overwriting /content/config2.yml\n"
     ]
    }
   ],
   "source": [
    "%%writefile /content/config2.yml\n",
    "base: config/base_episode.yml\n",
    "\n",
    "model:\n",
    "  backbone: resnet50\n",
    "  pooling: gem_pooling\n",
    "  head: BNHead\n",
    "  bn_where: after\n",
    "  use_tqdm: True\n",
    "\n",
    "data:\n",
    "  data_dir: datasets\n",
    "  name: peta\n",
    "  sampler: RandomBatchSamplerAttribute1\n",
    "  train:\n",
    "    num_attribute: 8\n",
    "    num_positive: 8\n",
    "    num_negative: 8\n",
    "    num_iterator: 700\n",
    "  val:\n",
    "    num_attribute: 8\n",
    "    num_positive: 8\n",
    "    num_negative: 8\n",
    "    num_iterator: 100\n",
    "  use_tqdm: True\n",
    "\n",
    "optimizer:\n",
    "  name: sgd\n",
    "  lr: 0.01\n",
    "  specified_lr:\n",
    "    enable: True\n",
    "    lr: 0.1\n",
    "    layers: [head]\n",
    "\n",
    "loss:\n",
    "  name: Singular_BCE\n",
    "  reduction: mean\n",
    "\n",
    "freeze:\n",
    "  enable: True\n",
    "  layers: [backbone]\n",
    "  epochs: 10\n",
    "\n",
    "lr_scheduler:\n",
    "  enable: True\n",
    "  name: ReduceLROnPlateau\n",
    "  factor: 0.1\n",
    "  patience: 10\n",
    "  min_lr: 0\n",
    "\n",
    "clip_grad_norm_:\n",
    "  enable: True\n",
    "  max_norm: 10.0\n",
    "\n",
    "trainer:\n",
    "  n_gpu: 1\n",
    "  epochs: 120\n",
    "    \n",
    "trainer_colab:\n",
    "  epochs: 120"
   ]
  },
  {
   "cell_type": "code",
   "execution_count": null,
   "metadata": {
    "colab": {
     "base_uri": "https://localhost:8080/",
     "height": 887,
     "referenced_widgets": [
      "458a16bf40584beabb3d478e70d8c711",
      "164bdd254c3e40bbb6249e3d585bff02",
      "59c800741be645938986dd6897036a3a",
      "9485d3dfa9b74870982cec1f0f4549b5",
      "c29470603a834c9c84d92d7fbed1b043",
      "38cc8baf70b84afead79b844565d5bca",
      "3dcf163396c64aca81860b3c0a1d133a",
      "f616d08eb52846698e97c118e6d6bd50",
      "8336bc74ce5d4119a19433c8bef20627",
      "616417e8bfa541818fb08db0b93626d6",
      "84a6d52c8768414380240566902fb9e9",
      "b5b0726825fe422d8118c9bca9387f0d",
      "33f294bd848c49beb5ba01a78b18bdf4",
      "75178daa90834712ac19de4480a591a9",
      "deb24f8810e24b25b8fb2fefb57f1206",
      "149274415bce4409849833117855b87f"
     ]
    },
    "colab_type": "code",
    "id": "rTQV3VV1iPoJ",
    "outputId": "9895e15f-9f17-4e0f-aeff-119e92a82c43"
   },
   "outputs": [
    {
     "name": "stdout",
     "output_type": "stream",
     "text": [
      "Copying data...\n",
      "Copied!\n",
      "Copying data...\n",
      "Copied!\n",
      "Loading checkpoint: /content/drive/My Drive/HIEN/Models/person_attribute_recognition/checkpoints/0828_112607/model_last.pth ...\n"
     ]
    },
    {
     "data": {
      "application/vnd.jupyter.widget-view+json": {
       "model_id": "458a16bf40584beabb3d478e70d8c711",
       "version_major": 2,
       "version_minor": 0
      },
      "text/plain": [
       "HBox(children=(FloatProgress(value=0.0, max=60.0), HTML(value='')))"
      ]
     },
     "metadata": {
      "tags": []
     },
     "output_type": "display_data"
    },
    {
     "name": "stdout",
     "output_type": "stream",
     "text": [
      "\n",
      "Loading checkpoint: /content/drive/My Drive/HIEN/Models/person_attribute_recognition/checkpoints/0820_212815/model_best_accuracy.pth ...\n"
     ]
    },
    {
     "data": {
      "application/vnd.jupyter.widget-view+json": {
       "model_id": "8336bc74ce5d4119a19433c8bef20627",
       "version_major": 2,
       "version_minor": 0
      },
      "text/plain": [
       "HBox(children=(FloatProgress(value=0.0, max=60.0), HTML(value='')))"
      ]
     },
     "metadata": {
      "tags": []
     },
     "output_type": "display_data"
    },
    {
     "name": "stdout",
     "output_type": "stream",
     "text": [
      "\n",
      "\n",
      "           attribute      weight       accuracy          mA           precision        recall          f1_score\n",
      "                   -           -              -           -                   -             -                 -\n",
      "        accessoryHat        9.54\u001b[94m     97.91\u001b[0m|97.63      94.4|\u001b[94m 94.5\u001b[0m\u001b[94m     88.24\u001b[0m|85.44     90.07|\u001b[94m90.62\u001b[0m\u001b[94m     89.15\u001b[0m|87.95\n",
      "    accessoryMuffler        8.32\u001b[94m     99.18\u001b[0m|98.47     96.39|\u001b[94m96.58\u001b[0m\u001b[94m     97.03\u001b[0m|88.17     93.04|\u001b[94m 94.3\u001b[0m\u001b[94m     94.99\u001b[0m|91.13\n",
      "    accessoryNothing       75.55\u001b[94m     92.66\u001b[0m|91.83     87.91|\u001b[94m88.19\u001b[0m     93.36|\u001b[94m93.96\u001b[0m\u001b[94m      97.2\u001b[0m|95.32\u001b[94m     95.24\u001b[0m|94.63\n",
      " accessorySunglasses        2.87\u001b[94m     96.12\u001b[0m|95.58     77.97|\u001b[94m81.03\u001b[0m\u001b[94m     38.44\u001b[0m| 35.4     58.72|\u001b[94m 65.6\u001b[0m\u001b[94m     46.46\u001b[0m|45.98\n",
      "            hairLong       23.74\u001b[94m     94.01\u001b[0m|93.07     92.49|\u001b[94m92.97\u001b[0m\u001b[94m     85.82\u001b[0m|80.83     89.58|\u001b[94m92.79\u001b[0m\u001b[94m     87.66\u001b[0m| 86.4\n",
      "     upperBodyCasual       85.46\u001b[94m     94.38\u001b[0m|94.09     87.33|\u001b[94m87.87\u001b[0m     96.19|\u001b[94m96.45\u001b[0m\u001b[94m     97.27\u001b[0m|96.64\u001b[94m     96.73\u001b[0m|96.55\n",
      "     upperBodyFormal       13.25\u001b[94m     95.03\u001b[0m|94.55     88.64|\u001b[94m89.33\u001b[0m\u001b[94m     82.06\u001b[0m|77.89     79.94|\u001b[94m82.22\u001b[0m\u001b[94m     80.99\u001b[0m| 80.0\n",
      "     upperBodyJacket        7.03\u001b[94m     94.55\u001b[0m|94.05     82.79|\u001b[94m83.04\u001b[0m\u001b[94m     59.71\u001b[0m|56.14      69.1|\u001b[94m70.22\u001b[0m\u001b[94m     64.06\u001b[0m| 62.4\n",
      "       upperBodyLogo        3.89\u001b[94m     95.64\u001b[0m|95.22     76.66|\u001b[94m84.55\u001b[0m\u001b[94m     45.23\u001b[0m|43.29     56.08|\u001b[94m72.97\u001b[0m     50.08|\u001b[94m54.34\u001b[0m\n",
      "      upperBodyPlaid        2.67\u001b[94m     97.87\u001b[0m|97.74     90.04|\u001b[94m90.69\u001b[0m\u001b[94m     57.04\u001b[0m|55.05     81.77|\u001b[94m83.25\u001b[0m\u001b[94m     67.21\u001b[0m|66.27\n",
      "upperBodyShortSleeve       14.34\u001b[94m     94.61\u001b[0m|94.08     91.54|\u001b[94m 92.5\u001b[0m\u001b[94m     77.82\u001b[0m| 74.1     87.25|\u001b[94m90.28\u001b[0m\u001b[94m     82.27\u001b[0m|81.39\n",
      "upperBodyThinStripes        1.66\u001b[94m     98.04\u001b[0m|97.24     80.28|\u001b[94m83.38\u001b[0m\u001b[94m     43.58\u001b[0m|33.72      61.9|\u001b[94m69.05\u001b[0m\u001b[94m     51.15\u001b[0m|45.31\n",
      "     upperBodyTshirt        8.42\u001b[94m     94.14\u001b[0m|93.46     86.37|\u001b[94m88.63\u001b[0m\u001b[94m     62.33\u001b[0m| 57.8     77.03|\u001b[94m82.81\u001b[0m\u001b[94m      68.9\u001b[0m|68.08\n",
      "      upperBodyOther       45.47\u001b[94m     87.62\u001b[0m|86.54\u001b[94m     87.32\u001b[0m|86.51\u001b[94m     88.19\u001b[0m|84.51     84.03|\u001b[94m 86.2\u001b[0m\u001b[94m     86.06\u001b[0m|85.35\n",
      "      upperBodyVNeck        1.05\u001b[94m     98.59\u001b[0m|96.99     77.03|\u001b[94m79.31\u001b[0m\u001b[94m     38.26\u001b[0m|19.84      55.0|\u001b[94m61.25\u001b[0m\u001b[94m     45.13\u001b[0m|29.97\n",
      "     lowerBodyCasual       86.13\u001b[94m     94.78\u001b[0m|94.54     87.22|\u001b[94m88.23\u001b[0m     96.31|\u001b[94m96.71\u001b[0m\u001b[94m     97.68\u001b[0m|96.96\u001b[94m     96.99\u001b[0m|96.83\n",
      "     lowerBodyFormal       13.72\u001b[94m     94.96\u001b[0m|94.79     87.65|\u001b[94m88.55\u001b[0m\u001b[94m     84.45\u001b[0m|81.68     77.56|\u001b[94m79.96\u001b[0m\u001b[94m     80.86\u001b[0m|80.81\n",
      "      lowerBodyJeans       30.46\u001b[94m     89.67\u001b[0m|89.12      88.3|\u001b[94m88.44\u001b[0m\u001b[94m     81.93\u001b[0m|79.45     84.79|\u001b[94m 86.7\u001b[0m\u001b[94m     83.34\u001b[0m|82.92\n",
      "     lowerBodyShorts        3.43\u001b[94m     97.04\u001b[0m|95.96     85.16|\u001b[94m 88.3\u001b[0m\u001b[94m     55.26\u001b[0m|45.04     72.41|\u001b[94m80.08\u001b[0m\u001b[94m     62.69\u001b[0m|57.66\n",
      " lowerBodyShortSkirt        4.62\u001b[94m     96.57\u001b[0m|95.22     89.39|\u001b[94m91.13\u001b[0m\u001b[94m     59.34\u001b[0m|49.03     81.48|\u001b[94m86.61\u001b[0m\u001b[94m     68.67\u001b[0m|62.62\n",
      "   lowerBodyTrousers       51.96\u001b[94m     87.24\u001b[0m|86.33\u001b[94m     87.17\u001b[0m|86.28\u001b[94m     86.95\u001b[0m|86.27\u001b[94m     88.76\u001b[0m|87.64\u001b[94m     87.84\u001b[0m|86.95\n",
      "footwearLeatherShoes       29.14\u001b[94m     91.28\u001b[0m|91.21     89.25|\u001b[94m90.16\u001b[0m\u001b[94m      85.5\u001b[0m|83.13     84.38|\u001b[94m87.63\u001b[0m     84.94|\u001b[94m85.32\u001b[0m\n",
      "     footwearSandals        1.89\u001b[94m     96.99\u001b[0m|95.89     79.05|\u001b[94m81.22\u001b[0m\u001b[94m     33.59\u001b[0m|26.54     60.42|\u001b[94m65.97\u001b[0m\u001b[94m     43.18\u001b[0m|37.85\n",
      "       footwearShoes        36.5\u001b[94m      82.7\u001b[0m|81.66\u001b[94m     81.83\u001b[0m|81.63\u001b[94m     75.13\u001b[0m|71.96     78.62|\u001b[94m81.51\u001b[0m\u001b[94m     76.84\u001b[0m|76.44\n",
      "     footwearSneaker       22.04\u001b[94m     87.43\u001b[0m|86.21     84.73|\u001b[94m84.75\u001b[0m\u001b[94m      68.4\u001b[0m|64.75     79.88|\u001b[94m82.15\u001b[0m\u001b[94m      73.7\u001b[0m|72.42\n",
      "    carryingBackpack        19.7     90.32|\u001b[94m90.91\u001b[0m\u001b[94m      88.9\u001b[0m|88.31     70.78|\u001b[94m73.57\u001b[0m\u001b[94m     86.57\u001b[0m|84.03     77.88|\u001b[94m78.45\u001b[0m\n",
      "       carryingOther       20.14\u001b[94m     86.66\u001b[0m|83.68     79.29|\u001b[94m80.87\u001b[0m\u001b[94m     66.86\u001b[0m|57.13     66.95|\u001b[94m76.16\u001b[0m\u001b[94m     66.91\u001b[0m|65.29\n",
      "carryingMessengerBag       29.93\u001b[94m     87.97\u001b[0m|86.24     85.63|\u001b[94m85.84\u001b[0m\u001b[94m     79.99\u001b[0m|73.36     79.78|\u001b[94m84.84\u001b[0m\u001b[94m     79.89\u001b[0m|78.68\n",
      "     carryingNothing       27.51\u001b[94m      88.3\u001b[0m|87.92     86.61|\u001b[94m86.97\u001b[0m\u001b[94m     76.57\u001b[0m|74.69     82.83|\u001b[94m84.84\u001b[0m\u001b[94m     79.58\u001b[0m|79.44\n",
      " carryingPlasticBags         7.7\u001b[94m     97.09\u001b[0m|96.16     88.63|\u001b[94m89.61\u001b[0m\u001b[94m     82.73\u001b[0m|72.03     78.63|\u001b[94m81.88\u001b[0m\u001b[94m     80.63\u001b[0m|76.64\n",
      "      personalLess30       50.41\u001b[94m     88.45\u001b[0m|87.95\u001b[94m     88.42\u001b[0m|87.94     86.47|\u001b[94m87.75\u001b[0m\u001b[94m     91.39\u001b[0m|88.44\u001b[94m     88.86\u001b[0m|88.09\n",
      "      personalLess45       32.12\u001b[94m     86.88\u001b[0m|85.55\u001b[94m     85.43\u001b[0m|85.28\u001b[94m     78.56\u001b[0m|74.13     81.36|\u001b[94m84.51\u001b[0m\u001b[94m     79.94\u001b[0m|78.98\n",
      "      personalLess60       10.25\u001b[94m     96.05\u001b[0m|94.87      87.0|\u001b[94m88.95\u001b[0m\u001b[94m     84.26\u001b[0m|72.08     75.61|\u001b[94m81.51\u001b[0m\u001b[94m      79.7\u001b[0m|76.51\n",
      "    personalLarger60        6.07      99.0|\u001b[94m99.12\u001b[0m     96.32|\u001b[94m 97.2\u001b[0m     90.53|\u001b[94m90.87\u001b[0m     93.28|\u001b[94m95.01\u001b[0m     91.88|\u001b[94m 92.9\u001b[0m\n",
      "        personalMale       54.57\u001b[94m     93.51\u001b[0m|93.08\u001b[94m     93.29\u001b[0m|93.12     92.61|\u001b[94m94.56\u001b[0m\u001b[94m     95.76\u001b[0m|92.65\u001b[94m     94.16\u001b[0m|93.59\n",
      "                   -           -         -|    -         -|    -         -|    -         -|    -         -|    -\n",
      "                mean           -\u001b[94m     93.24\u001b[0m|92.48     86.76|\u001b[94m87.77\u001b[0m\u001b[94m     73.99\u001b[0m|69.64     80.46|\u001b[94m 83.5\u001b[0m\u001b[94m      76.7\u001b[0m|74.98\n"
     ]
    }
   ],
   "source": [
    "import argparse\n",
    "import os\n",
    "import logging\n",
    "import torch\n",
    "import numpy as np\n",
    "\n",
    "from tqdm import tqdm\n",
    "from easydict import EasyDict\n",
    "\n",
    "from models import build_model\n",
    "from data import build_datamanager\n",
    "from logger import setup_logging\n",
    "from utils import read_config, rmdir, summary, array_interweave, COLOR\n",
    "from evaluators import recognition_metrics\n",
    "from evaluators.recognition_metrics import log_test, compare_class_based, test\n",
    "\n",
    "config1 = \"config1.yml\"\n",
    "config2 = \"config2.yml\"\n",
    "\n",
    "resume1 = \"/content/drive/My Drive/HIEN/Models/person_attribute_recognition/checkpoints/0828_112607/model_last.pth\"\n",
    "resume2 = \"/content/drive/My Drive/HIEN/Models/person_attribute_recognition/checkpoints/0820_212815/model_best_accuracy.pth\"\n",
    "\n",
    "config1 = read_config(config1)\n",
    "config1.update({'resume': resume1})\n",
    "config1.update({'colab': True})\n",
    "\n",
    "config2 = read_config(config2)\n",
    "config2.update({'resume': resume2})\n",
    "config2.update({'colab': True})\n",
    "\n",
    "datamanager1, _ = build_datamanager(config1['type'], config1['data'])\n",
    "datamanager2, _ = build_datamanager(config2['type'], config2['data'])\n",
    "\n",
    "# model1\n",
    "result_label1, result_instance1 = test(config1, datamanager1, print)\n",
    "\n",
    "# model 2\n",
    "result_label2, result_instance2 = test(config2, datamanager2, print)\n",
    "print()\n",
    "compare_class_based(print, datamanager1.datasource.get_attribute(), datamanager1.datasource.get_weight('test'), result_label1, result_label2, COLOR.BLUE)"
   ]
  },
  {
   "cell_type": "code",
   "execution_count": null,
   "metadata": {
    "colab": {
     "base_uri": "https://localhost:8080/",
     "height": 17
    },
    "colab_type": "code",
    "id": "XZ5DfizGVDYc",
    "outputId": "91f5e64e-d061-429b-c9a3-5a4ee1356e51"
   },
   "outputs": [
    {
     "data": {
      "application/javascript": [
       "\n",
       "    async function download(id, filename, size) {\n",
       "      if (!google.colab.kernel.accessAllowed) {\n",
       "        return;\n",
       "      }\n",
       "      const div = document.createElement('div');\n",
       "      const label = document.createElement('label');\n",
       "      label.textContent = `Downloading \"${filename}\": `;\n",
       "      div.appendChild(label);\n",
       "      const progress = document.createElement('progress');\n",
       "      progress.max = size;\n",
       "      div.appendChild(progress);\n",
       "      document.body.appendChild(div);\n",
       "\n",
       "      const buffers = [];\n",
       "      let downloaded = 0;\n",
       "\n",
       "      const channel = await google.colab.kernel.comms.open(id);\n",
       "      // Send a message to notify the kernel that we're ready.\n",
       "      channel.send({})\n",
       "\n",
       "      for await (const message of channel.messages) {\n",
       "        // Send a message to notify the kernel that we're ready.\n",
       "        channel.send({})\n",
       "        if (message.buffers) {\n",
       "          for (const buffer of message.buffers) {\n",
       "            buffers.push(buffer);\n",
       "            downloaded += buffer.byteLength;\n",
       "            progress.value = downloaded;\n",
       "          }\n",
       "        }\n",
       "      }\n",
       "      const blob = new Blob(buffers, {type: 'application/binary'});\n",
       "      const a = document.createElement('a');\n",
       "      a.href = window.URL.createObjectURL(blob);\n",
       "      a.download = filename;\n",
       "      div.appendChild(a);\n",
       "      a.click();\n",
       "      div.remove();\n",
       "    }\n",
       "  "
      ],
      "text/plain": [
       "<IPython.core.display.Javascript object>"
      ]
     },
     "metadata": {
      "tags": []
     },
     "output_type": "display_data"
    },
    {
     "data": {
      "application/javascript": [
       "download(\"download_a589a440-2ce5-4954-ae50-3898a6e1b6af\", \"episode1_vs_episode2_thuan_accuracy.pgf\", 52368)"
      ],
      "text/plain": [
       "<IPython.core.display.Javascript object>"
      ]
     },
     "metadata": {
      "tags": []
     },
     "output_type": "display_data"
    },
    {
     "data": {
      "application/javascript": [
       "\n",
       "    async function download(id, filename, size) {\n",
       "      if (!google.colab.kernel.accessAllowed) {\n",
       "        return;\n",
       "      }\n",
       "      const div = document.createElement('div');\n",
       "      const label = document.createElement('label');\n",
       "      label.textContent = `Downloading \"${filename}\": `;\n",
       "      div.appendChild(label);\n",
       "      const progress = document.createElement('progress');\n",
       "      progress.max = size;\n",
       "      div.appendChild(progress);\n",
       "      document.body.appendChild(div);\n",
       "\n",
       "      const buffers = [];\n",
       "      let downloaded = 0;\n",
       "\n",
       "      const channel = await google.colab.kernel.comms.open(id);\n",
       "      // Send a message to notify the kernel that we're ready.\n",
       "      channel.send({})\n",
       "\n",
       "      for await (const message of channel.messages) {\n",
       "        // Send a message to notify the kernel that we're ready.\n",
       "        channel.send({})\n",
       "        if (message.buffers) {\n",
       "          for (const buffer of message.buffers) {\n",
       "            buffers.push(buffer);\n",
       "            downloaded += buffer.byteLength;\n",
       "            progress.value = downloaded;\n",
       "          }\n",
       "        }\n",
       "      }\n",
       "      const blob = new Blob(buffers, {type: 'application/binary'});\n",
       "      const a = document.createElement('a');\n",
       "      a.href = window.URL.createObjectURL(blob);\n",
       "      a.download = filename;\n",
       "      div.appendChild(a);\n",
       "      a.click();\n",
       "      div.remove();\n",
       "    }\n",
       "  "
      ],
      "text/plain": [
       "<IPython.core.display.Javascript object>"
      ]
     },
     "metadata": {
      "tags": []
     },
     "output_type": "display_data"
    },
    {
     "data": {
      "application/javascript": [
       "download(\"download_3cdac57e-c249-4908-85ce-8d47388af9cb\", \"episode1_vs_episode2_thuan_mean_accuracy.pgf\", 46712)"
      ],
      "text/plain": [
       "<IPython.core.display.Javascript object>"
      ]
     },
     "metadata": {
      "tags": []
     },
     "output_type": "display_data"
    },
    {
     "data": {
      "application/javascript": [
       "\n",
       "    async function download(id, filename, size) {\n",
       "      if (!google.colab.kernel.accessAllowed) {\n",
       "        return;\n",
       "      }\n",
       "      const div = document.createElement('div');\n",
       "      const label = document.createElement('label');\n",
       "      label.textContent = `Downloading \"${filename}\": `;\n",
       "      div.appendChild(label);\n",
       "      const progress = document.createElement('progress');\n",
       "      progress.max = size;\n",
       "      div.appendChild(progress);\n",
       "      document.body.appendChild(div);\n",
       "\n",
       "      const buffers = [];\n",
       "      let downloaded = 0;\n",
       "\n",
       "      const channel = await google.colab.kernel.comms.open(id);\n",
       "      // Send a message to notify the kernel that we're ready.\n",
       "      channel.send({})\n",
       "\n",
       "      for await (const message of channel.messages) {\n",
       "        // Send a message to notify the kernel that we're ready.\n",
       "        channel.send({})\n",
       "        if (message.buffers) {\n",
       "          for (const buffer of message.buffers) {\n",
       "            buffers.push(buffer);\n",
       "            downloaded += buffer.byteLength;\n",
       "            progress.value = downloaded;\n",
       "          }\n",
       "        }\n",
       "      }\n",
       "      const blob = new Blob(buffers, {type: 'application/binary'});\n",
       "      const a = document.createElement('a');\n",
       "      a.href = window.URL.createObjectURL(blob);\n",
       "      a.download = filename;\n",
       "      div.appendChild(a);\n",
       "      a.click();\n",
       "      div.remove();\n",
       "    }\n",
       "  "
      ],
      "text/plain": [
       "<IPython.core.display.Javascript object>"
      ]
     },
     "metadata": {
      "tags": []
     },
     "output_type": "display_data"
    },
    {
     "data": {
      "application/javascript": [
       "download(\"download_e1f5fa58-a7e6-425a-bf4f-8234cc91315c\", \"episode1_vs_episode2_thuan_precision.pgf\", 53764)"
      ],
      "text/plain": [
       "<IPython.core.display.Javascript object>"
      ]
     },
     "metadata": {
      "tags": []
     },
     "output_type": "display_data"
    },
    {
     "data": {
      "application/javascript": [
       "\n",
       "    async function download(id, filename, size) {\n",
       "      if (!google.colab.kernel.accessAllowed) {\n",
       "        return;\n",
       "      }\n",
       "      const div = document.createElement('div');\n",
       "      const label = document.createElement('label');\n",
       "      label.textContent = `Downloading \"${filename}\": `;\n",
       "      div.appendChild(label);\n",
       "      const progress = document.createElement('progress');\n",
       "      progress.max = size;\n",
       "      div.appendChild(progress);\n",
       "      document.body.appendChild(div);\n",
       "\n",
       "      const buffers = [];\n",
       "      let downloaded = 0;\n",
       "\n",
       "      const channel = await google.colab.kernel.comms.open(id);\n",
       "      // Send a message to notify the kernel that we're ready.\n",
       "      channel.send({})\n",
       "\n",
       "      for await (const message of channel.messages) {\n",
       "        // Send a message to notify the kernel that we're ready.\n",
       "        channel.send({})\n",
       "        if (message.buffers) {\n",
       "          for (const buffer of message.buffers) {\n",
       "            buffers.push(buffer);\n",
       "            downloaded += buffer.byteLength;\n",
       "            progress.value = downloaded;\n",
       "          }\n",
       "        }\n",
       "      }\n",
       "      const blob = new Blob(buffers, {type: 'application/binary'});\n",
       "      const a = document.createElement('a');\n",
       "      a.href = window.URL.createObjectURL(blob);\n",
       "      a.download = filename;\n",
       "      div.appendChild(a);\n",
       "      a.click();\n",
       "      div.remove();\n",
       "    }\n",
       "  "
      ],
      "text/plain": [
       "<IPython.core.display.Javascript object>"
      ]
     },
     "metadata": {
      "tags": []
     },
     "output_type": "display_data"
    },
    {
     "data": {
      "application/javascript": [
       "download(\"download_cb52ea0d-0c78-410b-b9d4-1f926453effa\", \"episode1_vs_episode2_thuan_recall.pgf\", 46705)"
      ],
      "text/plain": [
       "<IPython.core.display.Javascript object>"
      ]
     },
     "metadata": {
      "tags": []
     },
     "output_type": "display_data"
    },
    {
     "data": {
      "application/javascript": [
       "\n",
       "    async function download(id, filename, size) {\n",
       "      if (!google.colab.kernel.accessAllowed) {\n",
       "        return;\n",
       "      }\n",
       "      const div = document.createElement('div');\n",
       "      const label = document.createElement('label');\n",
       "      label.textContent = `Downloading \"${filename}\": `;\n",
       "      div.appendChild(label);\n",
       "      const progress = document.createElement('progress');\n",
       "      progress.max = size;\n",
       "      div.appendChild(progress);\n",
       "      document.body.appendChild(div);\n",
       "\n",
       "      const buffers = [];\n",
       "      let downloaded = 0;\n",
       "\n",
       "      const channel = await google.colab.kernel.comms.open(id);\n",
       "      // Send a message to notify the kernel that we're ready.\n",
       "      channel.send({})\n",
       "\n",
       "      for await (const message of channel.messages) {\n",
       "        // Send a message to notify the kernel that we're ready.\n",
       "        channel.send({})\n",
       "        if (message.buffers) {\n",
       "          for (const buffer of message.buffers) {\n",
       "            buffers.push(buffer);\n",
       "            downloaded += buffer.byteLength;\n",
       "            progress.value = downloaded;\n",
       "          }\n",
       "        }\n",
       "      }\n",
       "      const blob = new Blob(buffers, {type: 'application/binary'});\n",
       "      const a = document.createElement('a');\n",
       "      a.href = window.URL.createObjectURL(blob);\n",
       "      a.download = filename;\n",
       "      div.appendChild(a);\n",
       "      a.click();\n",
       "      div.remove();\n",
       "    }\n",
       "  "
      ],
      "text/plain": [
       "<IPython.core.display.Javascript object>"
      ]
     },
     "metadata": {
      "tags": []
     },
     "output_type": "display_data"
    },
    {
     "data": {
      "application/javascript": [
       "download(\"download_6c741674-c6ac-4461-ab7d-8b445cd9d579\", \"episode1_vs_episode2_thuan_f1_score.pgf\", 52352)"
      ],
      "text/plain": [
       "<IPython.core.display.Javascript object>"
      ]
     },
     "metadata": {
      "tags": []
     },
     "output_type": "display_data"
    }
   ],
   "source": [
    "tag = 'episode1_vs_episode2_thuan'\n",
    "\n",
    "import matplotlib\n",
    "from matplotlib import rc\n",
    "import matplotlib.pyplot as plt\n",
    "%matplotlib inline\n",
    "\n",
    "matplotlib.use(\"pgf\")\n",
    "matplotlib.rcParams.update({\n",
    "    \"pgf.texsystem\": \"pdflatex\",\n",
    "    'font.family': 'serif',\n",
    "    'text.usetex': True,\n",
    "    'pgf.rcfonts': False,\n",
    "})\n",
    "\n",
    "from matplotlib.patches import ConnectionPatch\n",
    "from matplotlib import rcParams\n",
    "from google.colab import files\n",
    "\n",
    "mapping_label = {'accuracy': 'Accuracy', 'mean_accuracy': 'mean Accuracy', 'precision': 'Precision', 'recall': 'Recall', 'f1_score': 'F1 score'}\n",
    "for metric in ['accuracy', 'mean_accuracy', 'precision', 'recall', 'f1_score']:\n",
    "    fig, (ax) = plt.subplots(1, 1, sharex=True)\n",
    "    alpha = result_label1[metric] > result_label2[metric]\n",
    "    ax.scatter(datamanager1.datasource.get_weight('test'), result_label1[metric]*100, color='r', label='Theo phân phối đều')\n",
    "    ax.scatter(datamanager1.datasource.get_weight('test'), result_label2[metric]*100, color='b', label='Theo trọng số')\n",
    "    ax.legend(loc='best')\n",
    "    ax.grid()\n",
    "    for i in range(len(datamanager1.datasource.get_weight('test'))):\n",
    "        x = datamanager1.datasource.get_weight('test')[i]\n",
    "        y1 = (result_label1[metric]*100)[i]\n",
    "        y2 = (result_label2[metric]*100)[i]\n",
    "        color = 'r' if y1 >= y2 else 'b'\n",
    "        xyA = (x, y1)\n",
    "        xyB = (x, y2)\n",
    "        coordsA = \"data\"\n",
    "        coordsB = \"data\"\n",
    "        con = ConnectionPatch(xyA=xyA, xyB=xyB, coordsA=coordsA, coordsB=coordsB, arrowstyle=\"-\")\n",
    "        ax.add_artist(con)\n",
    "\n",
    "    # plt.show()\n",
    "    ax.set_xlabel('Tỷ lệ mẫu dương')\n",
    "    ax.set_ylabel('{}'.format(mapping_label[metric]))\n",
    "    fig.savefig('{}_{}.pgf'.format(tag, metric), dpi=1200)\n",
    "    files.download('{}_{}.pgf'.format(tag, metric))\n",
    "    # fig.show()\n",
    "    plt.close()"
   ]
  },
  {
   "cell_type": "markdown",
   "metadata": {
    "colab_type": "text",
    "id": "GMza0B8DYP--"
   },
   "source": [
    "##### so sánh với epoch-based training"
   ]
  },
  {
   "cell_type": "code",
   "execution_count": null,
   "metadata": {
    "colab": {
     "base_uri": "https://localhost:8080/",
     "height": 34
    },
    "colab_type": "code",
    "id": "0lR6jeyEYP-_",
    "outputId": "c5b5d209-6fbb-42bc-8ec8-ee40bbc1e496"
   },
   "outputs": [
    {
     "name": "stdout",
     "output_type": "stream",
     "text": [
      "Overwriting /content/config1.yml\n"
     ]
    }
   ],
   "source": [
    "%%writefile /content/config1.yml\n",
    "base: /content/config/base_epoch.yml\n",
    "\n",
    "model:\n",
    "  backbone: resnet50\n",
    "  pooling: gem_pooling\n",
    "  head: BNHead\n",
    "  bn_where: after\n",
    "  use_tqdm: True\n",
    "\n",
    "data:\n",
    "  data_dir: datasets\n",
    "  name: peta\n",
    "  batch_size: 64\n",
    "  use_tqdm: True\n",
    "\n",
    "optimizer:\n",
    "  name: adam\n",
    "  lr: 0.00035\n",
    "\n",
    "loss:\n",
    "  name: CEL_Sigmoid\n",
    "\n",
    "freeze:\n",
    "  enable: True\n",
    "  layers: [backbone]\n",
    "  epochs: 10\n",
    "\n",
    "lr_scheduler:\n",
    "  enable: True\n",
    "  name: WarmupMultiStepLR\n",
    "  steps: [30, 60, 90]\n",
    "  gamma: 0.1\n",
    "  warmup_factor: 0.01\n",
    "  warmup_iters: 10\n",
    "\n",
    "trainer:\n",
    "  n_gpu: 1\n",
    "  epochs: 120\n",
    "  \n",
    "trainer_colab:\n",
    "  epochs: 120"
   ]
  },
  {
   "cell_type": "code",
   "execution_count": null,
   "metadata": {
    "colab": {
     "base_uri": "https://localhost:8080/",
     "height": 34
    },
    "colab_type": "code",
    "id": "AjUd1U7ZYP_D",
    "outputId": "d36f2b89-5405-4ea3-a956-0add6e44ede5"
   },
   "outputs": [
    {
     "name": "stdout",
     "output_type": "stream",
     "text": [
      "Overwriting /content/config2.yml\n"
     ]
    }
   ],
   "source": [
    "%%writefile /content/config2.yml\n",
    "base: config/base_episode.yml\n",
    "\n",
    "model:\n",
    "  backbone: resnet50\n",
    "  pooling: gem_pooling\n",
    "  head: BNHead\n",
    "  bn_where: after\n",
    "  use_tqdm: True\n",
    "\n",
    "data:\n",
    "  data_dir: datasets\n",
    "  name: peta\n",
    "  sampler: RandomBatchSamplerAttribute1\n",
    "  train:\n",
    "    num_attribute: 8\n",
    "    num_positive: 8\n",
    "    num_negative: 8\n",
    "    num_iterator: 700\n",
    "  val:\n",
    "    num_attribute: 8\n",
    "    num_positive: 8\n",
    "    num_negative: 8\n",
    "    num_iterator: 100\n",
    "  use_tqdm: True\n",
    "\n",
    "optimizer:\n",
    "  name: sgd\n",
    "  lr: 0.01\n",
    "  specified_lr:\n",
    "    enable: True\n",
    "    lr: 0.1\n",
    "    layers: [head]\n",
    "\n",
    "loss:\n",
    "  name: Singular_BCE\n",
    "  reduction: mean\n",
    "\n",
    "freeze:\n",
    "  enable: True\n",
    "  layers: [backbone]\n",
    "  epochs: 10\n",
    "\n",
    "lr_scheduler:\n",
    "  enable: True\n",
    "  name: ReduceLROnPlateau\n",
    "  factor: 0.1\n",
    "  patience: 10\n",
    "  min_lr: 0\n",
    "\n",
    "clip_grad_norm_:\n",
    "  enable: True\n",
    "  max_norm: 10.0\n",
    "\n",
    "trainer:\n",
    "  n_gpu: 1\n",
    "  epochs: 120\n",
    "    \n",
    "trainer_colab:\n",
    "  epochs: 120"
   ]
  },
  {
   "cell_type": "code",
   "execution_count": null,
   "metadata": {
    "colab": {
     "base_uri": "https://localhost:8080/",
     "height": 887,
     "referenced_widgets": [
      "05334760ace34f27b7762bfecafc50fa",
      "2b0eaa71aaae4d77acd744a0f2fe359d",
      "b4b1f180af4b4d90b42769fc88068149",
      "e43b20ec42a24a818e122d4122f8df52",
      "f0b68beeb160491ba7430582cff5d9ca",
      "0ca7a60e94a14ec8936c8a0480ab8b13",
      "05b80cfdebaf4a3d9fd0da62cdf2eb70",
      "813e8cbafb494b2ab5e5f13c7cced9fd",
      "707535f52e38496f9c07680b66b4ee2a",
      "ae1245487c284cc0a30786cc81ae2994",
      "e2d8b7f988e4484fa77ee0586742c3b8",
      "98b8765dd97d4c3c8ce7de3e87c6eecf",
      "88c022b2c46543b7b86afbec0249e93d",
      "702729bd520240cd923de9f81d58b7f3",
      "303c2b113c424690a6aefe9fdf65e6a0",
      "ec4fab2fcc694d9bb4583227697ed9c4"
     ]
    },
    "colab_type": "code",
    "id": "IZpMvZiaYP_F",
    "outputId": "b13046e2-65f3-4b4e-8ed2-a343bdcef10f"
   },
   "outputs": [
    {
     "name": "stdout",
     "output_type": "stream",
     "text": [
      "Copying data...\n",
      "Copied!\n",
      "Copying data...\n",
      "Copied!\n",
      "Loading checkpoint: /content/drive/My Drive/HIEN/Models/OSNet_Person_Attribute_Refactor/checkpoints/0731_232453/model_best_accuracy.pth ...\n"
     ]
    },
    {
     "data": {
      "application/vnd.jupyter.widget-view+json": {
       "model_id": "05334760ace34f27b7762bfecafc50fa",
       "version_major": 2,
       "version_minor": 0
      },
      "text/plain": [
       "HBox(children=(FloatProgress(value=0.0, max=119.0), HTML(value='')))"
      ]
     },
     "metadata": {
      "tags": []
     },
     "output_type": "display_data"
    },
    {
     "name": "stdout",
     "output_type": "stream",
     "text": [
      "\n",
      "Loading checkpoint: /content/drive/My Drive/HIEN/Models/person_attribute_recognition/checkpoints/0820_212815/model_best_accuracy.pth ...\n"
     ]
    },
    {
     "data": {
      "application/vnd.jupyter.widget-view+json": {
       "model_id": "707535f52e38496f9c07680b66b4ee2a",
       "version_major": 2,
       "version_minor": 0
      },
      "text/plain": [
       "HBox(children=(FloatProgress(value=0.0, max=60.0), HTML(value='')))"
      ]
     },
     "metadata": {
      "tags": []
     },
     "output_type": "display_data"
    },
    {
     "name": "stdout",
     "output_type": "stream",
     "text": [
      "\n",
      "\n",
      "           attribute      weight       accuracy          mA           precision        recall          f1_score\n",
      "                   -           -              -           -                   -             -                 -\n",
      "        accessoryHat        9.54\u001b[94m     98.18\u001b[0m|97.63     93.81|\u001b[94m 94.5\u001b[0m\u001b[94m     92.23\u001b[0m|85.44     88.41|\u001b[94m90.62\u001b[0m\u001b[94m     90.28\u001b[0m|87.95\n",
      "    accessoryMuffler        8.32\u001b[94m     99.11\u001b[0m|98.47     96.42|\u001b[94m96.58\u001b[0m\u001b[94m     95.93\u001b[0m|88.17      93.2|\u001b[94m 94.3\u001b[0m\u001b[94m     94.54\u001b[0m|91.13\n",
      "    accessoryNothing       75.55\u001b[94m     92.68\u001b[0m|91.83     87.59|\u001b[94m88.19\u001b[0m     93.09|\u001b[94m93.96\u001b[0m\u001b[94m     97.56\u001b[0m|95.32\u001b[94m     95.27\u001b[0m|94.63\n",
      " accessorySunglasses        2.87\u001b[94m     97.88\u001b[0m|95.58     70.64|\u001b[94m81.03\u001b[0m\u001b[94m      72.8\u001b[0m| 35.4     41.74|\u001b[94m 65.6\u001b[0m\u001b[94m     53.06\u001b[0m|45.98\n",
      "            hairLong       23.74\u001b[94m     94.51\u001b[0m|93.07     92.05|\u001b[94m92.97\u001b[0m\u001b[94m     89.29\u001b[0m|80.83     87.36|\u001b[94m92.79\u001b[0m\u001b[94m     88.32\u001b[0m| 86.4\n",
      "     upperBodyCasual       85.46\u001b[94m      94.8\u001b[0m|94.09     85.77|\u001b[94m87.87\u001b[0m     95.55|\u001b[94m96.45\u001b[0m\u001b[94m     98.51\u001b[0m|96.64\u001b[94m     97.01\u001b[0m|96.55\n",
      "     upperBodyFormal       13.25\u001b[94m      95.5\u001b[0m|94.55     86.43|\u001b[94m89.33\u001b[0m\u001b[94m     90.21\u001b[0m|77.89     74.08|\u001b[94m82.22\u001b[0m\u001b[94m     81.35\u001b[0m| 80.0\n",
      "     upperBodyJacket        7.03\u001b[94m     96.03\u001b[0m|94.05     79.34|\u001b[94m83.04\u001b[0m\u001b[94m     78.43\u001b[0m|56.14     59.93|\u001b[94m70.22\u001b[0m\u001b[94m     67.94\u001b[0m| 62.4\n",
      "       upperBodyLogo        3.89\u001b[94m     96.86\u001b[0m|95.22     77.13|\u001b[94m84.55\u001b[0m\u001b[94m     60.44\u001b[0m|43.29     55.74|\u001b[94m72.97\u001b[0m\u001b[94m      58.0\u001b[0m|54.34\n",
      "      upperBodyPlaid        2.67\u001b[94m     98.76\u001b[0m|97.74     86.19|\u001b[94m90.69\u001b[0m\u001b[94m     79.14\u001b[0m|55.05     72.91|\u001b[94m83.25\u001b[0m\u001b[94m      75.9\u001b[0m|66.27\n",
      "upperBodyShortSleeve       14.34\u001b[94m     95.41\u001b[0m|94.08     91.02|\u001b[94m 92.5\u001b[0m\u001b[94m     83.41\u001b[0m| 74.1     84.86|\u001b[94m90.28\u001b[0m\u001b[94m     84.13\u001b[0m|81.39\n",
      "upperBodyThinStripes        1.66\u001b[94m      98.8\u001b[0m|97.24     73.25|\u001b[94m83.38\u001b[0m\u001b[94m     71.08\u001b[0m|33.72     46.83|\u001b[94m69.05\u001b[0m\u001b[94m     56.46\u001b[0m|45.31\n",
      "     upperBodyTshirt        8.42\u001b[94m     95.63\u001b[0m|93.46     83.85|\u001b[94m88.63\u001b[0m\u001b[94m     76.37\u001b[0m| 57.8     69.69|\u001b[94m82.81\u001b[0m\u001b[94m     72.88\u001b[0m|68.08\n",
      "      upperBodyOther       45.47\u001b[94m     87.78\u001b[0m|86.54\u001b[94m     87.47\u001b[0m|86.51\u001b[94m     88.51\u001b[0m|84.51     84.03|\u001b[94m 86.2\u001b[0m\u001b[94m     86.21\u001b[0m|85.35\n",
      "      upperBodyVNeck        1.05\u001b[94m      99.2\u001b[0m|96.99     63.11|\u001b[94m79.31\u001b[0m\u001b[94m      91.3\u001b[0m|19.84     26.25|\u001b[94m61.25\u001b[0m\u001b[94m     40.78\u001b[0m|29.97\n",
      "     lowerBodyCasual       86.13\u001b[94m     94.96\u001b[0m|94.54     85.17|\u001b[94m88.23\u001b[0m     95.58|\u001b[94m96.71\u001b[0m\u001b[94m     98.72\u001b[0m|96.96\u001b[94m     97.12\u001b[0m|96.83\n",
      "     lowerBodyFormal       13.72\u001b[94m      95.2\u001b[0m|94.79     85.73|\u001b[94m88.55\u001b[0m\u001b[94m     90.45\u001b[0m|81.68     72.67|\u001b[94m79.96\u001b[0m      80.6|\u001b[94m80.81\u001b[0m\n",
      "      lowerBodyJeans       30.46\u001b[94m     90.18\u001b[0m|89.12     87.94|\u001b[94m88.44\u001b[0m\u001b[94m     85.07\u001b[0m|79.45      82.2|\u001b[94m 86.7\u001b[0m\u001b[94m     83.61\u001b[0m|82.92\n",
      "     lowerBodyShorts        3.43\u001b[94m     97.71\u001b[0m|95.96     81.45|\u001b[94m 88.3\u001b[0m\u001b[94m     67.61\u001b[0m|45.04     63.98|\u001b[94m80.08\u001b[0m\u001b[94m     65.75\u001b[0m|57.66\n",
      " lowerBodyShortSkirt        4.62\u001b[94m     97.59\u001b[0m|95.22      84.5|\u001b[94m91.13\u001b[0m\u001b[94m     75.93\u001b[0m|49.03     70.09|\u001b[94m86.61\u001b[0m\u001b[94m     72.89\u001b[0m|62.62\n",
      "   lowerBodyTrousers       51.96\u001b[94m     86.99\u001b[0m|86.33\u001b[94m     86.96\u001b[0m|86.28\u001b[94m     87.37\u001b[0m|86.27     87.62|\u001b[94m87.64\u001b[0m\u001b[94m      87.5\u001b[0m|86.95\n",
      "footwearLeatherShoes       29.14\u001b[94m     91.97\u001b[0m|91.21     89.02|\u001b[94m90.16\u001b[0m\u001b[94m     89.63\u001b[0m|83.13     81.94|\u001b[94m87.63\u001b[0m\u001b[94m     85.61\u001b[0m|85.32\n",
      "     footwearSandals        1.89\u001b[94m     98.08\u001b[0m|95.89     72.12|\u001b[94m81.22\u001b[0m\u001b[94m     49.24\u001b[0m|26.54     45.14|\u001b[94m65.97\u001b[0m\u001b[94m      47.1\u001b[0m|37.85\n",
      "       footwearShoes        36.5\u001b[94m     83.24\u001b[0m|81.66\u001b[94m     82.32\u001b[0m|81.63\u001b[94m     76.06\u001b[0m|71.96     78.91|\u001b[94m81.51\u001b[0m\u001b[94m     77.46\u001b[0m|76.44\n",
      "     footwearSneaker       22.04\u001b[94m     88.34\u001b[0m|86.21      80.1|\u001b[94m84.75\u001b[0m\u001b[94m     78.16\u001b[0m|64.75     65.37|\u001b[94m82.15\u001b[0m      71.2|\u001b[94m72.42\u001b[0m\n",
      "    carryingBackpack        19.7\u001b[94m     92.46\u001b[0m|90.91      88.1|\u001b[94m88.31\u001b[0m\u001b[94m     80.84\u001b[0m|73.57      80.9|\u001b[94m84.03\u001b[0m\u001b[94m     80.87\u001b[0m|78.45\n",
      "       carryingOther       20.14\u001b[94m     88.45\u001b[0m|83.68     78.68|\u001b[94m80.87\u001b[0m\u001b[94m     76.02\u001b[0m|57.13     62.31|\u001b[94m76.16\u001b[0m\u001b[94m     68.49\u001b[0m|65.29\n",
      "carryingMessengerBag       29.93\u001b[94m     88.87\u001b[0m|86.24     85.76|\u001b[94m85.84\u001b[0m\u001b[94m     83.69\u001b[0m|73.36     78.02|\u001b[94m84.84\u001b[0m\u001b[94m     80.76\u001b[0m|78.68\n",
      "     carryingNothing       27.51\u001b[94m     89.62\u001b[0m|87.92      85.7|\u001b[94m86.97\u001b[0m\u001b[94m     83.94\u001b[0m|74.69      77.0|\u001b[94m84.84\u001b[0m\u001b[94m     80.32\u001b[0m|79.44\n",
      " carryingPlasticBags         7.7\u001b[94m     97.54\u001b[0m|96.16     87.78|\u001b[94m89.61\u001b[0m\u001b[94m     90.28\u001b[0m|72.03     76.24|\u001b[94m81.88\u001b[0m\u001b[94m     82.67\u001b[0m|76.64\n",
      "      personalLess30       50.41\u001b[94m     88.88\u001b[0m|87.95\u001b[94m     88.87\u001b[0m|87.94\u001b[94m     88.11\u001b[0m|87.75\u001b[94m     90.11\u001b[0m|88.44\u001b[94m      89.1\u001b[0m|88.09\n",
      "      personalLess45       32.12\u001b[94m     87.51\u001b[0m|85.55     85.06|\u001b[94m85.28\u001b[0m\u001b[94m     82.07\u001b[0m|74.13     78.21|\u001b[94m84.51\u001b[0m\u001b[94m     80.09\u001b[0m|78.98\n",
      "      personalLess60       10.25\u001b[94m     96.26\u001b[0m|94.87     87.63|\u001b[94m88.95\u001b[0m\u001b[94m     85.31\u001b[0m|72.08     76.77|\u001b[94m81.51\u001b[0m\u001b[94m     80.81\u001b[0m|76.51\n",
      "    personalLarger60        6.07\u001b[94m     99.33\u001b[0m|99.12     95.99|\u001b[94m 97.2\u001b[0m\u001b[94m     96.59\u001b[0m|90.87     92.19|\u001b[94m95.01\u001b[0m\u001b[94m     94.34\u001b[0m| 92.9\n",
      "        personalMale       54.57\u001b[94m     93.78\u001b[0m|93.08\u001b[94m     93.67\u001b[0m|93.12     93.86|\u001b[94m94.56\u001b[0m\u001b[94m     94.79\u001b[0m|92.65\u001b[94m     94.33\u001b[0m|93.59\n",
      "                   -           -         -|    -         -|    -         -|    -         -|    -         -|    -\n",
      "                mean           -\u001b[94m     93.95\u001b[0m|92.48     84.76|\u001b[94m87.77\u001b[0m\u001b[94m     83.25\u001b[0m|69.64     75.26|\u001b[94m 83.5\u001b[0m\u001b[94m     78.36\u001b[0m|74.98\n"
     ]
    }
   ],
   "source": [
    "import os\n",
    "import argparse\n",
    "import logging\n",
    "import torch\n",
    "import numpy as np\n",
    "\n",
    "from tqdm import tqdm\n",
    "from easydict import EasyDict\n",
    "\n",
    "from models import build_model\n",
    "from data import build_datamanager\n",
    "from logger import setup_logging\n",
    "from utils import read_config, rmdir, summary, array_interweave, COLOR\n",
    "from evaluators import recognition_metrics\n",
    "from evaluators.recognition_metrics import log_test, compare_class_based, test\n",
    "\n",
    "config1 = \"config1.yml\"\n",
    "config2 = \"config2.yml\"\n",
    "\n",
    "resume1 = \"/content/drive/My Drive/HIEN/Models/OSNet_Person_Attribute_Refactor/checkpoints/0731_232453/model_best_accuracy.pth\"\n",
    "resume2 = \"/content/drive/My Drive/HIEN/Models/person_attribute_recognition/checkpoints/0820_212815/model_best_accuracy.pth\"\n",
    "\n",
    "config1 = read_config(config1)\n",
    "config1.update({'resume': resume1})\n",
    "config1.update({'colab': True})\n",
    "\n",
    "config2 = read_config(config2)\n",
    "config2.update({'resume': resume2})\n",
    "config2.update({'colab': True})\n",
    "\n",
    "datamanager1, _ = build_datamanager(config1['type'], config1['data'])\n",
    "datamanager2, _ = build_datamanager(config2['type'], config2['data'])\n",
    "\n",
    "# model1\n",
    "result_label1, result_instance1 = test(config1, datamanager1, print)\n",
    "\n",
    "# model 2\n",
    "result_label2, result_instance2 = test(config2, datamanager2, print)\n",
    "print()\n",
    "compare_class_based(print, datamanager1.datasource.get_attribute(), datamanager1.datasource.get_weight('test'), result_label1, result_label2, COLOR.BLUE)"
   ]
  },
  {
   "cell_type": "markdown",
   "metadata": {
    "colab_type": "text",
    "id": "_dBWAXRP7sfV"
   },
   "source": [
    "# Episode training + Epoch training"
   ]
  },
  {
   "cell_type": "markdown",
   "metadata": {
    "colab_type": "text",
    "id": "-fWdbjf3HbPX"
   },
   "source": [
    "## Episode + 50 epoch"
   ]
  },
  {
   "cell_type": "markdown",
   "metadata": {
    "colab_type": "text",
    "id": "lGT6Q4lX8z67"
   },
   "source": [
    "### Kết quả"
   ]
  },
  {
   "cell_type": "code",
   "execution_count": null,
   "metadata": {
    "colab": {
     "base_uri": "https://localhost:8080/",
     "height": 34
    },
    "colab_type": "code",
    "id": "YBhcjRWF7v8s",
    "outputId": "3c5358cc-6317-4c2c-fea8-6dc41c8e6482"
   },
   "outputs": [
    {
     "name": "stdout",
     "output_type": "stream",
     "text": [
      "Overwriting /content/config.yml\n"
     ]
    }
   ],
   "source": [
    "%%writefile /content/config.yml\n",
    "base: /content/config/base_epoch.yml\n",
    "\n",
    "model:\n",
    "  backbone: resnet50\n",
    "  pooling: gem_pooling\n",
    "  head: BNHead\n",
    "  bn_where: after\n",
    "  use_tqdm: True\n",
    "\n",
    "data:\n",
    "  data_dir: datasets\n",
    "  name: peta\n",
    "  image_size: [256, 192]\n",
    "  batch_size: 64\n",
    "  use_tqdm: True\n",
    "\n",
    "optimizer:\n",
    "  name: adam\n",
    "  lr: 0.00035\n",
    "\n",
    "loss:\n",
    "  name: CEL_Sigmoid\n",
    "\n",
    "freeze:\n",
    "  enable: False\n",
    "  layers: [backbone]\n",
    "  epochs: 10\n",
    "\n",
    "lr_scheduler:\n",
    "  enable: True\n",
    "  MultiStepLR:\n",
    "  steps: [15, 25, 35]\n",
    "  gamma: 0.1\n",
    "\n",
    "trainer:\n",
    "  n_gpu: 1 \n",
    "  epochs: 120\n",
    "  \n",
    "trainer_colab:\n",
    "  epochs: 120"
   ]
  },
  {
   "cell_type": "code",
   "execution_count": null,
   "metadata": {
    "colab": {
     "base_uri": "https://localhost:8080/",
     "height": 857
    },
    "colab_type": "code",
    "id": "m9Zfg3Rq8NlD",
    "outputId": "c3c64bea-97f0-45bb-ce1f-318d81df142f"
   },
   "outputs": [
    {
     "name": "stdout",
     "output_type": "stream",
     "text": [
      "2020-09-09 09:31:38.998106: I tensorflow/stream_executor/platform/default/dso_loader.cc:48] Successfully opened dynamic library libcudart.so.10.1\n",
      "Copying data...\n",
      "Copied!\n",
      "Loading checkpoint: /content/drive/My Drive/HIEN/Models/person_attribute_recognition/checkpoints/0820_140042/model_last.pth ...\n",
      "100% 119/119 [00:43<00:00,  2.71it/s]\n",
      "instance-based metrics:\n",
      "accuracy: 0.8023\n",
      "precision: 0.8841\n",
      "recall: 0.8634\n",
      "f1_score: 0.8710\n",
      "class-based metrics:\n",
      "           attribute    weight  accuracy        mA precision    recall  f1_score\n",
      "                   -         -         -         -         -         -         -\n",
      "        accessoryHat      9.54     98.33     93.77     93.97     88.14     90.96\n",
      "    accessoryMuffler      8.32      99.2      96.4     97.19     93.04     95.07\n",
      "    accessoryNothing     75.55     92.83     87.92     93.29     97.53     95.36\n",
      " accessorySunglasses      2.87     97.88     68.19     77.67      36.7     49.84\n",
      "            hairLong     23.74     94.83     93.29     88.16     90.35     89.24\n",
      "     upperBodyCasual     85.46     94.96      86.2     95.68     98.55      97.1\n",
      "     upperBodyFormal     13.25     95.59     87.19     89.34     75.77      82.0\n",
      "     upperBodyJacket      7.03     95.86     78.82     76.64     58.99     66.67\n",
      "       upperBodyLogo      3.89     97.09      73.2     68.29      47.3     55.89\n",
      "      upperBodyPlaid      2.67     98.91     86.26     84.09     72.91      78.1\n",
      "upperBodyShortSleeve     14.34     95.25     89.86     84.23     82.29     83.25\n",
      "upperBodyThinStripes      1.66     98.88     70.17     83.61     40.48     54.55\n",
      "     upperBodyTshirt      8.42     95.72     83.34     78.07     68.44     72.94\n",
      "      upperBodyOther     45.47     88.08     87.73     89.28     83.85     86.48\n",
      "      upperBodyVNeck      1.05     99.18     63.72     84.62      27.5     41.51\n",
      "     lowerBodyCasual     86.13     95.03     85.73     95.76     98.59     97.15\n",
      "     lowerBodyFormal     13.72     95.26     86.25     89.85     73.83     81.05\n",
      "      lowerBodyJeans     30.46     90.32     88.34     84.67     83.28     83.97\n",
      "     lowerBodyShorts      3.43     97.95     77.51     78.38     55.56     65.02\n",
      " lowerBodyShortSkirt      4.62     97.63     83.85     77.49     68.66     72.81\n",
      "   lowerBodyTrousers     51.96     87.12      87.1     87.59     87.62     87.61\n",
      "footwearLeatherShoes     29.14      92.3     90.08     88.37     84.74     86.52\n",
      "     footwearSandals      1.89     98.45     66.18     69.12     32.64     44.34\n",
      "       footwearShoes      36.5     83.53     82.21     77.49     77.33     77.41\n",
      "     footwearSneaker     22.04      88.3     81.09     76.23     68.18     71.98\n",
      "    carryingBackpack      19.7     92.01     88.75     77.71     83.37     80.44\n",
      "       carryingOther     20.14     88.38     79.39     74.51     64.34     69.05\n",
      "carryingMessengerBag     29.93     88.89     85.57     84.32     77.27     80.64\n",
      "     carryingNothing     27.51     89.54     85.23     84.69     75.66     79.92\n",
      " carryingPlasticBags       7.7     97.43     88.03     88.24     76.92     82.19\n",
      "      personalLess30     50.41     88.54     88.52     86.82      91.1     88.91\n",
      "      personalLess45     32.12     87.53     85.24     81.67     78.86     80.24\n",
      "      personalLess60     10.25     96.55     86.94     89.83     74.84     81.65\n",
      "    personalLarger60      6.07     99.34     95.59     97.68     91.32     94.39\n",
      "        personalMale     54.57     93.63     93.57     94.08     94.26     94.17\n",
      "                   -         -         -         -         -         -         -\n",
      "                mean         -     94.01     84.32     84.82     74.29     78.24\n"
     ]
    }
   ],
   "source": [
    "!python3 test.py --config /content/config.yml --resume \"/content/drive/My Drive/HIEN/Models/person_attribute_recognition/checkpoints/0820_140042/model_last.pth\""
   ]
  },
  {
   "cell_type": "markdown",
   "metadata": {
    "colab_type": "text",
    "id": "QTj5Ea6ZlUZU"
   },
   "source": [
    "### So sánh với epoch-based training và episode-based training"
   ]
  },
  {
   "cell_type": "code",
   "execution_count": null,
   "metadata": {
    "colab": {
     "base_uri": "https://localhost:8080/",
     "height": 34
    },
    "colab_type": "code",
    "id": "vDPkIZ_clUZV",
    "outputId": "0f6f3c47-0390-4bb4-f292-fe5cddb986d8"
   },
   "outputs": [
    {
     "name": "stdout",
     "output_type": "stream",
     "text": [
      "Overwriting /content/config1.yml\n"
     ]
    }
   ],
   "source": [
    "%%writefile /content/config1.yml\n",
    "base: /content/config/base_epoch.yml\n",
    "\n",
    "model:\n",
    "  backbone: resnet50\n",
    "  pooling: gem_pooling\n",
    "  head: BNHead\n",
    "  bn_where: after\n",
    "  use_tqdm: True\n",
    "\n",
    "data:\n",
    "  data_dir: datasets\n",
    "  name: peta\n",
    "  image_size: [256, 192]\n",
    "  batch_size: 64\n",
    "  use_tqdm: True\n",
    "\n",
    "optimizer:\n",
    "  name: adam\n",
    "  lr: 0.00035\n",
    "\n",
    "loss:\n",
    "  name: CEL_Sigmoid\n",
    "\n",
    "freeze:\n",
    "  enable: True\n",
    "  layers: [backbone]\n",
    "  epochs: 10\n",
    "\n",
    "lr_scheduler:\n",
    "  enable: True\n",
    "  name: WarmupMultiStepLR\n",
    "  steps: [30, 60, 90]\n",
    "  gamma: 0.1\n",
    "  warmup_factor: 0.01\n",
    "  warmup_iters: 10\n",
    "\n",
    "trainer:\n",
    "  n_gpu: 1\n",
    "  epochs: 120\n",
    "  \n",
    "trainer_colab:\n",
    "  epochs: 120"
   ]
  },
  {
   "cell_type": "code",
   "execution_count": null,
   "metadata": {
    "colab": {
     "base_uri": "https://localhost:8080/",
     "height": 34
    },
    "colab_type": "code",
    "id": "xsRViDNvlUZX",
    "outputId": "ca48b6e4-3c6c-4ad0-94f0-3caada264e9b"
   },
   "outputs": [
    {
     "name": "stdout",
     "output_type": "stream",
     "text": [
      "Overwriting /content/config2.yml\n"
     ]
    }
   ],
   "source": [
    "%%writefile /content/config2.yml\n",
    "base: /content/config/base_episode.yml\n",
    "\n",
    "model:\n",
    "  backbone: resnet50\n",
    "  pooling: gem_pooling\n",
    "  head: BNHead\n",
    "  bn_where: after\n",
    "  use_tqdm: True\n",
    "\n",
    "data:\n",
    "  name: peta\n",
    "  image_size: [256, 192]\n",
    "  train:\n",
    "    num_attribute: 8\n",
    "    num_positive: 8\n",
    "    num_negative: 8\n",
    "    num_iterator: 700\n",
    "  val:\n",
    "    num_attribute: 8\n",
    "    num_positive: 8\n",
    "    num_negative: 8\n",
    "    num_iterator: 100\n",
    "  use_tqdm: True\n",
    "\n",
    "optimizer:\n",
    "  name: sgd\n",
    "  lr: 0.01\n",
    "  specified_lr:\n",
    "    enable: True\n",
    "    lr: 0.1\n",
    "    layers: [head]\n",
    "\n",
    "loss:\n",
    "  name: Singular_BCE\n",
    "  reduction: mean\n",
    "\n",
    "freeze:\n",
    "  enable: True\n",
    "  layers: [backbone]\n",
    "  epochs: 10\n",
    "\n",
    "lr_scheduler:\n",
    "  enable: True\n",
    "  name: CosineAnnealingLR\n",
    "  max_iters: 120\n",
    "  eta_min_lr: 0\n",
    "\n",
    "clip_grad_norm_:\n",
    "  enable: True\n",
    "  max_norm: 10.0\n",
    "\n",
    "trainer:\n",
    "  n_gpu: 1\n",
    "  epochs: 200\n",
    "    \n",
    "trainer_colab:\n",
    "  epochs: 200"
   ]
  },
  {
   "cell_type": "code",
   "execution_count": null,
   "metadata": {
    "colab": {
     "base_uri": "https://localhost:8080/",
     "height": 34
    },
    "colab_type": "code",
    "id": "JGLcaZmPlUZZ",
    "outputId": "59975b35-d8fb-4875-eb4d-9f923df27d41"
   },
   "outputs": [
    {
     "name": "stdout",
     "output_type": "stream",
     "text": [
      "Overwriting /content/config3.yml\n"
     ]
    }
   ],
   "source": [
    "%%writefile /content/config3.yml\n",
    "base: /content/config/base_epoch.yml\n",
    "\n",
    "model:\n",
    "  backbone: resnet50\n",
    "  pooling: gem_pooling\n",
    "  head: BNHead\n",
    "  bn_where: after\n",
    "  use_tqdm: True\n",
    "\n",
    "data:\n",
    "  data_dir: datasets\n",
    "  name: peta\n",
    "  image_size: [256, 192]\n",
    "  batch_size: 64\n",
    "  use_tqdm: True\n",
    "\n",
    "optimizer:\n",
    "  name: adam\n",
    "  lr: 0.00035\n",
    "\n",
    "loss:\n",
    "  name: CEL_Sigmoid\n",
    "\n",
    "freeze:\n",
    "  enable: False\n",
    "  layers: [backbone]\n",
    "  epochs: 10\n",
    "\n",
    "lr_scheduler:\n",
    "  enable: True\n",
    "  MultiStepLR:\n",
    "  steps: [15, 25, 35]\n",
    "  gamma: 0.1\n",
    "\n",
    "trainer:\n",
    "  n_gpu: 1\n",
    "  epochs: 120\n",
    "  \n",
    "trainer_colab:\n",
    "  epochs: 120"
   ]
  },
  {
   "cell_type": "code",
   "execution_count": null,
   "metadata": {
    "colab": {
     "base_uri": "https://localhost:8080/",
     "height": 1000,
     "referenced_widgets": [
      "5a03643327bf4e63bdb9e78f28045784",
      "1e9b04882f9c460dac76549d3db83dc9",
      "2c49aaa847ea4e5d9ca6a9c3b9591dbf",
      "59f47d705bac4117b442040cc8b32bc6",
      "b0294339de3949278ea1d9807fd4a9b3",
      "d86a4fd9524145b59db481f9486ee2ef",
      "c827d3974c71489c993b991ca57cadc0",
      "c781fd3d141f4ab8beb6c4e78047143b",
      "7e2db68cbcef4b4689e9e121282f086f",
      "69be04639e2c488794a1df8bfa3c34bf",
      "59b65a90c0ac4a77b55c1076e216d216",
      "04e33719f549478a99328a081c4356aa",
      "2406960bdeb04ca4af1ad9b993bc427e",
      "71eee45fe63241f0820169d12471a660",
      "7940a997da52454f9153dccf926c69aa",
      "0221cbf5a6de474f8a79a8559d509f25",
      "43b3321e8aa240edafc4c2532d890553",
      "7424a8bbae8c4ec999a4b03759be7419",
      "ceee0b08c00b493696457de5208ffbf9",
      "949d2c1aa1ea48819c5af7a32472d74b",
      "0978823e8e6742ee83feccffcd782c69",
      "c27a6b1c72d743428b954b18cd83be04",
      "f023c12a91854a6f8baae60c9d1e5957",
      "ff2fcc2f3f2342a0a4668ff5e1a7ca96"
     ]
    },
    "colab_type": "code",
    "id": "_2QY4qsClUZa",
    "outputId": "81f6dc78-1924-4b46-c1dc-832758e03618"
   },
   "outputs": [
    {
     "name": "stdout",
     "output_type": "stream",
     "text": [
      "Copying data...\n",
      "Copied!\n",
      "Copying data...\n",
      "Copied!\n",
      "Copying data...\n",
      "Copied!\n",
      "Loading checkpoint: /content/drive/My Drive/HIEN/Models/OSNet_Person_Attribute_Refactor/checkpoints/0731_232453/model_best_accuracy.pth ...\n"
     ]
    },
    {
     "data": {
      "application/vnd.jupyter.widget-view+json": {
       "model_id": "5a03643327bf4e63bdb9e78f28045784",
       "version_major": 2,
       "version_minor": 0
      },
      "text/plain": [
       "HBox(children=(FloatProgress(value=0.0, max=119.0), HTML(value='')))"
      ]
     },
     "metadata": {
      "tags": []
     },
     "output_type": "display_data"
    },
    {
     "name": "stdout",
     "output_type": "stream",
     "text": [
      "\n",
      "Loading checkpoint: /content/drive/My Drive/HIEN/Models/person_attribute_recognition/checkpoints/0828_112607/model_last.pth ...\n"
     ]
    },
    {
     "data": {
      "application/vnd.jupyter.widget-view+json": {
       "model_id": "7e2db68cbcef4b4689e9e121282f086f",
       "version_major": 2,
       "version_minor": 0
      },
      "text/plain": [
       "HBox(children=(FloatProgress(value=0.0, max=60.0), HTML(value='')))"
      ]
     },
     "metadata": {
      "tags": []
     },
     "output_type": "display_data"
    },
    {
     "name": "stdout",
     "output_type": "stream",
     "text": [
      "\n",
      "Loading checkpoint: /content/drive/My Drive/HIEN/Models/person_attribute_recognition/checkpoints/0820_140042/model_last.pth ...\n"
     ]
    },
    {
     "data": {
      "application/vnd.jupyter.widget-view+json": {
       "model_id": "43b3321e8aa240edafc4c2532d890553",
       "version_major": 2,
       "version_minor": 0
      },
      "text/plain": [
       "HBox(children=(FloatProgress(value=0.0, max=119.0), HTML(value='')))"
      ]
     },
     "metadata": {
      "tags": []
     },
     "output_type": "display_data"
    },
    {
     "name": "stdout",
     "output_type": "stream",
     "text": [
      "\n",
      "\n",
      "           attribute      weight         accuracy                  mA                precision              recall                f1_score\n",
      "                   -           -                -                   -                        -                   -                       -\n",
      "        accessoryHat        9.54     98.18|97.91|\u001b[94m98.33\u001b[0m     93.81|\u001b[94m 94.4\u001b[0m|93.77     92.23|88.24|\u001b[94m93.97\u001b[0m     88.41|\u001b[94m90.07\u001b[0m|88.14     90.28|89.15|\u001b[94m90.96\u001b[0m\n",
      "    accessoryMuffler        8.32     99.11|99.18|\u001b[94m 99.2\u001b[0m\u001b[94m     96.42\u001b[0m|96.39| 96.4     95.93|97.03|\u001b[94m97.19\u001b[0m\u001b[94m      93.2\u001b[0m|93.04|93.04     94.54|94.99|\u001b[94m95.07\u001b[0m\n",
      "    accessoryNothing       75.55     92.68|92.66|\u001b[94m92.83\u001b[0m     87.59|87.91|\u001b[94m87.92\u001b[0m     93.09|\u001b[94m93.36\u001b[0m|93.29\u001b[94m     97.56\u001b[0m| 97.2|97.53     95.27|95.24|\u001b[94m95.36\u001b[0m\n",
      " accessorySunglasses        2.87\u001b[94m     97.88\u001b[0m|96.12|97.88     70.64|\u001b[94m77.97\u001b[0m|68.19      72.8|38.44|\u001b[94m77.67\u001b[0m     41.74|\u001b[94m58.72\u001b[0m| 36.7\u001b[94m     53.06\u001b[0m|46.46|49.84\n",
      "            hairLong       23.74     94.51|94.01|\u001b[94m94.83\u001b[0m     92.05|92.49|\u001b[94m93.29\u001b[0m\u001b[94m     89.29\u001b[0m|85.82|88.16     87.36|89.58|\u001b[94m90.35\u001b[0m     88.32|87.66|\u001b[94m89.24\u001b[0m\n",
      "     upperBodyCasual       85.46      94.8|94.38|\u001b[94m94.96\u001b[0m     85.77|\u001b[94m87.33\u001b[0m| 86.2     95.55|\u001b[94m96.19\u001b[0m|95.68     98.51|97.27|\u001b[94m98.55\u001b[0m     97.01|96.73|\u001b[94m 97.1\u001b[0m\n",
      "     upperBodyFormal       13.25      95.5|95.03|\u001b[94m95.59\u001b[0m     86.43|\u001b[94m88.64\u001b[0m|87.19\u001b[94m     90.21\u001b[0m|82.06|89.34     74.08|\u001b[94m79.94\u001b[0m|75.77     81.35|80.99|\u001b[94m 82.0\u001b[0m\n",
      "     upperBodyJacket        7.03\u001b[94m     96.03\u001b[0m|94.55|95.86     79.34|\u001b[94m82.79\u001b[0m|78.82\u001b[94m     78.43\u001b[0m|59.71|76.64     59.93|\u001b[94m 69.1\u001b[0m|58.99\u001b[94m     67.94\u001b[0m|64.06|66.67\n",
      "       upperBodyLogo        3.89     96.86|95.64|\u001b[94m97.09\u001b[0m\u001b[94m     77.13\u001b[0m|76.66| 73.2     60.44|45.23|\u001b[94m68.29\u001b[0m     55.74|\u001b[94m56.08\u001b[0m| 47.3\u001b[94m      58.0\u001b[0m|50.08|55.89\n",
      "      upperBodyPlaid        2.67     98.76|97.87|\u001b[94m98.91\u001b[0m     86.19|\u001b[94m90.04\u001b[0m|86.26     79.14|57.04|\u001b[94m84.09\u001b[0m     72.91|\u001b[94m81.77\u001b[0m|72.91      75.9|67.21|\u001b[94m 78.1\u001b[0m\n",
      "upperBodyShortSleeve       14.34\u001b[94m     95.41\u001b[0m|94.61|95.25     91.02|\u001b[94m91.54\u001b[0m|89.86     83.41|77.82|\u001b[94m84.23\u001b[0m     84.86|\u001b[94m87.25\u001b[0m|82.29\u001b[94m     84.13\u001b[0m|82.27|83.25\n",
      "upperBodyThinStripes        1.66      98.8|98.04|\u001b[94m98.88\u001b[0m     73.25|\u001b[94m80.28\u001b[0m|70.17     71.08|43.58|\u001b[94m83.61\u001b[0m     46.83|\u001b[94m 61.9\u001b[0m|40.48\u001b[94m     56.46\u001b[0m|51.15|54.55\n",
      "     upperBodyTshirt        8.42     95.63|94.14|\u001b[94m95.72\u001b[0m     83.85|\u001b[94m86.37\u001b[0m|83.34     76.37|62.33|\u001b[94m78.07\u001b[0m     69.69|\u001b[94m77.03\u001b[0m|68.44     72.88| 68.9|\u001b[94m72.94\u001b[0m\n",
      "      upperBodyOther       45.47     87.78|87.62|\u001b[94m88.08\u001b[0m     87.47|87.32|\u001b[94m87.73\u001b[0m     88.51|88.19|\u001b[94m89.28\u001b[0m\u001b[94m     84.03\u001b[0m|84.03|83.85     86.21|86.06|\u001b[94m86.48\u001b[0m\n",
      "      upperBodyVNeck        1.05\u001b[94m      99.2\u001b[0m|98.59|99.18     63.11|\u001b[94m77.03\u001b[0m|63.72\u001b[94m      91.3\u001b[0m|38.26|84.62     26.25|\u001b[94m 55.0\u001b[0m| 27.5     40.78|\u001b[94m45.13\u001b[0m|41.51\n",
      "     lowerBodyCasual       86.13     94.96|94.78|\u001b[94m95.03\u001b[0m     85.17|\u001b[94m87.22\u001b[0m|85.73     95.58|\u001b[94m96.31\u001b[0m|95.76\u001b[94m     98.72\u001b[0m|97.68|98.59     97.12|96.99|\u001b[94m97.15\u001b[0m\n",
      "     lowerBodyFormal       13.72      95.2|94.96|\u001b[94m95.26\u001b[0m     85.73|\u001b[94m87.65\u001b[0m|86.25\u001b[94m     90.45\u001b[0m|84.45|89.85     72.67|\u001b[94m77.56\u001b[0m|73.83      80.6|80.86|\u001b[94m81.05\u001b[0m\n",
      "      lowerBodyJeans       30.46     90.18|89.67|\u001b[94m90.32\u001b[0m     87.94| 88.3|\u001b[94m88.34\u001b[0m\u001b[94m     85.07\u001b[0m|81.93|84.67      82.2|\u001b[94m84.79\u001b[0m|83.28     83.61|83.34|\u001b[94m83.97\u001b[0m\n",
      "     lowerBodyShorts        3.43     97.71|97.04|\u001b[94m97.95\u001b[0m     81.45|\u001b[94m85.16\u001b[0m|77.51     67.61|55.26|\u001b[94m78.38\u001b[0m     63.98|\u001b[94m72.41\u001b[0m|55.56\u001b[94m     65.75\u001b[0m|62.69|65.02\n",
      " lowerBodyShortSkirt        4.62     97.59|96.57|\u001b[94m97.63\u001b[0m      84.5|\u001b[94m89.39\u001b[0m|83.85     75.93|59.34|\u001b[94m77.49\u001b[0m     70.09|\u001b[94m81.48\u001b[0m|68.66\u001b[94m     72.89\u001b[0m|68.67|72.81\n",
      "   lowerBodyTrousers       51.96     86.99|\u001b[94m87.24\u001b[0m|87.12     86.96|\u001b[94m87.17\u001b[0m| 87.1     87.37|86.95|\u001b[94m87.59\u001b[0m     87.62|\u001b[94m88.76\u001b[0m|87.62      87.5|\u001b[94m87.84\u001b[0m|87.61\n",
      "footwearLeatherShoes       29.14     91.97|91.28|\u001b[94m 92.3\u001b[0m     89.02|89.25|\u001b[94m90.08\u001b[0m\u001b[94m     89.63\u001b[0m| 85.5|88.37     81.94|84.38|\u001b[94m84.74\u001b[0m     85.61|84.94|\u001b[94m86.52\u001b[0m\n",
      "     footwearSandals        1.89     98.08|96.99|\u001b[94m98.45\u001b[0m     72.12|\u001b[94m79.05\u001b[0m|66.18     49.24|33.59|\u001b[94m69.12\u001b[0m     45.14|\u001b[94m60.42\u001b[0m|32.64\u001b[94m      47.1\u001b[0m|43.18|44.34\n",
      "       footwearShoes        36.5     83.24| 82.7|\u001b[94m83.53\u001b[0m\u001b[94m     82.32\u001b[0m|81.83|82.21     76.06|75.13|\u001b[94m77.49\u001b[0m\u001b[94m     78.91\u001b[0m|78.62|77.33\u001b[94m     77.46\u001b[0m|76.84|77.41\n",
      "     footwearSneaker       22.04\u001b[94m     88.34\u001b[0m|87.43| 88.3      80.1|\u001b[94m84.73\u001b[0m|81.09\u001b[94m     78.16\u001b[0m| 68.4|76.23     65.37|\u001b[94m79.88\u001b[0m|68.18      71.2|\u001b[94m 73.7\u001b[0m|71.98\n",
      "    carryingBackpack        19.7\u001b[94m     92.46\u001b[0m|90.32|92.01      88.1|\u001b[94m 88.9\u001b[0m|88.75\u001b[94m     80.84\u001b[0m|70.78|77.71      80.9|\u001b[94m86.57\u001b[0m|83.37\u001b[94m     80.87\u001b[0m|77.88|80.44\n",
      "       carryingOther       20.14\u001b[94m     88.45\u001b[0m|86.66|88.38     78.68|79.29|\u001b[94m79.39\u001b[0m\u001b[94m     76.02\u001b[0m|66.86|74.51     62.31|\u001b[94m66.95\u001b[0m|64.34     68.49|66.91|\u001b[94m69.05\u001b[0m\n",
      "carryingMessengerBag       29.93     88.87|87.97|\u001b[94m88.89\u001b[0m\u001b[94m     85.76\u001b[0m|85.63|85.57     83.69|79.99|\u001b[94m84.32\u001b[0m     78.02|\u001b[94m79.78\u001b[0m|77.27\u001b[94m     80.76\u001b[0m|79.89|80.64\n",
      "     carryingNothing       27.51\u001b[94m     89.62\u001b[0m| 88.3|89.54      85.7|\u001b[94m86.61\u001b[0m|85.23     83.94|76.57|\u001b[94m84.69\u001b[0m      77.0|\u001b[94m82.83\u001b[0m|75.66\u001b[94m     80.32\u001b[0m|79.58|79.92\n",
      " carryingPlasticBags         7.7\u001b[94m     97.54\u001b[0m|97.09|97.43     87.78|\u001b[94m88.63\u001b[0m|88.03\u001b[94m     90.28\u001b[0m|82.73|88.24     76.24|\u001b[94m78.63\u001b[0m|76.92\u001b[94m     82.67\u001b[0m|80.63|82.19\n",
      "      personalLess30       50.41\u001b[94m     88.88\u001b[0m|88.45|88.54\u001b[94m     88.87\u001b[0m|88.42|88.52\u001b[94m     88.11\u001b[0m|86.47|86.82     90.11|\u001b[94m91.39\u001b[0m| 91.1\u001b[94m      89.1\u001b[0m|88.86|88.91\n",
      "      personalLess45       32.12     87.51|86.88|\u001b[94m87.53\u001b[0m     85.06|\u001b[94m85.43\u001b[0m|85.24\u001b[94m     82.07\u001b[0m|78.56|81.67     78.21|\u001b[94m81.36\u001b[0m|78.86     80.09|79.94|\u001b[94m80.24\u001b[0m\n",
      "      personalLess60       10.25     96.26|96.05|\u001b[94m96.55\u001b[0m\u001b[94m     87.63\u001b[0m| 87.0|86.94     85.31|84.26|\u001b[94m89.83\u001b[0m\u001b[94m     76.77\u001b[0m|75.61|74.84     80.81| 79.7|\u001b[94m81.65\u001b[0m\n",
      "    personalLarger60        6.07     99.33| 99.0|\u001b[94m99.34\u001b[0m     95.99|\u001b[94m96.32\u001b[0m|95.59     96.59|90.53|\u001b[94m97.68\u001b[0m     92.19|\u001b[94m93.28\u001b[0m|91.32     94.34|91.88|\u001b[94m94.39\u001b[0m\n",
      "        personalMale       54.57\u001b[94m     93.78\u001b[0m|93.51|93.63\u001b[94m     93.67\u001b[0m|93.29|93.57     93.86|92.61|\u001b[94m94.08\u001b[0m     94.79|\u001b[94m95.76\u001b[0m|94.26\u001b[94m     94.33\u001b[0m|94.16|94.17\n",
      "                   -           -                -                   -                        -                   -                       -\n",
      "                mean           -     93.95|93.24|\u001b[94m94.01\u001b[0m     84.76|\u001b[94m86.76\u001b[0m|84.32     83.25|73.99|\u001b[94m84.82\u001b[0m     75.26|\u001b[94m80.46\u001b[0m|74.29\u001b[94m     78.36\u001b[0m| 76.7|78.24\n",
      "\n",
      "trái: train bằng episode; phải: train kết hợp episode và epoch\n"
     ]
    }
   ],
   "source": [
    "import os\n",
    "import argparse\n",
    "import logging\n",
    "import torch\n",
    "import numpy as np\n",
    "\n",
    "from tqdm import tqdm\n",
    "from easydict import EasyDict\n",
    "\n",
    "from models import build_model\n",
    "from data import build_datamanager\n",
    "from logger import setup_logging\n",
    "from utils import read_config, rmdir, summary, array_interweave, COLOR\n",
    "from evaluators import recognition_metrics\n",
    "from evaluators.recognition_metrics import log_test, compare_class_based, compare_class_based3, test\n",
    "\n",
    "config1 = \"config1.yml\"\n",
    "config2 = \"config2.yml\"\n",
    "config3 = \"config3.yml\"\n",
    "\n",
    "resume1 = \"/content/drive/My Drive/HIEN/Models/OSNet_Person_Attribute_Refactor/checkpoints/0731_232453/model_best_accuracy.pth\"\n",
    "resume2 = \"/content/drive/My Drive/HIEN/Models/person_attribute_recognition/checkpoints/0828_112607/model_last.pth\"\n",
    "resume3 = \"/content/drive/My Drive/HIEN/Models/person_attribute_recognition/checkpoints/0820_140042/model_last.pth\"\n",
    "\n",
    "config1 = read_config(config1)\n",
    "config1.update({'resume': resume1})\n",
    "config1.update({'colab': True})\n",
    "\n",
    "config2 = read_config(config2)\n",
    "config2.update({'resume': resume2})\n",
    "config2.update({'colab': True})\n",
    "\n",
    "config3 = read_config(config3)\n",
    "config3.update({'resume': resume3})\n",
    "config3.update({'colab': True})\n",
    "\n",
    "datamanager1, _ = build_datamanager(config1['type'], config1['data'])\n",
    "datamanager2, _ = build_datamanager(config2['type'], config2['data'])\n",
    "datamanager3, _ = build_datamanager(config3['type'], config3['data'])\n",
    "\n",
    "# model1\n",
    "result_label1, result_instance1 = test(config1, datamanager1, print)\n",
    "\n",
    "# model 2\n",
    "result_label2, result_instance2 = test(config2, datamanager2, print)\n",
    "\n",
    "# model1\n",
    "result_label3, result_instance3 = test(config3, datamanager3, print)\n",
    "\n",
    "print()\n",
    "compare_class_based3(print, datamanager1.datasource.get_attribute(), datamanager1.datasource.get_weight('test'), result_label1, result_label2, result_label3, COLOR.BLUE)\n",
    "print()\n",
    "print('trái: train bằng episode; phải: train kết hợp episode và epoch')"
   ]
  },
  {
   "cell_type": "markdown",
   "metadata": {
    "colab_type": "text",
    "id": "0qWMxjKeHsGR"
   },
   "source": [
    "## Episode + 30 Epoch"
   ]
  },
  {
   "cell_type": "markdown",
   "metadata": {
    "colab_type": "text",
    "id": "CFCzqbSCMQTO"
   },
   "source": [
    "### Kết quả"
   ]
  },
  {
   "cell_type": "code",
   "execution_count": null,
   "metadata": {
    "colab": {
     "base_uri": "https://localhost:8080/",
     "height": 34
    },
    "colab_type": "code",
    "id": "1BIywQZmMQTP",
    "outputId": "81a05fe2-7e76-4360-e6c4-cb0c43e4fc82"
   },
   "outputs": [
    {
     "name": "stdout",
     "output_type": "stream",
     "text": [
      "Overwriting /content/config.yml\n"
     ]
    }
   ],
   "source": [
    "%%writefile /content/config.yml\n",
    "base: /content/config/base_epoch.yml\n",
    "\n",
    "model:\n",
    "  backbone: resnet50\n",
    "  pooling: gem_pooling\n",
    "  head: BNHead\n",
    "  bn_where: after\n",
    "  use_tqdm: True\n",
    "\n",
    "data:\n",
    "  data_dir: datasets\n",
    "  name: peta\n",
    "  image_size: [256, 192]\n",
    "  batch_size: 64\n",
    "  use_tqdm: True\n",
    "\n",
    "optimizer:\n",
    "  name: adam\n",
    "  lr: 0.00035\n",
    "\n",
    "loss:\n",
    "  name: CEL_Sigmoid\n",
    "\n",
    "freeze:\n",
    "  enable: False\n",
    "  layers: [backbone]\n",
    "  epochs: 10\n",
    "\n",
    "lr_scheduler:\n",
    "  enable: True\n",
    "  MultiStepLR:\n",
    "  steps: [15, 25, 35]\n",
    "  gamma: 0.1\n",
    "\n",
    "trainer:\n",
    "  n_gpu: 1\n",
    "  epochs: 120\n",
    "  \n",
    "trainer_colab:\n",
    "  epochs: 120"
   ]
  },
  {
   "cell_type": "code",
   "execution_count": null,
   "metadata": {
    "colab": {
     "base_uri": "https://localhost:8080/",
     "height": 857
    },
    "colab_type": "code",
    "id": "oWnVHhNZMQTS",
    "outputId": "d7d80adc-63ba-434c-93de-5f5467805f69"
   },
   "outputs": [
    {
     "name": "stdout",
     "output_type": "stream",
     "text": [
      "2020-09-09 09:35:31.003044: I tensorflow/stream_executor/platform/default/dso_loader.cc:48] Successfully opened dynamic library libcudart.so.10.1\n",
      "Copying data...\n",
      "Copied!\n",
      "Loading checkpoint: /content/drive/My Drive/HIEN/Models/person_attribute_recognition/checkpoints/0820_213925/model_last.pth ...\n",
      "100% 119/119 [00:43<00:00,  2.73it/s]\n",
      "instance-based metrics:\n",
      "accuracy: 0.7947\n",
      "precision: 0.8673\n",
      "recall: 0.8690\n",
      "f1_score: 0.8656\n",
      "class-based metrics:\n",
      "           attribute    weight  accuracy        mA precision    recall  f1_score\n",
      "                   -         -         -         -         -         -         -\n",
      "        accessoryHat      9.54     98.25     93.79     93.02     88.28     90.59\n",
      "    accessoryMuffler      8.32     99.16     96.45     96.56      93.2     94.85\n",
      "    accessoryNothing     75.55     92.59     88.51     93.87      96.5     95.17\n",
      " accessorySunglasses      2.87     97.18     77.18     50.83     55.96     53.28\n",
      "            hairLong     23.74     94.26     91.79     88.56     87.08     87.81\n",
      "     upperBodyCasual     85.46     94.61     86.71     95.92     97.84     96.87\n",
      "     upperBodyFormal     13.25     95.28     87.48      86.0     76.86     81.17\n",
      "     upperBodyJacket      7.03     95.95     78.86     77.97     58.99     67.16\n",
      "       upperBodyLogo      3.89     96.62     77.17     56.66     56.08     56.37\n",
      "      upperBodyPlaid      2.67     98.74     89.05     75.12     78.82     76.92\n",
      "upperBodyShortSleeve     14.34     94.89     89.92     81.74     82.94     82.33\n",
      "upperBodyThinStripes      1.66     98.83     74.83     70.79      50.0      58.6\n",
      "     upperBodyTshirt      8.42     95.14     84.08     71.34     70.78     71.06\n",
      "      upperBodyOther     45.47     87.47     87.37     86.27     86.17     86.22\n",
      "      upperBodyVNeck      1.05     99.04     70.45     55.93     41.25     47.48\n",
      "     lowerBodyCasual     86.13     94.71     86.54     96.08     97.85     96.96\n",
      "     lowerBodyFormal     13.72     94.93     86.91     85.61     75.84     80.43\n",
      "      lowerBodyJeans     30.46     89.55     88.19     81.67     84.71     83.16\n",
      "     lowerBodyShorts      3.43     97.97     83.25     71.84     67.43     69.57\n",
      " lowerBodyShortSkirt      4.62     97.58     83.82     76.51     68.66     72.37\n",
      "   lowerBodyTrousers     51.96     87.03     86.98     87.07     88.12     87.59\n",
      "footwearLeatherShoes     29.14     91.67     89.94     85.66     85.78     85.72\n",
      "     footwearSandals      1.89     97.93     69.32     44.88     39.58     42.07\n",
      "       footwearShoes      36.5     82.39     81.85     73.98     79.85      76.8\n",
      "     footwearSneaker     22.04     87.84     81.97     72.85     71.46     72.15\n",
      "    carryingBackpack      19.7     91.49     86.76     78.07     78.96     78.51\n",
      "       carryingOther     20.14     86.88     79.48     67.57     67.08     67.32\n",
      "carryingMessengerBag     29.93     87.89     85.82     79.27     80.66     79.96\n",
      "     carryingNothing     27.51     89.05     86.71     79.29     81.49     80.38\n",
      " carryingPlasticBags       7.7     97.34     87.28     88.38     75.38     81.37\n",
      "      personalLess30     50.41     88.14     88.14     87.97     88.59     88.28\n",
      "      personalLess45     32.12     86.17     84.27     78.21     78.94     78.57\n",
      "      personalLess60     10.25     96.01     88.06     82.16     78.05     80.05\n",
      "    personalLarger60      6.07     99.25     95.85      95.5     91.97      93.7\n",
      "        personalMale     54.57     93.71     93.62     93.94     94.57     94.26\n",
      "                   -         -         -         -         -         -         -\n",
      "                mean         -     93.59     85.38     79.63     77.02     78.15\n"
     ]
    }
   ],
   "source": [
    "!python3 test.py --config /content/config.yml --resume \"/content/drive/My Drive/HIEN/Models/person_attribute_recognition/checkpoints/0820_213925/model_last.pth\""
   ]
  },
  {
   "cell_type": "markdown",
   "metadata": {
    "colab_type": "text",
    "id": "Ds9OUSOxbSEb"
   },
   "source": [
    "### So sánh với epoch-based training và episode-based training"
   ]
  },
  {
   "cell_type": "code",
   "execution_count": null,
   "metadata": {
    "colab": {
     "base_uri": "https://localhost:8080/",
     "height": 34
    },
    "colab_type": "code",
    "id": "3LguZNKCbPbe",
    "outputId": "dcbf0f46-1b46-468b-e749-c931d7324125"
   },
   "outputs": [
    {
     "name": "stdout",
     "output_type": "stream",
     "text": [
      "Overwriting /content/config1.yml\n"
     ]
    }
   ],
   "source": [
    "%%writefile /content/config1.yml\n",
    "base: /content/config/base_epoch.yml\n",
    "\n",
    "model:\n",
    "  backbone: resnet50\n",
    "  pooling: gem_pooling\n",
    "  head: BNHead\n",
    "  bn_where: after\n",
    "  use_tqdm: True\n",
    "\n",
    "data:\n",
    "  data_dir: datasets\n",
    "  name: peta\n",
    "  image_size: [256, 192]\n",
    "  batch_size: 64\n",
    "  use_tqdm: True\n",
    "\n",
    "optimizer:\n",
    "  name: adam\n",
    "  lr: 0.00035\n",
    "\n",
    "loss:\n",
    "  name: CEL_Sigmoid\n",
    "\n",
    "freeze:\n",
    "  enable: True\n",
    "  layers: [backbone]\n",
    "  epochs: 10\n",
    "\n",
    "lr_scheduler:\n",
    "  enable: True\n",
    "  name: WarmupMultiStepLR\n",
    "  steps: [30, 60, 90]\n",
    "  gamma: 0.1\n",
    "  warmup_factor: 0.01\n",
    "  warmup_iters: 10\n",
    "\n",
    "trainer:\n",
    "  n_gpu: 1\n",
    "  epochs: 120\n",
    "  \n",
    "trainer_colab:\n",
    "  epochs: 120"
   ]
  },
  {
   "cell_type": "code",
   "execution_count": null,
   "metadata": {
    "colab": {
     "base_uri": "https://localhost:8080/",
     "height": 34
    },
    "colab_type": "code",
    "id": "NdzFsjCgbY6l",
    "outputId": "fd0c7bd4-28ea-4fb3-af76-54dbf650d398"
   },
   "outputs": [
    {
     "name": "stdout",
     "output_type": "stream",
     "text": [
      "Overwriting /content/config2.yml\n"
     ]
    }
   ],
   "source": [
    "%%writefile /content/config2.yml\n",
    "base: /content/config/base_episode.yml\n",
    "\n",
    "model:\n",
    "  backbone: resnet50\n",
    "  pooling: gem_pooling\n",
    "  head: BNHead\n",
    "  bn_where: after\n",
    "  use_tqdm: True\n",
    "model:\n",
    "  backbone: resnet50\n",
    "  pooling: gem_pooling\n",
    "  head: BNHead\n",
    "  bn_where: after\n",
    "  use_tqdm: True\n",
    "\n",
    "data:\n",
    "  name: peta\n",
    "  image_size: [256, 128]\n",
    "  train:\n",
    "    num_attribute: 8\n",
    "    num_positive: 8\n",
    "    num_negative: 8\n",
    "    num_iterator: 700\n",
    "  val:\n",
    "    num_attribute: 8\n",
    "    num_positive: 8\n",
    "    num_negative: 8\n",
    "    num_iterator: 100\n",
    "  use_tqdm: True\n",
    "\n",
    "optimizer:\n",
    "  name: sgd\n",
    "  lr: 0.01\n",
    "  specified_lr:\n",
    "    enable: True\n",
    "    lr: 0.1\n",
    "    layers: [head]\n",
    "\n",
    "loss:\n",
    "  name: Singular_BCE\n",
    "  reduction: mean\n",
    "\n",
    "freeze:\n",
    "  enable: True\n",
    "  layers: [backbone]\n",
    "  epochs: 10\n",
    "\n",
    "lr_scheduler:\n",
    "  enable: True\n",
    "  name: CosineAnnealingLR\n",
    "  max_iters: 120\n",
    "  eta_min_lr: 0\n",
    "\n",
    "clip_grad_norm_:\n",
    "  enable: True\n",
    "  max_norm: 10.0\n",
    "\n",
    "trainer:\n",
    "  n_gpu: 1\n",
    "  epochs: 200\n",
    "    \n",
    "trainer_colab:\n",
    "  epochs: 200"
   ]
  },
  {
   "cell_type": "code",
   "execution_count": null,
   "metadata": {
    "colab": {
     "base_uri": "https://localhost:8080/",
     "height": 34
    },
    "colab_type": "code",
    "id": "sE2SgOhxbbe4",
    "outputId": "c2c31c49-0d58-40ab-93d0-363cbcbbf5fb"
   },
   "outputs": [
    {
     "name": "stdout",
     "output_type": "stream",
     "text": [
      "Overwriting /content/config3.yml\n"
     ]
    }
   ],
   "source": [
    "%%writefile /content/config3.yml\n",
    "base: /content/config/base_epoch.yml\n",
    "\n",
    "data:\n",
    "  data_dir: datasets\n",
    "  name: peta\n",
    "  image_size: [256, 192]\n",
    "  batch_size: 64\n",
    "  use_tqdm: True\n",
    "\n",
    "optimizer:\n",
    "  name: adam\n",
    "  lr: 0.00035\n",
    "\n",
    "loss:\n",
    "  name: CEL_Sigmoid\n",
    "\n",
    "freeze:\n",
    "  enable: False\n",
    "  layers: [backbone]\n",
    "  epochs: 10\n",
    "\n",
    "lr_scheduler:\n",
    "  enable: True\n",
    "  MultiStepLR:\n",
    "  steps: [15, 20, 25]\n",
    "  gamma: 0.1\n",
    "\n",
    "trainer:\n",
    "  n_gpu: 1\n",
    "  epochs: 30\n",
    "  \n",
    "trainer_colab:\n",
    "  epochs: 30"
   ]
  },
  {
   "cell_type": "code",
   "execution_count": null,
   "metadata": {
    "colab": {
     "base_uri": "https://localhost:8080/",
     "height": 1000,
     "referenced_widgets": [
      "4a9ba27f19924c2bb5313fba31c106d3",
      "233a4be2adc74e06926e2f2b8f771f7f",
      "8da47c8ec0754542805233a8f51d5829",
      "4f20e12429704f2ea3bd5775290c1f90",
      "3abb823039d1471b9c49db7bc7a0647a",
      "043e38c1865b44e68298df3aeac5e679",
      "0b8df59c1b4d443893fefbe47877478e",
      "a5e497d4ac074f8f96a1af76c5ba40cc",
      "2b61dcb46e4d485cbdc623bc9ad575d6",
      "55f5c6d6348444bcb890a8461427f81a",
      "a222ff49e9d845c08be3faed25ddceca",
      "f8cadf371bc34f41aeb9b264f379a09b",
      "a26cdb5f31634834ac24397b1856f669",
      "f1179f88e37a4a30975ef356e9ce4463",
      "0e936e091464497a9b0957124497c4a2",
      "ab93c51861814bc6816d83f5d08a1ffa",
      "0f363c3e2aec44b082b5f239a07935b1",
      "cb332a577cad49a2885d3acf4ec23d45",
      "e6f75aae3e36463b953eb0d418b07786",
      "babf422bf96e452eaaaf7042eb14bb86",
      "24a26bb345734c6f840636e51b872ee0",
      "cd8022b2159b45f28734089095b88ada",
      "d2d2b9d3c4b34c038b947a13516caf37",
      "b380ad651f8743b5ab826ddd07bbbd5e"
     ]
    },
    "colab_type": "code",
    "id": "kYRS6b5vbe_A",
    "outputId": "4b481314-22f8-4d8f-c23a-20462114f2b6"
   },
   "outputs": [
    {
     "name": "stdout",
     "output_type": "stream",
     "text": [
      "Copying data...\n",
      "Copied!\n",
      "Copying data...\n",
      "Copied!\n",
      "Copying data...\n",
      "Copied!\n",
      "Loading checkpoint: /content/drive/My Drive/HIEN/Models/OSNet_Person_Attribute_Refactor/checkpoints/0731_232453/model_best_accuracy.pth ...\n"
     ]
    },
    {
     "data": {
      "application/vnd.jupyter.widget-view+json": {
       "model_id": "4a9ba27f19924c2bb5313fba31c106d3",
       "version_major": 2,
       "version_minor": 0
      },
      "text/plain": [
       "HBox(children=(FloatProgress(value=0.0, max=119.0), HTML(value='')))"
      ]
     },
     "metadata": {
      "tags": []
     },
     "output_type": "display_data"
    },
    {
     "name": "stdout",
     "output_type": "stream",
     "text": [
      "\n",
      "Loading checkpoint: /content/drive/My Drive/HIEN/Models/person_attribute_recognition/checkpoints/0828_112607/model_last.pth ...\n"
     ]
    },
    {
     "data": {
      "application/vnd.jupyter.widget-view+json": {
       "model_id": "2b61dcb46e4d485cbdc623bc9ad575d6",
       "version_major": 2,
       "version_minor": 0
      },
      "text/plain": [
       "HBox(children=(FloatProgress(value=0.0, max=60.0), HTML(value='')))"
      ]
     },
     "metadata": {
      "tags": []
     },
     "output_type": "display_data"
    },
    {
     "name": "stdout",
     "output_type": "stream",
     "text": [
      "\n",
      "Loading checkpoint: /content/drive/My Drive/HIEN/Models/person_attribute_recognition/checkpoints/0820_213925/model_last.pth ...\n"
     ]
    },
    {
     "data": {
      "application/vnd.jupyter.widget-view+json": {
       "model_id": "0f363c3e2aec44b082b5f239a07935b1",
       "version_major": 2,
       "version_minor": 0
      },
      "text/plain": [
       "HBox(children=(FloatProgress(value=0.0, max=119.0), HTML(value='')))"
      ]
     },
     "metadata": {
      "tags": []
     },
     "output_type": "display_data"
    },
    {
     "name": "stdout",
     "output_type": "stream",
     "text": [
      "\n",
      "\n",
      "           attribute      weight         accuracy                  mA                precision              recall                f1_score\n",
      "                   -           -                -                   -                        -                   -                       -\n",
      "        accessoryHat        9.54     98.18|97.61|\u001b[94m98.25\u001b[0m\u001b[94m     93.81\u001b[0m|93.37|93.79     92.23|86.94|\u001b[94m93.02\u001b[0m\u001b[94m     88.41\u001b[0m|88.14|88.28     90.28|87.53|\u001b[94m90.59\u001b[0m\n",
      "    accessoryMuffler        8.32     99.11|98.91|\u001b[94m99.16\u001b[0m     96.42|95.95|\u001b[94m96.45\u001b[0m     95.93|94.35|\u001b[94m96.56\u001b[0m\u001b[94m      93.2\u001b[0m|92.41| 93.2     94.54|93.37|\u001b[94m94.85\u001b[0m\n",
      "    accessoryNothing       75.55\u001b[94m     92.68\u001b[0m|91.28|92.59     87.59|86.29|\u001b[94m88.51\u001b[0m     93.09|92.67|\u001b[94m93.87\u001b[0m\u001b[94m     97.56\u001b[0m|96.05| 96.5\u001b[94m     95.27\u001b[0m|94.33|95.17\n",
      " accessorySunglasses        2.87\u001b[94m     97.88\u001b[0m|95.97|97.18     70.64|74.56|\u001b[94m77.18\u001b[0m\u001b[94m      72.8\u001b[0m|35.99|50.83     41.74|51.83|\u001b[94m55.96\u001b[0m     53.06|42.48|\u001b[94m53.28\u001b[0m\n",
      "            hairLong       23.74\u001b[94m     94.51\u001b[0m|93.57|94.26\u001b[94m     92.05\u001b[0m| 91.6|91.79\u001b[94m     89.29\u001b[0m|85.44|88.56     87.36|\u001b[94m87.86\u001b[0m|87.08\u001b[94m     88.32\u001b[0m|86.64|87.81\n",
      "     upperBodyCasual       85.46\u001b[94m      94.8\u001b[0m|93.64|94.61     85.77|\u001b[94m87.19\u001b[0m|86.71     95.55|\u001b[94m96.27\u001b[0m|95.92\u001b[94m     98.51\u001b[0m|96.29|97.84\u001b[94m     97.01\u001b[0m|96.28|96.87\n",
      "     upperBodyFormal       13.25\u001b[94m      95.5\u001b[0m|94.25|95.28     86.43|\u001b[94m87.73\u001b[0m|87.48\u001b[94m     90.21\u001b[0m| 78.0| 86.0     74.08|\u001b[94m78.85\u001b[0m|76.86\u001b[94m     81.35\u001b[0m|78.42|81.17\n",
      "     upperBodyJacket        7.03\u001b[94m     96.03\u001b[0m|94.07|95.95     79.34|\u001b[94m81.75\u001b[0m|78.86\u001b[94m     78.43\u001b[0m|56.51|77.97     59.93|\u001b[94m67.42\u001b[0m|58.99\u001b[94m     67.94\u001b[0m|61.49|67.16\n",
      "       upperBodyLogo        3.89\u001b[94m     96.86\u001b[0m|95.33|96.62     77.13|74.56|\u001b[94m77.17\u001b[0m\u001b[94m     60.44\u001b[0m|41.96|56.66     55.74|52.03|\u001b[94m56.08\u001b[0m\u001b[94m      58.0\u001b[0m|46.46|56.37\n",
      "      upperBodyPlaid        2.67\u001b[94m     98.76\u001b[0m|96.76|98.74     86.19|88.52|\u001b[94m89.05\u001b[0m\u001b[94m     79.14\u001b[0m|44.14|75.12     72.91|\u001b[94m 79.8\u001b[0m|78.82      75.9|56.84|\u001b[94m76.92\u001b[0m\n",
      "upperBodyShortSleeve       14.34\u001b[94m     95.41\u001b[0m|94.09|94.89\u001b[94m     91.02\u001b[0m|89.94|89.92\u001b[94m     83.41\u001b[0m|76.87|81.74\u001b[94m     84.86\u001b[0m|84.13|82.94\u001b[94m     84.13\u001b[0m|80.33|82.33\n",
      "upperBodyThinStripes        1.66      98.8|97.72|\u001b[94m98.83\u001b[0m     73.25|\u001b[94m78.95\u001b[0m|74.83\u001b[94m     71.08\u001b[0m|38.07|70.79     46.83|\u001b[94m59.52\u001b[0m| 50.0     56.46|46.44|\u001b[94m 58.6\u001b[0m\n",
      "     upperBodyTshirt        8.42\u001b[94m     95.63\u001b[0m| 94.3|95.14     83.85|\u001b[94m84.33\u001b[0m|84.08\u001b[94m     76.37\u001b[0m|64.39|71.34     69.69|\u001b[94m72.34\u001b[0m|70.78\u001b[94m     72.88\u001b[0m|68.14|71.06\n",
      "      upperBodyOther       45.47\u001b[94m     87.78\u001b[0m|87.07|87.47\u001b[94m     87.47\u001b[0m|86.61|87.37     88.51|\u001b[94m89.04\u001b[0m|86.27     84.03| 81.6|\u001b[94m86.17\u001b[0m     86.21|85.16|\u001b[94m86.22\u001b[0m\n",
      "      upperBodyVNeck        1.05\u001b[94m      99.2\u001b[0m|98.07|99.04     63.11|\u001b[94m74.91\u001b[0m|70.45\u001b[94m      91.3\u001b[0m|27.52|55.93     26.25|\u001b[94m51.25\u001b[0m|41.25     40.78|35.81|\u001b[94m47.48\u001b[0m\n",
      "     lowerBodyCasual       86.13\u001b[94m     94.96\u001b[0m|94.18|94.71     85.17|\u001b[94m86.99\u001b[0m|86.54     95.58|\u001b[94m96.33\u001b[0m|96.08\u001b[94m     98.72\u001b[0m|96.94|97.85\u001b[94m     97.12\u001b[0m|96.63|96.96\n",
      "     lowerBodyFormal       13.72\u001b[94m      95.2\u001b[0m|94.42|94.93     85.73|\u001b[94m87.45\u001b[0m|86.91\u001b[94m     90.45\u001b[0m| 80.8|85.61     72.67|\u001b[94m77.85\u001b[0m|75.84\u001b[94m      80.6\u001b[0m| 79.3|80.43\n",
      "      lowerBodyJeans       30.46\u001b[94m     90.18\u001b[0m|86.88|89.55     87.94|86.84|\u001b[94m88.19\u001b[0m\u001b[94m     85.07\u001b[0m|74.43|81.67      82.2|\u001b[94m86.74\u001b[0m|84.71\u001b[94m     83.61\u001b[0m|80.11|83.16\n",
      "     lowerBodyShorts        3.43     97.71|96.26|\u001b[94m97.97\u001b[0m     81.45|\u001b[94m83.47\u001b[0m|83.25     67.61|47.03|\u001b[94m71.84\u001b[0m     63.98|\u001b[94m69.73\u001b[0m|67.43     65.75|56.17|\u001b[94m69.57\u001b[0m\n",
      " lowerBodyShortSkirt        4.62\u001b[94m     97.59\u001b[0m|94.66|97.58      84.5|\u001b[94m87.98\u001b[0m|83.82     75.93|45.57|\u001b[94m76.51\u001b[0m     70.09|\u001b[94m80.63\u001b[0m|68.66\u001b[94m     72.89\u001b[0m|58.23|72.37\n",
      "   lowerBodyTrousers       51.96     86.99|84.11|\u001b[94m87.03\u001b[0m     86.96|84.23|\u001b[94m86.98\u001b[0m     87.37|\u001b[94m87.48\u001b[0m|87.07     87.62|81.01|\u001b[94m88.12\u001b[0m      87.5|84.12|\u001b[94m87.59\u001b[0m\n",
      "footwearLeatherShoes       29.14\u001b[94m     91.97\u001b[0m|90.58|91.67     89.02|88.71|\u001b[94m89.94\u001b[0m\u001b[94m     89.63\u001b[0m|83.56|85.66     81.94|84.24|\u001b[94m85.78\u001b[0m     85.61| 83.9|\u001b[94m85.72\u001b[0m\n",
      "     footwearSandals        1.89\u001b[94m     98.08\u001b[0m|96.87|97.93     72.12|\u001b[94m77.97\u001b[0m|69.32\u001b[94m     49.24\u001b[0m|32.06|44.88     45.14|\u001b[94m58.33\u001b[0m|39.58\u001b[94m      47.1\u001b[0m|41.38|42.07\n",
      "       footwearShoes        36.5\u001b[94m     83.24\u001b[0m|81.01|82.39\u001b[94m     82.32\u001b[0m|81.55|81.85\u001b[94m     76.06\u001b[0m|70.15|73.98     78.91|\u001b[94m83.53\u001b[0m|79.85\u001b[94m     77.46\u001b[0m|76.25| 76.8\n",
      "     footwearSneaker       22.04\u001b[94m     88.34\u001b[0m|86.79|87.84      80.1|\u001b[94m82.49\u001b[0m|81.97\u001b[94m     78.16\u001b[0m|68.28|72.85     65.37|\u001b[94m74.81\u001b[0m|71.46      71.2| 71.4|\u001b[94m72.15\u001b[0m\n",
      "    carryingBackpack        19.7\u001b[94m     92.46\u001b[0m|88.95|91.49\u001b[94m      88.1\u001b[0m|86.82|86.76\u001b[94m     80.84\u001b[0m|67.88|78.07      80.9|\u001b[94m 83.3\u001b[0m|78.96\u001b[94m     80.87\u001b[0m|74.81|78.51\n",
      "       carryingOther       20.14\u001b[94m     88.45\u001b[0m|84.46|86.88     78.68|79.18|\u001b[94m79.48\u001b[0m\u001b[94m     76.02\u001b[0m| 59.7|67.57     62.31|\u001b[94m70.35\u001b[0m|67.08\u001b[94m     68.49\u001b[0m|64.59|67.32\n",
      "carryingMessengerBag       29.93\u001b[94m     88.87\u001b[0m|85.62|87.89     85.76|83.28|\u001b[94m85.82\u001b[0m\u001b[94m     83.69\u001b[0m|75.23|79.27     78.02|77.45|\u001b[94m80.66\u001b[0m\u001b[94m     80.76\u001b[0m|76.33|79.96\n",
      "     carryingNothing       27.51\u001b[94m     89.62\u001b[0m|86.67|89.05      85.7|84.29|\u001b[94m86.71\u001b[0m\u001b[94m     83.94\u001b[0m|74.21|79.29      77.0|79.01|\u001b[94m81.49\u001b[0m     80.32|76.53|\u001b[94m80.38\u001b[0m\n",
      " carryingPlasticBags         7.7\u001b[94m     97.54\u001b[0m|96.67|97.34     87.78|\u001b[94m89.11\u001b[0m|87.28\u001b[94m     90.28\u001b[0m|77.39|88.38     76.24|\u001b[94m80.17\u001b[0m|75.38\u001b[94m     82.67\u001b[0m|78.76|81.37\n",
      "      personalLess30       50.41\u001b[94m     88.88\u001b[0m|87.68|88.14\u001b[94m     88.87\u001b[0m|87.66|88.14\u001b[94m     88.11\u001b[0m|85.35|87.97     90.11|\u001b[94m91.23\u001b[0m|88.59\u001b[94m      89.1\u001b[0m|88.19|88.28\n",
      "      personalLess45       32.12\u001b[94m     87.51\u001b[0m|85.89|86.17\u001b[94m     85.06\u001b[0m|84.48|84.27\u001b[94m     82.07\u001b[0m|76.71|78.21     78.21|\u001b[94m80.54\u001b[0m|78.94\u001b[94m     80.09\u001b[0m|78.58|78.57\n",
      "      personalLess60       10.25\u001b[94m     96.26\u001b[0m|95.51|96.01     87.63|86.93|\u001b[94m88.06\u001b[0m\u001b[94m     85.31\u001b[0m|79.28|82.16     76.77|76.12|\u001b[94m78.05\u001b[0m\u001b[94m     80.81\u001b[0m|77.67|80.05\n",
      "    personalLarger60        6.07\u001b[94m     99.33\u001b[0m|98.86|99.25\u001b[94m     95.99\u001b[0m|95.64|95.85\u001b[94m     96.59\u001b[0m|89.45| 95.5\u001b[94m     92.19\u001b[0m|91.97|91.97\u001b[94m     94.34\u001b[0m| 90.7| 93.7\n",
      "        personalMale       54.57\u001b[94m     93.78\u001b[0m| 92.5|93.71\u001b[94m     93.67\u001b[0m|92.24|93.62     93.86|91.51|\u001b[94m93.94\u001b[0m     94.79|\u001b[94m95.08\u001b[0m|94.57\u001b[94m     94.33\u001b[0m|93.26|94.26\n",
      "                   -           -                -                   -                        -                   -                       -\n",
      "                mean           -\u001b[94m     93.95\u001b[0m|92.32|93.59     84.76|\u001b[94m85.53\u001b[0m|85.38\u001b[94m     83.25\u001b[0m|70.59|79.63     75.26|\u001b[94m78.82\u001b[0m|77.02\u001b[94m     78.36\u001b[0m| 73.9|78.15\n",
      "\n",
      "trái: train bằng episode; phải: train kết hợp episode và epoch\n"
     ]
    }
   ],
   "source": [
    "import os\n",
    "import argparse\n",
    "import logging\n",
    "import torch\n",
    "import numpy as np\n",
    "\n",
    "from tqdm import tqdm\n",
    "from easydict import EasyDict\n",
    "\n",
    "from models import build_model\n",
    "from data import build_datamanager\n",
    "from logger import setup_logging\n",
    "from utils import read_config, rmdir, summary, array_interweave, COLOR\n",
    "from evaluators import recognition_metrics\n",
    "from evaluators.recognition_metrics import log_test, compare_class_based, compare_class_based3, test\n",
    "\n",
    "config1 = \"config1.yml\"\n",
    "config2 = \"config2.yml\"\n",
    "config3 = \"config3.yml\"\n",
    "\n",
    "resume1 = \"/content/drive/My Drive/HIEN/Models/OSNet_Person_Attribute_Refactor/checkpoints/0731_232453/model_best_accuracy.pth\"\n",
    "resume2 = \"/content/drive/My Drive/HIEN/Models/person_attribute_recognition/checkpoints/0828_112607/model_last.pth\"\n",
    "resume3 = \"/content/drive/My Drive/HIEN/Models/person_attribute_recognition/checkpoints/0820_213925/model_last.pth\"\n",
    "\n",
    "config1 = read_config(config1)\n",
    "config1.update({'resume': resume1})\n",
    "config1.update({'colab': True})\n",
    "\n",
    "config2 = read_config(config2)\n",
    "config2.update({'resume': resume2})\n",
    "config2.update({'colab': True})\n",
    "\n",
    "config3 = read_config(config3)\n",
    "config3.update({'resume': resume3})\n",
    "config3.update({'colab': True})\n",
    "\n",
    "datamanager1, _ = build_datamanager(config1['type'], config1['data'])\n",
    "datamanager2, _ = build_datamanager(config2['type'], config2['data'])\n",
    "datamanager3, _ = build_datamanager(config3['type'], config3['data'])\n",
    "\n",
    "# model1\n",
    "result_label1, result_instance1 = test(config1, datamanager1, print)\n",
    "\n",
    "# model 2\n",
    "result_label2, result_instance2 = test(config2, datamanager2, print)\n",
    "\n",
    "# model1\n",
    "result_label3, result_instance3 = test(config3, datamanager3, print)\n",
    "\n",
    "print()\n",
    "compare_class_based3(print, datamanager1.datasource.get_attribute(), datamanager1.datasource.get_weight('test'), result_label1, result_label2, result_label3, COLOR.BLUE)\n",
    "print()\n",
    "print('trái: train bằng episode; phải: train kết hợp episode và epoch')"
   ]
  },
  {
   "cell_type": "markdown",
   "metadata": {
    "colab_type": "text",
    "id": "t39f_iktCulK"
   },
   "source": [
    "# So sánh episode training và epoch training\n",
    "So sánh các train bằng epoch, và cách train bằng episode. Traing bằng episode: chọn ngẫu nhiên theo phân phối đều ra 8 attribute, ững với mỗi attribute sẽ random ra 8 mẫu dương và 8 mẫu âm."
   ]
  },
  {
   "cell_type": "code",
   "execution_count": null,
   "metadata": {
    "colab": {
     "base_uri": "https://localhost:8080/",
     "height": 34
    },
    "colab_type": "code",
    "id": "j6CXkfQub97v",
    "outputId": "af3fb775-87b4-4f66-ee0e-3f805c2e0917"
   },
   "outputs": [
    {
     "name": "stdout",
     "output_type": "stream",
     "text": [
      "Writing /content/config1.yml\n"
     ]
    }
   ],
   "source": [
    "%%writefile /content/config1.yml\n",
    "base: /content/config/base_epoch.yml\n",
    "\n",
    "model:\n",
    "  backbone: resnet50\n",
    "  pooling: gem_pooling\n",
    "  head: BNHead\n",
    "  bn_where: after\n",
    "  use_tqdm: True\n",
    "\n",
    "data:\n",
    "  data_dir: datasets\n",
    "  name: peta\n",
    "  batch_size: 64\n",
    "  use_tqdm: True\n",
    "\n",
    "optimizer:\n",
    "  name: adam\n",
    "  lr: 0.00035\n",
    "\n",
    "loss:\n",
    "  name: CEL_Sigmoid\n",
    "\n",
    "freeze:\n",
    "  enable: True\n",
    "  layers: [backbone]\n",
    "  epochs: 10\n",
    "\n",
    "lr_scheduler:\n",
    "  enable: True\n",
    "  name: WarmupMultiStepLR\n",
    "  steps: [30, 60, 90]\n",
    "  gamma: 0.1\n",
    "  warmup_factor: 0.01\n",
    "  warmup_iters: 10\n",
    "\n",
    "trainer:\n",
    "  n_gpu: 1\n",
    "  epochs: 120\n",
    "  \n",
    "trainer_colab:\n",
    "  epochs: 120"
   ]
  },
  {
   "cell_type": "code",
   "execution_count": null,
   "metadata": {
    "colab": {
     "base_uri": "https://localhost:8080/",
     "height": 34
    },
    "colab_type": "code",
    "id": "E_OPnGRpb9-_",
    "outputId": "c9953cb4-9118-41db-c7d5-28d78a903991"
   },
   "outputs": [
    {
     "name": "stdout",
     "output_type": "stream",
     "text": [
      "Writing /content/config2.yml\n"
     ]
    }
   ],
   "source": [
    "%%writefile /content/config2.yml\n",
    "base: /content/config/base_episode.yml\n",
    "\n",
    "model:\n",
    "  backbone: resnet50\n",
    "  pooling: gem_pooling\n",
    "  head: BNHead\n",
    "  bn_where: after\n",
    "  use_tqdm: True\n",
    "\n",
    "data:\n",
    "  name: peta\n",
    "  train:\n",
    "    num_attribute: 8\n",
    "    num_instance: 16\n",
    "    num_iterator: 700\n",
    "    selected_ratio: 0.5\n",
    "  val:\n",
    "    num_attribute: 8\n",
    "    num_instance: 16\n",
    "    num_iterator: 100\n",
    "    selected_ratio: 0.5\n",
    "  use_tqdm: True\n",
    "\n",
    "optimizer:\n",
    "  name: sgd\n",
    "  lr: 0.01\n",
    "  specified_lr:\n",
    "    enable: True\n",
    "    lr: 0.1\n",
    "    layers: [head]\n",
    "\n",
    "loss:\n",
    "  name: Singular_BCE\n",
    "  reduction: mean\n",
    "\n",
    "freeze:\n",
    "  enable: True\n",
    "  layers: [backbone]\n",
    "  epochs: 10\n",
    "\n",
    "lr_scheduler:\n",
    "  enable: True\n",
    "  name: CosineAnnealingLR\n",
    "  max_iters: 120\n",
    "  eta_min_lr: 0\n",
    "\n",
    "clip_grad_norm_:\n",
    "  enable: True\n",
    "  max_norm: 10.0\n",
    "\n",
    "trainer:\n",
    "  n_gpu: 1\n",
    "  epochs: 200\n",
    "    \n",
    "trainer_colab:\n",
    "  epochs: 200"
   ]
  },
  {
   "cell_type": "code",
   "execution_count": null,
   "metadata": {
    "colab": {
     "base_uri": "https://localhost:8080/",
     "height": 1000,
     "referenced_widgets": [
      "3ef0e1088bbb414c83ab93b56cc7012d",
      "7815d1d9cd244e67a1ad661d213d41c5",
      "a724962c0f264b6fa4a85b1fd65e33d6",
      "9ab03f183de8435cb759c282c83b6abc",
      "0f73dba64cb14df2ae9f506718c7981b",
      "7fa6bc4cfba44f5b83199922d22dd033",
      "573ede3af7634e3e98cc68349bf83cdf",
      "7dc7ee10137f40dca547b318f332fae5",
      "2ed45d4e29484719b85c70b74e7283cf",
      "cabb79e61b424432b3a51c72136c5208",
      "e321060a60fc410bb9c870cd31ebea84",
      "15454da7d9e4473ca12274303e1e817b",
      "ab660492502f4da09c9ff9acf72660bd",
      "213d01bac60140a5b77c15bd46d678e7",
      "1a5664a6d7e2484aaaaf19bec0e8f59a",
      "e8a817d062a14065832df59aff19912c",
      "313a760ee3b7446cb43bcab7e0ba7083",
      "afd09f9b64584f47aaf2d38483437c51",
      "66726979e6fe4f7aabef860559873044",
      "88b5fd900f1648cda133d5c6c24fffb4",
      "d834b43713474cc8a8934a93ce3a9d6b",
      "eccaea7366f14f8986e2d3585fa3f74a",
      "3a04f72e45e84b0ba57a337b8b93dbf7",
      "3c323778e5cc4d16b8c816e373eccd20",
      "fc3fb70297354d32ac2cd34f8d67e003",
      "d9396e3ab3af462c80bf30197cab4946",
      "d667dc09238a4acdb009f139fa505969",
      "25277686dab44337b0955b82865423c3",
      "67d1b70dc7664975bd3e522775b9aa60",
      "646a05835c82419688442851ef85a9bc",
      "e104ff59b3b1481e85f7fb3370a31092",
      "335a71eab1a54157bf8fd172ac84d264",
      "e52cc5b0975c410191881dc166c22dcc",
      "c91b5ef3cb90463c838cf329c5bb33a0",
      "f436fd1cc0114c84a3d928ab0d8b7a26",
      "1212705dd4944fb6a17a98021070d677",
      "8bb465a453d949bdaf044d59714c5624",
      "d699df18ffce4aecbb77b734924c6918",
      "330c793a18704e519fe20528bb4d018f",
      "4ca70e7312754f71b22640d6e50cdddf"
     ]
    },
    "colab_type": "code",
    "id": "amDYWQNyCwpx",
    "outputId": "792a4f1e-8f92-47d7-de74-7f34c3733f19"
   },
   "outputs": [
    {
     "name": "stdout",
     "output_type": "stream",
     "text": [
      "Copying data...\n",
      "Copied!\n",
      "Extracting...\n"
     ]
    },
    {
     "data": {
      "application/vnd.jupyter.widget-view+json": {
       "model_id": "3ef0e1088bbb414c83ab93b56cc7012d",
       "version_major": 2,
       "version_minor": 0
      },
      "text/plain": [
       "HBox(children=(FloatProgress(value=0.0, description='PETA-New.zip', max=19003.0, style=ProgressStyle(descripti…"
      ]
     },
     "metadata": {
      "tags": []
     },
     "output_type": "display_data"
    },
    {
     "name": "stdout",
     "output_type": "stream",
     "text": [
      "\n",
      "Extracted!\n",
      "Copying data...\n",
      "Copied!\n",
      "Extracting...\n"
     ]
    },
    {
     "data": {
      "application/vnd.jupyter.widget-view+json": {
       "model_id": "2ed45d4e29484719b85c70b74e7283cf",
       "version_major": 2,
       "version_minor": 0
      },
      "text/plain": [
       "HBox(children=(FloatProgress(value=0.0, description='PETA-New.zip', max=19003.0, style=ProgressStyle(descripti…"
      ]
     },
     "metadata": {
      "tags": []
     },
     "output_type": "display_data"
    },
    {
     "name": "stdout",
     "output_type": "stream",
     "text": [
      "\n",
      "Extracted!\n"
     ]
    },
    {
     "name": "stderr",
     "output_type": "stream",
     "text": [
      "Downloading: \"https://download.pytorch.org/models/resnet50-19c8e357.pth\" to /root/.cache/torch/hub/checkpoints/resnet50-19c8e357.pth\n"
     ]
    },
    {
     "data": {
      "application/vnd.jupyter.widget-view+json": {
       "model_id": "313a760ee3b7446cb43bcab7e0ba7083",
       "version_major": 2,
       "version_minor": 0
      },
      "text/plain": [
       "HBox(children=(FloatProgress(value=0.0, max=102502400.0), HTML(value='')))"
      ]
     },
     "metadata": {
      "tags": []
     },
     "output_type": "display_data"
    },
    {
     "name": "stdout",
     "output_type": "stream",
     "text": [
      "\n",
      "Loading checkpoint: /content/drive/Shared drives/HIEN/Copy of HIEN/Models/OSNet_Person_Attribute_Refactor/checkpoints/0731_232453/model_best_accuracy.pth ...\n"
     ]
    },
    {
     "data": {
      "application/vnd.jupyter.widget-view+json": {
       "model_id": "fc3fb70297354d32ac2cd34f8d67e003",
       "version_major": 2,
       "version_minor": 0
      },
      "text/plain": [
       "HBox(children=(FloatProgress(value=0.0, max=119.0), HTML(value='')))"
      ]
     },
     "metadata": {
      "tags": []
     },
     "output_type": "display_data"
    },
    {
     "name": "stdout",
     "output_type": "stream",
     "text": [
      "\n",
      "Loading checkpoint: /content/drive/Shared drives/HIEN/Copy of HIEN/Models/person_attribute_recognition/checkpoints/0828_112607/model_last.pth ...\n"
     ]
    },
    {
     "data": {
      "application/vnd.jupyter.widget-view+json": {
       "model_id": "e52cc5b0975c410191881dc166c22dcc",
       "version_major": 2,
       "version_minor": 0
      },
      "text/plain": [
       "HBox(children=(FloatProgress(value=0.0, max=60.0), HTML(value='')))"
      ]
     },
     "metadata": {
      "tags": []
     },
     "output_type": "display_data"
    },
    {
     "name": "stdout",
     "output_type": "stream",
     "text": [
      "\n",
      "\n",
      "           attribute      weight       accuracy          mA           precision        recall          f1_score\n",
      "                   -           -              -           -                   -             -                 -\n",
      "        accessoryHat        9.54\u001b[94m     98.18\u001b[0m|97.91     93.81|\u001b[94m 94.4\u001b[0m\u001b[94m     92.23\u001b[0m|88.24     88.41|\u001b[94m90.07\u001b[0m\u001b[94m     90.28\u001b[0m|89.15\n",
      "    accessoryMuffler        8.32     99.11|\u001b[94m99.18\u001b[0m\u001b[94m     96.42\u001b[0m|96.39     95.93|\u001b[94m97.03\u001b[0m\u001b[94m      93.2\u001b[0m|93.04     94.54|\u001b[94m94.99\u001b[0m\n",
      "    accessoryNothing       75.55\u001b[94m     92.68\u001b[0m|92.66     87.59|\u001b[94m87.91\u001b[0m     93.09|\u001b[94m93.36\u001b[0m\u001b[94m     97.56\u001b[0m| 97.2\u001b[94m     95.27\u001b[0m|95.24\n",
      " accessorySunglasses        2.87\u001b[94m     97.88\u001b[0m|96.12     70.64|\u001b[94m77.97\u001b[0m\u001b[94m      72.8\u001b[0m|38.44     41.74|\u001b[94m58.72\u001b[0m\u001b[94m     53.06\u001b[0m|46.46\n",
      "            hairLong       23.74\u001b[94m     94.51\u001b[0m|94.01     92.05|\u001b[94m92.49\u001b[0m\u001b[94m     89.29\u001b[0m|85.82     87.36|\u001b[94m89.58\u001b[0m\u001b[94m     88.32\u001b[0m|87.66\n",
      "     upperBodyCasual       85.46\u001b[94m      94.8\u001b[0m|94.38     85.77|\u001b[94m87.33\u001b[0m     95.55|\u001b[94m96.19\u001b[0m\u001b[94m     98.51\u001b[0m|97.27\u001b[94m     97.01\u001b[0m|96.73\n",
      "     upperBodyFormal       13.25\u001b[94m      95.5\u001b[0m|95.03     86.43|\u001b[94m88.64\u001b[0m\u001b[94m     90.21\u001b[0m|82.06     74.08|\u001b[94m79.94\u001b[0m\u001b[94m     81.35\u001b[0m|80.99\n",
      "     upperBodyJacket        7.03\u001b[94m     96.03\u001b[0m|94.55     79.34|\u001b[94m82.79\u001b[0m\u001b[94m     78.43\u001b[0m|59.71     59.93|\u001b[94m 69.1\u001b[0m\u001b[94m     67.94\u001b[0m|64.06\n",
      "       upperBodyLogo        3.89\u001b[94m     96.86\u001b[0m|95.64\u001b[94m     77.13\u001b[0m|76.66\u001b[94m     60.44\u001b[0m|45.23     55.74|\u001b[94m56.08\u001b[0m\u001b[94m      58.0\u001b[0m|50.08\n",
      "      upperBodyPlaid        2.67\u001b[94m     98.76\u001b[0m|97.87     86.19|\u001b[94m90.04\u001b[0m\u001b[94m     79.14\u001b[0m|57.04     72.91|\u001b[94m81.77\u001b[0m\u001b[94m      75.9\u001b[0m|67.21\n",
      "upperBodyShortSleeve       14.34\u001b[94m     95.41\u001b[0m|94.61     91.02|\u001b[94m91.54\u001b[0m\u001b[94m     83.41\u001b[0m|77.82     84.86|\u001b[94m87.25\u001b[0m\u001b[94m     84.13\u001b[0m|82.27\n",
      "upperBodyThinStripes        1.66\u001b[94m      98.8\u001b[0m|98.04     73.25|\u001b[94m80.28\u001b[0m\u001b[94m     71.08\u001b[0m|43.58     46.83|\u001b[94m 61.9\u001b[0m\u001b[94m     56.46\u001b[0m|51.15\n",
      "     upperBodyTshirt        8.42\u001b[94m     95.63\u001b[0m|94.14     83.85|\u001b[94m86.37\u001b[0m\u001b[94m     76.37\u001b[0m|62.33     69.69|\u001b[94m77.03\u001b[0m\u001b[94m     72.88\u001b[0m| 68.9\n",
      "      upperBodyOther       45.47\u001b[94m     87.78\u001b[0m|87.62\u001b[94m     87.47\u001b[0m|87.32\u001b[94m     88.51\u001b[0m|88.19\u001b[94m     84.03\u001b[0m|\u001b[94m84.03\u001b[0m\u001b[94m     86.21\u001b[0m|86.06\n",
      "      upperBodyVNeck        1.05\u001b[94m      99.2\u001b[0m|98.59     63.11|\u001b[94m77.03\u001b[0m\u001b[94m      91.3\u001b[0m|38.26     26.25|\u001b[94m 55.0\u001b[0m     40.78|\u001b[94m45.13\u001b[0m\n",
      "     lowerBodyCasual       86.13\u001b[94m     94.96\u001b[0m|94.78     85.17|\u001b[94m87.22\u001b[0m     95.58|\u001b[94m96.31\u001b[0m\u001b[94m     98.72\u001b[0m|97.68\u001b[94m     97.12\u001b[0m|96.99\n",
      "     lowerBodyFormal       13.72\u001b[94m      95.2\u001b[0m|94.96     85.73|\u001b[94m87.65\u001b[0m\u001b[94m     90.45\u001b[0m|84.45     72.67|\u001b[94m77.56\u001b[0m      80.6|\u001b[94m80.86\u001b[0m\n",
      "      lowerBodyJeans       30.46\u001b[94m     90.18\u001b[0m|89.67     87.94|\u001b[94m 88.3\u001b[0m\u001b[94m     85.07\u001b[0m|81.93      82.2|\u001b[94m84.79\u001b[0m\u001b[94m     83.61\u001b[0m|83.34\n",
      "     lowerBodyShorts        3.43\u001b[94m     97.71\u001b[0m|97.04     81.45|\u001b[94m85.16\u001b[0m\u001b[94m     67.61\u001b[0m|55.26     63.98|\u001b[94m72.41\u001b[0m\u001b[94m     65.75\u001b[0m|62.69\n",
      " lowerBodyShortSkirt        4.62\u001b[94m     97.59\u001b[0m|96.57      84.5|\u001b[94m89.39\u001b[0m\u001b[94m     75.93\u001b[0m|59.34     70.09|\u001b[94m81.48\u001b[0m\u001b[94m     72.89\u001b[0m|68.67\n",
      "   lowerBodyTrousers       51.96     86.99|\u001b[94m87.24\u001b[0m     86.96|\u001b[94m87.17\u001b[0m\u001b[94m     87.37\u001b[0m|86.95     87.62|\u001b[94m88.76\u001b[0m      87.5|\u001b[94m87.84\u001b[0m\n",
      "footwearLeatherShoes       29.14\u001b[94m     91.97\u001b[0m|91.28     89.02|\u001b[94m89.25\u001b[0m\u001b[94m     89.63\u001b[0m| 85.5     81.94|\u001b[94m84.38\u001b[0m\u001b[94m     85.61\u001b[0m|84.94\n",
      "     footwearSandals        1.89\u001b[94m     98.08\u001b[0m|96.99     72.12|\u001b[94m79.05\u001b[0m\u001b[94m     49.24\u001b[0m|33.59     45.14|\u001b[94m60.42\u001b[0m\u001b[94m      47.1\u001b[0m|43.18\n",
      "       footwearShoes        36.5\u001b[94m     83.24\u001b[0m| 82.7\u001b[94m     82.32\u001b[0m|81.83\u001b[94m     76.06\u001b[0m|75.13\u001b[94m     78.91\u001b[0m|78.62\u001b[94m     77.46\u001b[0m|76.84\n",
      "     footwearSneaker       22.04\u001b[94m     88.34\u001b[0m|87.43      80.1|\u001b[94m84.73\u001b[0m\u001b[94m     78.16\u001b[0m| 68.4     65.37|\u001b[94m79.88\u001b[0m      71.2|\u001b[94m 73.7\u001b[0m\n",
      "    carryingBackpack        19.7\u001b[94m     92.46\u001b[0m|90.32      88.1|\u001b[94m 88.9\u001b[0m\u001b[94m     80.84\u001b[0m|70.78      80.9|\u001b[94m86.57\u001b[0m\u001b[94m     80.87\u001b[0m|77.88\n",
      "       carryingOther       20.14\u001b[94m     88.45\u001b[0m|86.66     78.68|\u001b[94m79.29\u001b[0m\u001b[94m     76.02\u001b[0m|66.86     62.31|\u001b[94m66.95\u001b[0m\u001b[94m     68.49\u001b[0m|66.91\n",
      "carryingMessengerBag       29.93\u001b[94m     88.87\u001b[0m|87.97\u001b[94m     85.76\u001b[0m|85.63\u001b[94m     83.69\u001b[0m|79.99     78.02|\u001b[94m79.78\u001b[0m\u001b[94m     80.76\u001b[0m|79.89\n",
      "     carryingNothing       27.51\u001b[94m     89.62\u001b[0m| 88.3      85.7|\u001b[94m86.61\u001b[0m\u001b[94m     83.94\u001b[0m|76.57      77.0|\u001b[94m82.83\u001b[0m\u001b[94m     80.32\u001b[0m|79.58\n",
      " carryingPlasticBags         7.7\u001b[94m     97.54\u001b[0m|97.09     87.78|\u001b[94m88.63\u001b[0m\u001b[94m     90.28\u001b[0m|82.73     76.24|\u001b[94m78.63\u001b[0m\u001b[94m     82.67\u001b[0m|80.63\n",
      "      personalLess30       50.41\u001b[94m     88.88\u001b[0m|88.45\u001b[94m     88.87\u001b[0m|88.42\u001b[94m     88.11\u001b[0m|86.47     90.11|\u001b[94m91.39\u001b[0m\u001b[94m      89.1\u001b[0m|88.86\n",
      "      personalLess45       32.12\u001b[94m     87.51\u001b[0m|86.88     85.06|\u001b[94m85.43\u001b[0m\u001b[94m     82.07\u001b[0m|78.56     78.21|\u001b[94m81.36\u001b[0m\u001b[94m     80.09\u001b[0m|79.94\n",
      "      personalLess60       10.25\u001b[94m     96.26\u001b[0m|96.05\u001b[94m     87.63\u001b[0m| 87.0\u001b[94m     85.31\u001b[0m|84.26\u001b[94m     76.77\u001b[0m|75.61\u001b[94m     80.81\u001b[0m| 79.7\n",
      "    personalLarger60        6.07\u001b[94m     99.33\u001b[0m| 99.0     95.99|\u001b[94m96.32\u001b[0m\u001b[94m     96.59\u001b[0m|90.53     92.19|\u001b[94m93.28\u001b[0m\u001b[94m     94.34\u001b[0m|91.88\n",
      "        personalMale       54.57\u001b[94m     93.78\u001b[0m|93.51\u001b[94m     93.67\u001b[0m|93.29\u001b[94m     93.86\u001b[0m|92.61     94.79|\u001b[94m95.76\u001b[0m\u001b[94m     94.33\u001b[0m|94.16\n",
      "                   -           -         -|    -         -|    -         -|    -         -|    -         -|    -\n",
      "                mean           -\u001b[94m     93.95\u001b[0m|93.24     84.76|\u001b[94m86.76\u001b[0m\u001b[94m     83.25\u001b[0m|73.99     75.26|\u001b[94m80.46\u001b[0m\u001b[94m     78.36\u001b[0m| 76.7\n"
     ]
    }
   ],
   "source": [
    "import os\n",
    "import argparse\n",
    "import logging\n",
    "import torch\n",
    "import numpy as np\n",
    "\n",
    "from tqdm import tqdm\n",
    "from easydict import EasyDict\n",
    "\n",
    "from models import build_model\n",
    "from data import build_datamanager\n",
    "from logger import setup_logging\n",
    "from utils import read_config, rmdir, summary, array_interweave, COLOR\n",
    "from evaluators import recognition_metrics\n",
    "from evaluators.recognition_metrics import log_test, compare_class_based, test\n",
    "\n",
    "config1 = \"config1.yml\"\n",
    "config2 = \"config2.yml\"\n",
    "\n",
    "resume1 = \"/content/drive/Shared drives/HIEN/Copy of HIEN/Models/OSNet_Person_Attribute_Refactor/checkpoints/0731_232453/model_best_accuracy.pth\"\n",
    "resume2 = \"/content/drive/Shared drives/HIEN/Copy of HIEN/Models/person_attribute_recognition/checkpoints/0828_112607/model_last.pth\"\n",
    "\n",
    "config1 = read_config(config1)\n",
    "config1.update({'resume': resume1})\n",
    "config1.update({'colab': True})\n",
    "\n",
    "config2 = read_config(config2)\n",
    "config2.update({'resume': resume2})\n",
    "config2.update({'colab': True})\n",
    "\n",
    "datamanager1, _ = build_datamanager(config1['type'], config1['data'])\n",
    "datamanager2, _ = build_datamanager(config2['type'], config2['data'])\n",
    "\n",
    "# model1\n",
    "result_label1, result_instance1 = test(config1, datamanager1, print)\n",
    "\n",
    "# model 2\n",
    "result_label2, result_instance2 = test(config2, datamanager2, print)\n",
    "print()\n",
    "compare_class_based(print, datamanager1.datasource.get_attribute(), datamanager1.datasource.get_weight('test'), result_label1, result_label2, COLOR.BLUE)"
   ]
  },
  {
   "cell_type": "code",
   "execution_count": null,
   "metadata": {
    "colab": {
     "base_uri": "https://localhost:8080/",
     "height": 17
    },
    "colab_type": "code",
    "id": "UeU9aICZKCDN",
    "outputId": "cdbb2bbf-96b4-48c3-b086-c2c601b37947"
   },
   "outputs": [
    {
     "data": {
      "application/javascript": [
       "\n",
       "    async function download(id, filename, size) {\n",
       "      if (!google.colab.kernel.accessAllowed) {\n",
       "        return;\n",
       "      }\n",
       "      const div = document.createElement('div');\n",
       "      const label = document.createElement('label');\n",
       "      label.textContent = `Downloading \"${filename}\": `;\n",
       "      div.appendChild(label);\n",
       "      const progress = document.createElement('progress');\n",
       "      progress.max = size;\n",
       "      div.appendChild(progress);\n",
       "      document.body.appendChild(div);\n",
       "\n",
       "      const buffers = [];\n",
       "      let downloaded = 0;\n",
       "\n",
       "      const channel = await google.colab.kernel.comms.open(id);\n",
       "      // Send a message to notify the kernel that we're ready.\n",
       "      channel.send({})\n",
       "\n",
       "      for await (const message of channel.messages) {\n",
       "        // Send a message to notify the kernel that we're ready.\n",
       "        channel.send({})\n",
       "        if (message.buffers) {\n",
       "          for (const buffer of message.buffers) {\n",
       "            buffers.push(buffer);\n",
       "            downloaded += buffer.byteLength;\n",
       "            progress.value = downloaded;\n",
       "          }\n",
       "        }\n",
       "      }\n",
       "      const blob = new Blob(buffers, {type: 'application/binary'});\n",
       "      const a = document.createElement('a');\n",
       "      a.href = window.URL.createObjectURL(blob);\n",
       "      a.download = filename;\n",
       "      div.appendChild(a);\n",
       "      a.click();\n",
       "      div.remove();\n",
       "    }\n",
       "  "
      ],
      "text/plain": [
       "<IPython.core.display.Javascript object>"
      ]
     },
     "metadata": {
      "tags": []
     },
     "output_type": "display_data"
    },
    {
     "data": {
      "application/javascript": [
       "download(\"download_736c6456-cdf3-452d-b708-7a8019a98e2f\", \"epoch_vs_episode_accuracy.pdf\", 18609)"
      ],
      "text/plain": [
       "<IPython.core.display.Javascript object>"
      ]
     },
     "metadata": {
      "tags": []
     },
     "output_type": "display_data"
    },
    {
     "data": {
      "application/javascript": [
       "\n",
       "    async function download(id, filename, size) {\n",
       "      if (!google.colab.kernel.accessAllowed) {\n",
       "        return;\n",
       "      }\n",
       "      const div = document.createElement('div');\n",
       "      const label = document.createElement('label');\n",
       "      label.textContent = `Downloading \"${filename}\": `;\n",
       "      div.appendChild(label);\n",
       "      const progress = document.createElement('progress');\n",
       "      progress.max = size;\n",
       "      div.appendChild(progress);\n",
       "      document.body.appendChild(div);\n",
       "\n",
       "      const buffers = [];\n",
       "      let downloaded = 0;\n",
       "\n",
       "      const channel = await google.colab.kernel.comms.open(id);\n",
       "      // Send a message to notify the kernel that we're ready.\n",
       "      channel.send({})\n",
       "\n",
       "      for await (const message of channel.messages) {\n",
       "        // Send a message to notify the kernel that we're ready.\n",
       "        channel.send({})\n",
       "        if (message.buffers) {\n",
       "          for (const buffer of message.buffers) {\n",
       "            buffers.push(buffer);\n",
       "            downloaded += buffer.byteLength;\n",
       "            progress.value = downloaded;\n",
       "          }\n",
       "        }\n",
       "      }\n",
       "      const blob = new Blob(buffers, {type: 'application/binary'});\n",
       "      const a = document.createElement('a');\n",
       "      a.href = window.URL.createObjectURL(blob);\n",
       "      a.download = filename;\n",
       "      div.appendChild(a);\n",
       "      a.click();\n",
       "      div.remove();\n",
       "    }\n",
       "  "
      ],
      "text/plain": [
       "<IPython.core.display.Javascript object>"
      ]
     },
     "metadata": {
      "tags": []
     },
     "output_type": "display_data"
    },
    {
     "data": {
      "application/javascript": [
       "download(\"download_574df6ee-1548-49d0-a96c-df7bb8435ff8\", \"epoch_vs_episode_mean_accuracy.pdf\", 18429)"
      ],
      "text/plain": [
       "<IPython.core.display.Javascript object>"
      ]
     },
     "metadata": {
      "tags": []
     },
     "output_type": "display_data"
    },
    {
     "data": {
      "application/javascript": [
       "\n",
       "    async function download(id, filename, size) {\n",
       "      if (!google.colab.kernel.accessAllowed) {\n",
       "        return;\n",
       "      }\n",
       "      const div = document.createElement('div');\n",
       "      const label = document.createElement('label');\n",
       "      label.textContent = `Downloading \"${filename}\": `;\n",
       "      div.appendChild(label);\n",
       "      const progress = document.createElement('progress');\n",
       "      progress.max = size;\n",
       "      div.appendChild(progress);\n",
       "      document.body.appendChild(div);\n",
       "\n",
       "      const buffers = [];\n",
       "      let downloaded = 0;\n",
       "\n",
       "      const channel = await google.colab.kernel.comms.open(id);\n",
       "      // Send a message to notify the kernel that we're ready.\n",
       "      channel.send({})\n",
       "\n",
       "      for await (const message of channel.messages) {\n",
       "        // Send a message to notify the kernel that we're ready.\n",
       "        channel.send({})\n",
       "        if (message.buffers) {\n",
       "          for (const buffer of message.buffers) {\n",
       "            buffers.push(buffer);\n",
       "            downloaded += buffer.byteLength;\n",
       "            progress.value = downloaded;\n",
       "          }\n",
       "        }\n",
       "      }\n",
       "      const blob = new Blob(buffers, {type: 'application/binary'});\n",
       "      const a = document.createElement('a');\n",
       "      a.href = window.URL.createObjectURL(blob);\n",
       "      a.download = filename;\n",
       "      div.appendChild(a);\n",
       "      a.click();\n",
       "      div.remove();\n",
       "    }\n",
       "  "
      ],
      "text/plain": [
       "<IPython.core.display.Javascript object>"
      ]
     },
     "metadata": {
      "tags": []
     },
     "output_type": "display_data"
    },
    {
     "data": {
      "application/javascript": [
       "download(\"download_b9028cdf-7048-4ea8-9b94-2f9de8742f9e\", \"epoch_vs_episode_precision.pdf\", 18037)"
      ],
      "text/plain": [
       "<IPython.core.display.Javascript object>"
      ]
     },
     "metadata": {
      "tags": []
     },
     "output_type": "display_data"
    },
    {
     "data": {
      "application/javascript": [
       "\n",
       "    async function download(id, filename, size) {\n",
       "      if (!google.colab.kernel.accessAllowed) {\n",
       "        return;\n",
       "      }\n",
       "      const div = document.createElement('div');\n",
       "      const label = document.createElement('label');\n",
       "      label.textContent = `Downloading \"${filename}\": `;\n",
       "      div.appendChild(label);\n",
       "      const progress = document.createElement('progress');\n",
       "      progress.max = size;\n",
       "      div.appendChild(progress);\n",
       "      document.body.appendChild(div);\n",
       "\n",
       "      const buffers = [];\n",
       "      let downloaded = 0;\n",
       "\n",
       "      const channel = await google.colab.kernel.comms.open(id);\n",
       "      // Send a message to notify the kernel that we're ready.\n",
       "      channel.send({})\n",
       "\n",
       "      for await (const message of channel.messages) {\n",
       "        // Send a message to notify the kernel that we're ready.\n",
       "        channel.send({})\n",
       "        if (message.buffers) {\n",
       "          for (const buffer of message.buffers) {\n",
       "            buffers.push(buffer);\n",
       "            downloaded += buffer.byteLength;\n",
       "            progress.value = downloaded;\n",
       "          }\n",
       "        }\n",
       "      }\n",
       "      const blob = new Blob(buffers, {type: 'application/binary'});\n",
       "      const a = document.createElement('a');\n",
       "      a.href = window.URL.createObjectURL(blob);\n",
       "      a.download = filename;\n",
       "      div.appendChild(a);\n",
       "      a.click();\n",
       "      div.remove();\n",
       "    }\n",
       "  "
      ],
      "text/plain": [
       "<IPython.core.display.Javascript object>"
      ]
     },
     "metadata": {
      "tags": []
     },
     "output_type": "display_data"
    },
    {
     "data": {
      "application/javascript": [
       "download(\"download_9c60be47-7503-4499-8276-4a003350308a\", \"epoch_vs_episode_recall.pdf\", 18698)"
      ],
      "text/plain": [
       "<IPython.core.display.Javascript object>"
      ]
     },
     "metadata": {
      "tags": []
     },
     "output_type": "display_data"
    },
    {
     "data": {
      "application/javascript": [
       "\n",
       "    async function download(id, filename, size) {\n",
       "      if (!google.colab.kernel.accessAllowed) {\n",
       "        return;\n",
       "      }\n",
       "      const div = document.createElement('div');\n",
       "      const label = document.createElement('label');\n",
       "      label.textContent = `Downloading \"${filename}\": `;\n",
       "      div.appendChild(label);\n",
       "      const progress = document.createElement('progress');\n",
       "      progress.max = size;\n",
       "      div.appendChild(progress);\n",
       "      document.body.appendChild(div);\n",
       "\n",
       "      const buffers = [];\n",
       "      let downloaded = 0;\n",
       "\n",
       "      const channel = await google.colab.kernel.comms.open(id);\n",
       "      // Send a message to notify the kernel that we're ready.\n",
       "      channel.send({})\n",
       "\n",
       "      for await (const message of channel.messages) {\n",
       "        // Send a message to notify the kernel that we're ready.\n",
       "        channel.send({})\n",
       "        if (message.buffers) {\n",
       "          for (const buffer of message.buffers) {\n",
       "            buffers.push(buffer);\n",
       "            downloaded += buffer.byteLength;\n",
       "            progress.value = downloaded;\n",
       "          }\n",
       "        }\n",
       "      }\n",
       "      const blob = new Blob(buffers, {type: 'application/binary'});\n",
       "      const a = document.createElement('a');\n",
       "      a.href = window.URL.createObjectURL(blob);\n",
       "      a.download = filename;\n",
       "      div.appendChild(a);\n",
       "      a.click();\n",
       "      div.remove();\n",
       "    }\n",
       "  "
      ],
      "text/plain": [
       "<IPython.core.display.Javascript object>"
      ]
     },
     "metadata": {
      "tags": []
     },
     "output_type": "display_data"
    },
    {
     "data": {
      "application/javascript": [
       "download(\"download_d528aab7-eed1-403a-8a0f-9c23160769c5\", \"epoch_vs_episode_f1_score.pdf\", 17844)"
      ],
      "text/plain": [
       "<IPython.core.display.Javascript object>"
      ]
     },
     "metadata": {
      "tags": []
     },
     "output_type": "display_data"
    }
   ],
   "source": [
    "tag = 'epoch_vs_episode'\n",
    "\n",
    "import matplotlib.pyplot as plt\n",
    "from matplotlib.patches import ConnectionPatch\n",
    "from matplotlib import rcParams\n",
    "from google.colab import files\n",
    "mapping_label = {'accuracy': 'Accuracy', 'mean_accuracy': 'mean Accuracy', 'precision': 'Precision', 'recall': 'Recall', 'f1_score': 'F1 score'}\n",
    "for metric in ['accuracy', 'mean_accuracy', 'precision', 'recall', 'f1_score']:\n",
    "    fig, (ax) = plt.subplots(1, 1, sharex=True)\n",
    "    alpha = result_label1[metric] > result_label2[metric]\n",
    "    ax.scatter(datamanager1.datasource.get_weight('test'), result_label1[metric]*100, color='r', label='epoch')\n",
    "    ax.scatter(datamanager1.datasource.get_weight('test'), result_label2[metric]*100, color='b', label='episode')\n",
    "    ax.legend(loc='best')\n",
    "    ax.grid()\n",
    "    for i in range(len(datamanager1.datasource.get_weight('test'))):\n",
    "        x = datamanager1.datasource.get_weight('test')[i]\n",
    "        y1 = (result_label1[metric]*100)[i]\n",
    "        y2 = (result_label2[metric]*100)[i]\n",
    "        color = 'r' if y1 >= y2 else 'b'\n",
    "        xyA = (x, y1)\n",
    "        xyB = (x, y2)\n",
    "        coordsA = \"data\"\n",
    "        coordsB = \"data\"\n",
    "        con = ConnectionPatch(xyA=xyA, xyB=xyB, coordsA=coordsA, coordsB=coordsB, arrowstyle=\"-\")\n",
    "        ax.add_artist(con)\n",
    " \n",
    "    # plt.show()\n",
    "    ax.set_xlabel('Tỷ lệ mẫu dương')\n",
    "    ax.set_ylabel('{}'.format(mapping_label[metric]))\n",
    "    plt.savefig('{}_{}.pdf'.format(tag, metric), dpi=1200)\n",
    "    # plt.show()\n",
    "    plt.close()\n",
    "    files.download('{}_{}.pdf'.format(tag, metric))"
   ]
  },
  {
   "cell_type": "markdown",
   "metadata": {
    "colab_type": "text",
    "id": "vfKQhCc-9Fe7"
   },
   "source": [
    "# Focal Loss"
   ]
  },
  {
   "cell_type": "markdown",
   "metadata": {
    "colab_type": "text",
    "id": "e23N1ZGviWdO"
   },
   "source": [
    "# Parser Folder"
   ]
  },
  {
   "cell_type": "code",
   "execution_count": null,
   "metadata": {
    "colab": {},
    "colab_type": "code",
    "id": "RERe9dMXideL"
   },
   "outputs": [],
   "source": [
    "import os\n",
    "import sys\n",
    "# sys.path.append(os.path.join(os.path.dirname(os.path.realpath(__file__))))\n",
    "\n",
    "import shutil\n",
    "import argparse\n",
    "\n",
    "from tqdm.auto import tqdm\n",
    "\n",
    "from utils import rmdir\n",
    "\n",
    "def copytree(src, dst, symlinks=False, ignore=None):\n",
    "    if not os.path.exists(dst):\n",
    "        os.makedirs(dst)\n",
    "    for item in os.listdir(src):\n",
    "        s = os.path.join(src, item)\n",
    "        d = os.path.join(dst, item)\n",
    "        if os.path.isdir(s):\n",
    "            copytree(s, d, symlinks, ignore)\n",
    "        else:\n",
    "            if not os.path.exists(d) or os.stat(s).st_mtime - os.stat(d).st_mtime > 1:\n",
    "                shutil.copy2(s, d)\n",
    "\n",
    "if __name__ == \"__main__\":\n",
    "    log_dir = '/content/drive/My Drive/HIEN/Models/person_attribute_recognition/logs'\n",
    "    saved_folder = '/content/drive/My Drive/HIEN/Models/person_attribute_recognition/saved'\n",
    "\n",
    "    all_saved_info = list()\n",
    "    for f1 in [f.name for f in os.scandir(log_dir) if f.is_dir()]:\n",
    "        if not os.path.exists(os.path.join(log_dir, f1, 'info.log')):\n",
    "            continue\n",
    "        info_log = open(os.path.join(log_dir, f1, 'info.log'), 'r')\n",
    "        if os.path.exists(os.path.join(log_dir, f1, 'info.log.gdoc')):\n",
    "            os.remove(os.path.join(log_dir, f1, 'info.log.gdoc'))\n",
    "        saved_info = dict()\n",
    "        saved_info['id'] = f1\n",
    "        saved_info['path'] = os.path.join(log_dir, f1)\n",
    "        saved_info['info'] = dict()\n",
    "        saved = False\n",
    "        for i, line in enumerate(info_log):\n",
    "            head = line[41:].split(':')\n",
    "            if head[0] not in ['Run id', 'Dataset', 'Data', 'Model', 'Freeze layer', 'Loss', 'Optimizer', 'Lr scheduler']:\n",
    "                break\n",
    "            if head[0] == 'Dataset':\n",
    "                saved_info['info']['Dataset'] = head[1].split(',')[0].replace(' ', '')\n",
    "            if head[0] == 'Data':\n",
    "                saved_info['info']['Dataset'] = head[2].split(',')[0].replace(' ', '')\n",
    "            if head[0] == 'Model':\n",
    "                try:\n",
    "                    saved_info['info']['Model'] = head[2].split(' ')[1].split(',')[0].replace(' ', '')\n",
    "                except:\n",
    "                    saved_info['info']['Model'] = head[1].split(' ')[1].split(',')[0].replace(' ', '')\n",
    "            if head[0] == 'Freeze layer':\n",
    "                saved_info['info']['Freeze layer'] = 1\n",
    "            if head[0] == 'Loss':\n",
    "                saved_info['info']['Loss'] = head[1].split(' ')[1].split(',')[0].replace(' ', '')\n",
    "            if head[0] == 'Optimizer':\n",
    "                saved_info['info']['Optimizer'] = head[1].split(' ')[1].split(',')[0].replace(' ', '')\n",
    "            if head[0] == 'Lr scheduler':\n",
    "                saved_info['info']['Lr scheduler'] = head[1].split(' ')[1].split(',')[0].replace(' ', '')\n",
    "            saved = True\n",
    "        info_log.close()\n",
    "        if saved == True:\n",
    "            if 'Freeze layer' not in saved_info['info']:\n",
    "                saved_info['info']['Freeze layer'] = 0\n",
    "            all_saved_info.append(saved_info)\n",
    "    \n",
    "    rmdir(saved_folder)\n",
    "    for x in tqdm(all_saved_info):\n",
    "        source = x['path']\n",
    "        des = os.path.join(saved_folder, x['info']['Model'],  x['info']['Loss'], 'Freeze layer'.replace(' ', '') + '-' + str(x['info']['Freeze layer']), x['info']['Optimizer'], x['info']['Lr scheduler'], x['id'])\n",
    "        if not os.path.exists(des):\n",
    "            os.makedirs(des, exist_ok=True)\n",
    "            copytree(source, des)\n"
   ]
  },
  {
   "cell_type": "code",
   "execution_count": null,
   "metadata": {
    "colab": {},
    "colab_type": "code",
    "id": "4g2N79t9kGJT"
   },
   "outputs": [],
   "source": []
  }
 ],
 "metadata": {
  "accelerator": "GPU",
  "colab": {
   "collapsed_sections": [
    "JOIUL4PsnEzU",
    "dvY-AaB4x0Jk",
    "vKPM3aHwyNRs",
    "dTnVt2MYyPbE",
    "oqFTwlu_64Ys",
    "8CY_992W69ht",
    "T7XzjpUJ7Ahn",
    "5IZyFKhe_Riq",
    "RKdsFwMT5yez",
    "OjSeq9uwyT-D",
    "84aUSLIU_GEW",
    "HgJPadruAcLy",
    "C-Ege-ZQyY5t",
    "0OaU-TL9DCs5",
    "dAYDQWNOBzqn",
    "klWzH5kyEEPH",
    "dtMpnSDpEHKJ",
    "skML3ZmlEJSk",
    "smVJEjDyEL4J",
    "HF29T5n_CWJc",
    "5UL0cztmB-8e",
    "QvYLURhLosVl",
    "-3-WiUqy8kPN",
    "18R0QJaJ5pwp",
    "EosB7F3_0YT1",
    "GMza0B8DYP--",
    "lGT6Q4lX8z67",
    "0qWMxjKeHsGR",
    "CFCzqbSCMQTO",
    "Ds9OUSOxbSEb",
    "vfKQhCc-9Fe7",
    "e23N1ZGviWdO"
   ],
   "name": "Test_Model",
   "provenance": [],
   "toc_visible": true
  },
  "kernelspec": {
   "display_name": "Python 3",
   "language": "python",
   "name": "python3"
  },
  "language_info": {
   "codemirror_mode": {
    "name": "ipython",
    "version": 3
   },
   "file_extension": ".py",
   "mimetype": "text/x-python",
   "name": "python",
   "nbconvert_exporter": "python",
   "pygments_lexer": "ipython3",
   "version": "3.6.9"
  },
  "widgets": {
   "application/vnd.jupyter.widget-state+json": {
    "0221cbf5a6de474f8a79a8559d509f25": {
     "model_module": "@jupyter-widgets/base",
     "model_name": "LayoutModel",
     "state": {
      "_model_module": "@jupyter-widgets/base",
      "_model_module_version": "1.2.0",
      "_model_name": "LayoutModel",
      "_view_count": null,
      "_view_module": "@jupyter-widgets/base",
      "_view_module_version": "1.2.0",
      "_view_name": "LayoutView",
      "align_content": null,
      "align_items": null,
      "align_self": null,
      "border": null,
      "bottom": null,
      "display": null,
      "flex": null,
      "flex_flow": null,
      "grid_area": null,
      "grid_auto_columns": null,
      "grid_auto_flow": null,
      "grid_auto_rows": null,
      "grid_column": null,
      "grid_gap": null,
      "grid_row": null,
      "grid_template_areas": null,
      "grid_template_columns": null,
      "grid_template_rows": null,
      "height": null,
      "justify_content": null,
      "justify_items": null,
      "left": null,
      "margin": null,
      "max_height": null,
      "max_width": null,
      "min_height": null,
      "min_width": null,
      "object_fit": null,
      "object_position": null,
      "order": null,
      "overflow": null,
      "overflow_x": null,
      "overflow_y": null,
      "padding": null,
      "right": null,
      "top": null,
      "visibility": null,
      "width": null
     }
    },
    "0260417727044b87a7a1a4fc1629d24b": {
     "model_module": "@jupyter-widgets/controls",
     "model_name": "HTMLModel",
     "state": {
      "_dom_classes": [],
      "_model_module": "@jupyter-widgets/controls",
      "_model_module_version": "1.5.0",
      "_model_name": "HTMLModel",
      "_view_count": null,
      "_view_module": "@jupyter-widgets/controls",
      "_view_module_version": "1.5.0",
      "_view_name": "HTMLView",
      "description": "",
      "description_tooltip": null,
      "layout": "IPY_MODEL_64fdae780d03499a835715f479e52fc5",
      "placeholder": "​",
      "style": "IPY_MODEL_a47408b99890452f9fe392011a3dee7d",
      "value": " 119/119 [02:12&lt;00:00,  1.11s/it]"
     }
    },
    "043e38c1865b44e68298df3aeac5e679": {
     "model_module": "@jupyter-widgets/base",
     "model_name": "LayoutModel",
     "state": {
      "_model_module": "@jupyter-widgets/base",
      "_model_module_version": "1.2.0",
      "_model_name": "LayoutModel",
      "_view_count": null,
      "_view_module": "@jupyter-widgets/base",
      "_view_module_version": "1.2.0",
      "_view_name": "LayoutView",
      "align_content": null,
      "align_items": null,
      "align_self": null,
      "border": null,
      "bottom": null,
      "display": null,
      "flex": null,
      "flex_flow": null,
      "grid_area": null,
      "grid_auto_columns": null,
      "grid_auto_flow": null,
      "grid_auto_rows": null,
      "grid_column": null,
      "grid_gap": null,
      "grid_row": null,
      "grid_template_areas": null,
      "grid_template_columns": null,
      "grid_template_rows": null,
      "height": null,
      "justify_content": null,
      "justify_items": null,
      "left": null,
      "margin": null,
      "max_height": null,
      "max_width": null,
      "min_height": null,
      "min_width": null,
      "object_fit": null,
      "object_position": null,
      "order": null,
      "overflow": null,
      "overflow_x": null,
      "overflow_y": null,
      "padding": null,
      "right": null,
      "top": null,
      "visibility": null,
      "width": null
     }
    },
    "04e33719f549478a99328a081c4356aa": {
     "model_module": "@jupyter-widgets/controls",
     "model_name": "HTMLModel",
     "state": {
      "_dom_classes": [],
      "_model_module": "@jupyter-widgets/controls",
      "_model_module_version": "1.5.0",
      "_model_name": "HTMLModel",
      "_view_count": null,
      "_view_module": "@jupyter-widgets/controls",
      "_view_module_version": "1.5.0",
      "_view_name": "HTMLView",
      "description": "",
      "description_tooltip": null,
      "layout": "IPY_MODEL_0221cbf5a6de474f8a79a8559d509f25",
      "placeholder": "​",
      "style": "IPY_MODEL_7940a997da52454f9153dccf926c69aa",
      "value": " 60/60 [01:27&lt;00:00,  1.45s/it]"
     }
    },
    "05334760ace34f27b7762bfecafc50fa": {
     "model_module": "@jupyter-widgets/controls",
     "model_name": "HBoxModel",
     "state": {
      "_dom_classes": [],
      "_model_module": "@jupyter-widgets/controls",
      "_model_module_version": "1.5.0",
      "_model_name": "HBoxModel",
      "_view_count": null,
      "_view_module": "@jupyter-widgets/controls",
      "_view_module_version": "1.5.0",
      "_view_name": "HBoxView",
      "box_style": "",
      "children": [
       "IPY_MODEL_b4b1f180af4b4d90b42769fc88068149",
       "IPY_MODEL_e43b20ec42a24a818e122d4122f8df52"
      ],
      "layout": "IPY_MODEL_2b0eaa71aaae4d77acd744a0f2fe359d"
     }
    },
    "05b80cfdebaf4a3d9fd0da62cdf2eb70": {
     "model_module": "@jupyter-widgets/controls",
     "model_name": "DescriptionStyleModel",
     "state": {
      "_model_module": "@jupyter-widgets/controls",
      "_model_module_version": "1.5.0",
      "_model_name": "DescriptionStyleModel",
      "_view_count": null,
      "_view_module": "@jupyter-widgets/base",
      "_view_module_version": "1.2.0",
      "_view_name": "StyleView",
      "description_width": ""
     }
    },
    "06097d9c35b5440eb5b02c8a143f2b41": {
     "model_module": "@jupyter-widgets/controls",
     "model_name": "HTMLModel",
     "state": {
      "_dom_classes": [],
      "_model_module": "@jupyter-widgets/controls",
      "_model_module_version": "1.5.0",
      "_model_name": "HTMLModel",
      "_view_count": null,
      "_view_module": "@jupyter-widgets/controls",
      "_view_module_version": "1.5.0",
      "_view_name": "HTMLView",
      "description": "",
      "description_tooltip": null,
      "layout": "IPY_MODEL_561d250bc97a4e05a482425a9b099cb2",
      "placeholder": "​",
      "style": "IPY_MODEL_0a45f44b5cf443eb8517ed810f42867c",
      "value": " 60/60 [01:26&lt;00:00,  1.44s/it]"
     }
    },
    "066ccb733209486592382d9faa3a7189": {
     "model_module": "@jupyter-widgets/base",
     "model_name": "LayoutModel",
     "state": {
      "_model_module": "@jupyter-widgets/base",
      "_model_module_version": "1.2.0",
      "_model_name": "LayoutModel",
      "_view_count": null,
      "_view_module": "@jupyter-widgets/base",
      "_view_module_version": "1.2.0",
      "_view_name": "LayoutView",
      "align_content": null,
      "align_items": null,
      "align_self": null,
      "border": null,
      "bottom": null,
      "display": null,
      "flex": null,
      "flex_flow": null,
      "grid_area": null,
      "grid_auto_columns": null,
      "grid_auto_flow": null,
      "grid_auto_rows": null,
      "grid_column": null,
      "grid_gap": null,
      "grid_row": null,
      "grid_template_areas": null,
      "grid_template_columns": null,
      "grid_template_rows": null,
      "height": null,
      "justify_content": null,
      "justify_items": null,
      "left": null,
      "margin": null,
      "max_height": null,
      "max_width": null,
      "min_height": null,
      "min_width": null,
      "object_fit": null,
      "object_position": null,
      "order": null,
      "overflow": null,
      "overflow_x": null,
      "overflow_y": null,
      "padding": null,
      "right": null,
      "top": null,
      "visibility": null,
      "width": null
     }
    },
    "0978823e8e6742ee83feccffcd782c69": {
     "model_module": "@jupyter-widgets/controls",
     "model_name": "ProgressStyleModel",
     "state": {
      "_model_module": "@jupyter-widgets/controls",
      "_model_module_version": "1.5.0",
      "_model_name": "ProgressStyleModel",
      "_view_count": null,
      "_view_module": "@jupyter-widgets/base",
      "_view_module_version": "1.2.0",
      "_view_name": "StyleView",
      "bar_color": null,
      "description_width": "initial"
     }
    },
    "0a45f44b5cf443eb8517ed810f42867c": {
     "model_module": "@jupyter-widgets/controls",
     "model_name": "DescriptionStyleModel",
     "state": {
      "_model_module": "@jupyter-widgets/controls",
      "_model_module_version": "1.5.0",
      "_model_name": "DescriptionStyleModel",
      "_view_count": null,
      "_view_module": "@jupyter-widgets/base",
      "_view_module_version": "1.2.0",
      "_view_name": "StyleView",
      "description_width": ""
     }
    },
    "0b43584a973f4a6583467f6f757d702c": {
     "model_module": "@jupyter-widgets/base",
     "model_name": "LayoutModel",
     "state": {
      "_model_module": "@jupyter-widgets/base",
      "_model_module_version": "1.2.0",
      "_model_name": "LayoutModel",
      "_view_count": null,
      "_view_module": "@jupyter-widgets/base",
      "_view_module_version": "1.2.0",
      "_view_name": "LayoutView",
      "align_content": null,
      "align_items": null,
      "align_self": null,
      "border": null,
      "bottom": null,
      "display": null,
      "flex": null,
      "flex_flow": null,
      "grid_area": null,
      "grid_auto_columns": null,
      "grid_auto_flow": null,
      "grid_auto_rows": null,
      "grid_column": null,
      "grid_gap": null,
      "grid_row": null,
      "grid_template_areas": null,
      "grid_template_columns": null,
      "grid_template_rows": null,
      "height": null,
      "justify_content": null,
      "justify_items": null,
      "left": null,
      "margin": null,
      "max_height": null,
      "max_width": null,
      "min_height": null,
      "min_width": null,
      "object_fit": null,
      "object_position": null,
      "order": null,
      "overflow": null,
      "overflow_x": null,
      "overflow_y": null,
      "padding": null,
      "right": null,
      "top": null,
      "visibility": null,
      "width": null
     }
    },
    "0b8df59c1b4d443893fefbe47877478e": {
     "model_module": "@jupyter-widgets/controls",
     "model_name": "DescriptionStyleModel",
     "state": {
      "_model_module": "@jupyter-widgets/controls",
      "_model_module_version": "1.5.0",
      "_model_name": "DescriptionStyleModel",
      "_view_count": null,
      "_view_module": "@jupyter-widgets/base",
      "_view_module_version": "1.2.0",
      "_view_name": "StyleView",
      "description_width": ""
     }
    },
    "0b9a1a474df94f66be2bf844eb6be64f": {
     "model_module": "@jupyter-widgets/base",
     "model_name": "LayoutModel",
     "state": {
      "_model_module": "@jupyter-widgets/base",
      "_model_module_version": "1.2.0",
      "_model_name": "LayoutModel",
      "_view_count": null,
      "_view_module": "@jupyter-widgets/base",
      "_view_module_version": "1.2.0",
      "_view_name": "LayoutView",
      "align_content": null,
      "align_items": null,
      "align_self": null,
      "border": null,
      "bottom": null,
      "display": null,
      "flex": null,
      "flex_flow": null,
      "grid_area": null,
      "grid_auto_columns": null,
      "grid_auto_flow": null,
      "grid_auto_rows": null,
      "grid_column": null,
      "grid_gap": null,
      "grid_row": null,
      "grid_template_areas": null,
      "grid_template_columns": null,
      "grid_template_rows": null,
      "height": null,
      "justify_content": null,
      "justify_items": null,
      "left": null,
      "margin": null,
      "max_height": null,
      "max_width": null,
      "min_height": null,
      "min_width": null,
      "object_fit": null,
      "object_position": null,
      "order": null,
      "overflow": null,
      "overflow_x": null,
      "overflow_y": null,
      "padding": null,
      "right": null,
      "top": null,
      "visibility": null,
      "width": null
     }
    },
    "0ca7a60e94a14ec8936c8a0480ab8b13": {
     "model_module": "@jupyter-widgets/base",
     "model_name": "LayoutModel",
     "state": {
      "_model_module": "@jupyter-widgets/base",
      "_model_module_version": "1.2.0",
      "_model_name": "LayoutModel",
      "_view_count": null,
      "_view_module": "@jupyter-widgets/base",
      "_view_module_version": "1.2.0",
      "_view_name": "LayoutView",
      "align_content": null,
      "align_items": null,
      "align_self": null,
      "border": null,
      "bottom": null,
      "display": null,
      "flex": null,
      "flex_flow": null,
      "grid_area": null,
      "grid_auto_columns": null,
      "grid_auto_flow": null,
      "grid_auto_rows": null,
      "grid_column": null,
      "grid_gap": null,
      "grid_row": null,
      "grid_template_areas": null,
      "grid_template_columns": null,
      "grid_template_rows": null,
      "height": null,
      "justify_content": null,
      "justify_items": null,
      "left": null,
      "margin": null,
      "max_height": null,
      "max_width": null,
      "min_height": null,
      "min_width": null,
      "object_fit": null,
      "object_position": null,
      "order": null,
      "overflow": null,
      "overflow_x": null,
      "overflow_y": null,
      "padding": null,
      "right": null,
      "top": null,
      "visibility": null,
      "width": null
     }
    },
    "0ccc3716c6d74cabbef1e5c3dd2fef1a": {
     "model_module": "@jupyter-widgets/controls",
     "model_name": "HBoxModel",
     "state": {
      "_dom_classes": [],
      "_model_module": "@jupyter-widgets/controls",
      "_model_module_version": "1.5.0",
      "_model_name": "HBoxModel",
      "_view_count": null,
      "_view_module": "@jupyter-widgets/controls",
      "_view_module_version": "1.5.0",
      "_view_name": "HBoxView",
      "box_style": "",
      "children": [
       "IPY_MODEL_280166f457344d7897c94c12e7a11e06",
       "IPY_MODEL_7a789daa218f4b9fb4a0cf4fe9abb64c"
      ],
      "layout": "IPY_MODEL_ad9042e7696e47cab71048254cc0d4cf"
     }
    },
    "0e936e091464497a9b0957124497c4a2": {
     "model_module": "@jupyter-widgets/controls",
     "model_name": "DescriptionStyleModel",
     "state": {
      "_model_module": "@jupyter-widgets/controls",
      "_model_module_version": "1.5.0",
      "_model_name": "DescriptionStyleModel",
      "_view_count": null,
      "_view_module": "@jupyter-widgets/base",
      "_view_module_version": "1.2.0",
      "_view_name": "StyleView",
      "description_width": ""
     }
    },
    "0f10f902140a45388c75d3b5bacfe232": {
     "model_module": "@jupyter-widgets/controls",
     "model_name": "FloatProgressModel",
     "state": {
      "_dom_classes": [],
      "_model_module": "@jupyter-widgets/controls",
      "_model_module_version": "1.5.0",
      "_model_name": "FloatProgressModel",
      "_view_count": null,
      "_view_module": "@jupyter-widgets/controls",
      "_view_module_version": "1.5.0",
      "_view_name": "ProgressView",
      "bar_style": "success",
      "description": "100%",
      "description_tooltip": null,
      "layout": "IPY_MODEL_dbb54cc7a5f349b2a82dcf5b408def03",
      "max": 60,
      "min": 0,
      "orientation": "horizontal",
      "style": "IPY_MODEL_a69c02cf64c64e42af1cf54a30418fa8",
      "value": 60
     }
    },
    "0f363c3e2aec44b082b5f239a07935b1": {
     "model_module": "@jupyter-widgets/controls",
     "model_name": "HBoxModel",
     "state": {
      "_dom_classes": [],
      "_model_module": "@jupyter-widgets/controls",
      "_model_module_version": "1.5.0",
      "_model_name": "HBoxModel",
      "_view_count": null,
      "_view_module": "@jupyter-widgets/controls",
      "_view_module_version": "1.5.0",
      "_view_name": "HBoxView",
      "box_style": "",
      "children": [
       "IPY_MODEL_e6f75aae3e36463b953eb0d418b07786",
       "IPY_MODEL_babf422bf96e452eaaaf7042eb14bb86"
      ],
      "layout": "IPY_MODEL_cb332a577cad49a2885d3acf4ec23d45"
     }
    },
    "0f73dba64cb14df2ae9f506718c7981b": {
     "model_module": "@jupyter-widgets/controls",
     "model_name": "ProgressStyleModel",
     "state": {
      "_model_module": "@jupyter-widgets/controls",
      "_model_module_version": "1.5.0",
      "_model_name": "ProgressStyleModel",
      "_view_count": null,
      "_view_module": "@jupyter-widgets/base",
      "_view_module_version": "1.2.0",
      "_view_name": "StyleView",
      "bar_color": null,
      "description_width": "initial"
     }
    },
    "10eb7f78c0db4fda8858c34becf93cae": {
     "model_module": "@jupyter-widgets/controls",
     "model_name": "HTMLModel",
     "state": {
      "_dom_classes": [],
      "_model_module": "@jupyter-widgets/controls",
      "_model_module_version": "1.5.0",
      "_model_name": "HTMLModel",
      "_view_count": null,
      "_view_module": "@jupyter-widgets/controls",
      "_view_module_version": "1.5.0",
      "_view_name": "HTMLView",
      "description": "",
      "description_tooltip": null,
      "layout": "IPY_MODEL_bd953837c09143bebb29c435961035e2",
      "placeholder": "​",
      "style": "IPY_MODEL_90908064154143ee94ce593d77c6b8a9",
      "value": " 60/60 [09:11&lt;00:00,  9.19s/it]"
     }
    },
    "1117c2b0d6954a8d98d57294daaabca1": {
     "model_module": "@jupyter-widgets/controls",
     "model_name": "HTMLModel",
     "state": {
      "_dom_classes": [],
      "_model_module": "@jupyter-widgets/controls",
      "_model_module_version": "1.5.0",
      "_model_name": "HTMLModel",
      "_view_count": null,
      "_view_module": "@jupyter-widgets/controls",
      "_view_module_version": "1.5.0",
      "_view_name": "HTMLView",
      "description": "",
      "description_tooltip": null,
      "layout": "IPY_MODEL_94f51c7880084beab5ef9b5ae12d2f42",
      "placeholder": "​",
      "style": "IPY_MODEL_1b851634962346539c078f9080e8048e",
      "value": " 60/60 [00:43&lt;00:00,  1.39it/s]"
     }
    },
    "1212705dd4944fb6a17a98021070d677": {
     "model_module": "@jupyter-widgets/controls",
     "model_name": "HTMLModel",
     "state": {
      "_dom_classes": [],
      "_model_module": "@jupyter-widgets/controls",
      "_model_module_version": "1.5.0",
      "_model_name": "HTMLModel",
      "_view_count": null,
      "_view_module": "@jupyter-widgets/controls",
      "_view_module_version": "1.5.0",
      "_view_name": "HTMLView",
      "description": "",
      "description_tooltip": null,
      "layout": "IPY_MODEL_4ca70e7312754f71b22640d6e50cdddf",
      "placeholder": "​",
      "style": "IPY_MODEL_330c793a18704e519fe20528bb4d018f",
      "value": " 60/60 [00:50&lt;00:00,  1.18it/s]"
     }
    },
    "149274415bce4409849833117855b87f": {
     "model_module": "@jupyter-widgets/base",
     "model_name": "LayoutModel",
     "state": {
      "_model_module": "@jupyter-widgets/base",
      "_model_module_version": "1.2.0",
      "_model_name": "LayoutModel",
      "_view_count": null,
      "_view_module": "@jupyter-widgets/base",
      "_view_module_version": "1.2.0",
      "_view_name": "LayoutView",
      "align_content": null,
      "align_items": null,
      "align_self": null,
      "border": null,
      "bottom": null,
      "display": null,
      "flex": null,
      "flex_flow": null,
      "grid_area": null,
      "grid_auto_columns": null,
      "grid_auto_flow": null,
      "grid_auto_rows": null,
      "grid_column": null,
      "grid_gap": null,
      "grid_row": null,
      "grid_template_areas": null,
      "grid_template_columns": null,
      "grid_template_rows": null,
      "height": null,
      "justify_content": null,
      "justify_items": null,
      "left": null,
      "margin": null,
      "max_height": null,
      "max_width": null,
      "min_height": null,
      "min_width": null,
      "object_fit": null,
      "object_position": null,
      "order": null,
      "overflow": null,
      "overflow_x": null,
      "overflow_y": null,
      "padding": null,
      "right": null,
      "top": null,
      "visibility": null,
      "width": null
     }
    },
    "15454da7d9e4473ca12274303e1e817b": {
     "model_module": "@jupyter-widgets/controls",
     "model_name": "HTMLModel",
     "state": {
      "_dom_classes": [],
      "_model_module": "@jupyter-widgets/controls",
      "_model_module_version": "1.5.0",
      "_model_name": "HTMLModel",
      "_view_count": null,
      "_view_module": "@jupyter-widgets/controls",
      "_view_module_version": "1.5.0",
      "_view_name": "HTMLView",
      "description": "",
      "description_tooltip": null,
      "layout": "IPY_MODEL_e8a817d062a14065832df59aff19912c",
      "placeholder": "​",
      "style": "IPY_MODEL_1a5664a6d7e2484aaaaf19bec0e8f59a",
      "value": " 19003/19003 [00:09&lt;00:00, 2074.08it/s]"
     }
    },
    "164bdd254c3e40bbb6249e3d585bff02": {
     "model_module": "@jupyter-widgets/base",
     "model_name": "LayoutModel",
     "state": {
      "_model_module": "@jupyter-widgets/base",
      "_model_module_version": "1.2.0",
      "_model_name": "LayoutModel",
      "_view_count": null,
      "_view_module": "@jupyter-widgets/base",
      "_view_module_version": "1.2.0",
      "_view_name": "LayoutView",
      "align_content": null,
      "align_items": null,
      "align_self": null,
      "border": null,
      "bottom": null,
      "display": null,
      "flex": null,
      "flex_flow": null,
      "grid_area": null,
      "grid_auto_columns": null,
      "grid_auto_flow": null,
      "grid_auto_rows": null,
      "grid_column": null,
      "grid_gap": null,
      "grid_row": null,
      "grid_template_areas": null,
      "grid_template_columns": null,
      "grid_template_rows": null,
      "height": null,
      "justify_content": null,
      "justify_items": null,
      "left": null,
      "margin": null,
      "max_height": null,
      "max_width": null,
      "min_height": null,
      "min_width": null,
      "object_fit": null,
      "object_position": null,
      "order": null,
      "overflow": null,
      "overflow_x": null,
      "overflow_y": null,
      "padding": null,
      "right": null,
      "top": null,
      "visibility": null,
      "width": null
     }
    },
    "1a5664a6d7e2484aaaaf19bec0e8f59a": {
     "model_module": "@jupyter-widgets/controls",
     "model_name": "DescriptionStyleModel",
     "state": {
      "_model_module": "@jupyter-widgets/controls",
      "_model_module_version": "1.5.0",
      "_model_name": "DescriptionStyleModel",
      "_view_count": null,
      "_view_module": "@jupyter-widgets/base",
      "_view_module_version": "1.2.0",
      "_view_name": "StyleView",
      "description_width": ""
     }
    },
    "1aa9fc9a171c471684842902899b097d": {
     "model_module": "@jupyter-widgets/base",
     "model_name": "LayoutModel",
     "state": {
      "_model_module": "@jupyter-widgets/base",
      "_model_module_version": "1.2.0",
      "_model_name": "LayoutModel",
      "_view_count": null,
      "_view_module": "@jupyter-widgets/base",
      "_view_module_version": "1.2.0",
      "_view_name": "LayoutView",
      "align_content": null,
      "align_items": null,
      "align_self": null,
      "border": null,
      "bottom": null,
      "display": null,
      "flex": null,
      "flex_flow": null,
      "grid_area": null,
      "grid_auto_columns": null,
      "grid_auto_flow": null,
      "grid_auto_rows": null,
      "grid_column": null,
      "grid_gap": null,
      "grid_row": null,
      "grid_template_areas": null,
      "grid_template_columns": null,
      "grid_template_rows": null,
      "height": null,
      "justify_content": null,
      "justify_items": null,
      "left": null,
      "margin": null,
      "max_height": null,
      "max_width": null,
      "min_height": null,
      "min_width": null,
      "object_fit": null,
      "object_position": null,
      "order": null,
      "overflow": null,
      "overflow_x": null,
      "overflow_y": null,
      "padding": null,
      "right": null,
      "top": null,
      "visibility": null,
      "width": null
     }
    },
    "1b851634962346539c078f9080e8048e": {
     "model_module": "@jupyter-widgets/controls",
     "model_name": "DescriptionStyleModel",
     "state": {
      "_model_module": "@jupyter-widgets/controls",
      "_model_module_version": "1.5.0",
      "_model_name": "DescriptionStyleModel",
      "_view_count": null,
      "_view_module": "@jupyter-widgets/base",
      "_view_module_version": "1.2.0",
      "_view_name": "StyleView",
      "description_width": ""
     }
    },
    "1d239ccb705441fbb6fe1e41473c3f45": {
     "model_module": "@jupyter-widgets/base",
     "model_name": "LayoutModel",
     "state": {
      "_model_module": "@jupyter-widgets/base",
      "_model_module_version": "1.2.0",
      "_model_name": "LayoutModel",
      "_view_count": null,
      "_view_module": "@jupyter-widgets/base",
      "_view_module_version": "1.2.0",
      "_view_name": "LayoutView",
      "align_content": null,
      "align_items": null,
      "align_self": null,
      "border": null,
      "bottom": null,
      "display": null,
      "flex": null,
      "flex_flow": null,
      "grid_area": null,
      "grid_auto_columns": null,
      "grid_auto_flow": null,
      "grid_auto_rows": null,
      "grid_column": null,
      "grid_gap": null,
      "grid_row": null,
      "grid_template_areas": null,
      "grid_template_columns": null,
      "grid_template_rows": null,
      "height": null,
      "justify_content": null,
      "justify_items": null,
      "left": null,
      "margin": null,
      "max_height": null,
      "max_width": null,
      "min_height": null,
      "min_width": null,
      "object_fit": null,
      "object_position": null,
      "order": null,
      "overflow": null,
      "overflow_x": null,
      "overflow_y": null,
      "padding": null,
      "right": null,
      "top": null,
      "visibility": null,
      "width": null
     }
    },
    "1e9b04882f9c460dac76549d3db83dc9": {
     "model_module": "@jupyter-widgets/base",
     "model_name": "LayoutModel",
     "state": {
      "_model_module": "@jupyter-widgets/base",
      "_model_module_version": "1.2.0",
      "_model_name": "LayoutModel",
      "_view_count": null,
      "_view_module": "@jupyter-widgets/base",
      "_view_module_version": "1.2.0",
      "_view_name": "LayoutView",
      "align_content": null,
      "align_items": null,
      "align_self": null,
      "border": null,
      "bottom": null,
      "display": null,
      "flex": null,
      "flex_flow": null,
      "grid_area": null,
      "grid_auto_columns": null,
      "grid_auto_flow": null,
      "grid_auto_rows": null,
      "grid_column": null,
      "grid_gap": null,
      "grid_row": null,
      "grid_template_areas": null,
      "grid_template_columns": null,
      "grid_template_rows": null,
      "height": null,
      "justify_content": null,
      "justify_items": null,
      "left": null,
      "margin": null,
      "max_height": null,
      "max_width": null,
      "min_height": null,
      "min_width": null,
      "object_fit": null,
      "object_position": null,
      "order": null,
      "overflow": null,
      "overflow_x": null,
      "overflow_y": null,
      "padding": null,
      "right": null,
      "top": null,
      "visibility": null,
      "width": null
     }
    },
    "1ea1b65efabf49dd8766c48dd6854830": {
     "model_module": "@jupyter-widgets/base",
     "model_name": "LayoutModel",
     "state": {
      "_model_module": "@jupyter-widgets/base",
      "_model_module_version": "1.2.0",
      "_model_name": "LayoutModel",
      "_view_count": null,
      "_view_module": "@jupyter-widgets/base",
      "_view_module_version": "1.2.0",
      "_view_name": "LayoutView",
      "align_content": null,
      "align_items": null,
      "align_self": null,
      "border": null,
      "bottom": null,
      "display": null,
      "flex": null,
      "flex_flow": null,
      "grid_area": null,
      "grid_auto_columns": null,
      "grid_auto_flow": null,
      "grid_auto_rows": null,
      "grid_column": null,
      "grid_gap": null,
      "grid_row": null,
      "grid_template_areas": null,
      "grid_template_columns": null,
      "grid_template_rows": null,
      "height": null,
      "justify_content": null,
      "justify_items": null,
      "left": null,
      "margin": null,
      "max_height": null,
      "max_width": null,
      "min_height": null,
      "min_width": null,
      "object_fit": null,
      "object_position": null,
      "order": null,
      "overflow": null,
      "overflow_x": null,
      "overflow_y": null,
      "padding": null,
      "right": null,
      "top": null,
      "visibility": null,
      "width": null
     }
    },
    "202557a41d004e56afa0d111548ccef4": {
     "model_module": "@jupyter-widgets/controls",
     "model_name": "FloatProgressModel",
     "state": {
      "_dom_classes": [],
      "_model_module": "@jupyter-widgets/controls",
      "_model_module_version": "1.5.0",
      "_model_name": "FloatProgressModel",
      "_view_count": null,
      "_view_module": "@jupyter-widgets/controls",
      "_view_module_version": "1.5.0",
      "_view_name": "ProgressView",
      "bar_style": "success",
      "description": "100%",
      "description_tooltip": null,
      "layout": "IPY_MODEL_5321248877154e7aaa9abfead53d8b6c",
      "max": 60,
      "min": 0,
      "orientation": "horizontal",
      "style": "IPY_MODEL_2a9ca0e286394ddbbf4c87df0d0cc7a8",
      "value": 60
     }
    },
    "213d01bac60140a5b77c15bd46d678e7": {
     "model_module": "@jupyter-widgets/base",
     "model_name": "LayoutModel",
     "state": {
      "_model_module": "@jupyter-widgets/base",
      "_model_module_version": "1.2.0",
      "_model_name": "LayoutModel",
      "_view_count": null,
      "_view_module": "@jupyter-widgets/base",
      "_view_module_version": "1.2.0",
      "_view_name": "LayoutView",
      "align_content": null,
      "align_items": null,
      "align_self": null,
      "border": null,
      "bottom": null,
      "display": null,
      "flex": null,
      "flex_flow": null,
      "grid_area": null,
      "grid_auto_columns": null,
      "grid_auto_flow": null,
      "grid_auto_rows": null,
      "grid_column": null,
      "grid_gap": null,
      "grid_row": null,
      "grid_template_areas": null,
      "grid_template_columns": null,
      "grid_template_rows": null,
      "height": null,
      "justify_content": null,
      "justify_items": null,
      "left": null,
      "margin": null,
      "max_height": null,
      "max_width": null,
      "min_height": null,
      "min_width": null,
      "object_fit": null,
      "object_position": null,
      "order": null,
      "overflow": null,
      "overflow_x": null,
      "overflow_y": null,
      "padding": null,
      "right": null,
      "top": null,
      "visibility": null,
      "width": null
     }
    },
    "229d6f5f9b514e87aea96e17ca08b07f": {
     "model_module": "@jupyter-widgets/controls",
     "model_name": "HBoxModel",
     "state": {
      "_dom_classes": [],
      "_model_module": "@jupyter-widgets/controls",
      "_model_module_version": "1.5.0",
      "_model_name": "HBoxModel",
      "_view_count": null,
      "_view_module": "@jupyter-widgets/controls",
      "_view_module_version": "1.5.0",
      "_view_name": "HBoxView",
      "box_style": "",
      "children": [
       "IPY_MODEL_dc174d4a8c344f389b65f3aeefa915f6",
       "IPY_MODEL_7d237189aaa24680988a0e980d8ab395"
      ],
      "layout": "IPY_MODEL_944b9032be88415881adcb3aa4bb4768"
     }
    },
    "233a4be2adc74e06926e2f2b8f771f7f": {
     "model_module": "@jupyter-widgets/base",
     "model_name": "LayoutModel",
     "state": {
      "_model_module": "@jupyter-widgets/base",
      "_model_module_version": "1.2.0",
      "_model_name": "LayoutModel",
      "_view_count": null,
      "_view_module": "@jupyter-widgets/base",
      "_view_module_version": "1.2.0",
      "_view_name": "LayoutView",
      "align_content": null,
      "align_items": null,
      "align_self": null,
      "border": null,
      "bottom": null,
      "display": null,
      "flex": null,
      "flex_flow": null,
      "grid_area": null,
      "grid_auto_columns": null,
      "grid_auto_flow": null,
      "grid_auto_rows": null,
      "grid_column": null,
      "grid_gap": null,
      "grid_row": null,
      "grid_template_areas": null,
      "grid_template_columns": null,
      "grid_template_rows": null,
      "height": null,
      "justify_content": null,
      "justify_items": null,
      "left": null,
      "margin": null,
      "max_height": null,
      "max_width": null,
      "min_height": null,
      "min_width": null,
      "object_fit": null,
      "object_position": null,
      "order": null,
      "overflow": null,
      "overflow_x": null,
      "overflow_y": null,
      "padding": null,
      "right": null,
      "top": null,
      "visibility": null,
      "width": null
     }
    },
    "2406960bdeb04ca4af1ad9b993bc427e": {
     "model_module": "@jupyter-widgets/controls",
     "model_name": "ProgressStyleModel",
     "state": {
      "_model_module": "@jupyter-widgets/controls",
      "_model_module_version": "1.5.0",
      "_model_name": "ProgressStyleModel",
      "_view_count": null,
      "_view_module": "@jupyter-widgets/base",
      "_view_module_version": "1.2.0",
      "_view_name": "StyleView",
      "bar_color": null,
      "description_width": "initial"
     }
    },
    "244c332ee96944c3af4a31e6805d750c": {
     "model_module": "@jupyter-widgets/controls",
     "model_name": "FloatProgressModel",
     "state": {
      "_dom_classes": [],
      "_model_module": "@jupyter-widgets/controls",
      "_model_module_version": "1.5.0",
      "_model_name": "FloatProgressModel",
      "_view_count": null,
      "_view_module": "@jupyter-widgets/controls",
      "_view_module_version": "1.5.0",
      "_view_name": "ProgressView",
      "bar_style": "success",
      "description": "100%",
      "description_tooltip": null,
      "layout": "IPY_MODEL_49c354fe11964d8fb02ec83afee137b8",
      "max": 119,
      "min": 0,
      "orientation": "horizontal",
      "style": "IPY_MODEL_8f5fb70480b746f09661c2a8037986fc",
      "value": 119
     }
    },
    "24a26bb345734c6f840636e51b872ee0": {
     "model_module": "@jupyter-widgets/controls",
     "model_name": "ProgressStyleModel",
     "state": {
      "_model_module": "@jupyter-widgets/controls",
      "_model_module_version": "1.5.0",
      "_model_name": "ProgressStyleModel",
      "_view_count": null,
      "_view_module": "@jupyter-widgets/base",
      "_view_module_version": "1.2.0",
      "_view_name": "StyleView",
      "bar_color": null,
      "description_width": "initial"
     }
    },
    "2517e49e801e4c24b1827a56c491ce4b": {
     "model_module": "@jupyter-widgets/controls",
     "model_name": "FloatProgressModel",
     "state": {
      "_dom_classes": [],
      "_model_module": "@jupyter-widgets/controls",
      "_model_module_version": "1.5.0",
      "_model_name": "FloatProgressModel",
      "_view_count": null,
      "_view_module": "@jupyter-widgets/controls",
      "_view_module_version": "1.5.0",
      "_view_name": "ProgressView",
      "bar_style": "success",
      "description": "100%",
      "description_tooltip": null,
      "layout": "IPY_MODEL_63d237b379584c6583190ec7f3b22d2f",
      "max": 60,
      "min": 0,
      "orientation": "horizontal",
      "style": "IPY_MODEL_e29334b5e39b4714966ce0874dc65358",
      "value": 60
     }
    },
    "25277686dab44337b0955b82865423c3": {
     "model_module": "@jupyter-widgets/controls",
     "model_name": "HTMLModel",
     "state": {
      "_dom_classes": [],
      "_model_module": "@jupyter-widgets/controls",
      "_model_module_version": "1.5.0",
      "_model_name": "HTMLModel",
      "_view_count": null,
      "_view_module": "@jupyter-widgets/controls",
      "_view_module_version": "1.5.0",
      "_view_name": "HTMLView",
      "description": "",
      "description_tooltip": null,
      "layout": "IPY_MODEL_335a71eab1a54157bf8fd172ac84d264",
      "placeholder": "​",
      "style": "IPY_MODEL_e104ff59b3b1481e85f7fb3370a31092",
      "value": " 119/119 [00:15&lt;00:00,  7.45it/s]"
     }
    },
    "25d0940ac5924a81bf532334b57fa689": {
     "model_module": "@jupyter-widgets/base",
     "model_name": "LayoutModel",
     "state": {
      "_model_module": "@jupyter-widgets/base",
      "_model_module_version": "1.2.0",
      "_model_name": "LayoutModel",
      "_view_count": null,
      "_view_module": "@jupyter-widgets/base",
      "_view_module_version": "1.2.0",
      "_view_name": "LayoutView",
      "align_content": null,
      "align_items": null,
      "align_self": null,
      "border": null,
      "bottom": null,
      "display": null,
      "flex": null,
      "flex_flow": null,
      "grid_area": null,
      "grid_auto_columns": null,
      "grid_auto_flow": null,
      "grid_auto_rows": null,
      "grid_column": null,
      "grid_gap": null,
      "grid_row": null,
      "grid_template_areas": null,
      "grid_template_columns": null,
      "grid_template_rows": null,
      "height": null,
      "justify_content": null,
      "justify_items": null,
      "left": null,
      "margin": null,
      "max_height": null,
      "max_width": null,
      "min_height": null,
      "min_width": null,
      "object_fit": null,
      "object_position": null,
      "order": null,
      "overflow": null,
      "overflow_x": null,
      "overflow_y": null,
      "padding": null,
      "right": null,
      "top": null,
      "visibility": null,
      "width": null
     }
    },
    "26c77992ab6e43e6827adc3251112c2e": {
     "model_module": "@jupyter-widgets/controls",
     "model_name": "HBoxModel",
     "state": {
      "_dom_classes": [],
      "_model_module": "@jupyter-widgets/controls",
      "_model_module_version": "1.5.0",
      "_model_name": "HBoxModel",
      "_view_count": null,
      "_view_module": "@jupyter-widgets/controls",
      "_view_module_version": "1.5.0",
      "_view_name": "HBoxView",
      "box_style": "",
      "children": [
       "IPY_MODEL_244c332ee96944c3af4a31e6805d750c",
       "IPY_MODEL_6013282b693d47618725cc2e8454c0ac"
      ],
      "layout": "IPY_MODEL_547eda81e28841a5bc42d37cbb455084"
     }
    },
    "27117b32700b456795e7008ae1293d20": {
     "model_module": "@jupyter-widgets/base",
     "model_name": "LayoutModel",
     "state": {
      "_model_module": "@jupyter-widgets/base",
      "_model_module_version": "1.2.0",
      "_model_name": "LayoutModel",
      "_view_count": null,
      "_view_module": "@jupyter-widgets/base",
      "_view_module_version": "1.2.0",
      "_view_name": "LayoutView",
      "align_content": null,
      "align_items": null,
      "align_self": null,
      "border": null,
      "bottom": null,
      "display": null,
      "flex": null,
      "flex_flow": null,
      "grid_area": null,
      "grid_auto_columns": null,
      "grid_auto_flow": null,
      "grid_auto_rows": null,
      "grid_column": null,
      "grid_gap": null,
      "grid_row": null,
      "grid_template_areas": null,
      "grid_template_columns": null,
      "grid_template_rows": null,
      "height": null,
      "justify_content": null,
      "justify_items": null,
      "left": null,
      "margin": null,
      "max_height": null,
      "max_width": null,
      "min_height": null,
      "min_width": null,
      "object_fit": null,
      "object_position": null,
      "order": null,
      "overflow": null,
      "overflow_x": null,
      "overflow_y": null,
      "padding": null,
      "right": null,
      "top": null,
      "visibility": null,
      "width": null
     }
    },
    "280166f457344d7897c94c12e7a11e06": {
     "model_module": "@jupyter-widgets/controls",
     "model_name": "FloatProgressModel",
     "state": {
      "_dom_classes": [],
      "_model_module": "@jupyter-widgets/controls",
      "_model_module_version": "1.5.0",
      "_model_name": "FloatProgressModel",
      "_view_count": null,
      "_view_module": "@jupyter-widgets/controls",
      "_view_module_version": "1.5.0",
      "_view_name": "ProgressView",
      "bar_style": "success",
      "description": "100%",
      "description_tooltip": null,
      "layout": "IPY_MODEL_d8960034f6c34744be1f2471484b93a3",
      "max": 60,
      "min": 0,
      "orientation": "horizontal",
      "style": "IPY_MODEL_91179d60beb04bc79d4706dfb06dc7f1",
      "value": 60
     }
    },
    "2a9ca0e286394ddbbf4c87df0d0cc7a8": {
     "model_module": "@jupyter-widgets/controls",
     "model_name": "ProgressStyleModel",
     "state": {
      "_model_module": "@jupyter-widgets/controls",
      "_model_module_version": "1.5.0",
      "_model_name": "ProgressStyleModel",
      "_view_count": null,
      "_view_module": "@jupyter-widgets/base",
      "_view_module_version": "1.2.0",
      "_view_name": "StyleView",
      "bar_color": null,
      "description_width": "initial"
     }
    },
    "2b0eaa71aaae4d77acd744a0f2fe359d": {
     "model_module": "@jupyter-widgets/base",
     "model_name": "LayoutModel",
     "state": {
      "_model_module": "@jupyter-widgets/base",
      "_model_module_version": "1.2.0",
      "_model_name": "LayoutModel",
      "_view_count": null,
      "_view_module": "@jupyter-widgets/base",
      "_view_module_version": "1.2.0",
      "_view_name": "LayoutView",
      "align_content": null,
      "align_items": null,
      "align_self": null,
      "border": null,
      "bottom": null,
      "display": null,
      "flex": null,
      "flex_flow": null,
      "grid_area": null,
      "grid_auto_columns": null,
      "grid_auto_flow": null,
      "grid_auto_rows": null,
      "grid_column": null,
      "grid_gap": null,
      "grid_row": null,
      "grid_template_areas": null,
      "grid_template_columns": null,
      "grid_template_rows": null,
      "height": null,
      "justify_content": null,
      "justify_items": null,
      "left": null,
      "margin": null,
      "max_height": null,
      "max_width": null,
      "min_height": null,
      "min_width": null,
      "object_fit": null,
      "object_position": null,
      "order": null,
      "overflow": null,
      "overflow_x": null,
      "overflow_y": null,
      "padding": null,
      "right": null,
      "top": null,
      "visibility": null,
      "width": null
     }
    },
    "2b61dcb46e4d485cbdc623bc9ad575d6": {
     "model_module": "@jupyter-widgets/controls",
     "model_name": "HBoxModel",
     "state": {
      "_dom_classes": [],
      "_model_module": "@jupyter-widgets/controls",
      "_model_module_version": "1.5.0",
      "_model_name": "HBoxModel",
      "_view_count": null,
      "_view_module": "@jupyter-widgets/controls",
      "_view_module_version": "1.5.0",
      "_view_name": "HBoxView",
      "box_style": "",
      "children": [
       "IPY_MODEL_a222ff49e9d845c08be3faed25ddceca",
       "IPY_MODEL_f8cadf371bc34f41aeb9b264f379a09b"
      ],
      "layout": "IPY_MODEL_55f5c6d6348444bcb890a8461427f81a"
     }
    },
    "2c49aaa847ea4e5d9ca6a9c3b9591dbf": {
     "model_module": "@jupyter-widgets/controls",
     "model_name": "FloatProgressModel",
     "state": {
      "_dom_classes": [],
      "_model_module": "@jupyter-widgets/controls",
      "_model_module_version": "1.5.0",
      "_model_name": "FloatProgressModel",
      "_view_count": null,
      "_view_module": "@jupyter-widgets/controls",
      "_view_module_version": "1.5.0",
      "_view_name": "ProgressView",
      "bar_style": "success",
      "description": "100%",
      "description_tooltip": null,
      "layout": "IPY_MODEL_d86a4fd9524145b59db481f9486ee2ef",
      "max": 119,
      "min": 0,
      "orientation": "horizontal",
      "style": "IPY_MODEL_b0294339de3949278ea1d9807fd4a9b3",
      "value": 119
     }
    },
    "2ddc9f3c95204ea2adb94584fbdef482": {
     "model_module": "@jupyter-widgets/base",
     "model_name": "LayoutModel",
     "state": {
      "_model_module": "@jupyter-widgets/base",
      "_model_module_version": "1.2.0",
      "_model_name": "LayoutModel",
      "_view_count": null,
      "_view_module": "@jupyter-widgets/base",
      "_view_module_version": "1.2.0",
      "_view_name": "LayoutView",
      "align_content": null,
      "align_items": null,
      "align_self": null,
      "border": null,
      "bottom": null,
      "display": null,
      "flex": null,
      "flex_flow": null,
      "grid_area": null,
      "grid_auto_columns": null,
      "grid_auto_flow": null,
      "grid_auto_rows": null,
      "grid_column": null,
      "grid_gap": null,
      "grid_row": null,
      "grid_template_areas": null,
      "grid_template_columns": null,
      "grid_template_rows": null,
      "height": null,
      "justify_content": null,
      "justify_items": null,
      "left": null,
      "margin": null,
      "max_height": null,
      "max_width": null,
      "min_height": null,
      "min_width": null,
      "object_fit": null,
      "object_position": null,
      "order": null,
      "overflow": null,
      "overflow_x": null,
      "overflow_y": null,
      "padding": null,
      "right": null,
      "top": null,
      "visibility": null,
      "width": null
     }
    },
    "2ed45d4e29484719b85c70b74e7283cf": {
     "model_module": "@jupyter-widgets/controls",
     "model_name": "HBoxModel",
     "state": {
      "_dom_classes": [],
      "_model_module": "@jupyter-widgets/controls",
      "_model_module_version": "1.5.0",
      "_model_name": "HBoxModel",
      "_view_count": null,
      "_view_module": "@jupyter-widgets/controls",
      "_view_module_version": "1.5.0",
      "_view_name": "HBoxView",
      "box_style": "",
      "children": [
       "IPY_MODEL_e321060a60fc410bb9c870cd31ebea84",
       "IPY_MODEL_15454da7d9e4473ca12274303e1e817b"
      ],
      "layout": "IPY_MODEL_cabb79e61b424432b3a51c72136c5208"
     }
    },
    "303c2b113c424690a6aefe9fdf65e6a0": {
     "model_module": "@jupyter-widgets/controls",
     "model_name": "DescriptionStyleModel",
     "state": {
      "_model_module": "@jupyter-widgets/controls",
      "_model_module_version": "1.5.0",
      "_model_name": "DescriptionStyleModel",
      "_view_count": null,
      "_view_module": "@jupyter-widgets/base",
      "_view_module_version": "1.2.0",
      "_view_name": "StyleView",
      "description_width": ""
     }
    },
    "3058c7848be749278723ba16c09dbb34": {
     "model_module": "@jupyter-widgets/controls",
     "model_name": "ProgressStyleModel",
     "state": {
      "_model_module": "@jupyter-widgets/controls",
      "_model_module_version": "1.5.0",
      "_model_name": "ProgressStyleModel",
      "_view_count": null,
      "_view_module": "@jupyter-widgets/base",
      "_view_module_version": "1.2.0",
      "_view_name": "StyleView",
      "bar_color": null,
      "description_width": "initial"
     }
    },
    "313a760ee3b7446cb43bcab7e0ba7083": {
     "model_module": "@jupyter-widgets/controls",
     "model_name": "HBoxModel",
     "state": {
      "_dom_classes": [],
      "_model_module": "@jupyter-widgets/controls",
      "_model_module_version": "1.5.0",
      "_model_name": "HBoxModel",
      "_view_count": null,
      "_view_module": "@jupyter-widgets/controls",
      "_view_module_version": "1.5.0",
      "_view_name": "HBoxView",
      "box_style": "",
      "children": [
       "IPY_MODEL_66726979e6fe4f7aabef860559873044",
       "IPY_MODEL_88b5fd900f1648cda133d5c6c24fffb4"
      ],
      "layout": "IPY_MODEL_afd09f9b64584f47aaf2d38483437c51"
     }
    },
    "31b74a03519d4e40b6a35d37696087b9": {
     "model_module": "@jupyter-widgets/controls",
     "model_name": "ProgressStyleModel",
     "state": {
      "_model_module": "@jupyter-widgets/controls",
      "_model_module_version": "1.5.0",
      "_model_name": "ProgressStyleModel",
      "_view_count": null,
      "_view_module": "@jupyter-widgets/base",
      "_view_module_version": "1.2.0",
      "_view_name": "StyleView",
      "bar_color": null,
      "description_width": "initial"
     }
    },
    "330c793a18704e519fe20528bb4d018f": {
     "model_module": "@jupyter-widgets/controls",
     "model_name": "DescriptionStyleModel",
     "state": {
      "_model_module": "@jupyter-widgets/controls",
      "_model_module_version": "1.5.0",
      "_model_name": "DescriptionStyleModel",
      "_view_count": null,
      "_view_module": "@jupyter-widgets/base",
      "_view_module_version": "1.2.0",
      "_view_name": "StyleView",
      "description_width": ""
     }
    },
    "335a71eab1a54157bf8fd172ac84d264": {
     "model_module": "@jupyter-widgets/base",
     "model_name": "LayoutModel",
     "state": {
      "_model_module": "@jupyter-widgets/base",
      "_model_module_version": "1.2.0",
      "_model_name": "LayoutModel",
      "_view_count": null,
      "_view_module": "@jupyter-widgets/base",
      "_view_module_version": "1.2.0",
      "_view_name": "LayoutView",
      "align_content": null,
      "align_items": null,
      "align_self": null,
      "border": null,
      "bottom": null,
      "display": null,
      "flex": null,
      "flex_flow": null,
      "grid_area": null,
      "grid_auto_columns": null,
      "grid_auto_flow": null,
      "grid_auto_rows": null,
      "grid_column": null,
      "grid_gap": null,
      "grid_row": null,
      "grid_template_areas": null,
      "grid_template_columns": null,
      "grid_template_rows": null,
      "height": null,
      "justify_content": null,
      "justify_items": null,
      "left": null,
      "margin": null,
      "max_height": null,
      "max_width": null,
      "min_height": null,
      "min_width": null,
      "object_fit": null,
      "object_position": null,
      "order": null,
      "overflow": null,
      "overflow_x": null,
      "overflow_y": null,
      "padding": null,
      "right": null,
      "top": null,
      "visibility": null,
      "width": null
     }
    },
    "33f294bd848c49beb5ba01a78b18bdf4": {
     "model_module": "@jupyter-widgets/controls",
     "model_name": "ProgressStyleModel",
     "state": {
      "_model_module": "@jupyter-widgets/controls",
      "_model_module_version": "1.5.0",
      "_model_name": "ProgressStyleModel",
      "_view_count": null,
      "_view_module": "@jupyter-widgets/base",
      "_view_module_version": "1.2.0",
      "_view_name": "StyleView",
      "bar_color": null,
      "description_width": "initial"
     }
    },
    "345346a8fa05432f8bd7df9dafbfc2d5": {
     "model_module": "@jupyter-widgets/base",
     "model_name": "LayoutModel",
     "state": {
      "_model_module": "@jupyter-widgets/base",
      "_model_module_version": "1.2.0",
      "_model_name": "LayoutModel",
      "_view_count": null,
      "_view_module": "@jupyter-widgets/base",
      "_view_module_version": "1.2.0",
      "_view_name": "LayoutView",
      "align_content": null,
      "align_items": null,
      "align_self": null,
      "border": null,
      "bottom": null,
      "display": null,
      "flex": null,
      "flex_flow": null,
      "grid_area": null,
      "grid_auto_columns": null,
      "grid_auto_flow": null,
      "grid_auto_rows": null,
      "grid_column": null,
      "grid_gap": null,
      "grid_row": null,
      "grid_template_areas": null,
      "grid_template_columns": null,
      "grid_template_rows": null,
      "height": null,
      "justify_content": null,
      "justify_items": null,
      "left": null,
      "margin": null,
      "max_height": null,
      "max_width": null,
      "min_height": null,
      "min_width": null,
      "object_fit": null,
      "object_position": null,
      "order": null,
      "overflow": null,
      "overflow_x": null,
      "overflow_y": null,
      "padding": null,
      "right": null,
      "top": null,
      "visibility": null,
      "width": null
     }
    },
    "34ef35bb426949708efefec75629529f": {
     "model_module": "@jupyter-widgets/base",
     "model_name": "LayoutModel",
     "state": {
      "_model_module": "@jupyter-widgets/base",
      "_model_module_version": "1.2.0",
      "_model_name": "LayoutModel",
      "_view_count": null,
      "_view_module": "@jupyter-widgets/base",
      "_view_module_version": "1.2.0",
      "_view_name": "LayoutView",
      "align_content": null,
      "align_items": null,
      "align_self": null,
      "border": null,
      "bottom": null,
      "display": null,
      "flex": null,
      "flex_flow": null,
      "grid_area": null,
      "grid_auto_columns": null,
      "grid_auto_flow": null,
      "grid_auto_rows": null,
      "grid_column": null,
      "grid_gap": null,
      "grid_row": null,
      "grid_template_areas": null,
      "grid_template_columns": null,
      "grid_template_rows": null,
      "height": null,
      "justify_content": null,
      "justify_items": null,
      "left": null,
      "margin": null,
      "max_height": null,
      "max_width": null,
      "min_height": null,
      "min_width": null,
      "object_fit": null,
      "object_position": null,
      "order": null,
      "overflow": null,
      "overflow_x": null,
      "overflow_y": null,
      "padding": null,
      "right": null,
      "top": null,
      "visibility": null,
      "width": null
     }
    },
    "37460da57dac4f30a2d65aed172d5014": {
     "model_module": "@jupyter-widgets/base",
     "model_name": "LayoutModel",
     "state": {
      "_model_module": "@jupyter-widgets/base",
      "_model_module_version": "1.2.0",
      "_model_name": "LayoutModel",
      "_view_count": null,
      "_view_module": "@jupyter-widgets/base",
      "_view_module_version": "1.2.0",
      "_view_name": "LayoutView",
      "align_content": null,
      "align_items": null,
      "align_self": null,
      "border": null,
      "bottom": null,
      "display": null,
      "flex": null,
      "flex_flow": null,
      "grid_area": null,
      "grid_auto_columns": null,
      "grid_auto_flow": null,
      "grid_auto_rows": null,
      "grid_column": null,
      "grid_gap": null,
      "grid_row": null,
      "grid_template_areas": null,
      "grid_template_columns": null,
      "grid_template_rows": null,
      "height": null,
      "justify_content": null,
      "justify_items": null,
      "left": null,
      "margin": null,
      "max_height": null,
      "max_width": null,
      "min_height": null,
      "min_width": null,
      "object_fit": null,
      "object_position": null,
      "order": null,
      "overflow": null,
      "overflow_x": null,
      "overflow_y": null,
      "padding": null,
      "right": null,
      "top": null,
      "visibility": null,
      "width": null
     }
    },
    "38091d80ed0947f5b66d749f01d267f3": {
     "model_module": "@jupyter-widgets/controls",
     "model_name": "ProgressStyleModel",
     "state": {
      "_model_module": "@jupyter-widgets/controls",
      "_model_module_version": "1.5.0",
      "_model_name": "ProgressStyleModel",
      "_view_count": null,
      "_view_module": "@jupyter-widgets/base",
      "_view_module_version": "1.2.0",
      "_view_name": "StyleView",
      "bar_color": null,
      "description_width": "initial"
     }
    },
    "38cc8baf70b84afead79b844565d5bca": {
     "model_module": "@jupyter-widgets/base",
     "model_name": "LayoutModel",
     "state": {
      "_model_module": "@jupyter-widgets/base",
      "_model_module_version": "1.2.0",
      "_model_name": "LayoutModel",
      "_view_count": null,
      "_view_module": "@jupyter-widgets/base",
      "_view_module_version": "1.2.0",
      "_view_name": "LayoutView",
      "align_content": null,
      "align_items": null,
      "align_self": null,
      "border": null,
      "bottom": null,
      "display": null,
      "flex": null,
      "flex_flow": null,
      "grid_area": null,
      "grid_auto_columns": null,
      "grid_auto_flow": null,
      "grid_auto_rows": null,
      "grid_column": null,
      "grid_gap": null,
      "grid_row": null,
      "grid_template_areas": null,
      "grid_template_columns": null,
      "grid_template_rows": null,
      "height": null,
      "justify_content": null,
      "justify_items": null,
      "left": null,
      "margin": null,
      "max_height": null,
      "max_width": null,
      "min_height": null,
      "min_width": null,
      "object_fit": null,
      "object_position": null,
      "order": null,
      "overflow": null,
      "overflow_x": null,
      "overflow_y": null,
      "padding": null,
      "right": null,
      "top": null,
      "visibility": null,
      "width": null
     }
    },
    "3a04f72e45e84b0ba57a337b8b93dbf7": {
     "model_module": "@jupyter-widgets/controls",
     "model_name": "DescriptionStyleModel",
     "state": {
      "_model_module": "@jupyter-widgets/controls",
      "_model_module_version": "1.5.0",
      "_model_name": "DescriptionStyleModel",
      "_view_count": null,
      "_view_module": "@jupyter-widgets/base",
      "_view_module_version": "1.2.0",
      "_view_name": "StyleView",
      "description_width": ""
     }
    },
    "3abb823039d1471b9c49db7bc7a0647a": {
     "model_module": "@jupyter-widgets/controls",
     "model_name": "ProgressStyleModel",
     "state": {
      "_model_module": "@jupyter-widgets/controls",
      "_model_module_version": "1.5.0",
      "_model_name": "ProgressStyleModel",
      "_view_count": null,
      "_view_module": "@jupyter-widgets/base",
      "_view_module_version": "1.2.0",
      "_view_name": "StyleView",
      "bar_color": null,
      "description_width": "initial"
     }
    },
    "3c323778e5cc4d16b8c816e373eccd20": {
     "model_module": "@jupyter-widgets/base",
     "model_name": "LayoutModel",
     "state": {
      "_model_module": "@jupyter-widgets/base",
      "_model_module_version": "1.2.0",
      "_model_name": "LayoutModel",
      "_view_count": null,
      "_view_module": "@jupyter-widgets/base",
      "_view_module_version": "1.2.0",
      "_view_name": "LayoutView",
      "align_content": null,
      "align_items": null,
      "align_self": null,
      "border": null,
      "bottom": null,
      "display": null,
      "flex": null,
      "flex_flow": null,
      "grid_area": null,
      "grid_auto_columns": null,
      "grid_auto_flow": null,
      "grid_auto_rows": null,
      "grid_column": null,
      "grid_gap": null,
      "grid_row": null,
      "grid_template_areas": null,
      "grid_template_columns": null,
      "grid_template_rows": null,
      "height": null,
      "justify_content": null,
      "justify_items": null,
      "left": null,
      "margin": null,
      "max_height": null,
      "max_width": null,
      "min_height": null,
      "min_width": null,
      "object_fit": null,
      "object_position": null,
      "order": null,
      "overflow": null,
      "overflow_x": null,
      "overflow_y": null,
      "padding": null,
      "right": null,
      "top": null,
      "visibility": null,
      "width": null
     }
    },
    "3c958c3ffa824acfb9b12d7bf9d0f120": {
     "model_module": "@jupyter-widgets/controls",
     "model_name": "DescriptionStyleModel",
     "state": {
      "_model_module": "@jupyter-widgets/controls",
      "_model_module_version": "1.5.0",
      "_model_name": "DescriptionStyleModel",
      "_view_count": null,
      "_view_module": "@jupyter-widgets/base",
      "_view_module_version": "1.2.0",
      "_view_name": "StyleView",
      "description_width": ""
     }
    },
    "3cc48c8b902e471d9f8d3fa4cf86a8b3": {
     "model_module": "@jupyter-widgets/controls",
     "model_name": "DescriptionStyleModel",
     "state": {
      "_model_module": "@jupyter-widgets/controls",
      "_model_module_version": "1.5.0",
      "_model_name": "DescriptionStyleModel",
      "_view_count": null,
      "_view_module": "@jupyter-widgets/base",
      "_view_module_version": "1.2.0",
      "_view_name": "StyleView",
      "description_width": ""
     }
    },
    "3dcf163396c64aca81860b3c0a1d133a": {
     "model_module": "@jupyter-widgets/controls",
     "model_name": "DescriptionStyleModel",
     "state": {
      "_model_module": "@jupyter-widgets/controls",
      "_model_module_version": "1.5.0",
      "_model_name": "DescriptionStyleModel",
      "_view_count": null,
      "_view_module": "@jupyter-widgets/base",
      "_view_module_version": "1.2.0",
      "_view_name": "StyleView",
      "description_width": ""
     }
    },
    "3ef0e1088bbb414c83ab93b56cc7012d": {
     "model_module": "@jupyter-widgets/controls",
     "model_name": "HBoxModel",
     "state": {
      "_dom_classes": [],
      "_model_module": "@jupyter-widgets/controls",
      "_model_module_version": "1.5.0",
      "_model_name": "HBoxModel",
      "_view_count": null,
      "_view_module": "@jupyter-widgets/controls",
      "_view_module_version": "1.5.0",
      "_view_name": "HBoxView",
      "box_style": "",
      "children": [
       "IPY_MODEL_a724962c0f264b6fa4a85b1fd65e33d6",
       "IPY_MODEL_9ab03f183de8435cb759c282c83b6abc"
      ],
      "layout": "IPY_MODEL_7815d1d9cd244e67a1ad661d213d41c5"
     }
    },
    "43b3321e8aa240edafc4c2532d890553": {
     "model_module": "@jupyter-widgets/controls",
     "model_name": "HBoxModel",
     "state": {
      "_dom_classes": [],
      "_model_module": "@jupyter-widgets/controls",
      "_model_module_version": "1.5.0",
      "_model_name": "HBoxModel",
      "_view_count": null,
      "_view_module": "@jupyter-widgets/controls",
      "_view_module_version": "1.5.0",
      "_view_name": "HBoxView",
      "box_style": "",
      "children": [
       "IPY_MODEL_ceee0b08c00b493696457de5208ffbf9",
       "IPY_MODEL_949d2c1aa1ea48819c5af7a32472d74b"
      ],
      "layout": "IPY_MODEL_7424a8bbae8c4ec999a4b03759be7419"
     }
    },
    "458a16bf40584beabb3d478e70d8c711": {
     "model_module": "@jupyter-widgets/controls",
     "model_name": "HBoxModel",
     "state": {
      "_dom_classes": [],
      "_model_module": "@jupyter-widgets/controls",
      "_model_module_version": "1.5.0",
      "_model_name": "HBoxModel",
      "_view_count": null,
      "_view_module": "@jupyter-widgets/controls",
      "_view_module_version": "1.5.0",
      "_view_name": "HBoxView",
      "box_style": "",
      "children": [
       "IPY_MODEL_59c800741be645938986dd6897036a3a",
       "IPY_MODEL_9485d3dfa9b74870982cec1f0f4549b5"
      ],
      "layout": "IPY_MODEL_164bdd254c3e40bbb6249e3d585bff02"
     }
    },
    "48db4aab25b1431a8a88d91ef18a263c": {
     "model_module": "@jupyter-widgets/base",
     "model_name": "LayoutModel",
     "state": {
      "_model_module": "@jupyter-widgets/base",
      "_model_module_version": "1.2.0",
      "_model_name": "LayoutModel",
      "_view_count": null,
      "_view_module": "@jupyter-widgets/base",
      "_view_module_version": "1.2.0",
      "_view_name": "LayoutView",
      "align_content": null,
      "align_items": null,
      "align_self": null,
      "border": null,
      "bottom": null,
      "display": null,
      "flex": null,
      "flex_flow": null,
      "grid_area": null,
      "grid_auto_columns": null,
      "grid_auto_flow": null,
      "grid_auto_rows": null,
      "grid_column": null,
      "grid_gap": null,
      "grid_row": null,
      "grid_template_areas": null,
      "grid_template_columns": null,
      "grid_template_rows": null,
      "height": null,
      "justify_content": null,
      "justify_items": null,
      "left": null,
      "margin": null,
      "max_height": null,
      "max_width": null,
      "min_height": null,
      "min_width": null,
      "object_fit": null,
      "object_position": null,
      "order": null,
      "overflow": null,
      "overflow_x": null,
      "overflow_y": null,
      "padding": null,
      "right": null,
      "top": null,
      "visibility": null,
      "width": null
     }
    },
    "49c354fe11964d8fb02ec83afee137b8": {
     "model_module": "@jupyter-widgets/base",
     "model_name": "LayoutModel",
     "state": {
      "_model_module": "@jupyter-widgets/base",
      "_model_module_version": "1.2.0",
      "_model_name": "LayoutModel",
      "_view_count": null,
      "_view_module": "@jupyter-widgets/base",
      "_view_module_version": "1.2.0",
      "_view_name": "LayoutView",
      "align_content": null,
      "align_items": null,
      "align_self": null,
      "border": null,
      "bottom": null,
      "display": null,
      "flex": null,
      "flex_flow": null,
      "grid_area": null,
      "grid_auto_columns": null,
      "grid_auto_flow": null,
      "grid_auto_rows": null,
      "grid_column": null,
      "grid_gap": null,
      "grid_row": null,
      "grid_template_areas": null,
      "grid_template_columns": null,
      "grid_template_rows": null,
      "height": null,
      "justify_content": null,
      "justify_items": null,
      "left": null,
      "margin": null,
      "max_height": null,
      "max_width": null,
      "min_height": null,
      "min_width": null,
      "object_fit": null,
      "object_position": null,
      "order": null,
      "overflow": null,
      "overflow_x": null,
      "overflow_y": null,
      "padding": null,
      "right": null,
      "top": null,
      "visibility": null,
      "width": null
     }
    },
    "4a9ba27f19924c2bb5313fba31c106d3": {
     "model_module": "@jupyter-widgets/controls",
     "model_name": "HBoxModel",
     "state": {
      "_dom_classes": [],
      "_model_module": "@jupyter-widgets/controls",
      "_model_module_version": "1.5.0",
      "_model_name": "HBoxModel",
      "_view_count": null,
      "_view_module": "@jupyter-widgets/controls",
      "_view_module_version": "1.5.0",
      "_view_name": "HBoxView",
      "box_style": "",
      "children": [
       "IPY_MODEL_8da47c8ec0754542805233a8f51d5829",
       "IPY_MODEL_4f20e12429704f2ea3bd5775290c1f90"
      ],
      "layout": "IPY_MODEL_233a4be2adc74e06926e2f2b8f771f7f"
     }
    },
    "4ca70e7312754f71b22640d6e50cdddf": {
     "model_module": "@jupyter-widgets/base",
     "model_name": "LayoutModel",
     "state": {
      "_model_module": "@jupyter-widgets/base",
      "_model_module_version": "1.2.0",
      "_model_name": "LayoutModel",
      "_view_count": null,
      "_view_module": "@jupyter-widgets/base",
      "_view_module_version": "1.2.0",
      "_view_name": "LayoutView",
      "align_content": null,
      "align_items": null,
      "align_self": null,
      "border": null,
      "bottom": null,
      "display": null,
      "flex": null,
      "flex_flow": null,
      "grid_area": null,
      "grid_auto_columns": null,
      "grid_auto_flow": null,
      "grid_auto_rows": null,
      "grid_column": null,
      "grid_gap": null,
      "grid_row": null,
      "grid_template_areas": null,
      "grid_template_columns": null,
      "grid_template_rows": null,
      "height": null,
      "justify_content": null,
      "justify_items": null,
      "left": null,
      "margin": null,
      "max_height": null,
      "max_width": null,
      "min_height": null,
      "min_width": null,
      "object_fit": null,
      "object_position": null,
      "order": null,
      "overflow": null,
      "overflow_x": null,
      "overflow_y": null,
      "padding": null,
      "right": null,
      "top": null,
      "visibility": null,
      "width": null
     }
    },
    "4f20e12429704f2ea3bd5775290c1f90": {
     "model_module": "@jupyter-widgets/controls",
     "model_name": "HTMLModel",
     "state": {
      "_dom_classes": [],
      "_model_module": "@jupyter-widgets/controls",
      "_model_module_version": "1.5.0",
      "_model_name": "HTMLModel",
      "_view_count": null,
      "_view_module": "@jupyter-widgets/controls",
      "_view_module_version": "1.5.0",
      "_view_name": "HTMLView",
      "description": "",
      "description_tooltip": null,
      "layout": "IPY_MODEL_a5e497d4ac074f8f96a1af76c5ba40cc",
      "placeholder": "​",
      "style": "IPY_MODEL_0b8df59c1b4d443893fefbe47877478e",
      "value": " 119/119 [01:15&lt;00:00,  1.58it/s]"
     }
    },
    "5321248877154e7aaa9abfead53d8b6c": {
     "model_module": "@jupyter-widgets/base",
     "model_name": "LayoutModel",
     "state": {
      "_model_module": "@jupyter-widgets/base",
      "_model_module_version": "1.2.0",
      "_model_name": "LayoutModel",
      "_view_count": null,
      "_view_module": "@jupyter-widgets/base",
      "_view_module_version": "1.2.0",
      "_view_name": "LayoutView",
      "align_content": null,
      "align_items": null,
      "align_self": null,
      "border": null,
      "bottom": null,
      "display": null,
      "flex": null,
      "flex_flow": null,
      "grid_area": null,
      "grid_auto_columns": null,
      "grid_auto_flow": null,
      "grid_auto_rows": null,
      "grid_column": null,
      "grid_gap": null,
      "grid_row": null,
      "grid_template_areas": null,
      "grid_template_columns": null,
      "grid_template_rows": null,
      "height": null,
      "justify_content": null,
      "justify_items": null,
      "left": null,
      "margin": null,
      "max_height": null,
      "max_width": null,
      "min_height": null,
      "min_width": null,
      "object_fit": null,
      "object_position": null,
      "order": null,
      "overflow": null,
      "overflow_x": null,
      "overflow_y": null,
      "padding": null,
      "right": null,
      "top": null,
      "visibility": null,
      "width": null
     }
    },
    "547eda81e28841a5bc42d37cbb455084": {
     "model_module": "@jupyter-widgets/base",
     "model_name": "LayoutModel",
     "state": {
      "_model_module": "@jupyter-widgets/base",
      "_model_module_version": "1.2.0",
      "_model_name": "LayoutModel",
      "_view_count": null,
      "_view_module": "@jupyter-widgets/base",
      "_view_module_version": "1.2.0",
      "_view_name": "LayoutView",
      "align_content": null,
      "align_items": null,
      "align_self": null,
      "border": null,
      "bottom": null,
      "display": null,
      "flex": null,
      "flex_flow": null,
      "grid_area": null,
      "grid_auto_columns": null,
      "grid_auto_flow": null,
      "grid_auto_rows": null,
      "grid_column": null,
      "grid_gap": null,
      "grid_row": null,
      "grid_template_areas": null,
      "grid_template_columns": null,
      "grid_template_rows": null,
      "height": null,
      "justify_content": null,
      "justify_items": null,
      "left": null,
      "margin": null,
      "max_height": null,
      "max_width": null,
      "min_height": null,
      "min_width": null,
      "object_fit": null,
      "object_position": null,
      "order": null,
      "overflow": null,
      "overflow_x": null,
      "overflow_y": null,
      "padding": null,
      "right": null,
      "top": null,
      "visibility": null,
      "width": null
     }
    },
    "55f5c6d6348444bcb890a8461427f81a": {
     "model_module": "@jupyter-widgets/base",
     "model_name": "LayoutModel",
     "state": {
      "_model_module": "@jupyter-widgets/base",
      "_model_module_version": "1.2.0",
      "_model_name": "LayoutModel",
      "_view_count": null,
      "_view_module": "@jupyter-widgets/base",
      "_view_module_version": "1.2.0",
      "_view_name": "LayoutView",
      "align_content": null,
      "align_items": null,
      "align_self": null,
      "border": null,
      "bottom": null,
      "display": null,
      "flex": null,
      "flex_flow": null,
      "grid_area": null,
      "grid_auto_columns": null,
      "grid_auto_flow": null,
      "grid_auto_rows": null,
      "grid_column": null,
      "grid_gap": null,
      "grid_row": null,
      "grid_template_areas": null,
      "grid_template_columns": null,
      "grid_template_rows": null,
      "height": null,
      "justify_content": null,
      "justify_items": null,
      "left": null,
      "margin": null,
      "max_height": null,
      "max_width": null,
      "min_height": null,
      "min_width": null,
      "object_fit": null,
      "object_position": null,
      "order": null,
      "overflow": null,
      "overflow_x": null,
      "overflow_y": null,
      "padding": null,
      "right": null,
      "top": null,
      "visibility": null,
      "width": null
     }
    },
    "561d250bc97a4e05a482425a9b099cb2": {
     "model_module": "@jupyter-widgets/base",
     "model_name": "LayoutModel",
     "state": {
      "_model_module": "@jupyter-widgets/base",
      "_model_module_version": "1.2.0",
      "_model_name": "LayoutModel",
      "_view_count": null,
      "_view_module": "@jupyter-widgets/base",
      "_view_module_version": "1.2.0",
      "_view_name": "LayoutView",
      "align_content": null,
      "align_items": null,
      "align_self": null,
      "border": null,
      "bottom": null,
      "display": null,
      "flex": null,
      "flex_flow": null,
      "grid_area": null,
      "grid_auto_columns": null,
      "grid_auto_flow": null,
      "grid_auto_rows": null,
      "grid_column": null,
      "grid_gap": null,
      "grid_row": null,
      "grid_template_areas": null,
      "grid_template_columns": null,
      "grid_template_rows": null,
      "height": null,
      "justify_content": null,
      "justify_items": null,
      "left": null,
      "margin": null,
      "max_height": null,
      "max_width": null,
      "min_height": null,
      "min_width": null,
      "object_fit": null,
      "object_position": null,
      "order": null,
      "overflow": null,
      "overflow_x": null,
      "overflow_y": null,
      "padding": null,
      "right": null,
      "top": null,
      "visibility": null,
      "width": null
     }
    },
    "573ede3af7634e3e98cc68349bf83cdf": {
     "model_module": "@jupyter-widgets/controls",
     "model_name": "DescriptionStyleModel",
     "state": {
      "_model_module": "@jupyter-widgets/controls",
      "_model_module_version": "1.5.0",
      "_model_name": "DescriptionStyleModel",
      "_view_count": null,
      "_view_module": "@jupyter-widgets/base",
      "_view_module_version": "1.2.0",
      "_view_name": "StyleView",
      "description_width": ""
     }
    },
    "59b65a90c0ac4a77b55c1076e216d216": {
     "model_module": "@jupyter-widgets/controls",
     "model_name": "FloatProgressModel",
     "state": {
      "_dom_classes": [],
      "_model_module": "@jupyter-widgets/controls",
      "_model_module_version": "1.5.0",
      "_model_name": "FloatProgressModel",
      "_view_count": null,
      "_view_module": "@jupyter-widgets/controls",
      "_view_module_version": "1.5.0",
      "_view_name": "ProgressView",
      "bar_style": "success",
      "description": "100%",
      "description_tooltip": null,
      "layout": "IPY_MODEL_71eee45fe63241f0820169d12471a660",
      "max": 60,
      "min": 0,
      "orientation": "horizontal",
      "style": "IPY_MODEL_2406960bdeb04ca4af1ad9b993bc427e",
      "value": 60
     }
    },
    "59c800741be645938986dd6897036a3a": {
     "model_module": "@jupyter-widgets/controls",
     "model_name": "FloatProgressModel",
     "state": {
      "_dom_classes": [],
      "_model_module": "@jupyter-widgets/controls",
      "_model_module_version": "1.5.0",
      "_model_name": "FloatProgressModel",
      "_view_count": null,
      "_view_module": "@jupyter-widgets/controls",
      "_view_module_version": "1.5.0",
      "_view_name": "ProgressView",
      "bar_style": "success",
      "description": "100%",
      "description_tooltip": null,
      "layout": "IPY_MODEL_38cc8baf70b84afead79b844565d5bca",
      "max": 60,
      "min": 0,
      "orientation": "horizontal",
      "style": "IPY_MODEL_c29470603a834c9c84d92d7fbed1b043",
      "value": 60
     }
    },
    "59f47d705bac4117b442040cc8b32bc6": {
     "model_module": "@jupyter-widgets/controls",
     "model_name": "HTMLModel",
     "state": {
      "_dom_classes": [],
      "_model_module": "@jupyter-widgets/controls",
      "_model_module_version": "1.5.0",
      "_model_name": "HTMLModel",
      "_view_count": null,
      "_view_module": "@jupyter-widgets/controls",
      "_view_module_version": "1.5.0",
      "_view_name": "HTMLView",
      "description": "",
      "description_tooltip": null,
      "layout": "IPY_MODEL_c781fd3d141f4ab8beb6c4e78047143b",
      "placeholder": "​",
      "style": "IPY_MODEL_c827d3974c71489c993b991ca57cadc0",
      "value": " 119/119 [00:44&lt;00:00,  2.68it/s]"
     }
    },
    "5a03643327bf4e63bdb9e78f28045784": {
     "model_module": "@jupyter-widgets/controls",
     "model_name": "HBoxModel",
     "state": {
      "_dom_classes": [],
      "_model_module": "@jupyter-widgets/controls",
      "_model_module_version": "1.5.0",
      "_model_name": "HBoxModel",
      "_view_count": null,
      "_view_module": "@jupyter-widgets/controls",
      "_view_module_version": "1.5.0",
      "_view_name": "HBoxView",
      "box_style": "",
      "children": [
       "IPY_MODEL_2c49aaa847ea4e5d9ca6a9c3b9591dbf",
       "IPY_MODEL_59f47d705bac4117b442040cc8b32bc6"
      ],
      "layout": "IPY_MODEL_1e9b04882f9c460dac76549d3db83dc9"
     }
    },
    "5a4873862f6e46fa867295b609654001": {
     "model_module": "@jupyter-widgets/base",
     "model_name": "LayoutModel",
     "state": {
      "_model_module": "@jupyter-widgets/base",
      "_model_module_version": "1.2.0",
      "_model_name": "LayoutModel",
      "_view_count": null,
      "_view_module": "@jupyter-widgets/base",
      "_view_module_version": "1.2.0",
      "_view_name": "LayoutView",
      "align_content": null,
      "align_items": null,
      "align_self": null,
      "border": null,
      "bottom": null,
      "display": null,
      "flex": null,
      "flex_flow": null,
      "grid_area": null,
      "grid_auto_columns": null,
      "grid_auto_flow": null,
      "grid_auto_rows": null,
      "grid_column": null,
      "grid_gap": null,
      "grid_row": null,
      "grid_template_areas": null,
      "grid_template_columns": null,
      "grid_template_rows": null,
      "height": null,
      "justify_content": null,
      "justify_items": null,
      "left": null,
      "margin": null,
      "max_height": null,
      "max_width": null,
      "min_height": null,
      "min_width": null,
      "object_fit": null,
      "object_position": null,
      "order": null,
      "overflow": null,
      "overflow_x": null,
      "overflow_y": null,
      "padding": null,
      "right": null,
      "top": null,
      "visibility": null,
      "width": null
     }
    },
    "5a77e818fa224241bab074fe826ddb93": {
     "model_module": "@jupyter-widgets/controls",
     "model_name": "HBoxModel",
     "state": {
      "_dom_classes": [],
      "_model_module": "@jupyter-widgets/controls",
      "_model_module_version": "1.5.0",
      "_model_name": "HBoxModel",
      "_view_count": null,
      "_view_module": "@jupyter-widgets/controls",
      "_view_module_version": "1.5.0",
      "_view_name": "HBoxView",
      "box_style": "",
      "children": [
       "IPY_MODEL_7ce95b13e7744dbc9a11e6bb668ee4bb",
       "IPY_MODEL_60eb29aa55e64f3993d50a95167506c9"
      ],
      "layout": "IPY_MODEL_d5c125d525c248ba900980908a87c5cb"
     }
    },
    "5a81d50bbbcb434a92146bbbc5ae3b0b": {
     "model_module": "@jupyter-widgets/base",
     "model_name": "LayoutModel",
     "state": {
      "_model_module": "@jupyter-widgets/base",
      "_model_module_version": "1.2.0",
      "_model_name": "LayoutModel",
      "_view_count": null,
      "_view_module": "@jupyter-widgets/base",
      "_view_module_version": "1.2.0",
      "_view_name": "LayoutView",
      "align_content": null,
      "align_items": null,
      "align_self": null,
      "border": null,
      "bottom": null,
      "display": null,
      "flex": null,
      "flex_flow": null,
      "grid_area": null,
      "grid_auto_columns": null,
      "grid_auto_flow": null,
      "grid_auto_rows": null,
      "grid_column": null,
      "grid_gap": null,
      "grid_row": null,
      "grid_template_areas": null,
      "grid_template_columns": null,
      "grid_template_rows": null,
      "height": null,
      "justify_content": null,
      "justify_items": null,
      "left": null,
      "margin": null,
      "max_height": null,
      "max_width": null,
      "min_height": null,
      "min_width": null,
      "object_fit": null,
      "object_position": null,
      "order": null,
      "overflow": null,
      "overflow_x": null,
      "overflow_y": null,
      "padding": null,
      "right": null,
      "top": null,
      "visibility": null,
      "width": null
     }
    },
    "5aeb47c6d5ca4346b790f58422cf791d": {
     "model_module": "@jupyter-widgets/controls",
     "model_name": "HTMLModel",
     "state": {
      "_dom_classes": [],
      "_model_module": "@jupyter-widgets/controls",
      "_model_module_version": "1.5.0",
      "_model_name": "HTMLModel",
      "_view_count": null,
      "_view_module": "@jupyter-widgets/controls",
      "_view_module_version": "1.5.0",
      "_view_name": "HTMLView",
      "description": "",
      "description_tooltip": null,
      "layout": "IPY_MODEL_1d239ccb705441fbb6fe1e41473c3f45",
      "placeholder": "​",
      "style": "IPY_MODEL_f9e18d30562a4ecea6c87dc05ccab5c0",
      "value": " 119/119 [00:45&lt;00:00,  2.60it/s]"
     }
    },
    "5c9028b285a14385a741c71c046dcc00": {
     "model_module": "@jupyter-widgets/base",
     "model_name": "LayoutModel",
     "state": {
      "_model_module": "@jupyter-widgets/base",
      "_model_module_version": "1.2.0",
      "_model_name": "LayoutModel",
      "_view_count": null,
      "_view_module": "@jupyter-widgets/base",
      "_view_module_version": "1.2.0",
      "_view_name": "LayoutView",
      "align_content": null,
      "align_items": null,
      "align_self": null,
      "border": null,
      "bottom": null,
      "display": null,
      "flex": null,
      "flex_flow": null,
      "grid_area": null,
      "grid_auto_columns": null,
      "grid_auto_flow": null,
      "grid_auto_rows": null,
      "grid_column": null,
      "grid_gap": null,
      "grid_row": null,
      "grid_template_areas": null,
      "grid_template_columns": null,
      "grid_template_rows": null,
      "height": null,
      "justify_content": null,
      "justify_items": null,
      "left": null,
      "margin": null,
      "max_height": null,
      "max_width": null,
      "min_height": null,
      "min_width": null,
      "object_fit": null,
      "object_position": null,
      "order": null,
      "overflow": null,
      "overflow_x": null,
      "overflow_y": null,
      "padding": null,
      "right": null,
      "top": null,
      "visibility": null,
      "width": null
     }
    },
    "5cdae57953e94efe9c883994238283f3": {
     "model_module": "@jupyter-widgets/base",
     "model_name": "LayoutModel",
     "state": {
      "_model_module": "@jupyter-widgets/base",
      "_model_module_version": "1.2.0",
      "_model_name": "LayoutModel",
      "_view_count": null,
      "_view_module": "@jupyter-widgets/base",
      "_view_module_version": "1.2.0",
      "_view_name": "LayoutView",
      "align_content": null,
      "align_items": null,
      "align_self": null,
      "border": null,
      "bottom": null,
      "display": null,
      "flex": null,
      "flex_flow": null,
      "grid_area": null,
      "grid_auto_columns": null,
      "grid_auto_flow": null,
      "grid_auto_rows": null,
      "grid_column": null,
      "grid_gap": null,
      "grid_row": null,
      "grid_template_areas": null,
      "grid_template_columns": null,
      "grid_template_rows": null,
      "height": null,
      "justify_content": null,
      "justify_items": null,
      "left": null,
      "margin": null,
      "max_height": null,
      "max_width": null,
      "min_height": null,
      "min_width": null,
      "object_fit": null,
      "object_position": null,
      "order": null,
      "overflow": null,
      "overflow_x": null,
      "overflow_y": null,
      "padding": null,
      "right": null,
      "top": null,
      "visibility": null,
      "width": null
     }
    },
    "5d8612e68613402e9bd1024a665b119e": {
     "model_module": "@jupyter-widgets/controls",
     "model_name": "DescriptionStyleModel",
     "state": {
      "_model_module": "@jupyter-widgets/controls",
      "_model_module_version": "1.5.0",
      "_model_name": "DescriptionStyleModel",
      "_view_count": null,
      "_view_module": "@jupyter-widgets/base",
      "_view_module_version": "1.2.0",
      "_view_name": "StyleView",
      "description_width": ""
     }
    },
    "5f24b74b3453414db9597c47c80fb21a": {
     "model_module": "@jupyter-widgets/controls",
     "model_name": "DescriptionStyleModel",
     "state": {
      "_model_module": "@jupyter-widgets/controls",
      "_model_module_version": "1.5.0",
      "_model_name": "DescriptionStyleModel",
      "_view_count": null,
      "_view_module": "@jupyter-widgets/base",
      "_view_module_version": "1.2.0",
      "_view_name": "StyleView",
      "description_width": ""
     }
    },
    "6013282b693d47618725cc2e8454c0ac": {
     "model_module": "@jupyter-widgets/controls",
     "model_name": "HTMLModel",
     "state": {
      "_dom_classes": [],
      "_model_module": "@jupyter-widgets/controls",
      "_model_module_version": "1.5.0",
      "_model_name": "HTMLModel",
      "_view_count": null,
      "_view_module": "@jupyter-widgets/controls",
      "_view_module_version": "1.5.0",
      "_view_name": "HTMLView",
      "description": "",
      "description_tooltip": null,
      "layout": "IPY_MODEL_2ddc9f3c95204ea2adb94584fbdef482",
      "placeholder": "​",
      "style": "IPY_MODEL_3c958c3ffa824acfb9b12d7bf9d0f120",
      "value": " 119/119 [00:44&lt;00:00,  2.69it/s]"
     }
    },
    "60eb29aa55e64f3993d50a95167506c9": {
     "model_module": "@jupyter-widgets/controls",
     "model_name": "HTMLModel",
     "state": {
      "_dom_classes": [],
      "_model_module": "@jupyter-widgets/controls",
      "_model_module_version": "1.5.0",
      "_model_name": "HTMLModel",
      "_view_count": null,
      "_view_module": "@jupyter-widgets/controls",
      "_view_module_version": "1.5.0",
      "_view_name": "HTMLView",
      "description": "",
      "description_tooltip": null,
      "layout": "IPY_MODEL_6e2264a8bf704c5d818459ae3d436f82",
      "placeholder": "​",
      "style": "IPY_MODEL_cec4371e88ce494e8e4b53ce5732603d",
      "value": " 60/60 [00:48&lt;00:00,  1.24it/s]"
     }
    },
    "614b02c0a7ef4678b3b7d736a5904382": {
     "model_module": "@jupyter-widgets/controls",
     "model_name": "HBoxModel",
     "state": {
      "_dom_classes": [],
      "_model_module": "@jupyter-widgets/controls",
      "_model_module_version": "1.5.0",
      "_model_name": "HBoxModel",
      "_view_count": null,
      "_view_module": "@jupyter-widgets/controls",
      "_view_module_version": "1.5.0",
      "_view_name": "HBoxView",
      "box_style": "",
      "children": [
       "IPY_MODEL_202557a41d004e56afa0d111548ccef4",
       "IPY_MODEL_de6926357dae4abb869feb6a71c38cd9"
      ],
      "layout": "IPY_MODEL_5c9028b285a14385a741c71c046dcc00"
     }
    },
    "616417e8bfa541818fb08db0b93626d6": {
     "model_module": "@jupyter-widgets/base",
     "model_name": "LayoutModel",
     "state": {
      "_model_module": "@jupyter-widgets/base",
      "_model_module_version": "1.2.0",
      "_model_name": "LayoutModel",
      "_view_count": null,
      "_view_module": "@jupyter-widgets/base",
      "_view_module_version": "1.2.0",
      "_view_name": "LayoutView",
      "align_content": null,
      "align_items": null,
      "align_self": null,
      "border": null,
      "bottom": null,
      "display": null,
      "flex": null,
      "flex_flow": null,
      "grid_area": null,
      "grid_auto_columns": null,
      "grid_auto_flow": null,
      "grid_auto_rows": null,
      "grid_column": null,
      "grid_gap": null,
      "grid_row": null,
      "grid_template_areas": null,
      "grid_template_columns": null,
      "grid_template_rows": null,
      "height": null,
      "justify_content": null,
      "justify_items": null,
      "left": null,
      "margin": null,
      "max_height": null,
      "max_width": null,
      "min_height": null,
      "min_width": null,
      "object_fit": null,
      "object_position": null,
      "order": null,
      "overflow": null,
      "overflow_x": null,
      "overflow_y": null,
      "padding": null,
      "right": null,
      "top": null,
      "visibility": null,
      "width": null
     }
    },
    "63d237b379584c6583190ec7f3b22d2f": {
     "model_module": "@jupyter-widgets/base",
     "model_name": "LayoutModel",
     "state": {
      "_model_module": "@jupyter-widgets/base",
      "_model_module_version": "1.2.0",
      "_model_name": "LayoutModel",
      "_view_count": null,
      "_view_module": "@jupyter-widgets/base",
      "_view_module_version": "1.2.0",
      "_view_name": "LayoutView",
      "align_content": null,
      "align_items": null,
      "align_self": null,
      "border": null,
      "bottom": null,
      "display": null,
      "flex": null,
      "flex_flow": null,
      "grid_area": null,
      "grid_auto_columns": null,
      "grid_auto_flow": null,
      "grid_auto_rows": null,
      "grid_column": null,
      "grid_gap": null,
      "grid_row": null,
      "grid_template_areas": null,
      "grid_template_columns": null,
      "grid_template_rows": null,
      "height": null,
      "justify_content": null,
      "justify_items": null,
      "left": null,
      "margin": null,
      "max_height": null,
      "max_width": null,
      "min_height": null,
      "min_width": null,
      "object_fit": null,
      "object_position": null,
      "order": null,
      "overflow": null,
      "overflow_x": null,
      "overflow_y": null,
      "padding": null,
      "right": null,
      "top": null,
      "visibility": null,
      "width": null
     }
    },
    "646a05835c82419688442851ef85a9bc": {
     "model_module": "@jupyter-widgets/base",
     "model_name": "LayoutModel",
     "state": {
      "_model_module": "@jupyter-widgets/base",
      "_model_module_version": "1.2.0",
      "_model_name": "LayoutModel",
      "_view_count": null,
      "_view_module": "@jupyter-widgets/base",
      "_view_module_version": "1.2.0",
      "_view_name": "LayoutView",
      "align_content": null,
      "align_items": null,
      "align_self": null,
      "border": null,
      "bottom": null,
      "display": null,
      "flex": null,
      "flex_flow": null,
      "grid_area": null,
      "grid_auto_columns": null,
      "grid_auto_flow": null,
      "grid_auto_rows": null,
      "grid_column": null,
      "grid_gap": null,
      "grid_row": null,
      "grid_template_areas": null,
      "grid_template_columns": null,
      "grid_template_rows": null,
      "height": null,
      "justify_content": null,
      "justify_items": null,
      "left": null,
      "margin": null,
      "max_height": null,
      "max_width": null,
      "min_height": null,
      "min_width": null,
      "object_fit": null,
      "object_position": null,
      "order": null,
      "overflow": null,
      "overflow_x": null,
      "overflow_y": null,
      "padding": null,
      "right": null,
      "top": null,
      "visibility": null,
      "width": null
     }
    },
    "64fdae780d03499a835715f479e52fc5": {
     "model_module": "@jupyter-widgets/base",
     "model_name": "LayoutModel",
     "state": {
      "_model_module": "@jupyter-widgets/base",
      "_model_module_version": "1.2.0",
      "_model_name": "LayoutModel",
      "_view_count": null,
      "_view_module": "@jupyter-widgets/base",
      "_view_module_version": "1.2.0",
      "_view_name": "LayoutView",
      "align_content": null,
      "align_items": null,
      "align_self": null,
      "border": null,
      "bottom": null,
      "display": null,
      "flex": null,
      "flex_flow": null,
      "grid_area": null,
      "grid_auto_columns": null,
      "grid_auto_flow": null,
      "grid_auto_rows": null,
      "grid_column": null,
      "grid_gap": null,
      "grid_row": null,
      "grid_template_areas": null,
      "grid_template_columns": null,
      "grid_template_rows": null,
      "height": null,
      "justify_content": null,
      "justify_items": null,
      "left": null,
      "margin": null,
      "max_height": null,
      "max_width": null,
      "min_height": null,
      "min_width": null,
      "object_fit": null,
      "object_position": null,
      "order": null,
      "overflow": null,
      "overflow_x": null,
      "overflow_y": null,
      "padding": null,
      "right": null,
      "top": null,
      "visibility": null,
      "width": null
     }
    },
    "66726979e6fe4f7aabef860559873044": {
     "model_module": "@jupyter-widgets/controls",
     "model_name": "FloatProgressModel",
     "state": {
      "_dom_classes": [],
      "_model_module": "@jupyter-widgets/controls",
      "_model_module_version": "1.5.0",
      "_model_name": "FloatProgressModel",
      "_view_count": null,
      "_view_module": "@jupyter-widgets/controls",
      "_view_module_version": "1.5.0",
      "_view_name": "ProgressView",
      "bar_style": "success",
      "description": "100%",
      "description_tooltip": null,
      "layout": "IPY_MODEL_eccaea7366f14f8986e2d3585fa3f74a",
      "max": 102502400,
      "min": 0,
      "orientation": "horizontal",
      "style": "IPY_MODEL_d834b43713474cc8a8934a93ce3a9d6b",
      "value": 102502400
     }
    },
    "67d1b70dc7664975bd3e522775b9aa60": {
     "model_module": "@jupyter-widgets/controls",
     "model_name": "ProgressStyleModel",
     "state": {
      "_model_module": "@jupyter-widgets/controls",
      "_model_module_version": "1.5.0",
      "_model_name": "ProgressStyleModel",
      "_view_count": null,
      "_view_module": "@jupyter-widgets/base",
      "_view_module_version": "1.2.0",
      "_view_name": "StyleView",
      "bar_color": null,
      "description_width": "initial"
     }
    },
    "67dcbfca1f964b47b7327f9d29c2fc8e": {
     "model_module": "@jupyter-widgets/controls",
     "model_name": "ProgressStyleModel",
     "state": {
      "_model_module": "@jupyter-widgets/controls",
      "_model_module_version": "1.5.0",
      "_model_name": "ProgressStyleModel",
      "_view_count": null,
      "_view_module": "@jupyter-widgets/base",
      "_view_module_version": "1.2.0",
      "_view_name": "StyleView",
      "bar_color": null,
      "description_width": "initial"
     }
    },
    "6813a0fa5db544eaabd8b392878c2895": {
     "model_module": "@jupyter-widgets/base",
     "model_name": "LayoutModel",
     "state": {
      "_model_module": "@jupyter-widgets/base",
      "_model_module_version": "1.2.0",
      "_model_name": "LayoutModel",
      "_view_count": null,
      "_view_module": "@jupyter-widgets/base",
      "_view_module_version": "1.2.0",
      "_view_name": "LayoutView",
      "align_content": null,
      "align_items": null,
      "align_self": null,
      "border": null,
      "bottom": null,
      "display": null,
      "flex": null,
      "flex_flow": null,
      "grid_area": null,
      "grid_auto_columns": null,
      "grid_auto_flow": null,
      "grid_auto_rows": null,
      "grid_column": null,
      "grid_gap": null,
      "grid_row": null,
      "grid_template_areas": null,
      "grid_template_columns": null,
      "grid_template_rows": null,
      "height": null,
      "justify_content": null,
      "justify_items": null,
      "left": null,
      "margin": null,
      "max_height": null,
      "max_width": null,
      "min_height": null,
      "min_width": null,
      "object_fit": null,
      "object_position": null,
      "order": null,
      "overflow": null,
      "overflow_x": null,
      "overflow_y": null,
      "padding": null,
      "right": null,
      "top": null,
      "visibility": null,
      "width": null
     }
    },
    "68fcc43b3eec47cd8b7f7aed8e32b2fa": {
     "model_module": "@jupyter-widgets/base",
     "model_name": "LayoutModel",
     "state": {
      "_model_module": "@jupyter-widgets/base",
      "_model_module_version": "1.2.0",
      "_model_name": "LayoutModel",
      "_view_count": null,
      "_view_module": "@jupyter-widgets/base",
      "_view_module_version": "1.2.0",
      "_view_name": "LayoutView",
      "align_content": null,
      "align_items": null,
      "align_self": null,
      "border": null,
      "bottom": null,
      "display": null,
      "flex": null,
      "flex_flow": null,
      "grid_area": null,
      "grid_auto_columns": null,
      "grid_auto_flow": null,
      "grid_auto_rows": null,
      "grid_column": null,
      "grid_gap": null,
      "grid_row": null,
      "grid_template_areas": null,
      "grid_template_columns": null,
      "grid_template_rows": null,
      "height": null,
      "justify_content": null,
      "justify_items": null,
      "left": null,
      "margin": null,
      "max_height": null,
      "max_width": null,
      "min_height": null,
      "min_width": null,
      "object_fit": null,
      "object_position": null,
      "order": null,
      "overflow": null,
      "overflow_x": null,
      "overflow_y": null,
      "padding": null,
      "right": null,
      "top": null,
      "visibility": null,
      "width": null
     }
    },
    "69be04639e2c488794a1df8bfa3c34bf": {
     "model_module": "@jupyter-widgets/base",
     "model_name": "LayoutModel",
     "state": {
      "_model_module": "@jupyter-widgets/base",
      "_model_module_version": "1.2.0",
      "_model_name": "LayoutModel",
      "_view_count": null,
      "_view_module": "@jupyter-widgets/base",
      "_view_module_version": "1.2.0",
      "_view_name": "LayoutView",
      "align_content": null,
      "align_items": null,
      "align_self": null,
      "border": null,
      "bottom": null,
      "display": null,
      "flex": null,
      "flex_flow": null,
      "grid_area": null,
      "grid_auto_columns": null,
      "grid_auto_flow": null,
      "grid_auto_rows": null,
      "grid_column": null,
      "grid_gap": null,
      "grid_row": null,
      "grid_template_areas": null,
      "grid_template_columns": null,
      "grid_template_rows": null,
      "height": null,
      "justify_content": null,
      "justify_items": null,
      "left": null,
      "margin": null,
      "max_height": null,
      "max_width": null,
      "min_height": null,
      "min_width": null,
      "object_fit": null,
      "object_position": null,
      "order": null,
      "overflow": null,
      "overflow_x": null,
      "overflow_y": null,
      "padding": null,
      "right": null,
      "top": null,
      "visibility": null,
      "width": null
     }
    },
    "6ca90521f74345ea8c9a3141b032c35b": {
     "model_module": "@jupyter-widgets/controls",
     "model_name": "ProgressStyleModel",
     "state": {
      "_model_module": "@jupyter-widgets/controls",
      "_model_module_version": "1.5.0",
      "_model_name": "ProgressStyleModel",
      "_view_count": null,
      "_view_module": "@jupyter-widgets/base",
      "_view_module_version": "1.2.0",
      "_view_name": "StyleView",
      "bar_color": null,
      "description_width": "initial"
     }
    },
    "6e2264a8bf704c5d818459ae3d436f82": {
     "model_module": "@jupyter-widgets/base",
     "model_name": "LayoutModel",
     "state": {
      "_model_module": "@jupyter-widgets/base",
      "_model_module_version": "1.2.0",
      "_model_name": "LayoutModel",
      "_view_count": null,
      "_view_module": "@jupyter-widgets/base",
      "_view_module_version": "1.2.0",
      "_view_name": "LayoutView",
      "align_content": null,
      "align_items": null,
      "align_self": null,
      "border": null,
      "bottom": null,
      "display": null,
      "flex": null,
      "flex_flow": null,
      "grid_area": null,
      "grid_auto_columns": null,
      "grid_auto_flow": null,
      "grid_auto_rows": null,
      "grid_column": null,
      "grid_gap": null,
      "grid_row": null,
      "grid_template_areas": null,
      "grid_template_columns": null,
      "grid_template_rows": null,
      "height": null,
      "justify_content": null,
      "justify_items": null,
      "left": null,
      "margin": null,
      "max_height": null,
      "max_width": null,
      "min_height": null,
      "min_width": null,
      "object_fit": null,
      "object_position": null,
      "order": null,
      "overflow": null,
      "overflow_x": null,
      "overflow_y": null,
      "padding": null,
      "right": null,
      "top": null,
      "visibility": null,
      "width": null
     }
    },
    "702729bd520240cd923de9f81d58b7f3": {
     "model_module": "@jupyter-widgets/base",
     "model_name": "LayoutModel",
     "state": {
      "_model_module": "@jupyter-widgets/base",
      "_model_module_version": "1.2.0",
      "_model_name": "LayoutModel",
      "_view_count": null,
      "_view_module": "@jupyter-widgets/base",
      "_view_module_version": "1.2.0",
      "_view_name": "LayoutView",
      "align_content": null,
      "align_items": null,
      "align_self": null,
      "border": null,
      "bottom": null,
      "display": null,
      "flex": null,
      "flex_flow": null,
      "grid_area": null,
      "grid_auto_columns": null,
      "grid_auto_flow": null,
      "grid_auto_rows": null,
      "grid_column": null,
      "grid_gap": null,
      "grid_row": null,
      "grid_template_areas": null,
      "grid_template_columns": null,
      "grid_template_rows": null,
      "height": null,
      "justify_content": null,
      "justify_items": null,
      "left": null,
      "margin": null,
      "max_height": null,
      "max_width": null,
      "min_height": null,
      "min_width": null,
      "object_fit": null,
      "object_position": null,
      "order": null,
      "overflow": null,
      "overflow_x": null,
      "overflow_y": null,
      "padding": null,
      "right": null,
      "top": null,
      "visibility": null,
      "width": null
     }
    },
    "707535f52e38496f9c07680b66b4ee2a": {
     "model_module": "@jupyter-widgets/controls",
     "model_name": "HBoxModel",
     "state": {
      "_dom_classes": [],
      "_model_module": "@jupyter-widgets/controls",
      "_model_module_version": "1.5.0",
      "_model_name": "HBoxModel",
      "_view_count": null,
      "_view_module": "@jupyter-widgets/controls",
      "_view_module_version": "1.5.0",
      "_view_name": "HBoxView",
      "box_style": "",
      "children": [
       "IPY_MODEL_e2d8b7f988e4484fa77ee0586742c3b8",
       "IPY_MODEL_98b8765dd97d4c3c8ce7de3e87c6eecf"
      ],
      "layout": "IPY_MODEL_ae1245487c284cc0a30786cc81ae2994"
     }
    },
    "71eee45fe63241f0820169d12471a660": {
     "model_module": "@jupyter-widgets/base",
     "model_name": "LayoutModel",
     "state": {
      "_model_module": "@jupyter-widgets/base",
      "_model_module_version": "1.2.0",
      "_model_name": "LayoutModel",
      "_view_count": null,
      "_view_module": "@jupyter-widgets/base",
      "_view_module_version": "1.2.0",
      "_view_name": "LayoutView",
      "align_content": null,
      "align_items": null,
      "align_self": null,
      "border": null,
      "bottom": null,
      "display": null,
      "flex": null,
      "flex_flow": null,
      "grid_area": null,
      "grid_auto_columns": null,
      "grid_auto_flow": null,
      "grid_auto_rows": null,
      "grid_column": null,
      "grid_gap": null,
      "grid_row": null,
      "grid_template_areas": null,
      "grid_template_columns": null,
      "grid_template_rows": null,
      "height": null,
      "justify_content": null,
      "justify_items": null,
      "left": null,
      "margin": null,
      "max_height": null,
      "max_width": null,
      "min_height": null,
      "min_width": null,
      "object_fit": null,
      "object_position": null,
      "order": null,
      "overflow": null,
      "overflow_x": null,
      "overflow_y": null,
      "padding": null,
      "right": null,
      "top": null,
      "visibility": null,
      "width": null
     }
    },
    "73594c3203c54e9fac21d1c15da07a3c": {
     "model_module": "@jupyter-widgets/base",
     "model_name": "LayoutModel",
     "state": {
      "_model_module": "@jupyter-widgets/base",
      "_model_module_version": "1.2.0",
      "_model_name": "LayoutModel",
      "_view_count": null,
      "_view_module": "@jupyter-widgets/base",
      "_view_module_version": "1.2.0",
      "_view_name": "LayoutView",
      "align_content": null,
      "align_items": null,
      "align_self": null,
      "border": null,
      "bottom": null,
      "display": null,
      "flex": null,
      "flex_flow": null,
      "grid_area": null,
      "grid_auto_columns": null,
      "grid_auto_flow": null,
      "grid_auto_rows": null,
      "grid_column": null,
      "grid_gap": null,
      "grid_row": null,
      "grid_template_areas": null,
      "grid_template_columns": null,
      "grid_template_rows": null,
      "height": null,
      "justify_content": null,
      "justify_items": null,
      "left": null,
      "margin": null,
      "max_height": null,
      "max_width": null,
      "min_height": null,
      "min_width": null,
      "object_fit": null,
      "object_position": null,
      "order": null,
      "overflow": null,
      "overflow_x": null,
      "overflow_y": null,
      "padding": null,
      "right": null,
      "top": null,
      "visibility": null,
      "width": null
     }
    },
    "7424a8bbae8c4ec999a4b03759be7419": {
     "model_module": "@jupyter-widgets/base",
     "model_name": "LayoutModel",
     "state": {
      "_model_module": "@jupyter-widgets/base",
      "_model_module_version": "1.2.0",
      "_model_name": "LayoutModel",
      "_view_count": null,
      "_view_module": "@jupyter-widgets/base",
      "_view_module_version": "1.2.0",
      "_view_name": "LayoutView",
      "align_content": null,
      "align_items": null,
      "align_self": null,
      "border": null,
      "bottom": null,
      "display": null,
      "flex": null,
      "flex_flow": null,
      "grid_area": null,
      "grid_auto_columns": null,
      "grid_auto_flow": null,
      "grid_auto_rows": null,
      "grid_column": null,
      "grid_gap": null,
      "grid_row": null,
      "grid_template_areas": null,
      "grid_template_columns": null,
      "grid_template_rows": null,
      "height": null,
      "justify_content": null,
      "justify_items": null,
      "left": null,
      "margin": null,
      "max_height": null,
      "max_width": null,
      "min_height": null,
      "min_width": null,
      "object_fit": null,
      "object_position": null,
      "order": null,
      "overflow": null,
      "overflow_x": null,
      "overflow_y": null,
      "padding": null,
      "right": null,
      "top": null,
      "visibility": null,
      "width": null
     }
    },
    "75178daa90834712ac19de4480a591a9": {
     "model_module": "@jupyter-widgets/base",
     "model_name": "LayoutModel",
     "state": {
      "_model_module": "@jupyter-widgets/base",
      "_model_module_version": "1.2.0",
      "_model_name": "LayoutModel",
      "_view_count": null,
      "_view_module": "@jupyter-widgets/base",
      "_view_module_version": "1.2.0",
      "_view_name": "LayoutView",
      "align_content": null,
      "align_items": null,
      "align_self": null,
      "border": null,
      "bottom": null,
      "display": null,
      "flex": null,
      "flex_flow": null,
      "grid_area": null,
      "grid_auto_columns": null,
      "grid_auto_flow": null,
      "grid_auto_rows": null,
      "grid_column": null,
      "grid_gap": null,
      "grid_row": null,
      "grid_template_areas": null,
      "grid_template_columns": null,
      "grid_template_rows": null,
      "height": null,
      "justify_content": null,
      "justify_items": null,
      "left": null,
      "margin": null,
      "max_height": null,
      "max_width": null,
      "min_height": null,
      "min_width": null,
      "object_fit": null,
      "object_position": null,
      "order": null,
      "overflow": null,
      "overflow_x": null,
      "overflow_y": null,
      "padding": null,
      "right": null,
      "top": null,
      "visibility": null,
      "width": null
     }
    },
    "7815d1d9cd244e67a1ad661d213d41c5": {
     "model_module": "@jupyter-widgets/base",
     "model_name": "LayoutModel",
     "state": {
      "_model_module": "@jupyter-widgets/base",
      "_model_module_version": "1.2.0",
      "_model_name": "LayoutModel",
      "_view_count": null,
      "_view_module": "@jupyter-widgets/base",
      "_view_module_version": "1.2.0",
      "_view_name": "LayoutView",
      "align_content": null,
      "align_items": null,
      "align_self": null,
      "border": null,
      "bottom": null,
      "display": null,
      "flex": null,
      "flex_flow": null,
      "grid_area": null,
      "grid_auto_columns": null,
      "grid_auto_flow": null,
      "grid_auto_rows": null,
      "grid_column": null,
      "grid_gap": null,
      "grid_row": null,
      "grid_template_areas": null,
      "grid_template_columns": null,
      "grid_template_rows": null,
      "height": null,
      "justify_content": null,
      "justify_items": null,
      "left": null,
      "margin": null,
      "max_height": null,
      "max_width": null,
      "min_height": null,
      "min_width": null,
      "object_fit": null,
      "object_position": null,
      "order": null,
      "overflow": null,
      "overflow_x": null,
      "overflow_y": null,
      "padding": null,
      "right": null,
      "top": null,
      "visibility": null,
      "width": null
     }
    },
    "7940a997da52454f9153dccf926c69aa": {
     "model_module": "@jupyter-widgets/controls",
     "model_name": "DescriptionStyleModel",
     "state": {
      "_model_module": "@jupyter-widgets/controls",
      "_model_module_version": "1.5.0",
      "_model_name": "DescriptionStyleModel",
      "_view_count": null,
      "_view_module": "@jupyter-widgets/base",
      "_view_module_version": "1.2.0",
      "_view_name": "StyleView",
      "description_width": ""
     }
    },
    "7a789daa218f4b9fb4a0cf4fe9abb64c": {
     "model_module": "@jupyter-widgets/controls",
     "model_name": "HTMLModel",
     "state": {
      "_dom_classes": [],
      "_model_module": "@jupyter-widgets/controls",
      "_model_module_version": "1.5.0",
      "_model_name": "HTMLModel",
      "_view_count": null,
      "_view_module": "@jupyter-widgets/controls",
      "_view_module_version": "1.5.0",
      "_view_name": "HTMLView",
      "description": "",
      "description_tooltip": null,
      "layout": "IPY_MODEL_6813a0fa5db544eaabd8b392878c2895",
      "placeholder": "​",
      "style": "IPY_MODEL_8d4f2cb542c24f87b8bdc1effe36221e",
      "value": " 60/60 [01:26&lt;00:00,  1.45s/it]"
     }
    },
    "7b222c02f37d4f638d58b7644f833b90": {
     "model_module": "@jupyter-widgets/controls",
     "model_name": "FloatProgressModel",
     "state": {
      "_dom_classes": [],
      "_model_module": "@jupyter-widgets/controls",
      "_model_module_version": "1.5.0",
      "_model_name": "FloatProgressModel",
      "_view_count": null,
      "_view_module": "@jupyter-widgets/controls",
      "_view_module_version": "1.5.0",
      "_view_name": "ProgressView",
      "bar_style": "success",
      "description": "100%",
      "description_tooltip": null,
      "layout": "IPY_MODEL_81074739cf8043c8a3ca7b3f23032651",
      "max": 60,
      "min": 0,
      "orientation": "horizontal",
      "style": "IPY_MODEL_ee406aba43844122a27a2b3e5349d6ff",
      "value": 60
     }
    },
    "7b4622c85ae946c98aecc1b81171562e": {
     "model_module": "@jupyter-widgets/base",
     "model_name": "LayoutModel",
     "state": {
      "_model_module": "@jupyter-widgets/base",
      "_model_module_version": "1.2.0",
      "_model_name": "LayoutModel",
      "_view_count": null,
      "_view_module": "@jupyter-widgets/base",
      "_view_module_version": "1.2.0",
      "_view_name": "LayoutView",
      "align_content": null,
      "align_items": null,
      "align_self": null,
      "border": null,
      "bottom": null,
      "display": null,
      "flex": null,
      "flex_flow": null,
      "grid_area": null,
      "grid_auto_columns": null,
      "grid_auto_flow": null,
      "grid_auto_rows": null,
      "grid_column": null,
      "grid_gap": null,
      "grid_row": null,
      "grid_template_areas": null,
      "grid_template_columns": null,
      "grid_template_rows": null,
      "height": null,
      "justify_content": null,
      "justify_items": null,
      "left": null,
      "margin": null,
      "max_height": null,
      "max_width": null,
      "min_height": null,
      "min_width": null,
      "object_fit": null,
      "object_position": null,
      "order": null,
      "overflow": null,
      "overflow_x": null,
      "overflow_y": null,
      "padding": null,
      "right": null,
      "top": null,
      "visibility": null,
      "width": null
     }
    },
    "7c661b377cb14478b5445e20b8ee12b3": {
     "model_module": "@jupyter-widgets/controls",
     "model_name": "HBoxModel",
     "state": {
      "_dom_classes": [],
      "_model_module": "@jupyter-widgets/controls",
      "_model_module_version": "1.5.0",
      "_model_name": "HBoxModel",
      "_view_count": null,
      "_view_module": "@jupyter-widgets/controls",
      "_view_module_version": "1.5.0",
      "_view_name": "HBoxView",
      "box_style": "",
      "children": [
       "IPY_MODEL_2517e49e801e4c24b1827a56c491ce4b",
       "IPY_MODEL_c9f58a16e791495ab213ea36612c69c4"
      ],
      "layout": "IPY_MODEL_5a81d50bbbcb434a92146bbbc5ae3b0b"
     }
    },
    "7ce95b13e7744dbc9a11e6bb668ee4bb": {
     "model_module": "@jupyter-widgets/controls",
     "model_name": "FloatProgressModel",
     "state": {
      "_dom_classes": [],
      "_model_module": "@jupyter-widgets/controls",
      "_model_module_version": "1.5.0",
      "_model_name": "FloatProgressModel",
      "_view_count": null,
      "_view_module": "@jupyter-widgets/controls",
      "_view_module_version": "1.5.0",
      "_view_name": "ProgressView",
      "bar_style": "success",
      "description": "100%",
      "description_tooltip": null,
      "layout": "IPY_MODEL_345346a8fa05432f8bd7df9dafbfc2d5",
      "max": 60,
      "min": 0,
      "orientation": "horizontal",
      "style": "IPY_MODEL_bd614a0740cb439dbefdaa1f0c92d9e9",
      "value": 60
     }
    },
    "7d237189aaa24680988a0e980d8ab395": {
     "model_module": "@jupyter-widgets/controls",
     "model_name": "HTMLModel",
     "state": {
      "_dom_classes": [],
      "_model_module": "@jupyter-widgets/controls",
      "_model_module_version": "1.5.0",
      "_model_name": "HTMLModel",
      "_view_count": null,
      "_view_module": "@jupyter-widgets/controls",
      "_view_module_version": "1.5.0",
      "_view_name": "HTMLView",
      "description": "",
      "description_tooltip": null,
      "layout": "IPY_MODEL_8e91792028a84d069150f2a39b1637af",
      "placeholder": "​",
      "style": "IPY_MODEL_5d8612e68613402e9bd1024a665b119e",
      "value": " 60/60 [00:42&lt;00:00,  1.41it/s]"
     }
    },
    "7dc7ee10137f40dca547b318f332fae5": {
     "model_module": "@jupyter-widgets/base",
     "model_name": "LayoutModel",
     "state": {
      "_model_module": "@jupyter-widgets/base",
      "_model_module_version": "1.2.0",
      "_model_name": "LayoutModel",
      "_view_count": null,
      "_view_module": "@jupyter-widgets/base",
      "_view_module_version": "1.2.0",
      "_view_name": "LayoutView",
      "align_content": null,
      "align_items": null,
      "align_self": null,
      "border": null,
      "bottom": null,
      "display": null,
      "flex": null,
      "flex_flow": null,
      "grid_area": null,
      "grid_auto_columns": null,
      "grid_auto_flow": null,
      "grid_auto_rows": null,
      "grid_column": null,
      "grid_gap": null,
      "grid_row": null,
      "grid_template_areas": null,
      "grid_template_columns": null,
      "grid_template_rows": null,
      "height": null,
      "justify_content": null,
      "justify_items": null,
      "left": null,
      "margin": null,
      "max_height": null,
      "max_width": null,
      "min_height": null,
      "min_width": null,
      "object_fit": null,
      "object_position": null,
      "order": null,
      "overflow": null,
      "overflow_x": null,
      "overflow_y": null,
      "padding": null,
      "right": null,
      "top": null,
      "visibility": null,
      "width": null
     }
    },
    "7e2db68cbcef4b4689e9e121282f086f": {
     "model_module": "@jupyter-widgets/controls",
     "model_name": "HBoxModel",
     "state": {
      "_dom_classes": [],
      "_model_module": "@jupyter-widgets/controls",
      "_model_module_version": "1.5.0",
      "_model_name": "HBoxModel",
      "_view_count": null,
      "_view_module": "@jupyter-widgets/controls",
      "_view_module_version": "1.5.0",
      "_view_name": "HBoxView",
      "box_style": "",
      "children": [
       "IPY_MODEL_59b65a90c0ac4a77b55c1076e216d216",
       "IPY_MODEL_04e33719f549478a99328a081c4356aa"
      ],
      "layout": "IPY_MODEL_69be04639e2c488794a1df8bfa3c34bf"
     }
    },
    "7fa6bc4cfba44f5b83199922d22dd033": {
     "model_module": "@jupyter-widgets/base",
     "model_name": "LayoutModel",
     "state": {
      "_model_module": "@jupyter-widgets/base",
      "_model_module_version": "1.2.0",
      "_model_name": "LayoutModel",
      "_view_count": null,
      "_view_module": "@jupyter-widgets/base",
      "_view_module_version": "1.2.0",
      "_view_name": "LayoutView",
      "align_content": null,
      "align_items": null,
      "align_self": null,
      "border": null,
      "bottom": null,
      "display": null,
      "flex": null,
      "flex_flow": null,
      "grid_area": null,
      "grid_auto_columns": null,
      "grid_auto_flow": null,
      "grid_auto_rows": null,
      "grid_column": null,
      "grid_gap": null,
      "grid_row": null,
      "grid_template_areas": null,
      "grid_template_columns": null,
      "grid_template_rows": null,
      "height": null,
      "justify_content": null,
      "justify_items": null,
      "left": null,
      "margin": null,
      "max_height": null,
      "max_width": null,
      "min_height": null,
      "min_width": null,
      "object_fit": null,
      "object_position": null,
      "order": null,
      "overflow": null,
      "overflow_x": null,
      "overflow_y": null,
      "padding": null,
      "right": null,
      "top": null,
      "visibility": null,
      "width": null
     }
    },
    "81074739cf8043c8a3ca7b3f23032651": {
     "model_module": "@jupyter-widgets/base",
     "model_name": "LayoutModel",
     "state": {
      "_model_module": "@jupyter-widgets/base",
      "_model_module_version": "1.2.0",
      "_model_name": "LayoutModel",
      "_view_count": null,
      "_view_module": "@jupyter-widgets/base",
      "_view_module_version": "1.2.0",
      "_view_name": "LayoutView",
      "align_content": null,
      "align_items": null,
      "align_self": null,
      "border": null,
      "bottom": null,
      "display": null,
      "flex": null,
      "flex_flow": null,
      "grid_area": null,
      "grid_auto_columns": null,
      "grid_auto_flow": null,
      "grid_auto_rows": null,
      "grid_column": null,
      "grid_gap": null,
      "grid_row": null,
      "grid_template_areas": null,
      "grid_template_columns": null,
      "grid_template_rows": null,
      "height": null,
      "justify_content": null,
      "justify_items": null,
      "left": null,
      "margin": null,
      "max_height": null,
      "max_width": null,
      "min_height": null,
      "min_width": null,
      "object_fit": null,
      "object_position": null,
      "order": null,
      "overflow": null,
      "overflow_x": null,
      "overflow_y": null,
      "padding": null,
      "right": null,
      "top": null,
      "visibility": null,
      "width": null
     }
    },
    "813e8cbafb494b2ab5e5f13c7cced9fd": {
     "model_module": "@jupyter-widgets/base",
     "model_name": "LayoutModel",
     "state": {
      "_model_module": "@jupyter-widgets/base",
      "_model_module_version": "1.2.0",
      "_model_name": "LayoutModel",
      "_view_count": null,
      "_view_module": "@jupyter-widgets/base",
      "_view_module_version": "1.2.0",
      "_view_name": "LayoutView",
      "align_content": null,
      "align_items": null,
      "align_self": null,
      "border": null,
      "bottom": null,
      "display": null,
      "flex": null,
      "flex_flow": null,
      "grid_area": null,
      "grid_auto_columns": null,
      "grid_auto_flow": null,
      "grid_auto_rows": null,
      "grid_column": null,
      "grid_gap": null,
      "grid_row": null,
      "grid_template_areas": null,
      "grid_template_columns": null,
      "grid_template_rows": null,
      "height": null,
      "justify_content": null,
      "justify_items": null,
      "left": null,
      "margin": null,
      "max_height": null,
      "max_width": null,
      "min_height": null,
      "min_width": null,
      "object_fit": null,
      "object_position": null,
      "order": null,
      "overflow": null,
      "overflow_x": null,
      "overflow_y": null,
      "padding": null,
      "right": null,
      "top": null,
      "visibility": null,
      "width": null
     }
    },
    "8260dbda86ab430b9805b532d5c1b237": {
     "model_module": "@jupyter-widgets/base",
     "model_name": "LayoutModel",
     "state": {
      "_model_module": "@jupyter-widgets/base",
      "_model_module_version": "1.2.0",
      "_model_name": "LayoutModel",
      "_view_count": null,
      "_view_module": "@jupyter-widgets/base",
      "_view_module_version": "1.2.0",
      "_view_name": "LayoutView",
      "align_content": null,
      "align_items": null,
      "align_self": null,
      "border": null,
      "bottom": null,
      "display": null,
      "flex": null,
      "flex_flow": null,
      "grid_area": null,
      "grid_auto_columns": null,
      "grid_auto_flow": null,
      "grid_auto_rows": null,
      "grid_column": null,
      "grid_gap": null,
      "grid_row": null,
      "grid_template_areas": null,
      "grid_template_columns": null,
      "grid_template_rows": null,
      "height": null,
      "justify_content": null,
      "justify_items": null,
      "left": null,
      "margin": null,
      "max_height": null,
      "max_width": null,
      "min_height": null,
      "min_width": null,
      "object_fit": null,
      "object_position": null,
      "order": null,
      "overflow": null,
      "overflow_x": null,
      "overflow_y": null,
      "padding": null,
      "right": null,
      "top": null,
      "visibility": null,
      "width": null
     }
    },
    "8336bc74ce5d4119a19433c8bef20627": {
     "model_module": "@jupyter-widgets/controls",
     "model_name": "HBoxModel",
     "state": {
      "_dom_classes": [],
      "_model_module": "@jupyter-widgets/controls",
      "_model_module_version": "1.5.0",
      "_model_name": "HBoxModel",
      "_view_count": null,
      "_view_module": "@jupyter-widgets/controls",
      "_view_module_version": "1.5.0",
      "_view_name": "HBoxView",
      "box_style": "",
      "children": [
       "IPY_MODEL_84a6d52c8768414380240566902fb9e9",
       "IPY_MODEL_b5b0726825fe422d8118c9bca9387f0d"
      ],
      "layout": "IPY_MODEL_616417e8bfa541818fb08db0b93626d6"
     }
    },
    "84a6d52c8768414380240566902fb9e9": {
     "model_module": "@jupyter-widgets/controls",
     "model_name": "FloatProgressModel",
     "state": {
      "_dom_classes": [],
      "_model_module": "@jupyter-widgets/controls",
      "_model_module_version": "1.5.0",
      "_model_name": "FloatProgressModel",
      "_view_count": null,
      "_view_module": "@jupyter-widgets/controls",
      "_view_module_version": "1.5.0",
      "_view_name": "ProgressView",
      "bar_style": "success",
      "description": "100%",
      "description_tooltip": null,
      "layout": "IPY_MODEL_75178daa90834712ac19de4480a591a9",
      "max": 60,
      "min": 0,
      "orientation": "horizontal",
      "style": "IPY_MODEL_33f294bd848c49beb5ba01a78b18bdf4",
      "value": 60
     }
    },
    "88b5fd900f1648cda133d5c6c24fffb4": {
     "model_module": "@jupyter-widgets/controls",
     "model_name": "HTMLModel",
     "state": {
      "_dom_classes": [],
      "_model_module": "@jupyter-widgets/controls",
      "_model_module_version": "1.5.0",
      "_model_name": "HTMLModel",
      "_view_count": null,
      "_view_module": "@jupyter-widgets/controls",
      "_view_module_version": "1.5.0",
      "_view_name": "HTMLView",
      "description": "",
      "description_tooltip": null,
      "layout": "IPY_MODEL_3c323778e5cc4d16b8c816e373eccd20",
      "placeholder": "​",
      "style": "IPY_MODEL_3a04f72e45e84b0ba57a337b8b93dbf7",
      "value": " 97.8M/97.8M [00:45&lt;00:00, 2.27MB/s]"
     }
    },
    "88c022b2c46543b7b86afbec0249e93d": {
     "model_module": "@jupyter-widgets/controls",
     "model_name": "ProgressStyleModel",
     "state": {
      "_model_module": "@jupyter-widgets/controls",
      "_model_module_version": "1.5.0",
      "_model_name": "ProgressStyleModel",
      "_view_count": null,
      "_view_module": "@jupyter-widgets/base",
      "_view_module_version": "1.2.0",
      "_view_name": "StyleView",
      "bar_color": null,
      "description_width": "initial"
     }
    },
    "89898ef79695436ea1e41752a53630b2": {
     "model_module": "@jupyter-widgets/base",
     "model_name": "LayoutModel",
     "state": {
      "_model_module": "@jupyter-widgets/base",
      "_model_module_version": "1.2.0",
      "_model_name": "LayoutModel",
      "_view_count": null,
      "_view_module": "@jupyter-widgets/base",
      "_view_module_version": "1.2.0",
      "_view_name": "LayoutView",
      "align_content": null,
      "align_items": null,
      "align_self": null,
      "border": null,
      "bottom": null,
      "display": null,
      "flex": null,
      "flex_flow": null,
      "grid_area": null,
      "grid_auto_columns": null,
      "grid_auto_flow": null,
      "grid_auto_rows": null,
      "grid_column": null,
      "grid_gap": null,
      "grid_row": null,
      "grid_template_areas": null,
      "grid_template_columns": null,
      "grid_template_rows": null,
      "height": null,
      "justify_content": null,
      "justify_items": null,
      "left": null,
      "margin": null,
      "max_height": null,
      "max_width": null,
      "min_height": null,
      "min_width": null,
      "object_fit": null,
      "object_position": null,
      "order": null,
      "overflow": null,
      "overflow_x": null,
      "overflow_y": null,
      "padding": null,
      "right": null,
      "top": null,
      "visibility": null,
      "width": null
     }
    },
    "8bb465a453d949bdaf044d59714c5624": {
     "model_module": "@jupyter-widgets/controls",
     "model_name": "ProgressStyleModel",
     "state": {
      "_model_module": "@jupyter-widgets/controls",
      "_model_module_version": "1.5.0",
      "_model_name": "ProgressStyleModel",
      "_view_count": null,
      "_view_module": "@jupyter-widgets/base",
      "_view_module_version": "1.2.0",
      "_view_name": "StyleView",
      "bar_color": null,
      "description_width": "initial"
     }
    },
    "8bd2d573cf304180a0d96cc2e160c19c": {
     "model_module": "@jupyter-widgets/controls",
     "model_name": "HBoxModel",
     "state": {
      "_dom_classes": [],
      "_model_module": "@jupyter-widgets/controls",
      "_model_module_version": "1.5.0",
      "_model_name": "HBoxModel",
      "_view_count": null,
      "_view_module": "@jupyter-widgets/controls",
      "_view_module_version": "1.5.0",
      "_view_name": "HBoxView",
      "box_style": "",
      "children": [
       "IPY_MODEL_ef2c735efb3349bdbecf0321628859e9",
       "IPY_MODEL_5aeb47c6d5ca4346b790f58422cf791d"
      ],
      "layout": "IPY_MODEL_8260dbda86ab430b9805b532d5c1b237"
     }
    },
    "8d4f2cb542c24f87b8bdc1effe36221e": {
     "model_module": "@jupyter-widgets/controls",
     "model_name": "DescriptionStyleModel",
     "state": {
      "_model_module": "@jupyter-widgets/controls",
      "_model_module_version": "1.5.0",
      "_model_name": "DescriptionStyleModel",
      "_view_count": null,
      "_view_module": "@jupyter-widgets/base",
      "_view_module_version": "1.2.0",
      "_view_name": "StyleView",
      "description_width": ""
     }
    },
    "8da47c8ec0754542805233a8f51d5829": {
     "model_module": "@jupyter-widgets/controls",
     "model_name": "FloatProgressModel",
     "state": {
      "_dom_classes": [],
      "_model_module": "@jupyter-widgets/controls",
      "_model_module_version": "1.5.0",
      "_model_name": "FloatProgressModel",
      "_view_count": null,
      "_view_module": "@jupyter-widgets/controls",
      "_view_module_version": "1.5.0",
      "_view_name": "ProgressView",
      "bar_style": "success",
      "description": "100%",
      "description_tooltip": null,
      "layout": "IPY_MODEL_043e38c1865b44e68298df3aeac5e679",
      "max": 119,
      "min": 0,
      "orientation": "horizontal",
      "style": "IPY_MODEL_3abb823039d1471b9c49db7bc7a0647a",
      "value": 119
     }
    },
    "8e91792028a84d069150f2a39b1637af": {
     "model_module": "@jupyter-widgets/base",
     "model_name": "LayoutModel",
     "state": {
      "_model_module": "@jupyter-widgets/base",
      "_model_module_version": "1.2.0",
      "_model_name": "LayoutModel",
      "_view_count": null,
      "_view_module": "@jupyter-widgets/base",
      "_view_module_version": "1.2.0",
      "_view_name": "LayoutView",
      "align_content": null,
      "align_items": null,
      "align_self": null,
      "border": null,
      "bottom": null,
      "display": null,
      "flex": null,
      "flex_flow": null,
      "grid_area": null,
      "grid_auto_columns": null,
      "grid_auto_flow": null,
      "grid_auto_rows": null,
      "grid_column": null,
      "grid_gap": null,
      "grid_row": null,
      "grid_template_areas": null,
      "grid_template_columns": null,
      "grid_template_rows": null,
      "height": null,
      "justify_content": null,
      "justify_items": null,
      "left": null,
      "margin": null,
      "max_height": null,
      "max_width": null,
      "min_height": null,
      "min_width": null,
      "object_fit": null,
      "object_position": null,
      "order": null,
      "overflow": null,
      "overflow_x": null,
      "overflow_y": null,
      "padding": null,
      "right": null,
      "top": null,
      "visibility": null,
      "width": null
     }
    },
    "8f5fb70480b746f09661c2a8037986fc": {
     "model_module": "@jupyter-widgets/controls",
     "model_name": "ProgressStyleModel",
     "state": {
      "_model_module": "@jupyter-widgets/controls",
      "_model_module_version": "1.5.0",
      "_model_name": "ProgressStyleModel",
      "_view_count": null,
      "_view_module": "@jupyter-widgets/base",
      "_view_module_version": "1.2.0",
      "_view_name": "StyleView",
      "bar_color": null,
      "description_width": "initial"
     }
    },
    "90908064154143ee94ce593d77c6b8a9": {
     "model_module": "@jupyter-widgets/controls",
     "model_name": "DescriptionStyleModel",
     "state": {
      "_model_module": "@jupyter-widgets/controls",
      "_model_module_version": "1.5.0",
      "_model_name": "DescriptionStyleModel",
      "_view_count": null,
      "_view_module": "@jupyter-widgets/base",
      "_view_module_version": "1.2.0",
      "_view_name": "StyleView",
      "description_width": ""
     }
    },
    "91179d60beb04bc79d4706dfb06dc7f1": {
     "model_module": "@jupyter-widgets/controls",
     "model_name": "ProgressStyleModel",
     "state": {
      "_model_module": "@jupyter-widgets/controls",
      "_model_module_version": "1.5.0",
      "_model_name": "ProgressStyleModel",
      "_view_count": null,
      "_view_module": "@jupyter-widgets/base",
      "_view_module_version": "1.2.0",
      "_view_name": "StyleView",
      "bar_color": null,
      "description_width": "initial"
     }
    },
    "9134affc72d54f98ba74a5a0c2d6a7ac": {
     "model_module": "@jupyter-widgets/controls",
     "model_name": "ProgressStyleModel",
     "state": {
      "_model_module": "@jupyter-widgets/controls",
      "_model_module_version": "1.5.0",
      "_model_name": "ProgressStyleModel",
      "_view_count": null,
      "_view_module": "@jupyter-widgets/base",
      "_view_module_version": "1.2.0",
      "_view_name": "StyleView",
      "bar_color": null,
      "description_width": "initial"
     }
    },
    "93424dc5a78943f5ae098d3ac66becf1": {
     "model_module": "@jupyter-widgets/base",
     "model_name": "LayoutModel",
     "state": {
      "_model_module": "@jupyter-widgets/base",
      "_model_module_version": "1.2.0",
      "_model_name": "LayoutModel",
      "_view_count": null,
      "_view_module": "@jupyter-widgets/base",
      "_view_module_version": "1.2.0",
      "_view_name": "LayoutView",
      "align_content": null,
      "align_items": null,
      "align_self": null,
      "border": null,
      "bottom": null,
      "display": null,
      "flex": null,
      "flex_flow": null,
      "grid_area": null,
      "grid_auto_columns": null,
      "grid_auto_flow": null,
      "grid_auto_rows": null,
      "grid_column": null,
      "grid_gap": null,
      "grid_row": null,
      "grid_template_areas": null,
      "grid_template_columns": null,
      "grid_template_rows": null,
      "height": null,
      "justify_content": null,
      "justify_items": null,
      "left": null,
      "margin": null,
      "max_height": null,
      "max_width": null,
      "min_height": null,
      "min_width": null,
      "object_fit": null,
      "object_position": null,
      "order": null,
      "overflow": null,
      "overflow_x": null,
      "overflow_y": null,
      "padding": null,
      "right": null,
      "top": null,
      "visibility": null,
      "width": null
     }
    },
    "9380a362fa384c798c3f87c4a7515d1e": {
     "model_module": "@jupyter-widgets/controls",
     "model_name": "FloatProgressModel",
     "state": {
      "_dom_classes": [],
      "_model_module": "@jupyter-widgets/controls",
      "_model_module_version": "1.5.0",
      "_model_name": "FloatProgressModel",
      "_view_count": null,
      "_view_module": "@jupyter-widgets/controls",
      "_view_module_version": "1.5.0",
      "_view_name": "ProgressView",
      "bar_style": "success",
      "description": "100%",
      "description_tooltip": null,
      "layout": "IPY_MODEL_1ea1b65efabf49dd8766c48dd6854830",
      "max": 119,
      "min": 0,
      "orientation": "horizontal",
      "style": "IPY_MODEL_67dcbfca1f964b47b7327f9d29c2fc8e",
      "value": 119
     }
    },
    "944b9032be88415881adcb3aa4bb4768": {
     "model_module": "@jupyter-widgets/base",
     "model_name": "LayoutModel",
     "state": {
      "_model_module": "@jupyter-widgets/base",
      "_model_module_version": "1.2.0",
      "_model_name": "LayoutModel",
      "_view_count": null,
      "_view_module": "@jupyter-widgets/base",
      "_view_module_version": "1.2.0",
      "_view_name": "LayoutView",
      "align_content": null,
      "align_items": null,
      "align_self": null,
      "border": null,
      "bottom": null,
      "display": null,
      "flex": null,
      "flex_flow": null,
      "grid_area": null,
      "grid_auto_columns": null,
      "grid_auto_flow": null,
      "grid_auto_rows": null,
      "grid_column": null,
      "grid_gap": null,
      "grid_row": null,
      "grid_template_areas": null,
      "grid_template_columns": null,
      "grid_template_rows": null,
      "height": null,
      "justify_content": null,
      "justify_items": null,
      "left": null,
      "margin": null,
      "max_height": null,
      "max_width": null,
      "min_height": null,
      "min_width": null,
      "object_fit": null,
      "object_position": null,
      "order": null,
      "overflow": null,
      "overflow_x": null,
      "overflow_y": null,
      "padding": null,
      "right": null,
      "top": null,
      "visibility": null,
      "width": null
     }
    },
    "9485d3dfa9b74870982cec1f0f4549b5": {
     "model_module": "@jupyter-widgets/controls",
     "model_name": "HTMLModel",
     "state": {
      "_dom_classes": [],
      "_model_module": "@jupyter-widgets/controls",
      "_model_module_version": "1.5.0",
      "_model_name": "HTMLModel",
      "_view_count": null,
      "_view_module": "@jupyter-widgets/controls",
      "_view_module_version": "1.5.0",
      "_view_name": "HTMLView",
      "description": "",
      "description_tooltip": null,
      "layout": "IPY_MODEL_f616d08eb52846698e97c118e6d6bd50",
      "placeholder": "​",
      "style": "IPY_MODEL_3dcf163396c64aca81860b3c0a1d133a",
      "value": " 60/60 [01:27&lt;00:00,  1.45s/it]"
     }
    },
    "949d2c1aa1ea48819c5af7a32472d74b": {
     "model_module": "@jupyter-widgets/controls",
     "model_name": "HTMLModel",
     "state": {
      "_dom_classes": [],
      "_model_module": "@jupyter-widgets/controls",
      "_model_module_version": "1.5.0",
      "_model_name": "HTMLModel",
      "_view_count": null,
      "_view_module": "@jupyter-widgets/controls",
      "_view_module_version": "1.5.0",
      "_view_name": "HTMLView",
      "description": "",
      "description_tooltip": null,
      "layout": "IPY_MODEL_ff2fcc2f3f2342a0a4668ff5e1a7ca96",
      "placeholder": "​",
      "style": "IPY_MODEL_f023c12a91854a6f8baae60c9d1e5957",
      "value": " 119/119 [00:43&lt;00:00,  2.71it/s]"
     }
    },
    "94f51c7880084beab5ef9b5ae12d2f42": {
     "model_module": "@jupyter-widgets/base",
     "model_name": "LayoutModel",
     "state": {
      "_model_module": "@jupyter-widgets/base",
      "_model_module_version": "1.2.0",
      "_model_name": "LayoutModel",
      "_view_count": null,
      "_view_module": "@jupyter-widgets/base",
      "_view_module_version": "1.2.0",
      "_view_name": "LayoutView",
      "align_content": null,
      "align_items": null,
      "align_self": null,
      "border": null,
      "bottom": null,
      "display": null,
      "flex": null,
      "flex_flow": null,
      "grid_area": null,
      "grid_auto_columns": null,
      "grid_auto_flow": null,
      "grid_auto_rows": null,
      "grid_column": null,
      "grid_gap": null,
      "grid_row": null,
      "grid_template_areas": null,
      "grid_template_columns": null,
      "grid_template_rows": null,
      "height": null,
      "justify_content": null,
      "justify_items": null,
      "left": null,
      "margin": null,
      "max_height": null,
      "max_width": null,
      "min_height": null,
      "min_width": null,
      "object_fit": null,
      "object_position": null,
      "order": null,
      "overflow": null,
      "overflow_x": null,
      "overflow_y": null,
      "padding": null,
      "right": null,
      "top": null,
      "visibility": null,
      "width": null
     }
    },
    "9587e6d699ef4a32aeb1bbb8a5e58a2f": {
     "model_module": "@jupyter-widgets/controls",
     "model_name": "HTMLModel",
     "state": {
      "_dom_classes": [],
      "_model_module": "@jupyter-widgets/controls",
      "_model_module_version": "1.5.0",
      "_model_name": "HTMLModel",
      "_view_count": null,
      "_view_module": "@jupyter-widgets/controls",
      "_view_module_version": "1.5.0",
      "_view_name": "HTMLView",
      "description": "",
      "description_tooltip": null,
      "layout": "IPY_MODEL_e0208a9b1f7f49de89f0133b404231f2",
      "placeholder": "​",
      "style": "IPY_MODEL_5f24b74b3453414db9597c47c80fb21a",
      "value": " 60/60 [00:42&lt;00:00,  1.40it/s]"
     }
    },
    "95d33d2b4a694d4f83fbc36d3cd6e2aa": {
     "model_module": "@jupyter-widgets/base",
     "model_name": "LayoutModel",
     "state": {
      "_model_module": "@jupyter-widgets/base",
      "_model_module_version": "1.2.0",
      "_model_name": "LayoutModel",
      "_view_count": null,
      "_view_module": "@jupyter-widgets/base",
      "_view_module_version": "1.2.0",
      "_view_name": "LayoutView",
      "align_content": null,
      "align_items": null,
      "align_self": null,
      "border": null,
      "bottom": null,
      "display": null,
      "flex": null,
      "flex_flow": null,
      "grid_area": null,
      "grid_auto_columns": null,
      "grid_auto_flow": null,
      "grid_auto_rows": null,
      "grid_column": null,
      "grid_gap": null,
      "grid_row": null,
      "grid_template_areas": null,
      "grid_template_columns": null,
      "grid_template_rows": null,
      "height": null,
      "justify_content": null,
      "justify_items": null,
      "left": null,
      "margin": null,
      "max_height": null,
      "max_width": null,
      "min_height": null,
      "min_width": null,
      "object_fit": null,
      "object_position": null,
      "order": null,
      "overflow": null,
      "overflow_x": null,
      "overflow_y": null,
      "padding": null,
      "right": null,
      "top": null,
      "visibility": null,
      "width": null
     }
    },
    "97a1e6d5d5394262916810c2943720be": {
     "model_module": "@jupyter-widgets/controls",
     "model_name": "FloatProgressModel",
     "state": {
      "_dom_classes": [],
      "_model_module": "@jupyter-widgets/controls",
      "_model_module_version": "1.5.0",
      "_model_name": "FloatProgressModel",
      "_view_count": null,
      "_view_module": "@jupyter-widgets/controls",
      "_view_module_version": "1.5.0",
      "_view_name": "ProgressView",
      "bar_style": "success",
      "description": "100%",
      "description_tooltip": null,
      "layout": "IPY_MODEL_73594c3203c54e9fac21d1c15da07a3c",
      "max": 60,
      "min": 0,
      "orientation": "horizontal",
      "style": "IPY_MODEL_3058c7848be749278723ba16c09dbb34",
      "value": 60
     }
    },
    "98b8765dd97d4c3c8ce7de3e87c6eecf": {
     "model_module": "@jupyter-widgets/controls",
     "model_name": "HTMLModel",
     "state": {
      "_dom_classes": [],
      "_model_module": "@jupyter-widgets/controls",
      "_model_module_version": "1.5.0",
      "_model_name": "HTMLModel",
      "_view_count": null,
      "_view_module": "@jupyter-widgets/controls",
      "_view_module_version": "1.5.0",
      "_view_name": "HTMLView",
      "description": "",
      "description_tooltip": null,
      "layout": "IPY_MODEL_ec4fab2fcc694d9bb4583227697ed9c4",
      "placeholder": "​",
      "style": "IPY_MODEL_303c2b113c424690a6aefe9fdf65e6a0",
      "value": " 60/60 [01:45&lt;00:00,  1.76s/it]"
     }
    },
    "997d170dd2a44ca89cd7e1e52f2d029c": {
     "model_module": "@jupyter-widgets/controls",
     "model_name": "HBoxModel",
     "state": {
      "_dom_classes": [],
      "_model_module": "@jupyter-widgets/controls",
      "_model_module_version": "1.5.0",
      "_model_name": "HBoxModel",
      "_view_count": null,
      "_view_module": "@jupyter-widgets/controls",
      "_view_module_version": "1.5.0",
      "_view_name": "HBoxView",
      "box_style": "",
      "children": [
       "IPY_MODEL_97a1e6d5d5394262916810c2943720be",
       "IPY_MODEL_9587e6d699ef4a32aeb1bbb8a5e58a2f"
      ],
      "layout": "IPY_MODEL_edd677d54c1a41e790fc972503620174"
     }
    },
    "9ab03f183de8435cb759c282c83b6abc": {
     "model_module": "@jupyter-widgets/controls",
     "model_name": "HTMLModel",
     "state": {
      "_dom_classes": [],
      "_model_module": "@jupyter-widgets/controls",
      "_model_module_version": "1.5.0",
      "_model_name": "HTMLModel",
      "_view_count": null,
      "_view_module": "@jupyter-widgets/controls",
      "_view_module_version": "1.5.0",
      "_view_name": "HTMLView",
      "description": "",
      "description_tooltip": null,
      "layout": "IPY_MODEL_7dc7ee10137f40dca547b318f332fae5",
      "placeholder": "​",
      "style": "IPY_MODEL_573ede3af7634e3e98cc68349bf83cdf",
      "value": " 19003/19003 [00:04&lt;00:00, 3838.18it/s]"
     }
    },
    "9addf9ace4464aeabd228f4c2e383ab9": {
     "model_module": "@jupyter-widgets/base",
     "model_name": "LayoutModel",
     "state": {
      "_model_module": "@jupyter-widgets/base",
      "_model_module_version": "1.2.0",
      "_model_name": "LayoutModel",
      "_view_count": null,
      "_view_module": "@jupyter-widgets/base",
      "_view_module_version": "1.2.0",
      "_view_name": "LayoutView",
      "align_content": null,
      "align_items": null,
      "align_self": null,
      "border": null,
      "bottom": null,
      "display": null,
      "flex": null,
      "flex_flow": null,
      "grid_area": null,
      "grid_auto_columns": null,
      "grid_auto_flow": null,
      "grid_auto_rows": null,
      "grid_column": null,
      "grid_gap": null,
      "grid_row": null,
      "grid_template_areas": null,
      "grid_template_columns": null,
      "grid_template_rows": null,
      "height": null,
      "justify_content": null,
      "justify_items": null,
      "left": null,
      "margin": null,
      "max_height": null,
      "max_width": null,
      "min_height": null,
      "min_width": null,
      "object_fit": null,
      "object_position": null,
      "order": null,
      "overflow": null,
      "overflow_x": null,
      "overflow_y": null,
      "padding": null,
      "right": null,
      "top": null,
      "visibility": null,
      "width": null
     }
    },
    "9b5bddbac1a14970a03ab928cea4d476": {
     "model_module": "@jupyter-widgets/controls",
     "model_name": "HTMLModel",
     "state": {
      "_dom_classes": [],
      "_model_module": "@jupyter-widgets/controls",
      "_model_module_version": "1.5.0",
      "_model_name": "HTMLModel",
      "_view_count": null,
      "_view_module": "@jupyter-widgets/controls",
      "_view_module_version": "1.5.0",
      "_view_name": "HTMLView",
      "description": "",
      "description_tooltip": null,
      "layout": "IPY_MODEL_f746860c77414fbe9d3f525f1bbd4179",
      "placeholder": "​",
      "style": "IPY_MODEL_e6f73f148b5e4830aa854b6f37173058",
      "value": " 60/60 [01:26&lt;00:00,  1.45s/it]"
     }
    },
    "9ce40aec42ea408da86190c4a2d940cb": {
     "model_module": "@jupyter-widgets/controls",
     "model_name": "ProgressStyleModel",
     "state": {
      "_model_module": "@jupyter-widgets/controls",
      "_model_module_version": "1.5.0",
      "_model_name": "ProgressStyleModel",
      "_view_count": null,
      "_view_module": "@jupyter-widgets/base",
      "_view_module_version": "1.2.0",
      "_view_name": "StyleView",
      "bar_color": null,
      "description_width": "initial"
     }
    },
    "9e2f5358344b4705b60e21894470d1a0": {
     "model_module": "@jupyter-widgets/controls",
     "model_name": "HBoxModel",
     "state": {
      "_dom_classes": [],
      "_model_module": "@jupyter-widgets/controls",
      "_model_module_version": "1.5.0",
      "_model_name": "HBoxModel",
      "_view_count": null,
      "_view_module": "@jupyter-widgets/controls",
      "_view_module_version": "1.5.0",
      "_view_name": "HBoxView",
      "box_style": "",
      "children": [
       "IPY_MODEL_c0c8e6c71ee04b798c7bc3626166f18e",
       "IPY_MODEL_1117c2b0d6954a8d98d57294daaabca1"
      ],
      "layout": "IPY_MODEL_93424dc5a78943f5ae098d3ac66becf1"
     }
    },
    "9f69fa91950b497eb6af919e2dee8dd9": {
     "model_module": "@jupyter-widgets/controls",
     "model_name": "HTMLModel",
     "state": {
      "_dom_classes": [],
      "_model_module": "@jupyter-widgets/controls",
      "_model_module_version": "1.5.0",
      "_model_name": "HTMLModel",
      "_view_count": null,
      "_view_module": "@jupyter-widgets/controls",
      "_view_module_version": "1.5.0",
      "_view_name": "HTMLView",
      "description": "",
      "description_tooltip": null,
      "layout": "IPY_MODEL_cc7fe89fc5364bf59d0b31b426d5db2b",
      "placeholder": "​",
      "style": "IPY_MODEL_3cc48c8b902e471d9f8d3fa4cf86a8b3",
      "value": " 60/60 [00:42&lt;00:00,  1.40it/s]"
     }
    },
    "a222ff49e9d845c08be3faed25ddceca": {
     "model_module": "@jupyter-widgets/controls",
     "model_name": "FloatProgressModel",
     "state": {
      "_dom_classes": [],
      "_model_module": "@jupyter-widgets/controls",
      "_model_module_version": "1.5.0",
      "_model_name": "FloatProgressModel",
      "_view_count": null,
      "_view_module": "@jupyter-widgets/controls",
      "_view_module_version": "1.5.0",
      "_view_name": "ProgressView",
      "bar_style": "success",
      "description": "100%",
      "description_tooltip": null,
      "layout": "IPY_MODEL_f1179f88e37a4a30975ef356e9ce4463",
      "max": 60,
      "min": 0,
      "orientation": "horizontal",
      "style": "IPY_MODEL_a26cdb5f31634834ac24397b1856f669",
      "value": 60
     }
    },
    "a26cdb5f31634834ac24397b1856f669": {
     "model_module": "@jupyter-widgets/controls",
     "model_name": "ProgressStyleModel",
     "state": {
      "_model_module": "@jupyter-widgets/controls",
      "_model_module_version": "1.5.0",
      "_model_name": "ProgressStyleModel",
      "_view_count": null,
      "_view_module": "@jupyter-widgets/base",
      "_view_module_version": "1.2.0",
      "_view_name": "StyleView",
      "bar_color": null,
      "description_width": "initial"
     }
    },
    "a47408b99890452f9fe392011a3dee7d": {
     "model_module": "@jupyter-widgets/controls",
     "model_name": "DescriptionStyleModel",
     "state": {
      "_model_module": "@jupyter-widgets/controls",
      "_model_module_version": "1.5.0",
      "_model_name": "DescriptionStyleModel",
      "_view_count": null,
      "_view_module": "@jupyter-widgets/base",
      "_view_module_version": "1.2.0",
      "_view_name": "StyleView",
      "description_width": ""
     }
    },
    "a5e497d4ac074f8f96a1af76c5ba40cc": {
     "model_module": "@jupyter-widgets/base",
     "model_name": "LayoutModel",
     "state": {
      "_model_module": "@jupyter-widgets/base",
      "_model_module_version": "1.2.0",
      "_model_name": "LayoutModel",
      "_view_count": null,
      "_view_module": "@jupyter-widgets/base",
      "_view_module_version": "1.2.0",
      "_view_name": "LayoutView",
      "align_content": null,
      "align_items": null,
      "align_self": null,
      "border": null,
      "bottom": null,
      "display": null,
      "flex": null,
      "flex_flow": null,
      "grid_area": null,
      "grid_auto_columns": null,
      "grid_auto_flow": null,
      "grid_auto_rows": null,
      "grid_column": null,
      "grid_gap": null,
      "grid_row": null,
      "grid_template_areas": null,
      "grid_template_columns": null,
      "grid_template_rows": null,
      "height": null,
      "justify_content": null,
      "justify_items": null,
      "left": null,
      "margin": null,
      "max_height": null,
      "max_width": null,
      "min_height": null,
      "min_width": null,
      "object_fit": null,
      "object_position": null,
      "order": null,
      "overflow": null,
      "overflow_x": null,
      "overflow_y": null,
      "padding": null,
      "right": null,
      "top": null,
      "visibility": null,
      "width": null
     }
    },
    "a69c02cf64c64e42af1cf54a30418fa8": {
     "model_module": "@jupyter-widgets/controls",
     "model_name": "ProgressStyleModel",
     "state": {
      "_model_module": "@jupyter-widgets/controls",
      "_model_module_version": "1.5.0",
      "_model_name": "ProgressStyleModel",
      "_view_count": null,
      "_view_module": "@jupyter-widgets/base",
      "_view_module_version": "1.2.0",
      "_view_name": "StyleView",
      "bar_color": null,
      "description_width": "initial"
     }
    },
    "a724962c0f264b6fa4a85b1fd65e33d6": {
     "model_module": "@jupyter-widgets/controls",
     "model_name": "FloatProgressModel",
     "state": {
      "_dom_classes": [],
      "_model_module": "@jupyter-widgets/controls",
      "_model_module_version": "1.5.0",
      "_model_name": "FloatProgressModel",
      "_view_count": null,
      "_view_module": "@jupyter-widgets/controls",
      "_view_module_version": "1.5.0",
      "_view_name": "ProgressView",
      "bar_style": "success",
      "description": "PETA-New.zip: 100%",
      "description_tooltip": null,
      "layout": "IPY_MODEL_7fa6bc4cfba44f5b83199922d22dd033",
      "max": 19003,
      "min": 0,
      "orientation": "horizontal",
      "style": "IPY_MODEL_0f73dba64cb14df2ae9f506718c7981b",
      "value": 19003
     }
    },
    "a87a91d1284d4334a91841b373be772b": {
     "model_module": "@jupyter-widgets/controls",
     "model_name": "FloatProgressModel",
     "state": {
      "_dom_classes": [],
      "_model_module": "@jupyter-widgets/controls",
      "_model_module_version": "1.5.0",
      "_model_name": "FloatProgressModel",
      "_view_count": null,
      "_view_module": "@jupyter-widgets/controls",
      "_view_module_version": "1.5.0",
      "_view_name": "ProgressView",
      "bar_style": "success",
      "description": "100%",
      "description_tooltip": null,
      "layout": "IPY_MODEL_eb1b4cdb876f48faa56626cc8e81a82b",
      "max": 60,
      "min": 0,
      "orientation": "horizontal",
      "style": "IPY_MODEL_31b74a03519d4e40b6a35d37696087b9",
      "value": 60
     }
    },
    "a8af3d6de7754dd7838366c4cda5dac3": {
     "model_module": "@jupyter-widgets/controls",
     "model_name": "HBoxModel",
     "state": {
      "_dom_classes": [],
      "_model_module": "@jupyter-widgets/controls",
      "_model_module_version": "1.5.0",
      "_model_name": "HBoxModel",
      "_view_count": null,
      "_view_module": "@jupyter-widgets/controls",
      "_view_module_version": "1.5.0",
      "_view_name": "HBoxView",
      "box_style": "",
      "children": [
       "IPY_MODEL_e9bdd11e3e3341069fe002aa987e74c1",
       "IPY_MODEL_bd0b415d23a5429a8e847c9cd34abef6"
      ],
      "layout": "IPY_MODEL_48db4aab25b1431a8a88d91ef18a263c"
     }
    },
    "aaac1e0ea0e249858a71d4052c2b0865": {
     "model_module": "@jupyter-widgets/controls",
     "model_name": "HBoxModel",
     "state": {
      "_dom_classes": [],
      "_model_module": "@jupyter-widgets/controls",
      "_model_module_version": "1.5.0",
      "_model_name": "HBoxModel",
      "_view_count": null,
      "_view_module": "@jupyter-widgets/controls",
      "_view_module_version": "1.5.0",
      "_view_name": "HBoxView",
      "box_style": "",
      "children": [
       "IPY_MODEL_9380a362fa384c798c3f87c4a7515d1e",
       "IPY_MODEL_0260417727044b87a7a1a4fc1629d24b"
      ],
      "layout": "IPY_MODEL_34ef35bb426949708efefec75629529f"
     }
    },
    "ab660492502f4da09c9ff9acf72660bd": {
     "model_module": "@jupyter-widgets/controls",
     "model_name": "ProgressStyleModel",
     "state": {
      "_model_module": "@jupyter-widgets/controls",
      "_model_module_version": "1.5.0",
      "_model_name": "ProgressStyleModel",
      "_view_count": null,
      "_view_module": "@jupyter-widgets/base",
      "_view_module_version": "1.2.0",
      "_view_name": "StyleView",
      "bar_color": null,
      "description_width": "initial"
     }
    },
    "ab93c51861814bc6816d83f5d08a1ffa": {
     "model_module": "@jupyter-widgets/base",
     "model_name": "LayoutModel",
     "state": {
      "_model_module": "@jupyter-widgets/base",
      "_model_module_version": "1.2.0",
      "_model_name": "LayoutModel",
      "_view_count": null,
      "_view_module": "@jupyter-widgets/base",
      "_view_module_version": "1.2.0",
      "_view_name": "LayoutView",
      "align_content": null,
      "align_items": null,
      "align_self": null,
      "border": null,
      "bottom": null,
      "display": null,
      "flex": null,
      "flex_flow": null,
      "grid_area": null,
      "grid_auto_columns": null,
      "grid_auto_flow": null,
      "grid_auto_rows": null,
      "grid_column": null,
      "grid_gap": null,
      "grid_row": null,
      "grid_template_areas": null,
      "grid_template_columns": null,
      "grid_template_rows": null,
      "height": null,
      "justify_content": null,
      "justify_items": null,
      "left": null,
      "margin": null,
      "max_height": null,
      "max_width": null,
      "min_height": null,
      "min_width": null,
      "object_fit": null,
      "object_position": null,
      "order": null,
      "overflow": null,
      "overflow_x": null,
      "overflow_y": null,
      "padding": null,
      "right": null,
      "top": null,
      "visibility": null,
      "width": null
     }
    },
    "ad9042e7696e47cab71048254cc0d4cf": {
     "model_module": "@jupyter-widgets/base",
     "model_name": "LayoutModel",
     "state": {
      "_model_module": "@jupyter-widgets/base",
      "_model_module_version": "1.2.0",
      "_model_name": "LayoutModel",
      "_view_count": null,
      "_view_module": "@jupyter-widgets/base",
      "_view_module_version": "1.2.0",
      "_view_name": "LayoutView",
      "align_content": null,
      "align_items": null,
      "align_self": null,
      "border": null,
      "bottom": null,
      "display": null,
      "flex": null,
      "flex_flow": null,
      "grid_area": null,
      "grid_auto_columns": null,
      "grid_auto_flow": null,
      "grid_auto_rows": null,
      "grid_column": null,
      "grid_gap": null,
      "grid_row": null,
      "grid_template_areas": null,
      "grid_template_columns": null,
      "grid_template_rows": null,
      "height": null,
      "justify_content": null,
      "justify_items": null,
      "left": null,
      "margin": null,
      "max_height": null,
      "max_width": null,
      "min_height": null,
      "min_width": null,
      "object_fit": null,
      "object_position": null,
      "order": null,
      "overflow": null,
      "overflow_x": null,
      "overflow_y": null,
      "padding": null,
      "right": null,
      "top": null,
      "visibility": null,
      "width": null
     }
    },
    "ae1245487c284cc0a30786cc81ae2994": {
     "model_module": "@jupyter-widgets/base",
     "model_name": "LayoutModel",
     "state": {
      "_model_module": "@jupyter-widgets/base",
      "_model_module_version": "1.2.0",
      "_model_name": "LayoutModel",
      "_view_count": null,
      "_view_module": "@jupyter-widgets/base",
      "_view_module_version": "1.2.0",
      "_view_name": "LayoutView",
      "align_content": null,
      "align_items": null,
      "align_self": null,
      "border": null,
      "bottom": null,
      "display": null,
      "flex": null,
      "flex_flow": null,
      "grid_area": null,
      "grid_auto_columns": null,
      "grid_auto_flow": null,
      "grid_auto_rows": null,
      "grid_column": null,
      "grid_gap": null,
      "grid_row": null,
      "grid_template_areas": null,
      "grid_template_columns": null,
      "grid_template_rows": null,
      "height": null,
      "justify_content": null,
      "justify_items": null,
      "left": null,
      "margin": null,
      "max_height": null,
      "max_width": null,
      "min_height": null,
      "min_width": null,
      "object_fit": null,
      "object_position": null,
      "order": null,
      "overflow": null,
      "overflow_x": null,
      "overflow_y": null,
      "padding": null,
      "right": null,
      "top": null,
      "visibility": null,
      "width": null
     }
    },
    "ae8f214567e9452e8a48231226dc5846": {
     "model_module": "@jupyter-widgets/controls",
     "model_name": "HBoxModel",
     "state": {
      "_dom_classes": [],
      "_model_module": "@jupyter-widgets/controls",
      "_model_module_version": "1.5.0",
      "_model_name": "HBoxModel",
      "_view_count": null,
      "_view_module": "@jupyter-widgets/controls",
      "_view_module_version": "1.5.0",
      "_view_name": "HBoxView",
      "box_style": "",
      "children": [
       "IPY_MODEL_dcb48cef64cb4e679d7f216c483d29d2",
       "IPY_MODEL_9b5bddbac1a14970a03ab928cea4d476"
      ],
      "layout": "IPY_MODEL_89898ef79695436ea1e41752a53630b2"
     }
    },
    "afd09f9b64584f47aaf2d38483437c51": {
     "model_module": "@jupyter-widgets/base",
     "model_name": "LayoutModel",
     "state": {
      "_model_module": "@jupyter-widgets/base",
      "_model_module_version": "1.2.0",
      "_model_name": "LayoutModel",
      "_view_count": null,
      "_view_module": "@jupyter-widgets/base",
      "_view_module_version": "1.2.0",
      "_view_name": "LayoutView",
      "align_content": null,
      "align_items": null,
      "align_self": null,
      "border": null,
      "bottom": null,
      "display": null,
      "flex": null,
      "flex_flow": null,
      "grid_area": null,
      "grid_auto_columns": null,
      "grid_auto_flow": null,
      "grid_auto_rows": null,
      "grid_column": null,
      "grid_gap": null,
      "grid_row": null,
      "grid_template_areas": null,
      "grid_template_columns": null,
      "grid_template_rows": null,
      "height": null,
      "justify_content": null,
      "justify_items": null,
      "left": null,
      "margin": null,
      "max_height": null,
      "max_width": null,
      "min_height": null,
      "min_width": null,
      "object_fit": null,
      "object_position": null,
      "order": null,
      "overflow": null,
      "overflow_x": null,
      "overflow_y": null,
      "padding": null,
      "right": null,
      "top": null,
      "visibility": null,
      "width": null
     }
    },
    "b0294339de3949278ea1d9807fd4a9b3": {
     "model_module": "@jupyter-widgets/controls",
     "model_name": "ProgressStyleModel",
     "state": {
      "_model_module": "@jupyter-widgets/controls",
      "_model_module_version": "1.5.0",
      "_model_name": "ProgressStyleModel",
      "_view_count": null,
      "_view_module": "@jupyter-widgets/base",
      "_view_module_version": "1.2.0",
      "_view_name": "StyleView",
      "bar_color": null,
      "description_width": "initial"
     }
    },
    "b0504c1a4e4940a3a0d2a6b814b2463d": {
     "model_module": "@jupyter-widgets/controls",
     "model_name": "DescriptionStyleModel",
     "state": {
      "_model_module": "@jupyter-widgets/controls",
      "_model_module_version": "1.5.0",
      "_model_name": "DescriptionStyleModel",
      "_view_count": null,
      "_view_module": "@jupyter-widgets/base",
      "_view_module_version": "1.2.0",
      "_view_name": "StyleView",
      "description_width": ""
     }
    },
    "b0a5c587a7754d8ba6848de95ea5f9fa": {
     "model_module": "@jupyter-widgets/controls",
     "model_name": "HBoxModel",
     "state": {
      "_dom_classes": [],
      "_model_module": "@jupyter-widgets/controls",
      "_model_module_version": "1.5.0",
      "_model_name": "HBoxModel",
      "_view_count": null,
      "_view_module": "@jupyter-widgets/controls",
      "_view_module_version": "1.5.0",
      "_view_name": "HBoxView",
      "box_style": "",
      "children": [
       "IPY_MODEL_7b222c02f37d4f638d58b7644f833b90",
       "IPY_MODEL_b771abc0be7d48d7a38bda670a7095d8"
      ],
      "layout": "IPY_MODEL_dcccaf9d1f014cf39f3d63ab2b36aba3"
     }
    },
    "b380ad651f8743b5ab826ddd07bbbd5e": {
     "model_module": "@jupyter-widgets/base",
     "model_name": "LayoutModel",
     "state": {
      "_model_module": "@jupyter-widgets/base",
      "_model_module_version": "1.2.0",
      "_model_name": "LayoutModel",
      "_view_count": null,
      "_view_module": "@jupyter-widgets/base",
      "_view_module_version": "1.2.0",
      "_view_name": "LayoutView",
      "align_content": null,
      "align_items": null,
      "align_self": null,
      "border": null,
      "bottom": null,
      "display": null,
      "flex": null,
      "flex_flow": null,
      "grid_area": null,
      "grid_auto_columns": null,
      "grid_auto_flow": null,
      "grid_auto_rows": null,
      "grid_column": null,
      "grid_gap": null,
      "grid_row": null,
      "grid_template_areas": null,
      "grid_template_columns": null,
      "grid_template_rows": null,
      "height": null,
      "justify_content": null,
      "justify_items": null,
      "left": null,
      "margin": null,
      "max_height": null,
      "max_width": null,
      "min_height": null,
      "min_width": null,
      "object_fit": null,
      "object_position": null,
      "order": null,
      "overflow": null,
      "overflow_x": null,
      "overflow_y": null,
      "padding": null,
      "right": null,
      "top": null,
      "visibility": null,
      "width": null
     }
    },
    "b4b1f180af4b4d90b42769fc88068149": {
     "model_module": "@jupyter-widgets/controls",
     "model_name": "FloatProgressModel",
     "state": {
      "_dom_classes": [],
      "_model_module": "@jupyter-widgets/controls",
      "_model_module_version": "1.5.0",
      "_model_name": "FloatProgressModel",
      "_view_count": null,
      "_view_module": "@jupyter-widgets/controls",
      "_view_module_version": "1.5.0",
      "_view_name": "ProgressView",
      "bar_style": "success",
      "description": "100%",
      "description_tooltip": null,
      "layout": "IPY_MODEL_0ca7a60e94a14ec8936c8a0480ab8b13",
      "max": 119,
      "min": 0,
      "orientation": "horizontal",
      "style": "IPY_MODEL_f0b68beeb160491ba7430582cff5d9ca",
      "value": 119
     }
    },
    "b5b0726825fe422d8118c9bca9387f0d": {
     "model_module": "@jupyter-widgets/controls",
     "model_name": "HTMLModel",
     "state": {
      "_dom_classes": [],
      "_model_module": "@jupyter-widgets/controls",
      "_model_module_version": "1.5.0",
      "_model_name": "HTMLModel",
      "_view_count": null,
      "_view_module": "@jupyter-widgets/controls",
      "_view_module_version": "1.5.0",
      "_view_name": "HTMLView",
      "description": "",
      "description_tooltip": null,
      "layout": "IPY_MODEL_149274415bce4409849833117855b87f",
      "placeholder": "​",
      "style": "IPY_MODEL_deb24f8810e24b25b8fb2fefb57f1206",
      "value": " 60/60 [00:42&lt;00:00,  1.40it/s]"
     }
    },
    "b69b66bbec394f36a882349be5b47ca7": {
     "model_module": "@jupyter-widgets/controls",
     "model_name": "HBoxModel",
     "state": {
      "_dom_classes": [],
      "_model_module": "@jupyter-widgets/controls",
      "_model_module_version": "1.5.0",
      "_model_name": "HBoxModel",
      "_view_count": null,
      "_view_module": "@jupyter-widgets/controls",
      "_view_module_version": "1.5.0",
      "_view_name": "HBoxView",
      "box_style": "",
      "children": [
       "IPY_MODEL_e405e97b62dd42d8b75906cd30ce5020",
       "IPY_MODEL_dbf055fef0d14134beac60986e324852"
      ],
      "layout": "IPY_MODEL_066ccb733209486592382d9faa3a7189"
     }
    },
    "b771abc0be7d48d7a38bda670a7095d8": {
     "model_module": "@jupyter-widgets/controls",
     "model_name": "HTMLModel",
     "state": {
      "_dom_classes": [],
      "_model_module": "@jupyter-widgets/controls",
      "_model_module_version": "1.5.0",
      "_model_name": "HTMLModel",
      "_view_count": null,
      "_view_module": "@jupyter-widgets/controls",
      "_view_module_version": "1.5.0",
      "_view_name": "HTMLView",
      "description": "",
      "description_tooltip": null,
      "layout": "IPY_MODEL_0b43584a973f4a6583467f6f757d702c",
      "placeholder": "​",
      "style": "IPY_MODEL_eb363b94b0b6439391e384bb8eab3930",
      "value": " 60/60 [01:27&lt;00:00,  1.45s/it]"
     }
    },
    "babf422bf96e452eaaaf7042eb14bb86": {
     "model_module": "@jupyter-widgets/controls",
     "model_name": "HTMLModel",
     "state": {
      "_dom_classes": [],
      "_model_module": "@jupyter-widgets/controls",
      "_model_module_version": "1.5.0",
      "_model_name": "HTMLModel",
      "_view_count": null,
      "_view_module": "@jupyter-widgets/controls",
      "_view_module_version": "1.5.0",
      "_view_name": "HTMLView",
      "description": "",
      "description_tooltip": null,
      "layout": "IPY_MODEL_b380ad651f8743b5ab826ddd07bbbd5e",
      "placeholder": "​",
      "style": "IPY_MODEL_d2d2b9d3c4b34c038b947a13516caf37",
      "value": " 119/119 [00:45&lt;00:00,  2.60it/s]"
     }
    },
    "bd0b415d23a5429a8e847c9cd34abef6": {
     "model_module": "@jupyter-widgets/controls",
     "model_name": "HTMLModel",
     "state": {
      "_dom_classes": [],
      "_model_module": "@jupyter-widgets/controls",
      "_model_module_version": "1.5.0",
      "_model_name": "HTMLModel",
      "_view_count": null,
      "_view_module": "@jupyter-widgets/controls",
      "_view_module_version": "1.5.0",
      "_view_name": "HTMLView",
      "description": "",
      "description_tooltip": null,
      "layout": "IPY_MODEL_f8c6802bce5a43c69f1276d6d2e46df1",
      "placeholder": "​",
      "style": "IPY_MODEL_b0504c1a4e4940a3a0d2a6b814b2463d",
      "value": " 119/119 [01:28&lt;00:00,  1.35it/s]"
     }
    },
    "bd614a0740cb439dbefdaa1f0c92d9e9": {
     "model_module": "@jupyter-widgets/controls",
     "model_name": "ProgressStyleModel",
     "state": {
      "_model_module": "@jupyter-widgets/controls",
      "_model_module_version": "1.5.0",
      "_model_name": "ProgressStyleModel",
      "_view_count": null,
      "_view_module": "@jupyter-widgets/base",
      "_view_module_version": "1.2.0",
      "_view_name": "StyleView",
      "bar_color": null,
      "description_width": "initial"
     }
    },
    "bd953837c09143bebb29c435961035e2": {
     "model_module": "@jupyter-widgets/base",
     "model_name": "LayoutModel",
     "state": {
      "_model_module": "@jupyter-widgets/base",
      "_model_module_version": "1.2.0",
      "_model_name": "LayoutModel",
      "_view_count": null,
      "_view_module": "@jupyter-widgets/base",
      "_view_module_version": "1.2.0",
      "_view_name": "LayoutView",
      "align_content": null,
      "align_items": null,
      "align_self": null,
      "border": null,
      "bottom": null,
      "display": null,
      "flex": null,
      "flex_flow": null,
      "grid_area": null,
      "grid_auto_columns": null,
      "grid_auto_flow": null,
      "grid_auto_rows": null,
      "grid_column": null,
      "grid_gap": null,
      "grid_row": null,
      "grid_template_areas": null,
      "grid_template_columns": null,
      "grid_template_rows": null,
      "height": null,
      "justify_content": null,
      "justify_items": null,
      "left": null,
      "margin": null,
      "max_height": null,
      "max_width": null,
      "min_height": null,
      "min_width": null,
      "object_fit": null,
      "object_position": null,
      "order": null,
      "overflow": null,
      "overflow_x": null,
      "overflow_y": null,
      "padding": null,
      "right": null,
      "top": null,
      "visibility": null,
      "width": null
     }
    },
    "bd9db8630d68415c98439870592db308": {
     "model_module": "@jupyter-widgets/controls",
     "model_name": "DescriptionStyleModel",
     "state": {
      "_model_module": "@jupyter-widgets/controls",
      "_model_module_version": "1.5.0",
      "_model_name": "DescriptionStyleModel",
      "_view_count": null,
      "_view_module": "@jupyter-widgets/base",
      "_view_module_version": "1.2.0",
      "_view_name": "StyleView",
      "description_width": ""
     }
    },
    "bdc9d517451c47cfb52b2d8b4c573342": {
     "model_module": "@jupyter-widgets/controls",
     "model_name": "ProgressStyleModel",
     "state": {
      "_model_module": "@jupyter-widgets/controls",
      "_model_module_version": "1.5.0",
      "_model_name": "ProgressStyleModel",
      "_view_count": null,
      "_view_module": "@jupyter-widgets/base",
      "_view_module_version": "1.2.0",
      "_view_name": "StyleView",
      "bar_color": null,
      "description_width": "initial"
     }
    },
    "c0c8e6c71ee04b798c7bc3626166f18e": {
     "model_module": "@jupyter-widgets/controls",
     "model_name": "FloatProgressModel",
     "state": {
      "_dom_classes": [],
      "_model_module": "@jupyter-widgets/controls",
      "_model_module_version": "1.5.0",
      "_model_name": "FloatProgressModel",
      "_view_count": null,
      "_view_module": "@jupyter-widgets/controls",
      "_view_module_version": "1.5.0",
      "_view_name": "ProgressView",
      "bar_style": "success",
      "description": "100%",
      "description_tooltip": null,
      "layout": "IPY_MODEL_9addf9ace4464aeabd228f4c2e383ab9",
      "max": 60,
      "min": 0,
      "orientation": "horizontal",
      "style": "IPY_MODEL_6ca90521f74345ea8c9a3141b032c35b",
      "value": 60
     }
    },
    "c27a6b1c72d743428b954b18cd83be04": {
     "model_module": "@jupyter-widgets/base",
     "model_name": "LayoutModel",
     "state": {
      "_model_module": "@jupyter-widgets/base",
      "_model_module_version": "1.2.0",
      "_model_name": "LayoutModel",
      "_view_count": null,
      "_view_module": "@jupyter-widgets/base",
      "_view_module_version": "1.2.0",
      "_view_name": "LayoutView",
      "align_content": null,
      "align_items": null,
      "align_self": null,
      "border": null,
      "bottom": null,
      "display": null,
      "flex": null,
      "flex_flow": null,
      "grid_area": null,
      "grid_auto_columns": null,
      "grid_auto_flow": null,
      "grid_auto_rows": null,
      "grid_column": null,
      "grid_gap": null,
      "grid_row": null,
      "grid_template_areas": null,
      "grid_template_columns": null,
      "grid_template_rows": null,
      "height": null,
      "justify_content": null,
      "justify_items": null,
      "left": null,
      "margin": null,
      "max_height": null,
      "max_width": null,
      "min_height": null,
      "min_width": null,
      "object_fit": null,
      "object_position": null,
      "order": null,
      "overflow": null,
      "overflow_x": null,
      "overflow_y": null,
      "padding": null,
      "right": null,
      "top": null,
      "visibility": null,
      "width": null
     }
    },
    "c29470603a834c9c84d92d7fbed1b043": {
     "model_module": "@jupyter-widgets/controls",
     "model_name": "ProgressStyleModel",
     "state": {
      "_model_module": "@jupyter-widgets/controls",
      "_model_module_version": "1.5.0",
      "_model_name": "ProgressStyleModel",
      "_view_count": null,
      "_view_module": "@jupyter-widgets/base",
      "_view_module_version": "1.2.0",
      "_view_name": "StyleView",
      "bar_color": null,
      "description_width": "initial"
     }
    },
    "c2f0da5302f947d19561d58e9a79905c": {
     "model_module": "@jupyter-widgets/controls",
     "model_name": "DescriptionStyleModel",
     "state": {
      "_model_module": "@jupyter-widgets/controls",
      "_model_module_version": "1.5.0",
      "_model_name": "DescriptionStyleModel",
      "_view_count": null,
      "_view_module": "@jupyter-widgets/base",
      "_view_module_version": "1.2.0",
      "_view_name": "StyleView",
      "description_width": ""
     }
    },
    "c781fd3d141f4ab8beb6c4e78047143b": {
     "model_module": "@jupyter-widgets/base",
     "model_name": "LayoutModel",
     "state": {
      "_model_module": "@jupyter-widgets/base",
      "_model_module_version": "1.2.0",
      "_model_name": "LayoutModel",
      "_view_count": null,
      "_view_module": "@jupyter-widgets/base",
      "_view_module_version": "1.2.0",
      "_view_name": "LayoutView",
      "align_content": null,
      "align_items": null,
      "align_self": null,
      "border": null,
      "bottom": null,
      "display": null,
      "flex": null,
      "flex_flow": null,
      "grid_area": null,
      "grid_auto_columns": null,
      "grid_auto_flow": null,
      "grid_auto_rows": null,
      "grid_column": null,
      "grid_gap": null,
      "grid_row": null,
      "grid_template_areas": null,
      "grid_template_columns": null,
      "grid_template_rows": null,
      "height": null,
      "justify_content": null,
      "justify_items": null,
      "left": null,
      "margin": null,
      "max_height": null,
      "max_width": null,
      "min_height": null,
      "min_width": null,
      "object_fit": null,
      "object_position": null,
      "order": null,
      "overflow": null,
      "overflow_x": null,
      "overflow_y": null,
      "padding": null,
      "right": null,
      "top": null,
      "visibility": null,
      "width": null
     }
    },
    "c7df53c34c84465d98e7fef1485f5c75": {
     "model_module": "@jupyter-widgets/controls",
     "model_name": "ProgressStyleModel",
     "state": {
      "_model_module": "@jupyter-widgets/controls",
      "_model_module_version": "1.5.0",
      "_model_name": "ProgressStyleModel",
      "_view_count": null,
      "_view_module": "@jupyter-widgets/base",
      "_view_module_version": "1.2.0",
      "_view_name": "StyleView",
      "bar_color": null,
      "description_width": "initial"
     }
    },
    "c827d3974c71489c993b991ca57cadc0": {
     "model_module": "@jupyter-widgets/controls",
     "model_name": "DescriptionStyleModel",
     "state": {
      "_model_module": "@jupyter-widgets/controls",
      "_model_module_version": "1.5.0",
      "_model_name": "DescriptionStyleModel",
      "_view_count": null,
      "_view_module": "@jupyter-widgets/base",
      "_view_module_version": "1.2.0",
      "_view_name": "StyleView",
      "description_width": ""
     }
    },
    "c91b5ef3cb90463c838cf329c5bb33a0": {
     "model_module": "@jupyter-widgets/base",
     "model_name": "LayoutModel",
     "state": {
      "_model_module": "@jupyter-widgets/base",
      "_model_module_version": "1.2.0",
      "_model_name": "LayoutModel",
      "_view_count": null,
      "_view_module": "@jupyter-widgets/base",
      "_view_module_version": "1.2.0",
      "_view_name": "LayoutView",
      "align_content": null,
      "align_items": null,
      "align_self": null,
      "border": null,
      "bottom": null,
      "display": null,
      "flex": null,
      "flex_flow": null,
      "grid_area": null,
      "grid_auto_columns": null,
      "grid_auto_flow": null,
      "grid_auto_rows": null,
      "grid_column": null,
      "grid_gap": null,
      "grid_row": null,
      "grid_template_areas": null,
      "grid_template_columns": null,
      "grid_template_rows": null,
      "height": null,
      "justify_content": null,
      "justify_items": null,
      "left": null,
      "margin": null,
      "max_height": null,
      "max_width": null,
      "min_height": null,
      "min_width": null,
      "object_fit": null,
      "object_position": null,
      "order": null,
      "overflow": null,
      "overflow_x": null,
      "overflow_y": null,
      "padding": null,
      "right": null,
      "top": null,
      "visibility": null,
      "width": null
     }
    },
    "c9f58a16e791495ab213ea36612c69c4": {
     "model_module": "@jupyter-widgets/controls",
     "model_name": "HTMLModel",
     "state": {
      "_dom_classes": [],
      "_model_module": "@jupyter-widgets/controls",
      "_model_module_version": "1.5.0",
      "_model_name": "HTMLModel",
      "_view_count": null,
      "_view_module": "@jupyter-widgets/controls",
      "_view_module_version": "1.5.0",
      "_view_name": "HTMLView",
      "description": "",
      "description_tooltip": null,
      "layout": "IPY_MODEL_5cdae57953e94efe9c883994238283f3",
      "placeholder": "​",
      "style": "IPY_MODEL_c2f0da5302f947d19561d58e9a79905c",
      "value": " 60/60 [01:29&lt;00:00,  1.49s/it]"
     }
    },
    "cabb79e61b424432b3a51c72136c5208": {
     "model_module": "@jupyter-widgets/base",
     "model_name": "LayoutModel",
     "state": {
      "_model_module": "@jupyter-widgets/base",
      "_model_module_version": "1.2.0",
      "_model_name": "LayoutModel",
      "_view_count": null,
      "_view_module": "@jupyter-widgets/base",
      "_view_module_version": "1.2.0",
      "_view_name": "LayoutView",
      "align_content": null,
      "align_items": null,
      "align_self": null,
      "border": null,
      "bottom": null,
      "display": null,
      "flex": null,
      "flex_flow": null,
      "grid_area": null,
      "grid_auto_columns": null,
      "grid_auto_flow": null,
      "grid_auto_rows": null,
      "grid_column": null,
      "grid_gap": null,
      "grid_row": null,
      "grid_template_areas": null,
      "grid_template_columns": null,
      "grid_template_rows": null,
      "height": null,
      "justify_content": null,
      "justify_items": null,
      "left": null,
      "margin": null,
      "max_height": null,
      "max_width": null,
      "min_height": null,
      "min_width": null,
      "object_fit": null,
      "object_position": null,
      "order": null,
      "overflow": null,
      "overflow_x": null,
      "overflow_y": null,
      "padding": null,
      "right": null,
      "top": null,
      "visibility": null,
      "width": null
     }
    },
    "cb332a577cad49a2885d3acf4ec23d45": {
     "model_module": "@jupyter-widgets/base",
     "model_name": "LayoutModel",
     "state": {
      "_model_module": "@jupyter-widgets/base",
      "_model_module_version": "1.2.0",
      "_model_name": "LayoutModel",
      "_view_count": null,
      "_view_module": "@jupyter-widgets/base",
      "_view_module_version": "1.2.0",
      "_view_name": "LayoutView",
      "align_content": null,
      "align_items": null,
      "align_self": null,
      "border": null,
      "bottom": null,
      "display": null,
      "flex": null,
      "flex_flow": null,
      "grid_area": null,
      "grid_auto_columns": null,
      "grid_auto_flow": null,
      "grid_auto_rows": null,
      "grid_column": null,
      "grid_gap": null,
      "grid_row": null,
      "grid_template_areas": null,
      "grid_template_columns": null,
      "grid_template_rows": null,
      "height": null,
      "justify_content": null,
      "justify_items": null,
      "left": null,
      "margin": null,
      "max_height": null,
      "max_width": null,
      "min_height": null,
      "min_width": null,
      "object_fit": null,
      "object_position": null,
      "order": null,
      "overflow": null,
      "overflow_x": null,
      "overflow_y": null,
      "padding": null,
      "right": null,
      "top": null,
      "visibility": null,
      "width": null
     }
    },
    "cc7fe89fc5364bf59d0b31b426d5db2b": {
     "model_module": "@jupyter-widgets/base",
     "model_name": "LayoutModel",
     "state": {
      "_model_module": "@jupyter-widgets/base",
      "_model_module_version": "1.2.0",
      "_model_name": "LayoutModel",
      "_view_count": null,
      "_view_module": "@jupyter-widgets/base",
      "_view_module_version": "1.2.0",
      "_view_name": "LayoutView",
      "align_content": null,
      "align_items": null,
      "align_self": null,
      "border": null,
      "bottom": null,
      "display": null,
      "flex": null,
      "flex_flow": null,
      "grid_area": null,
      "grid_auto_columns": null,
      "grid_auto_flow": null,
      "grid_auto_rows": null,
      "grid_column": null,
      "grid_gap": null,
      "grid_row": null,
      "grid_template_areas": null,
      "grid_template_columns": null,
      "grid_template_rows": null,
      "height": null,
      "justify_content": null,
      "justify_items": null,
      "left": null,
      "margin": null,
      "max_height": null,
      "max_width": null,
      "min_height": null,
      "min_width": null,
      "object_fit": null,
      "object_position": null,
      "order": null,
      "overflow": null,
      "overflow_x": null,
      "overflow_y": null,
      "padding": null,
      "right": null,
      "top": null,
      "visibility": null,
      "width": null
     }
    },
    "ccb409c1029140458420de83d4766b3c": {
     "model_module": "@jupyter-widgets/base",
     "model_name": "LayoutModel",
     "state": {
      "_model_module": "@jupyter-widgets/base",
      "_model_module_version": "1.2.0",
      "_model_name": "LayoutModel",
      "_view_count": null,
      "_view_module": "@jupyter-widgets/base",
      "_view_module_version": "1.2.0",
      "_view_name": "LayoutView",
      "align_content": null,
      "align_items": null,
      "align_self": null,
      "border": null,
      "bottom": null,
      "display": null,
      "flex": null,
      "flex_flow": null,
      "grid_area": null,
      "grid_auto_columns": null,
      "grid_auto_flow": null,
      "grid_auto_rows": null,
      "grid_column": null,
      "grid_gap": null,
      "grid_row": null,
      "grid_template_areas": null,
      "grid_template_columns": null,
      "grid_template_rows": null,
      "height": null,
      "justify_content": null,
      "justify_items": null,
      "left": null,
      "margin": null,
      "max_height": null,
      "max_width": null,
      "min_height": null,
      "min_width": null,
      "object_fit": null,
      "object_position": null,
      "order": null,
      "overflow": null,
      "overflow_x": null,
      "overflow_y": null,
      "padding": null,
      "right": null,
      "top": null,
      "visibility": null,
      "width": null
     }
    },
    "cd8022b2159b45f28734089095b88ada": {
     "model_module": "@jupyter-widgets/base",
     "model_name": "LayoutModel",
     "state": {
      "_model_module": "@jupyter-widgets/base",
      "_model_module_version": "1.2.0",
      "_model_name": "LayoutModel",
      "_view_count": null,
      "_view_module": "@jupyter-widgets/base",
      "_view_module_version": "1.2.0",
      "_view_name": "LayoutView",
      "align_content": null,
      "align_items": null,
      "align_self": null,
      "border": null,
      "bottom": null,
      "display": null,
      "flex": null,
      "flex_flow": null,
      "grid_area": null,
      "grid_auto_columns": null,
      "grid_auto_flow": null,
      "grid_auto_rows": null,
      "grid_column": null,
      "grid_gap": null,
      "grid_row": null,
      "grid_template_areas": null,
      "grid_template_columns": null,
      "grid_template_rows": null,
      "height": null,
      "justify_content": null,
      "justify_items": null,
      "left": null,
      "margin": null,
      "max_height": null,
      "max_width": null,
      "min_height": null,
      "min_width": null,
      "object_fit": null,
      "object_position": null,
      "order": null,
      "overflow": null,
      "overflow_x": null,
      "overflow_y": null,
      "padding": null,
      "right": null,
      "top": null,
      "visibility": null,
      "width": null
     }
    },
    "cec4371e88ce494e8e4b53ce5732603d": {
     "model_module": "@jupyter-widgets/controls",
     "model_name": "DescriptionStyleModel",
     "state": {
      "_model_module": "@jupyter-widgets/controls",
      "_model_module_version": "1.5.0",
      "_model_name": "DescriptionStyleModel",
      "_view_count": null,
      "_view_module": "@jupyter-widgets/base",
      "_view_module_version": "1.2.0",
      "_view_name": "StyleView",
      "description_width": ""
     }
    },
    "ceee0b08c00b493696457de5208ffbf9": {
     "model_module": "@jupyter-widgets/controls",
     "model_name": "FloatProgressModel",
     "state": {
      "_dom_classes": [],
      "_model_module": "@jupyter-widgets/controls",
      "_model_module_version": "1.5.0",
      "_model_name": "FloatProgressModel",
      "_view_count": null,
      "_view_module": "@jupyter-widgets/controls",
      "_view_module_version": "1.5.0",
      "_view_name": "ProgressView",
      "bar_style": "success",
      "description": "100%",
      "description_tooltip": null,
      "layout": "IPY_MODEL_c27a6b1c72d743428b954b18cd83be04",
      "max": 119,
      "min": 0,
      "orientation": "horizontal",
      "style": "IPY_MODEL_0978823e8e6742ee83feccffcd782c69",
      "value": 119
     }
    },
    "d2d2b9d3c4b34c038b947a13516caf37": {
     "model_module": "@jupyter-widgets/controls",
     "model_name": "DescriptionStyleModel",
     "state": {
      "_model_module": "@jupyter-widgets/controls",
      "_model_module_version": "1.5.0",
      "_model_name": "DescriptionStyleModel",
      "_view_count": null,
      "_view_module": "@jupyter-widgets/base",
      "_view_module_version": "1.2.0",
      "_view_name": "StyleView",
      "description_width": ""
     }
    },
    "d4df31a8c45d42b7a64905168e796e68": {
     "model_module": "@jupyter-widgets/controls",
     "model_name": "HBoxModel",
     "state": {
      "_dom_classes": [],
      "_model_module": "@jupyter-widgets/controls",
      "_model_module_version": "1.5.0",
      "_model_name": "HBoxModel",
      "_view_count": null,
      "_view_module": "@jupyter-widgets/controls",
      "_view_module_version": "1.5.0",
      "_view_name": "HBoxView",
      "box_style": "",
      "children": [
       "IPY_MODEL_eea3f535fda74365bec7a167a32d9881",
       "IPY_MODEL_06097d9c35b5440eb5b02c8a143f2b41"
      ],
      "layout": "IPY_MODEL_25d0940ac5924a81bf532334b57fa689"
     }
    },
    "d5c125d525c248ba900980908a87c5cb": {
     "model_module": "@jupyter-widgets/base",
     "model_name": "LayoutModel",
     "state": {
      "_model_module": "@jupyter-widgets/base",
      "_model_module_version": "1.2.0",
      "_model_name": "LayoutModel",
      "_view_count": null,
      "_view_module": "@jupyter-widgets/base",
      "_view_module_version": "1.2.0",
      "_view_name": "LayoutView",
      "align_content": null,
      "align_items": null,
      "align_self": null,
      "border": null,
      "bottom": null,
      "display": null,
      "flex": null,
      "flex_flow": null,
      "grid_area": null,
      "grid_auto_columns": null,
      "grid_auto_flow": null,
      "grid_auto_rows": null,
      "grid_column": null,
      "grid_gap": null,
      "grid_row": null,
      "grid_template_areas": null,
      "grid_template_columns": null,
      "grid_template_rows": null,
      "height": null,
      "justify_content": null,
      "justify_items": null,
      "left": null,
      "margin": null,
      "max_height": null,
      "max_width": null,
      "min_height": null,
      "min_width": null,
      "object_fit": null,
      "object_position": null,
      "order": null,
      "overflow": null,
      "overflow_x": null,
      "overflow_y": null,
      "padding": null,
      "right": null,
      "top": null,
      "visibility": null,
      "width": null
     }
    },
    "d667dc09238a4acdb009f139fa505969": {
     "model_module": "@jupyter-widgets/controls",
     "model_name": "FloatProgressModel",
     "state": {
      "_dom_classes": [],
      "_model_module": "@jupyter-widgets/controls",
      "_model_module_version": "1.5.0",
      "_model_name": "FloatProgressModel",
      "_view_count": null,
      "_view_module": "@jupyter-widgets/controls",
      "_view_module_version": "1.5.0",
      "_view_name": "ProgressView",
      "bar_style": "success",
      "description": "100%",
      "description_tooltip": null,
      "layout": "IPY_MODEL_646a05835c82419688442851ef85a9bc",
      "max": 119,
      "min": 0,
      "orientation": "horizontal",
      "style": "IPY_MODEL_67d1b70dc7664975bd3e522775b9aa60",
      "value": 119
     }
    },
    "d699df18ffce4aecbb77b734924c6918": {
     "model_module": "@jupyter-widgets/base",
     "model_name": "LayoutModel",
     "state": {
      "_model_module": "@jupyter-widgets/base",
      "_model_module_version": "1.2.0",
      "_model_name": "LayoutModel",
      "_view_count": null,
      "_view_module": "@jupyter-widgets/base",
      "_view_module_version": "1.2.0",
      "_view_name": "LayoutView",
      "align_content": null,
      "align_items": null,
      "align_self": null,
      "border": null,
      "bottom": null,
      "display": null,
      "flex": null,
      "flex_flow": null,
      "grid_area": null,
      "grid_auto_columns": null,
      "grid_auto_flow": null,
      "grid_auto_rows": null,
      "grid_column": null,
      "grid_gap": null,
      "grid_row": null,
      "grid_template_areas": null,
      "grid_template_columns": null,
      "grid_template_rows": null,
      "height": null,
      "justify_content": null,
      "justify_items": null,
      "left": null,
      "margin": null,
      "max_height": null,
      "max_width": null,
      "min_height": null,
      "min_width": null,
      "object_fit": null,
      "object_position": null,
      "order": null,
      "overflow": null,
      "overflow_x": null,
      "overflow_y": null,
      "padding": null,
      "right": null,
      "top": null,
      "visibility": null,
      "width": null
     }
    },
    "d76b5be187f349b3b54d6f30df888720": {
     "model_module": "@jupyter-widgets/base",
     "model_name": "LayoutModel",
     "state": {
      "_model_module": "@jupyter-widgets/base",
      "_model_module_version": "1.2.0",
      "_model_name": "LayoutModel",
      "_view_count": null,
      "_view_module": "@jupyter-widgets/base",
      "_view_module_version": "1.2.0",
      "_view_name": "LayoutView",
      "align_content": null,
      "align_items": null,
      "align_self": null,
      "border": null,
      "bottom": null,
      "display": null,
      "flex": null,
      "flex_flow": null,
      "grid_area": null,
      "grid_auto_columns": null,
      "grid_auto_flow": null,
      "grid_auto_rows": null,
      "grid_column": null,
      "grid_gap": null,
      "grid_row": null,
      "grid_template_areas": null,
      "grid_template_columns": null,
      "grid_template_rows": null,
      "height": null,
      "justify_content": null,
      "justify_items": null,
      "left": null,
      "margin": null,
      "max_height": null,
      "max_width": null,
      "min_height": null,
      "min_width": null,
      "object_fit": null,
      "object_position": null,
      "order": null,
      "overflow": null,
      "overflow_x": null,
      "overflow_y": null,
      "padding": null,
      "right": null,
      "top": null,
      "visibility": null,
      "width": null
     }
    },
    "d78817747d42477f89a7866d83b93a1c": {
     "model_module": "@jupyter-widgets/controls",
     "model_name": "DescriptionStyleModel",
     "state": {
      "_model_module": "@jupyter-widgets/controls",
      "_model_module_version": "1.5.0",
      "_model_name": "DescriptionStyleModel",
      "_view_count": null,
      "_view_module": "@jupyter-widgets/base",
      "_view_module_version": "1.2.0",
      "_view_name": "StyleView",
      "description_width": ""
     }
    },
    "d834b43713474cc8a8934a93ce3a9d6b": {
     "model_module": "@jupyter-widgets/controls",
     "model_name": "ProgressStyleModel",
     "state": {
      "_model_module": "@jupyter-widgets/controls",
      "_model_module_version": "1.5.0",
      "_model_name": "ProgressStyleModel",
      "_view_count": null,
      "_view_module": "@jupyter-widgets/base",
      "_view_module_version": "1.2.0",
      "_view_name": "StyleView",
      "bar_color": null,
      "description_width": "initial"
     }
    },
    "d86a4fd9524145b59db481f9486ee2ef": {
     "model_module": "@jupyter-widgets/base",
     "model_name": "LayoutModel",
     "state": {
      "_model_module": "@jupyter-widgets/base",
      "_model_module_version": "1.2.0",
      "_model_name": "LayoutModel",
      "_view_count": null,
      "_view_module": "@jupyter-widgets/base",
      "_view_module_version": "1.2.0",
      "_view_name": "LayoutView",
      "align_content": null,
      "align_items": null,
      "align_self": null,
      "border": null,
      "bottom": null,
      "display": null,
      "flex": null,
      "flex_flow": null,
      "grid_area": null,
      "grid_auto_columns": null,
      "grid_auto_flow": null,
      "grid_auto_rows": null,
      "grid_column": null,
      "grid_gap": null,
      "grid_row": null,
      "grid_template_areas": null,
      "grid_template_columns": null,
      "grid_template_rows": null,
      "height": null,
      "justify_content": null,
      "justify_items": null,
      "left": null,
      "margin": null,
      "max_height": null,
      "max_width": null,
      "min_height": null,
      "min_width": null,
      "object_fit": null,
      "object_position": null,
      "order": null,
      "overflow": null,
      "overflow_x": null,
      "overflow_y": null,
      "padding": null,
      "right": null,
      "top": null,
      "visibility": null,
      "width": null
     }
    },
    "d8960034f6c34744be1f2471484b93a3": {
     "model_module": "@jupyter-widgets/base",
     "model_name": "LayoutModel",
     "state": {
      "_model_module": "@jupyter-widgets/base",
      "_model_module_version": "1.2.0",
      "_model_name": "LayoutModel",
      "_view_count": null,
      "_view_module": "@jupyter-widgets/base",
      "_view_module_version": "1.2.0",
      "_view_name": "LayoutView",
      "align_content": null,
      "align_items": null,
      "align_self": null,
      "border": null,
      "bottom": null,
      "display": null,
      "flex": null,
      "flex_flow": null,
      "grid_area": null,
      "grid_auto_columns": null,
      "grid_auto_flow": null,
      "grid_auto_rows": null,
      "grid_column": null,
      "grid_gap": null,
      "grid_row": null,
      "grid_template_areas": null,
      "grid_template_columns": null,
      "grid_template_rows": null,
      "height": null,
      "justify_content": null,
      "justify_items": null,
      "left": null,
      "margin": null,
      "max_height": null,
      "max_width": null,
      "min_height": null,
      "min_width": null,
      "object_fit": null,
      "object_position": null,
      "order": null,
      "overflow": null,
      "overflow_x": null,
      "overflow_y": null,
      "padding": null,
      "right": null,
      "top": null,
      "visibility": null,
      "width": null
     }
    },
    "d9396e3ab3af462c80bf30197cab4946": {
     "model_module": "@jupyter-widgets/base",
     "model_name": "LayoutModel",
     "state": {
      "_model_module": "@jupyter-widgets/base",
      "_model_module_version": "1.2.0",
      "_model_name": "LayoutModel",
      "_view_count": null,
      "_view_module": "@jupyter-widgets/base",
      "_view_module_version": "1.2.0",
      "_view_name": "LayoutView",
      "align_content": null,
      "align_items": null,
      "align_self": null,
      "border": null,
      "bottom": null,
      "display": null,
      "flex": null,
      "flex_flow": null,
      "grid_area": null,
      "grid_auto_columns": null,
      "grid_auto_flow": null,
      "grid_auto_rows": null,
      "grid_column": null,
      "grid_gap": null,
      "grid_row": null,
      "grid_template_areas": null,
      "grid_template_columns": null,
      "grid_template_rows": null,
      "height": null,
      "justify_content": null,
      "justify_items": null,
      "left": null,
      "margin": null,
      "max_height": null,
      "max_width": null,
      "min_height": null,
      "min_width": null,
      "object_fit": null,
      "object_position": null,
      "order": null,
      "overflow": null,
      "overflow_x": null,
      "overflow_y": null,
      "padding": null,
      "right": null,
      "top": null,
      "visibility": null,
      "width": null
     }
    },
    "dbb54cc7a5f349b2a82dcf5b408def03": {
     "model_module": "@jupyter-widgets/base",
     "model_name": "LayoutModel",
     "state": {
      "_model_module": "@jupyter-widgets/base",
      "_model_module_version": "1.2.0",
      "_model_name": "LayoutModel",
      "_view_count": null,
      "_view_module": "@jupyter-widgets/base",
      "_view_module_version": "1.2.0",
      "_view_name": "LayoutView",
      "align_content": null,
      "align_items": null,
      "align_self": null,
      "border": null,
      "bottom": null,
      "display": null,
      "flex": null,
      "flex_flow": null,
      "grid_area": null,
      "grid_auto_columns": null,
      "grid_auto_flow": null,
      "grid_auto_rows": null,
      "grid_column": null,
      "grid_gap": null,
      "grid_row": null,
      "grid_template_areas": null,
      "grid_template_columns": null,
      "grid_template_rows": null,
      "height": null,
      "justify_content": null,
      "justify_items": null,
      "left": null,
      "margin": null,
      "max_height": null,
      "max_width": null,
      "min_height": null,
      "min_width": null,
      "object_fit": null,
      "object_position": null,
      "order": null,
      "overflow": null,
      "overflow_x": null,
      "overflow_y": null,
      "padding": null,
      "right": null,
      "top": null,
      "visibility": null,
      "width": null
     }
    },
    "dbf055fef0d14134beac60986e324852": {
     "model_module": "@jupyter-widgets/controls",
     "model_name": "HTMLModel",
     "state": {
      "_dom_classes": [],
      "_model_module": "@jupyter-widgets/controls",
      "_model_module_version": "1.5.0",
      "_model_name": "HTMLModel",
      "_view_count": null,
      "_view_module": "@jupyter-widgets/controls",
      "_view_module_version": "1.5.0",
      "_view_name": "HTMLView",
      "description": "",
      "description_tooltip": null,
      "layout": "IPY_MODEL_d76b5be187f349b3b54d6f30df888720",
      "placeholder": "​",
      "style": "IPY_MODEL_bd9db8630d68415c98439870592db308",
      "value": " 60/60 [00:42&lt;00:00,  1.40it/s]"
     }
    },
    "dc174d4a8c344f389b65f3aeefa915f6": {
     "model_module": "@jupyter-widgets/controls",
     "model_name": "FloatProgressModel",
     "state": {
      "_dom_classes": [],
      "_model_module": "@jupyter-widgets/controls",
      "_model_module_version": "1.5.0",
      "_model_name": "FloatProgressModel",
      "_view_count": null,
      "_view_module": "@jupyter-widgets/controls",
      "_view_module_version": "1.5.0",
      "_view_name": "ProgressView",
      "bar_style": "success",
      "description": "100%",
      "description_tooltip": null,
      "layout": "IPY_MODEL_5a4873862f6e46fa867295b609654001",
      "max": 60,
      "min": 0,
      "orientation": "horizontal",
      "style": "IPY_MODEL_bdc9d517451c47cfb52b2d8b4c573342",
      "value": 60
     }
    },
    "dcb48cef64cb4e679d7f216c483d29d2": {
     "model_module": "@jupyter-widgets/controls",
     "model_name": "FloatProgressModel",
     "state": {
      "_dom_classes": [],
      "_model_module": "@jupyter-widgets/controls",
      "_model_module_version": "1.5.0",
      "_model_name": "FloatProgressModel",
      "_view_count": null,
      "_view_module": "@jupyter-widgets/controls",
      "_view_module_version": "1.5.0",
      "_view_name": "ProgressView",
      "bar_style": "success",
      "description": "100%",
      "description_tooltip": null,
      "layout": "IPY_MODEL_7b4622c85ae946c98aecc1b81171562e",
      "max": 60,
      "min": 0,
      "orientation": "horizontal",
      "style": "IPY_MODEL_c7df53c34c84465d98e7fef1485f5c75",
      "value": 60
     }
    },
    "dcccaf9d1f014cf39f3d63ab2b36aba3": {
     "model_module": "@jupyter-widgets/base",
     "model_name": "LayoutModel",
     "state": {
      "_model_module": "@jupyter-widgets/base",
      "_model_module_version": "1.2.0",
      "_model_name": "LayoutModel",
      "_view_count": null,
      "_view_module": "@jupyter-widgets/base",
      "_view_module_version": "1.2.0",
      "_view_name": "LayoutView",
      "align_content": null,
      "align_items": null,
      "align_self": null,
      "border": null,
      "bottom": null,
      "display": null,
      "flex": null,
      "flex_flow": null,
      "grid_area": null,
      "grid_auto_columns": null,
      "grid_auto_flow": null,
      "grid_auto_rows": null,
      "grid_column": null,
      "grid_gap": null,
      "grid_row": null,
      "grid_template_areas": null,
      "grid_template_columns": null,
      "grid_template_rows": null,
      "height": null,
      "justify_content": null,
      "justify_items": null,
      "left": null,
      "margin": null,
      "max_height": null,
      "max_width": null,
      "min_height": null,
      "min_width": null,
      "object_fit": null,
      "object_position": null,
      "order": null,
      "overflow": null,
      "overflow_x": null,
      "overflow_y": null,
      "padding": null,
      "right": null,
      "top": null,
      "visibility": null,
      "width": null
     }
    },
    "dd88f09dcf6a4f90b3b2b5d8b134bda5": {
     "model_module": "@jupyter-widgets/controls",
     "model_name": "HBoxModel",
     "state": {
      "_dom_classes": [],
      "_model_module": "@jupyter-widgets/controls",
      "_model_module_version": "1.5.0",
      "_model_name": "HBoxModel",
      "_view_count": null,
      "_view_module": "@jupyter-widgets/controls",
      "_view_module_version": "1.5.0",
      "_view_name": "HBoxView",
      "box_style": "",
      "children": [
       "IPY_MODEL_a87a91d1284d4334a91841b373be772b",
       "IPY_MODEL_10eb7f78c0db4fda8858c34becf93cae"
      ],
      "layout": "IPY_MODEL_95d33d2b4a694d4f83fbc36d3cd6e2aa"
     }
    },
    "de6926357dae4abb869feb6a71c38cd9": {
     "model_module": "@jupyter-widgets/controls",
     "model_name": "HTMLModel",
     "state": {
      "_dom_classes": [],
      "_model_module": "@jupyter-widgets/controls",
      "_model_module_version": "1.5.0",
      "_model_name": "HTMLModel",
      "_view_count": null,
      "_view_module": "@jupyter-widgets/controls",
      "_view_module_version": "1.5.0",
      "_view_name": "HTMLView",
      "description": "",
      "description_tooltip": null,
      "layout": "IPY_MODEL_37460da57dac4f30a2d65aed172d5014",
      "placeholder": "​",
      "style": "IPY_MODEL_d78817747d42477f89a7866d83b93a1c",
      "value": " 60/60 [00:43&lt;00:00,  1.38it/s]"
     }
    },
    "deb24f8810e24b25b8fb2fefb57f1206": {
     "model_module": "@jupyter-widgets/controls",
     "model_name": "DescriptionStyleModel",
     "state": {
      "_model_module": "@jupyter-widgets/controls",
      "_model_module_version": "1.5.0",
      "_model_name": "DescriptionStyleModel",
      "_view_count": null,
      "_view_module": "@jupyter-widgets/base",
      "_view_module_version": "1.2.0",
      "_view_name": "StyleView",
      "description_width": ""
     }
    },
    "e0208a9b1f7f49de89f0133b404231f2": {
     "model_module": "@jupyter-widgets/base",
     "model_name": "LayoutModel",
     "state": {
      "_model_module": "@jupyter-widgets/base",
      "_model_module_version": "1.2.0",
      "_model_name": "LayoutModel",
      "_view_count": null,
      "_view_module": "@jupyter-widgets/base",
      "_view_module_version": "1.2.0",
      "_view_name": "LayoutView",
      "align_content": null,
      "align_items": null,
      "align_self": null,
      "border": null,
      "bottom": null,
      "display": null,
      "flex": null,
      "flex_flow": null,
      "grid_area": null,
      "grid_auto_columns": null,
      "grid_auto_flow": null,
      "grid_auto_rows": null,
      "grid_column": null,
      "grid_gap": null,
      "grid_row": null,
      "grid_template_areas": null,
      "grid_template_columns": null,
      "grid_template_rows": null,
      "height": null,
      "justify_content": null,
      "justify_items": null,
      "left": null,
      "margin": null,
      "max_height": null,
      "max_width": null,
      "min_height": null,
      "min_width": null,
      "object_fit": null,
      "object_position": null,
      "order": null,
      "overflow": null,
      "overflow_x": null,
      "overflow_y": null,
      "padding": null,
      "right": null,
      "top": null,
      "visibility": null,
      "width": null
     }
    },
    "e104ff59b3b1481e85f7fb3370a31092": {
     "model_module": "@jupyter-widgets/controls",
     "model_name": "DescriptionStyleModel",
     "state": {
      "_model_module": "@jupyter-widgets/controls",
      "_model_module_version": "1.5.0",
      "_model_name": "DescriptionStyleModel",
      "_view_count": null,
      "_view_module": "@jupyter-widgets/base",
      "_view_module_version": "1.2.0",
      "_view_name": "StyleView",
      "description_width": ""
     }
    },
    "e29334b5e39b4714966ce0874dc65358": {
     "model_module": "@jupyter-widgets/controls",
     "model_name": "ProgressStyleModel",
     "state": {
      "_model_module": "@jupyter-widgets/controls",
      "_model_module_version": "1.5.0",
      "_model_name": "ProgressStyleModel",
      "_view_count": null,
      "_view_module": "@jupyter-widgets/base",
      "_view_module_version": "1.2.0",
      "_view_name": "StyleView",
      "bar_color": null,
      "description_width": "initial"
     }
    },
    "e2d8b7f988e4484fa77ee0586742c3b8": {
     "model_module": "@jupyter-widgets/controls",
     "model_name": "FloatProgressModel",
     "state": {
      "_dom_classes": [],
      "_model_module": "@jupyter-widgets/controls",
      "_model_module_version": "1.5.0",
      "_model_name": "FloatProgressModel",
      "_view_count": null,
      "_view_module": "@jupyter-widgets/controls",
      "_view_module_version": "1.5.0",
      "_view_name": "ProgressView",
      "bar_style": "success",
      "description": "100%",
      "description_tooltip": null,
      "layout": "IPY_MODEL_702729bd520240cd923de9f81d58b7f3",
      "max": 60,
      "min": 0,
      "orientation": "horizontal",
      "style": "IPY_MODEL_88c022b2c46543b7b86afbec0249e93d",
      "value": 60
     }
    },
    "e321060a60fc410bb9c870cd31ebea84": {
     "model_module": "@jupyter-widgets/controls",
     "model_name": "FloatProgressModel",
     "state": {
      "_dom_classes": [],
      "_model_module": "@jupyter-widgets/controls",
      "_model_module_version": "1.5.0",
      "_model_name": "FloatProgressModel",
      "_view_count": null,
      "_view_module": "@jupyter-widgets/controls",
      "_view_module_version": "1.5.0",
      "_view_name": "ProgressView",
      "bar_style": "success",
      "description": "PETA-New.zip: 100%",
      "description_tooltip": null,
      "layout": "IPY_MODEL_213d01bac60140a5b77c15bd46d678e7",
      "max": 19003,
      "min": 0,
      "orientation": "horizontal",
      "style": "IPY_MODEL_ab660492502f4da09c9ff9acf72660bd",
      "value": 19003
     }
    },
    "e405e97b62dd42d8b75906cd30ce5020": {
     "model_module": "@jupyter-widgets/controls",
     "model_name": "FloatProgressModel",
     "state": {
      "_dom_classes": [],
      "_model_module": "@jupyter-widgets/controls",
      "_model_module_version": "1.5.0",
      "_model_name": "FloatProgressModel",
      "_view_count": null,
      "_view_module": "@jupyter-widgets/controls",
      "_view_module_version": "1.5.0",
      "_view_name": "ProgressView",
      "bar_style": "success",
      "description": "100%",
      "description_tooltip": null,
      "layout": "IPY_MODEL_68fcc43b3eec47cd8b7f7aed8e32b2fa",
      "max": 60,
      "min": 0,
      "orientation": "horizontal",
      "style": "IPY_MODEL_9ce40aec42ea408da86190c4a2d940cb",
      "value": 60
     }
    },
    "e43b20ec42a24a818e122d4122f8df52": {
     "model_module": "@jupyter-widgets/controls",
     "model_name": "HTMLModel",
     "state": {
      "_dom_classes": [],
      "_model_module": "@jupyter-widgets/controls",
      "_model_module_version": "1.5.0",
      "_model_name": "HTMLModel",
      "_view_count": null,
      "_view_module": "@jupyter-widgets/controls",
      "_view_module_version": "1.5.0",
      "_view_name": "HTMLView",
      "description": "",
      "description_tooltip": null,
      "layout": "IPY_MODEL_813e8cbafb494b2ab5e5f13c7cced9fd",
      "placeholder": "​",
      "style": "IPY_MODEL_05b80cfdebaf4a3d9fd0da62cdf2eb70",
      "value": " 119/119 [02:31&lt;00:00,  1.27s/it]"
     }
    },
    "e52cc5b0975c410191881dc166c22dcc": {
     "model_module": "@jupyter-widgets/controls",
     "model_name": "HBoxModel",
     "state": {
      "_dom_classes": [],
      "_model_module": "@jupyter-widgets/controls",
      "_model_module_version": "1.5.0",
      "_model_name": "HBoxModel",
      "_view_count": null,
      "_view_module": "@jupyter-widgets/controls",
      "_view_module_version": "1.5.0",
      "_view_name": "HBoxView",
      "box_style": "",
      "children": [
       "IPY_MODEL_f436fd1cc0114c84a3d928ab0d8b7a26",
       "IPY_MODEL_1212705dd4944fb6a17a98021070d677"
      ],
      "layout": "IPY_MODEL_c91b5ef3cb90463c838cf329c5bb33a0"
     }
    },
    "e6f73f148b5e4830aa854b6f37173058": {
     "model_module": "@jupyter-widgets/controls",
     "model_name": "DescriptionStyleModel",
     "state": {
      "_model_module": "@jupyter-widgets/controls",
      "_model_module_version": "1.5.0",
      "_model_name": "DescriptionStyleModel",
      "_view_count": null,
      "_view_module": "@jupyter-widgets/base",
      "_view_module_version": "1.2.0",
      "_view_name": "StyleView",
      "description_width": ""
     }
    },
    "e6f75aae3e36463b953eb0d418b07786": {
     "model_module": "@jupyter-widgets/controls",
     "model_name": "FloatProgressModel",
     "state": {
      "_dom_classes": [],
      "_model_module": "@jupyter-widgets/controls",
      "_model_module_version": "1.5.0",
      "_model_name": "FloatProgressModel",
      "_view_count": null,
      "_view_module": "@jupyter-widgets/controls",
      "_view_module_version": "1.5.0",
      "_view_name": "ProgressView",
      "bar_style": "success",
      "description": "100%",
      "description_tooltip": null,
      "layout": "IPY_MODEL_cd8022b2159b45f28734089095b88ada",
      "max": 119,
      "min": 0,
      "orientation": "horizontal",
      "style": "IPY_MODEL_24a26bb345734c6f840636e51b872ee0",
      "value": 119
     }
    },
    "e8a817d062a14065832df59aff19912c": {
     "model_module": "@jupyter-widgets/base",
     "model_name": "LayoutModel",
     "state": {
      "_model_module": "@jupyter-widgets/base",
      "_model_module_version": "1.2.0",
      "_model_name": "LayoutModel",
      "_view_count": null,
      "_view_module": "@jupyter-widgets/base",
      "_view_module_version": "1.2.0",
      "_view_name": "LayoutView",
      "align_content": null,
      "align_items": null,
      "align_self": null,
      "border": null,
      "bottom": null,
      "display": null,
      "flex": null,
      "flex_flow": null,
      "grid_area": null,
      "grid_auto_columns": null,
      "grid_auto_flow": null,
      "grid_auto_rows": null,
      "grid_column": null,
      "grid_gap": null,
      "grid_row": null,
      "grid_template_areas": null,
      "grid_template_columns": null,
      "grid_template_rows": null,
      "height": null,
      "justify_content": null,
      "justify_items": null,
      "left": null,
      "margin": null,
      "max_height": null,
      "max_width": null,
      "min_height": null,
      "min_width": null,
      "object_fit": null,
      "object_position": null,
      "order": null,
      "overflow": null,
      "overflow_x": null,
      "overflow_y": null,
      "padding": null,
      "right": null,
      "top": null,
      "visibility": null,
      "width": null
     }
    },
    "e9bdd11e3e3341069fe002aa987e74c1": {
     "model_module": "@jupyter-widgets/controls",
     "model_name": "FloatProgressModel",
     "state": {
      "_dom_classes": [],
      "_model_module": "@jupyter-widgets/controls",
      "_model_module_version": "1.5.0",
      "_model_name": "FloatProgressModel",
      "_view_count": null,
      "_view_module": "@jupyter-widgets/controls",
      "_view_module_version": "1.5.0",
      "_view_name": "ProgressView",
      "bar_style": "success",
      "description": "100%",
      "description_tooltip": null,
      "layout": "IPY_MODEL_27117b32700b456795e7008ae1293d20",
      "max": 119,
      "min": 0,
      "orientation": "horizontal",
      "style": "IPY_MODEL_9134affc72d54f98ba74a5a0c2d6a7ac",
      "value": 119
     }
    },
    "eb1b4cdb876f48faa56626cc8e81a82b": {
     "model_module": "@jupyter-widgets/base",
     "model_name": "LayoutModel",
     "state": {
      "_model_module": "@jupyter-widgets/base",
      "_model_module_version": "1.2.0",
      "_model_name": "LayoutModel",
      "_view_count": null,
      "_view_module": "@jupyter-widgets/base",
      "_view_module_version": "1.2.0",
      "_view_name": "LayoutView",
      "align_content": null,
      "align_items": null,
      "align_self": null,
      "border": null,
      "bottom": null,
      "display": null,
      "flex": null,
      "flex_flow": null,
      "grid_area": null,
      "grid_auto_columns": null,
      "grid_auto_flow": null,
      "grid_auto_rows": null,
      "grid_column": null,
      "grid_gap": null,
      "grid_row": null,
      "grid_template_areas": null,
      "grid_template_columns": null,
      "grid_template_rows": null,
      "height": null,
      "justify_content": null,
      "justify_items": null,
      "left": null,
      "margin": null,
      "max_height": null,
      "max_width": null,
      "min_height": null,
      "min_width": null,
      "object_fit": null,
      "object_position": null,
      "order": null,
      "overflow": null,
      "overflow_x": null,
      "overflow_y": null,
      "padding": null,
      "right": null,
      "top": null,
      "visibility": null,
      "width": null
     }
    },
    "eb363b94b0b6439391e384bb8eab3930": {
     "model_module": "@jupyter-widgets/controls",
     "model_name": "DescriptionStyleModel",
     "state": {
      "_model_module": "@jupyter-widgets/controls",
      "_model_module_version": "1.5.0",
      "_model_name": "DescriptionStyleModel",
      "_view_count": null,
      "_view_module": "@jupyter-widgets/base",
      "_view_module_version": "1.2.0",
      "_view_name": "StyleView",
      "description_width": ""
     }
    },
    "ec4fab2fcc694d9bb4583227697ed9c4": {
     "model_module": "@jupyter-widgets/base",
     "model_name": "LayoutModel",
     "state": {
      "_model_module": "@jupyter-widgets/base",
      "_model_module_version": "1.2.0",
      "_model_name": "LayoutModel",
      "_view_count": null,
      "_view_module": "@jupyter-widgets/base",
      "_view_module_version": "1.2.0",
      "_view_name": "LayoutView",
      "align_content": null,
      "align_items": null,
      "align_self": null,
      "border": null,
      "bottom": null,
      "display": null,
      "flex": null,
      "flex_flow": null,
      "grid_area": null,
      "grid_auto_columns": null,
      "grid_auto_flow": null,
      "grid_auto_rows": null,
      "grid_column": null,
      "grid_gap": null,
      "grid_row": null,
      "grid_template_areas": null,
      "grid_template_columns": null,
      "grid_template_rows": null,
      "height": null,
      "justify_content": null,
      "justify_items": null,
      "left": null,
      "margin": null,
      "max_height": null,
      "max_width": null,
      "min_height": null,
      "min_width": null,
      "object_fit": null,
      "object_position": null,
      "order": null,
      "overflow": null,
      "overflow_x": null,
      "overflow_y": null,
      "padding": null,
      "right": null,
      "top": null,
      "visibility": null,
      "width": null
     }
    },
    "eccaea7366f14f8986e2d3585fa3f74a": {
     "model_module": "@jupyter-widgets/base",
     "model_name": "LayoutModel",
     "state": {
      "_model_module": "@jupyter-widgets/base",
      "_model_module_version": "1.2.0",
      "_model_name": "LayoutModel",
      "_view_count": null,
      "_view_module": "@jupyter-widgets/base",
      "_view_module_version": "1.2.0",
      "_view_name": "LayoutView",
      "align_content": null,
      "align_items": null,
      "align_self": null,
      "border": null,
      "bottom": null,
      "display": null,
      "flex": null,
      "flex_flow": null,
      "grid_area": null,
      "grid_auto_columns": null,
      "grid_auto_flow": null,
      "grid_auto_rows": null,
      "grid_column": null,
      "grid_gap": null,
      "grid_row": null,
      "grid_template_areas": null,
      "grid_template_columns": null,
      "grid_template_rows": null,
      "height": null,
      "justify_content": null,
      "justify_items": null,
      "left": null,
      "margin": null,
      "max_height": null,
      "max_width": null,
      "min_height": null,
      "min_width": null,
      "object_fit": null,
      "object_position": null,
      "order": null,
      "overflow": null,
      "overflow_x": null,
      "overflow_y": null,
      "padding": null,
      "right": null,
      "top": null,
      "visibility": null,
      "width": null
     }
    },
    "edd677d54c1a41e790fc972503620174": {
     "model_module": "@jupyter-widgets/base",
     "model_name": "LayoutModel",
     "state": {
      "_model_module": "@jupyter-widgets/base",
      "_model_module_version": "1.2.0",
      "_model_name": "LayoutModel",
      "_view_count": null,
      "_view_module": "@jupyter-widgets/base",
      "_view_module_version": "1.2.0",
      "_view_name": "LayoutView",
      "align_content": null,
      "align_items": null,
      "align_self": null,
      "border": null,
      "bottom": null,
      "display": null,
      "flex": null,
      "flex_flow": null,
      "grid_area": null,
      "grid_auto_columns": null,
      "grid_auto_flow": null,
      "grid_auto_rows": null,
      "grid_column": null,
      "grid_gap": null,
      "grid_row": null,
      "grid_template_areas": null,
      "grid_template_columns": null,
      "grid_template_rows": null,
      "height": null,
      "justify_content": null,
      "justify_items": null,
      "left": null,
      "margin": null,
      "max_height": null,
      "max_width": null,
      "min_height": null,
      "min_width": null,
      "object_fit": null,
      "object_position": null,
      "order": null,
      "overflow": null,
      "overflow_x": null,
      "overflow_y": null,
      "padding": null,
      "right": null,
      "top": null,
      "visibility": null,
      "width": null
     }
    },
    "ee406aba43844122a27a2b3e5349d6ff": {
     "model_module": "@jupyter-widgets/controls",
     "model_name": "ProgressStyleModel",
     "state": {
      "_model_module": "@jupyter-widgets/controls",
      "_model_module_version": "1.5.0",
      "_model_name": "ProgressStyleModel",
      "_view_count": null,
      "_view_module": "@jupyter-widgets/base",
      "_view_module_version": "1.2.0",
      "_view_name": "StyleView",
      "bar_color": null,
      "description_width": "initial"
     }
    },
    "ee9f9396d9a94747a62dffad115c0eb6": {
     "model_module": "@jupyter-widgets/controls",
     "model_name": "ProgressStyleModel",
     "state": {
      "_model_module": "@jupyter-widgets/controls",
      "_model_module_version": "1.5.0",
      "_model_name": "ProgressStyleModel",
      "_view_count": null,
      "_view_module": "@jupyter-widgets/base",
      "_view_module_version": "1.2.0",
      "_view_name": "StyleView",
      "bar_color": null,
      "description_width": "initial"
     }
    },
    "eea3f535fda74365bec7a167a32d9881": {
     "model_module": "@jupyter-widgets/controls",
     "model_name": "FloatProgressModel",
     "state": {
      "_dom_classes": [],
      "_model_module": "@jupyter-widgets/controls",
      "_model_module_version": "1.5.0",
      "_model_name": "FloatProgressModel",
      "_view_count": null,
      "_view_module": "@jupyter-widgets/controls",
      "_view_module_version": "1.5.0",
      "_view_name": "ProgressView",
      "bar_style": "success",
      "description": "100%",
      "description_tooltip": null,
      "layout": "IPY_MODEL_0b9a1a474df94f66be2bf844eb6be64f",
      "max": 60,
      "min": 0,
      "orientation": "horizontal",
      "style": "IPY_MODEL_38091d80ed0947f5b66d749f01d267f3",
      "value": 60
     }
    },
    "ef2c735efb3349bdbecf0321628859e9": {
     "model_module": "@jupyter-widgets/controls",
     "model_name": "FloatProgressModel",
     "state": {
      "_dom_classes": [],
      "_model_module": "@jupyter-widgets/controls",
      "_model_module_version": "1.5.0",
      "_model_name": "FloatProgressModel",
      "_view_count": null,
      "_view_module": "@jupyter-widgets/controls",
      "_view_module_version": "1.5.0",
      "_view_name": "ProgressView",
      "bar_style": "success",
      "description": "100%",
      "description_tooltip": null,
      "layout": "IPY_MODEL_ccb409c1029140458420de83d4766b3c",
      "max": 119,
      "min": 0,
      "orientation": "horizontal",
      "style": "IPY_MODEL_ee9f9396d9a94747a62dffad115c0eb6",
      "value": 119
     }
    },
    "f023c12a91854a6f8baae60c9d1e5957": {
     "model_module": "@jupyter-widgets/controls",
     "model_name": "DescriptionStyleModel",
     "state": {
      "_model_module": "@jupyter-widgets/controls",
      "_model_module_version": "1.5.0",
      "_model_name": "DescriptionStyleModel",
      "_view_count": null,
      "_view_module": "@jupyter-widgets/base",
      "_view_module_version": "1.2.0",
      "_view_name": "StyleView",
      "description_width": ""
     }
    },
    "f0b68beeb160491ba7430582cff5d9ca": {
     "model_module": "@jupyter-widgets/controls",
     "model_name": "ProgressStyleModel",
     "state": {
      "_model_module": "@jupyter-widgets/controls",
      "_model_module_version": "1.5.0",
      "_model_name": "ProgressStyleModel",
      "_view_count": null,
      "_view_module": "@jupyter-widgets/base",
      "_view_module_version": "1.2.0",
      "_view_name": "StyleView",
      "bar_color": null,
      "description_width": "initial"
     }
    },
    "f1179f88e37a4a30975ef356e9ce4463": {
     "model_module": "@jupyter-widgets/base",
     "model_name": "LayoutModel",
     "state": {
      "_model_module": "@jupyter-widgets/base",
      "_model_module_version": "1.2.0",
      "_model_name": "LayoutModel",
      "_view_count": null,
      "_view_module": "@jupyter-widgets/base",
      "_view_module_version": "1.2.0",
      "_view_name": "LayoutView",
      "align_content": null,
      "align_items": null,
      "align_self": null,
      "border": null,
      "bottom": null,
      "display": null,
      "flex": null,
      "flex_flow": null,
      "grid_area": null,
      "grid_auto_columns": null,
      "grid_auto_flow": null,
      "grid_auto_rows": null,
      "grid_column": null,
      "grid_gap": null,
      "grid_row": null,
      "grid_template_areas": null,
      "grid_template_columns": null,
      "grid_template_rows": null,
      "height": null,
      "justify_content": null,
      "justify_items": null,
      "left": null,
      "margin": null,
      "max_height": null,
      "max_width": null,
      "min_height": null,
      "min_width": null,
      "object_fit": null,
      "object_position": null,
      "order": null,
      "overflow": null,
      "overflow_x": null,
      "overflow_y": null,
      "padding": null,
      "right": null,
      "top": null,
      "visibility": null,
      "width": null
     }
    },
    "f436fd1cc0114c84a3d928ab0d8b7a26": {
     "model_module": "@jupyter-widgets/controls",
     "model_name": "FloatProgressModel",
     "state": {
      "_dom_classes": [],
      "_model_module": "@jupyter-widgets/controls",
      "_model_module_version": "1.5.0",
      "_model_name": "FloatProgressModel",
      "_view_count": null,
      "_view_module": "@jupyter-widgets/controls",
      "_view_module_version": "1.5.0",
      "_view_name": "ProgressView",
      "bar_style": "success",
      "description": "100%",
      "description_tooltip": null,
      "layout": "IPY_MODEL_d699df18ffce4aecbb77b734924c6918",
      "max": 60,
      "min": 0,
      "orientation": "horizontal",
      "style": "IPY_MODEL_8bb465a453d949bdaf044d59714c5624",
      "value": 60
     }
    },
    "f616d08eb52846698e97c118e6d6bd50": {
     "model_module": "@jupyter-widgets/base",
     "model_name": "LayoutModel",
     "state": {
      "_model_module": "@jupyter-widgets/base",
      "_model_module_version": "1.2.0",
      "_model_name": "LayoutModel",
      "_view_count": null,
      "_view_module": "@jupyter-widgets/base",
      "_view_module_version": "1.2.0",
      "_view_name": "LayoutView",
      "align_content": null,
      "align_items": null,
      "align_self": null,
      "border": null,
      "bottom": null,
      "display": null,
      "flex": null,
      "flex_flow": null,
      "grid_area": null,
      "grid_auto_columns": null,
      "grid_auto_flow": null,
      "grid_auto_rows": null,
      "grid_column": null,
      "grid_gap": null,
      "grid_row": null,
      "grid_template_areas": null,
      "grid_template_columns": null,
      "grid_template_rows": null,
      "height": null,
      "justify_content": null,
      "justify_items": null,
      "left": null,
      "margin": null,
      "max_height": null,
      "max_width": null,
      "min_height": null,
      "min_width": null,
      "object_fit": null,
      "object_position": null,
      "order": null,
      "overflow": null,
      "overflow_x": null,
      "overflow_y": null,
      "padding": null,
      "right": null,
      "top": null,
      "visibility": null,
      "width": null
     }
    },
    "f746860c77414fbe9d3f525f1bbd4179": {
     "model_module": "@jupyter-widgets/base",
     "model_name": "LayoutModel",
     "state": {
      "_model_module": "@jupyter-widgets/base",
      "_model_module_version": "1.2.0",
      "_model_name": "LayoutModel",
      "_view_count": null,
      "_view_module": "@jupyter-widgets/base",
      "_view_module_version": "1.2.0",
      "_view_name": "LayoutView",
      "align_content": null,
      "align_items": null,
      "align_self": null,
      "border": null,
      "bottom": null,
      "display": null,
      "flex": null,
      "flex_flow": null,
      "grid_area": null,
      "grid_auto_columns": null,
      "grid_auto_flow": null,
      "grid_auto_rows": null,
      "grid_column": null,
      "grid_gap": null,
      "grid_row": null,
      "grid_template_areas": null,
      "grid_template_columns": null,
      "grid_template_rows": null,
      "height": null,
      "justify_content": null,
      "justify_items": null,
      "left": null,
      "margin": null,
      "max_height": null,
      "max_width": null,
      "min_height": null,
      "min_width": null,
      "object_fit": null,
      "object_position": null,
      "order": null,
      "overflow": null,
      "overflow_x": null,
      "overflow_y": null,
      "padding": null,
      "right": null,
      "top": null,
      "visibility": null,
      "width": null
     }
    },
    "f8c6802bce5a43c69f1276d6d2e46df1": {
     "model_module": "@jupyter-widgets/base",
     "model_name": "LayoutModel",
     "state": {
      "_model_module": "@jupyter-widgets/base",
      "_model_module_version": "1.2.0",
      "_model_name": "LayoutModel",
      "_view_count": null,
      "_view_module": "@jupyter-widgets/base",
      "_view_module_version": "1.2.0",
      "_view_name": "LayoutView",
      "align_content": null,
      "align_items": null,
      "align_self": null,
      "border": null,
      "bottom": null,
      "display": null,
      "flex": null,
      "flex_flow": null,
      "grid_area": null,
      "grid_auto_columns": null,
      "grid_auto_flow": null,
      "grid_auto_rows": null,
      "grid_column": null,
      "grid_gap": null,
      "grid_row": null,
      "grid_template_areas": null,
      "grid_template_columns": null,
      "grid_template_rows": null,
      "height": null,
      "justify_content": null,
      "justify_items": null,
      "left": null,
      "margin": null,
      "max_height": null,
      "max_width": null,
      "min_height": null,
      "min_width": null,
      "object_fit": null,
      "object_position": null,
      "order": null,
      "overflow": null,
      "overflow_x": null,
      "overflow_y": null,
      "padding": null,
      "right": null,
      "top": null,
      "visibility": null,
      "width": null
     }
    },
    "f8cadf371bc34f41aeb9b264f379a09b": {
     "model_module": "@jupyter-widgets/controls",
     "model_name": "HTMLModel",
     "state": {
      "_dom_classes": [],
      "_model_module": "@jupyter-widgets/controls",
      "_model_module_version": "1.5.0",
      "_model_name": "HTMLModel",
      "_view_count": null,
      "_view_module": "@jupyter-widgets/controls",
      "_view_module_version": "1.5.0",
      "_view_name": "HTMLView",
      "description": "",
      "description_tooltip": null,
      "layout": "IPY_MODEL_ab93c51861814bc6816d83f5d08a1ffa",
      "placeholder": "​",
      "style": "IPY_MODEL_0e936e091464497a9b0957124497c4a2",
      "value": " 60/60 [00:30&lt;00:00,  1.98it/s]"
     }
    },
    "f9e18d30562a4ecea6c87dc05ccab5c0": {
     "model_module": "@jupyter-widgets/controls",
     "model_name": "DescriptionStyleModel",
     "state": {
      "_model_module": "@jupyter-widgets/controls",
      "_model_module_version": "1.5.0",
      "_model_name": "DescriptionStyleModel",
      "_view_count": null,
      "_view_module": "@jupyter-widgets/base",
      "_view_module_version": "1.2.0",
      "_view_name": "StyleView",
      "description_width": ""
     }
    },
    "fc3fb70297354d32ac2cd34f8d67e003": {
     "model_module": "@jupyter-widgets/controls",
     "model_name": "HBoxModel",
     "state": {
      "_dom_classes": [],
      "_model_module": "@jupyter-widgets/controls",
      "_model_module_version": "1.5.0",
      "_model_name": "HBoxModel",
      "_view_count": null,
      "_view_module": "@jupyter-widgets/controls",
      "_view_module_version": "1.5.0",
      "_view_name": "HBoxView",
      "box_style": "",
      "children": [
       "IPY_MODEL_d667dc09238a4acdb009f139fa505969",
       "IPY_MODEL_25277686dab44337b0955b82865423c3"
      ],
      "layout": "IPY_MODEL_d9396e3ab3af462c80bf30197cab4946"
     }
    },
    "fdc8c8e2676c455c86dbb4d55c515ea7": {
     "model_module": "@jupyter-widgets/controls",
     "model_name": "HBoxModel",
     "state": {
      "_dom_classes": [],
      "_model_module": "@jupyter-widgets/controls",
      "_model_module_version": "1.5.0",
      "_model_name": "HBoxModel",
      "_view_count": null,
      "_view_module": "@jupyter-widgets/controls",
      "_view_module_version": "1.5.0",
      "_view_name": "HBoxView",
      "box_style": "",
      "children": [
       "IPY_MODEL_0f10f902140a45388c75d3b5bacfe232",
       "IPY_MODEL_9f69fa91950b497eb6af919e2dee8dd9"
      ],
      "layout": "IPY_MODEL_1aa9fc9a171c471684842902899b097d"
     }
    },
    "ff2fcc2f3f2342a0a4668ff5e1a7ca96": {
     "model_module": "@jupyter-widgets/base",
     "model_name": "LayoutModel",
     "state": {
      "_model_module": "@jupyter-widgets/base",
      "_model_module_version": "1.2.0",
      "_model_name": "LayoutModel",
      "_view_count": null,
      "_view_module": "@jupyter-widgets/base",
      "_view_module_version": "1.2.0",
      "_view_name": "LayoutView",
      "align_content": null,
      "align_items": null,
      "align_self": null,
      "border": null,
      "bottom": null,
      "display": null,
      "flex": null,
      "flex_flow": null,
      "grid_area": null,
      "grid_auto_columns": null,
      "grid_auto_flow": null,
      "grid_auto_rows": null,
      "grid_column": null,
      "grid_gap": null,
      "grid_row": null,
      "grid_template_areas": null,
      "grid_template_columns": null,
      "grid_template_rows": null,
      "height": null,
      "justify_content": null,
      "justify_items": null,
      "left": null,
      "margin": null,
      "max_height": null,
      "max_width": null,
      "min_height": null,
      "min_width": null,
      "object_fit": null,
      "object_position": null,
      "order": null,
      "overflow": null,
      "overflow_x": null,
      "overflow_y": null,
      "padding": null,
      "right": null,
      "top": null,
      "visibility": null,
      "width": null
     }
    }
   }
  }
 },
 "nbformat": 4,
 "nbformat_minor": 1
}
