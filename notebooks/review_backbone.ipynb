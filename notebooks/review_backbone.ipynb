{
 "metadata": {
  "language_info": {
   "codemirror_mode": {
    "name": "ipython",
    "version": 3
   },
   "file_extension": ".py",
   "mimetype": "text/x-python",
   "name": "python",
   "nbconvert_exporter": "python",
   "pygments_lexer": "ipython3",
   "version": "3.6.12-final"
  },
  "orig_nbformat": 2,
  "kernelspec": {
   "name": "Python 3.6.12 64-bit ('reid')",
   "display_name": "Python 3.6.12 64-bit ('reid')",
   "metadata": {
    "interpreter": {
     "hash": "8e6ea4c05c38c2660419e3a4f5f536b6ef8d166bfdd9165eba0b24cb5fe21143"
    }
   }
  }
 },
 "nbformat": 4,
 "nbformat_minor": 2,
 "cells": [
  {
   "cell_type": "code",
   "execution_count": 2,
   "metadata": {
    "tags": []
   },
   "outputs": [
    {
     "output_type": "stream",
     "name": "stdout",
     "text": "/home/hien/Documents/models/person_attribute_recognition\n"
    }
   ],
   "source": [
    "%cd .."
   ]
  },
  {
   "cell_type": "code",
   "execution_count": 3,
   "metadata": {},
   "outputs": [],
   "source": [
    "import timm\n",
    "import torch\n",
    "import torch.nn as nn\n",
    "from utils import summary"
   ]
  },
  {
   "cell_type": "code",
   "execution_count": 4,
   "metadata": {},
   "outputs": [],
   "source": [
    "class TimmModel(nn.Module):\n",
    "    def __init__(self, name, pretrained=True):\n",
    "        super(TimmModel, self).__init__()\n",
    "        self.feature_extractor = timm.create_model(name, pretrained=pretrained)\n",
    "\n",
    "    def forward(self, x):\n",
    "        return self.feature_extractor.forward_features(x)"
   ]
  },
  {
   "cell_type": "code",
   "execution_count": 5,
   "metadata": {
    "tags": []
   },
   "outputs": [
    {
     "output_type": "stream",
     "name": "stdout",
     "text": "==========================================================================================\nLayer (type:depth-idx)                   Output Shape              Param #\n==========================================================================================\n├─ResNet: 1                              []                        --\n|    └─Conv2d: 2-1                       [64, 64, 128, 64]         9,408\n|    └─BatchNorm2d: 2-2                  [64, 64, 128, 64]         128\n|    └─ReLU: 2-3                         [64, 64, 128, 64]         --\n|    └─MaxPool2d: 2-4                    [64, 64, 64, 32]          --\n|    └─Sequential: 2-5                   [64, 256, 64, 32]         --\n|    |    └─Bottleneck: 3-1              [64, 256, 64, 32]         75,008\n|    |    └─Bottleneck: 3-2              [64, 256, 64, 32]         70,400\n|    |    └─Bottleneck: 3-3              [64, 256, 64, 32]         70,400\n|    └─Sequential: 2-6                   [64, 512, 32, 16]         --\n|    |    └─Bottleneck: 3-4              [64, 512, 32, 16]         379,392\n|    |    └─Bottleneck: 3-5              [64, 512, 32, 16]         280,064\n|    |    └─Bottleneck: 3-6              [64, 512, 32, 16]         280,064\n|    |    └─Bottleneck: 3-7              [64, 512, 32, 16]         280,064\n|    └─Sequential: 2-7                   [64, 1024, 16, 8]         --\n|    |    └─Bottleneck: 3-8              [64, 1024, 16, 8]         1,512,448\n|    |    └─Bottleneck: 3-9              [64, 1024, 16, 8]         1,117,184\n|    |    └─Bottleneck: 3-10             [64, 1024, 16, 8]         1,117,184\n|    |    └─Bottleneck: 3-11             [64, 1024, 16, 8]         1,117,184\n|    |    └─Bottleneck: 3-12             [64, 1024, 16, 8]         1,117,184\n|    |    └─Bottleneck: 3-13             [64, 1024, 16, 8]         1,117,184\n|    └─Sequential: 2-8                   [64, 2048, 8, 4]          --\n|    |    └─Bottleneck: 3-14             [64, 2048, 8, 4]          6,039,552\n|    |    └─Bottleneck: 3-15             [64, 2048, 8, 4]          4,462,592\n|    |    └─Bottleneck: 3-16             [64, 2048, 8, 4]          4,462,592\n==========================================================================================\nTotal params: 23,508,032\nTrainable params: 23,508,032\nNon-trainable params: 0\nTotal mult-adds (G): 2.48\n==========================================================================================\nInput size (MB): 24.00\nForward/backward pass size (MB): 6128.00\nParams size (MB): 89.68\nEstimated Total Size (MB): 6241.68\n==========================================================================================\n"
    }
   ],
   "source": [
    "model = TimmModel('resnet50')\n",
    "result = summary(model, torch.zeros(64, 3, 256, 128), batch_dim=None, print_step=True)"
   ]
  },
  {
   "cell_type": "code",
   "execution_count": 4,
   "metadata": {
    "tags": []
   },
   "outputs": [
    {
     "output_type": "stream",
     "name": "stdout",
     "text": "===============================================================================================\nTotal params: 1,905,828\nTrainable params: 1,905,828\nNon-trainable params: 0\nTotal mult-adds (M): 678.62\n===============================================================================================\nInput size (MB): 24.00\nForward/backward pass size (MB): 4544.30\nParams size (MB): 7.27\nEstimated Total Size (MB): 4575.57\n===============================================================================================\n"
    }
   ],
   "source": [
    "model, _ = build_backbone(name='osnet', pretrained=False, progress=True)\n",
    "result = summary(model, torch.zeros(64, 3, 256, 128), batch_dim=None, print_step=False)"
   ]
  },
  {
   "cell_type": "code",
   "execution_count": null,
   "metadata": {},
   "outputs": [],
   "source": []
  }
 ]
}